{
 "cells": [
  {
   "cell_type": "code",
   "execution_count": 1,
   "metadata": {},
   "outputs": [
    {
     "name": "stdout",
     "output_type": "stream",
     "text": [
      "/home/soda/rcappuzz/work/benchmark-join-suggestions\n"
     ]
    }
   ],
   "source": [
    "cd ~/bench"
   ]
  },
  {
   "cell_type": "code",
   "execution_count": 43,
   "metadata": {},
   "outputs": [],
   "source": [
    "import polars as pl\n",
    "from pathlib import Path\n",
    "import polars.selectors as cs\n",
    "from tqdm import tqdm"
   ]
  },
  {
   "cell_type": "code",
   "execution_count": 7,
   "metadata": {},
   "outputs": [],
   "source": [
    "path_wordnet = Path(\"data/yadl/wordnet_full/\")\n",
    "path_wordnet_vldb = Path(\"data/yadl/wordnet_vldb/\")\n",
    "path_wordnet_vldb_wide = Path(\"data/yadl/wordnet_vldb_wide/\")\n",
    "path_binary = Path(\"data/yadl/binary_update/\")\n",
    "path_open_data = Path(\"data/open_data_us/\")"
   ]
  },
  {
   "cell_type": "code",
   "execution_count": 29,
   "metadata": {},
   "outputs": [],
   "source": [
    "def table_profile(table_path, data_lake):\n",
    "    df = pl.read_parquet(table_path)\n",
    "    n_num = df.select(cs.numeric()).shape[1]\n",
    "    c_num = df.select(~cs.numeric()).shape[1]\n",
    "    if len(df)> 0:\n",
    "        avg_null = df.null_count().mean_horizontal().item()/len(df)\n",
    "        avg_null = 0\n",
    "        # avg_null = df.null_count().mean_horizontal().item()/len(df)\n",
    "    else:\n",
    "        avg_null = 0\n",
    "    d = {\"data_lake\": data_lake, \"table\": table_path.stem, \"num_attr\": n_num, \"cat_attr\": c_num, \"n_rows\":len(df), \"n_cols\": len(df.columns), \"avg_null\":avg_null}\n",
    "\n",
    "    return d"
   ]
  },
  {
   "cell_type": "code",
   "execution_count": 30,
   "metadata": {},
   "outputs": [],
   "source": [
    "def get_stats(df: pl.DataFrame):\n",
    "    return df.select(\n",
    "        pl.col(\"data_lake\").first(),\n",
    "        pl.col(\"n_tables\").first(),\n",
    "        pl.col(\"num_attr\").mean().alias(\"mean_num_attr\"),\n",
    "        pl.col(\"num_attr\").median().alias(\"median_num_attr\"),\n",
    "        pl.col(\"cat_attr\").mean().alias(\"mean_cat_attr\"),\n",
    "        pl.col(\"cat_attr\").median().alias(\"median_cat_attr\"),\n",
    "        pl.col(\"n_rows\").mean().alias(\"mean_n_rows\"),\n",
    "        pl.col(\"n_rows\").median().alias(\"median_n_rows\"),\n",
    "        pl.col(\"n_cols\").mean().alias(\"mean_n_cols\"),\n",
    "        pl.col(\"n_cols\").median().alias(\"median_n_cols\"),\n",
    "        pl.col(\"avg_null\").mean().alias(\"mean_avg_null\"),\n",
    "        pl.col(\"avg_null\").median().alias(\"median_avg_null\"),\n",
    "    )"
   ]
  },
  {
   "cell_type": "code",
   "execution_count": 31,
   "metadata": {},
   "outputs": [],
   "source": [
    "stats =[ ]"
   ]
  },
  {
   "cell_type": "code",
   "execution_count": 41,
   "metadata": {},
   "outputs": [],
   "source": [
    "profiles = []\n",
    "for tab in path_wordnet_vldb.glob('**/*.parquet'):\n",
    "    d= table_profile(tab, \"vldb\")\n",
    "    profiles.append(d)\n",
    "df = pl.from_dicts(profiles).with_columns(pl.lit(len(profiles)).alias(\"n_tables\"))\n",
    "stats.append(get_stats(df))"
   ]
  },
  {
   "cell_type": "code",
   "execution_count": 42,
   "metadata": {},
   "outputs": [
    {
     "data": {
      "text/plain": [
       "50112"
      ]
     },
     "execution_count": 42,
     "metadata": {},
     "output_type": "execute_result"
    }
   ],
   "source": []
  },
  {
   "cell_type": "code",
   "execution_count": 44,
   "metadata": {},
   "outputs": [
    {
     "name": "stderr",
     "output_type": "stream",
     "text": [
      "100%|██████████| 50112/50112 [05:24<00:00, 154.57it/s] \n"
     ]
    }
   ],
   "source": [
    "profiles = []\n",
    "for tab in tqdm(path_wordnet_vldb_wide.glob('**/*.parquet'), total=sum( 1 for _ in path_wordnet_vldb_wide.glob('**/*.parquet'))):\n",
    "    d= table_profile(tab, \"vldb\")\n",
    "    profiles.append(d)\n",
    "df = pl.from_dicts(profiles).with_columns(pl.lit(len(profiles)).alias(\"n_tables\"))\n",
    "stats.append(get_stats(df))"
   ]
  },
  {
   "cell_type": "code",
   "execution_count": 17,
   "metadata": {},
   "outputs": [],
   "source": [
    "profiles = []\n",
    "for tab in path_binary.glob('**/*.parquet'):\n",
    "    d= table_profile(tab, \"binary\")\n",
    "    profiles.append(d)\n",
    "df = pl.from_dicts(profiles)\n",
    "stats.append(get_stats(df))"
   ]
  },
  {
   "cell_type": "code",
   "execution_count": 48,
   "metadata": {},
   "outputs": [],
   "source": [
    "profiles = []\n",
    "for tab in path_open_data.glob('**/*.parquet'):\n",
    "    d= table_profile(tab, \"open_data_us\")\n",
    "    profiles.append(d)\n",
    "df = pl.from_dicts(profiles).with_columns(pl.lit(len(profiles)).alias(\"n_tables\"))\n",
    "stats.append(get_stats(df))"
   ]
  },
  {
   "cell_type": "code",
   "execution_count": 52,
   "metadata": {},
   "outputs": [],
   "source": [
    "profiles = []\n",
    "for tab in path_wordnet.glob('**/*.parquet'):\n",
    "    d= table_profile(tab, \"wordnet\")\n",
    "    profiles.append(d)\n",
    "df = pl.from_dicts(profiles).with_columns(pl.lit(len(profiles)).alias(\"n_tables\"))\n",
    "stats.append(get_stats(df))"
   ]
  },
  {
   "cell_type": "code",
   "execution_count": 53,
   "metadata": {},
   "outputs": [],
   "source": [
    "df_stats = pl.concat(stats)"
   ]
  },
  {
   "cell_type": "code",
   "execution_count": 58,
   "metadata": {},
   "outputs": [
    {
     "data": {
      "text/html": [
       "<div><style>\n",
       ".dataframe > thead > tr,\n",
       ".dataframe > tbody > tr {\n",
       "  text-align: right;\n",
       "  white-space: pre-wrap;\n",
       "}\n",
       "</style>\n",
       "<small>shape: (5, 12)</small><table border=\"1\" class=\"dataframe\"><thead><tr><th>data_lake</th><th>n_tables</th><th>mean_num_attr</th><th>median_num_attr</th><th>mean_cat_attr</th><th>median_cat_attr</th><th>mean_n_rows</th><th>median_n_rows</th><th>mean_n_cols</th><th>median_n_cols</th><th>mean_avg_null</th><th>median_avg_null</th></tr><tr><td>str</td><td>i32</td><td>f64</td><td>f64</td><td>f64</td><td>f64</td><td>f64</td><td>f64</td><td>f64</td><td>f64</td><td>f64</td><td>f64</td></tr></thead><tbody><tr><td>&quot;vldb&quot;</td><td>869</td><td>1.761795</td><td>2.0</td><td>6.433832</td><td>4.0</td><td>9220.859609</td><td>74.0</td><td>8.195627</td><td>6.0</td><td>0.0</td><td>0.0</td></tr><tr><td>&quot;vldb&quot;</td><td>869</td><td>1.761795</td><td>2.0</td><td>6.433832</td><td>4.0</td><td>9220.859609</td><td>74.0</td><td>8.195627</td><td>6.0</td><td>0.0</td><td>0.0</td></tr><tr><td>&quot;vldb&quot;</td><td>50112</td><td>3.59842</td><td>3.0</td><td>9.14278</td><td>7.0</td><td>24236.18728</td><td>1712.0</td><td>12.7412</td><td>11.0</td><td>0.0</td><td>0.0</td></tr><tr><td>&quot;open_data_us&quot;</td><td>5591</td><td>11.097836</td><td>3.0</td><td>12.759256</td><td>7.0</td><td>17124.504561</td><td>1000.0</td><td>23.857092</td><td>14.0</td><td>0.0</td><td>0.0</td></tr><tr><td>&quot;wordnet&quot;</td><td>30072</td><td>0.389698</td><td>0.0</td><td>2.775805</td><td>3.0</td><td>22343.919826</td><td>927.0</td><td>3.165503</td><td>3.0</td><td>0.0</td><td>0.0</td></tr></tbody></table></div>"
      ],
      "text/plain": [
       "shape: (5, 12)\n",
       "┌───────────┬──────────┬───────────┬───────────┬───┬───────────┬───────────┬───────────┬───────────┐\n",
       "│ data_lake ┆ n_tables ┆ mean_num_ ┆ median_nu ┆ … ┆ mean_n_co ┆ median_n_ ┆ mean_avg_ ┆ median_av │\n",
       "│ ---       ┆ ---      ┆ attr      ┆ m_attr    ┆   ┆ ls        ┆ cols      ┆ null      ┆ g_null    │\n",
       "│ str       ┆ i32      ┆ ---       ┆ ---       ┆   ┆ ---       ┆ ---       ┆ ---       ┆ ---       │\n",
       "│           ┆          ┆ f64       ┆ f64       ┆   ┆ f64       ┆ f64       ┆ f64       ┆ f64       │\n",
       "╞═══════════╪══════════╪═══════════╪═══════════╪═══╪═══════════╪═══════════╪═══════════╪═══════════╡\n",
       "│ vldb      ┆ 869      ┆ 1.761795  ┆ 2.0       ┆ … ┆ 8.195627  ┆ 6.0       ┆ 0.0       ┆ 0.0       │\n",
       "│ vldb      ┆ 869      ┆ 1.761795  ┆ 2.0       ┆ … ┆ 8.195627  ┆ 6.0       ┆ 0.0       ┆ 0.0       │\n",
       "│ vldb      ┆ 50112    ┆ 3.59842   ┆ 3.0       ┆ … ┆ 12.7412   ┆ 11.0      ┆ 0.0       ┆ 0.0       │\n",
       "│ open_data ┆ 5591     ┆ 11.097836 ┆ 3.0       ┆ … ┆ 23.857092 ┆ 14.0      ┆ 0.0       ┆ 0.0       │\n",
       "│ _us       ┆          ┆           ┆           ┆   ┆           ┆           ┆           ┆           │\n",
       "│ wordnet   ┆ 30072    ┆ 0.389698  ┆ 0.0       ┆ … ┆ 3.165503  ┆ 3.0       ┆ 0.0       ┆ 0.0       │\n",
       "└───────────┴──────────┴───────────┴───────────┴───┴───────────┴───────────┴───────────┴───────────┘"
      ]
     },
     "execution_count": 58,
     "metadata": {},
     "output_type": "execute_result"
    }
   ],
   "source": [
    "df_stats"
   ]
  },
  {
   "cell_type": "code",
   "execution_count": 60,
   "metadata": {},
   "outputs": [
    {
     "data": {
      "text/html": [
       "<style type=\"text/css\">\n",
       "</style>\n",
       "<table id=\"T_41964\">\n",
       "  <thead>\n",
       "    <tr>\n",
       "      <th class=\"blank level0\" >&nbsp;</th>\n",
       "      <th id=\"T_41964_level0_col0\" class=\"col_heading level0 col0\" >0</th>\n",
       "      <th id=\"T_41964_level0_col1\" class=\"col_heading level0 col1\" >1</th>\n",
       "      <th id=\"T_41964_level0_col2\" class=\"col_heading level0 col2\" >2</th>\n",
       "      <th id=\"T_41964_level0_col3\" class=\"col_heading level0 col3\" >3</th>\n",
       "    </tr>\n",
       "  </thead>\n",
       "  <tbody>\n",
       "    <tr>\n",
       "      <th id=\"T_41964_level0_row0\" class=\"row_heading level0 row0\" >data_lake</th>\n",
       "      <td id=\"T_41964_row0_col0\" class=\"data row0 col0\" >vldb</td>\n",
       "      <td id=\"T_41964_row0_col1\" class=\"data row0 col1\" >vldb</td>\n",
       "      <td id=\"T_41964_row0_col2\" class=\"data row0 col2\" >open_data_us</td>\n",
       "      <td id=\"T_41964_row0_col3\" class=\"data row0 col3\" >wordnet</td>\n",
       "    </tr>\n",
       "    <tr>\n",
       "      <th id=\"T_41964_level0_row1\" class=\"row_heading level0 row1\" >n_tables</th>\n",
       "      <td id=\"T_41964_row1_col0\" class=\"data row1 col0\" >869</td>\n",
       "      <td id=\"T_41964_row1_col1\" class=\"data row1 col1\" >50112</td>\n",
       "      <td id=\"T_41964_row1_col2\" class=\"data row1 col2\" >5591</td>\n",
       "      <td id=\"T_41964_row1_col3\" class=\"data row1 col3\" >30072</td>\n",
       "    </tr>\n",
       "    <tr>\n",
       "      <th id=\"T_41964_level0_row2\" class=\"row_heading level0 row2\" >mean_num_attr</th>\n",
       "      <td id=\"T_41964_row2_col0\" class=\"data row2 col0\" >1.76</td>\n",
       "      <td id=\"T_41964_row2_col1\" class=\"data row2 col1\" >3.60</td>\n",
       "      <td id=\"T_41964_row2_col2\" class=\"data row2 col2\" >11.10</td>\n",
       "      <td id=\"T_41964_row2_col3\" class=\"data row2 col3\" >0.39</td>\n",
       "    </tr>\n",
       "    <tr>\n",
       "      <th id=\"T_41964_level0_row3\" class=\"row_heading level0 row3\" >median_num_attr</th>\n",
       "      <td id=\"T_41964_row3_col0\" class=\"data row3 col0\" >2.00</td>\n",
       "      <td id=\"T_41964_row3_col1\" class=\"data row3 col1\" >3.00</td>\n",
       "      <td id=\"T_41964_row3_col2\" class=\"data row3 col2\" >3.00</td>\n",
       "      <td id=\"T_41964_row3_col3\" class=\"data row3 col3\" >0.00</td>\n",
       "    </tr>\n",
       "    <tr>\n",
       "      <th id=\"T_41964_level0_row4\" class=\"row_heading level0 row4\" >mean_cat_attr</th>\n",
       "      <td id=\"T_41964_row4_col0\" class=\"data row4 col0\" >6.43</td>\n",
       "      <td id=\"T_41964_row4_col1\" class=\"data row4 col1\" >9.14</td>\n",
       "      <td id=\"T_41964_row4_col2\" class=\"data row4 col2\" >12.76</td>\n",
       "      <td id=\"T_41964_row4_col3\" class=\"data row4 col3\" >2.78</td>\n",
       "    </tr>\n",
       "    <tr>\n",
       "      <th id=\"T_41964_level0_row5\" class=\"row_heading level0 row5\" >median_cat_attr</th>\n",
       "      <td id=\"T_41964_row5_col0\" class=\"data row5 col0\" >4.00</td>\n",
       "      <td id=\"T_41964_row5_col1\" class=\"data row5 col1\" >7.00</td>\n",
       "      <td id=\"T_41964_row5_col2\" class=\"data row5 col2\" >7.00</td>\n",
       "      <td id=\"T_41964_row5_col3\" class=\"data row5 col3\" >3.00</td>\n",
       "    </tr>\n",
       "    <tr>\n",
       "      <th id=\"T_41964_level0_row6\" class=\"row_heading level0 row6\" >mean_n_rows</th>\n",
       "      <td id=\"T_41964_row6_col0\" class=\"data row6 col0\" >9220.86</td>\n",
       "      <td id=\"T_41964_row6_col1\" class=\"data row6 col1\" >24236.19</td>\n",
       "      <td id=\"T_41964_row6_col2\" class=\"data row6 col2\" >17124.50</td>\n",
       "      <td id=\"T_41964_row6_col3\" class=\"data row6 col3\" >22343.92</td>\n",
       "    </tr>\n",
       "    <tr>\n",
       "      <th id=\"T_41964_level0_row7\" class=\"row_heading level0 row7\" >median_n_rows</th>\n",
       "      <td id=\"T_41964_row7_col0\" class=\"data row7 col0\" >74.00</td>\n",
       "      <td id=\"T_41964_row7_col1\" class=\"data row7 col1\" >1712.00</td>\n",
       "      <td id=\"T_41964_row7_col2\" class=\"data row7 col2\" >1000.00</td>\n",
       "      <td id=\"T_41964_row7_col3\" class=\"data row7 col3\" >927.00</td>\n",
       "    </tr>\n",
       "    <tr>\n",
       "      <th id=\"T_41964_level0_row8\" class=\"row_heading level0 row8\" >mean_n_cols</th>\n",
       "      <td id=\"T_41964_row8_col0\" class=\"data row8 col0\" >8.20</td>\n",
       "      <td id=\"T_41964_row8_col1\" class=\"data row8 col1\" >12.74</td>\n",
       "      <td id=\"T_41964_row8_col2\" class=\"data row8 col2\" >23.86</td>\n",
       "      <td id=\"T_41964_row8_col3\" class=\"data row8 col3\" >3.17</td>\n",
       "    </tr>\n",
       "    <tr>\n",
       "      <th id=\"T_41964_level0_row9\" class=\"row_heading level0 row9\" >median_n_cols</th>\n",
       "      <td id=\"T_41964_row9_col0\" class=\"data row9 col0\" >6.00</td>\n",
       "      <td id=\"T_41964_row9_col1\" class=\"data row9 col1\" >11.00</td>\n",
       "      <td id=\"T_41964_row9_col2\" class=\"data row9 col2\" >14.00</td>\n",
       "      <td id=\"T_41964_row9_col3\" class=\"data row9 col3\" >3.00</td>\n",
       "    </tr>\n",
       "    <tr>\n",
       "      <th id=\"T_41964_level0_row10\" class=\"row_heading level0 row10\" >mean_avg_null</th>\n",
       "      <td id=\"T_41964_row10_col0\" class=\"data row10 col0\" >0.00</td>\n",
       "      <td id=\"T_41964_row10_col1\" class=\"data row10 col1\" >0.00</td>\n",
       "      <td id=\"T_41964_row10_col2\" class=\"data row10 col2\" >0.00</td>\n",
       "      <td id=\"T_41964_row10_col3\" class=\"data row10 col3\" >0.00</td>\n",
       "    </tr>\n",
       "    <tr>\n",
       "      <th id=\"T_41964_level0_row11\" class=\"row_heading level0 row11\" >median_avg_null</th>\n",
       "      <td id=\"T_41964_row11_col0\" class=\"data row11 col0\" >0.00</td>\n",
       "      <td id=\"T_41964_row11_col1\" class=\"data row11 col1\" >0.00</td>\n",
       "      <td id=\"T_41964_row11_col2\" class=\"data row11 col2\" >0.00</td>\n",
       "      <td id=\"T_41964_row11_col3\" class=\"data row11 col3\" >0.00</td>\n",
       "    </tr>\n",
       "  </tbody>\n",
       "</table>\n"
      ],
      "text/plain": [
       "<pandas.io.formats.style.Styler at 0x7fb1a29058d0>"
      ]
     },
     "execution_count": 60,
     "metadata": {},
     "output_type": "execute_result"
    }
   ],
   "source": [
    "# df_stats.slice(1).to_pandas().transpose().style.format(precision=2)"
   ]
  },
  {
   "cell_type": "code",
   "execution_count": 51,
   "metadata": {},
   "outputs": [
    {
     "data": {
      "text/html": [
       "<style type=\"text/css\">\n",
       "</style>\n",
       "<table id=\"T_07b30\">\n",
       "  <thead>\n",
       "    <tr>\n",
       "      <th class=\"blank level0\" >&nbsp;</th>\n",
       "      <th id=\"T_07b30_level0_col0\" class=\"col_heading level0 col0\" >0</th>\n",
       "      <th id=\"T_07b30_level0_col1\" class=\"col_heading level0 col1\" >1</th>\n",
       "      <th id=\"T_07b30_level0_col2\" class=\"col_heading level0 col2\" >2</th>\n",
       "      <th id=\"T_07b30_level0_col3\" class=\"col_heading level0 col3\" >3</th>\n",
       "    </tr>\n",
       "  </thead>\n",
       "  <tbody>\n",
       "    <tr>\n",
       "      <th id=\"T_07b30_level0_row0\" class=\"row_heading level0 row0\" >data_lake</th>\n",
       "      <td id=\"T_07b30_row0_col0\" class=\"data row0 col0\" >vldb</td>\n",
       "      <td id=\"T_07b30_row0_col1\" class=\"data row0 col1\" >vldb</td>\n",
       "      <td id=\"T_07b30_row0_col2\" class=\"data row0 col2\" >vldb</td>\n",
       "      <td id=\"T_07b30_row0_col3\" class=\"data row0 col3\" >open_data_us</td>\n",
       "    </tr>\n",
       "    <tr>\n",
       "      <th id=\"T_07b30_level0_row1\" class=\"row_heading level0 row1\" >n_tables</th>\n",
       "      <td id=\"T_07b30_row1_col0\" class=\"data row1 col0\" >869</td>\n",
       "      <td id=\"T_07b30_row1_col1\" class=\"data row1 col1\" >869</td>\n",
       "      <td id=\"T_07b30_row1_col2\" class=\"data row1 col2\" >50112</td>\n",
       "      <td id=\"T_07b30_row1_col3\" class=\"data row1 col3\" >5591</td>\n",
       "    </tr>\n",
       "    <tr>\n",
       "      <th id=\"T_07b30_level0_row2\" class=\"row_heading level0 row2\" >mean_num_attr</th>\n",
       "      <td id=\"T_07b30_row2_col0\" class=\"data row2 col0\" >1.76</td>\n",
       "      <td id=\"T_07b30_row2_col1\" class=\"data row2 col1\" >1.76</td>\n",
       "      <td id=\"T_07b30_row2_col2\" class=\"data row2 col2\" >3.60</td>\n",
       "      <td id=\"T_07b30_row2_col3\" class=\"data row2 col3\" >11.10</td>\n",
       "    </tr>\n",
       "    <tr>\n",
       "      <th id=\"T_07b30_level0_row3\" class=\"row_heading level0 row3\" >median_num_attr</th>\n",
       "      <td id=\"T_07b30_row3_col0\" class=\"data row3 col0\" >2.00</td>\n",
       "      <td id=\"T_07b30_row3_col1\" class=\"data row3 col1\" >2.00</td>\n",
       "      <td id=\"T_07b30_row3_col2\" class=\"data row3 col2\" >3.00</td>\n",
       "      <td id=\"T_07b30_row3_col3\" class=\"data row3 col3\" >3.00</td>\n",
       "    </tr>\n",
       "    <tr>\n",
       "      <th id=\"T_07b30_level0_row4\" class=\"row_heading level0 row4\" >mean_cat_attr</th>\n",
       "      <td id=\"T_07b30_row4_col0\" class=\"data row4 col0\" >6.43</td>\n",
       "      <td id=\"T_07b30_row4_col1\" class=\"data row4 col1\" >6.43</td>\n",
       "      <td id=\"T_07b30_row4_col2\" class=\"data row4 col2\" >9.14</td>\n",
       "      <td id=\"T_07b30_row4_col3\" class=\"data row4 col3\" >12.76</td>\n",
       "    </tr>\n",
       "    <tr>\n",
       "      <th id=\"T_07b30_level0_row5\" class=\"row_heading level0 row5\" >median_cat_attr</th>\n",
       "      <td id=\"T_07b30_row5_col0\" class=\"data row5 col0\" >4.00</td>\n",
       "      <td id=\"T_07b30_row5_col1\" class=\"data row5 col1\" >4.00</td>\n",
       "      <td id=\"T_07b30_row5_col2\" class=\"data row5 col2\" >7.00</td>\n",
       "      <td id=\"T_07b30_row5_col3\" class=\"data row5 col3\" >7.00</td>\n",
       "    </tr>\n",
       "    <tr>\n",
       "      <th id=\"T_07b30_level0_row6\" class=\"row_heading level0 row6\" >mean_n_rows</th>\n",
       "      <td id=\"T_07b30_row6_col0\" class=\"data row6 col0\" >9220.86</td>\n",
       "      <td id=\"T_07b30_row6_col1\" class=\"data row6 col1\" >9220.86</td>\n",
       "      <td id=\"T_07b30_row6_col2\" class=\"data row6 col2\" >24236.19</td>\n",
       "      <td id=\"T_07b30_row6_col3\" class=\"data row6 col3\" >17124.50</td>\n",
       "    </tr>\n",
       "    <tr>\n",
       "      <th id=\"T_07b30_level0_row7\" class=\"row_heading level0 row7\" >median_n_rows</th>\n",
       "      <td id=\"T_07b30_row7_col0\" class=\"data row7 col0\" >74.00</td>\n",
       "      <td id=\"T_07b30_row7_col1\" class=\"data row7 col1\" >74.00</td>\n",
       "      <td id=\"T_07b30_row7_col2\" class=\"data row7 col2\" >1712.00</td>\n",
       "      <td id=\"T_07b30_row7_col3\" class=\"data row7 col3\" >1000.00</td>\n",
       "    </tr>\n",
       "    <tr>\n",
       "      <th id=\"T_07b30_level0_row8\" class=\"row_heading level0 row8\" >mean_n_cols</th>\n",
       "      <td id=\"T_07b30_row8_col0\" class=\"data row8 col0\" >8.20</td>\n",
       "      <td id=\"T_07b30_row8_col1\" class=\"data row8 col1\" >8.20</td>\n",
       "      <td id=\"T_07b30_row8_col2\" class=\"data row8 col2\" >12.74</td>\n",
       "      <td id=\"T_07b30_row8_col3\" class=\"data row8 col3\" >23.86</td>\n",
       "    </tr>\n",
       "    <tr>\n",
       "      <th id=\"T_07b30_level0_row9\" class=\"row_heading level0 row9\" >median_n_cols</th>\n",
       "      <td id=\"T_07b30_row9_col0\" class=\"data row9 col0\" >6.00</td>\n",
       "      <td id=\"T_07b30_row9_col1\" class=\"data row9 col1\" >6.00</td>\n",
       "      <td id=\"T_07b30_row9_col2\" class=\"data row9 col2\" >11.00</td>\n",
       "      <td id=\"T_07b30_row9_col3\" class=\"data row9 col3\" >14.00</td>\n",
       "    </tr>\n",
       "    <tr>\n",
       "      <th id=\"T_07b30_level0_row10\" class=\"row_heading level0 row10\" >mean_avg_null</th>\n",
       "      <td id=\"T_07b30_row10_col0\" class=\"data row10 col0\" >0.00</td>\n",
       "      <td id=\"T_07b30_row10_col1\" class=\"data row10 col1\" >0.00</td>\n",
       "      <td id=\"T_07b30_row10_col2\" class=\"data row10 col2\" >0.00</td>\n",
       "      <td id=\"T_07b30_row10_col3\" class=\"data row10 col3\" >0.00</td>\n",
       "    </tr>\n",
       "    <tr>\n",
       "      <th id=\"T_07b30_level0_row11\" class=\"row_heading level0 row11\" >median_avg_null</th>\n",
       "      <td id=\"T_07b30_row11_col0\" class=\"data row11 col0\" >0.00</td>\n",
       "      <td id=\"T_07b30_row11_col1\" class=\"data row11 col1\" >0.00</td>\n",
       "      <td id=\"T_07b30_row11_col2\" class=\"data row11 col2\" >0.00</td>\n",
       "      <td id=\"T_07b30_row11_col3\" class=\"data row11 col3\" >0.00</td>\n",
       "    </tr>\n",
       "  </tbody>\n",
       "</table>\n"
      ],
      "text/plain": [
       "<pandas.io.formats.style.Styler at 0x7fb202fbef80>"
      ]
     },
     "execution_count": 51,
     "metadata": {},
     "output_type": "execute_result"
    }
   ],
   "source": [
    "df_stats.to_pandas().transpose().style.format(precision=2)"
   ]
  },
  {
   "cell_type": "code",
   "execution_count": 52,
   "metadata": {},
   "outputs": [],
   "source": [
    "df_stats.with_columns(pl.Series([\"binary\", \"open_data\", \"wordnet\"]).alias(\"data_lake\")).transpose(include_header=True, column_names=\"data_lake\").write_csv(\"stats_data_lakes.csv\")"
   ]
  },
  {
   "cell_type": "code",
   "execution_count": null,
   "metadata": {},
   "outputs": [],
   "source": []
  }
 ],
 "metadata": {
  "kernelspec": {
   "display_name": "Python 3",
   "language": "python",
   "name": "python3"
  },
  "language_info": {
   "codemirror_mode": {
    "name": "ipython",
    "version": 3
   },
   "file_extension": ".py",
   "mimetype": "text/x-python",
   "name": "python",
   "nbconvert_exporter": "python",
   "pygments_lexer": "ipython3",
   "version": "3.10.0"
  }
 },
 "nbformat": 4,
 "nbformat_minor": 2
}
