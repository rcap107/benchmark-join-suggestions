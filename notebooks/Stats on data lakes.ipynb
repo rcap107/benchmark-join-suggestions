{
 "cells": [
  {
   "cell_type": "code",
   "execution_count": 1,
   "metadata": {},
   "outputs": [
    {
     "name": "stdout",
     "output_type": "stream",
     "text": [
      "/home/soda/rcappuzz/work/benchmark-join-suggestions\n"
     ]
    }
   ],
   "source": [
    "cd ~/bench"
   ]
  },
  {
   "cell_type": "code",
   "execution_count": 20,
   "metadata": {},
   "outputs": [],
   "source": [
    "import polars as pl\n",
    "from pathlib import Path\n",
    "import polars.selectors as cs\n",
    "from tqdm.notebook import tqdm\n",
    "from joblib import Parallel, delayed"
   ]
  },
  {
   "cell_type": "code",
   "execution_count": 3,
   "metadata": {},
   "outputs": [],
   "source": [
    "path_wordnet = Path()\n",
    "path_wordnet_vldb = Path()\n",
    "path_wordnet_vldb_wide = Path()\n",
    "path_wordnet_vldb_3 = Path()\n",
    "path_binary = Path()\n",
    "path_open_data = Path()"
   ]
  },
  {
   "cell_type": "code",
   "execution_count": 4,
   "metadata": {},
   "outputs": [],
   "source": [
    "path_list = list(\n",
    "    map(\n",
    "        Path,\n",
    "        [\n",
    "            \"data/yadl/wordnet_full/\",\n",
    "            \"data/yadl/wordnet_vldb/\",\n",
    "            \"data/yadl/wordnet_vldb_wide/\",\n",
    "            \"data/yadl/wordnet_vldb_3/\",\n",
    "            \"data/yadl/binary_update/\",\n",
    "            \"data/open_data_us/\",\n",
    "        ],\n",
    "    )\n",
    ")"
   ]
  },
  {
   "cell_type": "code",
   "execution_count": 5,
   "metadata": {},
   "outputs": [],
   "source": [
    "def table_profile(table_path, data_lake):\n",
    "    df = pl.read_parquet(table_path)\n",
    "    n_num = df.select(cs.numeric()).shape[1]\n",
    "    c_num = df.select(~cs.numeric()).shape[1]\n",
    "    if len(df) > 0:\n",
    "        avg_null = df.null_count().mean_horizontal().item() / len(df)\n",
    "        # avg_null = df.null_count().mean_horizontal().item()/len(df)\n",
    "    else:\n",
    "        avg_null = 0\n",
    "    d = {\n",
    "        \"data_lake\": data_lake,\n",
    "        \"table\": table_path.stem,\n",
    "        \"num_attr\": n_num,\n",
    "        \"cat_attr\": c_num,\n",
    "        \"n_rows\": len(df),\n",
    "        \"n_cols\": len(df.columns),\n",
    "        \"avg_null\": avg_null,\n",
    "    }\n",
    "\n",
    "    return d"
   ]
  },
  {
   "cell_type": "code",
   "execution_count": 23,
   "metadata": {},
   "outputs": [],
   "source": [
    "def get_stats(df: pl.DataFrame):\n",
    "    return df.select(\n",
    "        pl.col(\"data_lake\").first(),\n",
    "        pl.col(\"n_tables\").first(),\n",
    "        pl.col(\"n_rows\").sum().alias(\"tot_rows\"),\n",
    "        pl.col(\"n_cols\").sum().alias(\"tot_rows\"),\n",
    "        pl.col(\"num_attr\").mean().alias(\"mean_num_attr\"),\n",
    "        pl.col(\"num_attr\").median().alias(\"median_num_attr\"),\n",
    "        pl.col(\"cat_attr\").mean().alias(\"mean_cat_attr\"),\n",
    "        pl.col(\"cat_attr\").median().alias(\"median_cat_attr\"),\n",
    "        pl.col(\"n_rows\").mean().alias(\"mean_n_rows\"),\n",
    "        pl.col(\"n_rows\").median().alias(\"median_n_rows\"),\n",
    "        pl.col(\"n_cols\").mean().alias(\"mean_n_cols\"),\n",
    "        pl.col(\"n_cols\").median().alias(\"median_n_cols\"),\n",
    "        pl.col(\"avg_null\").mean().alias(\"mean_avg_null\"),\n",
    "        pl.col(\"avg_null\").median().alias(\"median_avg_null\"),\n",
    "    )"
   ]
  },
  {
   "cell_type": "code",
   "execution_count": 12,
   "metadata": {},
   "outputs": [],
   "source": [
    "stats = []"
   ]
  },
  {
   "cell_type": "code",
   "execution_count": 19,
   "metadata": {},
   "outputs": [
    {
     "name": "stderr",
     "output_type": "stream",
     "text": [
      "                                                                          \r"
     ]
    }
   ],
   "source": [
    "for path in path_list:\n",
    "    profiles = []\n",
    "    # for tab in path.glob(\"**/*.parquet\"):\n",
    "\n",
    "    profiles = Parallel(n_jobs=8, verbose=0)(\n",
    "        delayed(table_profile)(tab, path.stem)\n",
    "        for tab in tqdm(\n",
    "            path.glob(\"**/*.parquet\"),\n",
    "            total=sum(1 for _ in path.glob(\"**/*.parquet\")),\n",
    "            position=0,\n",
    "            leave=False,\n",
    "            desc=path.stem,\n",
    "        )\n",
    "    )\n",
    "\n",
    "    # for tab in tqdm(\n",
    "    #     path.glob(\"**/*.parquet\"), total=sum(1 for _ in path.glob(\"**/*.parquet\")), position=0, leave=False, desc=path.stem\n",
    "    # ):\n",
    "\n",
    "    #     d = table_profile(tab, path.stem)\n",
    "    #     profiles.append(d)\n",
    "    df = pl.from_dicts(profiles).with_columns(pl.lit(len(profiles)).alias(\"n_tables\"))\n",
    "    stats.append(get_stats(df))\n",
    "df_stats = pl.concat(stats)"
   ]
  },
  {
   "cell_type": "code",
   "execution_count": 10,
   "metadata": {},
   "outputs": [],
   "source": [
    "df_stats = pl.concat(stats)"
   ]
  },
  {
   "cell_type": "code",
   "execution_count": 21,
   "metadata": {},
   "outputs": [
    {
     "data": {
      "text/html": [
       "<div><style>\n",
       ".dataframe > thead > tr,\n",
       ".dataframe > tbody > tr {\n",
       "  text-align: right;\n",
       "  white-space: pre-wrap;\n",
       "}\n",
       "</style>\n",
       "<small>shape: (6, 12)</small><table border=\"1\" class=\"dataframe\"><thead><tr><th>data_lake</th><th>n_tables</th><th>mean_num_attr</th><th>median_num_attr</th><th>mean_cat_attr</th><th>median_cat_attr</th><th>mean_n_rows</th><th>median_n_rows</th><th>mean_n_cols</th><th>median_n_cols</th><th>mean_avg_null</th><th>median_avg_null</th></tr><tr><td>str</td><td>i32</td><td>f64</td><td>f64</td><td>f64</td><td>f64</td><td>f64</td><td>f64</td><td>f64</td><td>f64</td><td>f64</td><td>f64</td></tr></thead><tbody><tr><td>&quot;wordnet_full&quot;</td><td>30072</td><td>0.389698</td><td>0.0</td><td>2.775805</td><td>3.0</td><td>22343.919826</td><td>927.0</td><td>3.165503</td><td>3.0</td><td>0.309895</td><td>0.331624</td></tr><tr><td>&quot;wordnet_vldb&quot;</td><td>869</td><td>1.761795</td><td>2.0</td><td>6.433832</td><td>4.0</td><td>9220.859609</td><td>74.0</td><td>8.195627</td><td>6.0</td><td>0.444155</td><td>0.497727</td></tr><tr><td>&quot;wordnet_vldb_w…</td><td>50922</td><td>3.615058</td><td>3.0</td><td>9.071344</td><td>6.0</td><td>24007.617709</td><td>1706.0</td><td>12.686403</td><td>10.0</td><td>0.631575</td><td>0.669716</td></tr><tr><td>&quot;wordnet_vldb_3…</td><td>3162</td><td>3.5</td><td>3.0</td><td>8.6926</td><td>6.0</td><td>23228.833966</td><td>1602.0</td><td>12.1926</td><td>10.0</td><td>0.603582</td><td>0.663548</td></tr><tr><td>&quot;binary_update&quot;</td><td>70</td><td>0.3</td><td>0.0</td><td>1.7</td><td>2.0</td><td>287134.328571</td><td>40407.5</td><td>2.0</td><td>2.0</td><td>0.000004</td><td>0.0</td></tr><tr><td>&quot;open_data_us&quot;</td><td>5591</td><td>11.097836</td><td>3.0</td><td>12.759256</td><td>7.0</td><td>17124.504561</td><td>1000.0</td><td>23.857092</td><td>14.0</td><td>0.094168</td><td>0.010989</td></tr></tbody></table></div>"
      ],
      "text/plain": [
       "shape: (6, 12)\n",
       "┌───────────┬──────────┬───────────┬───────────┬───┬───────────┬───────────┬───────────┬───────────┐\n",
       "│ data_lake ┆ n_tables ┆ mean_num_ ┆ median_nu ┆ … ┆ mean_n_co ┆ median_n_ ┆ mean_avg_ ┆ median_av │\n",
       "│ ---       ┆ ---      ┆ attr      ┆ m_attr    ┆   ┆ ls        ┆ cols      ┆ null      ┆ g_null    │\n",
       "│ str       ┆ i32      ┆ ---       ┆ ---       ┆   ┆ ---       ┆ ---       ┆ ---       ┆ ---       │\n",
       "│           ┆          ┆ f64       ┆ f64       ┆   ┆ f64       ┆ f64       ┆ f64       ┆ f64       │\n",
       "╞═══════════╪══════════╪═══════════╪═══════════╪═══╪═══════════╪═══════════╪═══════════╪═══════════╡\n",
       "│ wordnet_f ┆ 30072    ┆ 0.389698  ┆ 0.0       ┆ … ┆ 3.165503  ┆ 3.0       ┆ 0.309895  ┆ 0.331624  │\n",
       "│ ull       ┆          ┆           ┆           ┆   ┆           ┆           ┆           ┆           │\n",
       "│ wordnet_v ┆ 869      ┆ 1.761795  ┆ 2.0       ┆ … ┆ 8.195627  ┆ 6.0       ┆ 0.444155  ┆ 0.497727  │\n",
       "│ ldb       ┆          ┆           ┆           ┆   ┆           ┆           ┆           ┆           │\n",
       "│ wordnet_v ┆ 50922    ┆ 3.615058  ┆ 3.0       ┆ … ┆ 12.686403 ┆ 10.0      ┆ 0.631575  ┆ 0.669716  │\n",
       "│ ldb_wide  ┆          ┆           ┆           ┆   ┆           ┆           ┆           ┆           │\n",
       "│ wordnet_v ┆ 3162     ┆ 3.5       ┆ 3.0       ┆ … ┆ 12.1926   ┆ 10.0      ┆ 0.603582  ┆ 0.663548  │\n",
       "│ ldb_3     ┆          ┆           ┆           ┆   ┆           ┆           ┆           ┆           │\n",
       "│ binary_up ┆ 70       ┆ 0.3       ┆ 0.0       ┆ … ┆ 2.0       ┆ 2.0       ┆ 0.000004  ┆ 0.0       │\n",
       "│ date      ┆          ┆           ┆           ┆   ┆           ┆           ┆           ┆           │\n",
       "│ open_data ┆ 5591     ┆ 11.097836 ┆ 3.0       ┆ … ┆ 23.857092 ┆ 14.0      ┆ 0.094168  ┆ 0.010989  │\n",
       "│ _us       ┆          ┆           ┆           ┆   ┆           ┆           ┆           ┆           │\n",
       "└───────────┴──────────┴───────────┴───────────┴───┴───────────┴───────────┴───────────┴───────────┘"
      ]
     },
     "execution_count": 21,
     "metadata": {},
     "output_type": "execute_result"
    }
   ],
   "source": [
    "df_stats"
   ]
  },
  {
   "cell_type": "code",
   "execution_count": 28,
   "metadata": {},
   "outputs": [
    {
     "data": {
      "text/html": [
       "<style type=\"text/css\">\n",
       "</style>\n",
       "<table id=\"T_2ceff\">\n",
       "  <thead>\n",
       "    <tr>\n",
       "      <th class=\"blank level0\" >&nbsp;</th>\n",
       "      <th id=\"T_2ceff_level0_col0\" class=\"col_heading level0 col0\" >column</th>\n",
       "      <th id=\"T_2ceff_level0_col1\" class=\"col_heading level0 col1\" >wordnet_full</th>\n",
       "      <th id=\"T_2ceff_level0_col2\" class=\"col_heading level0 col2\" >wordnet_vldb</th>\n",
       "      <th id=\"T_2ceff_level0_col3\" class=\"col_heading level0 col3\" >wordnet_vldb_wide</th>\n",
       "      <th id=\"T_2ceff_level0_col4\" class=\"col_heading level0 col4\" >wordnet_vldb_3</th>\n",
       "      <th id=\"T_2ceff_level0_col5\" class=\"col_heading level0 col5\" >binary_update</th>\n",
       "      <th id=\"T_2ceff_level0_col6\" class=\"col_heading level0 col6\" >open_data_us</th>\n",
       "    </tr>\n",
       "  </thead>\n",
       "  <tbody>\n",
       "    <tr>\n",
       "      <th id=\"T_2ceff_level0_row0\" class=\"row_heading level0 row0\" >0</th>\n",
       "      <td id=\"T_2ceff_row0_col0\" class=\"data row0 col0\" >n_tables</td>\n",
       "      <td id=\"T_2ceff_row0_col1\" class=\"data row0 col1\" >30072.00</td>\n",
       "      <td id=\"T_2ceff_row0_col2\" class=\"data row0 col2\" >869.00</td>\n",
       "      <td id=\"T_2ceff_row0_col3\" class=\"data row0 col3\" >50922.00</td>\n",
       "      <td id=\"T_2ceff_row0_col4\" class=\"data row0 col4\" >3162.00</td>\n",
       "      <td id=\"T_2ceff_row0_col5\" class=\"data row0 col5\" >70.00</td>\n",
       "      <td id=\"T_2ceff_row0_col6\" class=\"data row0 col6\" >5591.00</td>\n",
       "    </tr>\n",
       "    <tr>\n",
       "      <th id=\"T_2ceff_level0_row1\" class=\"row_heading level0 row1\" >1</th>\n",
       "      <td id=\"T_2ceff_row1_col0\" class=\"data row1 col0\" >mean_num_attr</td>\n",
       "      <td id=\"T_2ceff_row1_col1\" class=\"data row1 col1\" >0.39</td>\n",
       "      <td id=\"T_2ceff_row1_col2\" class=\"data row1 col2\" >1.76</td>\n",
       "      <td id=\"T_2ceff_row1_col3\" class=\"data row1 col3\" >3.62</td>\n",
       "      <td id=\"T_2ceff_row1_col4\" class=\"data row1 col4\" >3.50</td>\n",
       "      <td id=\"T_2ceff_row1_col5\" class=\"data row1 col5\" >0.30</td>\n",
       "      <td id=\"T_2ceff_row1_col6\" class=\"data row1 col6\" >11.10</td>\n",
       "    </tr>\n",
       "    <tr>\n",
       "      <th id=\"T_2ceff_level0_row2\" class=\"row_heading level0 row2\" >2</th>\n",
       "      <td id=\"T_2ceff_row2_col0\" class=\"data row2 col0\" >median_num_attr</td>\n",
       "      <td id=\"T_2ceff_row2_col1\" class=\"data row2 col1\" >0.00</td>\n",
       "      <td id=\"T_2ceff_row2_col2\" class=\"data row2 col2\" >2.00</td>\n",
       "      <td id=\"T_2ceff_row2_col3\" class=\"data row2 col3\" >3.00</td>\n",
       "      <td id=\"T_2ceff_row2_col4\" class=\"data row2 col4\" >3.00</td>\n",
       "      <td id=\"T_2ceff_row2_col5\" class=\"data row2 col5\" >0.00</td>\n",
       "      <td id=\"T_2ceff_row2_col6\" class=\"data row2 col6\" >3.00</td>\n",
       "    </tr>\n",
       "    <tr>\n",
       "      <th id=\"T_2ceff_level0_row3\" class=\"row_heading level0 row3\" >3</th>\n",
       "      <td id=\"T_2ceff_row3_col0\" class=\"data row3 col0\" >mean_cat_attr</td>\n",
       "      <td id=\"T_2ceff_row3_col1\" class=\"data row3 col1\" >2.78</td>\n",
       "      <td id=\"T_2ceff_row3_col2\" class=\"data row3 col2\" >6.43</td>\n",
       "      <td id=\"T_2ceff_row3_col3\" class=\"data row3 col3\" >9.07</td>\n",
       "      <td id=\"T_2ceff_row3_col4\" class=\"data row3 col4\" >8.69</td>\n",
       "      <td id=\"T_2ceff_row3_col5\" class=\"data row3 col5\" >1.70</td>\n",
       "      <td id=\"T_2ceff_row3_col6\" class=\"data row3 col6\" >12.76</td>\n",
       "    </tr>\n",
       "    <tr>\n",
       "      <th id=\"T_2ceff_level0_row4\" class=\"row_heading level0 row4\" >4</th>\n",
       "      <td id=\"T_2ceff_row4_col0\" class=\"data row4 col0\" >median_cat_attr</td>\n",
       "      <td id=\"T_2ceff_row4_col1\" class=\"data row4 col1\" >3.00</td>\n",
       "      <td id=\"T_2ceff_row4_col2\" class=\"data row4 col2\" >4.00</td>\n",
       "      <td id=\"T_2ceff_row4_col3\" class=\"data row4 col3\" >6.00</td>\n",
       "      <td id=\"T_2ceff_row4_col4\" class=\"data row4 col4\" >6.00</td>\n",
       "      <td id=\"T_2ceff_row4_col5\" class=\"data row4 col5\" >2.00</td>\n",
       "      <td id=\"T_2ceff_row4_col6\" class=\"data row4 col6\" >7.00</td>\n",
       "    </tr>\n",
       "    <tr>\n",
       "      <th id=\"T_2ceff_level0_row5\" class=\"row_heading level0 row5\" >5</th>\n",
       "      <td id=\"T_2ceff_row5_col0\" class=\"data row5 col0\" >mean_n_rows</td>\n",
       "      <td id=\"T_2ceff_row5_col1\" class=\"data row5 col1\" >22343.92</td>\n",
       "      <td id=\"T_2ceff_row5_col2\" class=\"data row5 col2\" >9220.86</td>\n",
       "      <td id=\"T_2ceff_row5_col3\" class=\"data row5 col3\" >24007.62</td>\n",
       "      <td id=\"T_2ceff_row5_col4\" class=\"data row5 col4\" >23228.83</td>\n",
       "      <td id=\"T_2ceff_row5_col5\" class=\"data row5 col5\" >287134.33</td>\n",
       "      <td id=\"T_2ceff_row5_col6\" class=\"data row5 col6\" >17124.50</td>\n",
       "    </tr>\n",
       "    <tr>\n",
       "      <th id=\"T_2ceff_level0_row6\" class=\"row_heading level0 row6\" >6</th>\n",
       "      <td id=\"T_2ceff_row6_col0\" class=\"data row6 col0\" >median_n_rows</td>\n",
       "      <td id=\"T_2ceff_row6_col1\" class=\"data row6 col1\" >927.00</td>\n",
       "      <td id=\"T_2ceff_row6_col2\" class=\"data row6 col2\" >74.00</td>\n",
       "      <td id=\"T_2ceff_row6_col3\" class=\"data row6 col3\" >1706.00</td>\n",
       "      <td id=\"T_2ceff_row6_col4\" class=\"data row6 col4\" >1602.00</td>\n",
       "      <td id=\"T_2ceff_row6_col5\" class=\"data row6 col5\" >40407.50</td>\n",
       "      <td id=\"T_2ceff_row6_col6\" class=\"data row6 col6\" >1000.00</td>\n",
       "    </tr>\n",
       "    <tr>\n",
       "      <th id=\"T_2ceff_level0_row7\" class=\"row_heading level0 row7\" >7</th>\n",
       "      <td id=\"T_2ceff_row7_col0\" class=\"data row7 col0\" >mean_n_cols</td>\n",
       "      <td id=\"T_2ceff_row7_col1\" class=\"data row7 col1\" >3.17</td>\n",
       "      <td id=\"T_2ceff_row7_col2\" class=\"data row7 col2\" >8.20</td>\n",
       "      <td id=\"T_2ceff_row7_col3\" class=\"data row7 col3\" >12.69</td>\n",
       "      <td id=\"T_2ceff_row7_col4\" class=\"data row7 col4\" >12.19</td>\n",
       "      <td id=\"T_2ceff_row7_col5\" class=\"data row7 col5\" >2.00</td>\n",
       "      <td id=\"T_2ceff_row7_col6\" class=\"data row7 col6\" >23.86</td>\n",
       "    </tr>\n",
       "    <tr>\n",
       "      <th id=\"T_2ceff_level0_row8\" class=\"row_heading level0 row8\" >8</th>\n",
       "      <td id=\"T_2ceff_row8_col0\" class=\"data row8 col0\" >median_n_cols</td>\n",
       "      <td id=\"T_2ceff_row8_col1\" class=\"data row8 col1\" >3.00</td>\n",
       "      <td id=\"T_2ceff_row8_col2\" class=\"data row8 col2\" >6.00</td>\n",
       "      <td id=\"T_2ceff_row8_col3\" class=\"data row8 col3\" >10.00</td>\n",
       "      <td id=\"T_2ceff_row8_col4\" class=\"data row8 col4\" >10.00</td>\n",
       "      <td id=\"T_2ceff_row8_col5\" class=\"data row8 col5\" >2.00</td>\n",
       "      <td id=\"T_2ceff_row8_col6\" class=\"data row8 col6\" >14.00</td>\n",
       "    </tr>\n",
       "    <tr>\n",
       "      <th id=\"T_2ceff_level0_row9\" class=\"row_heading level0 row9\" >9</th>\n",
       "      <td id=\"T_2ceff_row9_col0\" class=\"data row9 col0\" >mean_avg_null</td>\n",
       "      <td id=\"T_2ceff_row9_col1\" class=\"data row9 col1\" >0.31</td>\n",
       "      <td id=\"T_2ceff_row9_col2\" class=\"data row9 col2\" >0.44</td>\n",
       "      <td id=\"T_2ceff_row9_col3\" class=\"data row9 col3\" >0.63</td>\n",
       "      <td id=\"T_2ceff_row9_col4\" class=\"data row9 col4\" >0.60</td>\n",
       "      <td id=\"T_2ceff_row9_col5\" class=\"data row9 col5\" >0.00</td>\n",
       "      <td id=\"T_2ceff_row9_col6\" class=\"data row9 col6\" >0.09</td>\n",
       "    </tr>\n",
       "    <tr>\n",
       "      <th id=\"T_2ceff_level0_row10\" class=\"row_heading level0 row10\" >10</th>\n",
       "      <td id=\"T_2ceff_row10_col0\" class=\"data row10 col0\" >median_avg_null</td>\n",
       "      <td id=\"T_2ceff_row10_col1\" class=\"data row10 col1\" >0.33</td>\n",
       "      <td id=\"T_2ceff_row10_col2\" class=\"data row10 col2\" >0.50</td>\n",
       "      <td id=\"T_2ceff_row10_col3\" class=\"data row10 col3\" >0.67</td>\n",
       "      <td id=\"T_2ceff_row10_col4\" class=\"data row10 col4\" >0.66</td>\n",
       "      <td id=\"T_2ceff_row10_col5\" class=\"data row10 col5\" >0.00</td>\n",
       "      <td id=\"T_2ceff_row10_col6\" class=\"data row10 col6\" >0.01</td>\n",
       "    </tr>\n",
       "  </tbody>\n",
       "</table>\n"
      ],
      "text/plain": [
       "<pandas.io.formats.style.Styler at 0x7ff5239e8970>"
      ]
     },
     "execution_count": 28,
     "metadata": {},
     "output_type": "execute_result"
    }
   ],
   "source": [
    "df_stats.transpose(include_header=True, column_names=\"data_lake\").to_pandas().style.format(precision=2)"
   ]
  },
  {
   "cell_type": "code",
   "execution_count": 29,
   "metadata": {},
   "outputs": [],
   "source": [
    "df_stats.transpose(include_header=True, column_names=\"data_lake\").write_csv(\n",
    "    \"stats_data_lakes.csv\"\n",
    ")"
   ]
  },
  {
   "cell_type": "code",
   "execution_count": null,
   "metadata": {},
   "outputs": [],
   "source": []
  }
 ],
 "metadata": {
  "kernelspec": {
   "display_name": "Python 3",
   "language": "python",
   "name": "python3"
  },
  "language_info": {
   "codemirror_mode": {
    "name": "ipython",
    "version": 3
   },
   "file_extension": ".py",
   "mimetype": "text/x-python",
   "name": "python",
   "nbconvert_exporter": "python",
   "pygments_lexer": "ipython3",
   "version": "3.10.0"
  }
 },
 "nbformat": 4,
 "nbformat_minor": 2
}
