{
 "cells": [
  {
   "cell_type": "code",
   "execution_count": 2,
   "metadata": {},
   "outputs": [
    {
     "name": "stdout",
     "output_type": "stream",
     "text": [
      "/home/soda/rcappuzz/work/benchmark-join-suggestions\n"
     ]
    }
   ],
   "source": [
    "cd ~/bench"
   ]
  },
  {
   "cell_type": "code",
   "execution_count": 10,
   "metadata": {},
   "outputs": [],
   "source": [
    "import polars as pl\n",
    "from pathlib import Path\n",
    "import polars.selectors as cs"
   ]
  },
  {
   "cell_type": "code",
   "execution_count": 4,
   "metadata": {},
   "outputs": [],
   "source": [
    "path_wordnet = Path(\"data/yadl/wordnet_full/\")\n",
    "path_binary = Path(\"data/yadl/binary_update/\")\n",
    "path_open_data = Path(\"data/open_data_us/\")"
   ]
  },
  {
   "cell_type": "code",
   "execution_count": 38,
   "metadata": {},
   "outputs": [],
   "source": [
    "def table_profile(table_path):\n",
    "    df = pl.read_parquet(table_path)\n",
    "    n_num = df.select(cs.numeric()).shape[1]\n",
    "    c_num = df.select(~cs.numeric()).shape[1]\n",
    "    if len(df)> 0:\n",
    "        avg_null = df.null_count().mean_horizontal().item()/len(df)\n",
    "    else:\n",
    "        avg_null = 0\n",
    "    d = {\"table\": table_path.stem, \"num_attr\": n_num, \"cat_attr\": c_num, \"n_rows\":len(df), \"n_cols\": len(df.columns), \"avg_null\":avg_null}\n",
    "\n",
    "    return d"
   ]
  },
  {
   "cell_type": "code",
   "execution_count": null,
   "metadata": {},
   "outputs": [],
   "source": [
    "def get_stats(df: pl.DataFrame):\n",
    "    return df.select(\n",
    "        pl.lit(\"binary\").alias(\"data_lake\"),\n",
    "        pl.col(\"num_attr\").mean().alias(\"mean_num_attr\"),\n",
    "        pl.col(\"num_attr\").median().alias(\"median_num_attr\"),\n",
    "        pl.col(\"cat_attr\").mean().alias(\"mean_cat_attr\"),\n",
    "        pl.col(\"cat_attr\").median().alias(\"median_cat_attr\"),\n",
    "        pl.col(\"n_rows\").mean().alias(\"mean_n_rows\"),\n",
    "        pl.col(\"n_rows\").median().alias(\"median_n_rows\"),\n",
    "        pl.col(\"n_cols\").mean().alias(\"mean_n_cols\"),\n",
    "        pl.col(\"n_cols\").median().alias(\"median_n_cols\"),\n",
    "        pl.col(\"avg_null\").mean().alias(\"mean_avg_null\"),\n",
    "        pl.col(\"avg_null\").median().alias(\"median_avg_null\"),\n",
    "    )"
   ]
  },
  {
   "cell_type": "code",
   "execution_count": 33,
   "metadata": {},
   "outputs": [],
   "source": [
    "stats =[ ]"
   ]
  },
  {
   "cell_type": "code",
   "execution_count": 34,
   "metadata": {},
   "outputs": [],
   "source": [
    "profiles = []\n",
    "for tab in path_binary.glob('**/*.parquet'):\n",
    "    d= table_profile(tab)\n",
    "    profiles.append(d)\n",
    "df = pl.from_dicts(profiles)\n",
    "stats.append(get_stats(df))"
   ]
  },
  {
   "cell_type": "code",
   "execution_count": 35,
   "metadata": {},
   "outputs": [],
   "source": [
    "profiles = []\n",
    "for tab in path_open_data.glob('**/*.parquet'):\n",
    "    d= table_profile(tab)\n",
    "    profiles.append(d)\n",
    "df = pl.from_dicts(profiles)\n",
    "stats.append(get_stats(df))"
   ]
  },
  {
   "cell_type": "code",
   "execution_count": 39,
   "metadata": {},
   "outputs": [],
   "source": [
    "profiles = []\n",
    "for tab in path_wordnet.glob('**/*.parquet'):\n",
    "    d= table_profile(tab)\n",
    "    profiles.append(d)\n",
    "df = pl.from_dicts(profiles)\n",
    "stats.append(get_stats(df))"
   ]
  },
  {
   "cell_type": "code",
   "execution_count": 36,
   "metadata": {},
   "outputs": [],
   "source": [
    "from joblib import Parallel, delayed"
   ]
  },
  {
   "cell_type": "code",
   "execution_count": 40,
   "metadata": {},
   "outputs": [
    {
     "data": {
      "text/plain": [
       "[shape: (1, 11)\n",
       " ┌───────────┬───────────┬───────────┬───────────┬───┬───────────┬───────────┬───────────┬──────────┐\n",
       " │ data_lake ┆ mean_num_ ┆ median_nu ┆ mean_cat_ ┆ … ┆ mean_n_co ┆ median_n_ ┆ mean_avg_ ┆ median_a │\n",
       " │ ---       ┆ attr      ┆ m_attr    ┆ attr      ┆   ┆ ls        ┆ cols      ┆ null      ┆ vg_null  │\n",
       " │ str       ┆ ---       ┆ ---       ┆ ---       ┆   ┆ ---       ┆ ---       ┆ ---       ┆ ---      │\n",
       " │           ┆ f64       ┆ f64       ┆ f64       ┆   ┆ f64       ┆ f64       ┆ f64       ┆ f64      │\n",
       " ╞═══════════╪═══════════╪═══════════╪═══════════╪═══╪═══════════╪═══════════╪═══════════╪══════════╡\n",
       " │ binary    ┆ 0.3       ┆ 0.0       ┆ 1.7       ┆ … ┆ 2.0       ┆ 2.0       ┆ 0.000004  ┆ 0.0      │\n",
       " └───────────┴───────────┴───────────┴───────────┴───┴───────────┴───────────┴───────────┴──────────┘,\n",
       " shape: (1, 11)\n",
       " ┌───────────┬───────────┬───────────┬───────────┬───┬───────────┬───────────┬───────────┬──────────┐\n",
       " │ data_lake ┆ mean_num_ ┆ median_nu ┆ mean_cat_ ┆ … ┆ mean_n_co ┆ median_n_ ┆ mean_avg_ ┆ median_a │\n",
       " │ ---       ┆ attr      ┆ m_attr    ┆ attr      ┆   ┆ ls        ┆ cols      ┆ null      ┆ vg_null  │\n",
       " │ str       ┆ ---       ┆ ---       ┆ ---       ┆   ┆ ---       ┆ ---       ┆ ---       ┆ ---      │\n",
       " │           ┆ f64       ┆ f64       ┆ f64       ┆   ┆ f64       ┆ f64       ┆ f64       ┆ f64      │\n",
       " ╞═══════════╪═══════════╪═══════════╪═══════════╪═══╪═══════════╪═══════════╪═══════════╪══════════╡\n",
       " │ binary    ┆ 11.097836 ┆ 3.0       ┆ 12.759256 ┆ … ┆ 23.857092 ┆ 14.0      ┆ 0.094168  ┆ 0.010989 │\n",
       " └───────────┴───────────┴───────────┴───────────┴───┴───────────┴───────────┴───────────┴──────────┘,\n",
       " shape: (1, 11)\n",
       " ┌───────────┬───────────┬───────────┬───────────┬───┬───────────┬───────────┬───────────┬──────────┐\n",
       " │ data_lake ┆ mean_num_ ┆ median_nu ┆ mean_cat_ ┆ … ┆ mean_n_co ┆ median_n_ ┆ mean_avg_ ┆ median_a │\n",
       " │ ---       ┆ attr      ┆ m_attr    ┆ attr      ┆   ┆ ls        ┆ cols      ┆ null      ┆ vg_null  │\n",
       " │ str       ┆ ---       ┆ ---       ┆ ---       ┆   ┆ ---       ┆ ---       ┆ ---       ┆ ---      │\n",
       " │           ┆ f64       ┆ f64       ┆ f64       ┆   ┆ f64       ┆ f64       ┆ f64       ┆ f64      │\n",
       " ╞═══════════╪═══════════╪═══════════╪═══════════╪═══╪═══════════╪═══════════╪═══════════╪══════════╡\n",
       " │ binary    ┆ 0.389698  ┆ 0.0       ┆ 2.775805  ┆ … ┆ 3.165503  ┆ 3.0       ┆ 0.309895  ┆ 0.331624 │\n",
       " └───────────┴───────────┴───────────┴───────────┴───┴───────────┴───────────┴───────────┴──────────┘]"
      ]
     },
     "execution_count": 40,
     "metadata": {},
     "output_type": "execute_result"
    }
   ],
   "source": [
    "stats"
   ]
  },
  {
   "cell_type": "code",
   "execution_count": 41,
   "metadata": {},
   "outputs": [],
   "source": [
    "df_stats = pl.concat(stats)"
   ]
  },
  {
   "cell_type": "code",
   "execution_count": 44,
   "metadata": {},
   "outputs": [
    {
     "data": {
      "text/html": [
       "<div><style>\n",
       ".dataframe > thead > tr,\n",
       ".dataframe > tbody > tr {\n",
       "  text-align: right;\n",
       "  white-space: pre-wrap;\n",
       "}\n",
       "</style>\n",
       "<small>shape: (3, 11)</small><table border=\"1\" class=\"dataframe\"><thead><tr><th>data_lake</th><th>mean_num_attr</th><th>median_num_attr</th><th>mean_cat_attr</th><th>median_cat_attr</th><th>mean_n_rows</th><th>median_n_rows</th><th>mean_n_cols</th><th>median_n_cols</th><th>mean_avg_null</th><th>median_avg_null</th></tr><tr><td>str</td><td>f64</td><td>f64</td><td>f64</td><td>f64</td><td>f64</td><td>f64</td><td>f64</td><td>f64</td><td>f64</td><td>f64</td></tr></thead><tbody><tr><td>&quot;binary&quot;</td><td>0.3</td><td>0.0</td><td>1.7</td><td>2.0</td><td>287134.328571</td><td>40407.5</td><td>2.0</td><td>2.0</td><td>0.000004</td><td>0.0</td></tr><tr><td>&quot;binary&quot;</td><td>11.097836</td><td>3.0</td><td>12.759256</td><td>7.0</td><td>17124.504561</td><td>1000.0</td><td>23.857092</td><td>14.0</td><td>0.094168</td><td>0.010989</td></tr><tr><td>&quot;binary&quot;</td><td>0.389698</td><td>0.0</td><td>2.775805</td><td>3.0</td><td>22343.919826</td><td>927.0</td><td>3.165503</td><td>3.0</td><td>0.309895</td><td>0.331624</td></tr></tbody></table></div>"
      ],
      "text/plain": [
       "shape: (3, 11)\n",
       "┌───────────┬───────────┬───────────┬───────────┬───┬───────────┬───────────┬───────────┬──────────┐\n",
       "│ data_lake ┆ mean_num_ ┆ median_nu ┆ mean_cat_ ┆ … ┆ mean_n_co ┆ median_n_ ┆ mean_avg_ ┆ median_a │\n",
       "│ ---       ┆ attr      ┆ m_attr    ┆ attr      ┆   ┆ ls        ┆ cols      ┆ null      ┆ vg_null  │\n",
       "│ str       ┆ ---       ┆ ---       ┆ ---       ┆   ┆ ---       ┆ ---       ┆ ---       ┆ ---      │\n",
       "│           ┆ f64       ┆ f64       ┆ f64       ┆   ┆ f64       ┆ f64       ┆ f64       ┆ f64      │\n",
       "╞═══════════╪═══════════╪═══════════╪═══════════╪═══╪═══════════╪═══════════╪═══════════╪══════════╡\n",
       "│ binary    ┆ 0.3       ┆ 0.0       ┆ 1.7       ┆ … ┆ 2.0       ┆ 2.0       ┆ 0.000004  ┆ 0.0      │\n",
       "│ binary    ┆ 11.097836 ┆ 3.0       ┆ 12.759256 ┆ … ┆ 23.857092 ┆ 14.0      ┆ 0.094168  ┆ 0.010989 │\n",
       "│ binary    ┆ 0.389698  ┆ 0.0       ┆ 2.775805  ┆ … ┆ 3.165503  ┆ 3.0       ┆ 0.309895  ┆ 0.331624 │\n",
       "└───────────┴───────────┴───────────┴───────────┴───┴───────────┴───────────┴───────────┴──────────┘"
      ]
     },
     "execution_count": 44,
     "metadata": {},
     "output_type": "execute_result"
    }
   ],
   "source": [
    "df_stats"
   ]
  },
  {
   "cell_type": "code",
   "execution_count": 52,
   "metadata": {},
   "outputs": [],
   "source": [
    "df_stats.with_columns(pl.Series([\"binary\", \"open_data\", \"wordnet\"]).alias(\"data_lake\")).transpose(include_header=True, column_names=\"data_lake\").write_csv(\"stats_data_lakes.csv\")"
   ]
  },
  {
   "cell_type": "code",
   "execution_count": null,
   "metadata": {},
   "outputs": [],
   "source": []
  }
 ],
 "metadata": {
  "kernelspec": {
   "display_name": "Python 3",
   "language": "python",
   "name": "python3"
  },
  "language_info": {
   "codemirror_mode": {
    "name": "ipython",
    "version": 3
   },
   "file_extension": ".py",
   "mimetype": "text/x-python",
   "name": "python",
   "nbconvert_exporter": "python",
   "pygments_lexer": "ipython3",
   "version": "3.10.0"
  }
 },
 "nbformat": 4,
 "nbformat_minor": 2
}
