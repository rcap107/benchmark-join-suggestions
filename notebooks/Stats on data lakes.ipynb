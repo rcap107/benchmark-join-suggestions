{
 "cells": [
  {
   "cell_type": "code",
   "execution_count": 1,
   "metadata": {},
   "outputs": [
    {
     "name": "stdout",
     "output_type": "stream",
     "text": [
      "/home/soda/rcappuzz/work/benchmark-join-suggestions\n"
     ]
    }
   ],
   "source": [
    "cd ~/bench"
   ]
  },
  {
   "cell_type": "code",
   "execution_count": 2,
   "metadata": {},
   "outputs": [],
   "source": [
    "import polars as pl\n",
    "from pathlib import Path\n",
    "import polars.selectors as cs"
   ]
  },
  {
   "cell_type": "code",
   "execution_count": 3,
   "metadata": {},
   "outputs": [],
   "source": [
    "path_wordnet = Path(\"data/yadl/wordnet_full/\")\n",
    "path_binary = Path(\"data/yadl/binary_update/\")\n",
    "path_open_data = Path(\"data/open_data_us/\")"
   ]
  },
  {
   "cell_type": "code",
   "execution_count": 4,
   "metadata": {},
   "outputs": [],
   "source": [
    "def table_profile(table_path):\n",
    "    df = pl.read_parquet(table_path)\n",
    "    n_num = df.select(cs.numeric()).shape[1]\n",
    "    c_num = df.select(~cs.numeric()).shape[1]\n",
    "    if len(df)> 0:\n",
    "        avg_null = df.null_count().mean_horizontal().item()/len(df)\n",
    "    else:\n",
    "        avg_null = 0\n",
    "    d = {\"table\": table_path.stem, \"num_attr\": n_num, \"cat_attr\": c_num, \"n_rows\":len(df), \"n_cols\": len(df.columns), \"avg_null\":avg_null}\n",
    "\n",
    "    return d"
   ]
  },
  {
   "cell_type": "code",
   "execution_count": 5,
   "metadata": {},
   "outputs": [],
   "source": [
    "def get_stats(df: pl.DataFrame):\n",
    "    return df.select(\n",
    "        pl.lit(\"binary\").alias(\"data_lake\"),\n",
    "        pl.col(\"num_attr\").mean().alias(\"mean_num_attr\"),\n",
    "        pl.col(\"num_attr\").median().alias(\"median_num_attr\"),\n",
    "        pl.col(\"cat_attr\").mean().alias(\"mean_cat_attr\"),\n",
    "        pl.col(\"cat_attr\").median().alias(\"median_cat_attr\"),\n",
    "        pl.col(\"n_rows\").mean().alias(\"mean_n_rows\"),\n",
    "        pl.col(\"n_rows\").median().alias(\"median_n_rows\"),\n",
    "        pl.col(\"n_cols\").mean().alias(\"mean_n_cols\"),\n",
    "        pl.col(\"n_cols\").median().alias(\"median_n_cols\"),\n",
    "        pl.col(\"avg_null\").mean().alias(\"mean_avg_null\"),\n",
    "        pl.col(\"avg_null\").median().alias(\"median_avg_null\"),\n",
    "    )"
   ]
  },
  {
   "cell_type": "code",
   "execution_count": 6,
   "metadata": {},
   "outputs": [],
   "source": [
    "stats =[ ]"
   ]
  },
  {
   "cell_type": "code",
   "execution_count": 7,
   "metadata": {},
   "outputs": [],
   "source": [
    "profiles = []\n",
    "for tab in path_binary.glob('**/*.parquet'):\n",
    "    d= table_profile(tab)\n",
    "    profiles.append(d)\n",
    "df = pl.from_dicts(profiles)\n",
    "stats.append(get_stats(df))"
   ]
  },
  {
   "cell_type": "code",
   "execution_count": 9,
   "metadata": {},
   "outputs": [
    {
     "ename": "KeyboardInterrupt",
     "evalue": "",
     "output_type": "error",
     "traceback": [
      "\u001b[0;31m---------------------------------------------------------------------------\u001b[0m",
      "\u001b[0;31mKeyboardInterrupt\u001b[0m                         Traceback (most recent call last)",
      "Cell \u001b[0;32mIn[9], line 3\u001b[0m\n\u001b[1;32m      1\u001b[0m profiles \u001b[38;5;241m=\u001b[39m []\n\u001b[1;32m      2\u001b[0m \u001b[38;5;28;01mfor\u001b[39;00m tab \u001b[38;5;129;01min\u001b[39;00m path_open_data\u001b[38;5;241m.\u001b[39mglob(\u001b[38;5;124m'\u001b[39m\u001b[38;5;124m**/*.parquet\u001b[39m\u001b[38;5;124m'\u001b[39m):\n\u001b[0;32m----> 3\u001b[0m     d\u001b[38;5;241m=\u001b[39m \u001b[43mtable_profile\u001b[49m\u001b[43m(\u001b[49m\u001b[43mtab\u001b[49m\u001b[43m)\u001b[49m\n\u001b[1;32m      4\u001b[0m     profiles\u001b[38;5;241m.\u001b[39mappend(d)\n\u001b[1;32m      5\u001b[0m df \u001b[38;5;241m=\u001b[39m pl\u001b[38;5;241m.\u001b[39mfrom_dicts(profiles)\n",
      "Cell \u001b[0;32mIn[4], line 2\u001b[0m, in \u001b[0;36mtable_profile\u001b[0;34m(table_path)\u001b[0m\n\u001b[1;32m      1\u001b[0m \u001b[38;5;28;01mdef\u001b[39;00m \u001b[38;5;21mtable_profile\u001b[39m(table_path):\n\u001b[0;32m----> 2\u001b[0m     df \u001b[38;5;241m=\u001b[39m \u001b[43mpl\u001b[49m\u001b[38;5;241;43m.\u001b[39;49m\u001b[43mread_parquet\u001b[49m\u001b[43m(\u001b[49m\u001b[43mtable_path\u001b[49m\u001b[43m)\u001b[49m\n\u001b[1;32m      3\u001b[0m     n_num \u001b[38;5;241m=\u001b[39m df\u001b[38;5;241m.\u001b[39mselect(cs\u001b[38;5;241m.\u001b[39mnumeric())\u001b[38;5;241m.\u001b[39mshape[\u001b[38;5;241m1\u001b[39m]\n\u001b[1;32m      4\u001b[0m     c_num \u001b[38;5;241m=\u001b[39m df\u001b[38;5;241m.\u001b[39mselect(\u001b[38;5;241m~\u001b[39mcs\u001b[38;5;241m.\u001b[39mnumeric())\u001b[38;5;241m.\u001b[39mshape[\u001b[38;5;241m1\u001b[39m]\n",
      "File \u001b[0;32m~/store3/bench/env/bench/lib/python3.10/site-packages/polars/utils/deprecation.py:133\u001b[0m, in \u001b[0;36mdeprecate_renamed_parameter.<locals>.decorate.<locals>.wrapper\u001b[0;34m(*args, **kwargs)\u001b[0m\n\u001b[1;32m    128\u001b[0m \u001b[38;5;129m@wraps\u001b[39m(function)\n\u001b[1;32m    129\u001b[0m \u001b[38;5;28;01mdef\u001b[39;00m \u001b[38;5;21mwrapper\u001b[39m(\u001b[38;5;241m*\u001b[39margs: P\u001b[38;5;241m.\u001b[39margs, \u001b[38;5;241m*\u001b[39m\u001b[38;5;241m*\u001b[39mkwargs: P\u001b[38;5;241m.\u001b[39mkwargs) \u001b[38;5;241m-\u001b[39m\u001b[38;5;241m>\u001b[39m T:\n\u001b[1;32m    130\u001b[0m     _rename_keyword_argument(\n\u001b[1;32m    131\u001b[0m         old_name, new_name, kwargs, function\u001b[38;5;241m.\u001b[39m\u001b[38;5;18m__name__\u001b[39m, version\n\u001b[1;32m    132\u001b[0m     )\n\u001b[0;32m--> 133\u001b[0m     \u001b[38;5;28;01mreturn\u001b[39;00m \u001b[43mfunction\u001b[49m\u001b[43m(\u001b[49m\u001b[38;5;241;43m*\u001b[39;49m\u001b[43margs\u001b[49m\u001b[43m,\u001b[49m\u001b[43m \u001b[49m\u001b[38;5;241;43m*\u001b[39;49m\u001b[38;5;241;43m*\u001b[39;49m\u001b[43mkwargs\u001b[49m\u001b[43m)\u001b[49m\n",
      "File \u001b[0;32m~/store3/bench/env/bench/lib/python3.10/site-packages/polars/utils/deprecation.py:133\u001b[0m, in \u001b[0;36mdeprecate_renamed_parameter.<locals>.decorate.<locals>.wrapper\u001b[0;34m(*args, **kwargs)\u001b[0m\n\u001b[1;32m    128\u001b[0m \u001b[38;5;129m@wraps\u001b[39m(function)\n\u001b[1;32m    129\u001b[0m \u001b[38;5;28;01mdef\u001b[39;00m \u001b[38;5;21mwrapper\u001b[39m(\u001b[38;5;241m*\u001b[39margs: P\u001b[38;5;241m.\u001b[39margs, \u001b[38;5;241m*\u001b[39m\u001b[38;5;241m*\u001b[39mkwargs: P\u001b[38;5;241m.\u001b[39mkwargs) \u001b[38;5;241m-\u001b[39m\u001b[38;5;241m>\u001b[39m T:\n\u001b[1;32m    130\u001b[0m     _rename_keyword_argument(\n\u001b[1;32m    131\u001b[0m         old_name, new_name, kwargs, function\u001b[38;5;241m.\u001b[39m\u001b[38;5;18m__name__\u001b[39m, version\n\u001b[1;32m    132\u001b[0m     )\n\u001b[0;32m--> 133\u001b[0m     \u001b[38;5;28;01mreturn\u001b[39;00m \u001b[43mfunction\u001b[49m\u001b[43m(\u001b[49m\u001b[38;5;241;43m*\u001b[39;49m\u001b[43margs\u001b[49m\u001b[43m,\u001b[49m\u001b[43m \u001b[49m\u001b[38;5;241;43m*\u001b[39;49m\u001b[38;5;241;43m*\u001b[39;49m\u001b[43mkwargs\u001b[49m\u001b[43m)\u001b[49m\n",
      "File \u001b[0;32m~/store3/bench/env/bench/lib/python3.10/site-packages/polars/io/parquet/functions.py:191\u001b[0m, in \u001b[0;36mread_parquet\u001b[0;34m(source, columns, n_rows, row_index_name, row_index_offset, parallel, use_statistics, hive_partitioning, rechunk, low_memory, storage_options, retries, use_pyarrow, pyarrow_options, memory_map)\u001b[0m\n\u001b[1;32m    188\u001b[0m         columns \u001b[38;5;241m=\u001b[39m [lf\u001b[38;5;241m.\u001b[39mcolumns[i] \u001b[38;5;28;01mfor\u001b[39;00m i \u001b[38;5;129;01min\u001b[39;00m columns]\n\u001b[1;32m    189\u001b[0m     lf \u001b[38;5;241m=\u001b[39m lf\u001b[38;5;241m.\u001b[39mselect(columns)\n\u001b[0;32m--> 191\u001b[0m \u001b[38;5;28;01mreturn\u001b[39;00m \u001b[43mlf\u001b[49m\u001b[38;5;241;43m.\u001b[39;49m\u001b[43mcollect\u001b[49m\u001b[43m(\u001b[49m\u001b[43mno_optimization\u001b[49m\u001b[38;5;241;43m=\u001b[39;49m\u001b[38;5;28;43;01mTrue\u001b[39;49;00m\u001b[43m)\u001b[49m\n",
      "File \u001b[0;32m~/store3/bench/env/bench/lib/python3.10/site-packages/polars/lazyframe/frame.py:1730\u001b[0m, in \u001b[0;36mLazyFrame.collect\u001b[0;34m(self, type_coercion, predicate_pushdown, projection_pushdown, simplify_expression, slice_pushdown, comm_subplan_elim, comm_subexpr_elim, no_optimization, streaming, background, _eager)\u001b[0m\n\u001b[1;32m   1727\u001b[0m \u001b[38;5;28;01mif\u001b[39;00m background:\n\u001b[1;32m   1728\u001b[0m     \u001b[38;5;28;01mreturn\u001b[39;00m InProcessQuery(ldf\u001b[38;5;241m.\u001b[39mcollect_concurrently())\n\u001b[0;32m-> 1730\u001b[0m \u001b[38;5;28;01mreturn\u001b[39;00m wrap_df(\u001b[43mldf\u001b[49m\u001b[38;5;241;43m.\u001b[39;49m\u001b[43mcollect\u001b[49m\u001b[43m(\u001b[49m\u001b[43m)\u001b[49m)\n",
      "\u001b[0;31mKeyboardInterrupt\u001b[0m: "
     ]
    }
   ],
   "source": [
    "profiles = []\n",
    "for tab in path_open_data.glob('**/*.parquet'):\n",
    "    d= table_profile(tab)\n",
    "    profiles.append(d)\n",
    "df = pl.from_dicts(profiles)\n",
    "stats.append(get_stats(df))"
   ]
  },
  {
   "cell_type": "code",
   "execution_count": 10,
   "metadata": {},
   "outputs": [],
   "source": [
    "profiles = []\n",
    "for tab in path_wordnet.glob('**/*.parquet'):\n",
    "    d= table_profile(tab)\n",
    "    profiles.append(d)\n",
    "df = pl.from_dicts(profiles)\n",
    "stats.append(get_stats(df))"
   ]
  },
  {
   "cell_type": "code",
   "execution_count": 11,
   "metadata": {},
   "outputs": [],
   "source": [
    "df_stats = pl.concat(stats)"
   ]
  },
  {
   "cell_type": "code",
   "execution_count": 12,
   "metadata": {},
   "outputs": [
    {
     "data": {
      "text/html": [
       "<div><style>\n",
       ".dataframe > thead > tr,\n",
       ".dataframe > tbody > tr {\n",
       "  text-align: right;\n",
       "  white-space: pre-wrap;\n",
       "}\n",
       "</style>\n",
       "<small>shape: (2, 11)</small><table border=\"1\" class=\"dataframe\"><thead><tr><th>data_lake</th><th>mean_num_attr</th><th>median_num_attr</th><th>mean_cat_attr</th><th>median_cat_attr</th><th>mean_n_rows</th><th>median_n_rows</th><th>mean_n_cols</th><th>median_n_cols</th><th>mean_avg_null</th><th>median_avg_null</th></tr><tr><td>str</td><td>f64</td><td>f64</td><td>f64</td><td>f64</td><td>f64</td><td>f64</td><td>f64</td><td>f64</td><td>f64</td><td>f64</td></tr></thead><tbody><tr><td>&quot;binary&quot;</td><td>0.3</td><td>0.0</td><td>1.7</td><td>2.0</td><td>287134.328571</td><td>40407.5</td><td>2.0</td><td>2.0</td><td>0.000004</td><td>0.0</td></tr><tr><td>&quot;binary&quot;</td><td>0.389698</td><td>0.0</td><td>2.775805</td><td>3.0</td><td>22343.919826</td><td>927.0</td><td>3.165503</td><td>3.0</td><td>0.309895</td><td>0.331624</td></tr></tbody></table></div>"
      ],
      "text/plain": [
       "shape: (2, 11)\n",
       "┌───────────┬───────────┬───────────┬───────────┬───┬───────────┬───────────┬───────────┬──────────┐\n",
       "│ data_lake ┆ mean_num_ ┆ median_nu ┆ mean_cat_ ┆ … ┆ mean_n_co ┆ median_n_ ┆ mean_avg_ ┆ median_a │\n",
       "│ ---       ┆ attr      ┆ m_attr    ┆ attr      ┆   ┆ ls        ┆ cols      ┆ null      ┆ vg_null  │\n",
       "│ str       ┆ ---       ┆ ---       ┆ ---       ┆   ┆ ---       ┆ ---       ┆ ---       ┆ ---      │\n",
       "│           ┆ f64       ┆ f64       ┆ f64       ┆   ┆ f64       ┆ f64       ┆ f64       ┆ f64      │\n",
       "╞═══════════╪═══════════╪═══════════╪═══════════╪═══╪═══════════╪═══════════╪═══════════╪══════════╡\n",
       "│ binary    ┆ 0.3       ┆ 0.0       ┆ 1.7       ┆ … ┆ 2.0       ┆ 2.0       ┆ 0.000004  ┆ 0.0      │\n",
       "│ binary    ┆ 0.389698  ┆ 0.0       ┆ 2.775805  ┆ … ┆ 3.165503  ┆ 3.0       ┆ 0.309895  ┆ 0.331624 │\n",
       "└───────────┴───────────┴───────────┴───────────┴───┴───────────┴───────────┴───────────┴──────────┘"
      ]
     },
     "execution_count": 12,
     "metadata": {},
     "output_type": "execute_result"
    }
   ],
   "source": [
    "df_stats"
   ]
  },
  {
   "cell_type": "code",
   "execution_count": 52,
   "metadata": {},
   "outputs": [],
   "source": [
    "df_stats.with_columns(pl.Series([\"binary\", \"open_data\", \"wordnet\"]).alias(\"data_lake\")).transpose(include_header=True, column_names=\"data_lake\").write_csv(\"stats_data_lakes.csv\")"
   ]
  },
  {
   "cell_type": "code",
   "execution_count": null,
   "metadata": {},
   "outputs": [],
   "source": []
  }
 ],
 "metadata": {
  "kernelspec": {
   "display_name": "Python 3",
   "language": "python",
   "name": "python3"
  },
  "language_info": {
   "codemirror_mode": {
    "name": "ipython",
    "version": 3
   },
   "file_extension": ".py",
   "mimetype": "text/x-python",
   "name": "python",
   "nbconvert_exporter": "python",
   "pygments_lexer": "ipython3",
   "version": "3.10.0"
  }
 },
 "nbformat": 4,
 "nbformat_minor": 2
}
