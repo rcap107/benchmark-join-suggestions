{
 "cells": [
  {
   "cell_type": "code",
   "execution_count": 5,
   "metadata": {},
   "outputs": [
    {
     "name": "stdout",
     "output_type": "stream",
     "text": [
      "/home/soda/rcappuzz/work/benchmark-join-suggestions\n"
     ]
    }
   ],
   "source": [
    "cd ~/bench"
   ]
  },
  {
   "cell_type": "code",
   "execution_count": 6,
   "metadata": {},
   "outputs": [],
   "source": [
    "import polars as pl\n",
    "from pathlib import Path\n",
    "import polars.selectors as cs\n",
    "from tqdm.notebook import tqdm\n",
    "from joblib import Parallel, delayed"
   ]
  },
  {
   "cell_type": "code",
   "execution_count": 7,
   "metadata": {},
   "outputs": [],
   "source": [
    "path_list = list(\n",
    "    map(\n",
    "        Path,\n",
    "        [\n",
    "            # \"data/yadl/binary_update/\",\n",
    "            # \"data/yadl/wordnet_vldb/\",\n",
    "            # \"data/yadl/wordnet_full/\",\n",
    "            # \"data/yadl/wordnet_vldb_3/\",\n",
    "            # \"data/yadl/wordnet_vldb_10/\",\n",
    "            # \"data/yadl/wordnet_vldb_50/\",\n",
    "            \"data/open_data_us/\",\n",
    "        ],\n",
    "    )\n",
    ")"
   ]
  },
  {
   "cell_type": "code",
   "execution_count": 8,
   "metadata": {},
   "outputs": [],
   "source": [
    "def table_profile(table_path, data_lake):\n",
    "    df = pl.read_parquet(table_path)\n",
    "    n_num = df.select(cs.numeric()).shape[1]\n",
    "    c_num = df.select(~cs.numeric()).shape[1]\n",
    "    if len(df) > 0:\n",
    "        avg_null = df.null_count().mean_horizontal().item() / len(df)\n",
    "        # avg_null = df.null_count().mean_horizontal().item()/len(df)\n",
    "    else:\n",
    "        avg_null = 0\n",
    "    d = {\n",
    "        \"data_lake\": data_lake,\n",
    "        \"table\": table_path.stem,\n",
    "        \"num_attr\": n_num,\n",
    "        \"cat_attr\": c_num,\n",
    "        \"n_rows\": len(df),\n",
    "        \"n_cols\": len(df.columns),\n",
    "        \"avg_null\": avg_null,\n",
    "    }\n",
    "\n",
    "    return d"
   ]
  },
  {
   "cell_type": "code",
   "execution_count": 9,
   "metadata": {},
   "outputs": [],
   "source": [
    "def get_stats(df: pl.DataFrame):\n",
    "    return df.select(\n",
    "        pl.col(\"data_lake\").first(),\n",
    "        pl.col(\"n_tables\").first(),\n",
    "        pl.col(\"n_rows\").sum().alias(\"tot_rows\"),\n",
    "        pl.col(\"n_cols\").sum().alias(\"tot_cols\"),\n",
    "        pl.col(\"n_cols\").mean().alias(\"mean_n_cols\"),\n",
    "        pl.col(\"n_cols\").median().alias(\"median_n_cols\"),\n",
    "        pl.col(\"n_rows\").mean().alias(\"mean_n_rows\"),\n",
    "        pl.col(\"n_rows\").median().alias(\"median_n_rows\"),\n",
    "        pl.col(\"num_attr\").mean().alias(\"mean_num_attr\"),\n",
    "        pl.col(\"num_attr\").median().alias(\"median_num_attr\"),\n",
    "        pl.col(\"cat_attr\").mean().alias(\"mean_cat_attr\"),\n",
    "        pl.col(\"cat_attr\").median().alias(\"median_cat_attr\"),\n",
    "        pl.col(\"avg_null\").mean().alias(\"mean_avg_null\"),\n",
    "        pl.col(\"avg_null\").median().alias(\"median_avg_null\"),\n",
    "    )"
   ]
  },
  {
   "cell_type": "code",
   "execution_count": 10,
   "metadata": {},
   "outputs": [],
   "source": [
    "stats = []"
   ]
  },
  {
   "cell_type": "code",
   "execution_count": 15,
   "metadata": {},
   "outputs": [
    {
     "data": {
      "application/vnd.jupyter.widget-view+json": {
       "model_id": "26d40cc82ada407dbbd035ce3e28adc1",
       "version_major": 2,
       "version_minor": 0
      },
      "text/plain": [
       "binary_update:   0%|          | 0/70 [00:00<?, ?it/s]"
      ]
     },
     "metadata": {},
     "output_type": "display_data"
    },
    {
     "data": {
      "application/vnd.jupyter.widget-view+json": {
       "model_id": "8e4bb28e1dc846d69af8b2f16d73c71c",
       "version_major": 2,
       "version_minor": 0
      },
      "text/plain": [
       "wordnet_vldb:   0%|          | 0/869 [00:00<?, ?it/s]"
      ]
     },
     "metadata": {},
     "output_type": "display_data"
    },
    {
     "data": {
      "application/vnd.jupyter.widget-view+json": {
       "model_id": "99b760e8abd549b593a12e210cf1c48b",
       "version_major": 2,
       "version_minor": 0
      },
      "text/plain": [
       "wordnet_full:   0%|          | 0/30072 [00:00<?, ?it/s]"
      ]
     },
     "metadata": {},
     "output_type": "display_data"
    },
    {
     "data": {
      "application/vnd.jupyter.widget-view+json": {
       "model_id": "56576b75779b4cefb04551a8fd3684e3",
       "version_major": 2,
       "version_minor": 0
      },
      "text/plain": [
       "wordnet_vldb_3:   0%|          | 0/3162 [00:00<?, ?it/s]"
      ]
     },
     "metadata": {},
     "output_type": "display_data"
    },
    {
     "data": {
      "application/vnd.jupyter.widget-view+json": {
       "model_id": "4989b333b0ba4b78af9c391f52113870",
       "version_major": 2,
       "version_minor": 0
      },
      "text/plain": [
       "wordnet_vldb_10:   0%|          | 0/10059 [00:00<?, ?it/s]"
      ]
     },
     "metadata": {},
     "output_type": "display_data"
    },
    {
     "data": {
      "application/vnd.jupyter.widget-view+json": {
       "model_id": "6b3d06c5266340ed83d5dbb2261f70b9",
       "version_major": 2,
       "version_minor": 0
      },
      "text/plain": [
       "wordnet_vldb_50:   0%|          | 0/47223 [00:00<?, ?it/s]"
      ]
     },
     "metadata": {},
     "output_type": "display_data"
    },
    {
     "data": {
      "application/vnd.jupyter.widget-view+json": {
       "model_id": "0fdebcac4c20423db14fdaae1745e57f",
       "version_major": 2,
       "version_minor": 0
      },
      "text/plain": [
       "open_data_us:   0%|          | 0/5591 [00:00<?, ?it/s]"
      ]
     },
     "metadata": {},
     "output_type": "display_data"
    }
   ],
   "source": [
    "for path in path_list:\n",
    "    profiles = []\n",
    "    # for tab in path.glob(\"**/*.parquet\"):\n",
    "\n",
    "    profiles = Parallel(n_jobs=8, verbose=0)(\n",
    "        delayed(table_profile)(tab, path.stem)\n",
    "        for tab in tqdm(\n",
    "            path.glob(\"**/*.parquet\"),\n",
    "            total=sum(1 for _ in path.glob(\"**/*.parquet\")),\n",
    "            position=0,\n",
    "            leave=False,\n",
    "            desc=path.stem,\n",
    "        )\n",
    "    )\n",
    "\n",
    "    # for tab in tqdm(\n",
    "    #     path.glob(\"**/*.parquet\"), total=sum(1 for _ in path.glob(\"**/*.parquet\")), position=0, leave=False, desc=path.stem\n",
    "    # ):\n",
    "\n",
    "    #     d = table_profile(tab, path.stem)\n",
    "    #     profiles.append(d)\n",
    "    df = pl.from_dicts(profiles).with_columns(pl.lit(len(profiles)).alias(\"n_tables\"))\n",
    "    stats.append(get_stats(df))\n",
    "df_stats = pl.concat(stats)"
   ]
  },
  {
   "cell_type": "code",
   "execution_count": 16,
   "metadata": {},
   "outputs": [],
   "source": [
    "df_stats = pl.concat(stats)"
   ]
  },
  {
   "cell_type": "code",
   "execution_count": 18,
   "metadata": {},
   "outputs": [
    {
     "data": {
      "text/html": [
       "<style type=\"text/css\">\n",
       "</style>\n",
       "<table id=\"T_ff2d4\">\n",
       "  <thead>\n",
       "    <tr>\n",
       "      <th class=\"blank level0\" >&nbsp;</th>\n",
       "      <th id=\"T_ff2d4_level0_col0\" class=\"col_heading level0 col0\" >column</th>\n",
       "      <th id=\"T_ff2d4_level0_col1\" class=\"col_heading level0 col1\" >binary_update</th>\n",
       "      <th id=\"T_ff2d4_level0_col2\" class=\"col_heading level0 col2\" >wordnet_vldb</th>\n",
       "      <th id=\"T_ff2d4_level0_col3\" class=\"col_heading level0 col3\" >wordnet_full</th>\n",
       "      <th id=\"T_ff2d4_level0_col4\" class=\"col_heading level0 col4\" >wordnet_vldb_3</th>\n",
       "      <th id=\"T_ff2d4_level0_col5\" class=\"col_heading level0 col5\" >wordnet_vldb_10</th>\n",
       "      <th id=\"T_ff2d4_level0_col6\" class=\"col_heading level0 col6\" >wordnet_vldb_50</th>\n",
       "      <th id=\"T_ff2d4_level0_col7\" class=\"col_heading level0 col7\" >open_data_us</th>\n",
       "    </tr>\n",
       "  </thead>\n",
       "  <tbody>\n",
       "    <tr>\n",
       "      <th id=\"T_ff2d4_level0_row0\" class=\"row_heading level0 row0\" >0</th>\n",
       "      <td id=\"T_ff2d4_row0_col0\" class=\"data row0 col0\" >n_tables</td>\n",
       "      <td id=\"T_ff2d4_row0_col1\" class=\"data row0 col1\" >70.00</td>\n",
       "      <td id=\"T_ff2d4_row0_col2\" class=\"data row0 col2\" >869.00</td>\n",
       "      <td id=\"T_ff2d4_row0_col3\" class=\"data row0 col3\" >30072.00</td>\n",
       "      <td id=\"T_ff2d4_row0_col4\" class=\"data row0 col4\" >3162.00</td>\n",
       "      <td id=\"T_ff2d4_row0_col5\" class=\"data row0 col5\" >10059.00</td>\n",
       "      <td id=\"T_ff2d4_row0_col6\" class=\"data row0 col6\" >47223.00</td>\n",
       "      <td id=\"T_ff2d4_row0_col7\" class=\"data row0 col7\" >5591.00</td>\n",
       "    </tr>\n",
       "    <tr>\n",
       "      <th id=\"T_ff2d4_level0_row1\" class=\"row_heading level0 row1\" >1</th>\n",
       "      <td id=\"T_ff2d4_row1_col0\" class=\"data row1 col0\" >tot_rows</td>\n",
       "      <td id=\"T_ff2d4_row1_col1\" class=\"data row1 col1\" >20099403.00</td>\n",
       "      <td id=\"T_ff2d4_row1_col2\" class=\"data row1 col2\" >8012927.00</td>\n",
       "      <td id=\"T_ff2d4_row1_col3\" class=\"data row1 col3\" >671926357.00</td>\n",
       "      <td id=\"T_ff2d4_row1_col4\" class=\"data row1 col4\" >73449573.00</td>\n",
       "      <td id=\"T_ff2d4_row1_col5\" class=\"data row1 col5\" >241564466.00</td>\n",
       "      <td id=\"T_ff2d4_row1_col6\" class=\"data row1 col6\" >1200891362.00</td>\n",
       "      <td id=\"T_ff2d4_row1_col7\" class=\"data row1 col7\" >95743105.00</td>\n",
       "    </tr>\n",
       "    <tr>\n",
       "      <th id=\"T_ff2d4_level0_row2\" class=\"row_heading level0 row2\" >2</th>\n",
       "      <td id=\"T_ff2d4_row2_col0\" class=\"data row2 col0\" >tot_cols</td>\n",
       "      <td id=\"T_ff2d4_row2_col1\" class=\"data row2 col1\" >140.00</td>\n",
       "      <td id=\"T_ff2d4_row2_col2\" class=\"data row2 col2\" >7122.00</td>\n",
       "      <td id=\"T_ff2d4_row2_col3\" class=\"data row2 col3\" >95193.00</td>\n",
       "      <td id=\"T_ff2d4_row2_col4\" class=\"data row2 col4\" >38553.00</td>\n",
       "      <td id=\"T_ff2d4_row2_col5\" class=\"data row2 col5\" >126999.00</td>\n",
       "      <td id=\"T_ff2d4_row2_col6\" class=\"data row2 col6\" >623685.00</td>\n",
       "      <td id=\"T_ff2d4_row2_col7\" class=\"data row2 col7\" >133385.00</td>\n",
       "    </tr>\n",
       "    <tr>\n",
       "      <th id=\"T_ff2d4_level0_row3\" class=\"row_heading level0 row3\" >3</th>\n",
       "      <td id=\"T_ff2d4_row3_col0\" class=\"data row3 col0\" >mean_n_cols</td>\n",
       "      <td id=\"T_ff2d4_row3_col1\" class=\"data row3 col1\" >2.00</td>\n",
       "      <td id=\"T_ff2d4_row3_col2\" class=\"data row3 col2\" >8.20</td>\n",
       "      <td id=\"T_ff2d4_row3_col3\" class=\"data row3 col3\" >3.17</td>\n",
       "      <td id=\"T_ff2d4_row3_col4\" class=\"data row3 col4\" >12.19</td>\n",
       "      <td id=\"T_ff2d4_row3_col5\" class=\"data row3 col5\" >12.63</td>\n",
       "      <td id=\"T_ff2d4_row3_col6\" class=\"data row3 col6\" >13.21</td>\n",
       "      <td id=\"T_ff2d4_row3_col7\" class=\"data row3 col7\" >23.86</td>\n",
       "    </tr>\n",
       "    <tr>\n",
       "      <th id=\"T_ff2d4_level0_row4\" class=\"row_heading level0 row4\" >4</th>\n",
       "      <td id=\"T_ff2d4_row4_col0\" class=\"data row4 col0\" >median_n_cols</td>\n",
       "      <td id=\"T_ff2d4_row4_col1\" class=\"data row4 col1\" >2.00</td>\n",
       "      <td id=\"T_ff2d4_row4_col2\" class=\"data row4 col2\" >6.00</td>\n",
       "      <td id=\"T_ff2d4_row4_col3\" class=\"data row4 col3\" >3.00</td>\n",
       "      <td id=\"T_ff2d4_row4_col4\" class=\"data row4 col4\" >10.00</td>\n",
       "      <td id=\"T_ff2d4_row4_col5\" class=\"data row4 col5\" >10.00</td>\n",
       "      <td id=\"T_ff2d4_row4_col6\" class=\"data row4 col6\" >11.00</td>\n",
       "      <td id=\"T_ff2d4_row4_col7\" class=\"data row4 col7\" >14.00</td>\n",
       "    </tr>\n",
       "    <tr>\n",
       "      <th id=\"T_ff2d4_level0_row5\" class=\"row_heading level0 row5\" >5</th>\n",
       "      <td id=\"T_ff2d4_row5_col0\" class=\"data row5 col0\" >mean_n_rows</td>\n",
       "      <td id=\"T_ff2d4_row5_col1\" class=\"data row5 col1\" >287134.33</td>\n",
       "      <td id=\"T_ff2d4_row5_col2\" class=\"data row5 col2\" >9220.86</td>\n",
       "      <td id=\"T_ff2d4_row5_col3\" class=\"data row5 col3\" >22343.92</td>\n",
       "      <td id=\"T_ff2d4_row5_col4\" class=\"data row5 col4\" >23228.83</td>\n",
       "      <td id=\"T_ff2d4_row5_col5\" class=\"data row5 col5\" >24014.76</td>\n",
       "      <td id=\"T_ff2d4_row5_col6\" class=\"data row5 col6\" >25430.22</td>\n",
       "      <td id=\"T_ff2d4_row5_col7\" class=\"data row5 col7\" >17124.50</td>\n",
       "    </tr>\n",
       "    <tr>\n",
       "      <th id=\"T_ff2d4_level0_row6\" class=\"row_heading level0 row6\" >6</th>\n",
       "      <td id=\"T_ff2d4_row6_col0\" class=\"data row6 col0\" >median_n_rows</td>\n",
       "      <td id=\"T_ff2d4_row6_col1\" class=\"data row6 col1\" >40407.50</td>\n",
       "      <td id=\"T_ff2d4_row6_col2\" class=\"data row6 col2\" >74.00</td>\n",
       "      <td id=\"T_ff2d4_row6_col3\" class=\"data row6 col3\" >927.00</td>\n",
       "      <td id=\"T_ff2d4_row6_col4\" class=\"data row6 col4\" >1602.00</td>\n",
       "      <td id=\"T_ff2d4_row6_col5\" class=\"data row6 col5\" >1698.00</td>\n",
       "      <td id=\"T_ff2d4_row6_col6\" class=\"data row6 col6\" >1767.00</td>\n",
       "      <td id=\"T_ff2d4_row6_col7\" class=\"data row6 col7\" >1000.00</td>\n",
       "    </tr>\n",
       "    <tr>\n",
       "      <th id=\"T_ff2d4_level0_row7\" class=\"row_heading level0 row7\" >7</th>\n",
       "      <td id=\"T_ff2d4_row7_col0\" class=\"data row7 col0\" >mean_num_attr</td>\n",
       "      <td id=\"T_ff2d4_row7_col1\" class=\"data row7 col1\" >0.30</td>\n",
       "      <td id=\"T_ff2d4_row7_col2\" class=\"data row7 col2\" >1.76</td>\n",
       "      <td id=\"T_ff2d4_row7_col3\" class=\"data row7 col3\" >0.39</td>\n",
       "      <td id=\"T_ff2d4_row7_col4\" class=\"data row7 col4\" >3.50</td>\n",
       "      <td id=\"T_ff2d4_row7_col5\" class=\"data row7 col5\" >3.54</td>\n",
       "      <td id=\"T_ff2d4_row7_col6\" class=\"data row7 col6\" >3.59</td>\n",
       "      <td id=\"T_ff2d4_row7_col7\" class=\"data row7 col7\" >11.10</td>\n",
       "    </tr>\n",
       "    <tr>\n",
       "      <th id=\"T_ff2d4_level0_row8\" class=\"row_heading level0 row8\" >8</th>\n",
       "      <td id=\"T_ff2d4_row8_col0\" class=\"data row8 col0\" >median_num_attr</td>\n",
       "      <td id=\"T_ff2d4_row8_col1\" class=\"data row8 col1\" >0.00</td>\n",
       "      <td id=\"T_ff2d4_row8_col2\" class=\"data row8 col2\" >2.00</td>\n",
       "      <td id=\"T_ff2d4_row8_col3\" class=\"data row8 col3\" >0.00</td>\n",
       "      <td id=\"T_ff2d4_row8_col4\" class=\"data row8 col4\" >3.00</td>\n",
       "      <td id=\"T_ff2d4_row8_col5\" class=\"data row8 col5\" >3.00</td>\n",
       "      <td id=\"T_ff2d4_row8_col6\" class=\"data row8 col6\" >3.00</td>\n",
       "      <td id=\"T_ff2d4_row8_col7\" class=\"data row8 col7\" >3.00</td>\n",
       "    </tr>\n",
       "    <tr>\n",
       "      <th id=\"T_ff2d4_level0_row9\" class=\"row_heading level0 row9\" >9</th>\n",
       "      <td id=\"T_ff2d4_row9_col0\" class=\"data row9 col0\" >mean_cat_attr</td>\n",
       "      <td id=\"T_ff2d4_row9_col1\" class=\"data row9 col1\" >1.70</td>\n",
       "      <td id=\"T_ff2d4_row9_col2\" class=\"data row9 col2\" >6.43</td>\n",
       "      <td id=\"T_ff2d4_row9_col3\" class=\"data row9 col3\" >2.78</td>\n",
       "      <td id=\"T_ff2d4_row9_col4\" class=\"data row9 col4\" >8.69</td>\n",
       "      <td id=\"T_ff2d4_row9_col5\" class=\"data row9 col5\" >9.08</td>\n",
       "      <td id=\"T_ff2d4_row9_col6\" class=\"data row9 col6\" >9.61</td>\n",
       "      <td id=\"T_ff2d4_row9_col7\" class=\"data row9 col7\" >12.76</td>\n",
       "    </tr>\n",
       "    <tr>\n",
       "      <th id=\"T_ff2d4_level0_row10\" class=\"row_heading level0 row10\" >10</th>\n",
       "      <td id=\"T_ff2d4_row10_col0\" class=\"data row10 col0\" >median_cat_attr</td>\n",
       "      <td id=\"T_ff2d4_row10_col1\" class=\"data row10 col1\" >2.00</td>\n",
       "      <td id=\"T_ff2d4_row10_col2\" class=\"data row10 col2\" >4.00</td>\n",
       "      <td id=\"T_ff2d4_row10_col3\" class=\"data row10 col3\" >3.00</td>\n",
       "      <td id=\"T_ff2d4_row10_col4\" class=\"data row10 col4\" >6.00</td>\n",
       "      <td id=\"T_ff2d4_row10_col5\" class=\"data row10 col5\" >6.00</td>\n",
       "      <td id=\"T_ff2d4_row10_col6\" class=\"data row10 col6\" >7.00</td>\n",
       "      <td id=\"T_ff2d4_row10_col7\" class=\"data row10 col7\" >7.00</td>\n",
       "    </tr>\n",
       "    <tr>\n",
       "      <th id=\"T_ff2d4_level0_row11\" class=\"row_heading level0 row11\" >11</th>\n",
       "      <td id=\"T_ff2d4_row11_col0\" class=\"data row11 col0\" >mean_avg_null</td>\n",
       "      <td id=\"T_ff2d4_row11_col1\" class=\"data row11 col1\" >0.00</td>\n",
       "      <td id=\"T_ff2d4_row11_col2\" class=\"data row11 col2\" >0.44</td>\n",
       "      <td id=\"T_ff2d4_row11_col3\" class=\"data row11 col3\" >0.31</td>\n",
       "      <td id=\"T_ff2d4_row11_col4\" class=\"data row11 col4\" >0.60</td>\n",
       "      <td id=\"T_ff2d4_row11_col5\" class=\"data row11 col5\" >0.62</td>\n",
       "      <td id=\"T_ff2d4_row11_col6\" class=\"data row11 col6\" >0.64</td>\n",
       "      <td id=\"T_ff2d4_row11_col7\" class=\"data row11 col7\" >0.09</td>\n",
       "    </tr>\n",
       "    <tr>\n",
       "      <th id=\"T_ff2d4_level0_row12\" class=\"row_heading level0 row12\" >12</th>\n",
       "      <td id=\"T_ff2d4_row12_col0\" class=\"data row12 col0\" >median_avg_null</td>\n",
       "      <td id=\"T_ff2d4_row12_col1\" class=\"data row12 col1\" >0.00</td>\n",
       "      <td id=\"T_ff2d4_row12_col2\" class=\"data row12 col2\" >0.50</td>\n",
       "      <td id=\"T_ff2d4_row12_col3\" class=\"data row12 col3\" >0.33</td>\n",
       "      <td id=\"T_ff2d4_row12_col4\" class=\"data row12 col4\" >0.66</td>\n",
       "      <td id=\"T_ff2d4_row12_col5\" class=\"data row12 col5\" >0.67</td>\n",
       "      <td id=\"T_ff2d4_row12_col6\" class=\"data row12 col6\" >0.68</td>\n",
       "      <td id=\"T_ff2d4_row12_col7\" class=\"data row12 col7\" >0.01</td>\n",
       "    </tr>\n",
       "  </tbody>\n",
       "</table>\n"
      ],
      "text/plain": [
       "<pandas.io.formats.style.Styler at 0x7f2376c329b0>"
      ]
     },
     "execution_count": 18,
     "metadata": {},
     "output_type": "execute_result"
    }
   ],
   "source": [
    "df_stats.transpose(include_header=True, column_names=\"data_lake\").to_pandas().style.format(precision=2)"
   ]
  },
  {
   "cell_type": "code",
   "execution_count": 19,
   "metadata": {},
   "outputs": [],
   "source": [
    "df_stats.transpose(include_header=True, column_names=\"data_lake\").write_csv(\n",
    "    \"stats_data_lakes.csv\"\n",
    ")"
   ]
  },
  {
   "cell_type": "code",
   "execution_count": null,
   "metadata": {},
   "outputs": [],
   "source": []
  }
 ],
 "metadata": {
  "kernelspec": {
   "display_name": "Python 3",
   "language": "python",
   "name": "python3"
  },
  "language_info": {
   "codemirror_mode": {
    "name": "ipython",
    "version": 3
   },
   "file_extension": ".py",
   "mimetype": "text/x-python",
   "name": "python",
   "nbconvert_exporter": "python",
   "pygments_lexer": "ipython3",
   "version": "3.10.0"
  }
 },
 "nbformat": 4,
 "nbformat_minor": 2
}
