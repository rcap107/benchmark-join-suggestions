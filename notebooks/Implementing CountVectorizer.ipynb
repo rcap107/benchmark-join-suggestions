{
 "cells": [
  {
   "cell_type": "code",
   "execution_count": 1,
   "metadata": {},
   "outputs": [
    {
     "name": "stdout",
     "output_type": "stream",
     "text": [
      "/home/soda/rcappuzz/work/benchmark-join-suggestions\n"
     ]
    }
   ],
   "source": [
    "cd .."
   ]
  },
  {
   "cell_type": "code",
   "execution_count": 2,
   "metadata": {},
   "outputs": [],
   "source": [
    "from sklearn.feature_extraction.text import CountVectorizer\n",
    "import polars as pl\n",
    "from pathlib import Path\n",
    "from src.utils.indexing import load_query_result\n",
    "import polars.selectors as cs\n",
    "import numpy as np"
   ]
  },
  {
   "cell_type": "code",
   "execution_count": 3,
   "metadata": {},
   "outputs": [],
   "source": [
    "def get_values(list_values):\n",
    "    s = \"    \".join(list_values) + \"    \"\n",
    "    return [s]"
   ]
  },
  {
   "cell_type": "code",
   "execution_count": 4,
   "metadata": {},
   "outputs": [],
   "source": [
    "def prepare_table(table_path):\n",
    "    table = pl.read_parquet(table_path)\n",
    "    table_name = table_path.stem\n",
    "    res = []\n",
    "    sep = \" \"*4\n",
    "    for col in table.select(cs.string()).columns:\n",
    "        values = sep.join([_ for _  in table[col].to_list() if _ is not None])\n",
    "        values += \" \"*4\n",
    "        key = f\"{table_name}__{col}\"\n",
    "        res.append((key, values))\n",
    "    return res"
   ]
  },
  {
   "cell_type": "markdown",
   "metadata": {},
   "source": [
    "### Read the base table"
   ]
  },
  {
   "cell_type": "code",
   "execution_count": 5,
   "metadata": {},
   "outputs": [],
   "source": [
    "base_path = Path(\"data/source_tables/\")\n",
    "tab_name = \"us-accidents-yadl.parquet\"\n",
    "tab_path = Path(base_path, tab_name)\n",
    "df = pl.read_parquet(tab_path)"
   ]
  },
  {
   "cell_type": "markdown",
   "metadata": {},
   "source": [
    "### Create the `CountVectorizer`"
   ]
  },
  {
   "cell_type": "markdown",
   "metadata": {},
   "source": [
    "`token_pattern=r\"(?u)(<[\\S]+>)[ ]{4}\"` is needed to avoid issues with spaces within the \n",
    "cell values. `binary` can be set to `True` because for Jaccard Containment the only\n",
    "thing that matters is having non-zero values (rather than the count)."
   ]
  },
  {
   "cell_type": "code",
   "execution_count": 6,
   "metadata": {},
   "outputs": [],
   "source": [
    "cv = CountVectorizer(token_pattern=r\"(?u)(<[\\S]+>)[ ]{4}\", binary=True)"
   ]
  },
  {
   "cell_type": "code",
   "execution_count": 7,
   "metadata": {},
   "outputs": [
    {
     "data": {
      "text/html": [
       "<style>#sk-container-id-1 {color: black;background-color: white;}#sk-container-id-1 pre{padding: 0;}#sk-container-id-1 div.sk-toggleable {background-color: white;}#sk-container-id-1 label.sk-toggleable__label {cursor: pointer;display: block;width: 100%;margin-bottom: 0;padding: 0.3em;box-sizing: border-box;text-align: center;}#sk-container-id-1 label.sk-toggleable__label-arrow:before {content: \"▸\";float: left;margin-right: 0.25em;color: #696969;}#sk-container-id-1 label.sk-toggleable__label-arrow:hover:before {color: black;}#sk-container-id-1 div.sk-estimator:hover label.sk-toggleable__label-arrow:before {color: black;}#sk-container-id-1 div.sk-toggleable__content {max-height: 0;max-width: 0;overflow: hidden;text-align: left;background-color: #f0f8ff;}#sk-container-id-1 div.sk-toggleable__content pre {margin: 0.2em;color: black;border-radius: 0.25em;background-color: #f0f8ff;}#sk-container-id-1 input.sk-toggleable__control:checked~div.sk-toggleable__content {max-height: 200px;max-width: 100%;overflow: auto;}#sk-container-id-1 input.sk-toggleable__control:checked~label.sk-toggleable__label-arrow:before {content: \"▾\";}#sk-container-id-1 div.sk-estimator input.sk-toggleable__control:checked~label.sk-toggleable__label {background-color: #d4ebff;}#sk-container-id-1 div.sk-label input.sk-toggleable__control:checked~label.sk-toggleable__label {background-color: #d4ebff;}#sk-container-id-1 input.sk-hidden--visually {border: 0;clip: rect(1px 1px 1px 1px);clip: rect(1px, 1px, 1px, 1px);height: 1px;margin: -1px;overflow: hidden;padding: 0;position: absolute;width: 1px;}#sk-container-id-1 div.sk-estimator {font-family: monospace;background-color: #f0f8ff;border: 1px dotted black;border-radius: 0.25em;box-sizing: border-box;margin-bottom: 0.5em;}#sk-container-id-1 div.sk-estimator:hover {background-color: #d4ebff;}#sk-container-id-1 div.sk-parallel-item::after {content: \"\";width: 100%;border-bottom: 1px solid gray;flex-grow: 1;}#sk-container-id-1 div.sk-label:hover label.sk-toggleable__label {background-color: #d4ebff;}#sk-container-id-1 div.sk-serial::before {content: \"\";position: absolute;border-left: 1px solid gray;box-sizing: border-box;top: 0;bottom: 0;left: 50%;z-index: 0;}#sk-container-id-1 div.sk-serial {display: flex;flex-direction: column;align-items: center;background-color: white;padding-right: 0.2em;padding-left: 0.2em;position: relative;}#sk-container-id-1 div.sk-item {position: relative;z-index: 1;}#sk-container-id-1 div.sk-parallel {display: flex;align-items: stretch;justify-content: center;background-color: white;position: relative;}#sk-container-id-1 div.sk-item::before, #sk-container-id-1 div.sk-parallel-item::before {content: \"\";position: absolute;border-left: 1px solid gray;box-sizing: border-box;top: 0;bottom: 0;left: 50%;z-index: -1;}#sk-container-id-1 div.sk-parallel-item {display: flex;flex-direction: column;z-index: 1;position: relative;background-color: white;}#sk-container-id-1 div.sk-parallel-item:first-child::after {align-self: flex-end;width: 50%;}#sk-container-id-1 div.sk-parallel-item:last-child::after {align-self: flex-start;width: 50%;}#sk-container-id-1 div.sk-parallel-item:only-child::after {width: 0;}#sk-container-id-1 div.sk-dashed-wrapped {border: 1px dashed gray;margin: 0 0.4em 0.5em 0.4em;box-sizing: border-box;padding-bottom: 0.4em;background-color: white;}#sk-container-id-1 div.sk-label label {font-family: monospace;font-weight: bold;display: inline-block;line-height: 1.2em;}#sk-container-id-1 div.sk-label-container {text-align: center;}#sk-container-id-1 div.sk-container {/* jupyter's `normalize.less` sets `[hidden] { display: none; }` but bootstrap.min.css set `[hidden] { display: none !important; }` so we also need the `!important` here to be able to override the default hidden behavior on the sphinx rendered scikit-learn.org. See: https://github.com/scikit-learn/scikit-learn/issues/21755 */display: inline-block !important;position: relative;}#sk-container-id-1 div.sk-text-repr-fallback {display: none;}</style><div id=\"sk-container-id-1\" class=\"sk-top-container\"><div class=\"sk-text-repr-fallback\"><pre>CountVectorizer(binary=True, token_pattern=&#x27;(?u)(&lt;[\\\\S]+&gt;)[ ]{4}&#x27;)</pre><b>In a Jupyter environment, please rerun this cell to show the HTML representation or trust the notebook. <br />On GitHub, the HTML representation is unable to render, please try loading this page with nbviewer.org.</b></div><div class=\"sk-container\" hidden><div class=\"sk-item\"><div class=\"sk-estimator sk-toggleable\"><input class=\"sk-toggleable__control sk-hidden--visually\" id=\"sk-estimator-id-1\" type=\"checkbox\" checked><label for=\"sk-estimator-id-1\" class=\"sk-toggleable__label sk-toggleable__label-arrow\">CountVectorizer</label><div class=\"sk-toggleable__content\"><pre>CountVectorizer(binary=True, token_pattern=&#x27;(?u)(&lt;[\\\\S]+&gt;)[ ]{4}&#x27;)</pre></div></div></div></div></div>"
      ],
      "text/plain": [
       "CountVectorizer(binary=True, token_pattern='(?u)(<[\\\\S]+>)[ ]{4}')"
      ]
     },
     "execution_count": 7,
     "metadata": {},
     "output_type": "execute_result"
    }
   ],
   "source": [
    "values = get_values(df[\"col_to_embed\"].to_list())\n",
    "cv.fit(values)"
   ]
  },
  {
   "cell_type": "code",
   "execution_count": 8,
   "metadata": {},
   "outputs": [
    {
     "data": {
      "text/plain": [
       "5222"
      ]
     },
     "execution_count": 8,
     "metadata": {},
     "output_type": "execute_result"
    }
   ],
   "source": [
    "len(cv.vocabulary_)"
   ]
  },
  {
   "cell_type": "markdown",
   "metadata": {},
   "source": [
    "Testing the overlap with a random candidate table in the YADL data lake.\n",
    "\n",
    "I am taking a column in the table which I know can has some overlap with `col_to_embed` in the current table. Then, I transform the column. "
   ]
  },
  {
   "cell_type": "code",
   "execution_count": 9,
   "metadata": {},
   "outputs": [],
   "source": [
    "df_cand = pl.read_parquet(\"/home/soda/rcappuzz/work/benchmark-join-suggestions/data/wordnet_big/yagowordnet_wordnet_radio_station/radio_station_isLocatedIn_hasWebsite.parquet\")\n",
    "cand_values = get_values(df_cand[\"isLocatedIn\"].to_list())"
   ]
  },
  {
   "cell_type": "code",
   "execution_count": 10,
   "metadata": {},
   "outputs": [],
   "source": [
    "cv = CountVectorizer(token_pattern=r\"(?u)(<[\\S]+>)[ ]{4}\", binary=True)\n",
    "values = get_values(df[\"col_to_embed\"].to_list())\n",
    "cv.fit(values)\n",
    "X = cv.transform(cand_values)"
   ]
  },
  {
   "cell_type": "markdown",
   "metadata": {},
   "source": [
    "The sum of non-zero values is equivalent to the overlap between the tokens and \n",
    "the values in the column."
   ]
  },
  {
   "cell_type": "code",
   "execution_count": 11,
   "metadata": {},
   "outputs": [
    {
     "data": {
      "text/plain": [
       "0.375526618153964"
      ]
     },
     "execution_count": 11,
     "metadata": {},
     "output_type": "execute_result"
    }
   ],
   "source": [
    "(X>0).sum()/X.shape[1]"
   ]
  },
  {
   "cell_type": "markdown",
   "metadata": {},
   "source": [
    "To double check, this is the Jaccard Containment, measured explicitly."
   ]
  },
  {
   "cell_type": "code",
   "execution_count": 12,
   "metadata": {},
   "outputs": [
    {
     "name": "stdout",
     "output_type": "stream",
     "text": [
      "0.375526618153964\n"
     ]
    }
   ],
   "source": [
    "left_on=\"col_to_embed\"\n",
    "right_on=\"isLocatedIn\"\n",
    "unique_source = df[left_on].unique()\n",
    "unique_cand = df_cand[right_on].unique()\n",
    "\n",
    "s1 = set(unique_source.to_list())\n",
    "s2 = set(unique_cand.to_list())\n",
    "print(len(s1.intersection(s2)) / len(s1))\n"
   ]
  },
  {
   "cell_type": "markdown",
   "metadata": {},
   "source": [
    "## Testing transforming all tables"
   ]
  },
  {
   "cell_type": "markdown",
   "metadata": {},
   "source": [
    "Here I am testing how to transform all tables (and their columns). "
   ]
  },
  {
   "cell_type": "code",
   "execution_count": 13,
   "metadata": {},
   "outputs": [],
   "source": [
    "rr = []\n",
    "for pth in base_path.glob(\"*.parquet\"):\n",
    "    rr += prepare_table(pth)"
   ]
  },
  {
   "cell_type": "code",
   "execution_count": 14,
   "metadata": {},
   "outputs": [],
   "source": [
    "X = cv.transform([_[1] for _ in rr])"
   ]
  },
  {
   "cell_type": "markdown",
   "metadata": {},
   "source": [
    "## Sorting the results for querying"
   ]
  },
  {
   "cell_type": "code",
   "execution_count": 15,
   "metadata": {},
   "outputs": [
    {
     "data": {
      "text/plain": [
       "array([['us-accidents-yadl-clf__col_to_embed',\n",
       "        'us-accidents-depleted__col_to_embed',\n",
       "        'us-accidents-depleted-yadl__col_to_embed',\n",
       "        'us-accidents-yadl__col_to_embed',\n",
       "        'housing-open_data__INTERESTED',\n",
       "        'housing-open_data-clf__PROPERTY TYPE',\n",
       "        'housing-open_data-clf__SOLD DATE',\n",
       "        'housing-open_data-clf__SALE TYPE',\n",
       "        'company-employees-yadl-clf__col_to_embed',\n",
       "        'company-employees-yadl-clf__linkedin url',\n",
       "        'company-employees-yadl-clf__country',\n",
       "        'company-employees-yadl-clf__locality',\n",
       "        'housing-open_data-clf__CITY',\n",
       "        'company-employees-yadl-clf__size range',\n",
       "        'company-employees-yadl-clf__industry',\n",
       "        'company-employees-yadl-clf__domain',\n",
       "        'company-employees-yadl-clf__name',\n",
       "        'us-presidential-results-yadl__col_to_embed',\n",
       "        'us-presidential-results-yadl__party',\n",
       "        'housing-open_data-clf__ADDRESS',\n",
       "        'housing-open_data-clf__STATE OR PROVINCE',\n",
       "        'us-presidential-results-yadl__county_name',\n",
       "        'housing-open_data-clf__ZIP', 'movies-yadl-clf__original_title',\n",
       "        'movies-yadl-clf__original_language', 'movies-yadl-clf__id',\n",
       "        'movies-yadl-clf__genres', 'movies-yadl-clf__budget',\n",
       "        'movies-yadl-clf__adult', 'housing-open_data-clf__INTERESTED',\n",
       "        'housing-open_data-clf__FAVORITE', 'housing-open_data-clf__MLS#',\n",
       "        'housing-open_data-clf__SOURCE', 'housing-open_data-clf__URL',\n",
       "        'housing-open_data-clf__NEXT OPEN HOUSE END TIME',\n",
       "        'housing-open_data-clf__NEXT OPEN HOUSE START TIME',\n",
       "        'housing-open_data-clf__STATUS',\n",
       "        'housing-open_data-clf__LOCATION',\n",
       "        'us-presidential-results-yadl__candidate',\n",
       "        'us-presidential-results-yadl__state',\n",
       "        'us-presidential-results-yadl__state_po',\n",
       "        'movies-yadl__release_date', 'movies-yadl__production_companies',\n",
       "        'movies-yadl__popularity', 'movies-yadl__original_title',\n",
       "        'movies-yadl__original_language', 'movies-yadl__id',\n",
       "        'movies-yadl__genres', 'movies-yadl__budget',\n",
       "        'movies-yadl__adult', 'company-employees-yadl__col_to_embed',\n",
       "        'company-employees-yadl__linkedin url',\n",
       "        'company-employees-yadl__country',\n",
       "        'company-employees-yadl__locality',\n",
       "        'company-employees-yadl__size range',\n",
       "        'company-employees-yadl__industry',\n",
       "        'company-employees-yadl__domain',\n",
       "        'movies-yadl__production_countries', 'movies-yadl__runtime',\n",
       "        'movies-yadl-clf__production_companies',\n",
       "        'movies-yadl__spoken_languages', 'us-accidents-yadl__State',\n",
       "        'us-accidents-yadl__Civil_Twilight',\n",
       "        'us-accidents-yadl__Sunrise_Sunset',\n",
       "        'us-accidents-yadl__Weather_Condition',\n",
       "        'us-accidents-yadl__Airport_Code', 'us-accidents-yadl__Country',\n",
       "        'us-accidents-yadl__Zipcode', 'us-accidents-yadl__Code',\n",
       "        'us-accidents-yadl__County', 'movies-yadl__col_to_embed',\n",
       "        'movies-yadl__vote_count', 'movies-yadl__vote_average',\n",
       "        'movies-yadl__video', 'movies-yadl__title',\n",
       "        'movies-yadl__status', 'movies-yadl-clf__popularity',\n",
       "        'movies-yadl-clf__release_date',\n",
       "        'movies-yadl-clf__production_countries',\n",
       "        'company-employees-depleted-yadl__col_to_embed',\n",
       "        'schools-open_data__col_to_embed',\n",
       "        'schools-depleted-open_data__col_to_embed',\n",
       "        'us-elections-dems-depleted-open_data__county_name',\n",
       "        'us-elections-dems-depleted-yadl__col_to_embed',\n",
       "        'us-elections-dems__col_to_embed', 'us-elections-dems__party',\n",
       "        'us-elections-dems__county_name', 'us-elections-dems__state',\n",
       "        'movies-depleted-open_data__title',\n",
       "        'movies-depleted-yadl__col_to_embed',\n",
       "        'us-elections-depleted-open_data__party',\n",
       "        'us-elections-depleted-open_data__county_name',\n",
       "        'us-elections-depleted-yadl__col_to_embed',\n",
       "        'us-elections-depleted-yadl__party',\n",
       "        'us-accidents-depleted-open_data__County',\n",
       "        'schools-open_data__School Name',\n",
       "        'schools-open_data__School Type',\n",
       "        'housing-depleted_ZIP-open_data__ZIP',\n",
       "        'housing-open_data__LOCATION', 'housing-open_data__MLS#',\n",
       "        'housing-open_data__SOURCE', 'housing-open_data__URL',\n",
       "        'housing-open_data__NEXT OPEN HOUSE END TIME',\n",
       "        'housing-open_data__NEXT OPEN HOUSE START TIME',\n",
       "        'housing-open_data__STATUS', 'housing-open_data__ZIP',\n",
       "        'housing-depleted_CITY-open_data__CITY',\n",
       "        'housing-open_data__STATE OR PROVINCE',\n",
       "        'housing-open_data__CITY', 'housing-open_data__ADDRESS',\n",
       "        'housing-open_data__PROPERTY TYPE',\n",
       "        'housing-open_data__SOLD DATE', 'housing-open_data__SALE TYPE',\n",
       "        'company-employees-depleted-open_data__name',\n",
       "        'movies-depleted__col_to_embed', 'housing-open_data__FAVORITE',\n",
       "        'movies-depleted__title',\n",
       "        'us-accidents-yadl-clf__Sunrise_Sunset',\n",
       "        'us-accidents-yadl-clf__Weather_Condition',\n",
       "        'us-accidents-yadl-clf__Airport_Code',\n",
       "        'us-accidents-yadl-clf__Country',\n",
       "        'us-accidents-yadl-clf__Zipcode', 'us-accidents-yadl-clf__Code',\n",
       "        'us-accidents-yadl-clf__County', 'movies-yadl-clf__col_to_embed',\n",
       "        'movies-yadl-clf__vote_count', 'movies-yadl-clf__vote_average',\n",
       "        'movies-yadl-clf__video', 'movies-yadl-clf__title',\n",
       "        'movies-yadl-clf__status', 'movies-yadl-clf__spoken_languages',\n",
       "        'movies-yadl-clf__runtime',\n",
       "        'us-accidents-yadl-clf__Civil_Twilight',\n",
       "        'us-accidents-yadl-clf__State', 'us-elections-dems-clf__state',\n",
       "        'us-presidential-results-yadl-clf__col_to_embed',\n",
       "        'us-elections-depleted__col_to_embed',\n",
       "        'us-elections-depleted__party',\n",
       "        'us-elections-depleted__county_name',\n",
       "        'us-accidents-depleted__County',\n",
       "        'company-employees-depleted__col_to_embed',\n",
       "        'company-employees-depleted__name',\n",
       "        'us-presidential-results-yadl-clf__party',\n",
       "        'us-elections-dems-clf__county_name',\n",
       "        'us-presidential-results-yadl-clf__candidate',\n",
       "        'us-presidential-results-yadl-clf__county_name',\n",
       "        'us-presidential-results-yadl-clf__state_po',\n",
       "        'us-presidential-results-yadl-clf__state',\n",
       "        'us-elections-dems-clf__col_to_embed',\n",
       "        'us-elections-dems-clf__party', 'company-employees-yadl__name']],\n",
       "      dtype='<U49')"
      ]
     },
     "execution_count": 15,
     "metadata": {},
     "output_type": "execute_result"
    }
   ],
   "source": [
    "sum_res = X.sum(axis=1).ravel()\n",
    "s_index = sum_res.argsort()\n",
    "keys = np.array([_[0] for _ in rr])\n",
    "np.flip(keys[s_index])"
   ]
  },
  {
   "cell_type": "code",
   "execution_count": null,
   "metadata": {},
   "outputs": [],
   "source": []
  }
 ],
 "metadata": {
  "kernelspec": {
   "display_name": "bench-repro",
   "language": "python",
   "name": "python3"
  },
  "language_info": {
   "codemirror_mode": {
    "name": "ipython",
    "version": 3
   },
   "file_extension": ".py",
   "mimetype": "text/x-python",
   "name": "python",
   "nbconvert_exporter": "python",
   "pygments_lexer": "ipython3",
   "version": "3.10.0"
  }
 },
 "nbformat": 4,
 "nbformat_minor": 2
}
