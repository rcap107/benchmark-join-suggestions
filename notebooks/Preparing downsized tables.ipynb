{
 "cells": [
  {
   "cell_type": "code",
   "execution_count": 1,
   "metadata": {},
   "outputs": [
    {
     "name": "stdout",
     "output_type": "stream",
     "text": [
      "/home/soda/rcappuzz/work/benchmark-join-suggestions\n"
     ]
    }
   ],
   "source": [
    "cd .."
   ]
  },
  {
   "cell_type": "code",
   "execution_count": 2,
   "metadata": {},
   "outputs": [],
   "source": [
    "import pandas as pd\n",
    "import polars as pl\n",
    "from pathlib import Path"
   ]
  },
  {
   "cell_type": "code",
   "execution_count": 3,
   "metadata": {},
   "outputs": [],
   "source": [
    "raw_data_path = Path(\"data/source_tables/raw\")\n",
    "yadl_data_path = Path(\"data/source_tables/yadl\")\n",
    "od_data_path = Path(\"data/source_tables/open_data\")\n"
   ]
  },
  {
   "attachments": {},
   "cell_type": "markdown",
   "metadata": {},
   "source": [
    "# Company employees"
   ]
  },
  {
   "cell_type": "code",
   "execution_count": 4,
   "metadata": {},
   "outputs": [],
   "source": [
    "df = pl.read_parquet(Path(raw_data_path, \"company-employees-yadl.parquet\"))"
   ]
  },
  {
   "cell_type": "code",
   "execution_count": 5,
   "metadata": {},
   "outputs": [],
   "source": [
    "df.select(pl.col(\"target\"), pl.col(\"col_to_embed\")).write_parquet(\n",
    "    Path(yadl_data_path, \"company-employees-depleted-yadl.parquet\")\n",
    ")\n",
    "df.select(pl.col(\"name\"), pl.col(\"target\")).write_parquet(\n",
    "    Path(od_data_path, \"company-employees-depleted_name-open_data.parquet\")\n",
    ")"
   ]
  },
  {
   "attachments": {},
   "cell_type": "markdown",
   "metadata": {},
   "source": [
    "# US Accidents"
   ]
  },
  {
   "cell_type": "code",
   "execution_count": 24,
   "metadata": {},
   "outputs": [],
   "source": [
    "df = pl.read_parquet(Path(raw_data_path, \"us-accidents-yadl.parquet\"))\n",
    "df.drop(\"col_to_embed\").write_parquet(Path(od_data_path, \"us_accidents-open_data.parquet\"))"
   ]
  },
  {
   "cell_type": "code",
   "execution_count": 23,
   "metadata": {},
   "outputs": [],
   "source": [
    "df.select(pl.col(\"target\"), pl.col(\"col_to_embed\")).write_parquet(\n",
    "    Path(yadl_data_path, \"us_accidents-depleted-yadl.parquet\")\n",
    ")\n",
    "df.select(pl.col(\"County\"), pl.col(\"target\")).write_parquet(\n",
    "    Path(od_data_path, \"us_accidents-depleted_County-open_data.parquet\")\n",
    ")"
   ]
  },
  {
   "attachments": {},
   "cell_type": "markdown",
   "metadata": {},
   "source": [
    "# US Elections"
   ]
  },
  {
   "cell_type": "code",
   "execution_count": 25,
   "metadata": {},
   "outputs": [],
   "source": [
    "df = pl.read_parquet(Path(yadl_data_path, \"us_elections-yadl.parquet\"))\n",
    "df.drop(\"col_to_embed\").write_parquet(Path(od_data_path, \"us_elections-open_data.parquet\"))"
   ]
  },
  {
   "cell_type": "code",
   "execution_count": 13,
   "metadata": {},
   "outputs": [],
   "source": [
    "df.select(pl.col(\"target\"), pl.col(\"party\"), pl.col(\"col_to_embed\")).write_parquet(\n",
    "    Path(yadl_data_path, \"us_elections-depleted-yadl.parquet\")\n",
    ")\n",
    "df.select(pl.col(\"county_name\"), pl.col(\"party\"), pl.col(\"target\")).write_parquet(\n",
    "    Path(od_data_path, \"us_elections-depleted_county_name-open_data.parquet\")\n",
    ")"
   ]
  },
  {
   "cell_type": "markdown",
   "metadata": {},
   "source": [
    "### Prepare versions of US elections filtered by party"
   ]
  },
  {
   "cell_type": "code",
   "execution_count": null,
   "metadata": {},
   "outputs": [],
   "source": [
    "df_filtered = df.filter(pl.col(\"party\") == \"DEMOCRAT\")\n",
    "df_filtered.select(\n",
    "    pl.col(\"state\"),\n",
    "    pl.col(\"county_name\"),\n",
    "    pl.col(\"party\"),\n",
    "    pl.col(\"target\"),\n",
    "    pl.col(\"col_to_embed\"),\n",
    ").write_parquet(Path(raw_data_path, \"us-elections-dems.parquet\"))\n",
    "\n",
    "df_filtered.select(pl.col(\"target\"), pl.col(\"col_to_embed\")).write_parquet(\n",
    "    Path(yadl_data_path, \"us-elections-dems-depleted-yadl.parquet\")\n",
    ")\n",
    "df_filtered.select(pl.col(\"county_name\"), pl.col(\"target\")).write_parquet(\n",
    "    Path(od_data_path, \"us-elections-dems-depleted-open_data.parquet\")\n",
    ")"
   ]
  },
  {
   "attachments": {},
   "cell_type": "markdown",
   "metadata": {},
   "source": [
    "# Movies revenue"
   ]
  },
  {
   "cell_type": "code",
   "execution_count": 26,
   "metadata": {},
   "outputs": [],
   "source": [
    "df = pl.read_parquet(Path(raw_data_path, \"movies-yadl.parquet\"))\n",
    "df.drop(\"col_to_embed\").write_parquet(Path(od_data_path, \"movies-open_data.parquet\"))\n"
   ]
  },
  {
   "cell_type": "code",
   "execution_count": 15,
   "metadata": {},
   "outputs": [],
   "source": [
    "df.select(pl.col(\"target\"), pl.col(\"col_to_embed\")).write_parquet(\n",
    "    Path(yadl_data_path, \"movies-depleted-yadl.parquet\")\n",
    ")\n",
    "df.select(pl.col(\"title\"), pl.col(\"target\")).write_parquet(\n",
    "    Path(od_data_path, \"movies-depleted_title-open_data.parquet\")\n",
    ")"
   ]
  },
  {
   "cell_type": "markdown",
   "metadata": {},
   "source": [
    "# Movies votes"
   ]
  },
  {
   "cell_type": "code",
   "execution_count": 27,
   "metadata": {},
   "outputs": [],
   "source": [
    "df = pl.read_parquet(Path(raw_data_path, \"movies-vote-yadl.parquet\"))\n",
    "df.drop(\"col_to_embed\").write_parquet(Path(od_data_path, \"movies_vote-open_data.parquet\"))"
   ]
  },
  {
   "cell_type": "code",
   "execution_count": 17,
   "metadata": {},
   "outputs": [],
   "source": [
    "df.select(pl.col(\"target\"), pl.col(\"col_to_embed\")).write_parquet(\n",
    "    Path(yadl_data_path, \"movies_vote-depleted-yadl.parquet\")\n",
    ")\n",
    "df.select(pl.col(\"title\"), pl.col(\"target\")).write_parquet(\n",
    "    Path(od_data_path, \"movies_vote-depleted_title-open_data.parquet\")\n",
    ")"
   ]
  },
  {
   "cell_type": "markdown",
   "metadata": {},
   "source": [
    "# Housing Prices"
   ]
  },
  {
   "cell_type": "code",
   "execution_count": 28,
   "metadata": {},
   "outputs": [],
   "source": [
    "df = pl.read_parquet(Path(yadl_data_path, \"housing_prices-yadl.parquet\")).drop(\"col_to_embed\")\n",
    "df.drop(\"col_to_embed\").write_parquet(Path(od_data_path, \"housing_prices-open_data.parquet\"))"
   ]
  },
  {
   "cell_type": "code",
   "execution_count": 19,
   "metadata": {},
   "outputs": [],
   "source": [
    "df.select(pl.col(\"target\"), pl.col(\"County\")).write_parquet(\n",
    "    Path(od_data_path, \"housing_prices-depleted_County-open_data.parquet\")\n",
    ")\n",
    "df.select(pl.col(\"target\"), pl.col(\"Metro\")).write_parquet(\n",
    "    Path(od_data_path, \"housing_prices-depleted_Metro-open_data.parquet\")\n",
    ")\n"
   ]
  },
  {
   "cell_type": "code",
   "execution_count": 20,
   "metadata": {},
   "outputs": [
    {
     "data": {
      "text/html": [
       "<div><style>\n",
       ".dataframe > thead > tr > th,\n",
       ".dataframe > tbody > tr > td {\n",
       "  text-align: right;\n",
       "  white-space: pre-wrap;\n",
       "}\n",
       "</style>\n",
       "<small>shape: (22_250, 10)</small><table border=\"1\" class=\"dataframe\"><thead><tr><th>RegionID</th><th>SizeRank</th><th>City</th><th>RegionType</th><th>StateName</th><th>Code</th><th>Metro</th><th>County</th><th>State</th><th>target</th></tr><tr><td>i64</td><td>i64</td><td>str</td><td>str</td><td>str</td><td>str</td><td>str</td><td>str</td><td>str</td><td>f64</td></tr></thead><tbody><tr><td>6181</td><td>0</td><td>&quot;New York&quot;</td><td>&quot;city&quot;</td><td>&quot;NY&quot;</td><td>&quot;NY&quot;</td><td>&quot;New York-Newar…</td><td>&quot;Queens County&quot;</td><td>&quot;New York&quot;</td><td>5.854972</td></tr><tr><td>17222</td><td>43</td><td>&quot;Buffalo&quot;</td><td>&quot;city&quot;</td><td>&quot;NY&quot;</td><td>&quot;NY&quot;</td><td>&quot;Buffalo-Cheekt…</td><td>&quot;Erie County&quot;</td><td>&quot;New York&quot;</td><td>5.334042</td></tr><tr><td>832063</td><td>45</td><td>&quot;Rochester&quot;</td><td>&quot;city&quot;</td><td>&quot;NY&quot;</td><td>&quot;NY&quot;</td><td>&quot;Rochester, NY&quot;</td><td>&quot;Monroe County&quot;</td><td>&quot;New York&quot;</td><td>5.322101</td></tr><tr><td>34937</td><td>145</td><td>&quot;Yonkers&quot;</td><td>&quot;city&quot;</td><td>&quot;NY&quot;</td><td>&quot;NY&quot;</td><td>&quot;New York-Newar…</td><td>&quot;Westchester Co…</td><td>&quot;New York&quot;</td><td>5.779882</td></tr><tr><td>7353</td><td>149</td><td>&quot;Syracuse&quot;</td><td>&quot;city&quot;</td><td>&quot;NY&quot;</td><td>&quot;NY&quot;</td><td>&quot;Syracuse, NY&quot;</td><td>&quot;Onondaga Count…</td><td>&quot;New York&quot;</td><td>5.233641</td></tr><tr><td>40779</td><td>229</td><td>&quot;Schenectady&quot;</td><td>&quot;city&quot;</td><td>&quot;NY&quot;</td><td>&quot;NY&quot;</td><td>&quot;Albany-Schenec…</td><td>&quot;Schenectady Co…</td><td>&quot;New York&quot;</td><td>5.435997</td></tr><tr><td>37074</td><td>246</td><td>&quot;Albany&quot;</td><td>&quot;city&quot;</td><td>&quot;NY&quot;</td><td>&quot;NY&quot;</td><td>&quot;Albany-Schenec…</td><td>&quot;Albany County&quot;</td><td>&quot;New York&quot;</td><td>5.455378</td></tr><tr><td>34819</td><td>698</td><td>&quot;White Plains&quot;</td><td>&quot;city&quot;</td><td>&quot;NY&quot;</td><td>&quot;NY&quot;</td><td>&quot;New York-Newar…</td><td>&quot;Westchester Co…</td><td>&quot;New York&quot;</td><td>5.825207</td></tr><tr><td>831538</td><td>699</td><td>&quot;Binghamton&quot;</td><td>&quot;city&quot;</td><td>&quot;NY&quot;</td><td>&quot;NY&quot;</td><td>&quot;Binghamton, NY…</td><td>&quot;Broome County&quot;</td><td>&quot;New York&quot;</td><td>5.200401</td></tr><tr><td>26114</td><td>705</td><td>&quot;New Rochelle&quot;</td><td>&quot;city&quot;</td><td>&quot;NY&quot;</td><td>&quot;NY&quot;</td><td>&quot;New York-Newar…</td><td>&quot;Westchester Co…</td><td>&quot;New York&quot;</td><td>5.908062</td></tr><tr><td>32991</td><td>735</td><td>&quot;Mount Vernon&quot;</td><td>&quot;city&quot;</td><td>&quot;NY&quot;</td><td>&quot;NY&quot;</td><td>&quot;New York-Newar…</td><td>&quot;Westchester Co…</td><td>&quot;New York&quot;</td><td>5.709765</td></tr><tr><td>21017</td><td>741</td><td>&quot;Utica&quot;</td><td>&quot;city&quot;</td><td>&quot;NY&quot;</td><td>&quot;NY&quot;</td><td>&quot;Utica-Rome, NY…</td><td>&quot;Oneida County&quot;</td><td>&quot;New York&quot;</td><td>5.23566</td></tr><tr><td>&hellip;</td><td>&hellip;</td><td>&hellip;</td><td>&hellip;</td><td>&hellip;</td><td>&hellip;</td><td>&hellip;</td><td>&hellip;</td><td>&hellip;</td><td>&hellip;</td></tr><tr><td>34115</td><td>26285</td><td>&quot;Stannard&quot;</td><td>&quot;city&quot;</td><td>&quot;VT&quot;</td><td>&quot;VT&quot;</td><td>null</td><td>&quot;Caledonia Coun…</td><td>&quot;Vermont&quot;</td><td>5.422473</td></tr><tr><td>38827</td><td>26341</td><td>&quot;Guildhall&quot;</td><td>&quot;city&quot;</td><td>&quot;VT&quot;</td><td>&quot;VT&quot;</td><td>null</td><td>&quot;Essex County&quot;</td><td>&quot;Vermont&quot;</td><td>5.427118</td></tr><tr><td>44916</td><td>26752</td><td>&quot;Derby Line&quot;</td><td>&quot;city&quot;</td><td>&quot;VT&quot;</td><td>&quot;VT&quot;</td><td>null</td><td>&quot;Orleans County…</td><td>&quot;Vermont&quot;</td><td>5.342342</td></tr><tr><td>10246</td><td>26874</td><td>&quot;Baltimore&quot;</td><td>&quot;city&quot;</td><td>&quot;VT&quot;</td><td>&quot;VT&quot;</td><td>&quot;Lebanon, NH-VT…</td><td>&quot;Windsor County…</td><td>&quot;Vermont&quot;</td><td>5.5295</td></tr><tr><td>50400</td><td>27025</td><td>&quot;Woodford&quot;</td><td>&quot;city&quot;</td><td>&quot;VT&quot;</td><td>&quot;VT&quot;</td><td>&quot;Bennington, VT…</td><td>&quot;Bennington Cou…</td><td>&quot;Vermont&quot;</td><td>5.372364</td></tr><tr><td>46917</td><td>27122</td><td>&quot;Orleans&quot;</td><td>&quot;city&quot;</td><td>&quot;VT&quot;</td><td>&quot;VT&quot;</td><td>null</td><td>&quot;Orleans County…</td><td>&quot;Vermont&quot;</td><td>5.219014</td></tr><tr><td>6240</td><td>27452</td><td>&quot;North Troy&quot;</td><td>&quot;city&quot;</td><td>&quot;VT&quot;</td><td>&quot;VT&quot;</td><td>null</td><td>&quot;Orleans County…</td><td>&quot;Vermont&quot;</td><td>5.173568</td></tr><tr><td>396478</td><td>27594</td><td>&quot;Landgrove&quot;</td><td>&quot;city&quot;</td><td>&quot;VT&quot;</td><td>&quot;VT&quot;</td><td>&quot;Bennington, VT…</td><td>&quot;Bennington Cou…</td><td>&quot;Vermont&quot;</td><td>5.912688</td></tr><tr><td>27831</td><td>27951</td><td>&quot;Wells River&quot;</td><td>&quot;city&quot;</td><td>&quot;VT&quot;</td><td>&quot;VT&quot;</td><td>&quot;Lebanon, NH-VT…</td><td>&quot;Orange County&quot;</td><td>&quot;Vermont&quot;</td><td>5.369254</td></tr><tr><td>398478</td><td>28081</td><td>&quot;Lemington&quot;</td><td>&quot;city&quot;</td><td>&quot;VT&quot;</td><td>&quot;VT&quot;</td><td>null</td><td>&quot;Essex County&quot;</td><td>&quot;Vermont&quot;</td><td>5.349301</td></tr><tr><td>56021</td><td>28699</td><td>&quot;Jeffersonville…</td><td>&quot;city&quot;</td><td>&quot;VT&quot;</td><td>&quot;VT&quot;</td><td>null</td><td>&quot;Lamoille Count…</td><td>&quot;Vermont&quot;</td><td>5.559919</td></tr><tr><td>249186</td><td>28699</td><td>&quot;Derby Center&quot;</td><td>&quot;city&quot;</td><td>&quot;VT&quot;</td><td>&quot;VT&quot;</td><td>null</td><td>&quot;Orleans County…</td><td>&quot;Vermont&quot;</td><td>5.396455</td></tr></tbody></table></div>"
      ],
      "text/plain": [
       "shape: (22_250, 10)\n",
       "┌──────────┬──────────┬────────────┬────────────┬───┬────────────┬───────────┬──────────┬──────────┐\n",
       "│ RegionID ┆ SizeRank ┆ City       ┆ RegionType ┆ … ┆ Metro      ┆ County    ┆ State    ┆ target   │\n",
       "│ ---      ┆ ---      ┆ ---        ┆ ---        ┆   ┆ ---        ┆ ---       ┆ ---      ┆ ---      │\n",
       "│ i64      ┆ i64      ┆ str        ┆ str        ┆   ┆ str        ┆ str       ┆ str      ┆ f64      │\n",
       "╞══════════╪══════════╪════════════╪════════════╪═══╪════════════╪═══════════╪══════════╪══════════╡\n",
       "│ 6181     ┆ 0        ┆ New York   ┆ city       ┆ … ┆ New York-N ┆ Queens    ┆ New York ┆ 5.854972 │\n",
       "│          ┆          ┆            ┆            ┆   ┆ ewark-Jers ┆ County    ┆          ┆          │\n",
       "│          ┆          ┆            ┆            ┆   ┆ ey City,   ┆           ┆          ┆          │\n",
       "│          ┆          ┆            ┆            ┆   ┆ NY-…       ┆           ┆          ┆          │\n",
       "│ 17222    ┆ 43       ┆ Buffalo    ┆ city       ┆ … ┆ Buffalo-Ch ┆ Erie      ┆ New York ┆ 5.334042 │\n",
       "│          ┆          ┆            ┆            ┆   ┆ eektowaga, ┆ County    ┆          ┆          │\n",
       "│          ┆          ┆            ┆            ┆   ┆ NY         ┆           ┆          ┆          │\n",
       "│ 832063   ┆ 45       ┆ Rochester  ┆ city       ┆ … ┆ Rochester, ┆ Monroe    ┆ New York ┆ 5.322101 │\n",
       "│          ┆          ┆            ┆            ┆   ┆ NY         ┆ County    ┆          ┆          │\n",
       "│ 34937    ┆ 145      ┆ Yonkers    ┆ city       ┆ … ┆ New York-N ┆ Westchest ┆ New York ┆ 5.779882 │\n",
       "│          ┆          ┆            ┆            ┆   ┆ ewark-Jers ┆ er County ┆          ┆          │\n",
       "│          ┆          ┆            ┆            ┆   ┆ ey City,   ┆           ┆          ┆          │\n",
       "│          ┆          ┆            ┆            ┆   ┆ NY-…       ┆           ┆          ┆          │\n",
       "│ …        ┆ …        ┆ …          ┆ …          ┆ … ┆ …          ┆ …         ┆ …        ┆ …        │\n",
       "│ 27831    ┆ 27951    ┆ Wells      ┆ city       ┆ … ┆ Lebanon,   ┆ Orange    ┆ Vermont  ┆ 5.369254 │\n",
       "│          ┆          ┆ River      ┆            ┆   ┆ NH-VT      ┆ County    ┆          ┆          │\n",
       "│ 398478   ┆ 28081    ┆ Lemington  ┆ city       ┆ … ┆ null       ┆ Essex     ┆ Vermont  ┆ 5.349301 │\n",
       "│          ┆          ┆            ┆            ┆   ┆            ┆ County    ┆          ┆          │\n",
       "│ 56021    ┆ 28699    ┆ Jeffersonv ┆ city       ┆ … ┆ null       ┆ Lamoille  ┆ Vermont  ┆ 5.559919 │\n",
       "│          ┆          ┆ ille       ┆            ┆   ┆            ┆ County    ┆          ┆          │\n",
       "│ 249186   ┆ 28699    ┆ Derby      ┆ city       ┆ … ┆ null       ┆ Orleans   ┆ Vermont  ┆ 5.396455 │\n",
       "│          ┆          ┆ Center     ┆            ┆   ┆            ┆ County    ┆          ┆          │\n",
       "└──────────┴──────────┴────────────┴────────────┴───┴────────────┴───────────┴──────────┴──────────┘"
      ]
     },
     "execution_count": 20,
     "metadata": {},
     "output_type": "execute_result"
    }
   ],
   "source": [
    "df"
   ]
  },
  {
   "cell_type": "markdown",
   "metadata": {},
   "source": [
    "# Metam Housing Prices"
   ]
  },
  {
   "cell_type": "code",
   "execution_count": null,
   "metadata": {},
   "outputs": [],
   "source": [
    "df = pl.read_csv(Path(raw_data_path, \"housing.csv\"), infer_schema_length=10000)\n",
    "df = df.rename({\"URL (SEE https://www.redfin.com/buy-a-home/comparative-market-analysis FOR INFO ON PRICING)\": \"URL\", \"ZIP OR POSTAL CODE\": \"ZIP\"})\n",
    "df = df.with_columns(pl.col(\"PRICE\").log10().alias(\"target\")).drop(\"PRICE\")"
   ]
  },
  {
   "cell_type": "code",
   "execution_count": null,
   "metadata": {},
   "outputs": [],
   "source": [
    "df.select(pl.col(\"target\"), pl.col(\"ZIP\")).write_parquet(\n",
    "    Path(od_data_path, \"housing-depleted_ZIP-open_data.parquet\")\n",
    ")\n",
    "df.select(pl.col(\"target\"), pl.col(\"CITY\")).write_parquet(\n",
    "    Path(od_data_path, \"housing-depleted_CITY-open_data.parquet\")\n",
    ")\n",
    "df.write_parquet(\n",
    "    Path(od_data_path, \"housing-open_data.parquet\")\n",
    ")"
   ]
  },
  {
   "cell_type": "markdown",
   "metadata": {},
   "source": [
    "# Metam Schools"
   ]
  },
  {
   "cell_type": "code",
   "execution_count": null,
   "metadata": {},
   "outputs": [],
   "source": [
    "df = pl.read_csv(Path(raw_data_path, \"schools.csv\"), infer_schema_length=10000)"
   ]
  },
  {
   "cell_type": "code",
   "execution_count": null,
   "metadata": {},
   "outputs": [],
   "source": [
    "df = df.with_columns(pl.col(\"class\").cast(pl.Int8).alias(\"target\")).drop(\"class\")\n",
    "df = df.rename({\"DBN\": \"col_to_embed\"})"
   ]
  },
  {
   "cell_type": "code",
   "execution_count": null,
   "metadata": {},
   "outputs": [],
   "source": [
    "df.select(pl.col(\"target\"), pl.col(\"col_to_embed\")).write_parquet(\n",
    "    Path(od_data_path, \"schools-depleted-open_data.parquet\")\n",
    ")\n",
    "df.write_parquet(\n",
    "    Path(od_data_path, \"schools-open_data.parquet\")\n",
    ")"
   ]
  },
  {
   "cell_type": "code",
   "execution_count": null,
   "metadata": {},
   "outputs": [],
   "source": []
  }
 ],
 "metadata": {
  "kernelspec": {
   "display_name": "bench",
   "language": "python",
   "name": "python3"
  },
  "language_info": {
   "codemirror_mode": {
    "name": "ipython",
    "version": 3
   },
   "file_extension": ".py",
   "mimetype": "text/x-python",
   "name": "python",
   "nbconvert_exporter": "python",
   "pygments_lexer": "ipython3",
   "version": "3.10.0"
  },
  "orig_nbformat": 4
 },
 "nbformat": 4,
 "nbformat_minor": 2
}
