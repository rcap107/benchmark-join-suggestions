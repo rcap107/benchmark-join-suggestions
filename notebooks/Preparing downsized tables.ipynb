{
 "cells": [
  {
   "cell_type": "code",
   "execution_count": 2,
   "metadata": {},
   "outputs": [
    {
     "name": "stdout",
     "output_type": "stream",
     "text": [
      "/home/soda/rcappuzz/work/benchmark-join-suggestions\n"
     ]
    }
   ],
   "source": [
    "cd .."
   ]
  },
  {
   "cell_type": "code",
   "execution_count": 3,
   "metadata": {},
   "outputs": [],
   "source": [
    "import pandas as pd\n",
    "import polars as pl\n",
    "from pathlib import Path"
   ]
  },
  {
   "cell_type": "code",
   "execution_count": 4,
   "metadata": {},
   "outputs": [],
   "source": [
    "data_path = Path(\"data/source_tables\")"
   ]
  },
  {
   "attachments": {},
   "cell_type": "markdown",
   "metadata": {},
   "source": [
    "# Company employees"
   ]
  },
  {
   "cell_type": "code",
   "execution_count": 5,
   "metadata": {},
   "outputs": [],
   "source": [
    "df = pl.read_parquet(Path(data_path, \"company-employees-yadl.parquet\"))"
   ]
  },
  {
   "cell_type": "code",
   "execution_count": 6,
   "metadata": {},
   "outputs": [],
   "source": [
    "df.select(\n",
    "    pl.col(\"name\"),\n",
    "    pl.col(\"industry\"),\n",
    "    pl.col(\"locality\"),\n",
    "    pl.col(\"country\"),\n",
    "    pl.col(\"target\"),\n",
    "    pl.col(\"col_to_embed\"),\n",
    ").write_parquet(Path(data_path, \"company-employees-yadl-ax.parquet\"))\n",
    "\n",
    "df.select(pl.col(\"target\"), pl.col(\"col_to_embed\")).write_parquet(\n",
    "    Path(data_path, \"company-employees-depleted-yadl.parquet\")\n",
    ")\n",
    "df.select(pl.col(\"name\"), pl.col(\"target\")).write_parquet(\n",
    "    Path(data_path, \"company-employees-depleted-open_data.parquet\")\n",
    ")"
   ]
  },
  {
   "cell_type": "code",
   "execution_count": 7,
   "metadata": {},
   "outputs": [
    {
     "data": {
      "text/html": [
       "<div><style>\n",
       ".dataframe > thead > tr > th,\n",
       ".dataframe > tbody > tr > td {\n",
       "  text-align: right;\n",
       "}\n",
       "</style>\n",
       "<small>shape: (3_109, 2)</small><table border=\"1\" class=\"dataframe\"><thead><tr><th>target</th><th>col_to_embed</th></tr><tr><td>f64</td><td>str</td></tr></thead><tbody><tr><td>5.437825</td><td>&quot;&lt;IBM&gt;&quot;</td></tr><tr><td>5.280326</td><td>&quot;&lt;Accenture&gt;&quot;</td></tr><tr><td>5.107047</td><td>&quot;&lt;Hewlett-Packa…</td></tr><tr><td>5.081898</td><td>&quot;&lt;Walmart&gt;&quot;</td></tr><tr><td>5.065191</td><td>&quot;&lt;Microsoft&gt;&quot;</td></tr><tr><td>5.061407</td><td>&quot;&lt;AT&amp;T&gt;&quot;</td></tr><tr><td>5.039541</td><td>&quot;&lt;Wells_Fargo&gt;&quot;</td></tr><tr><td>5.020162</td><td>&quot;&lt;Infosys&gt;&quot;</td></tr><tr><td>5.017501</td><td>&quot;&lt;Deloitte&gt;&quot;</td></tr><tr><td>4.925967</td><td>&quot;&lt;Nokia&gt;&quot;</td></tr><tr><td>4.925204</td><td>&quot;&lt;Capgemini&gt;&quot;</td></tr><tr><td>4.925204</td><td>&quot;&lt;Capgemini&gt;&quot;</td></tr><tr><td>&hellip;</td><td>&hellip;</td></tr><tr><td>3.002598</td><td>&quot;&lt;Vilnius_Unive…</td></tr><tr><td>3.002598</td><td>&quot;&lt;Moody&#x27;s_Corpo…</td></tr><tr><td>3.002166</td><td>&quot;&lt;Air_Europa&gt;&quot;</td></tr><tr><td>3.002166</td><td>&quot;&lt;Providence_Co…</td></tr><tr><td>3.002166</td><td>&quot;&lt;AppDynamics&gt;&quot;</td></tr><tr><td>3.002166</td><td>&quot;&lt;Qihoo_360&gt;&quot;</td></tr><tr><td>3.001301</td><td>&quot;&lt;Hubbell_Incor…</td></tr><tr><td>3.000868</td><td>&quot;&lt;Revenu_Québec…</td></tr><tr><td>3.000434</td><td>&quot;&lt;Jagiellonian_…</td></tr><tr><td>3.0</td><td>&quot;&lt;BECU&gt;&quot;</td></tr><tr><td>3.0</td><td>&quot;&lt;STA_Travel&gt;&quot;</td></tr><tr><td>3.0</td><td>&quot;&lt;Megacable&gt;&quot;</td></tr></tbody></table></div>"
      ],
      "text/plain": [
       "shape: (3_109, 2)\n",
       "┌──────────┬───────────────────────────┐\n",
       "│ target   ┆ col_to_embed              │\n",
       "│ ---      ┆ ---                       │\n",
       "│ f64      ┆ str                       │\n",
       "╞══════════╪═══════════════════════════╡\n",
       "│ 5.437825 ┆ <IBM>                     │\n",
       "│ 5.280326 ┆ <Accenture>               │\n",
       "│ 5.107047 ┆ <Hewlett-Packard>         │\n",
       "│ 5.081898 ┆ <Walmart>                 │\n",
       "│ …        ┆ …                         │\n",
       "│ 3.000434 ┆ <Jagiellonian_University> │\n",
       "│ 3.0      ┆ <BECU>                    │\n",
       "│ 3.0      ┆ <STA_Travel>              │\n",
       "│ 3.0      ┆ <Megacable>               │\n",
       "└──────────┴───────────────────────────┘"
      ]
     },
     "execution_count": 7,
     "metadata": {},
     "output_type": "execute_result"
    }
   ],
   "source": [
    "df._read_parquet(Path(data_path, \"company-employees-depleted-yadl.parquet\"))"
   ]
  },
  {
   "attachments": {},
   "cell_type": "markdown",
   "metadata": {},
   "source": [
    "# US Accidents"
   ]
  },
  {
   "cell_type": "code",
   "execution_count": 8,
   "metadata": {},
   "outputs": [
    {
     "data": {
      "text/plain": [
       "['col_to_embed',\n",
       " 'target',\n",
       " 'County',\n",
       " 'Code',\n",
       " 'Severity',\n",
       " 'Zipcode',\n",
       " 'Country',\n",
       " 'Airport_Code',\n",
       " 'Visibility(mi)',\n",
       " 'Weather_Condition',\n",
       " 'Sunrise_Sunset',\n",
       " 'Civil_Twilight',\n",
       " 'State']"
      ]
     },
     "execution_count": 8,
     "metadata": {},
     "output_type": "execute_result"
    }
   ],
   "source": [
    "df = pl.read_parquet(Path(data_path, \"us-accidents-yadl.parquet\"))\n",
    "df.columns"
   ]
  },
  {
   "cell_type": "code",
   "execution_count": 9,
   "metadata": {},
   "outputs": [],
   "source": [
    "df.select(\n",
    "    pl.col([\"County\", \"Code\", \"Severity\", \"Zipcode\", \"State\"]),\n",
    "    pl.col(\"target\"),\n",
    "    pl.col(\"col_to_embed\"),\n",
    ").write_parquet(Path(data_path, \"us-accidents-yadl-ax.parquet\"))\n",
    "\n",
    "\n",
    "df.select(pl.col(\"target\"), pl.col(\"col_to_embed\")).write_parquet(\n",
    "    Path(data_path, \"us-accidents-depleted-yadl.parquet\")\n",
    ")\n",
    "df.select(pl.col(\"County\"), pl.col(\"target\")).write_parquet(\n",
    "    Path(data_path, \"us-accidents-depleted-open_data.parquet\")\n",
    ")"
   ]
  },
  {
   "attachments": {},
   "cell_type": "markdown",
   "metadata": {},
   "source": [
    "# US Elections"
   ]
  },
  {
   "cell_type": "code",
   "execution_count": 15,
   "metadata": {},
   "outputs": [
    {
     "data": {
      "text/html": [
       "<div><style>\n",
       ".dataframe > thead > tr > th,\n",
       ".dataframe > tbody > tr > td {\n",
       "  text-align: right;\n",
       "}\n",
       "</style>\n",
       "<small>shape: (22_084, 7)</small><table border=\"1\" class=\"dataframe\"><thead><tr><th>state</th><th>state_po</th><th>county_name</th><th>candidate</th><th>party</th><th>col_to_embed</th><th>target</th></tr><tr><td>str</td><td>str</td><td>str</td><td>str</td><td>str</td><td>str</td><td>f64</td></tr></thead><tbody><tr><td>&quot;Alabama&quot;</td><td>&quot;AL&quot;</td><td>&quot;Autauga&quot;</td><td>&quot;JOSEPH R BIDEN…</td><td>&quot;DEMOCRAT&quot;</td><td>&quot;&lt;Autauga_Count…</td><td>3.875293</td></tr><tr><td>&quot;Alabama&quot;</td><td>&quot;AL&quot;</td><td>&quot;Autauga&quot;</td><td>&quot;OTHER&quot;</td><td>&quot;OTHER&quot;</td><td>&quot;&lt;Autauga_Count…</td><td>2.633468</td></tr><tr><td>&quot;Alabama&quot;</td><td>&quot;AL&quot;</td><td>&quot;Autauga&quot;</td><td>&quot;DONALD J TRUMP…</td><td>&quot;REPUBLICAN&quot;</td><td>&quot;&lt;Autauga_Count…</td><td>4.29752</td></tr><tr><td>&quot;Alabama&quot;</td><td>&quot;AL&quot;</td><td>&quot;Baldwin&quot;</td><td>&quot;JOSEPH R BIDEN…</td><td>&quot;DEMOCRAT&quot;</td><td>&quot;&lt;Baldwin_Count…</td><td>4.390564</td></tr><tr><td>&quot;Alabama&quot;</td><td>&quot;AL&quot;</td><td>&quot;Baldwin&quot;</td><td>&quot;OTHER&quot;</td><td>&quot;OTHER&quot;</td><td>&quot;&lt;Baldwin_Count…</td><td>3.192567</td></tr><tr><td>&quot;Alabama&quot;</td><td>&quot;AL&quot;</td><td>&quot;Baldwin&quot;</td><td>&quot;DONALD J TRUMP…</td><td>&quot;REPUBLICAN&quot;</td><td>&quot;&lt;Baldwin_Count…</td><td>4.92192</td></tr><tr><td>&quot;Alabama&quot;</td><td>&quot;AL&quot;</td><td>&quot;Barbour&quot;</td><td>&quot;JOSEPH R BIDEN…</td><td>&quot;DEMOCRAT&quot;</td><td>&quot;&lt;Barbour_Count…</td><td>3.682777</td></tr><tr><td>&quot;Alabama&quot;</td><td>&quot;AL&quot;</td><td>&quot;Barbour&quot;</td><td>&quot;OTHER&quot;</td><td>&quot;OTHER&quot;</td><td>&quot;&lt;Barbour_Count…</td><td>1.908485</td></tr><tr><td>&quot;Alabama&quot;</td><td>&quot;AL&quot;</td><td>&quot;Barbour&quot;</td><td>&quot;DONALD J TRUMP…</td><td>&quot;REPUBLICAN&quot;</td><td>&quot;&lt;Barbour_Count…</td><td>3.749968</td></tr><tr><td>&quot;Alabama&quot;</td><td>&quot;AL&quot;</td><td>&quot;Bibb&quot;</td><td>&quot;JOSEPH R BIDEN…</td><td>&quot;DEMOCRAT&quot;</td><td>&quot;&lt;Bibb_County,_…</td><td>3.298198</td></tr><tr><td>&quot;Alabama&quot;</td><td>&quot;AL&quot;</td><td>&quot;Bibb&quot;</td><td>&quot;OTHER&quot;</td><td>&quot;OTHER&quot;</td><td>&quot;&lt;Bibb_County,_…</td><td>1.929419</td></tr><tr><td>&quot;Alabama&quot;</td><td>&quot;AL&quot;</td><td>&quot;Bibb&quot;</td><td>&quot;DONALD J TRUMP…</td><td>&quot;REPUBLICAN&quot;</td><td>&quot;&lt;Bibb_County,_…</td><td>3.876564</td></tr><tr><td>&hellip;</td><td>&hellip;</td><td>&hellip;</td><td>&hellip;</td><td>&hellip;</td><td>&hellip;</td><td>&hellip;</td></tr><tr><td>&quot;Wyoming&quot;</td><td>&quot;WY&quot;</td><td>&quot;Uinta&quot;</td><td>&quot;JOSEPH R BIDEN…</td><td>&quot;DEMOCRAT&quot;</td><td>&quot;&lt;Uinta_County,…</td><td>3.201943</td></tr><tr><td>&quot;Wyoming&quot;</td><td>&quot;WY&quot;</td><td>&quot;Uinta&quot;</td><td>&quot;JO JORGENSEN&quot;</td><td>&quot;LIBERTARIAN&quot;</td><td>&quot;&lt;Uinta_County,…</td><td>2.238046</td></tr><tr><td>&quot;Wyoming&quot;</td><td>&quot;WY&quot;</td><td>&quot;Uinta&quot;</td><td>&quot;OTHER&quot;</td><td>&quot;OTHER&quot;</td><td>&quot;&lt;Uinta_County,…</td><td>2.303196</td></tr><tr><td>&quot;Wyoming&quot;</td><td>&quot;WY&quot;</td><td>&quot;Uinta&quot;</td><td>&quot;DONALD J TRUMP…</td><td>&quot;REPUBLICAN&quot;</td><td>&quot;&lt;Uinta_County,…</td><td>3.874888</td></tr><tr><td>&quot;Wyoming&quot;</td><td>&quot;WY&quot;</td><td>&quot;Washakie&quot;</td><td>&quot;JOSEPH R BIDEN…</td><td>&quot;DEMOCRAT&quot;</td><td>&quot;&lt;Washakie_Coun…</td><td>2.814248</td></tr><tr><td>&quot;Wyoming&quot;</td><td>&quot;WY&quot;</td><td>&quot;Washakie&quot;</td><td>&quot;JO JORGENSEN&quot;</td><td>&quot;LIBERTARIAN&quot;</td><td>&quot;&lt;Washakie_Coun…</td><td>1.819544</td></tr><tr><td>&quot;Wyoming&quot;</td><td>&quot;WY&quot;</td><td>&quot;Washakie&quot;</td><td>&quot;OTHER&quot;</td><td>&quot;OTHER&quot;</td><td>&quot;&lt;Washakie_Coun…</td><td>1.857332</td></tr><tr><td>&quot;Wyoming&quot;</td><td>&quot;WY&quot;</td><td>&quot;Washakie&quot;</td><td>&quot;DONALD J TRUMP…</td><td>&quot;REPUBLICAN&quot;</td><td>&quot;&lt;Washakie_Coun…</td><td>3.511349</td></tr><tr><td>&quot;Wyoming&quot;</td><td>&quot;WY&quot;</td><td>&quot;Weston&quot;</td><td>&quot;JOSEPH R BIDEN…</td><td>&quot;DEMOCRAT&quot;</td><td>&quot;&lt;Weston_County…</td><td>2.557507</td></tr><tr><td>&quot;Wyoming&quot;</td><td>&quot;WY&quot;</td><td>&quot;Weston&quot;</td><td>&quot;JO JORGENSEN&quot;</td><td>&quot;LIBERTARIAN&quot;</td><td>&quot;&lt;Weston_County…</td><td>1.672098</td></tr><tr><td>&quot;Wyoming&quot;</td><td>&quot;WY&quot;</td><td>&quot;Weston&quot;</td><td>&quot;OTHER&quot;</td><td>&quot;OTHER&quot;</td><td>&quot;&lt;Weston_County…</td><td>1.681241</td></tr><tr><td>&quot;Wyoming&quot;</td><td>&quot;WY&quot;</td><td>&quot;Weston&quot;</td><td>&quot;DONALD J TRUMP…</td><td>&quot;REPUBLICAN&quot;</td><td>&quot;&lt;Weston_County…</td><td>3.492481</td></tr></tbody></table></div>"
      ],
      "text/plain": [
       "shape: (22_084, 7)\n",
       "┌─────────┬──────────┬─────────────┬───────────────────┬─────────────┬──────────────────┬──────────┐\n",
       "│ state   ┆ state_po ┆ county_name ┆ candidate         ┆ party       ┆ col_to_embed     ┆ target   │\n",
       "│ ---     ┆ ---      ┆ ---         ┆ ---               ┆ ---         ┆ ---              ┆ ---      │\n",
       "│ str     ┆ str      ┆ str         ┆ str               ┆ str         ┆ str              ┆ f64      │\n",
       "╞═════════╪══════════╪═════════════╪═══════════════════╪═════════════╪══════════════════╪══════════╡\n",
       "│ Alabama ┆ AL       ┆ Autauga     ┆ JOSEPH R BIDEN JR ┆ DEMOCRAT    ┆ <Autauga_County, ┆ 3.875293 │\n",
       "│         ┆          ┆             ┆                   ┆             ┆ _Alabama>        ┆          │\n",
       "│ Alabama ┆ AL       ┆ Autauga     ┆ OTHER             ┆ OTHER       ┆ <Autauga_County, ┆ 2.633468 │\n",
       "│         ┆          ┆             ┆                   ┆             ┆ _Alabama>        ┆          │\n",
       "│ Alabama ┆ AL       ┆ Autauga     ┆ DONALD J TRUMP    ┆ REPUBLICAN  ┆ <Autauga_County, ┆ 4.29752  │\n",
       "│         ┆          ┆             ┆                   ┆             ┆ _Alabama>        ┆          │\n",
       "│ Alabama ┆ AL       ┆ Baldwin     ┆ JOSEPH R BIDEN JR ┆ DEMOCRAT    ┆ <Baldwin_County, ┆ 4.390564 │\n",
       "│         ┆          ┆             ┆                   ┆             ┆ _Alabama>        ┆          │\n",
       "│ …       ┆ …        ┆ …           ┆ …                 ┆ …           ┆ …                ┆ …        │\n",
       "│ Wyoming ┆ WY       ┆ Weston      ┆ JOSEPH R BIDEN JR ┆ DEMOCRAT    ┆ <Weston_County,_ ┆ 2.557507 │\n",
       "│         ┆          ┆             ┆                   ┆             ┆ Wyoming>         ┆          │\n",
       "│ Wyoming ┆ WY       ┆ Weston      ┆ JO JORGENSEN      ┆ LIBERTARIAN ┆ <Weston_County,_ ┆ 1.672098 │\n",
       "│         ┆          ┆             ┆                   ┆             ┆ Wyoming>         ┆          │\n",
       "│ Wyoming ┆ WY       ┆ Weston      ┆ OTHER             ┆ OTHER       ┆ <Weston_County,_ ┆ 1.681241 │\n",
       "│         ┆          ┆             ┆                   ┆             ┆ Wyoming>         ┆          │\n",
       "│ Wyoming ┆ WY       ┆ Weston      ┆ DONALD J TRUMP    ┆ REPUBLICAN  ┆ <Weston_County,_ ┆ 3.492481 │\n",
       "│         ┆          ┆             ┆                   ┆             ┆ Wyoming>         ┆          │\n",
       "└─────────┴──────────┴─────────────┴───────────────────┴─────────────┴──────────────────┴──────────┘"
      ]
     },
     "execution_count": 15,
     "metadata": {},
     "output_type": "execute_result"
    }
   ],
   "source": [
    "df = pl.read_parquet(Path(data_path, \"us-presidential-results-yadl.parquet\"))\n",
    "df"
   ]
  },
  {
   "cell_type": "code",
   "execution_count": 16,
   "metadata": {},
   "outputs": [],
   "source": [
    "df.select(\n",
    "    pl.col(\"state\"),\n",
    "    pl.col(\"county_name\"),\n",
    "    pl.col(\"party\"),\n",
    "    pl.col(\"target\"),\n",
    "    pl.col(\"col_to_embed\"),\n",
    ").write_parquet(Path(data_path, \"us-presidential-results-yadl-ax.parquet\"))\n",
    "\n",
    "df.select(pl.col(\"target\"), pl.col(\"party\"), pl.col(\"col_to_embed\")).write_parquet(\n",
    "    Path(data_path, \"us-elections-depleted-yadl.parquet\")\n",
    ")\n",
    "df.select(pl.col(\"county_name\"), pl.col(\"party\"), pl.col(\"target\")).write_parquet(\n",
    "    Path(data_path, \"us-elections-depleted-open_data.parquet\")\n",
    ")"
   ]
  },
  {
   "cell_type": "markdown",
   "metadata": {},
   "source": [
    "### Prepare versions of US elections filtered by party"
   ]
  },
  {
   "cell_type": "code",
   "execution_count": 17,
   "metadata": {},
   "outputs": [],
   "source": [
    "df_filtered = df.filter(pl.col(\"party\") == \"DEMOCRAT\")\n",
    "df_filtered.select(\n",
    "    pl.col(\"state\"),\n",
    "    pl.col(\"county_name\"),\n",
    "    pl.col(\"party\"),\n",
    "    pl.col(\"target\"),\n",
    "    pl.col(\"col_to_embed\"),\n",
    ").write_parquet(Path(data_path, \"us-elections-dems.parquet\"))\n",
    "\n",
    "df_filtered.select(pl.col(\"target\"), pl.col(\"party\"), pl.col(\"col_to_embed\")).write_parquet(\n",
    "    Path(data_path, \"us-elections-dems-depleted-yadl.parquet\")\n",
    ")\n",
    "df_filtered.select(pl.col(\"county_name\"), pl.col(\"party\"), pl.col(\"target\")).write_parquet(\n",
    "    Path(data_path, \"us-elections-dems-depleted-open_data.parquet\")\n",
    ")"
   ]
  },
  {
   "attachments": {},
   "cell_type": "markdown",
   "metadata": {},
   "source": [
    "# Movies revenue"
   ]
  },
  {
   "cell_type": "code",
   "execution_count": 12,
   "metadata": {},
   "outputs": [
    {
     "data": {
      "text/plain": [
       "['adult',\n",
       " 'budget',\n",
       " 'genres',\n",
       " 'id',\n",
       " 'original_language',\n",
       " 'original_title',\n",
       " 'popularity',\n",
       " 'production_companies',\n",
       " 'production_countries',\n",
       " 'release_date',\n",
       " 'runtime',\n",
       " 'spoken_languages',\n",
       " 'status',\n",
       " 'title',\n",
       " 'video',\n",
       " 'vote_average',\n",
       " 'vote_count',\n",
       " 'col_to_embed',\n",
       " 'target']"
      ]
     },
     "execution_count": 12,
     "metadata": {},
     "output_type": "execute_result"
    }
   ],
   "source": [
    "df = pl.read_parquet(Path(data_path, \"movies-yadl.parquet\"))\n",
    "df.columns"
   ]
  },
  {
   "cell_type": "code",
   "execution_count": 13,
   "metadata": {},
   "outputs": [],
   "source": [
    "df.select(\n",
    "    pl.col(\"genres\"),\n",
    "    pl.col(\"original_language\"),\n",
    "    pl.col(\"original_title\"),\n",
    "    pl.col(\"release_date\"),\n",
    "    pl.col(\"production_countries\"),\n",
    "    pl.col(\"title\"),\n",
    "    pl.col(\"target\"),\n",
    "    pl.col(\"col_to_embed\"),\n",
    ").write_parquet(Path(data_path, \"movies-yadl-ax.parquet\"))\n",
    "\n",
    "df.select(pl.col(\"target\"), pl.col(\"col_to_embed\")).write_parquet(\n",
    "    Path(data_path, \"movies-depleted-yadl.parquet\")\n",
    ")\n",
    "df.select(pl.col(\"title\"), pl.col(\"target\")).write_parquet(\n",
    "    Path(data_path, \"movies-depleted-open_data.parquet\")\n",
    ")"
   ]
  },
  {
   "cell_type": "code",
   "execution_count": null,
   "metadata": {},
   "outputs": [],
   "source": []
  },
  {
   "cell_type": "code",
   "execution_count": null,
   "metadata": {},
   "outputs": [],
   "source": []
  }
 ],
 "metadata": {
  "kernelspec": {
   "display_name": "bench",
   "language": "python",
   "name": "python3"
  },
  "language_info": {
   "codemirror_mode": {
    "name": "ipython",
    "version": 3
   },
   "file_extension": ".py",
   "mimetype": "text/x-python",
   "name": "python",
   "nbconvert_exporter": "python",
   "pygments_lexer": "ipython3",
   "version": "3.10.0"
  },
  "orig_nbformat": 4
 },
 "nbformat": 4,
 "nbformat_minor": 2
}
