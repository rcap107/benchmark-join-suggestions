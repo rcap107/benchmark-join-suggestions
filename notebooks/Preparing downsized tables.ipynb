{
 "cells": [
  {
   "cell_type": "code",
   "execution_count": 1,
   "metadata": {},
   "outputs": [
    {
     "name": "stdout",
     "output_type": "stream",
     "text": [
      "/home/soda/rcappuzz/work/benchmark-join-suggestions\n"
     ]
    }
   ],
   "source": [
    "cd .."
   ]
  },
  {
   "cell_type": "code",
   "execution_count": 2,
   "metadata": {},
   "outputs": [],
   "source": [
    "import pandas as pd\n",
    "import polars as pl\n",
    "from pathlib import Path"
   ]
  },
  {
   "cell_type": "code",
   "execution_count": 3,
   "metadata": {},
   "outputs": [],
   "source": [
    "data_path = Path(\"data/source_tables\")"
   ]
  },
  {
   "attachments": {},
   "cell_type": "markdown",
   "metadata": {},
   "source": [
    "# Company employees"
   ]
  },
  {
   "cell_type": "code",
   "execution_count": 4,
   "metadata": {},
   "outputs": [],
   "source": [
    "df = pl.read_parquet(Path(data_path, \"company-employees-yadl.parquet\"))"
   ]
  },
  {
   "cell_type": "code",
   "execution_count": 5,
   "metadata": {},
   "outputs": [],
   "source": [
    "df.select(\n",
    "    pl.col(\"name\"),\n",
    "    pl.col(\"industry\"),\n",
    "    pl.col(\"locality\"),\n",
    "    pl.col(\"country\"),\n",
    "    pl.col(\"target\"),\n",
    "    pl.col(\"col_to_embed\")\n",
    ").write_parquet(Path(data_path, \"company-employees-yadl-ax.parquet\"))\n",
    "\n",
    "df.select(\n",
    "    pl.col(\"name\"),\n",
    "    pl.col(\"target\"),\n",
    "    pl.col(\"col_to_embed\")\n",
    ").write_parquet(Path(data_path, \"company-employees-depleted.parquet\"))\n"
   ]
  },
  {
   "attachments": {},
   "cell_type": "markdown",
   "metadata": {},
   "source": [
    "# US Accidents"
   ]
  },
  {
   "cell_type": "code",
   "execution_count": 6,
   "metadata": {},
   "outputs": [
    {
     "data": {
      "text/plain": [
       "['col_to_embed',\n",
       " 'target',\n",
       " 'County',\n",
       " 'Code',\n",
       " 'Severity',\n",
       " 'Zipcode',\n",
       " 'Country',\n",
       " 'Airport_Code',\n",
       " 'Visibility(mi)',\n",
       " 'Weather_Condition',\n",
       " 'Sunrise_Sunset',\n",
       " 'Civil_Twilight',\n",
       " 'State']"
      ]
     },
     "execution_count": 6,
     "metadata": {},
     "output_type": "execute_result"
    }
   ],
   "source": [
    "df = pl.read_parquet(Path(data_path, \"us-accidents-yadl.parquet\"))\n",
    "df.columns"
   ]
  },
  {
   "cell_type": "code",
   "execution_count": 7,
   "metadata": {},
   "outputs": [],
   "source": [
    "df.select(\n",
    "    pl.col([\"County\", \"Code\", \"Severity\", \"Zipcode\", \"State\"]),\n",
    "    pl.col(\"target\"),\n",
    "    pl.col(\"col_to_embed\")\n",
    ").write_parquet(Path(data_path, \"us-accidents-yadl-ax.parquet\"))\n",
    "\n",
    "df.select(\n",
    "    pl.col(\"County\"),\n",
    "    pl.col(\"target\"),\n",
    "    pl.col(\"col_to_embed\")\n",
    ").write_parquet(Path(data_path, \"us-accidents-depleted.parquet\"))\n",
    "\n"
   ]
  },
  {
   "attachments": {},
   "cell_type": "markdown",
   "metadata": {},
   "source": [
    "# US Elections"
   ]
  },
  {
   "cell_type": "code",
   "execution_count": 8,
   "metadata": {},
   "outputs": [
    {
     "data": {
      "text/html": [
       "<div><style>\n",
       ".dataframe > thead > tr > th,\n",
       ".dataframe > tbody > tr > td {\n",
       "  text-align: right;\n",
       "}\n",
       "</style>\n",
       "<small>shape: (22_084, 7)</small><table border=\"1\" class=\"dataframe\"><thead><tr><th>state</th><th>state_po</th><th>county_name</th><th>candidate</th><th>party</th><th>col_to_embed</th><th>target</th></tr><tr><td>str</td><td>str</td><td>str</td><td>str</td><td>str</td><td>str</td><td>f64</td></tr></thead><tbody><tr><td>&quot;Alabama&quot;</td><td>&quot;AL&quot;</td><td>&quot;Autauga&quot;</td><td>&quot;JOSEPH R BIDEN…</td><td>&quot;DEMOCRAT&quot;</td><td>&quot;&lt;Autauga_Count…</td><td>3.875293</td></tr><tr><td>&quot;Alabama&quot;</td><td>&quot;AL&quot;</td><td>&quot;Autauga&quot;</td><td>&quot;OTHER&quot;</td><td>&quot;OTHER&quot;</td><td>&quot;&lt;Autauga_Count…</td><td>2.633468</td></tr><tr><td>&quot;Alabama&quot;</td><td>&quot;AL&quot;</td><td>&quot;Autauga&quot;</td><td>&quot;DONALD J TRUMP…</td><td>&quot;REPUBLICAN&quot;</td><td>&quot;&lt;Autauga_Count…</td><td>4.29752</td></tr><tr><td>&quot;Alabama&quot;</td><td>&quot;AL&quot;</td><td>&quot;Baldwin&quot;</td><td>&quot;JOSEPH R BIDEN…</td><td>&quot;DEMOCRAT&quot;</td><td>&quot;&lt;Baldwin_Count…</td><td>4.390564</td></tr><tr><td>&quot;Alabama&quot;</td><td>&quot;AL&quot;</td><td>&quot;Baldwin&quot;</td><td>&quot;OTHER&quot;</td><td>&quot;OTHER&quot;</td><td>&quot;&lt;Baldwin_Count…</td><td>3.192567</td></tr><tr><td>&quot;Alabama&quot;</td><td>&quot;AL&quot;</td><td>&quot;Baldwin&quot;</td><td>&quot;DONALD J TRUMP…</td><td>&quot;REPUBLICAN&quot;</td><td>&quot;&lt;Baldwin_Count…</td><td>4.92192</td></tr><tr><td>&quot;Alabama&quot;</td><td>&quot;AL&quot;</td><td>&quot;Barbour&quot;</td><td>&quot;JOSEPH R BIDEN…</td><td>&quot;DEMOCRAT&quot;</td><td>&quot;&lt;Barbour_Count…</td><td>3.682777</td></tr><tr><td>&quot;Alabama&quot;</td><td>&quot;AL&quot;</td><td>&quot;Barbour&quot;</td><td>&quot;OTHER&quot;</td><td>&quot;OTHER&quot;</td><td>&quot;&lt;Barbour_Count…</td><td>1.908485</td></tr><tr><td>&quot;Alabama&quot;</td><td>&quot;AL&quot;</td><td>&quot;Barbour&quot;</td><td>&quot;DONALD J TRUMP…</td><td>&quot;REPUBLICAN&quot;</td><td>&quot;&lt;Barbour_Count…</td><td>3.749968</td></tr><tr><td>&quot;Alabama&quot;</td><td>&quot;AL&quot;</td><td>&quot;Bibb&quot;</td><td>&quot;JOSEPH R BIDEN…</td><td>&quot;DEMOCRAT&quot;</td><td>&quot;&lt;Bibb_County,_…</td><td>3.298198</td></tr><tr><td>&quot;Alabama&quot;</td><td>&quot;AL&quot;</td><td>&quot;Bibb&quot;</td><td>&quot;OTHER&quot;</td><td>&quot;OTHER&quot;</td><td>&quot;&lt;Bibb_County,_…</td><td>1.929419</td></tr><tr><td>&quot;Alabama&quot;</td><td>&quot;AL&quot;</td><td>&quot;Bibb&quot;</td><td>&quot;DONALD J TRUMP…</td><td>&quot;REPUBLICAN&quot;</td><td>&quot;&lt;Bibb_County,_…</td><td>3.876564</td></tr><tr><td>&hellip;</td><td>&hellip;</td><td>&hellip;</td><td>&hellip;</td><td>&hellip;</td><td>&hellip;</td><td>&hellip;</td></tr><tr><td>&quot;Wyoming&quot;</td><td>&quot;WY&quot;</td><td>&quot;Uinta&quot;</td><td>&quot;JOSEPH R BIDEN…</td><td>&quot;DEMOCRAT&quot;</td><td>&quot;&lt;Uinta_County,…</td><td>3.201943</td></tr><tr><td>&quot;Wyoming&quot;</td><td>&quot;WY&quot;</td><td>&quot;Uinta&quot;</td><td>&quot;JO JORGENSEN&quot;</td><td>&quot;LIBERTARIAN&quot;</td><td>&quot;&lt;Uinta_County,…</td><td>2.238046</td></tr><tr><td>&quot;Wyoming&quot;</td><td>&quot;WY&quot;</td><td>&quot;Uinta&quot;</td><td>&quot;OTHER&quot;</td><td>&quot;OTHER&quot;</td><td>&quot;&lt;Uinta_County,…</td><td>2.303196</td></tr><tr><td>&quot;Wyoming&quot;</td><td>&quot;WY&quot;</td><td>&quot;Uinta&quot;</td><td>&quot;DONALD J TRUMP…</td><td>&quot;REPUBLICAN&quot;</td><td>&quot;&lt;Uinta_County,…</td><td>3.874888</td></tr><tr><td>&quot;Wyoming&quot;</td><td>&quot;WY&quot;</td><td>&quot;Washakie&quot;</td><td>&quot;JOSEPH R BIDEN…</td><td>&quot;DEMOCRAT&quot;</td><td>&quot;&lt;Washakie_Coun…</td><td>2.814248</td></tr><tr><td>&quot;Wyoming&quot;</td><td>&quot;WY&quot;</td><td>&quot;Washakie&quot;</td><td>&quot;JO JORGENSEN&quot;</td><td>&quot;LIBERTARIAN&quot;</td><td>&quot;&lt;Washakie_Coun…</td><td>1.819544</td></tr><tr><td>&quot;Wyoming&quot;</td><td>&quot;WY&quot;</td><td>&quot;Washakie&quot;</td><td>&quot;OTHER&quot;</td><td>&quot;OTHER&quot;</td><td>&quot;&lt;Washakie_Coun…</td><td>1.857332</td></tr><tr><td>&quot;Wyoming&quot;</td><td>&quot;WY&quot;</td><td>&quot;Washakie&quot;</td><td>&quot;DONALD J TRUMP…</td><td>&quot;REPUBLICAN&quot;</td><td>&quot;&lt;Washakie_Coun…</td><td>3.511349</td></tr><tr><td>&quot;Wyoming&quot;</td><td>&quot;WY&quot;</td><td>&quot;Weston&quot;</td><td>&quot;JOSEPH R BIDEN…</td><td>&quot;DEMOCRAT&quot;</td><td>&quot;&lt;Weston_County…</td><td>2.557507</td></tr><tr><td>&quot;Wyoming&quot;</td><td>&quot;WY&quot;</td><td>&quot;Weston&quot;</td><td>&quot;JO JORGENSEN&quot;</td><td>&quot;LIBERTARIAN&quot;</td><td>&quot;&lt;Weston_County…</td><td>1.672098</td></tr><tr><td>&quot;Wyoming&quot;</td><td>&quot;WY&quot;</td><td>&quot;Weston&quot;</td><td>&quot;OTHER&quot;</td><td>&quot;OTHER&quot;</td><td>&quot;&lt;Weston_County…</td><td>1.681241</td></tr><tr><td>&quot;Wyoming&quot;</td><td>&quot;WY&quot;</td><td>&quot;Weston&quot;</td><td>&quot;DONALD J TRUMP…</td><td>&quot;REPUBLICAN&quot;</td><td>&quot;&lt;Weston_County…</td><td>3.492481</td></tr></tbody></table></div>"
      ],
      "text/plain": [
       "shape: (22_084, 7)\n",
       "┌─────────┬──────────┬─────────────┬───────────────────┬─────────────┬──────────────────┬──────────┐\n",
       "│ state   ┆ state_po ┆ county_name ┆ candidate         ┆ party       ┆ col_to_embed     ┆ target   │\n",
       "│ ---     ┆ ---      ┆ ---         ┆ ---               ┆ ---         ┆ ---              ┆ ---      │\n",
       "│ str     ┆ str      ┆ str         ┆ str               ┆ str         ┆ str              ┆ f64      │\n",
       "╞═════════╪══════════╪═════════════╪═══════════════════╪═════════════╪══════════════════╪══════════╡\n",
       "│ Alabama ┆ AL       ┆ Autauga     ┆ JOSEPH R BIDEN JR ┆ DEMOCRAT    ┆ <Autauga_County, ┆ 3.875293 │\n",
       "│         ┆          ┆             ┆                   ┆             ┆ _Alabama>        ┆          │\n",
       "│ Alabama ┆ AL       ┆ Autauga     ┆ OTHER             ┆ OTHER       ┆ <Autauga_County, ┆ 2.633468 │\n",
       "│         ┆          ┆             ┆                   ┆             ┆ _Alabama>        ┆          │\n",
       "│ Alabama ┆ AL       ┆ Autauga     ┆ DONALD J TRUMP    ┆ REPUBLICAN  ┆ <Autauga_County, ┆ 4.29752  │\n",
       "│         ┆          ┆             ┆                   ┆             ┆ _Alabama>        ┆          │\n",
       "│ Alabama ┆ AL       ┆ Baldwin     ┆ JOSEPH R BIDEN JR ┆ DEMOCRAT    ┆ <Baldwin_County, ┆ 4.390564 │\n",
       "│         ┆          ┆             ┆                   ┆             ┆ _Alabama>        ┆          │\n",
       "│ …       ┆ …        ┆ …           ┆ …                 ┆ …           ┆ …                ┆ …        │\n",
       "│ Wyoming ┆ WY       ┆ Weston      ┆ JOSEPH R BIDEN JR ┆ DEMOCRAT    ┆ <Weston_County,_ ┆ 2.557507 │\n",
       "│         ┆          ┆             ┆                   ┆             ┆ Wyoming>         ┆          │\n",
       "│ Wyoming ┆ WY       ┆ Weston      ┆ JO JORGENSEN      ┆ LIBERTARIAN ┆ <Weston_County,_ ┆ 1.672098 │\n",
       "│         ┆          ┆             ┆                   ┆             ┆ Wyoming>         ┆          │\n",
       "│ Wyoming ┆ WY       ┆ Weston      ┆ OTHER             ┆ OTHER       ┆ <Weston_County,_ ┆ 1.681241 │\n",
       "│         ┆          ┆             ┆                   ┆             ┆ Wyoming>         ┆          │\n",
       "│ Wyoming ┆ WY       ┆ Weston      ┆ DONALD J TRUMP    ┆ REPUBLICAN  ┆ <Weston_County,_ ┆ 3.492481 │\n",
       "│         ┆          ┆             ┆                   ┆             ┆ Wyoming>         ┆          │\n",
       "└─────────┴──────────┴─────────────┴───────────────────┴─────────────┴──────────────────┴──────────┘"
      ]
     },
     "execution_count": 8,
     "metadata": {},
     "output_type": "execute_result"
    }
   ],
   "source": [
    "df = pl.read_parquet(Path(data_path, \"us-presidential-results-yadl.parquet\"))\n",
    "df"
   ]
  },
  {
   "cell_type": "code",
   "execution_count": 9,
   "metadata": {},
   "outputs": [],
   "source": [
    "df.select(\n",
    "    pl.col(\"state\"),\n",
    "    pl.col(\"county_name\"),\n",
    "    pl.col(\"party\"),\n",
    "    pl.col(\"target\"),\n",
    "    pl.col(\"col_to_embed\")\n",
    ").write_parquet(Path(data_path, \"us-presidential-results-yadl-ax.parquet\"))\n",
    "\n",
    "df.select(\n",
    "    pl.col(\"county_name\"),\n",
    "    pl.col(\"party\"),\n",
    "    pl.col(\"target\"),\n",
    "    pl.col(\"col_to_embed\")\n",
    ").write_parquet(Path(data_path, \"us-elections-depleted.parquet\"))\n"
   ]
  },
  {
   "attachments": {},
   "cell_type": "markdown",
   "metadata": {},
   "source": [
    "# Movies revenue"
   ]
  },
  {
   "cell_type": "code",
   "execution_count": 10,
   "metadata": {},
   "outputs": [
    {
     "data": {
      "text/plain": [
       "['adult',\n",
       " 'budget',\n",
       " 'genres',\n",
       " 'id',\n",
       " 'original_language',\n",
       " 'original_title',\n",
       " 'popularity',\n",
       " 'production_companies',\n",
       " 'production_countries',\n",
       " 'release_date',\n",
       " 'runtime',\n",
       " 'spoken_languages',\n",
       " 'status',\n",
       " 'title',\n",
       " 'video',\n",
       " 'vote_average',\n",
       " 'vote_count',\n",
       " 'col_to_embed',\n",
       " 'target']"
      ]
     },
     "execution_count": 10,
     "metadata": {},
     "output_type": "execute_result"
    }
   ],
   "source": [
    "df = pl.read_parquet(Path(data_path, \"movies-yadl.parquet\"))\n",
    "df.columns"
   ]
  },
  {
   "cell_type": "code",
   "execution_count": 11,
   "metadata": {},
   "outputs": [],
   "source": [
    "df.select(\n",
    "    pl.col(\"genres\"),\n",
    "    pl.col(\"original_language\"),\n",
    "    pl.col(\"original_title\"),\n",
    "    pl.col(\"release_date\"),\n",
    "    pl.col(\"production_countries\"),\n",
    "    pl.col(\"title\"),\n",
    "    pl.col(\"target\"),\n",
    "    pl.col(\"col_to_embed\")\n",
    ").write_parquet(Path(data_path, \"movies-yadl-ax.parquet\"))\n",
    "\n",
    "df.select(\n",
    "    pl.col(\"title\"),\n",
    "    pl.col(\"target\"),\n",
    "    pl.col(\"col_to_embed\")\n",
    ").write_parquet(Path(data_path, \"movies-depleted.parquet\"))\n",
    "\n"
   ]
  },
  {
   "cell_type": "code",
   "execution_count": null,
   "metadata": {},
   "outputs": [],
   "source": []
  }
 ],
 "metadata": {
  "kernelspec": {
   "display_name": "bench",
   "language": "python",
   "name": "python3"
  },
  "language_info": {
   "codemirror_mode": {
    "name": "ipython",
    "version": 3
   },
   "file_extension": ".py",
   "mimetype": "text/x-python",
   "name": "python",
   "nbconvert_exporter": "python",
   "pygments_lexer": "ipython3",
   "version": "3.10.10"
  },
  "orig_nbformat": 4
 },
 "nbformat": 4,
 "nbformat_minor": 2
}
