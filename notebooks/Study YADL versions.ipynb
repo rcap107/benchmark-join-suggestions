{
 "cells": [
  {
   "attachments": {},
   "cell_type": "markdown",
   "metadata": {},
   "source": [
    "# Studying the content of the YADL variants"
   ]
  },
  {
   "attachments": {},
   "cell_type": "markdown",
   "metadata": {},
   "source": [
    "This notebook is used to produce some statistics on the tables stored in YADL and evaluate the main differences between\n",
    "YADL variants. "
   ]
  },
  {
   "cell_type": "code",
   "execution_count": 3,
   "metadata": {},
   "outputs": [
    {
     "name": "stdout",
     "output_type": "stream",
     "text": [
      "/home/soda/rcappuzz/work/benchmark-join-suggestions\n"
     ]
    }
   ],
   "source": [
    "cd .."
   ]
  },
  {
   "cell_type": "code",
   "execution_count": 4,
   "metadata": {},
   "outputs": [],
   "source": [
    "import polars as pl\n",
    "import pandas as pd\n",
    "import json\n",
    "from pathlib import Path\n",
    "from tqdm import tqdm\n",
    "import matplotlib.pyplot as plt\n",
    "import seaborn as sns"
   ]
  },
  {
   "cell_type": "code",
   "execution_count": 5,
   "metadata": {},
   "outputs": [],
   "source": [
    "metadata_dir = Path(\"data/metadata\")"
   ]
  },
  {
   "attachments": {},
   "cell_type": "markdown",
   "metadata": {},
   "source": [
    "Iterating over all tables in each YADL variant, then saving both the aggregate and complete results in dataframes. "
   ]
  },
  {
   "cell_type": "code",
   "execution_count": 6,
   "metadata": {},
   "outputs": [
    {
     "name": "stdout",
     "output_type": "stream",
     "text": [
      "wordnet_big\n"
     ]
    },
    {
     "name": "stderr",
     "output_type": "stream",
     "text": [
      "100%|██████████| 4080/4080 [00:27<00:00, 148.92it/s]\n"
     ]
    },
    {
     "name": "stdout",
     "output_type": "stream",
     "text": [
      "binary\n"
     ]
    },
    {
     "name": "stderr",
     "output_type": "stream",
     "text": [
      "100%|██████████| 67/67 [00:08<00:00,  7.76it/s]"
     ]
    },
    {
     "name": "stdout",
     "output_type": "stream",
     "text": [
      "/storage/store/work/rcappuzz/yago3-dl/binary/yago_binary_startedOnDate.parquet\n",
      "/storage/store/work/rcappuzz/yago3-dl/binary/yago_binary_hasNeighbor.parquet\n"
     ]
    },
    {
     "name": "stderr",
     "output_type": "stream",
     "text": [
      "\n"
     ]
    }
   ],
   "source": [
    "avg_df = []\n",
    "all_stats = []\n",
    "variants = [\"wordnet_big\", \"binary\"]\n",
    "# variants = [\"binary\"]\n",
    "for variant in variants:\n",
    "    print(variant)\n",
    "    total_files = sum([1 for _ in Path(metadata_dir, variant).glob(\"**/*.json\")])\n",
    "    mdata_files = Path(metadata_dir, variant).glob(\"**/*.json\")\n",
    "    total_size = 0\n",
    "    list_dicts = []\n",
    "    for f in tqdm(mdata_files, total=total_files):\n",
    "        with open(f, \"r\") as fp:\n",
    "            mdata = json.load(fp)\n",
    "            table_path = Path(mdata[\"full_path\"])\n",
    "            file_size = table_path.stat().st_size\n",
    "            total_size += file_size\n",
    "            \n",
    "            table = pl.read_parquet(table_path)\n",
    "            if table.shape[0] == 1:\n",
    "                print(table_path)\n",
    "                continue\n",
    "            subj_avg = table.groupby(\"subject\").count().mean()[\"count\"].item()\n",
    "            subj_median = table.groupby(\"subject\").count().median()[\"count\"].item()\n",
    "            cat_feat = 0\n",
    "            num_feat = 0\n",
    "            for col, typ in table.schema.items():\n",
    "                if typ == pl.Utf8:\n",
    "                    cat_feat += 1\n",
    "                else:\n",
    "                    num_feat += 1\n",
    "\n",
    "            dd = {\n",
    "                \"variant\": variant,\n",
    "                \"table_name\": table_path.stem,\n",
    "                \"num_rows\": table.shape[0],\n",
    "                \"num_cols\": table.shape[1],\n",
    "                \"file_size\": file_size,\n",
    "                \"subj_avg\": subj_avg,\n",
    "                \"subj_median\": subj_median,\n",
    "                \"cat_feat\": cat_feat,\n",
    "                \"num_feat\": num_feat,\n",
    "            }\n",
    "            list_dicts.append(dd)\n",
    "\n",
    "    df_stat = pl.from_dicts(list_dicts)\n",
    "    avg_stats = df_stat.select(\n",
    "        pl.lit(variant).alias(\"Variant\"),\n",
    "        pl.col(\"num_rows\").mean().alias(\"avg_num_rows\"),\n",
    "        pl.col(\"num_rows\").median().alias(\"median_num_rows\"),\n",
    "        pl.col(\"num_rows\").max().alias(\"max_num_rows\"),\n",
    "        pl.col(\"num_rows\").min().alias(\"min_num_rows\"),\n",
    "        pl.col(\"num_cols\").max().alias(\"max_num_cols\"), \n",
    "        pl.col(\"num_cols\").min().alias(\"min_num_cols\"), \n",
    "        pl.col(\"file_size\").mean().alias(\"avg_file_size\")/1e6,\n",
    "        pl.col(\"table_name\").count().alias(\"num_tables\"),\n",
    "        pl.lit(total_size).alias(\"total_size\")/1e6,\n",
    "        pl.col(\"subj_avg\").mean(),\n",
    "        pl.col(\"subj_median\").mean(),\n",
    "    )   \n",
    "    avg_df.append(avg_stats)\n",
    "    all_stats.append(df_stat)\n",
    "all_stat_variants = pl.concat(all_stats)"
   ]
  },
  {
   "attachments": {},
   "cell_type": "markdown",
   "metadata": {},
   "source": [
    "Printing the most frequenty types. "
   ]
  },
  {
   "cell_type": "code",
   "execution_count": 7,
   "metadata": {},
   "outputs": [
    {
     "name": "stdout",
     "output_type": "stream",
     "text": [
      "Rank       Binary                                   Wordnet\n",
      "1          yago_binary_isCitizenOf                  yagowordnet_wordnet_person\n",
      "2          yago_binary_hasGender                    person_playsFor_isAffiliatedTo\n",
      "3          yago_binary_isLocatedIn                  person_wasBornOnDate_playsFor_isAffiliatedTo\n",
      "4          yago_binary_wasBornOnDate                person_playsFor_isAffiliatedTo_hasHeight\n",
      "5          yago_binary_isAffiliatedTo               yagowordnet_wordnet_company\n",
      "6          yago_binary_wasBornIn                    yagowordnet_wordnet_artist\n",
      "7          yago_binary_playsFor                     person_wasBornOnDate_isAffiliatedTo\n",
      "8          yago_binary_diedOnDate                   person_wasBornOnDate_playsFor\n",
      "9          yago_binary_created                      artist_created_wroteMusicFor\n",
      "10         yago_binary_wasCreatedOnDate             artist_created_hasMusicalRole_wroteMusicFor\n"
     ]
    }
   ],
   "source": [
    "largest_wordnet=all_stat_variants.filter(pl.col(\"variant\")==\"wordnet_big\").sort(\"num_rows\", descending=True).limit(10).select(\"table_name\").to_series().to_list()\n",
    "largest_binary=all_stat_variants.filter(pl.col(\"variant\")==\"binary\").sort(\"num_rows\", descending=True).limit(10).select(\"table_name\").to_series().to_list()\n",
    "\n",
    "print(f\"{'Rank':<10}\", f\"{'Binary':<40}\", 'Wordnet')\n",
    "for idx in range(10):\n",
    "    print(f\"{idx+1:<10}\", f\"{largest_binary[idx]:<40}\", largest_wordnet[idx])"
   ]
  },
  {
   "attachments": {},
   "cell_type": "markdown",
   "metadata": {},
   "source": [
    "Plotting some of the aggregated statistics gathered in the previous step. "
   ]
  },
  {
   "cell_type": "code",
   "execution_count": 8,
   "metadata": {},
   "outputs": [
    {
     "data": {
      "image/png": "[encoded data removed]",
      "text/plain": [
       "<Figure size 800x400 with 4 Axes>"
      ]
     },
     "metadata": {},
     "output_type": "display_data"
    }
   ],
   "source": [
    "variables_of_interest = [\"num_rows\", \"num_cols\", \"subj_avg\", \"subj_median\"]\n",
    "df_melt=all_stat_variants.melt(\n",
    "    id_vars=[\"variant\"],\n",
    "    value_vars=variables_of_interest\n",
    ")\n",
    "\n",
    "fig, axs = plt.subplots(1, len(variables_of_interest), figsize=(8,4))\n",
    "for idx, var in enumerate(variables_of_interest):\n",
    "    ax = axs[idx]\n",
    "    ax=sns.boxplot(data=df_melt.filter(pl.col(\"variable\")==var).to_pandas(), x=\"variant\", y=\"value\", ax=ax)\n",
    "    if var != \"num_cols\":\n",
    "        ax.set_yscale(\"log\")\n",
    "    ax.set_title(var)\n",
    "    ax.set_xlabel(\"\")\n",
    "    ax.set_ylabel(\"\")\n",
    "    \n",
    "    # ax.get_legend().remove()\n",
    "\n",
    "plt.tight_layout() "
   ]
  },
  {
   "attachments": {},
   "cell_type": "markdown",
   "metadata": {},
   "source": [
    "Preparing the aggregated stats"
   ]
  },
  {
   "cell_type": "code",
   "execution_count": 9,
   "metadata": {},
   "outputs": [],
   "source": [
    "stat_variants = pl.concat(avg_df)"
   ]
  },
  {
   "cell_type": "code",
   "execution_count": 10,
   "metadata": {},
   "outputs": [
    {
     "data": {
      "text/html": [
       "<div><style>\n",
       ".dataframe > thead > tr > th,\n",
       ".dataframe > tbody > tr > td {\n",
       "  text-align: right;\n",
       "}\n",
       "</style>\n",
       "<small>shape: (2, 6)</small><table border=\"1\" class=\"dataframe\"><thead><tr><th>Variant</th><th># Tables</th><th>Avg. rows</th><th>Med. rows</th><th>Avg. size</th><th>Total size</th></tr><tr><td>str</td><td>u32</td><td>f64</td><td>f64</td><td>f64</td><td>f64</td></tr></thead><tbody><tr><td>&quot;wordnet_big&quot;</td><td>4080</td><td>16031.73848</td><td>164.0</td><td>0.135622</td><td>553.339654</td></tr><tr><td>&quot;binary&quot;</td><td>65</td><td>322672.030769</td><td>44340.0</td><td>4.520355</td><td>293.824463</td></tr></tbody></table></div>"
      ],
      "text/plain": [
       "shape: (2, 6)\n",
       "┌─────────────┬──────────┬───────────────┬───────────┬───────────┬────────────┐\n",
       "│ Variant     ┆ # Tables ┆ Avg. rows     ┆ Med. rows ┆ Avg. size ┆ Total size │\n",
       "│ ---         ┆ ---      ┆ ---           ┆ ---       ┆ ---       ┆ ---        │\n",
       "│ str         ┆ u32      ┆ f64           ┆ f64       ┆ f64       ┆ f64        │\n",
       "╞═════════════╪══════════╪═══════════════╪═══════════╪═══════════╪════════════╡\n",
       "│ wordnet_big ┆ 4080     ┆ 16031.73848   ┆ 164.0     ┆ 0.135622  ┆ 553.339654 │\n",
       "│ binary      ┆ 65       ┆ 322672.030769 ┆ 44340.0   ┆ 4.520355  ┆ 293.824463 │\n",
       "└─────────────┴──────────┴───────────────┴───────────┴───────────┴────────────┘"
      ]
     },
     "execution_count": 10,
     "metadata": {},
     "output_type": "execute_result"
    }
   ],
   "source": [
    "stat_variants.select(\n",
    "    pl.col(\"Variant\"),\n",
    "    pl.col(\"num_tables\").alias(\"# Tables\"),\n",
    "    pl.col(\"avg_num_rows\").alias(\"Avg. rows\"),\n",
    "    pl.col(\"median_num_rows\").alias(\"Med. rows\"),\n",
    "    pl.col(\"avg_file_size\").alias(\"Avg. size\"),\n",
    "    pl.col(\"total_size\").alias(\"Total size\"),\n",
    ")"
   ]
  },
  {
   "cell_type": "code",
   "execution_count": 11,
   "metadata": {},
   "outputs": [
    {
     "ename": "SchemaFieldNotFoundError",
     "evalue": "Total size",
     "output_type": "error",
     "traceback": [
      "\u001b[0;31m---------------------------------------------------------------------------\u001b[0m",
      "\u001b[0;31mSchemaFieldNotFoundError\u001b[0m                  Traceback (most recent call last)",
      "Cell \u001b[0;32mIn[11], line 1\u001b[0m\n\u001b[0;32m----> 1\u001b[0m spd \u001b[39m=\u001b[39m stat_variants\u001b[39m.\u001b[39;49mdrop([\u001b[39m\"\u001b[39;49m\u001b[39mTotal size\u001b[39;49m\u001b[39m\"\u001b[39;49m, \u001b[39m\"\u001b[39;49m\u001b[39mMax. # rows\u001b[39;49m\u001b[39m\"\u001b[39;49m, \t\u001b[39m\"\u001b[39;49m\u001b[39mMax. # columns\u001b[39;49m\u001b[39m\"\u001b[39;49m])\u001b[39m.\u001b[39mto_pandas()\n",
      "File \u001b[0;32m~/mambaforge/envs/bench/lib/python3.10/site-packages/polars/dataframe/frame.py:5670\u001b[0m, in \u001b[0;36mDataFrame.drop\u001b[0;34m(self, columns, *more_columns)\u001b[0m\n\u001b[1;32m   5606\u001b[0m \u001b[39mdef\u001b[39;00m \u001b[39mdrop\u001b[39m(\u001b[39mself\u001b[39m, columns: \u001b[39mstr\u001b[39m \u001b[39m|\u001b[39m Sequence[\u001b[39mstr\u001b[39m], \u001b[39m*\u001b[39mmore_columns: \u001b[39mstr\u001b[39m) \u001b[39m-\u001b[39m\u001b[39m>\u001b[39m Self:\n\u001b[1;32m   5607\u001b[0m \u001b[39m    \u001b[39m\u001b[39m\"\"\"\u001b[39;00m\n\u001b[1;32m   5608\u001b[0m \u001b[39m    Remove columns from the dataframe.\u001b[39;00m\n\u001b[1;32m   5609\u001b[0m \n\u001b[0;32m   (...)\u001b[0m\n\u001b[1;32m   5667\u001b[0m \n\u001b[1;32m   5668\u001b[0m \u001b[39m    \"\"\"\u001b[39;00m\n\u001b[1;32m   5669\u001b[0m     \u001b[39mreturn\u001b[39;00m \u001b[39mself\u001b[39m\u001b[39m.\u001b[39m_from_pydf(\n\u001b[0;32m-> 5670\u001b[0m         \u001b[39mself\u001b[39;49m\u001b[39m.\u001b[39;49mlazy()\u001b[39m.\u001b[39;49mdrop(columns, \u001b[39m*\u001b[39;49mmore_columns)\u001b[39m.\u001b[39;49mcollect(no_optimization\u001b[39m=\u001b[39;49m\u001b[39mTrue\u001b[39;49;00m)\u001b[39m.\u001b[39m_df\n\u001b[1;32m   5671\u001b[0m     )\n",
      "File \u001b[0;32m~/mambaforge/envs/bench/lib/python3.10/site-packages/polars/lazyframe/frame.py:1604\u001b[0m, in \u001b[0;36mLazyFrame.collect\u001b[0;34m(self, type_coercion, predicate_pushdown, projection_pushdown, simplify_expression, no_optimization, slice_pushdown, common_subplan_elimination, streaming)\u001b[0m\n\u001b[1;32m   1593\u001b[0m     common_subplan_elimination \u001b[39m=\u001b[39m \u001b[39mFalse\u001b[39;00m\n\u001b[1;32m   1595\u001b[0m ldf \u001b[39m=\u001b[39m \u001b[39mself\u001b[39m\u001b[39m.\u001b[39m_ldf\u001b[39m.\u001b[39moptimization_toggle(\n\u001b[1;32m   1596\u001b[0m     type_coercion,\n\u001b[1;32m   1597\u001b[0m     predicate_pushdown,\n\u001b[0;32m   (...)\u001b[0m\n\u001b[1;32m   1602\u001b[0m     streaming,\n\u001b[1;32m   1603\u001b[0m )\n\u001b[0;32m-> 1604\u001b[0m \u001b[39mreturn\u001b[39;00m wrap_df(ldf\u001b[39m.\u001b[39;49mcollect())\n",
      "\u001b[0;31mSchemaFieldNotFoundError\u001b[0m: Total size"
     ]
    }
   ],
   "source": [
    "spd = stat_variants.drop([\"Total size\", \"Max. # rows\", \t\"Max. # columns\"]).to_pandas()"
   ]
  },
  {
   "cell_type": "code",
   "execution_count": null,
   "metadata": {},
   "outputs": [],
   "source": [
    "spd.style.format(precision=2, subset=[\"Avg. file size (MB)\", \"Total size (MB)\"]).format(subset=[\"Avg. # rows\"], precision=0).to_latex(\"tab.tex\", hrules=True)"
   ]
  },
  {
   "cell_type": "code",
   "execution_count": null,
   "metadata": {},
   "outputs": [],
   "source": [
    "spd.style.to_latex(\"tab.tex\", hrules=True)"
   ]
  },
  {
   "attachments": {},
   "cell_type": "markdown",
   "metadata": {},
   "source": [
    "# Base table stats"
   ]
  },
  {
   "cell_type": "code",
   "execution_count": null,
   "metadata": {},
   "outputs": [],
   "source": [
    "data_dir = Path(\"data/metadata/queries\")\n",
    "tabs_mdata_paths = list(data_dir.glob(\"*.json\"))"
   ]
  },
  {
   "cell_type": "code",
   "execution_count": null,
   "metadata": {},
   "outputs": [],
   "source": [
    "stats_list = []\n",
    "for tab_mdata_pth in tabs_mdata_paths:\n",
    "    with open(tab_mdata_pth, \"r\") as fp:\n",
    "        tab_mdata = json.load(fp)\n",
    "        tab_path = tab_mdata[\"full_path\"]\n",
    "        tab = pl.read_parquet(tab_path).unique()\n",
    "        cat_feat = 0\n",
    "        num_feat = 0\n",
    "        for col, typ in tab.schema.items():\n",
    "            if typ == pl.Utf8:\n",
    "                cat_feat += 1\n",
    "            else:\n",
    "                num_feat += 1\n",
    "        stats = {\n",
    "            \"tab_name\": tab_mdata[\"df_name\"],\n",
    "            # \"tab_source\": \"add\",\n",
    "            \"num_rows\": tab.shape[0],\n",
    "            # \"num_cols\": tab.shape[1],\n",
    "            \"cat_feat\": cat_feat,\n",
    "            \"num_feat\": num_feat,\n",
    "            # \"target\": \"add\"\n",
    "        }\n",
    "        stats_list.append(stats)"
   ]
  },
  {
   "cell_type": "code",
   "execution_count": null,
   "metadata": {},
   "outputs": [],
   "source": [
    "base_table_stats = pl.from_dicts(stats_list)\n",
    "base_table_stats = base_table_stats.select(\n",
    "    pl.col(\"tab_name\").alias(\"Table name\"),\n",
    "    pl.col(\"num_rows\").alias(\"Rows\"),\n",
    "    pl.col(\"cat_feat\").alias(\"$C$\"),\n",
    "    pl.col(\"num_feat\").alias(\"$N$\"),\n",
    ")"
   ]
  },
  {
   "cell_type": "code",
   "execution_count": null,
   "metadata": {},
   "outputs": [],
   "source": [
    "base_table_stats.to_pandas().style.to_latex(\"base_tables.tex\", hrules=True)"
   ]
  },
  {
   "cell_type": "code",
   "execution_count": null,
   "metadata": {},
   "outputs": [
    {
     "data": {
      "text/html": [
       "<div><style>\n",
       ".dataframe > thead > tr > th,\n",
       ".dataframe > tbody > tr > td {\n",
       "  text-align: right;\n",
       "}\n",
       "</style>\n",
       "<small>shape: (6, 4)</small><table border=\"1\" class=\"dataframe\"><thead><tr><th>Table name</th><th>Rows</th><th>$C$</th><th>$N$</th></tr><tr><td>str</td><td>i64</td><td>i64</td><td>i64</td></tr></thead><tbody><tr><td>&quot;presidential-r…</td><td>22084</td><td>12</td><td>1</td></tr><tr><td>&quot;company-employ…</td><td>3107</td><td>8</td><td>2</td></tr><tr><td>&quot;movies-prepare…</td><td>3826</td><td>14</td><td>5</td></tr><tr><td>&quot;us-accidents-p…</td><td>20000</td><td>23</td><td>28</td></tr><tr><td>&quot;us-accidents-p…</td><td>5222</td><td>10</td><td>3</td></tr><tr><td>&quot;presidential-r…</td><td>21289</td><td>6</td><td>1</td></tr></tbody></table></div>"
      ],
      "text/plain": [
       "shape: (6, 4)\n",
       "┌───────────────────────────────────┬───────┬─────┬─────┐\n",
       "│ Table name                        ┆ Rows  ┆ $C$ ┆ $N$ │\n",
       "│ ---                               ┆ ---   ┆ --- ┆ --- │\n",
       "│ str                               ┆ i64   ┆ i64 ┆ i64 │\n",
       "╞═══════════════════════════════════╪═══════╪═════╪═════╡\n",
       "│ presidential-results-prepared     ┆ 22084 ┆ 12  ┆ 1   │\n",
       "│ company-employees-prepared        ┆ 3107  ┆ 8   ┆ 2   │\n",
       "│ movies-prepared                   ┆ 3826  ┆ 14  ┆ 5   │\n",
       "│ us-accidents-prepared             ┆ 20000 ┆ 23  ┆ 28  │\n",
       "│ us-accidents-prepared-new         ┆ 5222  ┆ 10  ┆ 3   │\n",
       "│ presidential-results-prepared-ne… ┆ 21289 ┆ 6   ┆ 1   │\n",
       "└───────────────────────────────────┴───────┴─────┴─────┘"
      ]
     },
     "execution_count": 10,
     "metadata": {},
     "output_type": "execute_result"
    }
   ],
   "source": [
    "base_table_stats"
   ]
  }
 ],
 "metadata": {
  "kernelspec": {
   "display_name": "bench",
   "language": "python",
   "name": "python3"
  },
  "language_info": {
   "codemirror_mode": {
    "name": "ipython",
    "version": 3
   },
   "file_extension": ".py",
   "mimetype": "text/x-python",
   "name": "python",
   "nbconvert_exporter": "python",
   "pygments_lexer": "ipython3",
   "version": "3.10.10"
  },
  "orig_nbformat": 4
 },
 "nbformat": 4,
 "nbformat_minor": 2
}
