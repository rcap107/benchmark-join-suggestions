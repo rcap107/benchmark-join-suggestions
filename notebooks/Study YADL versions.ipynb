{
 "cells": [
  {
   "cell_type": "code",
   "execution_count": 1,
   "metadata": {},
   "outputs": [
    {
     "name": "stdout",
     "output_type": "stream",
     "text": [
      "/home/soda/rcappuzz/work/benchmark-join-suggestions\n"
     ]
    }
   ],
   "source": [
    "cd ~/work/benchmark-join-suggestions/"
   ]
  },
  {
   "cell_type": "code",
   "execution_count": 2,
   "metadata": {},
   "outputs": [],
   "source": [
    "import polars as pl\n",
    "import pandas as pd\n",
    "import json\n",
    "from pathlib import Path\n",
    "from tqdm import tqdm"
   ]
  },
  {
   "cell_type": "code",
   "execution_count": 3,
   "metadata": {},
   "outputs": [],
   "source": [
    "metadata_dir = Path(\"data/metadata\")"
   ]
  },
  {
   "cell_type": "code",
   "execution_count": 4,
   "metadata": {},
   "outputs": [],
   "source": [
    "variant = \"binary\""
   ]
  },
  {
   "cell_type": "code",
   "execution_count": 5,
   "metadata": {},
   "outputs": [
    {
     "name": "stdout",
     "output_type": "stream",
     "text": [
      "binary\n"
     ]
    },
    {
     "name": "stderr",
     "output_type": "stream",
     "text": [
      "100%|██████████| 67/67 [00:08<00:00,  7.92it/s]\n"
     ]
    },
    {
     "name": "stdout",
     "output_type": "stream",
     "text": [
      "/storage/store/work/rcappuzz/yago3-dl/binary/yago_binary_startedOnDate.parquet\n",
      "/storage/store/work/rcappuzz/yago3-dl/binary/yago_binary_hasNeighbor.parquet\n",
      "wordnet\n"
     ]
    },
    {
     "name": "stderr",
     "output_type": "stream",
     "text": [
      " 24%|██▍       | 125/513 [00:04<00:03, 129.29it/s]"
     ]
    },
    {
     "name": "stdout",
     "output_type": "stream",
     "text": [
      "/storage/store/work/rcappuzz/yago3-dl/wordnet/subtabs/yago_wordnet_company/company_hasBudget_hasLatitude.parquet\n",
      "/storage/store/work/rcappuzz/yago3-dl/wordnet/subtabs/yago_wordnet_company/company_hasBudget_hasLongitude.parquet\n"
     ]
    },
    {
     "name": "stderr",
     "output_type": "stream",
     "text": [
      "100%|██████████| 513/513 [00:06<00:00, 79.39it/s] \n"
     ]
    },
    {
     "name": "stdout",
     "output_type": "stream",
     "text": [
      "full\n"
     ]
    },
    {
     "name": "stderr",
     "output_type": "stream",
     "text": [
      " 12%|█▏        | 68/580 [00:08<00:17, 28.52it/s]"
     ]
    },
    {
     "name": "stdout",
     "output_type": "stream",
     "text": [
      "/storage/store/work/rcappuzz/yago3-dl/binary/yago_binary_startedOnDate.parquet\n",
      "/storage/store/work/rcappuzz/yago3-dl/binary/yago_binary_hasNeighbor.parquet\n"
     ]
    },
    {
     "name": "stderr",
     "output_type": "stream",
     "text": [
      " 34%|███▍      | 196/580 [00:12<00:03, 109.98it/s]"
     ]
    },
    {
     "name": "stdout",
     "output_type": "stream",
     "text": [
      "/storage/store/work/rcappuzz/yago3-dl/wordnet/subtabs/yago_wordnet_company/company_hasBudget_hasLatitude.parquet\n",
      "/storage/store/work/rcappuzz/yago3-dl/wordnet/subtabs/yago_wordnet_company/company_hasBudget_hasLongitude.parquet\n"
     ]
    },
    {
     "name": "stderr",
     "output_type": "stream",
     "text": [
      "100%|██████████| 580/580 [00:14<00:00, 39.94it/s] \n"
     ]
    }
   ],
   "source": [
    "avg_df = []\n",
    "variants = [\"binary\",\"wordnet\", \"full\"]\n",
    "for variant in variants:\n",
    "    print(variant)\n",
    "    total_files = sum([1 for _ in Path(metadata_dir, variant).glob(\"**/*.json\")])\n",
    "    mdata_files = Path(metadata_dir, variant).glob(\"**/*.json\")\n",
    "    total_size = 0\n",
    "    list_dicts = []\n",
    "    for f in tqdm(mdata_files, total=total_files):\n",
    "        with open(f, \"r\") as fp:\n",
    "            mdata = json.load(fp)\n",
    "            table_path = Path(mdata[\"full_path\"])\n",
    "            file_size = table_path.stat().st_size\n",
    "            total_size += file_size\n",
    "            \n",
    "            table = pl.read_parquet(table_path)\n",
    "            subj_avg = table.groupby(\"subject\").count().mean()[\"count\"].item()\n",
    "            subj_median = table.groupby(\"subject\").count().median()[\"count\"].item()\n",
    "            if table.shape[0] == 1:\n",
    "                print(table_path)\n",
    "                continue\n",
    "            dd = {\n",
    "                \"table_name\": table_path.stem,\n",
    "                \"num_rows\": table.shape[0],\n",
    "                \"num_cols\": table.shape[1],\n",
    "                \"file_size\": file_size,\n",
    "                \"subj_avg\": subj_avg,\n",
    "                \"subj_median\": subj_median,\n",
    "            }\n",
    "            list_dicts.append(dd)\n",
    "\n",
    "    df_stat = pl.from_dicts(list_dicts)\n",
    "    avg_stats = df_stat.select(\n",
    "        pl.lit(variant).alias(\"Variant\"),\n",
    "        pl.col(\"num_rows\").mean().alias(\"avg_num_rows\"),\n",
    "        pl.col(\"num_rows\").max().alias(\"max_num_rows\"),\n",
    "        pl.col(\"num_rows\").min().alias(\"min_num_rows\"),\n",
    "        pl.col(\"num_cols\").max().alias(\"max_num_cols\"), \n",
    "        pl.col(\"num_cols\").min().alias(\"min_num_cols\"), \n",
    "        pl.col(\"file_size\").mean().alias(\"avg_file_size\")/1e6,\n",
    "        pl.col(\"table_name\").count().alias(\"num_tables\"),\n",
    "        pl.lit(total_size).alias(\"total_size\")/1e6,\n",
    "        pl.col(\"subj_avg\").mean(),\n",
    "        pl.col(\"subj_median\").mean(),\n",
    "    )   \n",
    "    avg_df.append(avg_stats)\n",
    "     "
   ]
  },
  {
   "cell_type": "code",
   "execution_count": 6,
   "metadata": {},
   "outputs": [],
   "source": [
    "stat_variants = pl.concat(avg_df)"
   ]
  },
  {
   "cell_type": "code",
   "execution_count": 7,
   "metadata": {},
   "outputs": [
    {
     "data": {
      "text/html": [
       "<div><style>\n",
       ".dataframe > thead > tr > th,\n",
       ".dataframe > tbody > tr > td {\n",
       "  text-align: right;\n",
       "}\n",
       "</style>\n",
       "<small>shape: (3, 11)</small><table border=\"1\" class=\"dataframe\"><thead><tr><th>Variant</th><th>avg_num_rows</th><th>max_num_rows</th><th>min_num_rows</th><th>max_num_cols</th><th>min_num_cols</th><th>avg_file_size</th><th>num_tables</th><th>total_size</th><th>subj_avg</th><th>subj_median</th></tr><tr><td>str</td><td>f64</td><td>i64</td><td>i64</td><td>i64</td><td>i64</td><td>f64</td><td>u32</td><td>f64</td><td>f64</td><td>f64</td></tr></thead><tbody><tr><td>&quot;binary&quot;</td><td>322672.030769</td><td>2776052</td><td>5</td><td>2</td><td>2</td><td>4.520355</td><td>65</td><td>293.824463</td><td>2.614726</td><td>1.661538</td></tr><tr><td>&quot;wordnet&quot;</td><td>31838.266145</td><td>4254254</td><td>3</td><td>15</td><td>4</td><td>0.296781</td><td>511</td><td>151.657423</td><td>7.960086</td><td>3.210372</td></tr><tr><td>&quot;full&quot;</td><td>64658.048611</td><td>4254254</td><td>3</td><td>15</td><td>2</td><td>0.7734</td><td>576</td><td>445.481886</td><td>7.356877</td><td>3.03559</td></tr></tbody></table></div>"
      ],
      "text/plain": [
       "shape: (3, 11)\n",
       "┌─────────┬────────────┬────────────┬────────────┬───┬──────────┬──────────┬──────────┬───────────┐\n",
       "│ Variant ┆ avg_num_ro ┆ max_num_ro ┆ min_num_ro ┆ … ┆ num_tabl ┆ total_si ┆ subj_avg ┆ subj_medi │\n",
       "│ ---     ┆ ws         ┆ ws         ┆ ws         ┆   ┆ es       ┆ ze       ┆ ---      ┆ an        │\n",
       "│ str     ┆ ---        ┆ ---        ┆ ---        ┆   ┆ ---      ┆ ---      ┆ f64      ┆ ---       │\n",
       "│         ┆ f64        ┆ i64        ┆ i64        ┆   ┆ u32      ┆ f64      ┆          ┆ f64       │\n",
       "╞═════════╪════════════╪════════════╪════════════╪═══╪══════════╪══════════╪══════════╪═══════════╡\n",
       "│ binary  ┆ 322672.030 ┆ 2776052    ┆ 5          ┆ … ┆ 65       ┆ 293.8244 ┆ 2.614726 ┆ 1.661538  │\n",
       "│         ┆ 769        ┆            ┆            ┆   ┆          ┆ 63       ┆          ┆           │\n",
       "│ wordnet ┆ 31838.2661 ┆ 4254254    ┆ 3          ┆ … ┆ 511      ┆ 151.6574 ┆ 7.960086 ┆ 3.210372  │\n",
       "│         ┆ 45         ┆            ┆            ┆   ┆          ┆ 23       ┆          ┆           │\n",
       "│ full    ┆ 64658.0486 ┆ 4254254    ┆ 3          ┆ … ┆ 576      ┆ 445.4818 ┆ 7.356877 ┆ 3.03559   │\n",
       "│         ┆ 11         ┆            ┆            ┆   ┆          ┆ 86       ┆          ┆           │\n",
       "└─────────┴────────────┴────────────┴────────────┴───┴──────────┴──────────┴──────────┴───────────┘"
      ]
     },
     "execution_count": 7,
     "metadata": {},
     "output_type": "execute_result"
    }
   ],
   "source": [
    "stat_variants"
   ]
  },
  {
   "cell_type": "code",
   "execution_count": null,
   "metadata": {},
   "outputs": [
    {
     "data": {
      "text/html": [
       "<div><style>\n",
       ".dataframe > thead > tr > th,\n",
       ".dataframe > tbody > tr > td {\n",
       "  text-align: right;\n",
       "}\n",
       "</style>\n",
       "<small>shape: (3, 10)</small><table border=\"1\" class=\"dataframe\"><thead><tr><th>Variant</th><th>Avg. # rows</th><th>Avg. file size (MB)</th><th>Number of tables</th><th>Total size</th><th>Max. # rows</th><th>Max. # columns</th><th>subj_avg</th><th>subj_median</th><th>Total size (MB)</th></tr><tr><td>str</td><td>f64</td><td>f64</td><td>u32</td><td>i32</td><td>i64</td><td>i64</td><td>f64</td><td>f64</td><td>f64</td></tr></thead><tbody><tr><td>&quot;binary&quot;</td><td>313040.059701</td><td>4.38544</td><td>67</td><td>293824463</td><td>2776052</td><td>2</td><td>2.566525</td><td>1.641791</td><td>293.824463</td></tr><tr><td>&quot;wordnet&quot;</td><td>31714.14425</td><td>0.295629</td><td>513</td><td>151657423</td><td>4254254</td><td>15</td><td>7.932951</td><td>3.201754</td><td>151.657423</td></tr><tr><td>&quot;full&quot;</td><td>64212.137931</td><td>0.768072</td><td>580</td><td>445481886</td><td>4254254</td><td>15</td><td>7.313036</td><td>3.021552</td><td>445.481886</td></tr></tbody></table></div>"
      ],
      "text/plain": [
       "shape: (3, 10)\n",
       "┌─────────┬───────────┬────────────┬────────────┬───┬────────────┬──────────┬───────────┬────────────┐\n",
       "│ Variant ┆ Avg. #    ┆ Avg. file  ┆ Number of  ┆ … ┆ Max. #     ┆ subj_avg ┆ subj_medi ┆ Total size │\n",
       "│ ---     ┆ rows      ┆ size (MB)  ┆ tables     ┆   ┆ columns    ┆ ---      ┆ an        ┆ (MB)       │\n",
       "│ str     ┆ ---       ┆ ---        ┆ ---        ┆   ┆ ---        ┆ f64      ┆ ---       ┆ ---        │\n",
       "│         ┆ f64       ┆ f64        ┆ u32        ┆   ┆ i64        ┆          ┆ f64       ┆ f64        │\n",
       "╞═════════╪═══════════╪════════════╪════════════╪═══╪════════════╪══════════╪═══════════╪════════════╡\n",
       "│ binary  ┆ 313040.05 ┆ 4.38544    ┆ 67         ┆ … ┆ 2          ┆ 2.566525 ┆ 1.641791  ┆ 293.824463 │\n",
       "│         ┆ 9701      ┆            ┆            ┆   ┆            ┆          ┆           ┆            │\n",
       "│ wordnet ┆ 31714.144 ┆ 0.295629   ┆ 513        ┆ … ┆ 15         ┆ 7.932951 ┆ 3.201754  ┆ 151.657423 │\n",
       "│         ┆ 25        ┆            ┆            ┆   ┆            ┆          ┆           ┆            │\n",
       "│ full    ┆ 64212.137 ┆ 0.768072   ┆ 580        ┆ … ┆ 15         ┆ 7.313036 ┆ 3.021552  ┆ 445.481886 │\n",
       "│         ┆ 931       ┆            ┆            ┆   ┆            ┆          ┆           ┆            │\n",
       "└─────────┴───────────┴────────────┴────────────┴───┴────────────┴──────────┴───────────┴────────────┘"
      ]
     },
     "execution_count": 25,
     "metadata": {},
     "output_type": "execute_result"
    }
   ],
   "source": [
    "stat_variants"
   ]
  },
  {
   "cell_type": "code",
   "execution_count": null,
   "metadata": {},
   "outputs": [],
   "source": [
    "spd = stat_variants.drop([\"Total size\", \"Max. # rows\", \t\"Max. # columns\"]).to_pandas()"
   ]
  },
  {
   "cell_type": "code",
   "execution_count": null,
   "metadata": {},
   "outputs": [],
   "source": [
    "spd.style.format(precision=2, subset=[\"Avg. file size (MB)\", \"Total size (MB)\"]).format(subset=[\"Avg. # rows\"], precision=0).to_latex(\"tab.tex\", hrules=True)"
   ]
  },
  {
   "cell_type": "code",
   "execution_count": 54,
   "metadata": {},
   "outputs": [],
   "source": [
    "spd.style.to_latex(\"tab.tex\", hrules=True)"
   ]
  },
  {
   "attachments": {},
   "cell_type": "markdown",
   "metadata": {},
   "source": [
    "# Base table stats"
   ]
  },
  {
   "cell_type": "code",
   "execution_count": 10,
   "metadata": {},
   "outputs": [],
   "source": [
    "data_dir = Path(\"data/metadata/queries\")\n",
    "tabs_mdata_paths = list(data_dir.glob(\"*.json\"))"
   ]
  },
  {
   "cell_type": "code",
   "execution_count": 27,
   "metadata": {},
   "outputs": [],
   "source": [
    "stats_list = []\n",
    "for tab_mdata_pth in tabs_mdata_paths:\n",
    "    with open(tab_mdata_pth, \"r\") as fp:\n",
    "        tab_mdata = json.load(fp)\n",
    "        tab_path = tab_mdata[\"full_path\"]\n",
    "        tab = pl.read_parquet(tab_path)    \n",
    "        cat_feat = 0\n",
    "        num_feat = 0\n",
    "        for col, typ in tab.schema.items():\n",
    "            if typ == pl.Utf8:\n",
    "                cat_feat += 1\n",
    "            else:\n",
    "                num_feat += 1\n",
    "        stats = {\n",
    "            \"tab_name\": tab_mdata[\"df_name\"],\n",
    "            \"tab_source\": \"add\",\n",
    "            \"num_rows\": tab.shape[0],\n",
    "            \"num_cols\": tab.shape[1],\n",
    "            \"cat_feat\": cat_feat,\n",
    "            \"num_feat\": num_feat,\n",
    "            \"target\": \"add\"\n",
    "        }\n",
    "        stats_list.append(stats)"
   ]
  },
  {
   "cell_type": "code",
   "execution_count": 28,
   "metadata": {},
   "outputs": [],
   "source": [
    "base_table_stats = pl.from_dicts(stats_list)"
   ]
  },
  {
   "cell_type": "code",
   "execution_count": 30,
   "metadata": {},
   "outputs": [],
   "source": [
    "base_table_stats.to_pandas().style.to_latex(\"base_tables.tex\", hrules=True)"
   ]
  },
  {
   "cell_type": "code",
   "execution_count": null,
   "metadata": {},
   "outputs": [],
   "source": []
  }
 ],
 "metadata": {
  "kernelspec": {
   "display_name": "bench",
   "language": "python",
   "name": "python3"
  },
  "language_info": {
   "codemirror_mode": {
    "name": "ipython",
    "version": 3
   },
   "file_extension": ".py",
   "mimetype": "text/x-python",
   "name": "python",
   "nbconvert_exporter": "python",
   "pygments_lexer": "ipython3",
   "version": "3.10.10"
  },
  "orig_nbformat": 4
 },
 "nbformat": 4,
 "nbformat_minor": 2
}
