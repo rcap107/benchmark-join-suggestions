{
 "cells": [
  {
   "cell_type": "code",
   "execution_count": 1,
   "metadata": {},
   "outputs": [
    {
     "name": "stdout",
     "output_type": "stream",
     "text": [
      "/home/soda/rcappuzz/work/benchmark-join-suggestions\n"
     ]
    }
   ],
   "source": [
    "%cd ~/bench"
   ]
  },
  {
   "cell_type": "code",
   "execution_count": 2,
   "metadata": {},
   "outputs": [
    {
     "data": {
      "text/plain": [
       "polars.config.Config"
      ]
     },
     "execution_count": 2,
     "metadata": {},
     "output_type": "execute_result"
    }
   ],
   "source": [
    "%load_ext autoreload\n",
    "%autoreload 2\n",
    "import polars as pl\n",
    "import seaborn as sns\n",
    "import matplotlib.pyplot as plt\n",
    "from pathlib import Path\n",
    "import numpy as np\n",
    "import matplotlib.colors as mcolors\n",
    "import src.utils.plotting as plotting\n",
    "from src.utils.logging import read_logs\n",
    "from matplotlib.gridspec import GridSpec\n",
    "import polars.selectors as cs\n",
    "\n",
    "import tarfile\n",
    "import json\n",
    "import pandas as pd \n",
    "cfg = pl.Config()\n",
    "cfg.set_fmt_str_lengths(150)"
   ]
  },
  {
   "cell_type": "code",
   "execution_count": 3,
   "metadata": {},
   "outputs": [],
   "source": [
    "exp_name = (\n",
    "    \"0332-92xkckqk\"\n",
    ")\n",
    "df_raw = read_logs(exp_name=exp_name, exp_path=None)"
   ]
  },
  {
   "cell_type": "code",
   "execution_count": 4,
   "metadata": {},
   "outputs": [],
   "source": [
    "df_raw=df_raw.with_columns(\n",
    "    cs.contains(\"time_join\").fill_null(0)\n",
    ")"
   ]
  },
  {
   "cell_type": "code",
   "execution_count": 5,
   "metadata": {},
   "outputs": [
    {
     "data": {
      "text/plain": [
       "['scenario_id',\n",
       " 'status',\n",
       " 'target_dl',\n",
       " 'jd_method',\n",
       " 'base_table',\n",
       " 'query_column',\n",
       " 'estimator',\n",
       " 'aggregation',\n",
       " 'chosen_model',\n",
       " 'fold_id',\n",
       " 'time_fit',\n",
       " 'time_predict',\n",
       " 'time_run',\n",
       " 'time_prepare',\n",
       " 'time_model_train',\n",
       " 'time_join_train',\n",
       " 'time_model_predict',\n",
       " 'time_join_predict',\n",
       " 'peak_fit',\n",
       " 'peak_predict',\n",
       " 'peak_test',\n",
       " 'r2score',\n",
       " 'rmse',\n",
       " 'f1score',\n",
       " 'auc',\n",
       " 'n_cols',\n",
       " 'budget_type',\n",
       " 'budget_amount',\n",
       " 'epsilon']"
      ]
     },
     "execution_count": 5,
     "metadata": {},
     "output_type": "execute_result"
    }
   ],
   "source": [
    "df_raw.columns"
   ]
  },
  {
   "cell_type": "code",
   "execution_count": 6,
   "metadata": {},
   "outputs": [],
   "source": [
    "results = df_raw.filter(pl.col(\"chosen_model\") == \"catboost\").group_by(\"estimator\").agg(\n",
    "    # pl.col(\"time_fit\").mean(),\n",
    "    # pl.col(\"time_predict\").mean(),\n",
    "    # pl.col(\"time_run\").mean(),\n",
    "    pl.col(\"time_prepare\").mean(),\n",
    "    pl.col(\"time_model_train\").mean(),\n",
    "    pl.col(\"time_join_train\").mean(),\n",
    "    pl.col(\"time_model_predict\").mean(),\n",
    "    pl.col(\"time_join_predict\").mean(),\n",
    ").melt(id_vars=\"estimator\")"
   ]
  },
  {
   "cell_type": "code",
   "execution_count": 7,
   "metadata": {},
   "outputs": [
    {
     "data": {
      "text/html": [
       "<div><style>\n",
       ".dataframe > thead > tr > th,\n",
       ".dataframe > tbody > tr > td {\n",
       "  text-align: right;\n",
       "  white-space: pre-wrap;\n",
       "}\n",
       "</style>\n",
       "<small>shape: (25, 3)</small><table border=\"1\" class=\"dataframe\"><thead><tr><th>estimator</th><th>variable</th><th>value</th></tr><tr><td>str</td><td>str</td><td>f64</td></tr></thead><tbody><tr><td>&quot;best_single_join&quot;</td><td>&quot;time_prepare&quot;</td><td>0.045794</td></tr><tr><td>&quot;full_join&quot;</td><td>&quot;time_prepare&quot;</td><td>0.063064</td></tr><tr><td>&quot;highest_containment&quot;</td><td>&quot;time_prepare&quot;</td><td>13.699701</td></tr><tr><td>&quot;stepwise_greedy_join&quot;</td><td>&quot;time_prepare&quot;</td><td>19.562097</td></tr><tr><td>&quot;nojoin&quot;</td><td>&quot;time_prepare&quot;</td><td>0.065456</td></tr><tr><td>&quot;best_single_join&quot;</td><td>&quot;time_model_train&quot;</td><td>83.295438</td></tr><tr><td>&quot;full_join&quot;</td><td>&quot;time_model_train&quot;</td><td>23.084148</td></tr><tr><td>&quot;highest_containment&quot;</td><td>&quot;time_model_train&quot;</td><td>7.189362</td></tr><tr><td>&quot;stepwise_greedy_join&quot;</td><td>&quot;time_model_train&quot;</td><td>540.671946</td></tr><tr><td>&quot;nojoin&quot;</td><td>&quot;time_model_train&quot;</td><td>1.42061</td></tr><tr><td>&quot;best_single_join&quot;</td><td>&quot;time_join_train&quot;</td><td>722.143547</td></tr><tr><td>&quot;full_join&quot;</td><td>&quot;time_join_train&quot;</td><td>623.675295</td></tr><tr><td>&quot;highest_containment&quot;</td><td>&quot;time_join_train&quot;</td><td>82.187978</td></tr><tr><td>&quot;stepwise_greedy_join&quot;</td><td>&quot;time_join_train&quot;</td><td>288.094738</td></tr><tr><td>&quot;nojoin&quot;</td><td>&quot;time_join_train&quot;</td><td>0.0</td></tr><tr><td>&quot;best_single_join&quot;</td><td>&quot;time_model_predict&quot;</td><td>0.139617</td></tr><tr><td>&quot;full_join&quot;</td><td>&quot;time_model_predict&quot;</td><td>0.405041</td></tr><tr><td>&quot;highest_containment&quot;</td><td>&quot;time_model_predict&quot;</td><td>0.134817</td></tr><tr><td>&quot;stepwise_greedy_join&quot;</td><td>&quot;time_model_predict&quot;</td><td>0.0624</td></tr><tr><td>&quot;nojoin&quot;</td><td>&quot;time_model_predict&quot;</td><td>0.112269</td></tr><tr><td>&quot;best_single_join&quot;</td><td>&quot;time_join_predict&quot;</td><td>50.314468</td></tr><tr><td>&quot;full_join&quot;</td><td>&quot;time_join_predict&quot;</td><td>311.654686</td></tr><tr><td>&quot;highest_containment&quot;</td><td>&quot;time_join_predict&quot;</td><td>41.418881</td></tr><tr><td>&quot;stepwise_greedy_join&quot;</td><td>&quot;time_join_predict&quot;</td><td>44.887169</td></tr><tr><td>&quot;nojoin&quot;</td><td>&quot;time_join_predict&quot;</td><td>0.0</td></tr></tbody></table></div>"
      ],
      "text/plain": [
       "shape: (25, 3)\n",
       "┌──────────────────────┬───────────────────┬────────────┐\n",
       "│ estimator            ┆ variable          ┆ value      │\n",
       "│ ---                  ┆ ---               ┆ ---        │\n",
       "│ str                  ┆ str               ┆ f64        │\n",
       "╞══════════════════════╪═══════════════════╪════════════╡\n",
       "│ best_single_join     ┆ time_prepare      ┆ 0.045794   │\n",
       "│ full_join            ┆ time_prepare      ┆ 0.063064   │\n",
       "│ highest_containment  ┆ time_prepare      ┆ 13.699701  │\n",
       "│ stepwise_greedy_join ┆ time_prepare      ┆ 19.562097  │\n",
       "│ …                    ┆ …                 ┆ …          │\n",
       "│ full_join            ┆ time_join_predict ┆ 311.654686 │\n",
       "│ highest_containment  ┆ time_join_predict ┆ 41.418881  │\n",
       "│ stepwise_greedy_join ┆ time_join_predict ┆ 44.887169  │\n",
       "│ nojoin               ┆ time_join_predict ┆ 0.0        │\n",
       "└──────────────────────┴───────────────────┴────────────┘"
      ]
     },
     "execution_count": 7,
     "metadata": {},
     "output_type": "execute_result"
    }
   ],
   "source": [
    "results"
   ]
  },
  {
   "cell_type": "code",
   "execution_count": 8,
   "metadata": {},
   "outputs": [],
   "source": [
    "dicts = results.group_by(\n",
    "    \"estimator\"\n",
    ").agg(pl.all()).to_dicts()"
   ]
  },
  {
   "cell_type": "code",
   "execution_count": 9,
   "metadata": {},
   "outputs": [],
   "source": [
    "d = dicts[0]"
   ]
  },
  {
   "cell_type": "code",
   "execution_count": 10,
   "metadata": {},
   "outputs": [],
   "source": [
    "to_concat = []\n",
    "for _, gr in results.group_by(\n",
    "    \"estimator\"\n",
    "):\n",
    "    new_g = gr.sort(\"variable\").with_columns(\n",
    "        pl.col(\"value\").cumsum().alias(\"csum\")\n",
    "    ).with_columns(\n",
    "        pl.col(\"csum\").alias(\"bottom\").shift(1).fill_null(0),\n",
    "    )\n",
    "    to_concat.append(new_g)\n",
    "df_c = pl.concat(to_concat)"
   ]
  },
  {
   "cell_type": "code",
   "execution_count": 11,
   "metadata": {},
   "outputs": [
    {
     "data": {
      "text/html": [
       "<div><style>\n",
       ".dataframe > thead > tr > th,\n",
       ".dataframe > tbody > tr > td {\n",
       "  text-align: right;\n",
       "  white-space: pre-wrap;\n",
       "}\n",
       "</style>\n",
       "<small>shape: (5, 5)</small><table border=\"1\" class=\"dataframe\"><thead><tr><th>estimator</th><th>variable</th><th>value</th><th>csum</th><th>bottom</th></tr><tr><td>str</td><td>str</td><td>f64</td><td>f64</td><td>f64</td></tr></thead><tbody><tr><td>&quot;nojoin&quot;</td><td>&quot;time_join_predict&quot;</td><td>0.0</td><td>0.0</td><td>0.0</td></tr><tr><td>&quot;nojoin&quot;</td><td>&quot;time_join_train&quot;</td><td>0.0</td><td>0.0</td><td>0.0</td></tr><tr><td>&quot;nojoin&quot;</td><td>&quot;time_model_predict&quot;</td><td>0.112269</td><td>0.112269</td><td>0.0</td></tr><tr><td>&quot;nojoin&quot;</td><td>&quot;time_model_train&quot;</td><td>1.42061</td><td>1.532879</td><td>0.112269</td></tr><tr><td>&quot;nojoin&quot;</td><td>&quot;time_prepare&quot;</td><td>0.065456</td><td>1.598335</td><td>1.532879</td></tr></tbody></table></div>"
      ],
      "text/plain": [
       "shape: (5, 5)\n",
       "┌───────────┬────────────────────┬──────────┬──────────┬──────────┐\n",
       "│ estimator ┆ variable           ┆ value    ┆ csum     ┆ bottom   │\n",
       "│ ---       ┆ ---                ┆ ---      ┆ ---      ┆ ---      │\n",
       "│ str       ┆ str                ┆ f64      ┆ f64      ┆ f64      │\n",
       "╞═══════════╪════════════════════╪══════════╪══════════╪══════════╡\n",
       "│ nojoin    ┆ time_join_predict  ┆ 0.0      ┆ 0.0      ┆ 0.0      │\n",
       "│ nojoin    ┆ time_join_train    ┆ 0.0      ┆ 0.0      ┆ 0.0      │\n",
       "│ nojoin    ┆ time_model_predict ┆ 0.112269 ┆ 0.112269 ┆ 0.0      │\n",
       "│ nojoin    ┆ time_model_train   ┆ 1.42061  ┆ 1.532879 ┆ 0.112269 │\n",
       "│ nojoin    ┆ time_prepare       ┆ 0.065456 ┆ 1.598335 ┆ 1.532879 │\n",
       "└───────────┴────────────────────┴──────────┴──────────┴──────────┘"
      ]
     },
     "execution_count": 11,
     "metadata": {},
     "output_type": "execute_result"
    }
   ],
   "source": [
    "new_g"
   ]
  },
  {
   "cell_type": "code",
   "execution_count": 12,
   "metadata": {},
   "outputs": [],
   "source": [
    "dicts = df_c.group_by(\"variable\").agg(pl.all()).sort(\"variable\").to_dicts()"
   ]
  },
  {
   "cell_type": "code",
   "execution_count": 13,
   "metadata": {},
   "outputs": [
    {
     "data": {
      "text/html": [
       "<div><style>\n",
       ".dataframe > thead > tr > th,\n",
       ".dataframe > tbody > tr > td {\n",
       "  text-align: right;\n",
       "  white-space: pre-wrap;\n",
       "}\n",
       "</style>\n",
       "<small>shape: (5, 5)</small><table border=\"1\" class=\"dataframe\"><thead><tr><th>variable</th><th>estimator</th><th>value</th><th>csum</th><th>bottom</th></tr><tr><td>str</td><td>list[str]</td><td>list[f64]</td><td>list[f64]</td><td>list[f64]</td></tr></thead><tbody><tr><td>&quot;time_join_predict&quot;</td><td>[&quot;best_single_join&quot;, &quot;stepwise_greedy_join&quot;, … &quot;nojoin&quot;]</td><td>[50.314468, 44.887169, … 0.0]</td><td>[50.314468, 44.887169, … 0.0]</td><td>[0.0, 0.0, … 0.0]</td></tr><tr><td>&quot;time_join_train&quot;</td><td>[&quot;best_single_join&quot;, &quot;stepwise_greedy_join&quot;, … &quot;nojoin&quot;]</td><td>[722.143547, 288.094738, … 0.0]</td><td>[772.458015, 332.981907, … 0.0]</td><td>[50.314468, 44.887169, … 0.0]</td></tr><tr><td>&quot;time_model_predict&quot;</td><td>[&quot;best_single_join&quot;, &quot;stepwise_greedy_join&quot;, … &quot;nojoin&quot;]</td><td>[0.139617, 0.0624, … 0.112269]</td><td>[772.597633, 333.044307, … 0.112269]</td><td>[772.458015, 332.981907, … 0.0]</td></tr><tr><td>&quot;time_model_train&quot;</td><td>[&quot;best_single_join&quot;, &quot;stepwise_greedy_join&quot;, … &quot;nojoin&quot;]</td><td>[83.295438, 540.671946, … 1.42061]</td><td>[855.893071, 873.716253, … 1.532879]</td><td>[772.597633, 333.044307, … 0.112269]</td></tr><tr><td>&quot;time_prepare&quot;</td><td>[&quot;best_single_join&quot;, &quot;stepwise_greedy_join&quot;, … &quot;nojoin&quot;]</td><td>[0.045794, 19.562097, … 0.065456]</td><td>[855.938864, 893.278349, … 1.598335]</td><td>[855.893071, 873.716253, … 1.532879]</td></tr></tbody></table></div>"
      ],
      "text/plain": [
       "shape: (5, 5)\n",
       "┌────────────────────┬────────────────────┬───────────────┬────────────────────┬───────────────────┐\n",
       "│ variable           ┆ estimator          ┆ value         ┆ csum               ┆ bottom            │\n",
       "│ ---                ┆ ---                ┆ ---           ┆ ---                ┆ ---               │\n",
       "│ str                ┆ list[str]          ┆ list[f64]     ┆ list[f64]          ┆ list[f64]         │\n",
       "╞════════════════════╪════════════════════╪═══════════════╪════════════════════╪═══════════════════╡\n",
       "│ time_join_predict  ┆ [\"best_single_join ┆ [50.314468,   ┆ [50.314468,        ┆ [0.0, 0.0, … 0.0] │\n",
       "│                    ┆ \", \"stepwise_greed ┆ 44.887169, …  ┆ 44.887169, … 0.0]  ┆                   │\n",
       "│                    ┆ y_join\", …         ┆ 0.0]          ┆                    ┆                   │\n",
       "│                    ┆ \"nojoin\"]          ┆               ┆                    ┆                   │\n",
       "│ time_join_train    ┆ [\"best_single_join ┆ [722.143547,  ┆ [772.458015,       ┆ [50.314468,       │\n",
       "│                    ┆ \", \"stepwise_greed ┆ 288.094738, … ┆ 332.981907, … 0.0] ┆ 44.887169, … 0.0] │\n",
       "│                    ┆ y_join\", …         ┆ 0.0]          ┆                    ┆                   │\n",
       "│                    ┆ \"nojoin\"]          ┆               ┆                    ┆                   │\n",
       "│ time_model_predict ┆ [\"best_single_join ┆ [0.139617,    ┆ [772.597633,       ┆ [772.458015,      │\n",
       "│                    ┆ \", \"stepwise_greed ┆ 0.0624, …     ┆ 333.044307, …      ┆ 332.981907, …     │\n",
       "│                    ┆ y_join\", …         ┆ 0.112269]     ┆ 0.112269]          ┆ 0.0]              │\n",
       "│                    ┆ \"nojoin\"]          ┆               ┆                    ┆                   │\n",
       "│ time_model_train   ┆ [\"best_single_join ┆ [83.295438,   ┆ [855.893071,       ┆ [772.597633,      │\n",
       "│                    ┆ \", \"stepwise_greed ┆ 540.671946, … ┆ 873.716253, …      ┆ 333.044307, …     │\n",
       "│                    ┆ y_join\", …         ┆ 1.42061]      ┆ 1.532879]          ┆ 0.112269]         │\n",
       "│                    ┆ \"nojoin\"]          ┆               ┆                    ┆                   │\n",
       "│ time_prepare       ┆ [\"best_single_join ┆ [0.045794,    ┆ [855.938864,       ┆ [855.893071,      │\n",
       "│                    ┆ \", \"stepwise_greed ┆ 19.562097, …  ┆ 893.278349, …      ┆ 873.716253, …     │\n",
       "│                    ┆ y_join\", …         ┆ 0.065456]     ┆ 1.598335]          ┆ 1.532879]         │\n",
       "│                    ┆ \"nojoin\"]          ┆               ┆                    ┆                   │\n",
       "└────────────────────┴────────────────────┴───────────────┴────────────────────┴───────────────────┘"
      ]
     },
     "execution_count": 13,
     "metadata": {},
     "output_type": "execute_result"
    }
   ],
   "source": [
    "df_c.group_by(\"variable\").agg(pl.all()).sort(\"variable\")"
   ]
  },
  {
   "cell_type": "code",
   "execution_count": 20,
   "metadata": {},
   "outputs": [
    {
     "name": "stdout",
     "output_type": "stream",
     "text": [
      "time_join_predict\n",
      "[50.31446783809524, 44.88716895238095, 311.6546859333334, 41.41888125714286, 0.0]\n",
      "time_join_train\n",
      "[772.4580151428573, 332.98190692857133, 935.3299812857144, 123.60685917619047, 0.0]\n",
      "time_model_predict\n",
      "[772.5976325952383, 333.0443069238094, 935.7350218142859, 123.74167575714284, 0.11226911904761905]\n",
      "time_model_train\n",
      "[855.8930706047621, 873.7162525952381, 958.8191699142859, 130.93103729047618, 1.532879238095238]\n",
      "time_prepare\n",
      "[855.9388643142859, 893.2783493523809, 958.8822342238097, 144.63073804761905, 1.5983351714285714]\n"
     ]
    },
    {
     "data": {
      "text/plain": [
       "<matplotlib.legend.Legend at 0x7f210d7737c0>"
      ]
     },
     "execution_count": 20,
     "metadata": {},
     "output_type": "execute_result"
    },
    {
     "data": {
      "image/png": "[encoded data removed]",
      "text/plain": [
       "<Figure size 1040x715 with 1 Axes>"
      ]
     },
     "metadata": {},
     "output_type": "display_data"
    }
   ],
   "source": [
    "axs = plt.subplot(111)\n",
    "for idx, d in enumerate(dicts):\n",
    "    print(d[\"variable\"])\n",
    "    print(d[\"csum\"])\n",
    "    p = axs.barh(y=d[\"estimator\"], width = d[\"value\"], left=d[\"bottom\"], label=d[\"variable\"])\n",
    "    # axs.bar_label(p,)\n",
    "axs.legend()"
   ]
  },
  {
   "cell_type": "code",
   "execution_count": null,
   "metadata": {},
   "outputs": [],
   "source": []
  },
  {
   "cell_type": "code",
   "execution_count": null,
   "metadata": {},
   "outputs": [],
   "source": []
  }
 ],
 "metadata": {
  "kernelspec": {
   "display_name": "bench-repro",
   "language": "python",
   "name": "python3"
  },
  "language_info": {
   "codemirror_mode": {
    "name": "ipython",
    "version": 3
   },
   "file_extension": ".py",
   "mimetype": "text/x-python",
   "name": "python",
   "nbconvert_exporter": "python",
   "pygments_lexer": "ipython3",
   "version": "3.10.0"
  }
 },
 "nbformat": 4,
 "nbformat_minor": 2
}
