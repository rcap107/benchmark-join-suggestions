{
 "cells": [
  {
   "cell_type": "code",
   "execution_count": 1,
   "metadata": {},
   "outputs": [
    {
     "name": "stdout",
     "output_type": "stream",
     "text": [
      "/home/soda/rcappuzz/work/benchmark-join-suggestions\n"
     ]
    }
   ],
   "source": [
    "cd ~/work/benchmark-join-suggestions/"
   ]
  },
  {
   "cell_type": "code",
   "execution_count": 4,
   "metadata": {},
   "outputs": [],
   "source": [
    "import datetime\n",
    "import json\n",
    "import logging\n",
    "import pickle\n",
    "from pathlib import Path\n",
    "\n",
    "import pandas as pd\n",
    "import polars as pl\n",
    "import seaborn as sns\n",
    "from sklearn.metrics import mean_squared_error\n",
    "\n",
    "import src.methods.join_profiling as jp\n",
    "from src.data_structures.indices import MinHashIndex\n",
    "from src.data_structures.metadata import MetadataIndex\n",
    "from src.data_structures.metadata import CandidateJoin, RawDataset\n",
    "from src.pipeline import generate_candidates"
   ]
  },
  {
   "cell_type": "code",
   "execution_count": 41,
   "metadata": {},
   "outputs": [],
   "source": [
    "df = pl.read_csv(\"timestamps_indices.txt\")"
   ]
  },
  {
   "cell_type": "code",
   "execution_count": 42,
   "metadata": {},
   "outputs": [],
   "source": [
    "df = df.with_columns(\n",
    "    pl.col(\"start\").str.to_datetime(),\n",
    "    pl.col(\"end\").str.to_datetime(),\n",
    ")"
   ]
  },
  {
   "cell_type": "code",
   "execution_count": 45,
   "metadata": {},
   "outputs": [
    {
     "name": "stderr",
     "output_type": "stream",
     "text": [
      "/storage/workspace/tmp/ipykernel_24978/178284656.py:6: FutureWarning: In future versions `DataFrame.to_latex` is expected to utilise the base implementation of `Styler.to_latex` for formatting and rendering. The arguments signature may therefore change. It is recommended instead to use `DataFrame.style.to_latex` which also contains additional functionality.\n",
      "  ).to_pandas().to_latex(\"index_times.tex\")\n"
     ]
    }
   ],
   "source": [
    "df.select(\n",
    "    pl.col(\"version\"),\n",
    "    (pl.col(\"end\") - pl.col(\"start\")).alias(\"duration\")\n",
    ").with_columns(\n",
    "    pl.col(\"duration\").dt.minutes()*60+pl.col(\"duration\").dt.seconds()+pl.col(\"duration\").dt.microseconds()/1e6\n",
    ").to_pandas().to_latex(\"index_times.tex\")"
   ]
  },
  {
   "attachments": {},
   "cell_type": "markdown",
   "metadata": {},
   "source": [
    "# Study minhash indexing"
   ]
  },
  {
   "cell_type": "code",
   "execution_count": 22,
   "metadata": {},
   "outputs": [
    {
     "name": "stdout",
     "output_type": "stream",
     "text": [
      "data/metadata/queries/afe785ccde50f3f1473fea96a39911c7.json\n",
      "data/metadata/queries/2e605a4620c401d2c856693654adbbc2.json\n",
      "data/metadata/queries/310b7e82655f2beaba69e8b482d43b65.json\n",
      "('/storage/store/work/rcappuzz/ken_datasets/presidential-results/presidential-results-prepared.parquet', 'minhash_binary_128_index')\n",
      "19.6250381652571\n",
      "('/storage/store/work/rcappuzz/ken_datasets/the-movies-dataset/movies-prepared.parquet', 'minhash_wordnet_128_index')\n",
      "17.769819090814515\n",
      "('/storage/store/work/rcappuzz/ken_datasets/company-employees/company-employees-prepared.parquet', 'minhash_wordnet_64_index')\n",
      "19.875307744913574\n",
      "('/storage/store/work/rcappuzz/ken_datasets/presidential-results/presidential-results-prepared.parquet', 'minhash_wordnet_128_index')\n",
      "17.801287704919183\n",
      "('/storage/store/work/rcappuzz/ken_datasets/the-movies-dataset/movies-prepared.parquet', 'minhash_binary_128_index')\n",
      "18.319085781374426\n",
      "('/storage/store/work/rcappuzz/ken_datasets/company-employees/company-employees-prepared.parquet', 'minhash_binary_256_index')\n",
      "17.698987237237258\n",
      "('/storage/store/work/rcappuzz/ken_datasets/company-employees/company-employees-prepared.parquet', 'minhash_binary_64_index')\n",
      "19.85659255787171\n",
      "('/storage/store/work/rcappuzz/ken_datasets/company-employees/company-employees-prepared.parquet', 'minhash_wordnet_256_index')\n",
      "19.89345344164535\n",
      "('/storage/store/work/rcappuzz/ken_datasets/the-movies-dataset/movies-prepared.parquet', 'minhash_binary_256_index')\n",
      "18.319085781374426\n",
      "('/storage/store/work/rcappuzz/ken_datasets/the-movies-dataset/movies-prepared.parquet', 'minhash_binary_64_index')\n",
      "18.319085781374426\n",
      "('/storage/store/work/rcappuzz/ken_datasets/the-movies-dataset/movies-prepared.parquet', 'minhash_wordnet_256_index')\n",
      "18.175780394824628\n",
      "('/storage/store/work/rcappuzz/ken_datasets/presidential-results/presidential-results-prepared.parquet', 'minhash_binary_64_index')\n",
      "19.6250381652571\n",
      "('/storage/store/work/rcappuzz/ken_datasets/presidential-results/presidential-results-prepared.parquet', 'minhash_wordnet_256_index')\n",
      "17.801287704919183\n",
      "('/storage/store/work/rcappuzz/ken_datasets/presidential-results/presidential-results-prepared.parquet', 'minhash_binary_256_index')\n",
      "19.6250381652571\n",
      "('/storage/store/work/rcappuzz/ken_datasets/company-employees/company-employees-prepared.parquet', 'minhash_binary_128_index')\n",
      "19.771124264539427\n",
      "('/storage/store/work/rcappuzz/ken_datasets/presidential-results/presidential-results-prepared.parquet', 'minhash_wordnet_64_index')\n",
      "17.5551455143033\n",
      "('/storage/store/work/rcappuzz/ken_datasets/company-employees/company-employees-prepared.parquet', 'minhash_wordnet_128_index')\n",
      "19.904578050962286\n",
      "('/storage/store/work/rcappuzz/ken_datasets/the-movies-dataset/movies-prepared.parquet', 'minhash_wordnet_64_index')\n",
      "19.831702115462168\n"
     ]
    }
   ],
   "source": [
    "#%%\n",
    "index_dir = Path(\"data/metadata/_indices/testing_minhash/permutations\")\n",
    "\n",
    "query_dir = Path(\"data/metadata/queries\")\n",
    "\n",
    "\n",
    "#%%\n",
    "index_dict = {}\n",
    "for pth in index_dir.glob(\"**/*.pickle\"):\n",
    "    index_name = pth.stem\n",
    "    index = MinHashIndex()\n",
    "    index.load_index(pth)\n",
    "    index_dict[index_name] = index\n",
    "\n",
    "\n",
    "#%%\n",
    "mdata_index = MetadataIndex(index_path=\"data/metadata/_mdi/md_index_full.pickle\")\n",
    "\n",
    "list_dict=[]\n",
    "#%%\n",
    "query_results = {}\n",
    "for tab_path in query_dir.glob(\"*.json\"):\n",
    "    print(tab_path)\n",
    "    mdata = json.load(open(tab_path))\n",
    "    df = pl.read_parquet(mdata[\"full_path\"])\n",
    "    query = df[\"col_to_embed\"].sample(int(3000)).drop_nulls()\n",
    "    query_metadata = RawDataset(\n",
    "        mdata[\"full_path\"], \"queries\", \"data/metadata/queries\"\n",
    "    )\n",
    "    for index_name, index in index_dict.items():\n",
    "        query_results[index_name] = index.query_index(query)\n",
    "    candidates_by_index = {}\n",
    "\n",
    "    for index, index_res in query_results.items():\n",
    "        candidates = generate_candidates(\n",
    "            index, index_res, mdata_index, query_metadata, \"col_to_embed\", 20\n",
    "        )\n",
    "        candidates_by_index[index] = candidates\n",
    "    for index_name, candidates in candidates_by_index.items():\n",
    "        for c, cand in candidates.items():\n",
    "            src_md = cand.source_metadata\n",
    "            cand_md = cand.candidate_metadata\n",
    "            left_on = cand.left_on\n",
    "            right_on = cand.right_on\n",
    "            source_table = pl.read_parquet(src_md[\"full_path\"])\n",
    "            candidate_table = pl.read_parquet(cand_md[\"full_path\"])\n",
    "            containment=jp.measure_containment(source_table, candidate_table, left_on, right_on)\n",
    "            c_dict = {\n",
    "                \"index_name\": index_name,\n",
    "                \"source_table\": src_md[\"full_path\"],\n",
    "                \"candidate_table\": cand_md[\"full_path\"],\n",
    "                \"similarity\": cand.similarity_score,\n",
    "                \"containment\": containment\n",
    "            }\n",
    "            list_dict.append(c_dict)\n",
    "\n",
    "\n",
    "# %%\n",
    "results = pl.from_dicts(list_dict)\n",
    "#%%\n",
    "for g, group in results.groupby([\"source_table\", \"index_name\"]):\n",
    "    print(g)\n",
    "    \n",
    "    print(mean_squared_error(group[\"containment\"], group[\"similarity\"], squared=False))\n"
   ]
  },
  {
   "cell_type": "code",
   "execution_count": 23,
   "metadata": {},
   "outputs": [
    {
     "data": {
      "text/plain": [
       "<Axes: xlabel='source_table', ylabel='difference'>"
      ]
     },
     "execution_count": 23,
     "metadata": {},
     "output_type": "execute_result"
    },
    {
     "data": {
      "image/png": "[encoded data removed]",
      "text/plain": [
       "<Figure size 640x480 with 1 Axes>"
      ]
     },
     "metadata": {},
     "output_type": "display_data"
    }
   ],
   "source": [
    "sub_results = results.with_columns(\n",
    "    pl.col(\"source_table\").apply(lambda x: Path(x).stem),\n",
    "    pl.col(\"index_name\").apply(lambda x: x.replace(\"minhash_\", \"\")),\n",
    "    pl.col(\"containment\")*100,\n",
    "    pl.col(\"similarity\"),\n",
    "    (pl.col(\"containment\")*100 - pl.col(\"similarity\")).alias(\"difference\")\n",
    ").sort(\n",
    "    by=[\n",
    "        \"source_table\", \"difference\"\n",
    "    ]\n",
    ").drop(\"candidate_table\")\n",
    "sns.boxplot(sub_results.to_pandas(), x=\"source_table\", y=\"difference\", hue=\"index_name\")\n"
   ]
  },
  {
   "cell_type": "code",
   "execution_count": 28,
   "metadata": {},
   "outputs": [],
   "source": [
    "sub_results = results.with_columns(\n",
    "    pl.col(\"source_table\"),\n",
    "    pl.col(\"candidate_table\"),\n",
    "    pl.col(\"containment\")*100,\n",
    "    pl.col(\"similarity\"),\n",
    "    (pl.col(\"containment\")*100 - pl.col(\"similarity\")).alias(\"difference\")\n",
    ").filter(pl.col(\"difference\") <-15)"
   ]
  },
  {
   "cell_type": "code",
   "execution_count": 38,
   "metadata": {},
   "outputs": [
    {
     "name": "stdout",
     "output_type": "stream",
     "text": [
      "/storage/store/work/rcappuzz/ken_datasets/presidential-results/presidential-results-prepared.parquet\n",
      "/storage/store/work/rcappuzz/yago3-dl/wordnet/subtabs/yago_wordnet_event/event_isLocatedIn_happenedOnDate.parquet\n"
     ]
    }
   ],
   "source": [
    "for v in sub_results.select(\n",
    "    pl.col(\"source_table\"),\n",
    "    pl.col(\"candidate_table\"),\n",
    "    \n",
    ")[0]:\n",
    "    print(v.item())"
   ]
  },
  {
   "cell_type": "code",
   "execution_count": 39,
   "metadata": {},
   "outputs": [
    {
     "data": {
      "text/html": [
       "<div><style>\n",
       ".dataframe > thead > tr > th,\n",
       ".dataframe > tbody > tr > td {\n",
       "  text-align: right;\n",
       "}\n",
       "</style>\n",
       "<small>shape: (24_838, 4)</small><table border=\"1\" class=\"dataframe\"><thead><tr><th>type</th><th>subject</th><th>isLocatedIn</th><th>happenedOnDate</th></tr><tr><td>str</td><td>str</td><td>str</td><td>str</td></tr></thead><tbody><tr><td>&quot;&lt;wordnet_event…</td><td>&quot;&lt;Athletics_at_…</td><td>&quot;&lt;Atlanta&gt;&quot;</td><td>&quot;1996-##-##^^xs…</td></tr><tr><td>&quot;&lt;wordnet_event…</td><td>&quot;&lt;2005_OFC_U-20…</td><td>&quot;&lt;Solomon_Islan…</td><td>&quot;2005-##-##^^xs…</td></tr><tr><td>&quot;&lt;wordnet_event…</td><td>&quot;&lt;2005_OFC_U-20…</td><td>&quot;&lt;Honiara&gt;&quot;</td><td>&quot;2005-##-##^^xs…</td></tr><tr><td>&quot;&lt;wordnet_event…</td><td>&quot;&lt;1971_ABC_Cham…</td><td>&quot;&lt;Japan&gt;&quot;</td><td>&quot;1971-##-##^^xs…</td></tr><tr><td>&quot;&lt;wordnet_event…</td><td>&quot;&lt;1971_ABC_Cham…</td><td>&quot;&lt;Tokyo&gt;&quot;</td><td>&quot;1971-##-##^^xs…</td></tr><tr><td>&quot;&lt;wordnet_event…</td><td>&quot;&lt;2017_UCI_Road…</td><td>&quot;&lt;Bergen&gt;&quot;</td><td>&quot;2017-09-24^^xs…</td></tr><tr><td>&quot;&lt;wordnet_event…</td><td>&quot;&lt;2008_Copa_do_…</td><td>&quot;&lt;Brazil&gt;&quot;</td><td>&quot;2008-##-##^^xs…</td></tr><tr><td>&quot;&lt;wordnet_event…</td><td>&quot;&lt;1968_Prize_of…</td><td>&quot;&lt;Moscow&gt;&quot;</td><td>&quot;1968-##-##^^xs…</td></tr><tr><td>&quot;&lt;wordnet_event…</td><td>&quot;&lt;1991_World_Ta…</td><td>&quot;&lt;Chiba_(city)&gt;…</td><td>&quot;1991-##-##^^xs…</td></tr><tr><td>&quot;&lt;wordnet_event…</td><td>&quot;&lt;Biathlon_at_t…</td><td>&quot;&lt;Squaw_Valley,…</td><td>&quot;1960-##-##^^xs…</td></tr><tr><td>&quot;&lt;wordnet_event…</td><td>&quot;&lt;Gymnastics_at…</td><td>&quot;&lt;Reus&gt;&quot;</td><td>&quot;2018-##-##^^xs…</td></tr><tr><td>&quot;&lt;wordnet_event…</td><td>&quot;&lt;Swiss_Open_(t…</td><td>&quot;&lt;Gstaad&gt;&quot;</td><td>&quot;2011-07-##^^xs…</td></tr><tr><td>&hellip;</td><td>&hellip;</td><td>&hellip;</td><td>&hellip;</td></tr><tr><td>&quot;&lt;wordnet_event…</td><td>&quot;&lt;2021_IIHF_Wor…</td><td>&quot;&lt;Mjölby_Munici…</td><td>&quot;2021-##-##^^xs…</td></tr><tr><td>&quot;&lt;wordnet_event…</td><td>&quot;&lt;2021_IIHF_Wor…</td><td>&quot;&lt;Linköping&gt;&quot;</td><td>&quot;2021-##-##^^xs…</td></tr><tr><td>&quot;&lt;wordnet_event…</td><td>&quot;&lt;Impact_One_Ni…</td><td>&quot;&lt;Belleville,_M…</td><td>&quot;2017-10-14^^xs…</td></tr><tr><td>&quot;&lt;wordnet_event…</td><td>&quot;&lt;Impact_One_Ni…</td><td>&quot;&lt;Mississauga&gt;&quot;</td><td>&quot;2017-10-14^^xs…</td></tr><tr><td>&quot;&lt;wordnet_event…</td><td>&quot;&lt;Impact_One_Ni…</td><td>&quot;&lt;Windsor,_Onta…</td><td>&quot;2017-10-14^^xs…</td></tr><tr><td>&quot;&lt;wordnet_event…</td><td>&quot;&lt;Impact_One_Ni…</td><td>&quot;&lt;Ottawa&gt;&quot;</td><td>&quot;2017-10-14^^xs…</td></tr><tr><td>&quot;&lt;wordnet_event…</td><td>&quot;&lt;Impact_One_Ni…</td><td>&quot;&lt;Binghamton,_N…</td><td>&quot;2017-10-14^^xs…</td></tr><tr><td>&quot;&lt;wordnet_event…</td><td>&quot;&lt;Impact_One_Ni…</td><td>&quot;&lt;Shawnee,_Okla…</td><td>&quot;2017-10-14^^xs…</td></tr><tr><td>&quot;&lt;wordnet_event…</td><td>&quot;&lt;Impact_One_Ni…</td><td>&quot;&lt;Salinas,_Cali…</td><td>&quot;2017-10-14^^xs…</td></tr><tr><td>&quot;&lt;wordnet_event…</td><td>&quot;&lt;1999_UCI_Moun…</td><td>&quot;&lt;Åre&gt;&quot;</td><td>&quot;1999-09-19^^xs…</td></tr><tr><td>&quot;&lt;wordnet_event…</td><td>&quot;&lt;2003_World_Ch…</td><td>&quot;&lt;Saint-Denis,_…</td><td>&quot;2003-##-##^^xs…</td></tr><tr><td>&quot;&lt;wordnet_event…</td><td>&quot;&lt;Tennis_at_the…</td><td>&quot;&lt;Barcelona&gt;&quot;</td><td>&quot;1992-##-##^^xs…</td></tr></tbody></table></div>"
      ],
      "text/plain": [
       "shape: (24_838, 4)\n",
       "┌─────────────────────────┬────────────────────────┬────────────────────────┬──────────────────────┐\n",
       "│ type                    ┆ subject                ┆ isLocatedIn            ┆ happenedOnDate       │\n",
       "│ ---                     ┆ ---                    ┆ ---                    ┆ ---                  │\n",
       "│ str                     ┆ str                    ┆ str                    ┆ str                  │\n",
       "╞═════════════════════════╪════════════════════════╪════════════════════════╪══════════════════════╡\n",
       "│ <wordnet_event_10002937 ┆ <Athletics_at_the_1996 ┆ <Atlanta>              ┆ 1996-##-##^^xsd:date │\n",
       "│ 8>                      ┆ _Summer_Ol…            ┆                        ┆                      │\n",
       "│ <wordnet_event_10002937 ┆ <2005_OFC_U-20_Champio ┆ <Solomon_Islands>      ┆ 2005-##-##^^xsd:date │\n",
       "│ 8>                      ┆ nship>                 ┆                        ┆                      │\n",
       "│ <wordnet_event_10002937 ┆ <2005_OFC_U-20_Champio ┆ <Honiara>              ┆ 2005-##-##^^xsd:date │\n",
       "│ 8>                      ┆ nship>                 ┆                        ┆                      │\n",
       "│ <wordnet_event_10002937 ┆ <1971_ABC_Championship ┆ <Japan>                ┆ 1971-##-##^^xsd:date │\n",
       "│ 8>                      ┆ >                      ┆                        ┆                      │\n",
       "│ …                       ┆ …                      ┆ …                      ┆ …                    │\n",
       "│ <wordnet_event_10002937 ┆ <Impact_One_Night_Only ┆ <Salinas,_California>  ┆ 2017-10-14^^xsd:date │\n",
       "│ 8>                      ┆ _(2018)>               ┆                        ┆                      │\n",
       "│ <wordnet_event_10002937 ┆ <1999_UCI_Mountain_Bik ┆ <Åre>                  ┆ 1999-09-19^^xsd:date │\n",
       "│ 8>                      ┆ e_World_Ch…            ┆                        ┆                      │\n",
       "│ <wordnet_event_10002937 ┆ <2003_World_Championsh ┆ <Saint-Denis,_Seine-Sa ┆ 2003-##-##^^xsd:date │\n",
       "│ 8>                      ┆ ips_in_Ath…            ┆ int-Denis>             ┆                      │\n",
       "│ <wordnet_event_10002937 ┆ <Tennis_at_the_1992_Su ┆ <Barcelona>            ┆ 1992-##-##^^xsd:date │\n",
       "│ 8>                      ┆ mmer_Olymp…            ┆                        ┆                      │\n",
       "└─────────────────────────┴────────────────────────┴────────────────────────┴──────────────────────┘"
      ]
     },
     "execution_count": 39,
     "metadata": {},
     "output_type": "execute_result"
    }
   ],
   "source": [
    "pl.read_parquet(\"/storage/store/work/rcappuzz/yago3-dl/wordnet/subtabs/yago_wordnet_event/event_isLocatedIn_happenedOnDate.parquet\")"
   ]
  },
  {
   "cell_type": "code",
   "execution_count": null,
   "metadata": {},
   "outputs": [],
   "source": []
  }
 ],
 "metadata": {
  "kernelspec": {
   "display_name": "bench",
   "language": "python",
   "name": "python3"
  },
  "language_info": {
   "codemirror_mode": {
    "name": "ipython",
    "version": 3
   },
   "file_extension": ".py",
   "mimetype": "text/x-python",
   "name": "python",
   "nbconvert_exporter": "python",
   "pygments_lexer": "ipython3",
   "version": "3.10.10"
  },
  "orig_nbformat": 4
 },
 "nbformat": 4,
 "nbformat_minor": 2
}
