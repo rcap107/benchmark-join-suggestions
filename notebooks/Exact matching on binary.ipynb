{
 "cells": [
  {
   "cell_type": "code",
   "execution_count": 2,
   "metadata": {},
   "outputs": [],
   "source": [
    "%load_ext autoreload\n",
    "%autoreload 2"
   ]
  },
  {
   "cell_type": "code",
   "execution_count": 3,
   "metadata": {},
   "outputs": [
    {
     "name": "stdout",
     "output_type": "stream",
     "text": [
      "/home/soda/rcappuzz/work/benchmark-join-suggestions\n"
     ]
    }
   ],
   "source": [
    "%cd .."
   ]
  },
  {
   "cell_type": "code",
   "execution_count": 4,
   "metadata": {},
   "outputs": [],
   "source": [
    "import json\n",
    "import os\n",
    "from pathlib import Path\n",
    "\n",
    "import matplotlib.pyplot as plt\n",
    "import numpy as np\n",
    "import pandas as pd\n",
    "import polars as pl\n",
    "import sklearn.metrics as metrics\n",
    "from joblib import Parallel, delayed, dump, load\n",
    "from tqdm import tqdm\n",
    "import seaborn as sns\n",
    "import polars.selectors as cs\n",
    "\n",
    "import src.methods.profiling as jp\n",
    "from src.data_structures.join_discovery_methods import MinHashIndex, ExactMatchingIndex"
   ]
  },
  {
   "cell_type": "code",
   "execution_count": 5,
   "metadata": {},
   "outputs": [
    {
     "data": {
      "text/plain": [
       "polars.config.Config"
      ]
     },
     "execution_count": 5,
     "metadata": {},
     "output_type": "execute_result"
    }
   ],
   "source": [
    "cfg = pl.Config()\n",
    "cfg.set_fmt_str_lengths(30)"
   ]
  },
  {
   "cell_type": "code",
   "execution_count": 6,
   "metadata": {},
   "outputs": [],
   "source": [
    "data_lake_case = \"binary_update\"\n"
   ]
  },
  {
   "cell_type": "code",
   "execution_count": 23,
   "metadata": {},
   "outputs": [
    {
     "name": "stderr",
     "output_type": "stream",
     "text": [
      "  0%|          | 0/70 [00:00<?, ?it/s]         /home/soda/rcappuzz/mambaforge/envs/bench-repro/lib/python3.10/site-packages/joblib/externals/loky/process_executor.py:752: UserWarning: A worker stopped while some jobs were given to the executor. This can be caused by a too short worker timeout or by a memory leak.\n",
      "  warnings.warn(\n",
      "                                                \r"
     ]
    }
   ],
   "source": [
    "overlap_dict = {}\n",
    "# for table_name in [\"us-accidents-yadl\"]:\n",
    "for table_name in [\n",
    "    \"company-employees-yadl\",\n",
    "    \"movies-yadl\",\n",
    "    \"us-accidents-yadl\",\n",
    "    \"us-presidential-results-yadl\",\n",
    "]:\n",
    "    mdata_root_dir = Path(\"data/metadata/\")\n",
    "    mdata_path = Path(mdata_root_dir, data_lake_case)\n",
    "\n",
    "    base_table_path = f\"data/source_tables/{table_name}.parquet\"\n",
    "    df_base = pl.read_parquet(base_table_path)\n",
    "    query_column = \"col_to_embed\"\n",
    "    exact_matching_index = ExactMatchingIndex(mdata_path, base_table_path, query_column, n_jobs=-1)\n",
    "    overlap_dict[table_name] = exact_matching_index.counts\n",
    "\n",
    "res_list = []\n",
    "for tab_name, tab in overlap_dict.items():\n",
    "    tab = tab.with_columns(pl.lit(tab_name).alias(\"table_name\"))\n",
    "    res_list.append(tab)\n",
    "df_exact = pl.concat(res_list)"
   ]
  },
  {
   "cell_type": "code",
   "execution_count": 24,
   "metadata": {},
   "outputs": [
    {
     "data": {
      "text/html": [
       "<div><style>\n",
       ".dataframe > thead > tr > th,\n",
       ".dataframe > tbody > tr > td {\n",
       "  text-align: right;\n",
       "  white-space: pre-wrap;\n",
       "}\n",
       "</style>\n",
       "<small>shape: (119, 3)</small><table border=\"1\" class=\"dataframe\"><thead><tr><th>hash</th><th>col</th><th>containment</th></tr><tr><td>str</td><td>str</td><td>f64</td></tr></thead><tbody><tr><td>&quot;6718868bd0dc6d153cbaeec8e4148…</td><td>&quot;isLocatedIn&quot;</td><td>0.752617</td></tr><tr><td>&quot;cd13e0a2f80871e36479eb5396e38…</td><td>&quot;subject&quot;</td><td>0.749762</td></tr><tr><td>&quot;a6d3064f36381a789d31e8ad9da96…</td><td>&quot;subject&quot;</td><td>0.749762</td></tr><tr><td>&quot;d5fab84d7f1f089ec5d305d34a2da…</td><td>&quot;subject&quot;</td><td>0.736441</td></tr><tr><td>&quot;d9255a643aa4106cbfad9c890cd9c…</td><td>&quot;wasBornIn&quot;</td><td>0.46876</td></tr><tr><td>&quot;7b879cbeede3c94cc8977f725723c…</td><td>&quot;subject&quot;</td><td>0.356486</td></tr><tr><td>&quot;6718868bd0dc6d153cbaeec8e4148…</td><td>&quot;subject&quot;</td><td>0.231526</td></tr><tr><td>&quot;46e178e2436876037c603dd916f0f…</td><td>&quot;diedIn&quot;</td><td>0.227402</td></tr><tr><td>&quot;8c129d261ce6359dabeaca1f5b392…</td><td>&quot;subject&quot;</td><td>0.129083</td></tr><tr><td>&quot;e55c5fbe7bd369931ae1a9b1e1391…</td><td>&quot;subject&quot;</td><td>0.113225</td></tr><tr><td>&quot;74ca3153e0861b2f84924018b92f5…</td><td>&quot;happenedIn&quot;</td><td>0.078021</td></tr><tr><td>&quot;065961ade51321a2f5c34652c9804…</td><td>&quot;livesIn&quot;</td><td>0.05804</td></tr><tr><td>&hellip;</td><td>&hellip;</td><td>&hellip;</td></tr><tr><td>&quot;5fa2d77b2bb966f37cf77232fcc2e…</td><td>&quot;subject&quot;</td><td>0.0</td></tr><tr><td>&quot;5fa2d77b2bb966f37cf77232fcc2e…</td><td>&quot;hasMusicalRole&quot;</td><td>0.0</td></tr><tr><td>&quot;f91f14592479bb968a38237b91b12…</td><td>&quot;subject&quot;</td><td>0.0</td></tr><tr><td>&quot;579b951225c94f8ac4fd05ee1c4d5…</td><td>&quot;subject&quot;</td><td>0.0</td></tr><tr><td>&quot;579b951225c94f8ac4fd05ee1c4d5…</td><td>&quot;graduatedFrom&quot;</td><td>0.0</td></tr><tr><td>&quot;20bda3fb8994a13559094dfc0e68a…</td><td>&quot;subject&quot;</td><td>0.0</td></tr><tr><td>&quot;8c129d261ce6359dabeaca1f5b392…</td><td>&quot;wasCreatedOnDate&quot;</td><td>0.0</td></tr><tr><td>&quot;7e10ea986d675fa4f5a0a08e6e919…</td><td>&quot;subject&quot;</td><td>0.0</td></tr><tr><td>&quot;7e10ea986d675fa4f5a0a08e6e919…</td><td>&quot;edited&quot;</td><td>0.0</td></tr><tr><td>&quot;91258ecfb767792f6de9c60b2f278…</td><td>&quot;subject&quot;</td><td>0.0</td></tr><tr><td>&quot;91258ecfb767792f6de9c60b2f278…</td><td>&quot;playsFor&quot;</td><td>0.0</td></tr><tr><td>&quot;69c302e6a12ddf1862ef96fd5b054…</td><td>&quot;participatedIn&quot;</td><td>0.0</td></tr></tbody></table></div>"
      ],
      "text/plain": [
       "shape: (119, 3)\n",
       "┌─────────────────────────────────┬────────────────┬─────────────┐\n",
       "│ hash                            ┆ col            ┆ containment │\n",
       "│ ---                             ┆ ---            ┆ ---         │\n",
       "│ str                             ┆ str            ┆ f64         │\n",
       "╞═════════════════════════════════╪════════════════╪═════════════╡\n",
       "│ 6718868bd0dc6d153cbaeec8e41480… ┆ isLocatedIn    ┆ 0.752617    │\n",
       "│ cd13e0a2f80871e36479eb5396e38c… ┆ subject        ┆ 0.749762    │\n",
       "│ a6d3064f36381a789d31e8ad9da962… ┆ subject        ┆ 0.749762    │\n",
       "│ d5fab84d7f1f089ec5d305d34a2da3… ┆ subject        ┆ 0.736441    │\n",
       "│ …                               ┆ …              ┆ …           │\n",
       "│ 7e10ea986d675fa4f5a0a08e6e9195… ┆ edited         ┆ 0.0         │\n",
       "│ 91258ecfb767792f6de9c60b2f278e… ┆ subject        ┆ 0.0         │\n",
       "│ 91258ecfb767792f6de9c60b2f278e… ┆ playsFor       ┆ 0.0         │\n",
       "│ 69c302e6a12ddf1862ef96fd5b054a… ┆ participatedIn ┆ 0.0         │\n",
       "└─────────────────────────────────┴────────────────┴─────────────┘"
      ]
     },
     "execution_count": 24,
     "metadata": {},
     "output_type": "execute_result"
    }
   ],
   "source": [
    "exact_matching_index.counts"
   ]
  },
  {
   "cell_type": "code",
   "execution_count": 25,
   "metadata": {},
   "outputs": [],
   "source": [
    "def minhash_matching(index, query_column_values):\n",
    "    # Querying index for any candidates\n",
    "    query_result = index.query_index(query_column_values)\n",
    "    return query_result"
   ]
  },
  {
   "cell_type": "code",
   "execution_count": 26,
   "metadata": {},
   "outputs": [],
   "source": [
    "query_column = \"col_to_embed\"\n",
    "result_list = []\n",
    "index_path = Path(\"data/metadata/_indices/binary_update/minhash_index.pickle\")\n",
    "index = MinHashIndex()\n",
    "with open(index_path, \"rb\") as fp:\n",
    "    input_dict = load(fp)\n",
    "    index.load_index(index_dict=input_dict)\n",
    "\n",
    "for table_name in [\n",
    "    \"company-employees-yadl\",\n",
    "    \"movies-yadl\",\n",
    "    \"us-accidents-yadl\",\n",
    "    \"us-presidential-results-yadl\",\n",
    "]:\n",
    "    base_table_path = f\"data/source_tables/{table_name}.parquet\"\n",
    "    df_base = pl.read_parquet(base_table_path)\n",
    "    query_column_values = df_base[query_column].to_list()\n",
    "\n",
    "    query_result = minhash_matching(index, query_column_values)\n",
    "    # Preparing the same dataframe as before for prediction\n",
    "    ll = [[row[i] for row in query_result] for i in range(3)]\n",
    "    _pred = pl.from_dict(\n",
    "        dict(zip([\"hash\", \"col\", \"score\"], ll)),\n",
    "        schema=[(\"hash\", str), (\"col\", str), (\"score\", float)],\n",
    "    )\n",
    "    _pred = _pred.with_columns(\n",
    "        pl.lit(index_path.stem).alias(\"index_case\"),\n",
    "        pl.lit(table_name).alias(\"table_name\"),\n",
    "    )\n",
    "    result_list.append(_pred)\n",
    "df_pred = pl.concat(result_list)"
   ]
  },
  {
   "cell_type": "code",
   "execution_count": 27,
   "metadata": {},
   "outputs": [
    {
     "data": {
      "text/html": [
       "<div><style>\n",
       ".dataframe > thead > tr > th,\n",
       ".dataframe > tbody > tr > td {\n",
       "  text-align: right;\n",
       "  white-space: pre-wrap;\n",
       "}\n",
       "</style>\n",
       "<small>shape: (30, 5)</small><table border=\"1\" class=\"dataframe\"><thead><tr><th>hash</th><th>col</th><th>score</th><th>index_case</th><th>table_name</th></tr><tr><td>str</td><td>str</td><td>f64</td><td>str</td><td>str</td></tr></thead><tbody><tr><td>&quot;214f45c3af7758a15bba6cbe0f42a…</td><td>&quot;subject&quot;</td><td>20.0</td><td>&quot;minhash_index&quot;</td><td>&quot;company-employees-yadl&quot;</td></tr><tr><td>&quot;3e053293a3daadc9ad622628632ab…</td><td>&quot;worksAt&quot;</td><td>20.0</td><td>&quot;minhash_index&quot;</td><td>&quot;company-employees-yadl&quot;</td></tr><tr><td>&quot;579b951225c94f8ac4fd05ee1c4d5…</td><td>&quot;graduatedFrom&quot;</td><td>20.0</td><td>&quot;minhash_index&quot;</td><td>&quot;company-employees-yadl&quot;</td></tr><tr><td>&quot;74ca3153e0861b2f84924018b92f5…</td><td>&quot;happenedIn&quot;</td><td>20.0</td><td>&quot;minhash_index&quot;</td><td>&quot;company-employees-yadl&quot;</td></tr><tr><td>&quot;e55c5fbe7bd369931ae1a9b1e1391…</td><td>&quot;subject&quot;</td><td>20.0</td><td>&quot;minhash_index&quot;</td><td>&quot;company-employees-yadl&quot;</td></tr><tr><td>&quot;91258ecfb767792f6de9c60b2f278…</td><td>&quot;playsFor&quot;</td><td>20.0</td><td>&quot;minhash_index&quot;</td><td>&quot;company-employees-yadl&quot;</td></tr><tr><td>&quot;7e10ea986d675fa4f5a0a08e6e919…</td><td>&quot;edited&quot;</td><td>20.0</td><td>&quot;minhash_index&quot;</td><td>&quot;movies-yadl&quot;</td></tr><tr><td>&quot;47b113eb748994355dd72b94a0041…</td><td>&quot;subject&quot;</td><td>20.0</td><td>&quot;minhash_index&quot;</td><td>&quot;movies-yadl&quot;</td></tr><tr><td>&quot;b987248777c65dc2a354f2c428aa6…</td><td>&quot;wroteMusicFor&quot;</td><td>20.0</td><td>&quot;minhash_index&quot;</td><td>&quot;movies-yadl&quot;</td></tr><tr><td>&quot;3811d6cb72281b1cbe7ebd11950d4…</td><td>&quot;directed&quot;</td><td>20.0</td><td>&quot;minhash_index&quot;</td><td>&quot;movies-yadl&quot;</td></tr><tr><td>&quot;521c743f63f094e57ca7d5594d49a…</td><td>&quot;actedIn&quot;</td><td>20.0</td><td>&quot;minhash_index&quot;</td><td>&quot;movies-yadl&quot;</td></tr><tr><td>&quot;8c129d261ce6359dabeaca1f5b392…</td><td>&quot;subject&quot;</td><td>20.0</td><td>&quot;minhash_index&quot;</td><td>&quot;movies-yadl&quot;</td></tr><tr><td>&hellip;</td><td>&hellip;</td><td>&hellip;</td><td>&hellip;</td><td>&hellip;</td></tr><tr><td>&quot;39abd04a2d412b94ec0bf060e0594…</td><td>&quot;subject&quot;</td><td>20.0</td><td>&quot;minhash_index&quot;</td><td>&quot;us-accidents-yadl&quot;</td></tr><tr><td>&quot;46e178e2436876037c603dd916f0f…</td><td>&quot;diedIn&quot;</td><td>20.0</td><td>&quot;minhash_index&quot;</td><td>&quot;us-accidents-yadl&quot;</td></tr><tr><td>&quot;d9255a643aa4106cbfad9c890cd9c…</td><td>&quot;wasBornIn&quot;</td><td>20.0</td><td>&quot;minhash_index&quot;</td><td>&quot;us-accidents-yadl&quot;</td></tr><tr><td>&quot;6718868bd0dc6d153cbaeec8e4148…</td><td>&quot;isLocatedIn&quot;</td><td>20.0</td><td>&quot;minhash_index&quot;</td><td>&quot;us-accidents-yadl&quot;</td></tr><tr><td>&quot;065961ade51321a2f5c34652c9804…</td><td>&quot;livesIn&quot;</td><td>20.0</td><td>&quot;minhash_index&quot;</td><td>&quot;us-presidential-results-yadl&quot;</td></tr><tr><td>&quot;74ca3153e0861b2f84924018b92f5…</td><td>&quot;happenedIn&quot;</td><td>20.0</td><td>&quot;minhash_index&quot;</td><td>&quot;us-presidential-results-yadl&quot;</td></tr><tr><td>&quot;e55c5fbe7bd369931ae1a9b1e1391…</td><td>&quot;subject&quot;</td><td>20.0</td><td>&quot;minhash_index&quot;</td><td>&quot;us-presidential-results-yadl&quot;</td></tr><tr><td>&quot;46e178e2436876037c603dd916f0f…</td><td>&quot;diedIn&quot;</td><td>20.0</td><td>&quot;minhash_index&quot;</td><td>&quot;us-presidential-results-yadl&quot;</td></tr><tr><td>&quot;d9255a643aa4106cbfad9c890cd9c…</td><td>&quot;wasBornIn&quot;</td><td>20.0</td><td>&quot;minhash_index&quot;</td><td>&quot;us-presidential-results-yadl&quot;</td></tr><tr><td>&quot;6718868bd0dc6d153cbaeec8e4148…</td><td>&quot;isLocatedIn&quot;</td><td>20.0</td><td>&quot;minhash_index&quot;</td><td>&quot;us-presidential-results-yadl&quot;</td></tr><tr><td>&quot;8c129d261ce6359dabeaca1f5b392…</td><td>&quot;subject&quot;</td><td>20.0</td><td>&quot;minhash_index&quot;</td><td>&quot;us-presidential-results-yadl&quot;</td></tr><tr><td>&quot;d5fab84d7f1f089ec5d305d34a2da…</td><td>&quot;subject&quot;</td><td>20.0</td><td>&quot;minhash_index&quot;</td><td>&quot;us-presidential-results-yadl&quot;</td></tr></tbody></table></div>"
      ],
      "text/plain": [
       "shape: (30, 5)\n",
       "┌─────────────────────────────┬───────────────┬───────┬───────────────┬────────────────────────────┐\n",
       "│ hash                        ┆ col           ┆ score ┆ index_case    ┆ table_name                 │\n",
       "│ ---                         ┆ ---           ┆ ---   ┆ ---           ┆ ---                        │\n",
       "│ str                         ┆ str           ┆ f64   ┆ str           ┆ str                        │\n",
       "╞═════════════════════════════╪═══════════════╪═══════╪═══════════════╪════════════════════════════╡\n",
       "│ 214f45c3af7758a15bba6cbe0f4 ┆ subject       ┆ 20.0  ┆ minhash_index ┆ company-employees-yadl     │\n",
       "│ 2a7…                        ┆               ┆       ┆               ┆                            │\n",
       "│ 3e053293a3daadc9ad622628632 ┆ worksAt       ┆ 20.0  ┆ minhash_index ┆ company-employees-yadl     │\n",
       "│ ab4…                        ┆               ┆       ┆               ┆                            │\n",
       "│ 579b951225c94f8ac4fd05ee1c4 ┆ graduatedFrom ┆ 20.0  ┆ minhash_index ┆ company-employees-yadl     │\n",
       "│ d55…                        ┆               ┆       ┆               ┆                            │\n",
       "│ 74ca3153e0861b2f84924018b92 ┆ happenedIn    ┆ 20.0  ┆ minhash_index ┆ company-employees-yadl     │\n",
       "│ f50…                        ┆               ┆       ┆               ┆                            │\n",
       "│ …                           ┆ …             ┆ …     ┆ …             ┆ …                          │\n",
       "│ d9255a643aa4106cbfad9c890cd ┆ wasBornIn     ┆ 20.0  ┆ minhash_index ┆ us-presidential-results-ya │\n",
       "│ 9c9…                        ┆               ┆       ┆               ┆ dl                         │\n",
       "│ 6718868bd0dc6d153cbaeec8e41 ┆ isLocatedIn   ┆ 20.0  ┆ minhash_index ┆ us-presidential-results-ya │\n",
       "│ 480…                        ┆               ┆       ┆               ┆ dl                         │\n",
       "│ 8c129d261ce6359dabeaca1f5b3 ┆ subject       ┆ 20.0  ┆ minhash_index ┆ us-presidential-results-ya │\n",
       "│ 92d…                        ┆               ┆       ┆               ┆ dl                         │\n",
       "│ d5fab84d7f1f089ec5d305d34a2 ┆ subject       ┆ 20.0  ┆ minhash_index ┆ us-presidential-results-ya │\n",
       "│ da3…                        ┆               ┆       ┆               ┆ dl                         │\n",
       "└─────────────────────────────┴───────────────┴───────┴───────────────┴────────────────────────────┘"
      ]
     },
     "execution_count": 27,
     "metadata": {},
     "output_type": "execute_result"
    }
   ],
   "source": [
    "df_pred"
   ]
  },
  {
   "cell_type": "code",
   "execution_count": 28,
   "metadata": {},
   "outputs": [],
   "source": [
    "def get_stat_df(df_exact, df_pred):\n",
    "    stats = []\n",
    "    for idx, group in df_pred.group_by([\"table_name\", \"index_case\"]):\n",
    "        print(idx)\n",
    "        idx_case = 20\n",
    "        df_group = (\n",
    "            df_exact\n",
    "            .filter(pl.col(\"table_name\") == idx[0])\n",
    "            .with_columns(\n",
    "                (pl.lit(idx_case).alias(\"thr\"))\n",
    "            )\n",
    "            .join(group, on=[\"table_name\", \"hash\", \"col\"], how=\"left\")\n",
    "            .with_columns(\n",
    "                pl\n",
    "                .when(pl.col(\"containment\") >= pl.col(\"thr\") / 100)\n",
    "                .then(1)\n",
    "                .when(pl.col(\"score\").is_null())\n",
    "                .then(0)\n",
    "                .otherwise(0)\n",
    "                .alias(\"class\")\n",
    "            )\n",
    "            .with_columns(\n",
    "                pl.when(\n",
    "                    pl.col(\"score\").is_null(),\n",
    "                )\n",
    "                .then(0)\n",
    "                .otherwise(1)\n",
    "                .alias(\"class_pred\")\n",
    "            )\n",
    "        )\n",
    "\n",
    "        c_df = df_group.select(pl.col(\"class\"), pl.col(\"class_pred\")).to_pandas()\n",
    "        \n",
    "        conf_m = metrics.confusion_matrix(c_df[\"class\"], c_df[\"class_pred\"])\n",
    "        tn, fp, fn, tp = conf_m.ravel()\n",
    "\n",
    "        recall = metrics.recall_score(c_df[\"class\"], c_df[\"class_pred\"])\n",
    "        precision = metrics.precision_score(c_df[\"class\"], c_df[\"class_pred\"])\n",
    "        f1 = metrics.f1_score(c_df[\"class\"], c_df[\"class_pred\"])\n",
    "        # Prepare a simplified df\n",
    "        rd = {\n",
    "            \"table_name\": idx[0],\n",
    "            \"case\": idx[1],\n",
    "            \"precision\": precision,\n",
    "            \"recall\": recall,\n",
    "            \"f1\": f1,\n",
    "            \"tp\": tp,\n",
    "            \"tn\": tn,\n",
    "            \"fp\": fp,\n",
    "            \"fn\": fn,\n",
    "        }\n",
    "        \n",
    "        stats.append(rd)\n",
    "    df_stats = pl.from_dicts(stats)\n",
    "    return df_stats"
   ]
  },
  {
   "cell_type": "code",
   "execution_count": 29,
   "metadata": {},
   "outputs": [
    {
     "name": "stdout",
     "output_type": "stream",
     "text": [
      "('us-accidents-yadl', 'minhash_index')\n",
      "('movies-yadl', 'minhash_index')\n",
      "('company-employees-yadl', 'minhash_index')\n",
      "('us-presidential-results-yadl', 'minhash_index')\n"
     ]
    },
    {
     "data": {
      "text/html": [
       "<div><style>\n",
       ".dataframe > thead > tr > th,\n",
       ".dataframe > tbody > tr > td {\n",
       "  text-align: right;\n",
       "  white-space: pre-wrap;\n",
       "}\n",
       "</style>\n",
       "<small>shape: (4, 9)</small><table border=\"1\" class=\"dataframe\"><thead><tr><th>table_name</th><th>case</th><th>precision</th><th>recall</th><th>f1</th><th>tp</th><th>tn</th><th>fp</th><th>fn</th></tr><tr><td>str</td><td>str</td><td>f64</td><td>f64</td><td>f64</td><td>i64</td><td>i64</td><td>i64</td><td>i64</td></tr></thead><tbody><tr><td>&quot;us-accidents-yadl&quot;</td><td>&quot;minhash_index&quot;</td><td>0.625</td><td>0.454545</td><td>0.526316</td><td>5</td><td>105</td><td>3</td><td>6</td></tr><tr><td>&quot;movies-yadl&quot;</td><td>&quot;minhash_index&quot;</td><td>0.875</td><td>1.0</td><td>0.933333</td><td>7</td><td>111</td><td>1</td><td>0</td></tr><tr><td>&quot;company-employees-yadl&quot;</td><td>&quot;minhash_index&quot;</td><td>0.333333</td><td>0.333333</td><td>0.333333</td><td>2</td><td>109</td><td>4</td><td>4</td></tr><tr><td>&quot;us-presidential-results-yadl&quot;</td><td>&quot;minhash_index&quot;</td><td>0.5</td><td>0.5</td><td>0.5</td><td>4</td><td>107</td><td>4</td><td>4</td></tr></tbody></table></div>"
      ],
      "text/plain": [
       "shape: (4, 9)\n",
       "┌──────────────────────────────┬───────────────┬───────────┬──────────┬───┬─────┬─────┬─────┬─────┐\n",
       "│ table_name                   ┆ case          ┆ precision ┆ recall   ┆ … ┆ tp  ┆ tn  ┆ fp  ┆ fn  │\n",
       "│ ---                          ┆ ---           ┆ ---       ┆ ---      ┆   ┆ --- ┆ --- ┆ --- ┆ --- │\n",
       "│ str                          ┆ str           ┆ f64       ┆ f64      ┆   ┆ i64 ┆ i64 ┆ i64 ┆ i64 │\n",
       "╞══════════════════════════════╪═══════════════╪═══════════╪══════════╪═══╪═════╪═════╪═════╪═════╡\n",
       "│ us-accidents-yadl            ┆ minhash_index ┆ 0.625     ┆ 0.454545 ┆ … ┆ 5   ┆ 105 ┆ 3   ┆ 6   │\n",
       "│ movies-yadl                  ┆ minhash_index ┆ 0.875     ┆ 1.0      ┆ … ┆ 7   ┆ 111 ┆ 1   ┆ 0   │\n",
       "│ company-employees-yadl       ┆ minhash_index ┆ 0.333333  ┆ 0.333333 ┆ … ┆ 2   ┆ 109 ┆ 4   ┆ 4   │\n",
       "│ us-presidential-results-yadl ┆ minhash_index ┆ 0.5       ┆ 0.5      ┆ … ┆ 4   ┆ 107 ┆ 4   ┆ 4   │\n",
       "└──────────────────────────────┴───────────────┴───────────┴──────────┴───┴─────┴─────┴─────┴─────┘"
      ]
     },
     "execution_count": 29,
     "metadata": {},
     "output_type": "execute_result"
    }
   ],
   "source": [
    "get_stat_df(df_exact, df_pred)"
   ]
  },
  {
   "cell_type": "code",
   "execution_count": null,
   "metadata": {},
   "outputs": [],
   "source": []
  }
 ],
 "metadata": {
  "kernelspec": {
   "display_name": "bench-repro",
   "language": "python",
   "name": "python3"
  },
  "language_info": {
   "codemirror_mode": {
    "name": "ipython",
    "version": 3
   },
   "file_extension": ".py",
   "mimetype": "text/x-python",
   "name": "python",
   "nbconvert_exporter": "python",
   "pygments_lexer": "ipython3",
   "version": "3.10.0"
  }
 },
 "nbformat": 4,
 "nbformat_minor": 2
}
