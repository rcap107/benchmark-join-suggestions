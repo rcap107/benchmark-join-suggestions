{
 "cells": [
  {
   "cell_type": "code",
   "execution_count": 21,
   "metadata": {},
   "outputs": [
    {
     "name": "stdout",
     "output_type": "stream",
     "text": [
      "/home/soda/rcappuzz/work/benchmark-join-suggestions\n"
     ]
    }
   ],
   "source": [
    "cd ~/bench"
   ]
  },
  {
   "cell_type": "markdown",
   "metadata": {},
   "source": [
    "This notebook is used to combine all results from various runs in to a single file for simplicity and better storage. "
   ]
  },
  {
   "cell_type": "code",
   "execution_count": 22,
   "metadata": {},
   "outputs": [],
   "source": [
    "import polars as pl\n",
    "from pathlib import Path\n",
    "from src.utils.logging import read_and_process, read_logs"
   ]
  },
  {
   "cell_type": "code",
   "execution_count": 23,
   "metadata": {},
   "outputs": [
    {
     "data": {
      "text/plain": [
       "polars.config.Config"
      ]
     },
     "execution_count": 23,
     "metadata": {},
     "output_type": "execute_result"
    }
   ],
   "source": [
    "cfg = pl.Config()\n",
    "cfg.set_fmt_str_lengths(150)"
   ]
  },
  {
   "cell_type": "code",
   "execution_count": 24,
   "metadata": {},
   "outputs": [],
   "source": [
    "dest_path = Path(\"results/overall\")\n",
    "overall_list = []"
   ]
  },
  {
   "cell_type": "markdown",
   "metadata": {},
   "source": [
    "## Full run depleted Wordnet aggregation first"
   ]
  },
  {
   "cell_type": "markdown",
   "metadata": {},
   "source": [
    "`results/logs/0363-mp1a3by4`\n",
    "- Full run\n",
    "- All tables\n",
    "- Wordnet full\n",
    "- Aggregation first "
   ]
  },
  {
   "cell_type": "code",
   "execution_count": 25,
   "metadata": {},
   "outputs": [],
   "source": [
    "r_path = \"results/logs/0363-mp1a3by4\"\n",
    "df_raw = read_logs(exp_name=None, exp_path=r_path)\n",
    "overall_list.append(df_raw)\n",
    "df_raw.write_parquet(Path(dest_path, \"wordnet_general_first.parquet\"))"
   ]
  },
  {
   "cell_type": "markdown",
   "metadata": {},
   "source": [
    "## Full run depleted Wordnet aggregation mean"
   ]
  },
  {
   "cell_type": "markdown",
   "metadata": {},
   "source": [
    "`results/logs/0383-ptn1bncl`\n",
    "- Full run\n",
    "- All tables\n",
    "- Wordnet full\n",
    "- Aggregation mean"
   ]
  },
  {
   "cell_type": "code",
   "execution_count": 26,
   "metadata": {},
   "outputs": [],
   "source": [
    "r_path = \"results/logs/0383-ptn1bncl\"\n",
    "df_raw = read_logs(exp_name=None, exp_path=r_path)\n",
    "df_raw.write_parquet(Path(dest_path, \"wordnet_general_mean.parquet\"))"
   ]
  },
  {
   "cell_type": "markdown",
   "metadata": {},
   "source": [
    "## Full run full tables Wordnet aggregation first"
   ]
  },
  {
   "cell_type": "markdown",
   "metadata": {},
   "source": [
    "`results/logs/0389-4jmvw4qc`\n",
    "- Full run\n",
    "- Full tables\n",
    "- All tables\n",
    "- Wordnet full\n",
    "- Aggregation first"
   ]
  },
  {
   "cell_type": "code",
   "execution_count": 27,
   "metadata": {},
   "outputs": [],
   "source": [
    "r_path = \"results/logs/0389-4jmvw4qc\"\n",
    "df_raw = read_logs(exp_name=None, exp_path=r_path)\n",
    "df_raw.write_parquet(Path(dest_path, \"wordnet_general_first_full-tables.parquet\"))"
   ]
  },
  {
   "cell_type": "markdown",
   "metadata": {},
   "source": [
    "## Full run Binary aggregation first"
   ]
  },
  {
   "cell_type": "markdown",
   "metadata": {},
   "source": [
    "`results/logs/0387-df7e67z4`\n",
    "- Full run\n",
    "- Full tables\n",
    "- All tables\n",
    "- Binary\n",
    "- Aggregation first"
   ]
  },
  {
   "cell_type": "code",
   "execution_count": 28,
   "metadata": {},
   "outputs": [],
   "source": [
    "r_path = \"results/logs/0387-df7e67z4\"\n",
    "df_raw = read_logs(exp_name=None, exp_path=r_path)\n",
    "overall_list.append(df_raw)\n",
    "df_raw.write_parquet(Path(dest_path, \"binary_general_first.parquet\"))"
   ]
  },
  {
   "cell_type": "markdown",
   "metadata": {},
   "source": [
    "## Open Data full run"
   ]
  },
  {
   "cell_type": "markdown",
   "metadata": {},
   "source": [
    "```\n",
    "paths = [\n",
    "    \"results/logs/0372-35kmeaz3\",\n",
    "    \"results/logs/0373-csmtrlcd\",\n",
    "    \"results/logs/0374-7226gvfk\",\n",
    "    \"results/logs/0376-c8xw7pry\",\n",
    "    \"results/logs/0377-q83k1stf\",\n",
    "    \"results/logs/0381-roaef1ce\",\n",
    "]\n",
    "```\n",
    "`results/logs/0375-mjbya9c5` is a duplicate of 0374 (the configuration is the same)"
   ]
  },
  {
   "cell_type": "code",
   "execution_count": 29,
   "metadata": {},
   "outputs": [],
   "source": [
    "paths = [\n",
    "    \"results/logs/0372-35kmeaz3\",\n",
    "    \"results/logs/0373-csmtrlcd\",\n",
    "    \"results/logs/0374-7226gvfk\",\n",
    "    \"results/logs/0376-c8xw7pry\",\n",
    "    \"results/logs/0377-q83k1stf\",\n",
    "    \"results/logs/0381-roaef1ce\",\n",
    "]\n",
    "\n",
    "open_data_list = []\n",
    "\n",
    "for path in paths:\n",
    "    df_raw = read_logs(exp_name=None, exp_path=path)\n",
    "    open_data_list.append(df_raw)\n",
    "\n",
    "df_concat = pl.concat(open_data_list)\n",
    "df_concat.write_parquet(Path(dest_path, \"open_data_general_first.parquet\"))\n",
    "overall_list.append(df_concat)"
   ]
  },
  {
   "cell_type": "code",
   "execution_count": 30,
   "metadata": {},
   "outputs": [
    {
     "data": {
      "text/plain": [
       "['movies-depleted_title-open_data',\n",
       " 'us_accidents-depleted_County-open_data',\n",
       " 'us_elections-depleted_county_name-open_data',\n",
       " 'housing_prices-depleted_County-open_data',\n",
       " 'movies_vote-depleted_title-open_data',\n",
       " 'company_employees-depleted_name-open_data']"
      ]
     },
     "execution_count": 30,
     "metadata": {},
     "output_type": "execute_result"
    }
   ],
   "source": [
    "df_concat.select(pl.col(\"base_table\").unique()).to_series().to_list()"
   ]
  },
  {
   "cell_type": "code",
   "execution_count": 31,
   "metadata": {},
   "outputs": [],
   "source": [
    "df_overall = pl.concat(overall_list)\n",
    "df_overall.write_parquet(Path(dest_path, \"overall_first.parquet\"))"
   ]
  },
  {
   "cell_type": "markdown",
   "metadata": {},
   "source": [
    "## Aggregation"
   ]
  },
  {
   "cell_type": "markdown",
   "metadata": {},
   "source": [
    "`results/logs/0382-bfft0brr`\n",
    "- Only best single join and highest containment\n",
    "- All tables\n",
    "- Wordnet full\n",
    "- DFS "
   ]
  },
  {
   "cell_type": "code",
   "execution_count": 32,
   "metadata": {},
   "outputs": [],
   "source": [
    "r_path = \"results/logs/0382-bfft0brr\"\n",
    "df_raw = read_logs(exp_name=None, exp_path=r_path)\n",
    "# overall_list.append(df_raw)\n",
    "df_raw.write_parquet(Path(dest_path, \"wordnet_dfs.parquet\"))\n",
    "drop = [\n",
    "    \"status\",\n",
    "    \"rmse\",\n",
    "    \"f1score\",\n",
    "    \"auc\",\n",
    "    \"n_cols\",\n",
    "    \"budget_type\",\n",
    "    \"budget_amount\",\n",
    "    \"epsilon\",\n",
    "]\n",
    "df_first = pl.read_parquet(Path(dest_path, \"wordnet_general_first.parquet\"))\n",
    "df_mean = pl.read_parquet(Path(dest_path, \"wordnet_general_mean.parquet\"))\n",
    "df_c = pl.concat([df_first.drop(drop), df_mean.drop(drop), df_raw.drop(drop)])\n",
    "f = {\"jd_method\": \"exact_matching\"}\n",
    "df_aggr = df_c.filter(**f).filter(\n",
    "    pl.col(\"estimator\").is_in([\"highest_containment\", \"best_single_join\"])\n",
    ")\n",
    "df_aggr = df_aggr.filter(\n",
    "    pl.col(\"base_table\").is_in(\n",
    "        df_aggr.filter(pl.col(\"aggregation\") == \"dfs\").select(pl.col(\"base_table\"))\n",
    "    )\n",
    ")\n",
    "df_aggr.write_parquet(Path(dest_path, \"wordnet_aggr.parquet\"))"
   ]
  },
  {
   "cell_type": "code",
   "execution_count": 33,
   "metadata": {},
   "outputs": [
    {
     "data": {
      "text/html": [
       "<div><style>\n",
       ".dataframe > thead > tr,\n",
       ".dataframe > tbody > tr {\n",
       "  text-align: right;\n",
       "  white-space: pre-wrap;\n",
       "}\n",
       "</style>\n",
       "<small>shape: (6, 1)</small><table border=\"1\" class=\"dataframe\"><thead><tr><th>base_table</th></tr><tr><td>str</td></tr></thead><tbody><tr><td>&quot;us_elections-yadl-depleted&quot;</td></tr><tr><td>&quot;movies-yadl-depleted&quot;</td></tr><tr><td>&quot;us_county_population-yadl-depleted&quot;</td></tr><tr><td>&quot;us_accidents-yadl-depleted&quot;</td></tr><tr><td>&quot;movies_vote-yadl-depleted&quot;</td></tr><tr><td>&quot;company_employees-yadl-depleted&quot;</td></tr></tbody></table></div>"
      ],
      "text/plain": [
       "shape: (6, 1)\n",
       "┌────────────────────────────────────┐\n",
       "│ base_table                         │\n",
       "│ ---                                │\n",
       "│ str                                │\n",
       "╞════════════════════════════════════╡\n",
       "│ us_elections-yadl-depleted         │\n",
       "│ movies-yadl-depleted               │\n",
       "│ us_county_population-yadl-depleted │\n",
       "│ us_accidents-yadl-depleted         │\n",
       "│ movies_vote-yadl-depleted          │\n",
       "│ company_employees-yadl-depleted    │\n",
       "└────────────────────────────────────┘"
      ]
     },
     "execution_count": 33,
     "metadata": {},
     "output_type": "execute_result"
    }
   ],
   "source": [
    "df_aggr.select(pl.col(\"base_table\").unique())"
   ]
  },
  {
   "cell_type": "markdown",
   "metadata": {},
   "source": [
    "## Aggregation"
   ]
  },
  {
   "cell_type": "markdown",
   "metadata": {},
   "source": [
    "`results/logs/0386-sh4fb419`\n",
    "- Only best single join and highest containment\n",
    "- All tables\n",
    "- Wordnet full\n",
    "- DFS "
   ]
  },
  {
   "cell_type": "code",
   "execution_count": 34,
   "metadata": {},
   "outputs": [],
   "source": [
    "r_path = \"results/logs/0386-sh4fb419\"\n",
    "df_raw = read_logs(exp_name=None, exp_path=r_path)\n",
    "# overall_list.append(df_raw)\n",
    "df_raw.write_parquet(Path(dest_path, \"binary_mean_dfs.parquet\"))\n",
    "df_base = pl.read_parquet(Path(dest_path, \"binary_general_first.parquet\"))\n",
    "drop = [\n",
    "    \"status\",\n",
    "    \"rmse\",\n",
    "    \"f1score\",\n",
    "    \"auc\",\n",
    "    \"n_cols\",\n",
    "    \"budget_type\",\n",
    "    \"budget_amount\",\n",
    "    \"epsilon\",\n",
    "]\n",
    "df_c = pl.concat([df_base.drop(drop), df_raw.drop(drop)])\n",
    "f = {\"jd_method\": \"exact_matching\"}\n",
    "df_aggr = df_c.filter(**f).filter(\n",
    "    pl.col(\"estimator\").is_in([\"highest_containment\", \"best_single_join\"])\n",
    ")\n",
    "df_aggr.write_parquet(Path(dest_path, \"binary_aggr.parquet\"))"
   ]
  }
 ],
 "metadata": {
  "kernelspec": {
   "display_name": "Python 3",
   "language": "python",
   "name": "python3"
  },
  "language_info": {
   "codemirror_mode": {
    "name": "ipython",
    "version": 3
   },
   "file_extension": ".py",
   "mimetype": "text/x-python",
   "name": "python",
   "nbconvert_exporter": "python",
   "pygments_lexer": "ipython3",
   "version": "3.10.0"
  }
 },
 "nbformat": 4,
 "nbformat_minor": 2
}
