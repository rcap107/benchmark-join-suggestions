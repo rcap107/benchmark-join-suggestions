{
 "cells": [
  {
   "cell_type": "code",
   "execution_count": 2,
   "metadata": {},
   "outputs": [
    {
     "name": "stdout",
     "output_type": "stream",
     "text": [
      "/home/soda/rcappuzz/work/benchmark-join-suggestions\n"
     ]
    }
   ],
   "source": [
    "cd ~/bench"
   ]
  },
  {
   "cell_type": "markdown",
   "metadata": {},
   "source": [
    "This notebook is used to combine all results from various runs in to a single file for simplicity and better storage. "
   ]
  },
  {
   "cell_type": "code",
   "execution_count": 3,
   "metadata": {},
   "outputs": [],
   "source": [
    "import polars as pl\n",
    "from pathlib import Path\n",
    "from src.utils.logging import read_and_process, read_logs"
   ]
  },
  {
   "cell_type": "code",
   "execution_count": 4,
   "metadata": {},
   "outputs": [
    {
     "data": {
      "text/plain": [
       "polars.config.Config"
      ]
     },
     "execution_count": 4,
     "metadata": {},
     "output_type": "execute_result"
    }
   ],
   "source": [
    "cfg = pl.Config()\n",
    "cfg.set_fmt_str_lengths(150)"
   ]
  },
  {
   "cell_type": "code",
   "execution_count": 5,
   "metadata": {},
   "outputs": [],
   "source": [
    "dest_path = Path(\"results/overall\")\n",
    "overall_list = []"
   ]
  },
  {
   "cell_type": "markdown",
   "metadata": {},
   "source": [
    "`results/logs/0363-mp1a3by4`\n",
    "- Full run\n",
    "- All tables\n",
    "- Wordnet full\n",
    "- Aggregation first "
   ]
  },
  {
   "cell_type": "code",
   "execution_count": 6,
   "metadata": {},
   "outputs": [],
   "source": [
    "r_path = \"results/logs/0363-mp1a3by4\"\n",
    "df_raw = read_logs(exp_name=None, exp_path=r_path)\n",
    "overall_list.append(df_raw)\n",
    "df_raw.write_parquet(Path(dest_path, \"wordnet_general_first.parquet\"))"
   ]
  },
  {
   "cell_type": "markdown",
   "metadata": {},
   "source": [
    "### Open Data"
   ]
  },
  {
   "cell_type": "markdown",
   "metadata": {},
   "source": [
    "```\n",
    "\"results/logs/0373-csmtrlcd\",\n",
    "\"results/logs/0374-7226gvfk\",\n",
    "\"results/logs/0375-mjbya9c5\",\n",
    "\"results/logs/0376-c8xw7pry\",\n",
    "\"results/logs/0377-q83k1stf\"\n",
    "```\n",
    "\n",
    "`results/logs/0375-mjbya9c5` is a duplicate of 0374"
   ]
  },
  {
   "cell_type": "code",
   "execution_count": 8,
   "metadata": {},
   "outputs": [],
   "source": [
    "paths = [\n",
    "    \"results/logs/0372-35kmeaz3\",\n",
    "    \"results/logs/0373-csmtrlcd\",\n",
    "    \"results/logs/0374-7226gvfk\",\n",
    "    \"results/logs/0376-c8xw7pry\",\n",
    "    \"results/logs/0377-q83k1stf\",\n",
    "    \"results/logs/0381-roaef1ce\",\n",
    "]\n",
    "\n",
    "open_data_list = []\n",
    "\n",
    "for path in paths:\n",
    "    df_raw = read_logs(exp_name=None, exp_path=path)\n",
    "    open_data_list.append(df_raw)\n",
    "\n",
    "df_concat = pl.concat(open_data_list)\n",
    "df_concat.write_parquet(Path(dest_path, \"open_data_general_first.parquet\"))\n",
    "overall_list.append(df_concat)"
   ]
  },
  {
   "cell_type": "code",
   "execution_count": 9,
   "metadata": {},
   "outputs": [
    {
     "data": {
      "text/plain": [
       "['us_accidents-depleted_County-open_data',\n",
       " 'housing_prices-depleted_County-open_data',\n",
       " 'company_employees-depleted_name-open_data',\n",
       " 'us_elections-depleted_county_name-open_data',\n",
       " 'movies_vote-depleted_title-open_data',\n",
       " 'movies-depleted_title-open_data']"
      ]
     },
     "execution_count": 9,
     "metadata": {},
     "output_type": "execute_result"
    }
   ],
   "source": [
    "df_concat.select(pl.col(\"base_table\").unique()).to_series().to_list()"
   ]
  },
  {
   "cell_type": "code",
   "execution_count": 10,
   "metadata": {},
   "outputs": [],
   "source": [
    "df_overall = pl.concat(overall_list)\n",
    "df_overall.write_parquet(Path(dest_path, \"wordnet_open_data_first.parquet\"))"
   ]
  },
  {
   "cell_type": "markdown",
   "metadata": {},
   "source": [
    "`results/logs/0382-bfft0brr`\n",
    "- Only best single join and highest containment\n",
    "- All tables\n",
    "- Wordnet full\n",
    "- DFS "
   ]
  },
  {
   "cell_type": "code",
   "execution_count": 35,
   "metadata": {},
   "outputs": [],
   "source": [
    "r_path = \"results/logs/0382-bfft0brr\"\n",
    "df_raw = read_logs(exp_name=None, exp_path=r_path)\n",
    "# overall_list.append(df_raw)\n",
    "df_raw.write_parquet(Path(dest_path, \"wordnet_dfs.parquet\"))\n",
    "df_base = pl.read_parquet(Path(dest_path, \"wordnet_general_first.parquet\"))\n",
    "drop = [\"scenario_id\", \"status\", \"target_dl\", \"rmse\", \"f1score\", \"auc\", \"n_cols\",\"budget_type\", \"budget_amount\", \"epsilon\"]\n",
    "df_c = pl.concat([df_base.drop(drop), df_raw.drop(drop)])\n",
    "f = {\"chosen_model\": \"linear\", \"jd_method\": \"exact_matching\"}\n",
    "df_aggr = df_c.filter(**f).filter(pl.col(\"estimator\").is_in([\"highest_containment\", \"best_single_join\"]) )\n",
    "df_aggr.write_parquet(Path(dest_path, \"wordnet_aggr.parquet\"))"
   ]
  },
  {
   "cell_type": "code",
   "execution_count": null,
   "metadata": {},
   "outputs": [],
   "source": []
  }
 ],
 "metadata": {
  "kernelspec": {
   "display_name": "Python 3",
   "language": "python",
   "name": "python3"
  },
  "language_info": {
   "codemirror_mode": {
    "name": "ipython",
    "version": 3
   },
   "file_extension": ".py",
   "mimetype": "text/x-python",
   "name": "python",
   "nbconvert_exporter": "python",
   "pygments_lexer": "ipython3",
   "version": "3.10.0"
  }
 },
 "nbformat": 4,
 "nbformat_minor": 2
}
