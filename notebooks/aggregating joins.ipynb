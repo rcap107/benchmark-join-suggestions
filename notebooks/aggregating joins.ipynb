{
 "cells": [
  {
   "cell_type": "code",
   "execution_count": 27,
   "metadata": {},
   "outputs": [
    {
     "name": "stdout",
     "output_type": "stream",
     "text": [
      "/home/soda/rcappuzz/work/benchmark-join-suggestions\n"
     ]
    }
   ],
   "source": [
    "cd .."
   ]
  },
  {
   "cell_type": "code",
   "execution_count": 28,
   "metadata": {},
   "outputs": [],
   "source": [
    "import polars as pl"
   ]
  },
  {
   "cell_type": "code",
   "execution_count": 29,
   "metadata": {},
   "outputs": [],
   "source": [
    "df = pl.DataFrame(\n",
    "    {\n",
    "        \"id\": [0, 0, 0, 1, 1],\n",
    "        \"color\": [\"red\", \"green\", \"green\", \"red\", \"red\"],\n",
    "        \"shape\": [\"square\", \"triangle\", \"square\", \"triangle\", \"square\"],\n",
    "    }\n",
    ")\n"
   ]
  },
  {
   "cell_type": "code",
   "execution_count": 30,
   "metadata": {},
   "outputs": [],
   "source": [
    "df_list = []\n",
    "for gkey, group in df.groupby(\"id\"):\n",
    "    g = group.select(pl.col(\"id\"),\n",
    "       pl.all().exclude(\"id\").mode().first()\n",
    "    ).unique()\n",
    "    df_list.append(g)\n",
    "\n",
    "df_dedup = pl.concat(df_list)"
   ]
  },
  {
   "cell_type": "code",
   "execution_count": 31,
   "metadata": {},
   "outputs": [
    {
     "data": {
      "text/html": [
       "<div><style>\n",
       ".dataframe > thead > tr > th,\n",
       ".dataframe > tbody > tr > td {\n",
       "  text-align: right;\n",
       "}\n",
       "</style>\n",
       "<small>shape: (2, 3)</small><table border=\"1\" class=\"dataframe\"><thead><tr><th>id</th><th>color</th><th>shape</th></tr><tr><td>i64</td><td>str</td><td>str</td></tr></thead><tbody><tr><td>1</td><td>&quot;red&quot;</td><td>&quot;triangle&quot;</td></tr><tr><td>0</td><td>&quot;green&quot;</td><td>&quot;square&quot;</td></tr></tbody></table></div>"
      ],
      "text/plain": [
       "shape: (2, 3)\n",
       "┌─────┬───────┬──────────┐\n",
       "│ id  ┆ color ┆ shape    │\n",
       "│ --- ┆ ---   ┆ ---      │\n",
       "│ i64 ┆ str   ┆ str      │\n",
       "╞═════╪═══════╪══════════╡\n",
       "│ 1   ┆ red   ┆ triangle │\n",
       "│ 0   ┆ green ┆ square   │\n",
       "└─────┴───────┴──────────┘"
      ]
     },
     "execution_count": 31,
     "metadata": {},
     "output_type": "execute_result"
    }
   ],
   "source": [
    "df_dedup"
   ]
  },
  {
   "cell_type": "code",
   "execution_count": 32,
   "metadata": {},
   "outputs": [],
   "source": [
    "import pickle\n",
    "with open(f\"generated_candidates_movies-prepared.pickle\", \"rb\") as fp:\n",
    "    candidates = pickle.load(fp)\n"
   ]
  },
  {
   "cell_type": "code",
   "execution_count": 34,
   "metadata": {},
   "outputs": [],
   "source": [
    "c_mh = candidates[\"minhash\"]"
   ]
  },
  {
   "cell_type": "code",
   "execution_count": 49,
   "metadata": {},
   "outputs": [],
   "source": [
    "cand_join = c_mh.popitem()[1]"
   ]
  },
  {
   "cell_type": "code",
   "execution_count": 45,
   "metadata": {},
   "outputs": [
    {
     "data": {
      "text/plain": [
       "{'indexing_method': 'minhash',\n",
       " 'source_table': '310b7e82655f2beaba69e8b482d43b65',\n",
       " 'candidate_table': '493060039c2bd6f510fead93e2086f3744166236cccc9c787e768b8787e79024',\n",
       " 'source_metadata': {'full_path': '/storage/store/work/rcappuzz/ken_datasets/the-movies-dataset/movies-prepared.parquet',\n",
       "  'hash': '310b7e82655f2beaba69e8b482d43b65',\n",
       "  'df_name': 'movies-prepared',\n",
       "  'source_dl': 'queries',\n",
       "  'license': '',\n",
       "  'path_metadata': '/storage/store/work/rcappuzz/metadata/queries/310b7e82655f2beaba69e8b482d43b65.json'},\n",
       " 'candidate_metadata': {'full_path': '/storage/store/work/rcappuzz/yago3-dl/wordnet/yago_wordnet_person.parquet',\n",
       "  'hash': '493060039c2bd6f510fead93e2086f3744166236cccc9c787e768b8787e79024',\n",
       "  'df_name': 'yago_wordnet_person',\n",
       "  'source_dl': 'yago3-dl',\n",
       "  'license': '',\n",
       "  'path_metadata': '/storage/store/work/rcappuzz/metadata/wordnet/493060039c2bd6f510fead93e2086f3744166236cccc9c787e768b8787e79024.json'},\n",
       " 'similarity_score': 20,\n",
       " 'how': 'left',\n",
       " 'left_on': ['col_to_embed'],\n",
       " 'right_on': ['wroteMusicFor'],\n",
       " 'on': None,\n",
       " 'candidate_id': '17c93915a02a7b44707ddf5ffe8030b2'}"
      ]
     },
     "execution_count": 45,
     "metadata": {},
     "output_type": "execute_result"
    }
   ],
   "source": [
    "src_md = cand_join[\"source_metadata\"]"
   ]
  },
  {
   "cell_type": "code",
   "execution_count": 54,
   "metadata": {},
   "outputs": [],
   "source": [
    "src_md = cand_join.source_metadata\n",
    "cand_md = cand_join.candidate_metadata"
   ]
  },
  {
   "cell_type": "code",
   "execution_count": 57,
   "metadata": {},
   "outputs": [],
   "source": [
    "src_table = pl.read_parquet(src_md[\"full_path\"])\n",
    "cand_table = pl.read_parquet(cand_md[\"full_path\"])"
   ]
  },
  {
   "cell_type": "code",
   "execution_count": 59,
   "metadata": {},
   "outputs": [],
   "source": [
    "from src.table_integration.utils_joins import execute_join"
   ]
  },
  {
   "cell_type": "code",
   "execution_count": 64,
   "metadata": {},
   "outputs": [
    {
     "data": {
      "text/html": [
       "<div><style>\n",
       ".dataframe > thead > tr > th,\n",
       ".dataframe > tbody > tr > td {\n",
       "  text-align: right;\n",
       "}\n",
       "</style>\n",
       "<small>shape: (3_826, 19)</small><table border=\"1\" class=\"dataframe\"><thead><tr><th>adult</th><th>budget</th><th>genres</th><th>id</th><th>original_language</th><th>original_title</th><th>popularity</th><th>production_companies</th><th>production_countries</th><th>release_date</th><th>runtime</th><th>spoken_languages</th><th>status</th><th>title</th><th>video</th><th>vote_average</th><th>vote_count</th><th>col_to_embed</th><th>target</th></tr><tr><td>str</td><td>str</td><td>str</td><td>str</td><td>str</td><td>str</td><td>str</td><td>str</td><td>str</td><td>str</td><td>f64</td><td>str</td><td>str</td><td>str</td><td>bool</td><td>f64</td><td>f64</td><td>str</td><td>f64</td></tr></thead><tbody><tr><td>&quot;False&quot;</td><td>&quot;44000000&quot;</td><td>&quot;History&quot;</td><td>&quot;10858&quot;</td><td>&quot;en&quot;</td><td>&quot;Nixon&quot;</td><td>&quot;5.092&quot;</td><td>&quot;Hollywood Pict…</td><td>&quot;US&quot;</td><td>&quot;1995&quot;</td><td>192.0</td><td>&quot;English&quot;</td><td>&quot;Released&quot;</td><td>&quot;Nixon&quot;</td><td>false</td><td>7.1</td><td>72.0</td><td>&quot;&lt;Nixon_(film)&gt;…</td><td>7.136142</td></tr><tr><td>&quot;False&quot;</td><td>&quot;0&quot;</td><td>&quot;Drama&quot;</td><td>&quot;18215&quot;</td><td>&quot;en&quot;</td><td>&quot;Boxing Helena&quot;</td><td>&quot;4.304224&quot;</td><td>&quot;Mainline Pictu…</td><td>&quot;US&quot;</td><td>&quot;1993&quot;</td><td>107.0</td><td>&quot;English&quot;</td><td>&quot;Released&quot;</td><td>&quot;Boxing Helena&quot;</td><td>false</td><td>4.5</td><td>59.0</td><td>&quot;&lt;Boxing_Helena…</td><td>6.2544</td></tr><tr><td>&quot;False&quot;</td><td>&quot;0&quot;</td><td>&quot;Comedy&quot;</td><td>&quot;24405&quot;</td><td>&quot;en&quot;</td><td>&quot;Chasers&quot;</td><td>&quot;9.85327&quot;</td><td>&quot;Warner Bros.&quot;</td><td>&quot;US&quot;</td><td>&quot;1994&quot;</td><td>102.0</td><td>&quot;English&quot;</td><td>&quot;Released&quot;</td><td>&quot;Chasers&quot;</td><td>false</td><td>4.7</td><td>22.0</td><td>&quot;&lt;Chasers&gt;&quot;</td><td>6.20322</td></tr><tr><td>&quot;False&quot;</td><td>&quot;4800000&quot;</td><td>&quot;Action&quot;</td><td>&quot;40507&quot;</td><td>&quot;en&quot;</td><td>&quot;Original Gangs…</td><td>&quot;0.343579&quot;</td><td>&quot;Po&#x27; Boy Produc…</td><td>&quot;US&quot;</td><td>&quot;1996&quot;</td><td>99.0</td><td>&quot;Español&quot;</td><td>&quot;Released&quot;</td><td>&quot;Original Gangs…</td><td>false</td><td>5.5</td><td>5.0</td><td>&quot;&lt;Original_Gang…</td><td>6.479143</td></tr><tr><td>&quot;False&quot;</td><td>&quot;1500000&quot;</td><td>&quot;Drama&quot;</td><td>&quot;4174&quot;</td><td>&quot;en&quot;</td><td>&quot;Spellbound&quot;</td><td>&quot;5.47596&quot;</td><td>&quot;Selznick Inter…</td><td>&quot;US&quot;</td><td>&quot;1945&quot;</td><td>111.0</td><td>&quot;English&quot;</td><td>&quot;Released&quot;</td><td>&quot;Spellbound&quot;</td><td>false</td><td>7.3</td><td>166.0</td><td>&quot;&lt;Spellbound_(1…</td><td>6.845098</td></tr><tr><td>&quot;False&quot;</td><td>&quot;1365000&quot;</td><td>&quot;Comedy&quot;</td><td>&quot;1859&quot;</td><td>&quot;en&quot;</td><td>&quot;Ninotchka&quot;</td><td>&quot;5.120036&quot;</td><td>&quot;Metro-Goldwyn-…</td><td>&quot;US&quot;</td><td>&quot;1939&quot;</td><td>110.0</td><td>&quot;English&quot;</td><td>&quot;Released&quot;</td><td>&quot;Ninotchka&quot;</td><td>false</td><td>7.3</td><td>77.0</td><td>&quot;&lt;Ninotchka&gt;&quot;</td><td>6.357744</td></tr><tr><td>&quot;False&quot;</td><td>&quot;8000000&quot;</td><td>&quot;Science Fictio…</td><td>&quot;149&quot;</td><td>&quot;ja&quot;</td><td>&quot;アキラ&quot;</td><td>&quot;10.888917&quot;</td><td>&quot;Bandai Visual …</td><td>&quot;JP&quot;</td><td>&quot;1988&quot;</td><td>124.0</td><td>&quot;日本語&quot;</td><td>&quot;Released&quot;</td><td>&quot;Akira&quot;</td><td>false</td><td>7.8</td><td>792.0</td><td>&quot;&lt;Akira_(1988_f…</td><td>5.742859</td></tr><tr><td>&quot;False&quot;</td><td>&quot;16000000&quot;</td><td>&quot;Adventure&quot;</td><td>&quot;8009&quot;</td><td>&quot;en&quot;</td><td>&quot;Highlander&quot;</td><td>&quot;16.870392&quot;</td><td>&quot;Davis-Panzer P…</td><td>&quot;GB&quot;</td><td>&quot;1986&quot;</td><td>116.0</td><td>&quot;English&quot;</td><td>&quot;Released&quot;</td><td>&quot;Highlander&quot;</td><td>false</td><td>6.8</td><td>642.0</td><td>&quot;&lt;Highlander_(f…</td><td>6.770852</td></tr><tr><td>&quot;False&quot;</td><td>&quot;13200000&quot;</td><td>&quot;Comedy&quot;</td><td>&quot;9037&quot;</td><td>&quot;en&quot;</td><td>&quot;Grease 2&quot;</td><td>&quot;14.202364&quot;</td><td>&quot;Paramount Pict…</td><td>&quot;US&quot;</td><td>&quot;1982&quot;</td><td>115.0</td><td>&quot;English&quot;</td><td>&quot;Released&quot;</td><td>&quot;Grease 2&quot;</td><td>false</td><td>4.9</td><td>185.0</td><td>&quot;&lt;Grease_2&gt;&quot;</td><td>7.181028</td></tr><tr><td>&quot;False&quot;</td><td>&quot;0&quot;</td><td>&quot;Comedy&quot;</td><td>&quot;21915&quot;</td><td>&quot;en&quot;</td><td>&quot;Booty Call&quot;</td><td>&quot;2.543626&quot;</td><td>&quot;Columbia Pictu…</td><td>&quot;US&quot;</td><td>&quot;1997&quot;</td><td>79.0</td><td>&quot;English&quot;</td><td>&quot;Released&quot;</td><td>&quot;Booty Call&quot;</td><td>false</td><td>5.6</td><td>29.0</td><td>&quot;&lt;Booty_Call&gt;&quot;</td><td>7.302332</td></tr><tr><td>&quot;False&quot;</td><td>&quot;36000000&quot;</td><td>&quot;Drama&quot;</td><td>&quot;2163&quot;</td><td>&quot;en&quot;</td><td>&quot;Breakdown&quot;</td><td>&quot;7.926621&quot;</td><td>&quot;Paramount Pict…</td><td>&quot;US&quot;</td><td>&quot;1997&quot;</td><td>95.0</td><td>&quot;English&quot;</td><td>&quot;Released&quot;</td><td>&quot;Breakdown&quot;</td><td>false</td><td>6.6</td><td>202.0</td><td>&quot;&lt;Breakdown_(19…</td><td>7.70035</td></tr><tr><td>&quot;False&quot;</td><td>&quot;36000000&quot;</td><td>&quot;Drama&quot;</td><td>&quot;11831&quot;</td><td>&quot;en&quot;</td><td>&quot;Amistad&quot;</td><td>&quot;2.263584&quot;</td><td>&quot;DreamWorks SKG…</td><td>&quot;US&quot;</td><td>&quot;1997&quot;</td><td>155.0</td><td>&quot;English&quot;</td><td>&quot;Released&quot;</td><td>&quot;Amistad&quot;</td><td>false</td><td>6.8</td><td>324.0</td><td>&quot;&lt;Amistad_(film…</td><td>7.869232</td></tr><tr><td>&hellip;</td><td>&hellip;</td><td>&hellip;</td><td>&hellip;</td><td>&hellip;</td><td>&hellip;</td><td>&hellip;</td><td>&hellip;</td><td>&hellip;</td><td>&hellip;</td><td>&hellip;</td><td>&hellip;</td><td>&hellip;</td><td>&hellip;</td><td>&hellip;</td><td>&hellip;</td><td>&hellip;</td><td>&hellip;</td><td>&hellip;</td></tr><tr><td>&quot;False&quot;</td><td>&quot;28000000&quot;</td><td>&quot;Comedy&quot;</td><td>&quot;261392&quot;</td><td>&quot;en&quot;</td><td>&quot;American Ultra…</td><td>&quot;9.534828&quot;</td><td>&quot;Lionsgate&quot;</td><td>&quot;CH&quot;</td><td>&quot;2015&quot;</td><td>96.0</td><td>&quot;English&quot;</td><td>&quot;Released&quot;</td><td>&quot;American Ultra…</td><td>false</td><td>6.0</td><td>1099.0</td><td>&quot;&lt;American_Ultr…</td><td>7.433602</td></tr><tr><td>&quot;False&quot;</td><td>&quot;6400000&quot;</td><td>&quot;Romance&quot;</td><td>&quot;118051&quot;</td><td>&quot;hi&quot;</td><td>&quot;Cocktail&quot;</td><td>&quot;7.950488&quot;</td><td>&quot;Eros Internati…</td><td>&quot;IN&quot;</td><td>&quot;2012&quot;</td><td>144.0</td><td>&quot;हिन्दी&quot;</td><td>&quot;Released&quot;</td><td>&quot;Cocktail&quot;</td><td>false</td><td>6.2</td><td>38.0</td><td>&quot;&lt;Cocktail_(201…</td><td>7.274158</td></tr><tr><td>&quot;False&quot;</td><td>&quot;15000000&quot;</td><td>&quot;Action&quot;</td><td>&quot;253450&quot;</td><td>&quot;zh&quot;</td><td>&quot;刺客聶隱娘&quot;</td><td>&quot;6.294815&quot;</td><td>&quot;Media Asia Fil…</td><td>&quot;CN&quot;</td><td>&quot;2015&quot;</td><td>105.0</td><td>&quot;普通话&quot;</td><td>&quot;Released&quot;</td><td>&quot;The Assassin&quot;</td><td>false</td><td>6.6</td><td>158.0</td><td>&quot;&lt;The_Assassin_…</td><td>5.801089</td></tr><tr><td>&quot;False&quot;</td><td>&quot;0&quot;</td><td>&quot;Documentary&quot;</td><td>&quot;373472&quot;</td><td>&quot;en&quot;</td><td>&quot;Holy Hell&quot;</td><td>&quot;1.279443&quot;</td><td>&quot;Whitewater Fil…</td><td>&quot;US&quot;</td><td>&quot;2016&quot;</td><td>100.0</td><td>&quot;English&quot;</td><td>&quot;Released&quot;</td><td>&quot;Holy Hell&quot;</td><td>false</td><td>7.1</td><td>27.0</td><td>&quot;&lt;Holy_Hell_(fi…</td><td>4.228015</td></tr><tr><td>&quot;False&quot;</td><td>&quot;0&quot;</td><td>&quot;Romance&quot;</td><td>&quot;64880&quot;</td><td>&quot;hi&quot;</td><td>&quot;Tum Bin&quot;</td><td>&quot;0.371679&quot;</td><td>&quot;Super Cassette…</td><td>&quot;IN&quot;</td><td>&quot;2001&quot;</td><td>158.0</td><td>&quot;हिन्दी&quot;</td><td>&quot;Released&quot;</td><td>&quot;Tum Bin&quot;</td><td>false</td><td>7.1</td><td>8.0</td><td>&quot;&lt;Tum_Bin&gt;&quot;</td><td>6.172309</td></tr><tr><td>&quot;False&quot;</td><td>&quot;16500000&quot;</td><td>&quot;Thriller&quot;</td><td>&quot;257440&quot;</td><td>&quot;en&quot;</td><td>&quot;Term Life&quot;</td><td>&quot;7.35578&quot;</td><td>&quot;WWE Studios&quot;</td><td>&quot;US&quot;</td><td>&quot;2016&quot;</td><td>93.0</td><td>&quot;English&quot;</td><td>&quot;Released&quot;</td><td>&quot;Term Life&quot;</td><td>false</td><td>5.7</td><td>81.0</td><td>&quot;&lt;Term_Life&gt;&quot;</td><td>4.327482</td></tr><tr><td>&quot;False&quot;</td><td>&quot;0&quot;</td><td>&quot;Drama&quot;</td><td>&quot;373476&quot;</td><td>&quot;en&quot;</td><td>&quot;Complete Unkno…</td><td>&quot;4.062516&quot;</td><td>&quot;Parts and Labo…</td><td>&quot;US&quot;</td><td>&quot;2016&quot;</td><td>90.0</td><td>&quot;English&quot;</td><td>&quot;Released&quot;</td><td>&quot;Complete Unkno…</td><td>false</td><td>4.9</td><td>47.0</td><td>&quot;&lt;Complete_Unkn…</td><td>5.272178</td></tr><tr><td>&quot;False&quot;</td><td>&quot;12823507&quot;</td><td>&quot;Action&quot;</td><td>&quot;376565&quot;</td><td>&quot;ru&quot;</td><td>&quot;Дуэлянт&quot;</td><td>&quot;2.981184&quot;</td><td>&quot;Non-Stop Produ…</td><td>&quot;RU&quot;</td><td>&quot;2016&quot;</td><td>110.0</td><td>&quot;Pусский&quot;</td><td>&quot;Released&quot;</td><td>&quot;The Duelist&quot;</td><td>false</td><td>6.0</td><td>20.0</td><td>&quot;&lt;The_Duelist_(…</td><td>6.785465</td></tr><tr><td>&quot;False&quot;</td><td>&quot;18000000&quot;</td><td>&quot;Crime&quot;</td><td>&quot;180863&quot;</td><td>&quot;en&quot;</td><td>&quot;T2 Trainspotti…</td><td>&quot;17.645877&quot;</td><td>&quot;DNA Films&quot;</td><td>&quot;GB&quot;</td><td>&quot;2017&quot;</td><td>117.0</td><td>&quot;български език…</td><td>&quot;Released&quot;</td><td>&quot;T2 Trainspotti…</td><td>false</td><td>7.1</td><td>795.0</td><td>&quot;&lt;T2_Trainspott…</td><td>7.617134</td></tr><tr><td>&quot;False&quot;</td><td>&quot;69000000&quot;</td><td>&quot;Action&quot;</td><td>&quot;339846&quot;</td><td>&quot;en&quot;</td><td>&quot;Baywatch&quot;</td><td>&quot;35.637691&quot;</td><td>&quot;Paramount Pict…</td><td>&quot;US&quot;</td><td>&quot;2017&quot;</td><td>116.0</td><td>&quot;English&quot;</td><td>&quot;Released&quot;</td><td>&quot;Baywatch&quot;</td><td>false</td><td>6.1</td><td>1829.0</td><td>&quot;&lt;Baywatch_(fil…</td><td>8.25007</td></tr><tr><td>&quot;False&quot;</td><td>&quot;10000000&quot;</td><td>&quot;War&quot;</td><td>&quot;326011&quot;</td><td>&quot;ru&quot;</td><td>&quot;Батальонъ&quot;</td><td>&quot;1.557671&quot;</td><td>&quot;Art Pictures S…</td><td>&quot;RU&quot;</td><td>&quot;2015&quot;</td><td>120.0</td><td>&quot;Pусский&quot;</td><td>&quot;Released&quot;</td><td>&quot;The Battalion&quot;</td><td>false</td><td>5.9</td><td>6.0</td><td>&quot;&lt;The_Battalion…</td><td>6.877818</td></tr><tr><td>&quot;False&quot;</td><td>&quot;100000000&quot;</td><td>&quot;Action&quot;</td><td>&quot;374720&quot;</td><td>&quot;en&quot;</td><td>&quot;Dunkirk&quot;</td><td>&quot;30.938854&quot;</td><td>&quot;Canal+&quot;</td><td>&quot;NL&quot;</td><td>&quot;2017&quot;</td><td>107.0</td><td>&quot;English&quot;</td><td>&quot;Released&quot;</td><td>&quot;Dunkirk&quot;</td><td>false</td><td>7.5</td><td>2712.0</td><td>&quot;&lt;Dunkirk_(2017…</td><td>8.715901</td></tr></tbody></table></div>"
      ],
      "text/plain": [
       "shape: (3_826, 19)\n",
       "┌───────┬───────────┬─────────┬────────┬───┬──────────────┬────────────┬────────────────┬──────────┐\n",
       "│ adult ┆ budget    ┆ genres  ┆ id     ┆ … ┆ vote_average ┆ vote_count ┆ col_to_embed   ┆ target   │\n",
       "│ ---   ┆ ---       ┆ ---     ┆ ---    ┆   ┆ ---          ┆ ---        ┆ ---            ┆ ---      │\n",
       "│ str   ┆ str       ┆ str     ┆ str    ┆   ┆ f64          ┆ f64        ┆ str            ┆ f64      │\n",
       "╞═══════╪═══════════╪═════════╪════════╪═══╪══════════════╪════════════╪════════════════╪══════════╡\n",
       "│ False ┆ 44000000  ┆ History ┆ 10858  ┆ … ┆ 7.1          ┆ 72.0       ┆ <Nixon_(film)> ┆ 7.136142 │\n",
       "│ False ┆ 0         ┆ Drama   ┆ 18215  ┆ … ┆ 4.5          ┆ 59.0       ┆ <Boxing_Helena ┆ 6.2544   │\n",
       "│       ┆           ┆         ┆        ┆   ┆              ┆            ┆ >              ┆          │\n",
       "│ False ┆ 0         ┆ Comedy  ┆ 24405  ┆ … ┆ 4.7          ┆ 22.0       ┆ <Chasers>      ┆ 6.20322  │\n",
       "│ False ┆ 4800000   ┆ Action  ┆ 40507  ┆ … ┆ 5.5          ┆ 5.0        ┆ <Original_Gang ┆ 6.479143 │\n",
       "│       ┆           ┆         ┆        ┆   ┆              ┆            ┆ stas>          ┆          │\n",
       "│ …     ┆ …         ┆ …       ┆ …      ┆ … ┆ …            ┆ …          ┆ …              ┆ …        │\n",
       "│ False ┆ 18000000  ┆ Crime   ┆ 180863 ┆ … ┆ 7.1          ┆ 795.0      ┆ <T2_Trainspott ┆ 7.617134 │\n",
       "│       ┆           ┆         ┆        ┆   ┆              ┆            ┆ ing>           ┆          │\n",
       "│ False ┆ 69000000  ┆ Action  ┆ 339846 ┆ … ┆ 6.1          ┆ 1829.0     ┆ <Baywatch_(fil ┆ 8.25007  │\n",
       "│       ┆           ┆         ┆        ┆   ┆              ┆            ┆ m)>            ┆          │\n",
       "│ False ┆ 10000000  ┆ War     ┆ 326011 ┆ … ┆ 5.9          ┆ 6.0        ┆ <The_Battalion ┆ 6.877818 │\n",
       "│       ┆           ┆         ┆        ┆   ┆              ┆            ┆ >              ┆          │\n",
       "│ False ┆ 100000000 ┆ Action  ┆ 374720 ┆ … ┆ 7.5          ┆ 2712.0     ┆ <Dunkirk_(2017 ┆ 8.715901 │\n",
       "│       ┆           ┆         ┆        ┆   ┆              ┆            ┆ _film)>        ┆          │\n",
       "└───────┴───────────┴─────────┴────────┴───┴──────────────┴────────────┴────────────────┴──────────┘"
      ]
     },
     "execution_count": 64,
     "metadata": {},
     "output_type": "execute_result"
    }
   ],
   "source": [
    "src_table.unique()"
   ]
  },
  {
   "cell_type": "code",
   "execution_count": 62,
   "metadata": {},
   "outputs": [
    {
     "data": {
      "text/html": [
       "<div><style>\n",
       ".dataframe > thead > tr > th,\n",
       ".dataframe > tbody > tr > td {\n",
       "  text-align: right;\n",
       "}\n",
       "</style>\n",
       "<small>shape: (3_826, 32)</small><table border=\"1\" class=\"dataframe\"><thead><tr><th>adult</th><th>budget</th><th>genres</th><th>id</th><th>original_language</th><th>original_title</th><th>popularity</th><th>production_companies</th><th>production_countries</th><th>release_date</th><th>runtime</th><th>spoken_languages</th><th>status</th><th>title</th><th>video</th><th>vote_average</th><th>vote_count</th><th>col_to_embed</th><th>target</th><th>type</th><th>happenedOnDate</th><th>hasWebsite</th><th>hasWeight</th><th>happenedIn</th><th>wasDestroyedOnDate</th><th>hasDuration</th><th>isLocatedIn</th><th>hasLatitude</th><th>hasLongitude</th><th>wasCreatedOnDate</th><th>hasPages</th><th>hasISBN</th></tr><tr><td>str</td><td>str</td><td>str</td><td>str</td><td>str</td><td>str</td><td>str</td><td>str</td><td>str</td><td>str</td><td>f64</td><td>str</td><td>str</td><td>str</td><td>bool</td><td>f64</td><td>f64</td><td>str</td><td>f64</td><td>str</td><td>str</td><td>str</td><td>str</td><td>str</td><td>str</td><td>str</td><td>str</td><td>str</td><td>str</td><td>str</td><td>str</td><td>str</td></tr></thead><tbody><tr><td>&quot;False&quot;</td><td>&quot;60000000&quot;</td><td>&quot;Action&quot;</td><td>&quot;949&quot;</td><td>&quot;en&quot;</td><td>&quot;Heat&quot;</td><td>&quot;17.924927&quot;</td><td>&quot;Regency Enterp…</td><td>&quot;US&quot;</td><td>&quot;1995&quot;</td><td>170.0</td><td>&quot;English&quot;</td><td>&quot;Released&quot;</td><td>&quot;Heat&quot;</td><td>false</td><td>7.7</td><td>1886.0</td><td>&quot;&lt;Heat_(1995_fi…</td><td>8.272855</td><td>&quot;&lt;wordnet_movie…</td><td>null</td><td>null</td><td>null</td><td>null</td><td>null</td><td>null</td><td>&quot;&lt;United_States…</td><td>null</td><td>null</td><td>&quot;1995-12-15^^xs…</td><td>null</td><td>null</td></tr><tr><td>&quot;False&quot;</td><td>&quot;44000000&quot;</td><td>&quot;History&quot;</td><td>&quot;10858&quot;</td><td>&quot;en&quot;</td><td>&quot;Nixon&quot;</td><td>&quot;5.092&quot;</td><td>&quot;Hollywood Pict…</td><td>&quot;US&quot;</td><td>&quot;1995&quot;</td><td>192.0</td><td>&quot;English&quot;</td><td>&quot;Released&quot;</td><td>&quot;Nixon&quot;</td><td>false</td><td>7.1</td><td>72.0</td><td>&quot;&lt;Nixon_(film)&gt;…</td><td>7.136142</td><td>&quot;&lt;wordnet_movie…</td><td>null</td><td>null</td><td>null</td><td>null</td><td>null</td><td>null</td><td>&quot;&lt;United_States…</td><td>null</td><td>null</td><td>&quot;1995-12-22^^xs…</td><td>null</td><td>null</td></tr><tr><td>&quot;False&quot;</td><td>&quot;100000000&quot;</td><td>&quot;Action&quot;</td><td>&quot;414&quot;</td><td>&quot;en&quot;</td><td>&quot;Batman Forever…</td><td>&quot;13.321354&quot;</td><td>&quot;Warner Bros.&quot;</td><td>&quot;GB&quot;</td><td>&quot;1995&quot;</td><td>121.0</td><td>&quot;English&quot;</td><td>&quot;Released&quot;</td><td>&quot;Batman Forever…</td><td>false</td><td>5.2</td><td>1529.0</td><td>&quot;&lt;Batman_Foreve…</td><td>8.527023</td><td>&quot;&lt;wordnet_movie…</td><td>null</td><td>null</td><td>null</td><td>null</td><td>null</td><td>null</td><td>&quot;&lt;United_States…</td><td>null</td><td>null</td><td>&quot;1995-06-09^^xs…</td><td>null</td><td>null</td></tr><tr><td>&quot;False&quot;</td><td>&quot;15000000&quot;</td><td>&quot;Drama&quot;</td><td>&quot;27303&quot;</td><td>&quot;en&quot;</td><td>&quot;Hideaway&quot;</td><td>&quot;8.182165&quot;</td><td>&quot;TriStar Pictur…</td><td>&quot;US&quot;</td><td>&quot;1995&quot;</td><td>103.0</td><td>&quot;English&quot;</td><td>&quot;Released&quot;</td><td>&quot;Hideaway&quot;</td><td>false</td><td>5.0</td><td>24.0</td><td>&quot;&lt;Hideaway_(199…</td><td>7.086405</td><td>&quot;&lt;wordnet_movie…</td><td>null</td><td>null</td><td>null</td><td>null</td><td>null</td><td>null</td><td>&quot;&lt;United_States…</td><td>null</td><td>null</td><td>&quot;1995-03-03^^xs…</td><td>null</td><td>null</td></tr><tr><td>&quot;False&quot;</td><td>&quot;0&quot;</td><td>&quot;Drama&quot;</td><td>&quot;29973&quot;</td><td>&quot;en&quot;</td><td>&quot;Cobb&quot;</td><td>&quot;2.583363&quot;</td><td>&quot;Regency Enterp…</td><td>&quot;US&quot;</td><td>&quot;1994&quot;</td><td>128.0</td><td>&quot;English&quot;</td><td>&quot;Released&quot;</td><td>&quot;Cobb&quot;</td><td>false</td><td>6.1</td><td>29.0</td><td>&quot;&lt;Cobb_(film)&gt;&quot;</td><td>6.003281</td><td>&quot;&lt;wordnet_movie…</td><td>null</td><td>null</td><td>null</td><td>null</td><td>null</td><td>null</td><td>&quot;&lt;United_States…</td><td>null</td><td>null</td><td>&quot;1994-12-02^^xs…</td><td>null</td><td>null</td></tr><tr><td>&quot;False&quot;</td><td>&quot;0&quot;</td><td>&quot;Action&quot;</td><td>&quot;11853&quot;</td><td>&quot;en&quot;</td><td>&quot;Bad Girls&quot;</td><td>&quot;14.644772&quot;</td><td>&quot;Twentieth Cent…</td><td>&quot;US&quot;</td><td>&quot;1994&quot;</td><td>99.0</td><td>&quot;English&quot;</td><td>&quot;Released&quot;</td><td>&quot;Bad Girls&quot;</td><td>false</td><td>4.6</td><td>61.0</td><td>&quot;&lt;Bad_Girls_(19…</td><td>7.182997</td><td>&quot;&lt;wordnet_movie…</td><td>null</td><td>null</td><td>null</td><td>null</td><td>null</td><td>null</td><td>&quot;&lt;United_States…</td><td>null</td><td>null</td><td>&quot;1994-04-22^^xs…</td><td>null</td><td>null</td></tr><tr><td>&quot;False&quot;</td><td>&quot;9000000&quot;</td><td>&quot;Thriller&quot;</td><td>&quot;10909&quot;</td><td>&quot;en&quot;</td><td>&quot;Kalifornia&quot;</td><td>&quot;8.4337&quot;</td><td>&quot;Propaganda Fil…</td><td>&quot;US&quot;</td><td>&quot;1993&quot;</td><td>117.0</td><td>&quot;English&quot;</td><td>&quot;Released&quot;</td><td>&quot;Kalifornia&quot;</td><td>false</td><td>6.5</td><td>209.0</td><td>&quot;&lt;Kalifornia&gt;&quot;</td><td>6.379347</td><td>&quot;&lt;wordnet_movie…</td><td>null</td><td>null</td><td>null</td><td>null</td><td>null</td><td>null</td><td>&quot;&lt;United_States…</td><td>null</td><td>null</td><td>&quot;1993-08-27^^xs…</td><td>null</td><td>null</td></tr><tr><td>&quot;False&quot;</td><td>&quot;2600000&quot;</td><td>&quot;Animation&quot;</td><td>&quot;10895&quot;</td><td>&quot;en&quot;</td><td>&quot;Pinocchio&quot;</td><td>&quot;14.202284&quot;</td><td>&quot;RKO Radio Pict…</td><td>&quot;US&quot;</td><td>&quot;1940&quot;</td><td>88.0</td><td>&quot;English&quot;</td><td>&quot;Released&quot;</td><td>&quot;Pinocchio&quot;</td><td>false</td><td>6.9</td><td>1412.0</td><td>&quot;&lt;Pinocchio&gt;&quot;</td><td>7.925828</td><td>null</td><td>null</td><td>null</td><td>null</td><td>null</td><td>null</td><td>null</td><td>null</td><td>null</td><td>null</td><td>null</td><td>null</td><td>null</td></tr><tr><td>&quot;False&quot;</td><td>&quot;14000000&quot;</td><td>&quot;Romance&quot;</td><td>&quot;114&quot;</td><td>&quot;en&quot;</td><td>&quot;Pretty Woman&quot;</td><td>&quot;13.348451&quot;</td><td>&quot;Touchstone Pic…</td><td>&quot;US&quot;</td><td>&quot;1990&quot;</td><td>119.0</td><td>&quot;English&quot;</td><td>&quot;Released&quot;</td><td>&quot;Pretty Woman&quot;</td><td>false</td><td>7.0</td><td>1807.0</td><td>&quot;&lt;Pretty_Woman&gt;…</td><td>8.665581</td><td>&quot;&lt;wordnet_movie…</td><td>null</td><td>null</td><td>null</td><td>null</td><td>null</td><td>null</td><td>&quot;&lt;United_States…</td><td>null</td><td>null</td><td>&quot;1990-03-23^^xs…</td><td>null</td><td>null</td></tr><tr><td>&quot;False&quot;</td><td>&quot;0&quot;</td><td>&quot;Drama&quot;</td><td>&quot;5801&quot;</td><td>&quot;bn&quot;</td><td>&quot;পথের পাঁচালী&quot;</td><td>&quot;3.900709&quot;</td><td>&quot;Government of …</td><td>&quot;IN&quot;</td><td>&quot;1955&quot;</td><td>125.0</td><td>&quot;বাংলা&quot;</td><td>&quot;Released&quot;</td><td>&quot;Pather Panchal…</td><td>false</td><td>7.9</td><td>63.0</td><td>&quot;&lt;Pather_Pancha…</td><td>5.72946</td><td>&quot;&lt;wordnet_movie…</td><td>null</td><td>null</td><td>null</td><td>null</td><td>null</td><td>null</td><td>null</td><td>null</td><td>null</td><td>&quot;1955-08-26^^xs…</td><td>null</td><td>null</td></tr><tr><td>&quot;False&quot;</td><td>&quot;200000&quot;</td><td>&quot;Comedy&quot;</td><td>&quot;10218&quot;</td><td>&quot;en&quot;</td><td>&quot;Swingers&quot;</td><td>&quot;6.578025&quot;</td><td>&quot;Miramax Films&quot;</td><td>&quot;US&quot;</td><td>&quot;1996&quot;</td><td>94.0</td><td>&quot;English&quot;</td><td>&quot;Released&quot;</td><td>&quot;Swingers&quot;</td><td>false</td><td>6.8</td><td>255.0</td><td>&quot;&lt;Swingers_(199…</td><td>6.653784</td><td>&quot;&lt;wordnet_movie…</td><td>null</td><td>null</td><td>null</td><td>null</td><td>null</td><td>null</td><td>&quot;&lt;United_States…</td><td>null</td><td>null</td><td>&quot;1996-10-18^^xs…</td><td>null</td><td>null</td></tr><tr><td>&quot;False&quot;</td><td>&quot;1200000&quot;</td><td>&quot;Crime&quot;</td><td>&quot;500&quot;</td><td>&quot;en&quot;</td><td>&quot;Reservoir Dogs…</td><td>&quot;12.22034&quot;</td><td>&quot;Live Entertain…</td><td>&quot;US&quot;</td><td>&quot;1992&quot;</td><td>99.0</td><td>&quot;English&quot;</td><td>&quot;Released&quot;</td><td>&quot;Reservoir Dogs…</td><td>false</td><td>8.1</td><td>3821.0</td><td>&quot;&lt;Reservoir_Dog…</td><td>7.166164</td><td>&quot;&lt;wordnet_movie…</td><td>null</td><td>null</td><td>null</td><td>null</td><td>null</td><td>null</td><td>&quot;&lt;United_States…</td><td>null</td><td>null</td><td>&quot;1992-01-21^^xs…</td><td>null</td><td>null</td></tr><tr><td>&hellip;</td><td>&hellip;</td><td>&hellip;</td><td>&hellip;</td><td>&hellip;</td><td>&hellip;</td><td>&hellip;</td><td>&hellip;</td><td>&hellip;</td><td>&hellip;</td><td>&hellip;</td><td>&hellip;</td><td>&hellip;</td><td>&hellip;</td><td>&hellip;</td><td>&hellip;</td><td>&hellip;</td><td>&hellip;</td><td>&hellip;</td><td>&hellip;</td><td>&hellip;</td><td>&hellip;</td><td>&hellip;</td><td>&hellip;</td><td>&hellip;</td><td>&hellip;</td><td>&hellip;</td><td>&hellip;</td><td>&hellip;</td><td>&hellip;</td><td>&hellip;</td><td>&hellip;</td></tr><tr><td>&quot;False&quot;</td><td>&quot;0&quot;</td><td>&quot;Science Fictio…</td><td>&quot;290370&quot;</td><td>&quot;en&quot;</td><td>&quot;Mutant World&quot;</td><td>&quot;1.044936&quot;</td><td>&quot;Nomadic Pictur…</td><td>&quot;CA&quot;</td><td>&quot;2014&quot;</td><td>85.0</td><td>&quot;&quot;</td><td>&quot;Released&quot;</td><td>&quot;Mutant World&quot;</td><td>false</td><td>2.6</td><td>9.0</td><td>&quot;&lt;Mutant_World&gt;…</td><td>6.176091</td><td>null</td><td>null</td><td>null</td><td>null</td><td>null</td><td>null</td><td>null</td><td>null</td><td>null</td><td>null</td><td>null</td><td>null</td><td>null</td></tr><tr><td>&quot;False&quot;</td><td>&quot;20000000&quot;</td><td>&quot;Adventure&quot;</td><td>&quot;272878&quot;</td><td>&quot;en&quot;</td><td>&quot;Max&quot;</td><td>&quot;7.987747&quot;</td><td>&quot;Sunswept Enter…</td><td>&quot;US&quot;</td><td>&quot;2015&quot;</td><td>111.0</td><td>&quot;English&quot;</td><td>&quot;Released&quot;</td><td>&quot;Max&quot;</td><td>false</td><td>6.8</td><td>282.0</td><td>&quot;&lt;Max_(2015_fil…</td><td>7.643129</td><td>&quot;&lt;wordnet_movie…</td><td>null</td><td>null</td><td>null</td><td>null</td><td>null</td><td>null</td><td>&quot;&lt;United_States…</td><td>null</td><td>null</td><td>&quot;2015-06-26^^xs…</td><td>null</td><td>null</td></tr><tr><td>&quot;False&quot;</td><td>&quot;19500000&quot;</td><td>&quot;Action&quot;</td><td>&quot;44977&quot;</td><td>&quot;hi&quot;</td><td>&quot;धूम ३&quot;</td><td>&quot;5.326716&quot;</td><td>&quot;Yash Raj Films…</td><td>&quot;IN&quot;</td><td>&quot;2013&quot;</td><td>172.0</td><td>&quot;हिन्दी&quot;</td><td>&quot;Released&quot;</td><td>&quot;Dhoom 3&quot;</td><td>false</td><td>6.0</td><td>86.0</td><td>&quot;&lt;Dhoom_3&gt;&quot;</td><td>7.959041</td><td>&quot;&lt;wordnet_movie…</td><td>null</td><td>null</td><td>null</td><td>null</td><td>null</td><td>null</td><td>null</td><td>null</td><td>null</td><td>&quot;2013-12-20^^xs…</td><td>null</td><td>null</td></tr><tr><td>&quot;False&quot;</td><td>&quot;500000&quot;</td><td>&quot;Drama&quot;</td><td>&quot;69407&quot;</td><td>&quot;en&quot;</td><td>&quot;Varalaru&quot;</td><td>&quot;0.482527&quot;</td><td>&quot;Nic Arts&quot;</td><td>&quot;IN&quot;</td><td>&quot;2006&quot;</td><td>157.0</td><td>&quot;தமிழ்&quot;</td><td>&quot;Released&quot;</td><td>&quot;Varalaru&quot;</td><td>false</td><td>6.1</td><td>6.0</td><td>&quot;&lt;Varalaru&gt;&quot;</td><td>5.69897</td><td>&quot;&lt;wordnet_movie…</td><td>null</td><td>null</td><td>null</td><td>null</td><td>null</td><td>null</td><td>null</td><td>null</td><td>null</td><td>&quot;2006-10-20^^xs…</td><td>null</td><td>null</td></tr><tr><td>&quot;False&quot;</td><td>&quot;5980000&quot;</td><td>&quot;Thriller&quot;</td><td>&quot;398535&quot;</td><td>&quot;hi&quot;</td><td>&quot;उड़ता पंजाब&quot;</td><td>&quot;4.195845&quot;</td><td>&quot;Balaji Motion …</td><td>&quot;IN&quot;</td><td>&quot;2016&quot;</td><td>149.0</td><td>&quot;हिन्दी&quot;</td><td>&quot;Released&quot;</td><td>&quot;Udta Punjab&quot;</td><td>false</td><td>7.4</td><td>32.0</td><td>&quot;&lt;Udta_Punjab&gt;&quot;</td><td>7.173186</td><td>&quot;&lt;wordnet_movie…</td><td>null</td><td>null</td><td>null</td><td>null</td><td>null</td><td>null</td><td>null</td><td>null</td><td>null</td><td>&quot;2016-06-17^^xs…</td><td>null</td><td>null</td></tr><tr><td>&quot;False&quot;</td><td>&quot;10000000&quot;</td><td>&quot;Drama&quot;</td><td>&quot;402298&quot;</td><td>&quot;en&quot;</td><td>&quot;Denial&quot;</td><td>&quot;10.754997&quot;</td><td>&quot;BBC Films&quot;</td><td>&quot;GB&quot;</td><td>&quot;2016&quot;</td><td>109.0</td><td>&quot;English&quot;</td><td>&quot;Released&quot;</td><td>&quot;Denial&quot;</td><td>false</td><td>6.5</td><td>161.0</td><td>&quot;&lt;Denial_(2016_…</td><td>6.609967</td><td>&quot;&lt;wordnet_movie…</td><td>null</td><td>null</td><td>null</td><td>null</td><td>null</td><td>null</td><td>null</td><td>null</td><td>null</td><td>&quot;2016-09-11^^xs…</td><td>null</td><td>null</td></tr><tr><td>&quot;False&quot;</td><td>&quot;0&quot;</td><td>&quot;Drama&quot;</td><td>&quot;16766&quot;</td><td>&quot;ja&quot;</td><td>&quot;日本沈没&quot;</td><td>&quot;1.187029&quot;</td><td>&quot;&quot;</td><td>&quot;JP&quot;</td><td>&quot;2006&quot;</td><td>135.0</td><td>&quot;日本語&quot;</td><td>&quot;Released&quot;</td><td>&quot;Japan Sinks&quot;</td><td>false</td><td>4.2</td><td>9.0</td><td>&quot;&lt;Japan_Sinks&gt;&quot;</td><td>7.677935</td><td>null</td><td>null</td><td>null</td><td>null</td><td>null</td><td>null</td><td>null</td><td>null</td><td>null</td><td>null</td><td>null</td><td>null</td><td>null</td></tr><tr><td>&quot;False&quot;</td><td>&quot;24000000&quot;</td><td>&quot;Drama&quot;</td><td>&quot;393457&quot;</td><td>&quot;en&quot;</td><td>&quot;Fences&quot;</td><td>&quot;11.599716&quot;</td><td>&quot;Paramount Pict…</td><td>&quot;US&quot;</td><td>&quot;2016&quot;</td><td>139.0</td><td>&quot;English&quot;</td><td>&quot;Released&quot;</td><td>&quot;Fences&quot;</td><td>false</td><td>6.7</td><td>750.0</td><td>&quot;&lt;Fences_(film)…</td><td>7.808985</td><td>&quot;&lt;wordnet_movie…</td><td>null</td><td>null</td><td>null</td><td>null</td><td>null</td><td>null</td><td>&quot;&lt;United_States…</td><td>null</td><td>null</td><td>&quot;2016-12-15^^xs…</td><td>null</td><td>null</td></tr><tr><td>&quot;False&quot;</td><td>&quot;0&quot;</td><td>&quot;Drama&quot;</td><td>&quot;371447&quot;</td><td>&quot;en&quot;</td><td>&quot;Lovesong&quot;</td><td>&quot;2.605017&quot;</td><td>&quot;Gamechanger Fi…</td><td>&quot;US&quot;</td><td>&quot;2017&quot;</td><td>85.0</td><td>&quot;English&quot;</td><td>&quot;Released&quot;</td><td>&quot;Lovesong&quot;</td><td>false</td><td>6.4</td><td>30.0</td><td>&quot;&lt;Lovesong_(fil…</td><td>3.826075</td><td>&quot;&lt;wordnet_movie…</td><td>null</td><td>null</td><td>null</td><td>null</td><td>null</td><td>null</td><td>&quot;&lt;United_States…</td><td>null</td><td>null</td><td>&quot;2016-01-24^^xs…</td><td>null</td><td>null</td></tr><tr><td>&quot;False&quot;</td><td>&quot;0&quot;</td><td>&quot;Adventure&quot;</td><td>&quot;85548&quot;</td><td>&quot;en&quot;</td><td>&quot;Windwalker&quot;</td><td>&quot;1.178642&quot;</td><td>&quot;Windwalker&quot;</td><td>&quot;US&quot;</td><td>&quot;1980&quot;</td><td>108.0</td><td>&quot;&quot;</td><td>&quot;Released&quot;</td><td>&quot;Windwalker&quot;</td><td>false</td><td>4.9</td><td>7.0</td><td>&quot;&lt;Windwalker_(f…</td><td>1.255273</td><td>&quot;&lt;wordnet_movie…</td><td>null</td><td>null</td><td>null</td><td>null</td><td>null</td><td>&quot;6480^^&lt;s&gt;&quot;</td><td>&quot;&lt;United_States…</td><td>null</td><td>null</td><td>&quot;1981-##-##^^xs…</td><td>null</td><td>null</td></tr><tr><td>&quot;False&quot;</td><td>&quot;30000000&quot;</td><td>&quot;Action&quot;</td><td>&quot;341013&quot;</td><td>&quot;en&quot;</td><td>&quot;Atomic Blonde&quot;</td><td>&quot;14.455104&quot;</td><td>&quot;Denver and Del…</td><td>&quot;SE&quot;</td><td>&quot;2017&quot;</td><td>115.0</td><td>&quot;svenska&quot;</td><td>&quot;Released&quot;</td><td>&quot;Atomic Blonde&quot;</td><td>false</td><td>6.1</td><td>748.0</td><td>&quot;&lt;Atomic_Blonde…</td><td>7.954281</td><td>&quot;&lt;wordnet_movie…</td><td>null</td><td>null</td><td>null</td><td>null</td><td>null</td><td>null</td><td>&quot;&lt;United_States…</td><td>null</td><td>null</td><td>&quot;2017-03-12^^xs…</td><td>null</td><td>null</td></tr><tr><td>&quot;False&quot;</td><td>&quot;0&quot;</td><td>&quot;Drama&quot;</td><td>&quot;429200&quot;</td><td>&quot;en&quot;</td><td>&quot;Good Time&quot;</td><td>&quot;5.798555&quot;</td><td>&quot;Rhea Films&quot;</td><td>&quot;US&quot;</td><td>&quot;2017&quot;</td><td>99.0</td><td>&quot;English&quot;</td><td>&quot;Post Productio…</td><td>&quot;Good Time&quot;</td><td>false</td><td>7.3</td><td>46.0</td><td>&quot;&lt;Good_Time_(fi…</td><td>7.037157</td><td>&quot;&lt;wordnet_movie…</td><td>null</td><td>null</td><td>null</td><td>null</td><td>null</td><td>null</td><td>&quot;&lt;United_States…</td><td>null</td><td>null</td><td>&quot;2017-05-25^^xs…</td><td>null</td><td>null</td></tr></tbody></table></div>"
      ],
      "text/plain": [
       "shape: (3_826, 32)\n",
       "┌───────┬───────────┬───────────┬────────┬───┬──────────────┬─────────────────┬──────────┬─────────┐\n",
       "│ adult ┆ budget    ┆ genres    ┆ id     ┆ … ┆ hasLongitude ┆ wasCreatedOnDat ┆ hasPages ┆ hasISBN │\n",
       "│ ---   ┆ ---       ┆ ---       ┆ ---    ┆   ┆ ---          ┆ e               ┆ ---      ┆ ---     │\n",
       "│ str   ┆ str       ┆ str       ┆ str    ┆   ┆ str          ┆ ---             ┆ str      ┆ str     │\n",
       "│       ┆           ┆           ┆        ┆   ┆              ┆ str             ┆          ┆         │\n",
       "╞═══════╪═══════════╪═══════════╪════════╪═══╪══════════════╪═════════════════╪══════════╪═════════╡\n",
       "│ False ┆ 60000000  ┆ Action    ┆ 949    ┆ … ┆ null         ┆ 1995-12-15^^xsd ┆ null     ┆ null    │\n",
       "│       ┆           ┆           ┆        ┆   ┆              ┆ :date           ┆          ┆         │\n",
       "│ False ┆ 44000000  ┆ History   ┆ 10858  ┆ … ┆ null         ┆ 1995-12-22^^xsd ┆ null     ┆ null    │\n",
       "│       ┆           ┆           ┆        ┆   ┆              ┆ :date           ┆          ┆         │\n",
       "│ False ┆ 100000000 ┆ Action    ┆ 414    ┆ … ┆ null         ┆ 1995-06-09^^xsd ┆ null     ┆ null    │\n",
       "│       ┆           ┆           ┆        ┆   ┆              ┆ :date           ┆          ┆         │\n",
       "│ False ┆ 15000000  ┆ Drama     ┆ 27303  ┆ … ┆ null         ┆ 1995-03-03^^xsd ┆ null     ┆ null    │\n",
       "│       ┆           ┆           ┆        ┆   ┆              ┆ :date           ┆          ┆         │\n",
       "│ …     ┆ …         ┆ …         ┆ …      ┆ … ┆ …            ┆ …               ┆ …        ┆ …       │\n",
       "│ False ┆ 0         ┆ Drama     ┆ 371447 ┆ … ┆ null         ┆ 2016-01-24^^xsd ┆ null     ┆ null    │\n",
       "│       ┆           ┆           ┆        ┆   ┆              ┆ :date           ┆          ┆         │\n",
       "│ False ┆ 0         ┆ Adventure ┆ 85548  ┆ … ┆ null         ┆ 1981-##-##^^xsd ┆ null     ┆ null    │\n",
       "│       ┆           ┆           ┆        ┆   ┆              ┆ :date           ┆          ┆         │\n",
       "│ False ┆ 30000000  ┆ Action    ┆ 341013 ┆ … ┆ null         ┆ 2017-03-12^^xsd ┆ null     ┆ null    │\n",
       "│       ┆           ┆           ┆        ┆   ┆              ┆ :date           ┆          ┆         │\n",
       "│ False ┆ 0         ┆ Drama     ┆ 429200 ┆ … ┆ null         ┆ 2017-05-25^^xsd ┆ null     ┆ null    │\n",
       "│       ┆           ┆           ┆        ┆   ┆              ┆ :date           ┆          ┆         │\n",
       "└───────┴───────────┴───────────┴────────┴───┴──────────────┴─────────────────┴──────────┴─────────┘"
      ]
     },
     "execution_count": 62,
     "metadata": {},
     "output_type": "execute_result"
    }
   ],
   "source": [
    "execute_join(src_table, cand_table, \n",
    "             left_on=cand_join.left_on,\n",
    "             right_on=cand_join.right_on,\n",
    "             dedup=True\n",
    "             )"
   ]
  },
  {
   "cell_type": "code",
   "execution_count": null,
   "metadata": {},
   "outputs": [],
   "source": []
  }
 ],
 "metadata": {
  "kernelspec": {
   "display_name": "bench",
   "language": "python",
   "name": "python3"
  },
  "language_info": {
   "codemirror_mode": {
    "name": "ipython",
    "version": 3
   },
   "file_extension": ".py",
   "mimetype": "text/x-python",
   "name": "python",
   "nbconvert_exporter": "python",
   "pygments_lexer": "ipython3",
   "version": "3.10.10"
  },
  "orig_nbformat": 4
 },
 "nbformat": 4,
 "nbformat_minor": 2
}
