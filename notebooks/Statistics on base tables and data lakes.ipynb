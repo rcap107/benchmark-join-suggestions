{
 "cells": [
  {
   "attachments": {},
   "cell_type": "markdown",
   "metadata": {},
   "source": [
    "# Studying the content of the YADL variants"
   ]
  },
  {
   "attachments": {},
   "cell_type": "markdown",
   "metadata": {},
   "source": [
    "This notebook is used to produce some statistics on the tables stored in YADL and evaluate the main differences between\n",
    "YADL variants. "
   ]
  },
  {
   "cell_type": "code",
   "execution_count": 1,
   "metadata": {},
   "outputs": [
    {
     "name": "stdout",
     "output_type": "stream",
     "text": [
      "/home/soda/rcappuzz/work/benchmark-join-suggestions\n"
     ]
    }
   ],
   "source": [
    "cd .."
   ]
  },
  {
   "cell_type": "code",
   "execution_count": 44,
   "metadata": {},
   "outputs": [],
   "source": [
    "import polars as pl\n",
    "import pandas as pd\n",
    "import json\n",
    "from pathlib import Path\n",
    "from tqdm import tqdm\n",
    "import matplotlib.pyplot as plt\n",
    "import seaborn as sns\n",
    "from matplotlib.colors import LogNorm, NoNorm\n",
    "norm =  LogNorm()"
   ]
  },
  {
   "cell_type": "code",
   "execution_count": 3,
   "metadata": {},
   "outputs": [],
   "source": [
    "metadata_dir = Path(\"data/metadata\")"
   ]
  },
  {
   "attachments": {},
   "cell_type": "markdown",
   "metadata": {},
   "source": [
    "Iterating over all tables in each YADL variant, then saving both the aggregate and complete results in dataframes. "
   ]
  },
  {
   "cell_type": "code",
   "execution_count": 54,
   "metadata": {},
   "outputs": [
    {
     "name": "stdout",
     "output_type": "stream",
     "text": [
      "wordnet_big\n"
     ]
    },
    {
     "name": "stderr",
     "output_type": "stream",
     "text": [
      "  0%|          | 0/4080 [00:00<?, ?it/s]"
     ]
    },
    {
     "name": "stderr",
     "output_type": "stream",
     "text": [
      "100%|██████████| 4080/4080 [00:35<00:00, 116.34it/s]\n"
     ]
    },
    {
     "name": "stdout",
     "output_type": "stream",
     "text": [
      "wordnet_big_num_cp\n"
     ]
    },
    {
     "name": "stderr",
     "output_type": "stream",
     "text": [
      "100%|██████████| 4062/4062 [00:31<00:00, 130.42it/s]\n"
     ]
    },
    {
     "name": "stdout",
     "output_type": "stream",
     "text": [
      "wordnet_cp_fx\n"
     ]
    },
    {
     "name": "stderr",
     "output_type": "stream",
     "text": [
      "100%|██████████| 1669/1669 [00:38<00:00, 43.86it/s] \n"
     ]
    },
    {
     "name": "stdout",
     "output_type": "stream",
     "text": [
      "wordnet_cp_big_fx\n"
     ]
    },
    {
     "name": "stderr",
     "output_type": "stream",
     "text": [
      "100%|██████████| 3022/3022 [00:41<00:00, 73.69it/s] \n"
     ]
    }
   ],
   "source": [
    "avg_df = []\n",
    "all_stats = []\n",
    "# variants = [\"wordnet_cp_fx\"]\n",
    "variants = [\"wordnet_big\", \"wordnet_big_num_cp\", \"wordnet_cp_fx\" ,\"wordnet_cp_big_fx\"]\n",
    "for variant in variants:\n",
    "    print(variant)\n",
    "    total_files = sum([1 for _ in Path(metadata_dir, variant).glob(\"**/*.json\")])\n",
    "    # print(f\"Total_files: {total_files}\")\n",
    "    if total_files == 0:\n",
    "        print(f\"WARNING: no metadata found for variant {variant} \")\n",
    "        continue\n",
    "    mdata_files = Path(metadata_dir, variant).glob(\"**/*.json\")\n",
    "    total_size = 0\n",
    "    list_dicts = []\n",
    "    for f in tqdm(mdata_files, total=total_files):\n",
    "        with open(f, \"r\") as fp:\n",
    "            mdata = json.load(fp)\n",
    "            table_path = Path(mdata[\"full_path\"])\n",
    "            file_size = table_path.stat().st_size\n",
    "            total_size += file_size\n",
    "            \n",
    "            table = pl.read_parquet(table_path)\n",
    "            if table.shape[0] == 1:\n",
    "                print(f\"Skipped tab. {table_path}\")\n",
    "                continue\n",
    "            subj_avg = table.groupby(\"subject\").count().mean()[\"count\"].item()\n",
    "            subj_median = table.groupby(\"subject\").count().median()[\"count\"].item()\n",
    "            cat_feat = 0\n",
    "            num_feat = 0\n",
    "            for col, typ in table.schema.items():\n",
    "                if typ == pl.Utf8:\n",
    "                    cat_feat += 1\n",
    "                else:\n",
    "                    num_feat += 1\n",
    "\n",
    "            dd = {\n",
    "                \"variant\": variant,\n",
    "                \"table_name\": table_path.stem,\n",
    "                \"num_rows\": table.shape[0],\n",
    "                \"num_cols\": table.shape[1],\n",
    "                \"file_size\": file_size,\n",
    "                \"subj_avg\": subj_avg,\n",
    "                \"subj_median\": subj_median,\n",
    "                \"cat_feat\": cat_feat,\n",
    "                \"num_feat\": num_feat,\n",
    "            }\n",
    "            list_dicts.append(dd)\n",
    "            \n",
    "    df_stat = pl.from_dicts(list_dicts)\n",
    "    avg_stats = df_stat.select(\n",
    "        pl.lit(variant).alias(\"Variant\"),\n",
    "        pl.col(\"num_rows\").mean().alias(\"avg_num_rows\"),\n",
    "        pl.col(\"num_rows\").median().alias(\"median_num_rows\"),\n",
    "        pl.col(\"num_rows\").max().alias(\"max_num_rows\"),\n",
    "        pl.col(\"num_rows\").min().alias(\"min_num_rows\"),\n",
    "        pl.col(\"num_cols\").max().alias(\"max_num_cols\"), \n",
    "        pl.col(\"num_cols\").min().alias(\"min_num_cols\"), \n",
    "        pl.col(\"file_size\").mean().alias(\"avg_file_size\")/1e6,\n",
    "        pl.col(\"table_name\").count().alias(\"num_tables\"),\n",
    "        pl.lit(total_size).alias(\"total_size\")/1e6,\n",
    "        pl.col(\"subj_avg\").mean(),\n",
    "        pl.col(\"subj_median\").mean(),\n",
    "        pl.col(\"cat_feat\").mean(),\n",
    "        pl.col(\"num_feat\").mean(),\n",
    "    )   \n",
    "    avg_df.append(avg_stats)\n",
    "    all_stats.append(df_stat)\n",
    "all_stat_variants = pl.concat(all_stats)\n",
    "all_avg_variants = pl.concat(avg_df)"
   ]
  },
  {
   "cell_type": "code",
   "execution_count": 53,
   "metadata": {},
   "outputs": [
    {
     "data": {
      "text/plain": [
       "[shape: (1, 14)\n",
       " ┌──────────┬────────────┬────────────┬────────────┬───┬──────────┬───────────┬──────────┬──────────┐\n",
       " │ Variant  ┆ avg_num_ro ┆ median_num ┆ max_num_ro ┆ … ┆ subj_avg ┆ subj_medi ┆ cat_feat ┆ num_feat │\n",
       " │ ---      ┆ ws         ┆ _rows      ┆ ws         ┆   ┆ ---      ┆ an        ┆ ---      ┆ ---      │\n",
       " │ str      ┆ ---        ┆ ---        ┆ ---        ┆   ┆ f64      ┆ ---       ┆ f64      ┆ f64      │\n",
       " │          ┆ f64        ┆ f64        ┆ i64        ┆   ┆          ┆ f64       ┆          ┆          │\n",
       " ╞══════════╪════════════╪════════════╪════════════╪═══╪══════════╪═══════════╪══════════╪══════════╡\n",
       " │ wordnet_ ┆ 16031.7384 ┆ 164.0      ┆ 11631285   ┆ … ┆ 16.22432 ┆ 5.095711  ┆ 4.74902  ┆ 0.0      │\n",
       " │ big      ┆ 8          ┆            ┆            ┆   ┆          ┆           ┆          ┆          │\n",
       " └──────────┴────────────┴────────────┴────────────┴───┴──────────┴───────────┴──────────┴──────────┘,\n",
       " shape: (1, 14)\n",
       " ┌─────────┬────────────┬────────────┬────────────┬───┬───────────┬───────────┬──────────┬──────────┐\n",
       " │ Variant ┆ avg_num_ro ┆ median_num ┆ max_num_ro ┆ … ┆ subj_avg  ┆ subj_medi ┆ cat_feat ┆ num_feat │\n",
       " │ ---     ┆ ws         ┆ _rows      ┆ ws         ┆   ┆ ---       ┆ an        ┆ ---      ┆ ---      │\n",
       " │ str     ┆ ---        ┆ ---        ┆ ---        ┆   ┆ f64       ┆ ---       ┆ f64      ┆ f64      │\n",
       " │         ┆ f64        ┆ f64        ┆ i64        ┆   ┆           ┆ f64       ┆          ┆          │\n",
       " ╞═════════╪════════════╪════════════╪════════════╪═══╪═══════════╪═══════════╪══════════╪══════════╡\n",
       " │ wordnet ┆ 8131.58936 ┆ 140.0      ┆ 4042884    ┆ … ┆ 24.545442 ┆ 12.415682 ┆ 3.455441 ┆ 1.285574 │\n",
       " │ _big_nu ┆ 5          ┆            ┆            ┆   ┆           ┆           ┆          ┆          │\n",
       " │ m_cp    ┆            ┆            ┆            ┆   ┆           ┆           ┆          ┆          │\n",
       " └─────────┴────────────┴────────────┴────────────┴───┴───────────┴───────────┴──────────┴──────────┘,\n",
       " shape: (1, 14)\n",
       " ┌──────────┬────────────┬────────────┬────────────┬───┬──────────┬───────────┬──────────┬──────────┐\n",
       " │ Variant  ┆ avg_num_ro ┆ median_num ┆ max_num_ro ┆ … ┆ subj_avg ┆ subj_medi ┆ cat_feat ┆ num_feat │\n",
       " │ ---      ┆ ws         ┆ _rows      ┆ ws         ┆   ┆ ---      ┆ an        ┆ ---      ┆ ---      │\n",
       " │ str      ┆ ---        ┆ ---        ┆ ---        ┆   ┆ f64      ┆ ---       ┆ f64      ┆ f64      │\n",
       " │          ┆ f64        ┆ f64        ┆ i64        ┆   ┆          ┆ f64       ┆          ┆          │\n",
       " ╞══════════╪════════════╪════════════╪════════════╪═══╪══════════╪═══════════╪══════════╪══════════╡\n",
       " │ wordnet_ ┆ 46766.7735 ┆ 4476.0     ┆ 2163064    ┆ … ┆ 1.732898 ┆ 1.227681  ┆ 3.478131 ┆ 0.677052 │\n",
       " │ cp_fx    ┆ 17         ┆            ┆            ┆   ┆          ┆           ┆          ┆          │\n",
       " └──────────┴────────────┴────────────┴────────────┴───┴──────────┴───────────┴──────────┴──────────┘,\n",
       " shape: (1, 14)\n",
       " ┌──────────┬────────────┬────────────┬────────────┬───┬──────────┬───────────┬──────────┬──────────┐\n",
       " │ Variant  ┆ avg_num_ro ┆ median_num ┆ max_num_ro ┆ … ┆ subj_avg ┆ subj_medi ┆ cat_feat ┆ num_feat │\n",
       " │ ---      ┆ ws         ┆ _rows      ┆ ws         ┆   ┆ ---      ┆ an        ┆ ---      ┆ ---      │\n",
       " │ str      ┆ ---        ┆ ---        ┆ ---        ┆   ┆ f64      ┆ ---       ┆ f64      ┆ f64      │\n",
       " │          ┆ f64        ┆ f64        ┆ i64        ┆   ┆          ┆ f64       ┆          ┆          │\n",
       " ╞══════════╪════════════╪════════════╪════════════╪═══╪══════════╪═══════════╪══════════╪══════════╡\n",
       " │ wordnet_ ┆ 24624.0612 ┆ 4041.0     ┆ 3779784    ┆ … ┆ 1.610897 ┆ 1.151224  ┆ 3.401721 ┆ 0.754798 │\n",
       " │ cp_big_f ┆ 18         ┆            ┆            ┆   ┆          ┆           ┆          ┆          │\n",
       " │ x        ┆            ┆            ┆            ┆   ┆          ┆           ┆          ┆          │\n",
       " └──────────┴────────────┴────────────┴────────────┴───┴──────────┴───────────┴──────────┴──────────┘]"
      ]
     },
     "execution_count": 53,
     "metadata": {},
     "output_type": "execute_result"
    }
   ],
   "source": [
    "avg_df"
   ]
  },
  {
   "attachments": {},
   "cell_type": "markdown",
   "metadata": {},
   "source": [
    "Printing the most frequenty types. "
   ]
  },
  {
   "cell_type": "code",
   "execution_count": 7,
   "metadata": {},
   "outputs": [
    {
     "name": "stdout",
     "output_type": "stream",
     "text": [
      "Rank       Binary                                   Wordnet\n",
      "1          yago_binary_isCitizenOf                  yagowordnet_wordnet_person\n",
      "2          yago_binary_hasGender                    person_playsFor_isAffiliatedTo\n",
      "3          yago_binary_isLocatedIn                  person_wasBornOnDate_playsFor_isAffiliatedTo\n",
      "4          yago_binary_wasBornOnDate                person_playsFor_isAffiliatedTo_hasHeight\n",
      "5          yago_binary_isAffiliatedTo               yagowordnet_wordnet_company\n",
      "6          yago_binary_wasBornIn                    yagowordnet_wordnet_artist\n",
      "7          yago_binary_playsFor                     person_wasBornOnDate_isAffiliatedTo\n",
      "8          yago_binary_diedOnDate                   person_wasBornOnDate_playsFor\n",
      "9          yago_binary_created                      artist_created_wroteMusicFor\n",
      "10         yago_binary_wasCreatedOnDate             artist_created_hasMusicalRole_wroteMusicFor\n"
     ]
    }
   ],
   "source": [
    "largest_wordnet=all_stat_variants.filter(pl.col(\"variant\")==\"wordnet_big\").sort(\"num_rows\", descending=True).limit(10).select(\"table_name\").to_series().to_list()\n",
    "largest_binary=all_stat_variants.filter(pl.col(\"variant\")==\"binary\").sort(\"num_rows\", descending=True).limit(10).select(\"table_name\").to_series().to_list()\n",
    "\n",
    "print(f\"{'Rank':<10}\", f\"{'Binary':<40}\", 'Wordnet')\n",
    "for idx in range(10):\n",
    "    print(f\"{idx+1:<10}\", f\"{largest_binary[idx]:<40}\", largest_wordnet[idx])"
   ]
  },
  {
   "attachments": {},
   "cell_type": "markdown",
   "metadata": {},
   "source": [
    "Plotting some of the aggregated statistics gathered in the previous step. "
   ]
  },
  {
   "cell_type": "code",
   "execution_count": 46,
   "metadata": {},
   "outputs": [
    {
     "data": {
      "image/png": "[encoded data removed]",
      "text/plain": [
       "<Figure size 800x400 with 4 Axes>"
      ]
     },
     "metadata": {},
     "output_type": "display_data"
    }
   ],
   "source": [
    "variables_of_interest = [\"num_rows\", \"num_cols\", \"subj_avg\", \"subj_median\"]\n",
    "df_melt=all_stat_variants.melt(\n",
    "    id_vars=[\"variant\"],\n",
    "    value_vars=variables_of_interest\n",
    ")\n",
    "\n",
    "fig, axs = plt.subplots(1, len(variables_of_interest), figsize=(8,4))\n",
    "for idx, var in enumerate(variables_of_interest):\n",
    "    ax = axs[idx]\n",
    "    ax=sns.boxplot(data=df_melt.filter(pl.col(\"variable\")==var).to_pandas(), x=\"variant\", y=\"value\", ax=ax)\n",
    "    if var != \"num_cols\":\n",
    "        ax.set_yscale(\"log\")\n",
    "    ax.set_title(var)\n",
    "    ax.set_xlabel(\"\")\n",
    "    ax.set_ylabel(\"\")\n",
    "    \n",
    "    # ax.get_legend().remove()\n",
    "\n",
    "plt.tight_layout() "
   ]
  },
  {
   "cell_type": "code",
   "execution_count": 47,
   "metadata": {},
   "outputs": [
    {
     "data": {
      "text/plain": [
       "<Axes: xlabel='cat_feat', ylabel='num_feat'>"
      ]
     },
     "execution_count": 47,
     "metadata": {},
     "output_type": "execute_result"
    },
    {
     "data": {
      "image/png": "[encoded data removed]",
      "text/plain": [
       "<Figure size 640x480 with 1 Axes>"
      ]
     },
     "metadata": {},
     "output_type": "display_data"
    }
   ],
   "source": [
    "sns.scatterplot(data=df_stat.groupby([\"cat_feat\", \"num_feat\"]).agg(pl.count()),x=\"cat_feat\", y=\"num_feat\", size=\"count\", hue=\"count\", size_norm=norm, hue_norm=norm)"
   ]
  },
  {
   "attachments": {},
   "cell_type": "markdown",
   "metadata": {},
   "source": [
    "Preparing the aggregated stats"
   ]
  },
  {
   "attachments": {},
   "cell_type": "markdown",
   "metadata": {},
   "source": [
    "# Base table stats"
   ]
  },
  {
   "cell_type": "code",
   "execution_count": null,
   "metadata": {},
   "outputs": [],
   "source": [
    "data_dir = Path(\"data/metadata/queries\")\n",
    "tabs_mdata_paths = list(data_dir.glob(\"*.json\"))"
   ]
  },
  {
   "cell_type": "code",
   "execution_count": null,
   "metadata": {},
   "outputs": [],
   "source": [
    "stats_list = []\n",
    "for tab_mdata_pth in tabs_mdata_paths:\n",
    "    with open(tab_mdata_pth, \"r\") as fp:\n",
    "        tab_mdata = json.load(fp)\n",
    "        tab_path = tab_mdata[\"full_path\"]\n",
    "        tab = pl.read_parquet(tab_path).unique()\n",
    "        cat_feat = 0\n",
    "        num_feat = 0\n",
    "        for col, typ in tab.schema.items():\n",
    "            if typ == pl.Utf8:\n",
    "                cat_feat += 1\n",
    "            else:\n",
    "                num_feat += 1\n",
    "        stats = {\n",
    "            \"tab_name\": tab_mdata[\"df_name\"],\n",
    "            # \"tab_source\": \"add\",\n",
    "            \"num_rows\": tab.shape[0],\n",
    "            # \"num_cols\": tab.shape[1],\n",
    "            \"cat_feat\": cat_feat,\n",
    "            \"num_feat\": num_feat,\n",
    "            # \"target\": \"add\"\n",
    "        }\n",
    "        stats_list.append(stats)"
   ]
  },
  {
   "cell_type": "code",
   "execution_count": null,
   "metadata": {},
   "outputs": [],
   "source": [
    "base_table_stats = pl.from_dicts(stats_list)\n",
    "base_table_stats = base_table_stats.select(\n",
    "    pl.col(\"tab_name\").alias(\"Table name\"),\n",
    "    pl.col(\"num_rows\").alias(\"Rows\"),\n",
    "    pl.col(\"cat_feat\").alias(\"$C$\"),\n",
    "    pl.col(\"num_feat\").alias(\"$N$\"),\n",
    ")"
   ]
  },
  {
   "cell_type": "code",
   "execution_count": null,
   "metadata": {},
   "outputs": [],
   "source": [
    "base_table_stats.to_pandas().style.to_latex(\"base_tables.tex\", hrules=True)"
   ]
  },
  {
   "cell_type": "code",
   "execution_count": null,
   "metadata": {},
   "outputs": [
    {
     "data": {
      "text/html": [
       "<div><style>\n",
       ".dataframe > thead > tr > th,\n",
       ".dataframe > tbody > tr > td {\n",
       "  text-align: right;\n",
       "}\n",
       "</style>\n",
       "<small>shape: (6, 4)</small><table border=\"1\" class=\"dataframe\"><thead><tr><th>Table name</th><th>Rows</th><th>$C$</th><th>$N$</th></tr><tr><td>str</td><td>i64</td><td>i64</td><td>i64</td></tr></thead><tbody><tr><td>&quot;presidential-r…</td><td>22084</td><td>12</td><td>1</td></tr><tr><td>&quot;company-employ…</td><td>3107</td><td>8</td><td>2</td></tr><tr><td>&quot;movies-prepare…</td><td>3826</td><td>14</td><td>5</td></tr><tr><td>&quot;us-accidents-p…</td><td>20000</td><td>23</td><td>28</td></tr><tr><td>&quot;us-accidents-p…</td><td>5222</td><td>10</td><td>3</td></tr><tr><td>&quot;presidential-r…</td><td>21289</td><td>6</td><td>1</td></tr></tbody></table></div>"
      ],
      "text/plain": [
       "shape: (6, 4)\n",
       "┌───────────────────────────────────┬───────┬─────┬─────┐\n",
       "│ Table name                        ┆ Rows  ┆ $C$ ┆ $N$ │\n",
       "│ ---                               ┆ ---   ┆ --- ┆ --- │\n",
       "│ str                               ┆ i64   ┆ i64 ┆ i64 │\n",
       "╞═══════════════════════════════════╪═══════╪═════╪═════╡\n",
       "│ presidential-results-prepared     ┆ 22084 ┆ 12  ┆ 1   │\n",
       "│ company-employees-prepared        ┆ 3107  ┆ 8   ┆ 2   │\n",
       "│ movies-prepared                   ┆ 3826  ┆ 14  ┆ 5   │\n",
       "│ us-accidents-prepared             ┆ 20000 ┆ 23  ┆ 28  │\n",
       "│ us-accidents-prepared-new         ┆ 5222  ┆ 10  ┆ 3   │\n",
       "│ presidential-results-prepared-ne… ┆ 21289 ┆ 6   ┆ 1   │\n",
       "└───────────────────────────────────┴───────┴─────┴─────┘"
      ]
     },
     "execution_count": 10,
     "metadata": {},
     "output_type": "execute_result"
    }
   ],
   "source": [
    "base_table_stats"
   ]
  }
 ],
 "metadata": {
  "kernelspec": {
   "display_name": "bench",
   "language": "python",
   "name": "python3"
  },
  "language_info": {
   "codemirror_mode": {
    "name": "ipython",
    "version": 3
   },
   "file_extension": ".py",
   "mimetype": "text/x-python",
   "name": "python",
   "nbconvert_exporter": "python",
   "pygments_lexer": "ipython3",
   "version": "3.10.10"
  },
  "orig_nbformat": 4
 },
 "nbformat": 4,
 "nbformat_minor": 2
}
