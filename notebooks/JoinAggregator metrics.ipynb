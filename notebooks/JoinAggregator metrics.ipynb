{
 "cells": [
  {
   "cell_type": "code",
   "execution_count": 1,
   "metadata": {},
   "outputs": [
    {
     "name": "stdout",
     "output_type": "stream",
     "text": [
      "/home/soda/rcappuzz/work/benchmark-join-suggestions\n"
     ]
    }
   ],
   "source": [
    "cd .."
   ]
  },
  {
   "cell_type": "code",
   "execution_count": 24,
   "metadata": {},
   "outputs": [],
   "source": [
    "%load_ext autoreload\n",
    "%autoreload 2"
   ]
  },
  {
   "cell_type": "code",
   "execution_count": 25,
   "metadata": {},
   "outputs": [],
   "source": [
    "import argparse\n",
    "import json\n",
    "import logging\n",
    "import os\n",
    "import pickle\n",
    "from difflib import SequenceMatcher\n",
    "from pathlib import Path\n",
    "\n",
    "import git\n",
    "import matplotlib.pyplot as plt\n",
    "import numpy as np\n",
    "import polars as pl\n",
    "import seaborn as sns\n",
    "import sklearn.feature_selection as fs\n",
    "import sklearn.metrics as metrics\n",
    "from polars import selectors as cs\n",
    "\n",
    "import src.pipeline as utils\n",
    "from src._join_aggregator import JoinAggregator\n",
    "from src.data_structures.loggers import ScenarioLogger\n",
    "from src.data_structures.metadata import MetadataIndex, RawDataset"
   ]
  },
  {
   "cell_type": "code",
   "execution_count": 3,
   "metadata": {},
   "outputs": [],
   "source": [
    "def metric_numerical(col, y):\n",
    "    is_null = col.is_null()\n",
    "    if sum(is_null) == len(col):\n",
    "        return 0\n",
    "    filled_null = col.fill_null(strategy=\"mean\")\n",
    "    _, p_nulls = fs.f_regression(is_null.to_numpy().reshape(-1, 1), y)\n",
    "    _, p_filled = fs.f_regression(filled_null.to_numpy().reshape(-1, 1), y)\n",
    "    return np.mean([-np.log(p_nulls), -np.log(p_filled)])\n",
    "\n",
    "def metric_correlation(col, y):\n",
    "    is_null = col.is_null()\n",
    "    if sum(is_null) == len(col):\n",
    "        return 0\n",
    "    filled_null = col.fill_null(strategy=\"mean\")\n",
    "    tmp = pl.DataFrame([filled_null, pl.Series(y)])\n",
    "    corr = tmp.select(pl.corr(*tmp.columns)).item()\n",
    "    return corr\n",
    "\n",
    "def metric_mutual_info_regression(col, y):\n",
    "    col = col.fill_null(\"null\").cast(pl.Categorical).cast(pl.Int16).to_numpy().reshape(-1, 1)\n",
    "    m = fs.mutual_info_regression(col, y)\n",
    "    return m[0]\n",
    "\n",
    "\n",
    "def metric_discrete(col, y):\n",
    "    is_null = col.is_null().to_numpy()\n",
    "    if sum(is_null) == len(col):\n",
    "        return 0\n",
    "    filled_null = col.fill_null(\"null\").cast(pl.Categorical).cast(pl.Int16).to_numpy()\n",
    "\n",
    "    # col = col.fill_null(\"null\").cast(pl.Categorical).cast(pl.Int16).to_numpy().reshape(-1, 1)\n",
    "    _, p_nulls = fs.f_classif(is_null.reshape(-1, 1), y)\n",
    "    _, p_filled = fs.f_classif(filled_null.reshape(-1, 1), y)\n",
    "    if p_filled == 0:\n",
    "        p_filled = [1]\n",
    "    if p_nulls == 0:\n",
    "        p_nulls = [1]\n",
    "\n",
    "    return np.mean([-np.log(p_nulls), -np.log(p_filled)])\n",
    "    \n",
    "def metric_selection(merged_df:pl.DataFrame, target_columns: pl.Series, y: pl.Series):\n",
    "    metrics_dict = {\n",
    "        \"numeric\": [],\n",
    "        \"discrete\": [],\n",
    "    }\n",
    "    num_cols = merged_df.select(\n",
    "        cs.numeric() & cs.by_name(target_columns)\n",
    "    )\n",
    "    cat_cols = merged_df.select(\n",
    "        cs.string() & cs.by_name(target_columns)\n",
    "    )\n",
    "    \n",
    "    for col in num_cols:\n",
    "        metrics_dict[\"numeric\"].append((col.name, metric_numerical(col, y)))\n",
    "    \n",
    "    for col in cat_cols:\n",
    "        metrics_dict[\"discrete\"].append((col.name, metric_discrete(col, y)))\n",
    "    return metrics_dict\n"
   ]
  },
  {
   "cell_type": "markdown",
   "metadata": {},
   "source": [
    "# Extracting candidates from precomputed indices"
   ]
  },
  {
   "cell_type": "code",
   "execution_count": 5,
   "metadata": {},
   "outputs": [],
   "source": [
    "yadl_version = \"wordnet_big_num_cp\"\n",
    "metadata_dir = Path(f\"data/metadata/{yadl_version}\")\n",
    "metadata_index_path = Path(f\"data/metadata/_mdi/md_index_{yadl_version}.pickle\")\n",
    "index_dir = Path(f\"data/metadata/_indices/{yadl_version}\")\n",
    "\n",
    "query_tab_path = Path(\"data/source_tables/us-accidents-yadl-ax.parquet\")\n",
    "\n",
    "base_table = pl.read_parquet(query_tab_path)\n",
    "tab_name = query_tab_path.stem\n",
    "mdata_index = MetadataIndex(index_path=metadata_index_path)\n",
    "\n",
    "top_k=10\n",
    "selected_indices = [\"minhash\"]\n",
    "indices = utils.load_indices(\n",
    "    index_dir, selected_indices=selected_indices, tab_name=tab_name\n",
    ")\n",
    "minhash_index = indices[\"minhash\"]\n",
    "query_tab_metadata = RawDataset(\n",
    "        query_tab_path.resolve(), \"queries\", \"data/metadata/queries\"\n",
    "    )\n",
    "query_tab_metadata.save_metadata_to_json()\n",
    "query_column = \"col_to_embed\"\n",
    "query = base_table[query_column].drop_nulls()\n",
    "query_results = minhash_index.query_index(query)\n",
    "candidates = utils.generate_candidates(\n",
    "    \"minhash\",\n",
    "    query_results,\n",
    "    mdata_index,\n",
    "    query_tab_metadata.metadata, \n",
    "    query_column,\n",
    "    top_k\n",
    "    )"
   ]
  },
  {
   "cell_type": "code",
   "execution_count": 26,
   "metadata": {},
   "outputs": [],
   "source": [
    "r_list = []\n",
    "for hash_, candidate_join in candidates.items():\n",
    "    src_md, cnd_md, left_on, right_on = candidate_join.get_join_information()\n",
    "    src_df = pl.read_parquet(src_md[\"full_path\"])\n",
    "    cnd_df = pl.read_parquet(cnd_md[\"full_path\"])\n",
    "    cols_to_agg = [col for col in cnd_df.columns if col not in right_on]\n",
    "    \n",
    "    ja = JoinAggregator(\n",
    "        tables=[(cnd_df, right_on, cols_to_agg)], main_key=left_on\n",
    "    )\n",
    "    merged = ja.fit_transform(src_df)\n",
    "    y = src_df[\"target\"].to_numpy()\n",
    "    target_columns = [col for col in merged.columns if col not in src_df.columns and col not in (left_on + right_on)]\n",
    "    results = metric_selection(merged, target_columns, y)\n",
    "    for r_type, r_values in results.items():\n",
    "        for e in r_values:\n",
    "            entry = (cnd_md[\"df_name\"], r_type, *e)\n",
    "            r_list.append(dict(zip([\"df_name\", \"type\", \"col_name\", \"metric\"], entry)))\n",
    "    break"
   ]
  },
  {
   "cell_type": "code",
   "execution_count": 27,
   "metadata": {},
   "outputs": [
    {
     "data": {
      "text/html": [
       "<div><style>\n",
       ".dataframe > thead > tr > th,\n",
       ".dataframe > tbody > tr > td {\n",
       "  text-align: right;\n",
       "}\n",
       "</style>\n",
       "<small>shape: (5_222, 11)</small><table border=\"1\" class=\"dataframe\"><thead><tr><th>County</th><th>Code</th><th>Severity</th><th>Zipcode</th><th>State</th><th>target</th><th>col_to_embed</th><th>hasLatitude_mean</th><th>type_mode</th><th>subject_mode</th><th>hasWebsite_mode</th></tr><tr><td>str</td><td>str</td><td>f64</td><td>str</td><td>str</td><td>f64</td><td>str</td><td>f64</td><td>str</td><td>str</td><td>str</td></tr></thead><tbody><tr><td>&quot;Montgomery&quot;</td><td>&quot;PA&quot;</td><td>2.25</td><td>&quot;18964&quot;</td><td>&quot;Pennsylvania&quot;</td><td>0.60206</td><td>&quot;&lt;Souderton,_Pe…</td><td>null</td><td>null</td><td>null</td><td>null</td></tr><tr><td>&quot;Crawford&quot;</td><td>&quot;IN&quot;</td><td>2.0</td><td>&quot;47118&quot;</td><td>&quot;Indiana&quot;</td><td>0.0</td><td>&quot;&lt;English,_Indi…</td><td>null</td><td>null</td><td>null</td><td>null</td></tr><tr><td>&quot;Winnebago&quot;</td><td>&quot;WI&quot;</td><td>2.944444</td><td>&quot;54956&quot;</td><td>&quot;Wisconsin&quot;</td><td>1.255273</td><td>&quot;&lt;Neenah,_Wisco…</td><td>44.187778</td><td>&quot;&lt;wordnet_schoo…</td><td>&quot;&lt;St._Mary_Cath…</td><td>&quot;&lt;http://smcath…</td></tr><tr><td>&quot;Franklin&quot;</td><td>&quot;ME&quot;</td><td>2.0</td><td>&quot;04938-6125&quot;</td><td>&quot;Maine&quot;</td><td>0.30103</td><td>&quot;&lt;Farmington,_M…</td><td>44.6382</td><td>&quot;&lt;wordnet_schoo…</td><td>&quot;&lt;Mt._Blue_High…</td><td>&quot;&lt;https://www.m…</td></tr><tr><td>&quot;Clark&quot;</td><td>&quot;WA&quot;</td><td>3.083333</td><td>&quot;98607&quot;</td><td>&quot;Washington&quot;</td><td>1.079181</td><td>&quot;&lt;Camas,_Washin…</td><td>45.617917</td><td>&quot;&lt;wordnet_schoo…</td><td>&quot;&lt;Union_High_Sc…</td><td>&quot;&lt;https://sites…</td></tr><tr><td>&quot;Greenlee&quot;</td><td>&quot;AZ&quot;</td><td>4.0</td><td>&quot;85534&quot;</td><td>&quot;Arizona&quot;</td><td>0.477121</td><td>&quot;&lt;Duncan,_Arizo…</td><td>32.72426</td><td>&quot;&lt;wordnet_schoo…</td><td>&quot;&lt;Duncan_High_S…</td><td>&quot;&lt;https://dusdw…</td></tr><tr><td>&quot;Huntington&quot;</td><td>&quot;IN&quot;</td><td>4.0</td><td>&quot;46702-9720&quot;</td><td>&quot;Indiana&quot;</td><td>0.60206</td><td>&quot;&lt;Andrews,_Indi…</td><td>null</td><td>null</td><td>null</td><td>null</td></tr><tr><td>&quot;Humboldt&quot;</td><td>&quot;CA&quot;</td><td>2.0</td><td>&quot;95569-9601&quot;</td><td>&quot;California&quot;</td><td>0.778151</td><td>&quot;&lt;Redcrest,_Cal…</td><td>null</td><td>null</td><td>null</td><td>null</td></tr><tr><td>&quot;Hennepin&quot;</td><td>&quot;MN&quot;</td><td>2.093525</td><td>&quot;55343&quot;</td><td>&quot;Minnesota&quot;</td><td>2.143015</td><td>&quot;&lt;Hopkins,_Minn…</td><td>44.906944</td><td>&quot;&lt;wordnet_schoo…</td><td>&quot;&lt;Chesterton_Ac…</td><td>&quot;&lt;http://www.ch…</td></tr><tr><td>&quot;Baker&quot;</td><td>&quot;OR&quot;</td><td>2.131579</td><td>&quot;97833&quot;</td><td>&quot;Oregon&quot;</td><td>1.579784</td><td>&quot;&lt;Haines,_Orego…</td><td>null</td><td>null</td><td>null</td><td>null</td></tr><tr><td>&quot;Washington&quot;</td><td>&quot;UT&quot;</td><td>2.45</td><td>&quot;84737&quot;</td><td>&quot;Utah&quot;</td><td>2.342423</td><td>&quot;&lt;Hurricane,_Ut…</td><td>null</td><td>null</td><td>null</td><td>null</td></tr><tr><td>&quot;Kanabec&quot;</td><td>&quot;MN&quot;</td><td>2.307692</td><td>&quot;55051-7124&quot;</td><td>&quot;Minnesota&quot;</td><td>1.113943</td><td>&quot;&lt;Mora,_Minneso…</td><td>null</td><td>null</td><td>null</td><td>null</td></tr><tr><td>&hellip;</td><td>&hellip;</td><td>&hellip;</td><td>&hellip;</td><td>&hellip;</td><td>&hellip;</td><td>&hellip;</td><td>&hellip;</td><td>&hellip;</td><td>&hellip;</td><td>&hellip;</td></tr><tr><td>&quot;Marion&quot;</td><td>&quot;OR&quot;</td><td>2.071174</td><td>&quot;97002&quot;</td><td>&quot;Oregon&quot;</td><td>2.448706</td><td>&quot;&lt;Aurora,_Orego…</td><td>45.211976</td><td>&quot;&lt;wordnet_schoo…</td><td>&quot;&lt;North_Marion_…</td><td>&quot;&lt;https://highs…</td></tr><tr><td>&quot;Montgomery&quot;</td><td>&quot;PA&quot;</td><td>4.0</td><td>&quot;19460&quot;</td><td>&quot;Pennsylvania&quot;</td><td>0.778151</td><td>&quot;&lt;Phoenixville,…</td><td>40.119722</td><td>&quot;&lt;wordnet_schoo…</td><td>&quot;&lt;Phoenixville_…</td><td>&quot;&lt;http://pasdhs…</td></tr><tr><td>&quot;Bartow&quot;</td><td>&quot;GA&quot;</td><td>3.0</td><td>&quot;30102&quot;</td><td>&quot;Georgia&quot;</td><td>1.146128</td><td>&quot;&lt;Acworth,_Geor…</td><td>34.039526</td><td>&quot;&lt;wordnet_schoo…</td><td>&quot;&lt;North_Cobb_Ch…</td><td>&quot;&lt;https://www.c…</td></tr><tr><td>&quot;Mecklenburg&quot;</td><td>&quot;VA&quot;</td><td>4.0</td><td>&quot;24598&quot;</td><td>&quot;Virginia&quot;</td><td>0.0</td><td>&quot;&lt;Virgilina,_Vi…</td><td>null</td><td>null</td><td>null</td><td>null</td></tr><tr><td>&quot;Penobscot&quot;</td><td>&quot;ME&quot;</td><td>2.0</td><td>&quot;04428-6075&quot;</td><td>&quot;Maine&quot;</td><td>0.0</td><td>&quot;&lt;Clifton,_Main…</td><td>null</td><td>null</td><td>null</td><td>null</td></tr><tr><td>&quot;Butts&quot;</td><td>&quot;GA&quot;</td><td>2.914286</td><td>&quot;30233&quot;</td><td>&quot;Georgia&quot;</td><td>1.544068</td><td>&quot;&lt;Jackson,_Geor…</td><td>null</td><td>null</td><td>null</td><td>null</td></tr><tr><td>&quot;Highland&quot;</td><td>&quot;OH&quot;</td><td>3.6</td><td>&quot;45133&quot;</td><td>&quot;Ohio&quot;</td><td>0.69897</td><td>&quot;&lt;Hillsboro,_Oh…</td><td>39.183889</td><td>&quot;&lt;wordnet_schoo…</td><td>&quot;&lt;Hillsboro_Hig…</td><td>&quot;&lt;https://www.h…</td></tr><tr><td>&quot;Ouachita&quot;</td><td>&quot;AR&quot;</td><td>4.0</td><td>&quot;71720&quot;</td><td>&quot;Arkansas&quot;</td><td>0.0</td><td>&quot;&lt;Bearden,_Arka…</td><td>33.731667</td><td>&quot;&lt;wordnet_schoo…</td><td>&quot;&lt;Bearden_High_…</td><td>&quot;&lt;https://www.b…</td></tr><tr><td>&quot;Union&quot;</td><td>&quot;OR&quot;</td><td>2.142857</td><td>&quot;97876-8124&quot;</td><td>&quot;Oregon&quot;</td><td>0.845098</td><td>&quot;&lt;Summerville,_…</td><td>null</td><td>null</td><td>null</td><td>null</td></tr><tr><td>&quot;Santa Rosa&quot;</td><td>&quot;FL&quot;</td><td>3.111111</td><td>&quot;32583&quot;</td><td>&quot;Florida&quot;</td><td>0.954243</td><td>&quot;&lt;Milton,_Flori…</td><td>30.7651</td><td>&quot;&lt;wordnet_schoo…</td><td>&quot;&lt;Central_Schoo…</td><td>&quot;&lt;http://www.sa…</td></tr><tr><td>&quot;Jackson&quot;</td><td>&quot;MN&quot;</td><td>2.1</td><td>&quot;56150&quot;</td><td>&quot;Minnesota&quot;</td><td>1.0</td><td>&quot;&lt;Lakefield,_Mi…</td><td>null</td><td>null</td><td>null</td><td>null</td></tr><tr><td>&quot;Carver&quot;</td><td>&quot;MN&quot;</td><td>2.0</td><td>&quot;55331&quot;</td><td>&quot;Minnesota&quot;</td><td>1.041393</td><td>&quot;&lt;Excelsior,_Mi…</td><td>null</td><td>null</td><td>null</td><td>null</td></tr></tbody></table></div>"
      ],
      "text/plain": [
       "shape: (5_222, 11)\n",
       "┌────────────┬──────┬──────────┬────────────┬───┬────────────┬───────────┬────────────┬────────────┐\n",
       "│ County     ┆ Code ┆ Severity ┆ Zipcode    ┆ … ┆ hasLatitud ┆ type_mode ┆ subject_mo ┆ hasWebsite │\n",
       "│ ---        ┆ ---  ┆ ---      ┆ ---        ┆   ┆ e_mean     ┆ ---       ┆ de         ┆ _mode      │\n",
       "│ str        ┆ str  ┆ f64      ┆ str        ┆   ┆ ---        ┆ str       ┆ ---        ┆ ---        │\n",
       "│            ┆      ┆          ┆            ┆   ┆ f64        ┆           ┆ str        ┆ str        │\n",
       "╞════════════╪══════╪══════════╪════════════╪═══╪════════════╪═══════════╪════════════╪════════════╡\n",
       "│ Montgomery ┆ PA   ┆ 2.25     ┆ 18964      ┆ … ┆ null       ┆ null      ┆ null       ┆ null       │\n",
       "│ Crawford   ┆ IN   ┆ 2.0      ┆ 47118      ┆ … ┆ null       ┆ null      ┆ null       ┆ null       │\n",
       "│ Winnebago  ┆ WI   ┆ 2.944444 ┆ 54956      ┆ … ┆ 44.187778  ┆ <wordnet_ ┆ <St._Mary_ ┆ <http://sm │\n",
       "│            ┆      ┆          ┆            ┆   ┆            ┆ school_10 ┆ Catholic_H ┆ catholicsc │\n",
       "│            ┆      ┆          ┆            ┆   ┆            ┆ 8276720>  ┆ igh_School ┆ hools.org/ │\n",
       "│            ┆      ┆          ┆            ┆   ┆            ┆           ┆ _(…        ┆ st…        │\n",
       "│ Franklin   ┆ ME   ┆ 2.0      ┆ 04938-6125 ┆ … ┆ 44.6382    ┆ <wordnet_ ┆ <Mt._Blue_ ┆ <https://w │\n",
       "│            ┆      ┆          ┆            ┆   ┆            ┆ school_10 ┆ High_Schoo ┆ ww.mtbluer │\n",
       "│            ┆      ┆          ┆            ┆   ┆            ┆ 8276720>  ┆ l>         ┆ sd.org/hs> │\n",
       "│ …          ┆ …    ┆ …        ┆ …          ┆ … ┆ …          ┆ …         ┆ …          ┆ …          │\n",
       "│ Union      ┆ OR   ┆ 2.142857 ┆ 97876-8124 ┆ … ┆ null       ┆ null      ┆ null       ┆ null       │\n",
       "│ Santa Rosa ┆ FL   ┆ 3.111111 ┆ 32583      ┆ … ┆ 30.7651    ┆ <wordnet_ ┆ <Central_S ┆ <http://ww │\n",
       "│            ┆      ┆          ┆            ┆   ┆            ┆ school_10 ┆ chool_(Mil ┆ w.santaros │\n",
       "│            ┆      ┆          ┆            ┆   ┆            ┆ 8276720>  ┆ ton,_Flori ┆ a.k12.fl.u │\n",
       "│            ┆      ┆          ┆            ┆   ┆            ┆           ┆ da…        ┆ s/…        │\n",
       "│ Jackson    ┆ MN   ┆ 2.1      ┆ 56150      ┆ … ┆ null       ┆ null      ┆ null       ┆ null       │\n",
       "│ Carver     ┆ MN   ┆ 2.0      ┆ 55331      ┆ … ┆ null       ┆ null      ┆ null       ┆ null       │\n",
       "└────────────┴──────┴──────────┴────────────┴───┴────────────┴───────────┴────────────┴────────────┘"
      ]
     },
     "execution_count": 27,
     "metadata": {},
     "output_type": "execute_result"
    }
   ],
   "source": [
    "merged"
   ]
  },
  {
   "cell_type": "code",
   "execution_count": 7,
   "metadata": {},
   "outputs": [],
   "source": [
    "results = pl.from_dicts(r_list)"
   ]
  },
  {
   "cell_type": "code",
   "execution_count": 8,
   "metadata": {},
   "outputs": [
    {
     "data": {
      "text/html": [
       "<div><style>\n",
       ".dataframe > thead > tr > th,\n",
       ".dataframe > tbody > tr > td {\n",
       "  text-align: right;\n",
       "}\n",
       "</style>\n",
       "<small>shape: (47, 4)</small><table border=\"1\" class=\"dataframe\"><thead><tr><th>df_name</th><th>type</th><th>col_name</th><th>metric</th></tr><tr><td>str</td><td>str</td><td>str</td><td>f64</td></tr></thead><tbody><tr><td>&quot;wordnet_school…</td><td>&quot;numeric&quot;</td><td>&quot;hasLatitude_me…</td><td>137.67418</td></tr><tr><td>&quot;wordnet_school…</td><td>&quot;discrete&quot;</td><td>&quot;type_mode&quot;</td><td>89.767471</td></tr><tr><td>&quot;wordnet_school…</td><td>&quot;discrete&quot;</td><td>&quot;subject_mode&quot;</td><td>81.249245</td></tr><tr><td>&quot;wordnet_school…</td><td>&quot;discrete&quot;</td><td>&quot;hasWebsite_mod…</td><td>81.081551</td></tr><tr><td>&quot;wordnet_school…</td><td>&quot;numeric&quot;</td><td>&quot;wasCreatedOnDa…</td><td>172.833644</td></tr><tr><td>&quot;wordnet_school…</td><td>&quot;discrete&quot;</td><td>&quot;type_mode&quot;</td><td>0.0</td></tr><tr><td>&quot;wordnet_school…</td><td>&quot;discrete&quot;</td><td>&quot;subject_mode&quot;</td><td>0.0</td></tr><tr><td>&quot;wordnet_school…</td><td>&quot;numeric&quot;</td><td>&quot;wasCreatedOnDa…</td><td>166.697064</td></tr><tr><td>&quot;wordnet_school…</td><td>&quot;numeric&quot;</td><td>&quot;hasLongitude_m…</td><td>298.919846</td></tr><tr><td>&quot;wordnet_school…</td><td>&quot;discrete&quot;</td><td>&quot;type_mode&quot;</td><td>0.0</td></tr><tr><td>&quot;wordnet_school…</td><td>&quot;discrete&quot;</td><td>&quot;subject_mode&quot;</td><td>0.0</td></tr><tr><td>&quot;wordnet_school…</td><td>&quot;numeric&quot;</td><td>&quot;wasCreatedOnDa…</td><td>173.648553</td></tr><tr><td>&hellip;</td><td>&hellip;</td><td>&hellip;</td><td>&hellip;</td></tr><tr><td>&quot;yagowordnet_cp…</td><td>&quot;numeric&quot;</td><td>&quot;hasNumberOfPeo…</td><td>0.0</td></tr><tr><td>&quot;yagowordnet_cp…</td><td>&quot;numeric&quot;</td><td>&quot;hasLatitude_me…</td><td>138.19208</td></tr><tr><td>&quot;yagowordnet_cp…</td><td>&quot;numeric&quot;</td><td>&quot;wasCreatedOnDa…</td><td>172.827202</td></tr><tr><td>&quot;yagowordnet_cp…</td><td>&quot;numeric&quot;</td><td>&quot;hasLongitude_m…</td><td>302.581177</td></tr><tr><td>&quot;yagowordnet_cp…</td><td>&quot;numeric&quot;</td><td>&quot;hasRevenue_mea…</td><td>0.566421</td></tr><tr><td>&quot;yagowordnet_cp…</td><td>&quot;discrete&quot;</td><td>&quot;type_mode&quot;</td><td>80.611443</td></tr><tr><td>&quot;yagowordnet_cp…</td><td>&quot;discrete&quot;</td><td>&quot;subject_mode&quot;</td><td>69.869186</td></tr><tr><td>&quot;yagowordnet_cp…</td><td>&quot;discrete&quot;</td><td>&quot;created_mode&quot;</td><td>0.0</td></tr><tr><td>&quot;yagowordnet_cp…</td><td>&quot;discrete&quot;</td><td>&quot;owns_mode&quot;</td><td>0.0</td></tr><tr><td>&quot;yagowordnet_cp…</td><td>&quot;discrete&quot;</td><td>&quot;hasWebsite_mod…</td><td>39.18182</td></tr><tr><td>&quot;yagowordnet_cp…</td><td>&quot;discrete&quot;</td><td>&quot;isAffiliatedTo…</td><td>0.0</td></tr><tr><td>&quot;yagowordnet_cp…</td><td>&quot;discrete&quot;</td><td>&quot;hasWonPrize_mo…</td><td>0.0</td></tr></tbody></table></div>"
      ],
      "text/plain": [
       "shape: (47, 4)\n",
       "┌───────────────────────────────────┬──────────┬─────────────────────┬───────────┐\n",
       "│ df_name                           ┆ type     ┆ col_name            ┆ metric    │\n",
       "│ ---                               ┆ ---      ┆ ---                 ┆ ---       │\n",
       "│ str                               ┆ str      ┆ str                 ┆ f64       │\n",
       "╞═══════════════════════════════════╪══════════╪═════════════════════╪═══════════╡\n",
       "│ wordnet_school_hasWebsite_hasLat… ┆ numeric  ┆ hasLatitude_mean    ┆ 137.67418 │\n",
       "│ wordnet_school_hasWebsite_hasLat… ┆ discrete ┆ type_mode           ┆ 89.767471 │\n",
       "│ wordnet_school_hasWebsite_hasLat… ┆ discrete ┆ subject_mode        ┆ 81.249245 │\n",
       "│ wordnet_school_hasWebsite_hasLat… ┆ discrete ┆ hasWebsite_mode     ┆ 81.081551 │\n",
       "│ …                                 ┆ …        ┆ …                   ┆ …         │\n",
       "│ yagowordnet_cp_wordnet_school     ┆ discrete ┆ owns_mode           ┆ 0.0       │\n",
       "│ yagowordnet_cp_wordnet_school     ┆ discrete ┆ hasWebsite_mode     ┆ 39.18182  │\n",
       "│ yagowordnet_cp_wordnet_school     ┆ discrete ┆ isAffiliatedTo_mode ┆ 0.0       │\n",
       "│ yagowordnet_cp_wordnet_school     ┆ discrete ┆ hasWonPrize_mode    ┆ 0.0       │\n",
       "└───────────────────────────────────┴──────────┴─────────────────────┴───────────┘"
      ]
     },
     "execution_count": 8,
     "metadata": {},
     "output_type": "execute_result"
    }
   ],
   "source": [
    "results"
   ]
  },
  {
   "cell_type": "code",
   "execution_count": 17,
   "metadata": {},
   "outputs": [],
   "source": [
    "selected_columns = results.filter(\n",
    "        pl.col(\"type\") == \"numeric\"\n",
    "    ).top_k(10, by=\"metric\").select(\n",
    "        pl.col(\"col_name\")\n",
    "    )"
   ]
  },
  {
   "cell_type": "code",
   "execution_count": 19,
   "metadata": {},
   "outputs": [
    {
     "data": {
      "text/html": [
       "<div><style>\n",
       ".dataframe > thead > tr > th,\n",
       ".dataframe > tbody > tr > td {\n",
       "  text-align: right;\n",
       "}\n",
       "</style>\n",
       "<small>shape: (10, 1)</small><table border=\"1\" class=\"dataframe\"><thead><tr><th>col_name</th></tr><tr><td>str</td></tr></thead><tbody><tr><td>&quot;hasLongitude_m…</td></tr><tr><td>&quot;hasLongitude_m…</td></tr><tr><td>&quot;hasLongitude_m…</td></tr><tr><td>&quot;hasLongitude_m…</td></tr><tr><td>&quot;wasCreatedOnDa…</td></tr><tr><td>&quot;wasCreatedOnDa…</td></tr><tr><td>&quot;wasCreatedOnDa…</td></tr><tr><td>&quot;wasCreatedOnDa…</td></tr><tr><td>&quot;wasCreatedOnDa…</td></tr><tr><td>&quot;hasLatitude_me…</td></tr></tbody></table></div>"
      ],
      "text/plain": [
       "shape: (10, 1)\n",
       "┌───────────────────────┐\n",
       "│ col_name              │\n",
       "│ ---                   │\n",
       "│ str                   │\n",
       "╞═══════════════════════╡\n",
       "│ hasLongitude_mean     │\n",
       "│ hasLongitude_mean     │\n",
       "│ hasLongitude_mean     │\n",
       "│ hasLongitude_mean     │\n",
       "│ …                     │\n",
       "│ wasCreatedOnDate_mean │\n",
       "│ wasCreatedOnDate_mean │\n",
       "│ wasCreatedOnDate_mean │\n",
       "│ hasLatitude_mean      │\n",
       "└───────────────────────┘"
      ]
     },
     "execution_count": 19,
     "metadata": {},
     "output_type": "execute_result"
    }
   ],
   "source": [
    "selected_columns"
   ]
  },
  {
   "cell_type": "code",
   "execution_count": 21,
   "metadata": {},
   "outputs": [
    {
     "data": {
      "text/plain": [
       "True"
      ]
     },
     "execution_count": 21,
     "metadata": {},
     "output_type": "execute_result"
    }
   ],
   "source": [
    "\"hasLongitude_mean\" in selected_columns[\"col_name\"]"
   ]
  },
  {
   "cell_type": "code",
   "execution_count": 22,
   "metadata": {},
   "outputs": [
    {
     "data": {
      "text/plain": [
       "['wasDestroyedOnDate_mean',\n",
       " 'hasBudget_mean',\n",
       " 'hasNumberOfPeople_mean',\n",
       " 'hasRevenue_mean',\n",
       " 'type_mode',\n",
       " 'subject_mode',\n",
       " 'created_mode',\n",
       " 'owns_mode',\n",
       " 'hasWebsite_mode',\n",
       " 'isAffiliatedTo_mode',\n",
       " 'hasWonPrize_mode']"
      ]
     },
     "execution_count": 22,
     "metadata": {},
     "output_type": "execute_result"
    }
   ],
   "source": [
    "[col for col in target_columns if col not in selected_columns[\"col_name\"]]"
   ]
  },
  {
   "cell_type": "code",
   "execution_count": 453,
   "metadata": {},
   "outputs": [
    {
     "data": {
      "text/html": [
       "<div><style>\n",
       ".dataframe > thead > tr > th,\n",
       ".dataframe > tbody > tr > td {\n",
       "  text-align: right;\n",
       "}\n",
       "</style>\n",
       "<small>shape: (15, 4)</small><table border=\"1\" class=\"dataframe\"><thead><tr><th>df_name</th><th>type</th><th>col_name</th><th>metric</th></tr><tr><td>str</td><td>str</td><td>str</td><td>f64</td></tr></thead><tbody><tr><td>&quot;wordnet_school_hasWebsite_hasLatitude_isLocatedIn&quot;</td><td>&quot;discrete&quot;</td><td>&quot;type_mode&quot;</td><td>89.767471</td></tr><tr><td>&quot;wordnet_school_hasWebsite_hasLongitude_isLocatedIn&quot;</td><td>&quot;discrete&quot;</td><td>&quot;type_mode&quot;</td><td>89.767471</td></tr><tr><td>&quot;wordnet_school_hasLongitude_isLocatedIn&quot;</td><td>&quot;discrete&quot;</td><td>&quot;type_mode&quot;</td><td>83.907608</td></tr><tr><td>&quot;wordnet_school_hasLatitude_hasLongitude_isLocatedIn&quot;</td><td>&quot;discrete&quot;</td><td>&quot;type_mode&quot;</td><td>83.907608</td></tr><tr><td>&quot;wordnet_school_hasLatitude_isLocatedIn&quot;</td><td>&quot;discrete&quot;</td><td>&quot;type_mode&quot;</td><td>83.907608</td></tr><tr><td>&quot;wordnet_school_hasWebsite_hasLongitude_isLocatedIn&quot;</td><td>&quot;discrete&quot;</td><td>&quot;hasWebsite_mode&quot;</td><td>81.351814</td></tr><tr><td>&quot;wordnet_school_hasWebsite_hasLatitude_isLocatedIn&quot;</td><td>&quot;discrete&quot;</td><td>&quot;subject_mode&quot;</td><td>81.229774</td></tr><tr><td>&quot;wordnet_school_hasWebsite_hasLatitude_isLocatedIn&quot;</td><td>&quot;discrete&quot;</td><td>&quot;hasWebsite_mode&quot;</td><td>81.005005</td></tr><tr><td>&quot;wordnet_school_hasWebsite_hasLongitude_isLocatedIn&quot;</td><td>&quot;discrete&quot;</td><td>&quot;subject_mode&quot;</td><td>80.941498</td></tr><tr><td>&quot;yagowordnet_cp_wordnet_school&quot;</td><td>&quot;discrete&quot;</td><td>&quot;type_mode&quot;</td><td>80.611443</td></tr><tr><td>&quot;wordnet_school_hasLatitude_isLocatedIn&quot;</td><td>&quot;discrete&quot;</td><td>&quot;subject_mode&quot;</td><td>73.952744</td></tr><tr><td>&quot;wordnet_school_hasLongitude_isLocatedIn&quot;</td><td>&quot;discrete&quot;</td><td>&quot;subject_mode&quot;</td><td>73.856949</td></tr><tr><td>&quot;wordnet_school_hasLatitude_hasLongitude_isLocatedIn&quot;</td><td>&quot;discrete&quot;</td><td>&quot;subject_mode&quot;</td><td>73.200378</td></tr><tr><td>&quot;yagowordnet_cp_wordnet_school&quot;</td><td>&quot;discrete&quot;</td><td>&quot;subject_mode&quot;</td><td>69.291306</td></tr><tr><td>&quot;yagowordnet_cp_wordnet_school&quot;</td><td>&quot;discrete&quot;</td><td>&quot;hasWebsite_mode&quot;</td><td>39.248829</td></tr></tbody></table></div>"
      ],
      "text/plain": [
       "shape: (15, 4)\n",
       "┌─────────────────────────────────────────────────────┬──────────┬─────────────────┬───────────┐\n",
       "│ df_name                                             ┆ type     ┆ col_name        ┆ metric    │\n",
       "│ ---                                                 ┆ ---      ┆ ---             ┆ ---       │\n",
       "│ str                                                 ┆ str      ┆ str             ┆ f64       │\n",
       "╞═════════════════════════════════════════════════════╪══════════╪═════════════════╪═══════════╡\n",
       "│ wordnet_school_hasWebsite_hasLatitude_isLocatedIn   ┆ discrete ┆ type_mode       ┆ 89.767471 │\n",
       "│ wordnet_school_hasWebsite_hasLongitude_isLocatedIn  ┆ discrete ┆ type_mode       ┆ 89.767471 │\n",
       "│ wordnet_school_hasLongitude_isLocatedIn             ┆ discrete ┆ type_mode       ┆ 83.907608 │\n",
       "│ wordnet_school_hasLatitude_hasLongitude_isLocatedIn ┆ discrete ┆ type_mode       ┆ 83.907608 │\n",
       "│ …                                                   ┆ …        ┆ …               ┆ …         │\n",
       "│ wordnet_school_hasLongitude_isLocatedIn             ┆ discrete ┆ subject_mode    ┆ 73.856949 │\n",
       "│ wordnet_school_hasLatitude_hasLongitude_isLocatedIn ┆ discrete ┆ subject_mode    ┆ 73.200378 │\n",
       "│ yagowordnet_cp_wordnet_school                       ┆ discrete ┆ subject_mode    ┆ 69.291306 │\n",
       "│ yagowordnet_cp_wordnet_school                       ┆ discrete ┆ hasWebsite_mode ┆ 39.248829 │\n",
       "└─────────────────────────────────────────────────────┴──────────┴─────────────────┴───────────┘"
      ]
     },
     "metadata": {},
     "output_type": "display_data"
    }
   ],
   "source": [
    "with pl.Config(fmt_str_lengths=100):\n",
    "    display(results.filter(\n",
    "        (pl.col(\"type\") == \"discrete\") & (pl.col(\"metric\") > 0)\n",
    "    ).sort(\"metric\", descending=True))"
   ]
  },
  {
   "cell_type": "code",
   "execution_count": null,
   "metadata": {},
   "outputs": [],
   "source": []
  },
  {
   "cell_type": "code",
   "execution_count": null,
   "metadata": {},
   "outputs": [],
   "source": []
  }
 ],
 "metadata": {
  "kernelspec": {
   "display_name": "skrubench",
   "language": "python",
   "name": "python3"
  },
  "language_info": {
   "codemirror_mode": {
    "name": "ipython",
    "version": 3
   },
   "file_extension": ".py",
   "mimetype": "text/x-python",
   "name": "python",
   "nbconvert_exporter": "python",
   "pygments_lexer": "ipython3",
   "version": "3.10.10"
  },
  "orig_nbformat": 4
 },
 "nbformat": 4,
 "nbformat_minor": 2
}
