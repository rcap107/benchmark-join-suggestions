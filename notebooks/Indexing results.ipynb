{
 "cells": [
  {
   "cell_type": "code",
   "execution_count": 1,
   "metadata": {},
   "outputs": [
    {
     "name": "stdout",
     "output_type": "stream",
     "text": [
      "/home/soda/rcappuzz/work/benchmark-join-suggestions\n"
     ]
    }
   ],
   "source": [
    "cd ~/bench"
   ]
  },
  {
   "cell_type": "code",
   "execution_count": 43,
   "metadata": {},
   "outputs": [],
   "source": [
    "from joblib import load\n",
    "from pathlib import Path\n",
    "import pickle\n",
    "import matplotlib.pyplot as plt\n",
    "import seaborn as sns"
   ]
  },
  {
   "cell_type": "code",
   "execution_count": 3,
   "metadata": {},
   "outputs": [],
   "source": [
    "DEFAULT_QUERY_RESULT_DIR = Path(\"results/query_results\")\n"
   ]
  },
  {
   "cell_type": "code",
   "execution_count": 4,
   "metadata": {},
   "outputs": [],
   "source": [
    "def load_query_result(yadl_version, index_name, tab_name, query_column, top_k):\n",
    "    query_result_path = \"{}__{}__{}__{}.pickle\".format(\n",
    "        yadl_version,\n",
    "        index_name,\n",
    "        tab_name,\n",
    "        query_column,\n",
    "    )\n",
    "\n",
    "    with open(\n",
    "        Path(DEFAULT_QUERY_RESULT_DIR, query_result_path), \"rb\"\n",
    "    ) as fp:\n",
    "        query_result = pickle.load(fp)\n",
    "\n",
    "    query_result.select_top_k(top_k)\n",
    "    return query_result\n"
   ]
  },
  {
   "cell_type": "code",
   "execution_count": 5,
   "metadata": {},
   "outputs": [],
   "source": [
    "yadl_version = \"wordnet_full\"\n",
    "index_names = [\"exact_matching\", \"minhash\", \"minhash_hybrid\"]\n",
    "tabs = [\n",
    "    \"company_employees\", \n",
    "    \"housing_prices\",\n",
    "    \"movies_vote\",\n",
    "    \"movies\",\n",
    "    \"us_accidents\",\n",
    "    \"us_county_population\",\n",
    "    \"us_elections\"\n",
    "]\n",
    "query_column = \"col_to_embed\"\n",
    "top_k=0"
   ]
  },
  {
   "cell_type": "code",
   "execution_count": 6,
   "metadata": {},
   "outputs": [
    {
     "name": "stdout",
     "output_type": "stream",
     "text": [
      "exact_matching company_employees 200\n",
      "exact_matching housing_prices 200\n",
      "exact_matching movies_vote 200\n",
      "exact_matching movies 200\n",
      "exact_matching us_accidents 200\n",
      "exact_matching us_county_population 200\n",
      "exact_matching us_elections 200\n",
      "minhash company_employees 2292\n",
      "minhash housing_prices 4113\n",
      "minhash movies_vote 791\n",
      "minhash movies 791\n",
      "minhash us_accidents 5012\n",
      "minhash us_county_population 4247\n",
      "minhash us_elections 4247\n",
      "minhash_hybrid company_employees 2292\n",
      "minhash_hybrid housing_prices 4113\n",
      "minhash_hybrid movies_vote 791\n",
      "minhash_hybrid movies 791\n",
      "minhash_hybrid us_accidents 5012\n",
      "minhash_hybrid us_county_population 4247\n",
      "minhash_hybrid us_elections 4247\n"
     ]
    }
   ],
   "source": [
    "for iname in index_names:\n",
    "    for tab in tabs:\n",
    "        tab_name = f\"{tab}-yadl-depleted\"\n",
    "        query_result = load_query_result(yadl_version, iname, tab_name, query_column, top_k)\n",
    "        print(iname, tab, query_result.n_candidates)"
   ]
  },
  {
   "cell_type": "code",
   "execution_count": 7,
   "metadata": {},
   "outputs": [],
   "source": [
    "c=query_result.candidates.popitem()"
   ]
  },
  {
   "cell_type": "code",
   "execution_count": 8,
   "metadata": {},
   "outputs": [
    {
     "data": {
      "text/plain": [
       "{'indexing_method': 'minhash',\n",
       " 'source_table': 'c2a75df3db370e96cc7d9598e36272f4',\n",
       " 'candidate_table': '31678a49a35ab6c17e6ef4df5d53e394',\n",
       " 'source_metadata': {'full_path': '/home/soda/rcappuzz/work/benchmark-join-suggestions/data/source_tables/yadl/us_elections-yadl-depleted.parquet',\n",
       "  'hash': 'c2a75df3db370e96cc7d9598e36272f4',\n",
       "  'df_name': 'us_elections-yadl-depleted',\n",
       "  'source_dl': 'queries',\n",
       "  'license': '',\n",
       "  'path_metadata': '/storage/store3/soda/rcappuzz/bench/data/metadata/queries/c2a75df3db370e96cc7d9598e36272f4.json'},\n",
       " 'candidate_metadata': {'full_path': 'data/yadl/wordnet_full/wordnet_full-wordnet_soldier_110622053.parquet',\n",
       "  'hash': '31678a49a35ab6c17e6ef4df5d53e394',\n",
       "  'df_name': 'wordnet_full-wordnet_soldier_110622053',\n",
       "  'source_dl': 'yadl',\n",
       "  'license': '',\n",
       "  'path_metadata': '/storage/store3/soda/rcappuzz/bench/data/metadata/wordnet_full/31678a49a35ab6c17e6ef4df5d53e394.json'},\n",
       " 'similarity_score': 20,\n",
       " 'how': 'left',\n",
       " 'left_on': ['col_to_embed'],\n",
       " 'right_on': ['diedIn_0'],\n",
       " 'on': None,\n",
       " 'candidate_id': 'a8da20c0b4a5a0fa36a63df50c486024'}"
      ]
     },
     "execution_count": 8,
     "metadata": {},
     "output_type": "execute_result"
    }
   ],
   "source": [
    "vars(c[1])"
   ]
  },
  {
   "cell_type": "code",
   "execution_count": 17,
   "metadata": {},
   "outputs": [],
   "source": [
    "import polars as pl\n",
    "import numpy as np\n",
    "import datetime\n",
    "base_table = pl.read_parquet(\"data/source_tables/yadl/movies-yadl-depleted.parquet\")"
   ]
  },
  {
   "cell_type": "code",
   "execution_count": 18,
   "metadata": {},
   "outputs": [],
   "source": [
    "def measure_containment(base_table, left_on, candidate_table: pl.DataFrame, right_on):\n",
    "        unique_src =base_table[left_on].unique()\n",
    "        unique_cand =candidate_table[right_on].unique()\n",
    "        s1 = set(unique_src[left_on].to_series().to_list())\n",
    "        s2 = set(unique_cand[right_on].to_series().to_list())\n",
    "        return len(s1.intersection(s2)) / len(s1)\n"
   ]
  },
  {
   "cell_type": "code",
   "execution_count": 28,
   "metadata": {},
   "outputs": [],
   "source": [
    "def test_joining(yadl_version, index_name, dset_name, query_column, top_k):\n",
    "    query_result = load_query_result(yadl_version, index_name, dset_name, query_column, 0)\n",
    "    query_result.select_top_k(top_k)\n",
    "    total_time = 0\n",
    "    cont_l  = []\n",
    "    for c_id, cand in query_result.candidates.items():\n",
    "        src_md, cnd_md, left_on, right_on = cand.get_join_information()\n",
    "        cand_table = pl.read_parquet(cnd_md[\"full_path\"])\n",
    "        cont = measure_containment(base_table, left_on, cand_table, right_on)\n",
    "        # cont=0\n",
    "        start_time = datetime.datetime.now()\n",
    "        merge = base_table.join(cand_table, left_on=left_on, right_on=right_on, how=\"left\")\n",
    "        end_time = datetime.datetime.now()\n",
    "        time_required = (end_time - start_time).total_seconds()\n",
    "        total_time += time_required\n",
    "        cont_l.append(cont)\n",
    "    print(f\"{total_time:.2f} - {np.mean(cont_l):.2f}\")\n",
    "    return (index_name, dset_name, top_k, total_time, np.mean(cont_l))"
   ]
  },
  {
   "cell_type": "code",
   "execution_count": 44,
   "metadata": {},
   "outputs": [
    {
     "name": "stdout",
     "output_type": "stream",
     "text": [
      "0.09 - 0.00\n",
      "0.15 - 0.00\n",
      "0.37 - 0.00\n",
      "1.23 - 0.05\n",
      "0.05 - 0.00\n",
      "0.13 - 0.01\n",
      "0.41 - 0.01\n",
      "0.81 - 0.01\n",
      "0.06 - 0.00\n",
      "0.15 - 0.00\n",
      "0.38 - 0.00\n",
      "1.23 - 0.05\n",
      "0.26 - 0.00\n",
      "0.76 - 0.00\n",
      "2.42 - 0.00\n",
      "4.36 - 0.00\n",
      "0.03 - 0.00\n",
      "0.14 - 0.00\n",
      "0.47 - 0.00\n",
      "0.92 - 0.00\n",
      "0.25 - 0.00\n",
      "0.78 - 0.00\n",
      "2.40 - 0.00\n",
      "4.38 - 0.00\n",
      "0.09 - 0.95\n",
      "0.27 - 0.75\n",
      "0.86 - 0.43\n",
      "1.79 - 0.30\n",
      "0.07 - 0.05\n",
      "0.16 - 0.07\n",
      "0.49 - 0.11\n",
      "0.93 - 0.10\n",
      "0.09 - 0.95\n",
      "0.24 - 0.75\n",
      "0.99 - 0.43\n",
      "1.78 - 0.30\n",
      "0.08 - 0.95\n",
      "0.25 - 0.75\n",
      "0.86 - 0.43\n",
      "1.76 - 0.30\n",
      "0.06 - 0.05\n",
      "0.16 - 0.07\n",
      "0.47 - 0.11\n",
      "0.93 - 0.10\n",
      "0.08 - 0.95\n",
      "0.21 - 0.75\n",
      "0.96 - 0.43\n",
      "1.80 - 0.30\n",
      "0.27 - 0.00\n",
      "0.77 - 0.00\n",
      "2.39 - 0.00\n",
      "4.37 - 0.00\n",
      "0.02 - 0.00\n",
      "0.09 - 0.00\n",
      "0.29 - 0.00\n",
      "0.62 - 0.00\n",
      "0.26 - 0.00\n",
      "0.76 - 0.00\n",
      "2.40 - 0.00\n",
      "3.95 - 0.00\n",
      "0.02 - 0.00\n",
      "0.06 - 0.00\n",
      "0.59 - 0.00\n",
      "1.88 - 0.00\n",
      "0.03 - 0.00\n",
      "0.12 - 0.00\n",
      "0.31 - 0.00\n",
      "0.56 - 0.00\n",
      "0.02 - 0.00\n",
      "0.06 - 0.00\n",
      "0.60 - 0.00\n",
      "1.91 - 0.00\n",
      "0.02 - 0.00\n",
      "0.06 - 0.00\n",
      "0.64 - 0.00\n",
      "1.91 - 0.00\n",
      "0.03 - 0.00\n",
      "0.11 - 0.00\n",
      "0.31 - 0.00\n",
      "0.56 - 0.00\n",
      "0.02 - 0.00\n",
      "0.06 - 0.00\n",
      "0.62 - 0.00\n",
      "1.99 - 0.00\n"
     ]
    }
   ],
   "source": [
    "index_names = [\"exact_matching\", \"minhash\", \"minhash_hybrid\"]\n",
    "keys = [\"index_name\", \"tab_name\", \"top_k\", \"join_time\", \"avg_cont\"]\n",
    "results = []\n",
    "for tab in  tabs:\n",
    "    tab_name = f\"{tab}-yadl-depleted\"\n",
    "    for i in index_names:\n",
    "        for k in [10, 30, 100, 200]:\n",
    "            r = test_joining(yadl_version, i,  tab_name, query_column, k)\n",
    "            results.append(dict(zip(keys, r)))"
   ]
  },
  {
   "cell_type": "code",
   "execution_count": 45,
   "metadata": {},
   "outputs": [],
   "source": [
    "df = pl.from_dicts(results)"
   ]
  },
  {
   "cell_type": "code",
   "execution_count": 59,
   "metadata": {},
   "outputs": [],
   "source": [
    "df.write_csv(\"results_indexing_time_cont.csv\")"
   ]
  },
  {
   "cell_type": "code",
   "execution_count": 46,
   "metadata": {},
   "outputs": [],
   "source": [
    "ddf = df.melt(id_vars=[\"index_name\",\"tab_name\", \"top_k\"])"
   ]
  },
  {
   "cell_type": "code",
   "execution_count": 47,
   "metadata": {},
   "outputs": [
    {
     "data": {
      "text/html": [
       "<div><style>\n",
       ".dataframe > thead > tr > th,\n",
       ".dataframe > tbody > tr > td {\n",
       "  text-align: right;\n",
       "  white-space: pre-wrap;\n",
       "}\n",
       "</style>\n",
       "<small>shape: (84, 5)</small><table border=\"1\" class=\"dataframe\"><thead><tr><th>index_name</th><th>tab_name</th><th>top_k</th><th>join_time</th><th>avg_cont</th></tr><tr><td>str</td><td>str</td><td>i64</td><td>f64</td><td>f64</td></tr></thead><tbody><tr><td>&quot;exact_matching…</td><td>&quot;company_employ…</td><td>10</td><td>0.090535</td><td>0.0</td></tr><tr><td>&quot;exact_matching…</td><td>&quot;company_employ…</td><td>30</td><td>0.148093</td><td>0.0</td></tr><tr><td>&quot;exact_matching…</td><td>&quot;company_employ…</td><td>100</td><td>0.371259</td><td>0.0</td></tr><tr><td>&quot;exact_matching…</td><td>&quot;company_employ…</td><td>200</td><td>1.227846</td><td>0.049736</td></tr><tr><td>&quot;minhash&quot;</td><td>&quot;company_employ…</td><td>10</td><td>0.053622</td><td>0.000633</td></tr><tr><td>&quot;minhash&quot;</td><td>&quot;company_employ…</td><td>30</td><td>0.127967</td><td>0.013442</td></tr><tr><td>&quot;minhash&quot;</td><td>&quot;company_employ…</td><td>100</td><td>0.411437</td><td>0.008142</td></tr><tr><td>&quot;minhash&quot;</td><td>&quot;company_employ…</td><td>200</td><td>0.814491</td><td>0.00721</td></tr><tr><td>&quot;minhash_hybrid…</td><td>&quot;company_employ…</td><td>10</td><td>0.055197</td><td>0.0</td></tr><tr><td>&quot;minhash_hybrid…</td><td>&quot;company_employ…</td><td>30</td><td>0.152437</td><td>0.0</td></tr><tr><td>&quot;minhash_hybrid…</td><td>&quot;company_employ…</td><td>100</td><td>0.380057</td><td>0.0</td></tr><tr><td>&quot;minhash_hybrid…</td><td>&quot;company_employ…</td><td>200</td><td>1.231127</td><td>0.049736</td></tr><tr><td>&hellip;</td><td>&hellip;</td><td>&hellip;</td><td>&hellip;</td><td>&hellip;</td></tr><tr><td>&quot;exact_matching…</td><td>&quot;us_elections-y…</td><td>10</td><td>0.020275</td><td>0.000264</td></tr><tr><td>&quot;exact_matching…</td><td>&quot;us_elections-y…</td><td>30</td><td>0.05954</td><td>0.000264</td></tr><tr><td>&quot;exact_matching…</td><td>&quot;us_elections-y…</td><td>100</td><td>0.639437</td><td>0.001284</td></tr><tr><td>&quot;exact_matching…</td><td>&quot;us_elections-y…</td><td>200</td><td>1.91256</td><td>0.001887</td></tr><tr><td>&quot;minhash&quot;</td><td>&quot;us_elections-y…</td><td>10</td><td>0.027244</td><td>0.001687</td></tr><tr><td>&quot;minhash&quot;</td><td>&quot;us_elections-y…</td><td>30</td><td>0.106649</td><td>0.001625</td></tr><tr><td>&quot;minhash&quot;</td><td>&quot;us_elections-y…</td><td>100</td><td>0.310492</td><td>0.001468</td></tr><tr><td>&quot;minhash&quot;</td><td>&quot;us_elections-y…</td><td>200</td><td>0.561718</td><td>0.001364</td></tr><tr><td>&quot;minhash_hybrid…</td><td>&quot;us_elections-y…</td><td>10</td><td>0.020893</td><td>0.000264</td></tr><tr><td>&quot;minhash_hybrid…</td><td>&quot;us_elections-y…</td><td>30</td><td>0.060385</td><td>0.000264</td></tr><tr><td>&quot;minhash_hybrid…</td><td>&quot;us_elections-y…</td><td>100</td><td>0.620991</td><td>0.001284</td></tr><tr><td>&quot;minhash_hybrid…</td><td>&quot;us_elections-y…</td><td>200</td><td>1.991701</td><td>0.001887</td></tr></tbody></table></div>"
      ],
      "text/plain": [
       "shape: (84, 5)\n",
       "┌────────────────┬─────────────────────────────────┬───────┬───────────┬──────────┐\n",
       "│ index_name     ┆ tab_name                        ┆ top_k ┆ join_time ┆ avg_cont │\n",
       "│ ---            ┆ ---                             ┆ ---   ┆ ---       ┆ ---      │\n",
       "│ str            ┆ str                             ┆ i64   ┆ f64       ┆ f64      │\n",
       "╞════════════════╪═════════════════════════════════╪═══════╪═══════════╪══════════╡\n",
       "│ exact_matching ┆ company_employees-yadl-depleted ┆ 10    ┆ 0.090535  ┆ 0.0      │\n",
       "│ exact_matching ┆ company_employees-yadl-depleted ┆ 30    ┆ 0.148093  ┆ 0.0      │\n",
       "│ exact_matching ┆ company_employees-yadl-depleted ┆ 100   ┆ 0.371259  ┆ 0.0      │\n",
       "│ exact_matching ┆ company_employees-yadl-depleted ┆ 200   ┆ 1.227846  ┆ 0.049736 │\n",
       "│ …              ┆ …                               ┆ …     ┆ …         ┆ …        │\n",
       "│ minhash_hybrid ┆ us_elections-yadl-depleted      ┆ 10    ┆ 0.020893  ┆ 0.000264 │\n",
       "│ minhash_hybrid ┆ us_elections-yadl-depleted      ┆ 30    ┆ 0.060385  ┆ 0.000264 │\n",
       "│ minhash_hybrid ┆ us_elections-yadl-depleted      ┆ 100   ┆ 0.620991  ┆ 0.001284 │\n",
       "│ minhash_hybrid ┆ us_elections-yadl-depleted      ┆ 200   ┆ 1.991701  ┆ 0.001887 │\n",
       "└────────────────┴─────────────────────────────────┴───────┴───────────┴──────────┘"
      ]
     },
     "execution_count": 47,
     "metadata": {},
     "output_type": "execute_result"
    }
   ],
   "source": [
    "df"
   ]
  },
  {
   "cell_type": "code",
   "execution_count": null,
   "metadata": {},
   "outputs": [],
   "source": []
  },
  {
   "cell_type": "code",
   "execution_count": 58,
   "metadata": {},
   "outputs": [
    {
     "data": {
      "text/plain": [
       "<seaborn.axisgrid.FacetGrid at 0x7fee1180be20>"
      ]
     },
     "execution_count": 58,
     "metadata": {},
     "output_type": "execute_result"
    },
    {
     "data": {
      "image/png": "[encoded data removed]",
      "text/plain": [
       "<Figure size 1160.75x500 with 2 Axes>"
      ]
     },
     "metadata": {},
     "output_type": "display_data"
    }
   ],
   "source": [
    "sns.relplot(data=ddf, x=\"top_k\", y=\"value\", hue=\"index_name\", col=\"variable\", kind=\"line\", facet_kws={\"sharey\":False}, style='index_name')"
   ]
  },
  {
   "cell_type": "code",
   "execution_count": 22,
   "metadata": {},
   "outputs": [
    {
     "name": "stdout",
     "output_type": "stream",
     "text": [
      "0.20 - 0.00\n",
      "0.15 - 0.00\n",
      "0.15 - 0.00\n",
      "0.15 - 0.00\n",
      "0.15 - 0.00\n",
      "0.15 - 0.00\n",
      "0.15 - 0.00\n",
      "0.15 - 0.00\n",
      "482 ms ± 10.2 ms per loop (mean ± std. dev. of 7 runs, 1 loop each)\n"
     ]
    }
   ],
   "source": [
    "%%timeit\n",
    "test_joining(yadl_version, \"minhash\", f\"movies-yadl-depleted\", query_column, 30)"
   ]
  },
  {
   "cell_type": "code",
   "execution_count": 23,
   "metadata": {},
   "outputs": [
    {
     "name": "stdout",
     "output_type": "stream",
     "text": [
      "0.20 - 0.00\n",
      "0.17 - 0.00\n",
      "0.15 - 0.00\n",
      "0.17 - 0.00\n",
      "0.20 - 0.00\n",
      "0.15 - 0.00\n",
      "0.19 - 0.00\n",
      "0.19 - 0.00\n",
      "459 ms ± 26.7 ms per loop (mean ± std. dev. of 7 runs, 1 loop each)\n"
     ]
    }
   ],
   "source": [
    "%%timeit\n",
    "test_joining(yadl_version, \"minhash_hybrid\", f\"movies-yadl-depleted\", query_column, 30)"
   ]
  },
  {
   "cell_type": "code",
   "execution_count": 24,
   "metadata": {},
   "outputs": [
    {
     "name": "stdout",
     "output_type": "stream",
     "text": [
      "0.23 - 0.00\n",
      "0.24 - 0.00\n",
      "0.23 - 0.00\n",
      "0.24 - 0.00\n",
      "0.20 - 0.00\n",
      "0.25 - 0.00\n",
      "0.24 - 0.00\n",
      "0.22 - 0.00\n",
      "928 ms ± 39.7 ms per loop (mean ± std. dev. of 7 runs, 1 loop each)\n"
     ]
    }
   ],
   "source": [
    "%%timeit\n",
    "test_joining(yadl_version, \"exact_matching\", f\"movies-yadl-depleted\", query_column, 30)"
   ]
  },
  {
   "cell_type": "code",
   "execution_count": 91,
   "metadata": {},
   "outputs": [
    {
     "name": "stdout",
     "output_type": "stream",
     "text": [
      "0.06976900000000001\n",
      "0.067399\n",
      "0.06780399999999999\n",
      "0.067879\n",
      "0.06902699999999999\n",
      "0.069468\n",
      "0.068806\n",
      "0.06848999999999998\n",
      "215 ms ± 2.08 ms per loop (mean ± std. dev. of 7 runs, 1 loop each)\n"
     ]
    }
   ],
   "source": [
    "%%timeit\n",
    "query_result = load_query_result(yadl_version, \"exact_matching\", f\"us_elections-yadl-depleted\", query_column, top_k)\n",
    "query_result.select_top_k(30)\n",
    "total_time = 0\n",
    "for c_id, cand in query_result.candidates.items():\n",
    "    src_md, cnd_md, left_on, right_on = cand.get_join_information()\n",
    "    cand_table = pl.read_parquet(cnd_md[\"full_path\"])\n",
    "    cont = measure_containment(base_table, left_on, cand_table, right_on)\n",
    "    start_time = datetime.datetime.now()\n",
    "    merge = base_table.join(cand_table, left_on=left_on, right_on=right_on, how=\"left\")\n",
    "    end_time = datetime.datetime.now()\n",
    "    time_required = (end_time - start_time).total_seconds()\n",
    "    total_time += time_required\n",
    "    cont.append(cont)\n",
    "print(total_time)"
   ]
  },
  {
   "cell_type": "code",
   "execution_count": 92,
   "metadata": {},
   "outputs": [
    {
     "name": "stdout",
     "output_type": "stream",
     "text": [
      "0.13602499999999998\n",
      "0.13674999999999998\n",
      "0.13702399999999998\n",
      "0.128109\n",
      "0.14404200000000003\n",
      "0.124614\n",
      "0.14746499999999998\n",
      "0.12839499999999998\n",
      "601 ms ± 29.6 ms per loop (mean ± std. dev. of 7 runs, 1 loop each)\n"
     ]
    }
   ],
   "source": [
    "%%timeit\n",
    "query_result = load_query_result(yadl_version, \"minhash\", f\"us_elections-yadl-depleted\", query_column, top_k)\n",
    "query_result.select_top_k(30)\n",
    "total_time = 0\n",
    "cont = []\n",
    "for c_id, cand in query_result.candidates.items():\n",
    "    src_md, cnd_md, left_on, right_on = cand.get_join_information()\n",
    "    cand_table = pl.read_parquet(cnd_md[\"full_path\"])\n",
    "    cont = measure_containment(base_table, left_on, cand_table, right_on)\n",
    "    start_time = datetime.datetime.now()\n",
    "    merge = base_table.join(cand_table, left_on=left_on, right_on=right_on, how=\"left\")\n",
    "    end_time = datetime.datetime.now()\n",
    "    time_required = (end_time - start_time).total_seconds()\n",
    "    total_time += time_required\n",
    "    cont.append(cont)\n",
    "print(total_time)"
   ]
  },
  {
   "cell_type": "code",
   "execution_count": null,
   "metadata": {},
   "outputs": [],
   "source": []
  },
  {
   "cell_type": "code",
   "execution_count": null,
   "metadata": {},
   "outputs": [],
   "source": []
  }
 ],
 "metadata": {
  "kernelspec": {
   "display_name": "bench-repro",
   "language": "python",
   "name": "python3"
  },
  "language_info": {
   "codemirror_mode": {
    "name": "ipython",
    "version": 3
   },
   "file_extension": ".py",
   "mimetype": "text/x-python",
   "name": "python",
   "nbconvert_exporter": "python",
   "pygments_lexer": "ipython3",
   "version": "3.10.0"
  }
 },
 "nbformat": 4,
 "nbformat_minor": 2
}
