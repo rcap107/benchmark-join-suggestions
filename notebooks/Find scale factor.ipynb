{
 "cells": [
  {
   "cell_type": "code",
   "execution_count": 1,
   "metadata": {},
   "outputs": [
    {
     "name": "stdout",
     "output_type": "stream",
     "text": [
      "/home/soda/rcappuzz/work/benchmark-join-suggestions\n"
     ]
    }
   ],
   "source": [
    "cd .."
   ]
  },
  {
   "cell_type": "code",
   "execution_count": 29,
   "metadata": {},
   "outputs": [],
   "source": [
    "import pickle\n",
    "from pathlib import Path\n",
    "import polars as pl"
   ]
  },
  {
   "cell_type": "code",
   "execution_count": 38,
   "metadata": {},
   "outputs": [],
   "source": [
    "tgt_files = [\n",
    "    \"generated_candidates_company-employees-prepared.pickle\",\n",
    "    \"generated_candidates_us-accidents-prepared-new.pickle\",\n",
    "    \"generated_candidates_presidential-results-prepared-new.pickle\",\n",
    "]"
   ]
  },
  {
   "cell_type": "code",
   "execution_count": 39,
   "metadata": {},
   "outputs": [],
   "source": [
    "ff = tgt_files[1]"
   ]
  },
  {
   "cell_type": "code",
   "execution_count": 40,
   "metadata": {},
   "outputs": [
    {
     "name": "stdout",
     "output_type": "stream",
     "text": [
      "generated_candidates_company-employees-prepared.pickle 243\n"
     ]
    },
    {
     "ename": "KeyboardInterrupt",
     "evalue": "",
     "output_type": "error",
     "traceback": [
      "\u001b[0;31m---------------------------------------------------------------------------\u001b[0m",
      "\u001b[0;31mKeyboardInterrupt\u001b[0m                         Traceback (most recent call last)",
      "Cell \u001b[0;32mIn[40], line 14\u001b[0m\n\u001b[1;32m     12\u001b[0m candidate_table \u001b[39m=\u001b[39m pl\u001b[39m.\u001b[39mread_parquet(cand_md[\u001b[39m\"\u001b[39m\u001b[39mfull_path\u001b[39m\u001b[39m\"\u001b[39m])\n\u001b[1;32m     13\u001b[0m \u001b[39m# containment=jp.measure_containment(source_table, candidate_table, left_on, right_on)\u001b[39;00m\n\u001b[0;32m---> 14\u001b[0m merged \u001b[39m=\u001b[39m source_table\u001b[39m.\u001b[39;49mjoin(\n\u001b[1;32m     15\u001b[0m     candidate_table,\n\u001b[1;32m     16\u001b[0m     left_on\u001b[39m=\u001b[39;49mleft_on,\n\u001b[1;32m     17\u001b[0m     right_on\u001b[39m=\u001b[39;49mright_on,\n\u001b[1;32m     18\u001b[0m     how\u001b[39m=\u001b[39;49m\u001b[39m\"\u001b[39;49m\u001b[39mleft\u001b[39;49m\u001b[39m\"\u001b[39;49m\n\u001b[1;32m     19\u001b[0m )\n\u001b[1;32m     20\u001b[0m pre \u001b[39m=\u001b[39m \u001b[39mlen\u001b[39m(source_table)\n\u001b[1;32m     21\u001b[0m post \u001b[39m=\u001b[39m \u001b[39mlen\u001b[39m(merged)\n",
      "File \u001b[0;32m~/mambaforge/envs/bench/lib/python3.10/site-packages/polars/dataframe/frame.py:5363\u001b[0m, in \u001b[0;36mDataFrame.join\u001b[0;34m(self, other, on, how, left_on, right_on, suffix)\u001b[0m\n\u001b[1;32m   5357\u001b[0m \u001b[39mif\u001b[39;00m \u001b[39mnot\u001b[39;00m \u001b[39misinstance\u001b[39m(other, DataFrame):\n\u001b[1;32m   5358\u001b[0m     \u001b[39mraise\u001b[39;00m \u001b[39mTypeError\u001b[39;00m(\n\u001b[1;32m   5359\u001b[0m         \u001b[39mf\u001b[39m\u001b[39m\"\u001b[39m\u001b[39mExpected \u001b[39m\u001b[39m'\u001b[39m\u001b[39mother\u001b[39m\u001b[39m'\u001b[39m\u001b[39m join table to be a DataFrame, not a \u001b[39m\u001b[39m{\u001b[39;00m\u001b[39mtype\u001b[39m(other)\u001b[39m.\u001b[39m\u001b[39m__name__\u001b[39m\u001b[39m}\u001b[39;00m\u001b[39m\"\u001b[39m\n\u001b[1;32m   5360\u001b[0m     )\n\u001b[1;32m   5362\u001b[0m \u001b[39mreturn\u001b[39;00m \u001b[39mself\u001b[39m\u001b[39m.\u001b[39m_from_pydf(\n\u001b[0;32m-> 5363\u001b[0m     \u001b[39mself\u001b[39;49m\u001b[39m.\u001b[39;49mlazy()\n\u001b[1;32m   5364\u001b[0m     \u001b[39m.\u001b[39;49mjoin(\n\u001b[1;32m   5365\u001b[0m         other\u001b[39m=\u001b[39;49mother\u001b[39m.\u001b[39;49mlazy(),\n\u001b[1;32m   5366\u001b[0m         left_on\u001b[39m=\u001b[39;49mleft_on,\n\u001b[1;32m   5367\u001b[0m         right_on\u001b[39m=\u001b[39;49mright_on,\n\u001b[1;32m   5368\u001b[0m         on\u001b[39m=\u001b[39;49mon,\n\u001b[1;32m   5369\u001b[0m         how\u001b[39m=\u001b[39;49mhow,\n\u001b[1;32m   5370\u001b[0m         suffix\u001b[39m=\u001b[39;49msuffix,\n\u001b[1;32m   5371\u001b[0m     )\n\u001b[1;32m   5372\u001b[0m     \u001b[39m.\u001b[39;49mcollect(no_optimization\u001b[39m=\u001b[39;49m\u001b[39mTrue\u001b[39;49;00m)\n\u001b[1;32m   5373\u001b[0m     \u001b[39m.\u001b[39m_df\n\u001b[1;32m   5374\u001b[0m )\n",
      "File \u001b[0;32m~/mambaforge/envs/bench/lib/python3.10/site-packages/polars/lazyframe/frame.py:1604\u001b[0m, in \u001b[0;36mLazyFrame.collect\u001b[0;34m(self, type_coercion, predicate_pushdown, projection_pushdown, simplify_expression, no_optimization, slice_pushdown, common_subplan_elimination, streaming)\u001b[0m\n\u001b[1;32m   1593\u001b[0m     common_subplan_elimination \u001b[39m=\u001b[39m \u001b[39mFalse\u001b[39;00m\n\u001b[1;32m   1595\u001b[0m ldf \u001b[39m=\u001b[39m \u001b[39mself\u001b[39m\u001b[39m.\u001b[39m_ldf\u001b[39m.\u001b[39moptimization_toggle(\n\u001b[1;32m   1596\u001b[0m     type_coercion,\n\u001b[1;32m   1597\u001b[0m     predicate_pushdown,\n\u001b[0;32m   (...)\u001b[0m\n\u001b[1;32m   1602\u001b[0m     streaming,\n\u001b[1;32m   1603\u001b[0m )\n\u001b[0;32m-> 1604\u001b[0m \u001b[39mreturn\u001b[39;00m wrap_df(ldf\u001b[39m.\u001b[39;49mcollect())\n",
      "\u001b[0;31mKeyboardInterrupt\u001b[0m: "
     ]
    }
   ],
   "source": [
    "for ff in tgt_files:\n",
    "    candidates_index = pickle.load(open(ff, \"rb\"))\n",
    "    candidates = candidates_index[\"minhash\"]\n",
    "    list_dict=[]\n",
    "    print(ff, len(candidates))\n",
    "    for c, cand in candidates.items():\n",
    "        src_md = cand.source_metadata\n",
    "        cand_md = cand.candidate_metadata\n",
    "        left_on = cand.left_on\n",
    "        right_on = cand.right_on\n",
    "        source_table = pl.read_parquet(src_md[\"full_path\"])\n",
    "        candidate_table = pl.read_parquet(cand_md[\"full_path\"])\n",
    "        # containment=jp.measure_containment(source_table, candidate_table, left_on, right_on)\n",
    "        merged = source_table.join(\n",
    "            candidate_table,\n",
    "            left_on=left_on,\n",
    "            right_on=right_on,\n",
    "            how=\"left\"\n",
    "        )\n",
    "        pre = len(source_table)\n",
    "        post = len(merged)\n",
    "        c_dict = {\n",
    "            \"source_table\": src_md[\"full_path\"],\n",
    "            \"candidate_table\": cand_md[\"full_path\"],\n",
    "            \"similarity\": cand.similarity_score,\n",
    "            \"size_prejoin\": pre,\n",
    "            \"size_postjoin\": post,\n",
    "            \"scale_factor\": post/pre\n",
    "        }\n",
    "        list_dict.append(c_dict)\n",
    "    df_res = pl.from_dicts(list_dict)\n",
    "\n",
    "    print(df_res.select(\n",
    "        pl.col(\"source_table\").apply(lambda x: Path(x).stem),\n",
    "        pl.col(\"scale_factor\").mean().alias(\"sf_mean\"),\n",
    "        pl.col(\"scale_factor\").max().alias(\"sf_max\"),\n",
    "    )[0])"
   ]
  },
  {
   "cell_type": "code",
   "execution_count": 43,
   "metadata": {},
   "outputs": [
    {
     "name": "stdout",
     "output_type": "stream",
     "text": [
      "generated_candidates_company-employees-prepared.pickle 243\n",
      "generated_candidates_us-accidents-prepared-new.pickle 10\n",
      "generated_candidates_presidential-results-prepared-new.pickle 130\n"
     ]
    }
   ],
   "source": [
    "for ff in tgt_files:\n",
    "    candidates_index = pickle.load(open(ff, \"rb\"))\n",
    "    candidates = candidates_index[\"minhash\"]\n",
    "    list_dict=[]\n",
    "    print(ff, len(candidates))\n"
   ]
  },
  {
   "cell_type": "code",
   "execution_count": 37,
   "metadata": {},
   "outputs": [
    {
     "data": {
      "text/plain": [
       "{'1d721d09aa48f01cc669b5ff34b84b05': <src.utils.data_structures.CandidateJoin at 0x7eff2e360430>,\n",
       " 'bc86268530cb8edbd92d2711ad985c77': <src.utils.data_structures.CandidateJoin at 0x7efeb9974430>}"
      ]
     },
     "execution_count": 37,
     "metadata": {},
     "output_type": "execute_result"
    }
   ],
   "source": [
    "candidates"
   ]
  },
  {
   "cell_type": "code",
   "execution_count": null,
   "metadata": {},
   "outputs": [],
   "source": []
  }
 ],
 "metadata": {
  "kernelspec": {
   "display_name": "bench",
   "language": "python",
   "name": "python3"
  },
  "language_info": {
   "codemirror_mode": {
    "name": "ipython",
    "version": 3
   },
   "file_extension": ".py",
   "mimetype": "text/x-python",
   "name": "python",
   "nbconvert_exporter": "python",
   "pygments_lexer": "ipython3",
   "version": "3.10.10"
  },
  "orig_nbformat": 4
 },
 "nbformat": 4,
 "nbformat_minor": 2
}
