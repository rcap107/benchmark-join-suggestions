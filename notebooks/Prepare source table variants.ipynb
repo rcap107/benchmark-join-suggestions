{
 "cells": [
  {
   "cell_type": "code",
   "execution_count": 1,
   "metadata": {},
   "outputs": [
    {
     "name": "stdout",
     "output_type": "stream",
     "text": [
      "/home/soda/rcappuzz/work/benchmark-join-suggestions\n"
     ]
    }
   ],
   "source": [
    "cd ~/bench"
   ]
  },
  {
   "cell_type": "code",
   "execution_count": 2,
   "metadata": {},
   "outputs": [],
   "source": [
    "import pandas as pd\n",
    "import polars as pl\n",
    "from pathlib import Path"
   ]
  },
  {
   "cell_type": "code",
   "execution_count": 18,
   "metadata": {},
   "outputs": [
    {
     "data": {
      "text/plain": [
       "'data/source_tables/yadl/movies_vote_large-yadl-depleted.parquet'"
      ]
     },
     "execution_count": 18,
     "metadata": {},
     "output_type": "execute_result"
    }
   ],
   "source": [
    "\"data/source_tables/yadl/movies_large-yadl-depleted.parquet\"\n",
    "\"data/source_tables/yadl/movies_vote_large-yadl-depleted.parquet\"\n",
    "    "
   ]
  },
  {
   "cell_type": "code",
   "execution_count": 33,
   "metadata": {},
   "outputs": [
    {
     "data": {
      "text/plain": [
       "(7397, 2)"
      ]
     },
     "execution_count": 33,
     "metadata": {},
     "output_type": "execute_result"
    }
   ],
   "source": [
    "pl.read_parquet(\"data/source_tables/yadl/movies_vote_large-yadl-depleted.parquet\").shape"
   ]
  },
  {
   "cell_type": "code",
   "execution_count": 20,
   "metadata": {},
   "outputs": [],
   "source": [
    "raw_data_path = Path(\"data/source_tables/raw\")\n",
    "yadl_data_path = Path(\"data/source_tables/yadl\")\n",
    "od_data_path = Path(\"data/source_tables/open_data_us\")"
   ]
  },
  {
   "cell_type": "markdown",
   "metadata": {},
   "source": [
    "# Movies improved"
   ]
  },
  {
   "cell_type": "code",
   "execution_count": 21,
   "metadata": {},
   "outputs": [],
   "source": [
    "import ast\n",
    "\n",
    "\n",
    "def clean_genres(ll):\n",
    "    g = ast.literal_eval(ll)\n",
    "    try:\n",
    "        l1 = g[0][\"name\"]\n",
    "        return l1\n",
    "    except IndexError:\n",
    "        return \"\"\n",
    "\n",
    "\n",
    "def clean_production_companies(ll):\n",
    "    try:\n",
    "        g = ast.literal_eval(ll)\n",
    "    except ValueError:\n",
    "        return \"\"\n",
    "    except SyntaxError:\n",
    "        print(ll)\n",
    "    try:\n",
    "        l1 = g[0][\"name\"]\n",
    "        return l1\n",
    "    except IndexError:\n",
    "        return \"\"\n",
    "    except TypeError:\n",
    "        return \"\"\n",
    "\n",
    "\n",
    "def clean_production_country(ll):\n",
    "    try:\n",
    "        g = ast.literal_eval(ll)\n",
    "    except ValueError:\n",
    "        return \"\"\n",
    "    try:\n",
    "        l1 = g[0][\"iso_3166_1\"]\n",
    "        return l1\n",
    "    except IndexError:\n",
    "        return \"\"\n",
    "    except TypeError:\n",
    "        return \"\"\n",
    "\n",
    "\n",
    "def clean_spoken_language(ll):\n",
    "    try:\n",
    "        g = ast.literal_eval(ll)\n",
    "    except ValueError:\n",
    "        return \"\"\n",
    "    try:\n",
    "        l1 = g[0][\"name\"]\n",
    "        return l1\n",
    "    except IndexError:\n",
    "        return \"\"\n",
    "    except TypeError:\n",
    "        return \"\""
   ]
  },
  {
   "cell_type": "code",
   "execution_count": 22,
   "metadata": {},
   "outputs": [],
   "source": [
    "df = pl.read_parquet(\"data/source_tables/movie_revenues.parquet\").to_pandas()"
   ]
  },
  {
   "cell_type": "code",
   "execution_count": 23,
   "metadata": {},
   "outputs": [],
   "source": [
    "df = df.drop(\n",
    "    [\n",
    "        \"belongs_to_collection\",\n",
    "        \"homepage\",\n",
    "        \"imdb_id\",\n",
    "        \"overview\",\n",
    "        \"tagline\",\n",
    "        \"poster_path\",\n",
    "        \"release_date\",\n",
    "    ],\n",
    "    axis=1,\n",
    ")\n",
    "\n",
    "df.genres = df.genres.apply(clean_genres)\n",
    "df.production_companies = df.production_companies.apply(clean_production_companies)\n",
    "df.production_countries = df.production_countries.apply(clean_production_country)\n",
    "df.spoken_languages = df.spoken_languages.apply(clean_spoken_language)"
   ]
  },
  {
   "cell_type": "code",
   "execution_count": 24,
   "metadata": {},
   "outputs": [],
   "source": [
    "df = df.drop([\"yago4_col_to_embed\", \"raw_entities\"], axis=1).rename(\n",
    "    {\"yago3_col_to_embed\": \"col_to_embed\"}, axis=1\n",
    ")\n",
    "\n",
    "df = pl.from_pandas(df).drop_nulls(\"col_to_embed\").to_pandas()\n",
    "df[\"col_to_embed\"] = \"<\" + df[\"col_to_embed\"] + \">\""
   ]
  },
  {
   "cell_type": "code",
   "execution_count": 25,
   "metadata": {},
   "outputs": [],
   "source": [
    "df.to_parquet(Path(yadl_data_path, \"movies_large-yadl.parquet\"))"
   ]
  },
  {
   "cell_type": "code",
   "execution_count": 30,
   "metadata": {},
   "outputs": [],
   "source": [
    "df_yadl = pl.read_parquet(Path(yadl_data_path, \"movies_large-yadl.parquet\"))\n",
    "\n",
    "df_yadl.select(pl.col(\"target\"), pl.col(\"col_to_embed\")).write_parquet(\n",
    "    Path(yadl_data_path, \"movies_large-yadl-depleted.parquet\")\n",
    ")\n",
    "\n",
    "df_vote = df_yadl.with_columns(target=pl.col(\"vote_average\")).drop(\"vote_average\")\n",
    "df_vote.write_parquet(Path(yadl_data_path, \"movies_vote_large-yadl.parquet\"))\n",
    "df_vote.select(pl.col(\"target\"), pl.col(\"col_to_embed\")).write_parquet(\n",
    "    Path(yadl_data_path, \"movies_vote_large-yadl-depleted.parquet\")\n",
    ")\n",
    "\n",
    "df_yadl.select(pl.col(\"original_title\"), pl.col(\"target\")).write_parquet(\n",
    "    Path(od_data_path, \"movies_large-depleted-open_data.parquet\")\n",
    ")\n",
    "\n",
    "df_vote.select(pl.col(\"original_title\"), pl.col(\"target\")).write_parquet(\n",
    "    Path(od_data_path, \"movies_vote_large-depleted-open_data.parquet\")\n",
    ")"
   ]
  },
  {
   "cell_type": "code",
   "execution_count": 31,
   "metadata": {},
   "outputs": [
    {
     "data": {
      "text/plain": [
       "(7397, 19)"
      ]
     },
     "execution_count": 31,
     "metadata": {},
     "output_type": "execute_result"
    }
   ],
   "source": [
    "df_vote.shape"
   ]
  },
  {
   "cell_type": "code",
   "execution_count": 32,
   "metadata": {},
   "outputs": [
    {
     "data": {
      "text/plain": [
       "PosixPath('data/source_tables/yadl')"
      ]
     },
     "execution_count": 32,
     "metadata": {},
     "output_type": "execute_result"
    }
   ],
   "source": [
    "yadl_data_path"
   ]
  },
  {
   "cell_type": "markdown",
   "metadata": {},
   "source": [
    "# US Accidents improved"
   ]
  },
  {
   "cell_type": "code",
   "execution_count": 35,
   "metadata": {},
   "outputs": [],
   "source": [
    "df = pl.read_parquet(\"data/source_tables/us_accidents.parquet\")"
   ]
  },
  {
   "cell_type": "code",
   "execution_count": 36,
   "metadata": {},
   "outputs": [],
   "source": [
    "df = (\n",
    "    df.with_columns(\n",
    "        County=pl.col(\"raw_entities\")\n",
    "        .str.split(\",\")\n",
    "        .list.to_struct()\n",
    "        .struct.rename_fields([\"County\", \"State\"])\n",
    "    )\n",
    "    .unnest(\"County\")\n",
    "    .drop(\"raw_entities\", \"yago4_col_to_embed\")\n",
    "    .rename({\"yago3_col_to_embed\": \"col_to_embed\"})\n",
    "    .with_columns(\n",
    "        col_to_embed=\"<\" + pl.col(\"col_to_embed\") + \">\"\n",
    "    )\n",
    ")"
   ]
  },
  {
   "cell_type": "code",
   "execution_count": 38,
   "metadata": {},
   "outputs": [],
   "source": [
    "df_2021 = df.filter(pl.col(\"Year\") == 2021).drop(\"Year\")"
   ]
  },
  {
   "cell_type": "code",
   "execution_count": 39,
   "metadata": {},
   "outputs": [],
   "source": [
    "df_2021.write_parquet(Path(od_data_path, \"us_accidents_2021-open_data.parquet\"))\n",
    "df_2021.write_parquet(Path(yadl_data_path, \"us_accidents_2021-yadl.parquet\"))\n",
    "df_2021.select(\"County\", \"State\",\"target\").write_parquet(Path(od_data_path, \"us_accidents_2021-depleted-open_data_County.parquet\"))\n",
    "df_2021.select(\"col_to_embed\",\"target\").write_parquet(Path(yadl_data_path, \"us_accidents_2021-yadl-depleted.parquet\"))"
   ]
  },
  {
   "cell_type": "code",
   "execution_count": 40,
   "metadata": {},
   "outputs": [],
   "source": [
    "df.write_parquet(Path(od_data_path, \"us_accidents_large-open_data.parquet\"))\n",
    "df.write_parquet(Path(yadl_data_path, \"us_accidents_large-yadl.parquet\"))\n",
    "df.select(\"County\", \"State\",\"Year\",\"target\").write_parquet(Path(od_data_path, \"us_accidents_large-depleted-open_data_County.parquet\"))\n",
    "df.select(\"Year\",\"col_to_embed\",\"target\").write_parquet(Path(yadl_data_path, \"us_accidents_large-yadl-depleted.parquet\"))"
   ]
  },
  {
   "cell_type": "markdown",
   "metadata": {},
   "source": [
    "# Company employees"
   ]
  },
  {
   "cell_type": "code",
   "execution_count": 8,
   "metadata": {},
   "outputs": [],
   "source": [
    "df = pl.read_parquet(Path(raw_data_path, \"company_employees.parquet\"))\n",
    "df.write_parquet(Path(od_data_path, \"company_employees-open_data.parquet\"))"
   ]
  },
  {
   "cell_type": "code",
   "execution_count": 10,
   "metadata": {},
   "outputs": [],
   "source": [
    "df_yadl = pl.read_parquet(Path(yadl_data_path, \"company_employees-yadl.parquet\"))\n",
    "df_yadl.select(pl.col(\"target\"), pl.col(\"col_to_embed\")).write_parquet(\n",
    "    Path(yadl_data_path, \"company_employees-depleted-yadl.parquet\")\n",
    ")\n",
    "\n",
    "df.select(pl.col(\"name\"), pl.col(\"target\")).write_parquet(\n",
    "    Path(od_data_path, \"company_employees-depleted-open_data.parquet\")\n",
    ")"
   ]
  },
  {
   "cell_type": "markdown",
   "metadata": {},
   "source": [
    "# Housing prices"
   ]
  },
  {
   "cell_type": "code",
   "execution_count": 13,
   "metadata": {},
   "outputs": [],
   "source": [
    "df = pl.read_parquet(Path(yadl_data_path, \"housing_prices-yadl.parquet\"))\n",
    "df.write_parquet(Path(yadl_data_path, \"housing_prices-yadl.parquet\"))\n",
    "df.write_parquet(Path(raw_data_path, \"housing_prices-yadl.parquet\"))\n",
    "df.drop(\"col_to_embed\").write_parquet(\n",
    "    Path(od_data_path, \"housing_prices-open_data.parquet\")\n",
    ")"
   ]
  },
  {
   "cell_type": "code",
   "execution_count": 14,
   "metadata": {},
   "outputs": [
    {
     "data": {
      "text/html": [
       "<div><style>\n",
       ".dataframe > thead > tr > th,\n",
       ".dataframe > tbody > tr > td {\n",
       "  text-align: right;\n",
       "  white-space: pre-wrap;\n",
       "}\n",
       "</style>\n",
       "<small>shape: (22_250, 11)</small><table border=\"1\" class=\"dataframe\"><thead><tr><th>RegionID</th><th>SizeRank</th><th>City</th><th>RegionType</th><th>StateName</th><th>Code</th><th>Metro</th><th>County</th><th>State</th><th>target</th><th>col_to_embed</th></tr><tr><td>i64</td><td>i64</td><td>str</td><td>str</td><td>str</td><td>str</td><td>str</td><td>str</td><td>str</td><td>f64</td><td>str</td></tr></thead><tbody><tr><td>6181</td><td>0</td><td>&quot;New York&quot;</td><td>&quot;city&quot;</td><td>&quot;NY&quot;</td><td>&quot;NY&quot;</td><td>&quot;New York-Newar…</td><td>&quot;Queens County&quot;</td><td>&quot;New York&quot;</td><td>5.854972</td><td>&quot;&lt;New_York_City…</td></tr><tr><td>17222</td><td>43</td><td>&quot;Buffalo&quot;</td><td>&quot;city&quot;</td><td>&quot;NY&quot;</td><td>&quot;NY&quot;</td><td>&quot;Buffalo-Cheekt…</td><td>&quot;Erie County&quot;</td><td>&quot;New York&quot;</td><td>5.334042</td><td>&quot;&lt;Buffalo,_New_…</td></tr><tr><td>832063</td><td>45</td><td>&quot;Rochester&quot;</td><td>&quot;city&quot;</td><td>&quot;NY&quot;</td><td>&quot;NY&quot;</td><td>&quot;Rochester, NY&quot;</td><td>&quot;Monroe County&quot;</td><td>&quot;New York&quot;</td><td>5.322101</td><td>&quot;&lt;Rochester,_Ne…</td></tr><tr><td>34937</td><td>145</td><td>&quot;Yonkers&quot;</td><td>&quot;city&quot;</td><td>&quot;NY&quot;</td><td>&quot;NY&quot;</td><td>&quot;New York-Newar…</td><td>&quot;Westchester Co…</td><td>&quot;New York&quot;</td><td>5.779882</td><td>&quot;&lt;Yonkers,_New_…</td></tr><tr><td>7353</td><td>149</td><td>&quot;Syracuse&quot;</td><td>&quot;city&quot;</td><td>&quot;NY&quot;</td><td>&quot;NY&quot;</td><td>&quot;Syracuse, NY&quot;</td><td>&quot;Onondaga Count…</td><td>&quot;New York&quot;</td><td>5.233641</td><td>&quot;&lt;Syracuse,_New…</td></tr><tr><td>40779</td><td>229</td><td>&quot;Schenectady&quot;</td><td>&quot;city&quot;</td><td>&quot;NY&quot;</td><td>&quot;NY&quot;</td><td>&quot;Albany-Schenec…</td><td>&quot;Schenectady Co…</td><td>&quot;New York&quot;</td><td>5.435997</td><td>&quot;&lt;Schenectady,_…</td></tr><tr><td>37074</td><td>246</td><td>&quot;Albany&quot;</td><td>&quot;city&quot;</td><td>&quot;NY&quot;</td><td>&quot;NY&quot;</td><td>&quot;Albany-Schenec…</td><td>&quot;Albany County&quot;</td><td>&quot;New York&quot;</td><td>5.455378</td><td>&quot;&lt;Albany,_New_Y…</td></tr><tr><td>34819</td><td>698</td><td>&quot;White Plains&quot;</td><td>&quot;city&quot;</td><td>&quot;NY&quot;</td><td>&quot;NY&quot;</td><td>&quot;New York-Newar…</td><td>&quot;Westchester Co…</td><td>&quot;New York&quot;</td><td>5.825207</td><td>&quot;&lt;White_Plains,…</td></tr><tr><td>831538</td><td>699</td><td>&quot;Binghamton&quot;</td><td>&quot;city&quot;</td><td>&quot;NY&quot;</td><td>&quot;NY&quot;</td><td>&quot;Binghamton, NY…</td><td>&quot;Broome County&quot;</td><td>&quot;New York&quot;</td><td>5.200401</td><td>&quot;&lt;Binghamton,_N…</td></tr><tr><td>26114</td><td>705</td><td>&quot;New Rochelle&quot;</td><td>&quot;city&quot;</td><td>&quot;NY&quot;</td><td>&quot;NY&quot;</td><td>&quot;New York-Newar…</td><td>&quot;Westchester Co…</td><td>&quot;New York&quot;</td><td>5.908062</td><td>&quot;&lt;New_Rochelle,…</td></tr><tr><td>32991</td><td>735</td><td>&quot;Mount Vernon&quot;</td><td>&quot;city&quot;</td><td>&quot;NY&quot;</td><td>&quot;NY&quot;</td><td>&quot;New York-Newar…</td><td>&quot;Westchester Co…</td><td>&quot;New York&quot;</td><td>5.709765</td><td>&quot;&lt;Mount_Vernon,…</td></tr><tr><td>21017</td><td>741</td><td>&quot;Utica&quot;</td><td>&quot;city&quot;</td><td>&quot;NY&quot;</td><td>&quot;NY&quot;</td><td>&quot;Utica-Rome, NY…</td><td>&quot;Oneida County&quot;</td><td>&quot;New York&quot;</td><td>5.23566</td><td>&quot;&lt;Utica,_New_Yo…</td></tr><tr><td>&hellip;</td><td>&hellip;</td><td>&hellip;</td><td>&hellip;</td><td>&hellip;</td><td>&hellip;</td><td>&hellip;</td><td>&hellip;</td><td>&hellip;</td><td>&hellip;</td><td>&hellip;</td></tr><tr><td>34115</td><td>26285</td><td>&quot;Stannard&quot;</td><td>&quot;city&quot;</td><td>&quot;VT&quot;</td><td>&quot;VT&quot;</td><td>null</td><td>&quot;Caledonia Coun…</td><td>&quot;Vermont&quot;</td><td>5.422473</td><td>&quot;&lt;Stannard,_Ver…</td></tr><tr><td>38827</td><td>26341</td><td>&quot;Guildhall&quot;</td><td>&quot;city&quot;</td><td>&quot;VT&quot;</td><td>&quot;VT&quot;</td><td>null</td><td>&quot;Essex County&quot;</td><td>&quot;Vermont&quot;</td><td>5.427118</td><td>&quot;&lt;Guildhall,_Ve…</td></tr><tr><td>44916</td><td>26752</td><td>&quot;Derby Line&quot;</td><td>&quot;city&quot;</td><td>&quot;VT&quot;</td><td>&quot;VT&quot;</td><td>null</td><td>&quot;Orleans County…</td><td>&quot;Vermont&quot;</td><td>5.342342</td><td>&quot;&lt;Derby_Line,_V…</td></tr><tr><td>10246</td><td>26874</td><td>&quot;Baltimore&quot;</td><td>&quot;city&quot;</td><td>&quot;VT&quot;</td><td>&quot;VT&quot;</td><td>&quot;Lebanon, NH-VT…</td><td>&quot;Windsor County…</td><td>&quot;Vermont&quot;</td><td>5.5295</td><td>&quot;&lt;Baltimore,_Ve…</td></tr><tr><td>50400</td><td>27025</td><td>&quot;Woodford&quot;</td><td>&quot;city&quot;</td><td>&quot;VT&quot;</td><td>&quot;VT&quot;</td><td>&quot;Bennington, VT…</td><td>&quot;Bennington Cou…</td><td>&quot;Vermont&quot;</td><td>5.372364</td><td>&quot;&lt;Woodford,_Ver…</td></tr><tr><td>46917</td><td>27122</td><td>&quot;Orleans&quot;</td><td>&quot;city&quot;</td><td>&quot;VT&quot;</td><td>&quot;VT&quot;</td><td>null</td><td>&quot;Orleans County…</td><td>&quot;Vermont&quot;</td><td>5.219014</td><td>&quot;&lt;Orleans,_Verm…</td></tr><tr><td>6240</td><td>27452</td><td>&quot;North Troy&quot;</td><td>&quot;city&quot;</td><td>&quot;VT&quot;</td><td>&quot;VT&quot;</td><td>null</td><td>&quot;Orleans County…</td><td>&quot;Vermont&quot;</td><td>5.173568</td><td>&quot;&lt;North_Troy,_V…</td></tr><tr><td>396478</td><td>27594</td><td>&quot;Landgrove&quot;</td><td>&quot;city&quot;</td><td>&quot;VT&quot;</td><td>&quot;VT&quot;</td><td>&quot;Bennington, VT…</td><td>&quot;Bennington Cou…</td><td>&quot;Vermont&quot;</td><td>5.912688</td><td>&quot;&lt;Landgrove,_Ve…</td></tr><tr><td>27831</td><td>27951</td><td>&quot;Wells River&quot;</td><td>&quot;city&quot;</td><td>&quot;VT&quot;</td><td>&quot;VT&quot;</td><td>&quot;Lebanon, NH-VT…</td><td>&quot;Orange County&quot;</td><td>&quot;Vermont&quot;</td><td>5.369254</td><td>&quot;&lt;Wells_River,_…</td></tr><tr><td>398478</td><td>28081</td><td>&quot;Lemington&quot;</td><td>&quot;city&quot;</td><td>&quot;VT&quot;</td><td>&quot;VT&quot;</td><td>null</td><td>&quot;Essex County&quot;</td><td>&quot;Vermont&quot;</td><td>5.349301</td><td>&quot;&lt;Lemington,_Ve…</td></tr><tr><td>56021</td><td>28699</td><td>&quot;Jeffersonville…</td><td>&quot;city&quot;</td><td>&quot;VT&quot;</td><td>&quot;VT&quot;</td><td>null</td><td>&quot;Lamoille Count…</td><td>&quot;Vermont&quot;</td><td>5.559919</td><td>&quot;&lt;Jeffersonvill…</td></tr><tr><td>249186</td><td>28699</td><td>&quot;Derby Center&quot;</td><td>&quot;city&quot;</td><td>&quot;VT&quot;</td><td>&quot;VT&quot;</td><td>null</td><td>&quot;Orleans County…</td><td>&quot;Vermont&quot;</td><td>5.396455</td><td>&quot;&lt;Derby_Center,…</td></tr></tbody></table></div>"
      ],
      "text/plain": [
       "shape: (22_250, 11)\n",
       "┌──────────┬──────────┬────────────┬────────────┬───┬────────────┬──────────┬──────────┬───────────┐\n",
       "│ RegionID ┆ SizeRank ┆ City       ┆ RegionType ┆ … ┆ County     ┆ State    ┆ target   ┆ col_to_em │\n",
       "│ ---      ┆ ---      ┆ ---        ┆ ---        ┆   ┆ ---        ┆ ---      ┆ ---      ┆ bed       │\n",
       "│ i64      ┆ i64      ┆ str        ┆ str        ┆   ┆ str        ┆ str      ┆ f64      ┆ ---       │\n",
       "│          ┆          ┆            ┆            ┆   ┆            ┆          ┆          ┆ str       │\n",
       "╞══════════╪══════════╪════════════╪════════════╪═══╪════════════╪══════════╪══════════╪═══════════╡\n",
       "│ 6181     ┆ 0        ┆ New York   ┆ city       ┆ … ┆ Queens     ┆ New York ┆ 5.854972 ┆ <New_York │\n",
       "│          ┆          ┆            ┆            ┆   ┆ County     ┆          ┆          ┆ _City>    │\n",
       "│ 17222    ┆ 43       ┆ Buffalo    ┆ city       ┆ … ┆ Erie       ┆ New York ┆ 5.334042 ┆ <Buffalo, │\n",
       "│          ┆          ┆            ┆            ┆   ┆ County     ┆          ┆          ┆ _New_York │\n",
       "│          ┆          ┆            ┆            ┆   ┆            ┆          ┆          ┆ >         │\n",
       "│ 832063   ┆ 45       ┆ Rochester  ┆ city       ┆ … ┆ Monroe     ┆ New York ┆ 5.322101 ┆ <Rocheste │\n",
       "│          ┆          ┆            ┆            ┆   ┆ County     ┆          ┆          ┆ r,_New_Yo │\n",
       "│          ┆          ┆            ┆            ┆   ┆            ┆          ┆          ┆ rk>       │\n",
       "│ 34937    ┆ 145      ┆ Yonkers    ┆ city       ┆ … ┆ Westcheste ┆ New York ┆ 5.779882 ┆ <Yonkers, │\n",
       "│          ┆          ┆            ┆            ┆   ┆ r County   ┆          ┆          ┆ _New_York │\n",
       "│          ┆          ┆            ┆            ┆   ┆            ┆          ┆          ┆ >         │\n",
       "│ …        ┆ …        ┆ …          ┆ …          ┆ … ┆ …          ┆ …        ┆ …        ┆ …         │\n",
       "│ 27831    ┆ 27951    ┆ Wells      ┆ city       ┆ … ┆ Orange     ┆ Vermont  ┆ 5.369254 ┆ <Wells_Ri │\n",
       "│          ┆          ┆ River      ┆            ┆   ┆ County     ┆          ┆          ┆ ver,_Verm │\n",
       "│          ┆          ┆            ┆            ┆   ┆            ┆          ┆          ┆ ont>      │\n",
       "│ 398478   ┆ 28081    ┆ Lemington  ┆ city       ┆ … ┆ Essex      ┆ Vermont  ┆ 5.349301 ┆ <Lemingto │\n",
       "│          ┆          ┆            ┆            ┆   ┆ County     ┆          ┆          ┆ n,_Vermon │\n",
       "│          ┆          ┆            ┆            ┆   ┆            ┆          ┆          ┆ t>        │\n",
       "│ 56021    ┆ 28699    ┆ Jeffersonv ┆ city       ┆ … ┆ Lamoille   ┆ Vermont  ┆ 5.559919 ┆ <Jefferso │\n",
       "│          ┆          ┆ ille       ┆            ┆   ┆ County     ┆          ┆          ┆ nville,_V │\n",
       "│          ┆          ┆            ┆            ┆   ┆            ┆          ┆          ┆ ermont>   │\n",
       "│ 249186   ┆ 28699    ┆ Derby      ┆ city       ┆ … ┆ Orleans    ┆ Vermont  ┆ 5.396455 ┆ <Derby_Ce │\n",
       "│          ┆          ┆ Center     ┆            ┆   ┆ County     ┆          ┆          ┆ nter,_Ver │\n",
       "│          ┆          ┆            ┆            ┆   ┆            ┆          ┆          ┆ mont>     │\n",
       "└──────────┴──────────┴────────────┴────────────┴───┴────────────┴──────────┴──────────┴───────────┘"
      ]
     },
     "execution_count": 14,
     "metadata": {},
     "output_type": "execute_result"
    }
   ],
   "source": [
    "df"
   ]
  },
  {
   "cell_type": "markdown",
   "metadata": {},
   "source": [
    "# US Elections"
   ]
  },
  {
   "cell_type": "code",
   "execution_count": 7,
   "metadata": {},
   "outputs": [],
   "source": [
    "df = pl.read_parquet(Path(yadl_data_path, \"us_elections-yadl.parquet\"))\n",
    "df_dem = df.filter(pl.col(\"party\") == \"DEMOCRAT\")\n",
    "df_dem.write_parquet(Path(yadl_data_path, \"us_elections_dem-yadl.parquet\"))\n",
    "df_dem.drop(\"col_to_embed\").write_parquet(\n",
    "    Path(od_data_path, \"us_elections_dem-open_data.parquet\")\n",
    ")\n",
    "df_dem.select(pl.col(\"target\"), pl.col(\"col_to_embed\")).write_parquet(\n",
    "    Path(yadl_data_path, \"us_elections_dem-yadl-depleted.parquet\")\n",
    ")\n",
    "df_dem.select(pl.col(\"target\"), pl.col(\"county_name\")).write_parquet(\n",
    "    Path(od_data_path, \"us_elections_dem-open_data-depleted.parquet\")\n",
    ")"
   ]
  }
 ],
 "metadata": {
  "kernelspec": {
   "display_name": "bench-repro",
   "language": "python",
   "name": "python3"
  },
  "language_info": {
   "codemirror_mode": {
    "name": "ipython",
    "version": 3
   },
   "file_extension": ".py",
   "mimetype": "text/x-python",
   "name": "python",
   "nbconvert_exporter": "python",
   "pygments_lexer": "ipython3",
   "version": "3.10.0"
  }
 },
 "nbformat": 4,
 "nbformat_minor": 2
}
