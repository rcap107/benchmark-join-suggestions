{
 "cells": [
  {
   "cell_type": "code",
   "execution_count": 2,
   "metadata": {},
   "outputs": [
    {
     "name": "stdout",
     "output_type": "stream",
     "text": [
      "/home/soda/rcappuzz/work/benchmark-join-suggestions\n"
     ]
    }
   ],
   "source": [
    "%cd ~/bench"
   ]
  },
  {
   "cell_type": "code",
   "execution_count": 3,
   "metadata": {},
   "outputs": [
    {
     "data": {
      "text/plain": [
       "polars.config.Config"
      ]
     },
     "execution_count": 3,
     "metadata": {},
     "output_type": "execute_result"
    }
   ],
   "source": [
    "%load_ext autoreload\n",
    "%autoreload 2\n",
    "import polars as pl\n",
    "import seaborn as sns\n",
    "import matplotlib.pyplot as plt\n",
    "from pathlib import Path\n",
    "import numpy as np\n",
    "import matplotlib.colors as mcolors\n",
    "import src.utils.plotting as plotting\n",
    "from src.utils.logging import read_logs\n",
    "from matplotlib.gridspec import GridSpec\n",
    "\n",
    "import tarfile\n",
    "import json\n",
    "import pandas as pd \n",
    "cfg = pl.Config()\n",
    "cfg.set_fmt_str_lengths(150)"
   ]
  },
  {
   "cell_type": "markdown",
   "metadata": {},
   "source": [
    "# Combine all results "
   ]
  },
  {
   "cell_type": "code",
   "execution_count": 4,
   "metadata": {},
   "outputs": [],
   "source": [
    "root_path = Path(\"results/big_batch\")\n",
    "df_list = []\n",
    "for rpath in root_path.iterdir():\n",
    "    df_raw = read_logs(exp_name=None, exp_path=rpath)\n",
    "    df_list.append(df_raw)\n",
    "\n",
    "df_results = pl.concat(df_list)"
   ]
  },
  {
   "cell_type": "markdown",
   "metadata": {},
   "source": [
    "# BIG BATCH"
   ]
  },
  {
   "cell_type": "code",
   "execution_count": 5,
   "metadata": {},
   "outputs": [],
   "source": [
    "df_ = df_results.select(\n",
    "    pl.col(\n",
    "        [\n",
    "            \"scenario_id\",\n",
    "            \"target_dl\",\n",
    "            \"jd_method\",\n",
    "            \"base_table\",\n",
    "            \"estimator\",\n",
    "            \"chosen_model\",\n",
    "            \"aggregation\",\n",
    "            \"r2score\",\n",
    "            \"time_fit\",\n",
    "            \"time_predict\",\n",
    "            \"time_run\",\n",
    "            \"epsilon\",\n",
    "        ]\n",
    "    )\n",
    ").filter(\n",
    "    (~pl.col(\"base_table\").str.contains(\"open_data\"))\n",
    "    & (pl.col(\"target_dl\") != \"wordnet_big\")\n",
    ")"
   ]
  },
  {
   "cell_type": "code",
   "execution_count": 6,
   "metadata": {},
   "outputs": [],
   "source": [
    "df_ = df_.group_by(\n",
    "    [\"target_dl\", \"jd_method\", \"base_table\", \"estimator\", \"chosen_model\"]\n",
    ").map_groups(lambda x: x.with_row_count(\"fold_id\"))"
   ]
  },
  {
   "cell_type": "code",
   "execution_count": 7,
   "metadata": {},
   "outputs": [],
   "source": [
    "joined = df_.join(\n",
    "    df_.filter(pl.col(\"estimator\") == \"nojoin\"),\n",
    "    on=[\"target_dl\", \"jd_method\", \"base_table\", \"chosen_model\", \"fold_id\"],\n",
    "    how=\"left\",\n",
    ").with_columns((pl.col(\"r2score\") - pl.col(\"r2score_right\")).alias(\"difference\"))"
   ]
  },
  {
   "cell_type": "code",
   "execution_count": 8,
   "metadata": {},
   "outputs": [],
   "source": [
    "results_full = joined.filter(~pl.col(\"base_table\").str.contains(\"depleted\"))\n",
    "results_depleted = joined.filter(pl.col(\"base_table\").str.contains(\"depleted\"))"
   ]
  },
  {
   "cell_type": "code",
   "execution_count": 9,
   "metadata": {},
   "outputs": [],
   "source": [
    "max_diff_full = results_full.select(pl.col(\"difference\").abs().max()).item()\n",
    "max_diff_full = results_full.with_columns(\n",
    "    (pl.col(\"difference\") / max_diff_full).alias(\"scaled_diff\")\n",
    ")\n",
    "max_diff_depleted = results_depleted.select(pl.col(\"difference\").abs().max()).item()\n",
    "results_depleted = results_depleted.with_columns(\n",
    "    (pl.col(\"difference\") / max_diff_depleted).alias(\"scaled_diff\")\n",
    ")\n",
    "\n",
    "results_full = results_full.with_columns(\n",
    "    (pl.col(\"difference\") / max_diff_depleted).alias(\"scaled_diff\")\n",
    ")\n",
    "\n",
    "results_depleted = results_depleted.with_columns(\n",
    "    (pl.col(\"difference\") / max_diff_depleted).alias(\"scaled_diff\")\n",
    ")"
   ]
  },
  {
   "cell_type": "code",
   "execution_count": null,
   "metadata": {},
   "outputs": [],
   "source": []
  },
  {
   "cell_type": "code",
   "execution_count": 10,
   "metadata": {},
   "outputs": [],
   "source": [
    "current_results = results_depleted.clone()"
   ]
  },
  {
   "cell_type": "markdown",
   "metadata": {},
   "source": [
    "# Post-hoc"
   ]
  },
  {
   "cell_type": "code",
   "execution_count": 11,
   "metadata": {},
   "outputs": [],
   "source": [
    "current_results = current_results.with_columns(\n",
    "    (pl.col(\"difference\") / max_diff_depleted).alias(\"scaled_diff\")\n",
    ")"
   ]
  },
  {
   "cell_type": "code",
   "execution_count": 12,
   "metadata": {},
   "outputs": [
    {
     "data": {
      "text/html": [
       "<div><style>\n",
       ".dataframe > thead > tr > th,\n",
       ".dataframe > tbody > tr > td {\n",
       "  text-align: right;\n",
       "  white-space: pre-wrap;\n",
       "}\n",
       "</style>\n",
       "<small>shape: (5, 23)</small><table border=\"1\" class=\"dataframe\"><thead><tr><th>fold_id</th><th>scenario_id</th><th>target_dl</th><th>jd_method</th><th>base_table</th><th>estimator</th><th>chosen_model</th><th>aggregation</th><th>r2score</th><th>time_fit</th><th>time_predict</th><th>time_run</th><th>epsilon</th><th>scenario_id_right</th><th>estimator_right</th><th>aggregation_right</th><th>r2score_right</th><th>time_fit_right</th><th>time_predict_right</th><th>time_run_right</th><th>epsilon_right</th><th>difference</th><th>scaled_diff</th></tr><tr><td>u32</td><td>i64</td><td>str</td><td>str</td><td>str</td><td>str</td><td>str</td><td>str</td><td>f64</td><td>f64</td><td>f64</td><td>f64</td><td>f64</td><td>i64</td><td>str</td><td>str</td><td>f64</td><td>f64</td><td>f64</td><td>f64</td><td>f64</td><td>f64</td><td>f64</td></tr></thead><tbody><tr><td>0</td><td>79</td><td>&quot;binary_update&quot;</td><td>&quot;minhash&quot;</td><td>&quot;housing-prices-yadl-depleted&quot;</td><td>&quot;best_single_join&quot;</td><td>&quot;catboost&quot;</td><td>&quot;first&quot;</td><td>0.304524</td><td>16.087928</td><td>0.376039</td><td>16.464824</td><td>null</td><td>79</td><td>&quot;nojoin&quot;</td><td>&quot;first&quot;</td><td>-0.000192</td><td>0.599629</td><td>0.009321</td><td>0.609729</td><td>null</td><td>0.304716</td><td>0.505126</td></tr><tr><td>1</td><td>79</td><td>&quot;binary_update&quot;</td><td>&quot;minhash&quot;</td><td>&quot;housing-prices-yadl-depleted&quot;</td><td>&quot;best_single_join&quot;</td><td>&quot;catboost&quot;</td><td>&quot;first&quot;</td><td>0.290669</td><td>17.004795</td><td>0.450631</td><td>17.456726</td><td>null</td><td>79</td><td>&quot;nojoin&quot;</td><td>&quot;first&quot;</td><td>-0.000172</td><td>0.19054</td><td>0.008556</td><td>0.199852</td><td>null</td><td>0.290842</td><td>0.482127</td></tr><tr><td>2</td><td>79</td><td>&quot;binary_update&quot;</td><td>&quot;minhash&quot;</td><td>&quot;housing-prices-yadl-depleted&quot;</td><td>&quot;best_single_join&quot;</td><td>&quot;catboost&quot;</td><td>&quot;first&quot;</td><td>0.301209</td><td>16.950179</td><td>0.46917</td><td>17.420345</td><td>null</td><td>79</td><td>&quot;nojoin&quot;</td><td>&quot;first&quot;</td><td>-0.000131</td><td>0.542593</td><td>0.010932</td><td>0.554324</td><td>null</td><td>0.301341</td><td>0.499531</td></tr><tr><td>3</td><td>79</td><td>&quot;binary_update&quot;</td><td>&quot;minhash&quot;</td><td>&quot;housing-prices-yadl-depleted&quot;</td><td>&quot;best_single_join&quot;</td><td>&quot;catboost&quot;</td><td>&quot;first&quot;</td><td>0.303796</td><td>15.802756</td><td>0.4048</td><td>16.209521</td><td>null</td><td>79</td><td>&quot;nojoin&quot;</td><td>&quot;first&quot;</td><td>-0.000131</td><td>0.578784</td><td>0.011165</td><td>0.591843</td><td>null</td><td>0.303927</td><td>0.503817</td></tr><tr><td>4</td><td>79</td><td>&quot;binary_update&quot;</td><td>&quot;minhash&quot;</td><td>&quot;housing-prices-yadl-depleted&quot;</td><td>&quot;best_single_join&quot;</td><td>&quot;catboost&quot;</td><td>&quot;first&quot;</td><td>0.321411</td><td>15.187321</td><td>0.523769</td><td>15.712048</td><td>null</td><td>79</td><td>&quot;nojoin&quot;</td><td>&quot;first&quot;</td><td>-0.001411</td><td>0.119879</td><td>0.010132</td><td>0.130916</td><td>null</td><td>0.322823</td><td>0.535141</td></tr></tbody></table></div>"
      ],
      "text/plain": [
       "shape: (5, 23)\n",
       "┌─────────┬────────────┬───────────┬───────────┬───┬───────────┬───────────┬───────────┬───────────┐\n",
       "│ fold_id ┆ scenario_i ┆ target_dl ┆ jd_method ┆ … ┆ time_run_ ┆ epsilon_r ┆ differenc ┆ scaled_di │\n",
       "│ ---     ┆ d          ┆ ---       ┆ ---       ┆   ┆ right     ┆ ight      ┆ e         ┆ ff        │\n",
       "│ u32     ┆ ---        ┆ str       ┆ str       ┆   ┆ ---       ┆ ---       ┆ ---       ┆ ---       │\n",
       "│         ┆ i64        ┆           ┆           ┆   ┆ f64       ┆ f64       ┆ f64       ┆ f64       │\n",
       "╞═════════╪════════════╪═══════════╪═══════════╪═══╪═══════════╪═══════════╪═══════════╪═══════════╡\n",
       "│ 0       ┆ 79         ┆ binary_up ┆ minhash   ┆ … ┆ 0.609729  ┆ null      ┆ 0.304716  ┆ 0.505126  │\n",
       "│         ┆            ┆ date      ┆           ┆   ┆           ┆           ┆           ┆           │\n",
       "│ 1       ┆ 79         ┆ binary_up ┆ minhash   ┆ … ┆ 0.199852  ┆ null      ┆ 0.290842  ┆ 0.482127  │\n",
       "│         ┆            ┆ date      ┆           ┆   ┆           ┆           ┆           ┆           │\n",
       "│ 2       ┆ 79         ┆ binary_up ┆ minhash   ┆ … ┆ 0.554324  ┆ null      ┆ 0.301341  ┆ 0.499531  │\n",
       "│         ┆            ┆ date      ┆           ┆   ┆           ┆           ┆           ┆           │\n",
       "│ 3       ┆ 79         ┆ binary_up ┆ minhash   ┆ … ┆ 0.591843  ┆ null      ┆ 0.303927  ┆ 0.503817  │\n",
       "│         ┆            ┆ date      ┆           ┆   ┆           ┆           ┆           ┆           │\n",
       "│ 4       ┆ 79         ┆ binary_up ┆ minhash   ┆ … ┆ 0.130916  ┆ null      ┆ 0.322823  ┆ 0.535141  │\n",
       "│         ┆            ┆ date      ┆           ┆   ┆           ┆           ┆           ┆           │\n",
       "└─────────┴────────────┴───────────┴───────────┴───┴───────────┴───────────┴───────────┴───────────┘"
      ]
     },
     "execution_count": 12,
     "metadata": {},
     "output_type": "execute_result"
    }
   ],
   "source": [
    "current_results.head()"
   ]
  },
  {
   "cell_type": "code",
   "execution_count": 13,
   "metadata": {},
   "outputs": [
    {
     "data": {
      "text/html": [
       "<div><style>\n",
       ".dataframe > thead > tr > th,\n",
       ".dataframe > tbody > tr > td {\n",
       "  text-align: right;\n",
       "  white-space: pre-wrap;\n",
       "}\n",
       "</style>\n",
       "<small>shape: (5, 6)</small><table border=\"1\" class=\"dataframe\"><thead><tr><th>target_dl</th><th>jd_method</th><th>estimator</th><th>chosen_model</th><th>avg_scaled_diff</th><th>std_scaled_diff</th></tr><tr><td>str</td><td>str</td><td>str</td><td>str</td><td>f64</td><td>f64</td></tr></thead><tbody><tr><td>&quot;binary_update&quot;</td><td>&quot;exact_matching&quot;</td><td>&quot;stepwise_greedy_join&quot;</td><td>&quot;catboost&quot;</td><td>0.513866</td><td>0.302553</td></tr><tr><td>&quot;binary_update&quot;</td><td>&quot;exact_matching&quot;</td><td>&quot;full_join&quot;</td><td>&quot;catboost&quot;</td><td>0.511494</td><td>0.302724</td></tr><tr><td>&quot;wordnet_full_flat&quot;</td><td>&quot;exact_matching&quot;</td><td>&quot;stepwise_greedy_join&quot;</td><td>&quot;catboost&quot;</td><td>0.486717</td><td>0.346504</td></tr><tr><td>&quot;wordnet_full_flat&quot;</td><td>&quot;exact_matching&quot;</td><td>&quot;full_join&quot;</td><td>&quot;catboost&quot;</td><td>0.48388</td><td>0.350774</td></tr><tr><td>&quot;wordnet_full_flat&quot;</td><td>&quot;exact_matching&quot;</td><td>&quot;best_single_join&quot;</td><td>&quot;catboost&quot;</td><td>0.461891</td><td>0.367982</td></tr></tbody></table></div>"
      ],
      "text/plain": [
       "shape: (5, 6)\n",
       "┌────────────────┬────────────────┬────────────────┬──────────────┬────────────────┬───────────────┐\n",
       "│ target_dl      ┆ jd_method      ┆ estimator      ┆ chosen_model ┆ avg_scaled_dif ┆ std_scaled_di │\n",
       "│ ---            ┆ ---            ┆ ---            ┆ ---          ┆ f              ┆ ff            │\n",
       "│ str            ┆ str            ┆ str            ┆ str          ┆ ---            ┆ ---           │\n",
       "│                ┆                ┆                ┆              ┆ f64            ┆ f64           │\n",
       "╞════════════════╪════════════════╪════════════════╪══════════════╪════════════════╪═══════════════╡\n",
       "│ binary_update  ┆ exact_matching ┆ stepwise_greed ┆ catboost     ┆ 0.513866       ┆ 0.302553      │\n",
       "│                ┆                ┆ y_join         ┆              ┆                ┆               │\n",
       "│ binary_update  ┆ exact_matching ┆ full_join      ┆ catboost     ┆ 0.511494       ┆ 0.302724      │\n",
       "│ wordnet_full_f ┆ exact_matching ┆ stepwise_greed ┆ catboost     ┆ 0.486717       ┆ 0.346504      │\n",
       "│ lat            ┆                ┆ y_join         ┆              ┆                ┆               │\n",
       "│ wordnet_full_f ┆ exact_matching ┆ full_join      ┆ catboost     ┆ 0.48388        ┆ 0.350774      │\n",
       "│ lat            ┆                ┆                ┆              ┆                ┆               │\n",
       "│ wordnet_full_f ┆ exact_matching ┆ best_single_jo ┆ catboost     ┆ 0.461891       ┆ 0.367982      │\n",
       "│ lat            ┆                ┆ in             ┆              ┆                ┆               │\n",
       "└────────────────┴────────────────┴────────────────┴──────────────┴────────────────┴───────────────┘"
      ]
     },
     "execution_count": 13,
     "metadata": {},
     "output_type": "execute_result"
    }
   ],
   "source": [
    "# Top 5 scores overall\n",
    "current_results.group_by([\"target_dl\", \"jd_method\", \"estimator\", \"chosen_model\"]).agg(\n",
    "    pl.mean(\"scaled_diff\").alias(\"avg_scaled_diff\"),\n",
    "    pl.std(\"scaled_diff\").alias(\"std_scaled_diff\"),\n",
    ").top_k(k=5, by=\"avg_scaled_diff\")"
   ]
  },
  {
   "cell_type": "markdown",
   "metadata": {},
   "source": [
    "For each variable, I am going to find the best configuration on averge, then fix that value for comparison in other plots. "
   ]
  },
  {
   "cell_type": "code",
   "execution_count": 14,
   "metadata": {},
   "outputs": [
    {
     "data": {
      "text/html": [
       "<div><style>\n",
       ".dataframe > thead > tr > th,\n",
       ".dataframe > tbody > tr > td {\n",
       "  text-align: right;\n",
       "  white-space: pre-wrap;\n",
       "}\n",
       "</style>\n",
       "<small>shape: (2, 2)</small><table border=\"1\" class=\"dataframe\"><thead><tr><th>target_dl</th><th>avg_scaled_diff</th></tr><tr><td>str</td><td>f64</td></tr></thead><tbody><tr><td>&quot;wordnet_full_flat&quot;</td><td>0.241706</td></tr><tr><td>&quot;binary_update&quot;</td><td>0.204701</td></tr></tbody></table></div>"
      ],
      "text/plain": [
       "shape: (2, 2)\n",
       "┌───────────────────┬─────────────────┐\n",
       "│ target_dl         ┆ avg_scaled_diff │\n",
       "│ ---               ┆ ---             │\n",
       "│ str               ┆ f64             │\n",
       "╞═══════════════════╪═════════════════╡\n",
       "│ wordnet_full_flat ┆ 0.241706        │\n",
       "│ binary_update     ┆ 0.204701        │\n",
       "└───────────────────┴─────────────────┘"
      ]
     },
     "metadata": {},
     "output_type": "display_data"
    },
    {
     "data": {
      "text/html": [
       "<div><style>\n",
       ".dataframe > thead > tr > th,\n",
       ".dataframe > tbody > tr > td {\n",
       "  text-align: right;\n",
       "  white-space: pre-wrap;\n",
       "}\n",
       "</style>\n",
       "<small>shape: (2, 2)</small><table border=\"1\" class=\"dataframe\"><thead><tr><th>jd_method</th><th>avg_scaled_diff</th></tr><tr><td>str</td><td>f64</td></tr></thead><tbody><tr><td>&quot;exact_matching&quot;</td><td>0.276931</td></tr><tr><td>&quot;minhash&quot;</td><td>0.169476</td></tr></tbody></table></div>"
      ],
      "text/plain": [
       "shape: (2, 2)\n",
       "┌────────────────┬─────────────────┐\n",
       "│ jd_method      ┆ avg_scaled_diff │\n",
       "│ ---            ┆ ---             │\n",
       "│ str            ┆ f64             │\n",
       "╞════════════════╪═════════════════╡\n",
       "│ exact_matching ┆ 0.276931        │\n",
       "│ minhash        ┆ 0.169476        │\n",
       "└────────────────┴─────────────────┘"
      ]
     },
     "metadata": {},
     "output_type": "display_data"
    },
    {
     "data": {
      "text/html": [
       "<div><style>\n",
       ".dataframe > thead > tr > th,\n",
       ".dataframe > tbody > tr > td {\n",
       "  text-align: right;\n",
       "  white-space: pre-wrap;\n",
       "}\n",
       "</style>\n",
       "<small>shape: (5, 2)</small><table border=\"1\" class=\"dataframe\"><thead><tr><th>estimator</th><th>avg_scaled_diff</th></tr><tr><td>str</td><td>f64</td></tr></thead><tbody><tr><td>&quot;full_join&quot;</td><td>0.339585</td></tr><tr><td>&quot;stepwise_greedy_join&quot;</td><td>0.336955</td></tr><tr><td>&quot;best_single_join&quot;</td><td>0.253873</td></tr><tr><td>&quot;highest_containment&quot;</td><td>0.185604</td></tr><tr><td>&quot;nojoin&quot;</td><td>0.0</td></tr></tbody></table></div>"
      ],
      "text/plain": [
       "shape: (5, 2)\n",
       "┌──────────────────────┬─────────────────┐\n",
       "│ estimator            ┆ avg_scaled_diff │\n",
       "│ ---                  ┆ ---             │\n",
       "│ str                  ┆ f64             │\n",
       "╞══════════════════════╪═════════════════╡\n",
       "│ full_join            ┆ 0.339585        │\n",
       "│ stepwise_greedy_join ┆ 0.336955        │\n",
       "│ best_single_join     ┆ 0.253873        │\n",
       "│ highest_containment  ┆ 0.185604        │\n",
       "│ nojoin               ┆ 0.0             │\n",
       "└──────────────────────┴─────────────────┘"
      ]
     },
     "metadata": {},
     "output_type": "display_data"
    },
    {
     "data": {
      "text/html": [
       "<div><style>\n",
       ".dataframe > thead > tr > th,\n",
       ".dataframe > tbody > tr > td {\n",
       "  text-align: right;\n",
       "  white-space: pre-wrap;\n",
       "}\n",
       "</style>\n",
       "<small>shape: (2, 2)</small><table border=\"1\" class=\"dataframe\"><thead><tr><th>chosen_model</th><th>avg_scaled_diff</th></tr><tr><td>str</td><td>f64</td></tr></thead><tbody><tr><td>&quot;catboost&quot;</td><td>0.262856</td></tr><tr><td>&quot;linear&quot;</td><td>0.18355</td></tr></tbody></table></div>"
      ],
      "text/plain": [
       "shape: (2, 2)\n",
       "┌──────────────┬─────────────────┐\n",
       "│ chosen_model ┆ avg_scaled_diff │\n",
       "│ ---          ┆ ---             │\n",
       "│ str          ┆ f64             │\n",
       "╞══════════════╪═════════════════╡\n",
       "│ catboost     ┆ 0.262856        │\n",
       "│ linear       ┆ 0.18355         │\n",
       "└──────────────┴─────────────────┘"
      ]
     },
     "metadata": {},
     "output_type": "display_data"
    }
   ],
   "source": [
    "best_value = {}\n",
    "for v in [\"target_dl\", \"jd_method\", \"estimator\", \"chosen_model\"]:\n",
    "    this_best = (\n",
    "        current_results.group_by(v)\n",
    "        .agg(\n",
    "            pl.mean(\"scaled_diff\").alias(\"avg_scaled_diff\"),\n",
    "        )\n",
    "        .top_k(k=5, by=\"avg_scaled_diff\")\n",
    "    )\n",
    "    best_value[v] = this_best.top_k(1, by=\"avg_scaled_diff\")[v].item()\n",
    "    display(this_best)"
   ]
  },
  {
   "cell_type": "code",
   "execution_count": 15,
   "metadata": {},
   "outputs": [
    {
     "data": {
      "text/plain": [
       "{'target_dl': 'wordnet_full_flat',\n",
       " 'jd_method': 'exact_matching',\n",
       " 'estimator': 'full_join',\n",
       " 'chosen_model': 'catboost'}"
      ]
     },
     "execution_count": 15,
     "metadata": {},
     "output_type": "execute_result"
    }
   ],
   "source": [
    "best_value"
   ]
  },
  {
   "cell_type": "markdown",
   "metadata": {},
   "source": [
    "### Variable: Target DL"
   ]
  },
  {
   "cell_type": "code",
   "execution_count": 16,
   "metadata": {},
   "outputs": [],
   "source": [
    "def prepare_data(df, target_variable):\n",
    "    values = (\n",
    "        df.filter(pl.col(\"estimator\") != \"nojoin\")\n",
    "        .with_columns(\n",
    "            pl.col(\"estimator\").cast(pl.Categorical).to_physical().alias(\"est_cat\")\n",
    "        )\n",
    "        .group_by(target_variable)\n",
    "        .agg(pl.all())\n",
    "        .select(\n",
    "            pl.col(target_variable),\n",
    "            pl.col(\"scaled_diff\"),\n",
    "            pl.col(\"estimator\"),\n",
    "            pl.col(\"est_cat\"),\n",
    "        )\n",
    "    )\n",
    "    values_dict = values.to_dict()\n",
    "    data = [np.array(arr) for arr in values_dict[\"scaled_diff\"]]\n",
    "    label_mapping = (\n",
    "        df.filter(pl.col(\"estimator\") != \"nojoin\")\n",
    "        .select(\n",
    "            pl.col(\"estimator\").cast(pl.Categorical).cat.get_categories().alias(\"label\")\n",
    "        )\n",
    "        .with_row_count(\"idx\")\n",
    "        .to_dict()\n",
    "    )\n",
    "    return data, values_dict, label_mapping"
   ]
  },
  {
   "cell_type": "code",
   "execution_count": 17,
   "metadata": {},
   "outputs": [],
   "source": [
    "target_variable = \"jd_method\"\n",
    "data, values_dict, label_mapping = prepare_data(current_results, target_variable)"
   ]
  },
  {
   "cell_type": "code",
   "execution_count": 18,
   "metadata": {},
   "outputs": [],
   "source": [
    "cases = (\n",
    "    current_results.filter(pl.col(\"estimator\") != \"nojoin\")\n",
    "    .select(pl.col([\"jd_method\", \"chosen_model\", \"estimator\"]).unique().implode())\n",
    "    .transpose(include_header=True)\n",
    "    .to_dict(as_series=False)\n",
    ")\n",
    "\n",
    "cases = dict(zip(*list(cases.values())))"
   ]
  },
  {
   "cell_type": "code",
   "execution_count": 19,
   "metadata": {},
   "outputs": [
    {
     "data": {
      "text/plain": [
       "16"
      ]
     },
     "execution_count": 19,
     "metadata": {},
     "output_type": "execute_result"
    }
   ],
   "source": [
    "import itertools\n",
    "\n",
    "sum(1 for _ in itertools.product(*cases.values()))"
   ]
  },
  {
   "cell_type": "code",
   "execution_count": 20,
   "metadata": {},
   "outputs": [
    {
     "ename": "TypeError",
     "evalue": "draw_plot() missing 1 required positional argument: 'inner_dimensions'",
     "output_type": "error",
     "traceback": [
      "\u001b[0;31m---------------------------------------------------------------------------\u001b[0m",
      "\u001b[0;31mTypeError\u001b[0m                                 Traceback (most recent call last)",
      "Cell \u001b[0;32mIn[20], line 2\u001b[0m\n\u001b[1;32m      1\u001b[0m \u001b[38;5;28;01mfor\u001b[39;00m outer_variable \u001b[38;5;129;01min\u001b[39;00m cases:\n\u001b[0;32m----> 2\u001b[0m     \u001b[43mplotting\u001b[49m\u001b[38;5;241;43m.\u001b[39;49m\u001b[43mdraw_plot\u001b[49m\u001b[43m(\u001b[49m\u001b[43mcases\u001b[49m\u001b[43m,\u001b[49m\u001b[43m \u001b[49m\u001b[43mouter_variable\u001b[49m\u001b[43m,\u001b[49m\u001b[43m \u001b[49m\u001b[43mcurrent_results\u001b[49m\u001b[43m)\u001b[49m\n",
      "\u001b[0;31mTypeError\u001b[0m: draw_plot() missing 1 required positional argument: 'inner_dimensions'"
     ]
    }
   ],
   "source": [
    "for outer_variable in cases:\n",
    "    plotting.draw_plot(cases, outer_variable, current_results)"
   ]
  },
  {
   "cell_type": "code",
   "execution_count": null,
   "metadata": {},
   "outputs": [
    {
     "name": "stdout",
     "output_type": "stream",
     "text": [
      "exact_matching\n",
      "minhash\n",
      "catboost\n",
      "linear\n"
     ]
    },
    {
     "data": {
      "image/png": "[encoded data removed]",
      "text/plain": [
       "<Figure size 600x300 with 3 Axes>"
      ]
     },
     "metadata": {},
     "output_type": "display_data"
    },
    {
     "data": {
      "image/png": "[encoded data removed]",
      "text/plain": [
       "<Figure size 600x300 with 3 Axes>"
      ]
     },
     "metadata": {},
     "output_type": "display_data"
    }
   ],
   "source": [
    "target_variable = \"jd_method\"\n",
    "for tg in [\"jd_method\", \"chosen_model\"]:\n",
    "    data, values_dict, label_mapping = prepare_data(results_depleted, tg)\n",
    "    plotting.violin_plot(data, values_dict, label_mapping, tg)\n",
    "    # break"
   ]
  },
  {
   "cell_type": "code",
   "execution_count": null,
   "metadata": {},
   "outputs": [],
   "source": [
    "from itertools import combinations"
   ]
  },
  {
   "cell_type": "code",
   "execution_count": null,
   "metadata": {},
   "outputs": [
    {
     "data": {
      "text/plain": [
       "{'target_dl': 'wordnet_full_flat',\n",
       " 'jd_method': 'exact_matching',\n",
       " 'estimator': 'full_join',\n",
       " 'chosen_model': 'catboost'}"
      ]
     },
     "execution_count": 24,
     "metadata": {},
     "output_type": "execute_result"
    }
   ],
   "source": [
    "best_value"
   ]
  },
  {
   "cell_type": "code",
   "execution_count": null,
   "metadata": {},
   "outputs": [
    {
     "data": {
      "text/plain": [
       "[(('target_dl', 'wordnet_full_flat'),\n",
       "  ('jd_method', 'exact_matching'),\n",
       "  ('estimator', 'full_join')),\n",
       " (('target_dl', 'wordnet_full_flat'),\n",
       "  ('jd_method', 'exact_matching'),\n",
       "  ('chosen_model', 'catboost')),\n",
       " (('target_dl', 'wordnet_full_flat'),\n",
       "  ('estimator', 'full_join'),\n",
       "  ('chosen_model', 'catboost')),\n",
       " (('jd_method', 'exact_matching'),\n",
       "  ('estimator', 'full_join'),\n",
       "  ('chosen_model', 'catboost'))]"
      ]
     },
     "execution_count": 25,
     "metadata": {},
     "output_type": "execute_result"
    }
   ],
   "source": [
    "list(combinations(best_value.items(), 3))"
   ]
  },
  {
   "cell_type": "code",
   "execution_count": null,
   "metadata": {},
   "outputs": [],
   "source": [
    "for comb in combinations(best_value.items(), 2):\n",
    "    case1, case2 = comb\n",
    "    t_f = current_results.filter(\n",
    "        (pl.col(case1[0]) == case1[1]) & (pl.col(case1[0]) == case1[1])\n",
    "    )"
   ]
  },
  {
   "cell_type": "code",
   "execution_count": null,
   "metadata": {},
   "outputs": [],
   "source": [
    "for tg in [\"jd_method\", \"chosen_model\", \"estimator\"]:\n",
    "    filter_values = [(k, v) for k, v in best_value.items() if k != tg]\n",
    "    c1, c2, c3 = filter_values\n",
    "    t_f = current_results.filter(\n",
    "        (pl.col(c1[0]) == c1[1]) & (pl.col(c2[0]) == c2[1]) & (pl.col(c3[0]) == c3[1])\n",
    "    )\n",
    "\n",
    "    # fig, ax = plt.subplots(1)\n",
    "    # sns.violinplot(data=t_f.to_pandas(), x=\"scaled_diff\", y=tg, ax=ax)"
   ]
  },
  {
   "cell_type": "markdown",
   "metadata": {},
   "source": [
    "# Effect of pipeline steps "
   ]
  },
  {
   "cell_type": "code",
   "execution_count": null,
   "metadata": {},
   "outputs": [
    {
     "data": {
      "text/html": [
       "<div><style>\n",
       ".dataframe > thead > tr > th,\n",
       ".dataframe > tbody > tr > td {\n",
       "  text-align: right;\n",
       "  white-space: pre-wrap;\n",
       "}\n",
       "</style>\n",
       "<small>shape: (2, 2)</small><table border=\"1\" class=\"dataframe\"><thead><tr><th>jd_method</th><th>avg_scaled_diff</th></tr><tr><td>str</td><td>f64</td></tr></thead><tbody><tr><td>&quot;exact_matching&quot;</td><td>0.346163</td></tr><tr><td>&quot;minhash&quot;</td><td>0.211845</td></tr></tbody></table></div>"
      ],
      "text/plain": [
       "shape: (2, 2)\n",
       "┌────────────────┬─────────────────┐\n",
       "│ jd_method      ┆ avg_scaled_diff │\n",
       "│ ---            ┆ ---             │\n",
       "│ str            ┆ f64             │\n",
       "╞════════════════╪═════════════════╡\n",
       "│ exact_matching ┆ 0.346163        │\n",
       "│ minhash        ┆ 0.211845        │\n",
       "└────────────────┴─────────────────┘"
      ]
     },
     "metadata": {},
     "output_type": "display_data"
    },
    {
     "data": {
      "text/html": [
       "<div><style>\n",
       ".dataframe > thead > tr > th,\n",
       ".dataframe > tbody > tr > td {\n",
       "  text-align: right;\n",
       "  white-space: pre-wrap;\n",
       "}\n",
       "</style>\n",
       "<small>shape: (4, 2)</small><table border=\"1\" class=\"dataframe\"><thead><tr><th>estimator</th><th>avg_scaled_diff</th></tr><tr><td>str</td><td>f64</td></tr></thead><tbody><tr><td>&quot;full_join&quot;</td><td>0.339585</td></tr><tr><td>&quot;stepwise_greedy_join&quot;</td><td>0.336955</td></tr><tr><td>&quot;best_single_join&quot;</td><td>0.253873</td></tr><tr><td>&quot;highest_containment&quot;</td><td>0.185604</td></tr></tbody></table></div>"
      ],
      "text/plain": [
       "shape: (4, 2)\n",
       "┌──────────────────────┬─────────────────┐\n",
       "│ estimator            ┆ avg_scaled_diff │\n",
       "│ ---                  ┆ ---             │\n",
       "│ str                  ┆ f64             │\n",
       "╞══════════════════════╪═════════════════╡\n",
       "│ full_join            ┆ 0.339585        │\n",
       "│ stepwise_greedy_join ┆ 0.336955        │\n",
       "│ best_single_join     ┆ 0.253873        │\n",
       "│ highest_containment  ┆ 0.185604        │\n",
       "└──────────────────────┴─────────────────┘"
      ]
     },
     "metadata": {},
     "output_type": "display_data"
    },
    {
     "data": {
      "text/html": [
       "<div><style>\n",
       ".dataframe > thead > tr > th,\n",
       ".dataframe > tbody > tr > td {\n",
       "  text-align: right;\n",
       "  white-space: pre-wrap;\n",
       "}\n",
       "</style>\n",
       "<small>shape: (2, 2)</small><table border=\"1\" class=\"dataframe\"><thead><tr><th>chosen_model</th><th>avg_scaled_diff</th></tr><tr><td>str</td><td>f64</td></tr></thead><tbody><tr><td>&quot;catboost&quot;</td><td>0.328571</td></tr><tr><td>&quot;linear&quot;</td><td>0.229438</td></tr></tbody></table></div>"
      ],
      "text/plain": [
       "shape: (2, 2)\n",
       "┌──────────────┬─────────────────┐\n",
       "│ chosen_model ┆ avg_scaled_diff │\n",
       "│ ---          ┆ ---             │\n",
       "│ str          ┆ f64             │\n",
       "╞══════════════╪═════════════════╡\n",
       "│ catboost     ┆ 0.328571        │\n",
       "│ linear       ┆ 0.229438        │\n",
       "└──────────────┴─────────────────┘"
      ]
     },
     "metadata": {},
     "output_type": "display_data"
    }
   ],
   "source": [
    "best_value = {}\n",
    "worst_value = {}\n",
    "for v in [\"jd_method\", \"estimator\", \"chosen_model\"]:\n",
    "    this_best = (\n",
    "        current_results.filter(pl.col(\"estimator\") != \"nojoin\")\n",
    "        .group_by(v)\n",
    "        .agg(\n",
    "            pl.mean(\"scaled_diff\").alias(\"avg_scaled_diff\"),\n",
    "        )\n",
    "        .top_k(k=5, by=\"avg_scaled_diff\")\n",
    "    )\n",
    "    best_value[v] = this_best.top_k(1, by=\"avg_scaled_diff\")[v].item()\n",
    "    worst_value[v] = this_best.bottom_k(1, by=\"avg_scaled_diff\")[v].item()\n",
    "    display(this_best)"
   ]
  },
  {
   "cell_type": "code",
   "execution_count": null,
   "metadata": {},
   "outputs": [],
   "source": [
    "# Top 5 scores overall\n",
    "comb_results = (\n",
    "    current_results.group_by([\"jd_method\", \"estimator\", \"chosen_model\"])\n",
    "    .agg(\n",
    "        pl.mean(\"scaled_diff\").alias(\"avg_scaled_diff\"),\n",
    "        pl.std(\"scaled_diff\").alias(\"std_scaled_diff\"),\n",
    "    )\n",
    "    .sort(\"avg_scaled_diff\", descending=True)\n",
    "    .filter(pl.col(\"estimator\") != \"nojoin\")\n",
    ")"
   ]
  },
  {
   "cell_type": "code",
   "execution_count": null,
   "metadata": {},
   "outputs": [
    {
     "data": {
      "text/plain": [
       "{'jd_method': 'minhash',\n",
       " 'estimator': 'highest_containment',\n",
       " 'chosen_model': 'linear'}"
      ]
     },
     "execution_count": 30,
     "metadata": {},
     "output_type": "execute_result"
    }
   ],
   "source": [
    "worst_value"
   ]
  },
  {
   "cell_type": "code",
   "execution_count": null,
   "metadata": {},
   "outputs": [
    {
     "data": {
      "text/plain": [
       "0.12732336174138634"
      ]
     },
     "execution_count": 31,
     "metadata": {},
     "output_type": "execute_result"
    }
   ],
   "source": [
    "comb_results.filter(**worst_value)[\"avg_scaled_diff\"].item()"
   ]
  },
  {
   "cell_type": "code",
   "execution_count": null,
   "metadata": {},
   "outputs": [],
   "source": [
    "current_value = dict(worst_value)\n",
    "all_values = [current_value]\n",
    "for k, v in best_value.items():\n",
    "    new_value = dict(current_value)\n",
    "    new_value.update({k: v})\n",
    "    all_values.append(new_value)\n",
    "    current_value = new_value"
   ]
  },
  {
   "cell_type": "code",
   "execution_count": null,
   "metadata": {},
   "outputs": [],
   "source": [
    "vals_to_plot = []\n",
    "for data in all_values:\n",
    "    vals_to_plot.append(comb_results.filter(**data))"
   ]
  },
  {
   "cell_type": "code",
   "execution_count": null,
   "metadata": {},
   "outputs": [
    {
     "data": {
      "text/html": [
       "<div><style>\n",
       ".dataframe > thead > tr > th,\n",
       ".dataframe > tbody > tr > td {\n",
       "  text-align: right;\n",
       "  white-space: pre-wrap;\n",
       "}\n",
       "</style>\n",
       "<small>shape: (4, 1)</small><table border=\"1\" class=\"dataframe\"><thead><tr><th>avg_scaled_diff</th></tr><tr><td>f64</td></tr></thead><tbody><tr><td>null</td></tr><tr><td>0.028273</td></tr><tr><td>0.192589</td></tr><tr><td>0.149501</td></tr></tbody></table></div>"
      ],
      "text/plain": [
       "shape: (4, 1)\n",
       "┌─────────────────┐\n",
       "│ avg_scaled_diff │\n",
       "│ ---             │\n",
       "│ f64             │\n",
       "╞═════════════════╡\n",
       "│ null            │\n",
       "│ 0.028273        │\n",
       "│ 0.192589        │\n",
       "│ 0.149501        │\n",
       "└─────────────────┘"
      ]
     },
     "execution_count": 34,
     "metadata": {},
     "output_type": "execute_result"
    }
   ],
   "source": [
    "pl.concat(vals_to_plot).select(pl.col(\"avg_scaled_diff\").diff())"
   ]
  },
  {
   "cell_type": "code",
   "execution_count": null,
   "metadata": {},
   "outputs": [],
   "source": [
    "df_waterfall = (\n",
    "    pl.concat(vals_to_plot)\n",
    "    .with_columns(\n",
    "        (\n",
    "            pl.col(\"jd_method\")\n",
    "            + \"\\n\"\n",
    "            + pl.col(\"estimator\")\n",
    "            + \"\\n\"\n",
    "            + pl.col(\"chosen_model\")\n",
    "        ).alias(\"case\")\n",
    "    )\n",
    "    .select(pl.col(\"case\"), pl.col(\"avg_scaled_diff\").alias(\"value\"))\n",
    ")"
   ]
  },
  {
   "cell_type": "code",
   "execution_count": null,
   "metadata": {},
   "outputs": [],
   "source": [
    "_t = df_waterfall.with_columns(\n",
    "    pl.col(\"value\").alias(\"bottom\").shift(1).fill_null(0),\n",
    "    pl.col(\"value\").diff().alias(\"diff\").fill_null(pl.col(\"value\")),\n",
    ").to_pandas()"
   ]
  },
  {
   "cell_type": "code",
   "execution_count": null,
   "metadata": {},
   "outputs": [],
   "source": [
    "_t = (\n",
    "    df_waterfall.with_columns(\n",
    "        pl.col(\"value\").alias(\"bottom\").shift(1).fill_null(0),\n",
    "        pl.col(\"value\").diff().alias(\"diff\").fill_null(pl.col(\"value\")),\n",
    "    )\n",
    "    .with_columns(\n",
    "        pl.col(\"diff\").cumsum().alias(\"fill\"),\n",
    "    )\n",
    "    .to_pandas()\n",
    ")"
   ]
  },
  {
   "cell_type": "code",
   "execution_count": null,
   "metadata": {},
   "outputs": [
    {
     "data": {
      "text/html": [
       "<div>\n",
       "<style scoped>\n",
       "    .dataframe tbody tr th:only-of-type {\n",
       "        vertical-align: middle;\n",
       "    }\n",
       "\n",
       "    .dataframe tbody tr th {\n",
       "        vertical-align: top;\n",
       "    }\n",
       "\n",
       "    .dataframe thead th {\n",
       "        text-align: right;\n",
       "    }\n",
       "</style>\n",
       "<table border=\"1\" class=\"dataframe\">\n",
       "  <thead>\n",
       "    <tr style=\"text-align: right;\">\n",
       "      <th></th>\n",
       "      <th>case</th>\n",
       "      <th>value</th>\n",
       "      <th>bottom</th>\n",
       "      <th>diff</th>\n",
       "      <th>fill</th>\n",
       "    </tr>\n",
       "  </thead>\n",
       "  <tbody>\n",
       "    <tr>\n",
       "      <th>0</th>\n",
       "      <td>minhash\\nhighest_containment\\nlinear</td>\n",
       "      <td>0.127323</td>\n",
       "      <td>0.000000</td>\n",
       "      <td>0.127323</td>\n",
       "      <td>0.127323</td>\n",
       "    </tr>\n",
       "    <tr>\n",
       "      <th>1</th>\n",
       "      <td>exact_matching\\nhighest_containment\\nlinear</td>\n",
       "      <td>0.155597</td>\n",
       "      <td>0.127323</td>\n",
       "      <td>0.028273</td>\n",
       "      <td>0.155597</td>\n",
       "    </tr>\n",
       "    <tr>\n",
       "      <th>2</th>\n",
       "      <td>exact_matching\\nfull_join\\nlinear</td>\n",
       "      <td>0.348186</td>\n",
       "      <td>0.155597</td>\n",
       "      <td>0.192589</td>\n",
       "      <td>0.348186</td>\n",
       "    </tr>\n",
       "    <tr>\n",
       "      <th>3</th>\n",
       "      <td>exact_matching\\nfull_join\\ncatboost</td>\n",
       "      <td>0.497687</td>\n",
       "      <td>0.348186</td>\n",
       "      <td>0.149501</td>\n",
       "      <td>0.497687</td>\n",
       "    </tr>\n",
       "  </tbody>\n",
       "</table>\n",
       "</div>"
      ],
      "text/plain": [
       "                                          case     value    bottom      diff  \\\n",
       "0         minhash\\nhighest_containment\\nlinear  0.127323  0.000000  0.127323   \n",
       "1  exact_matching\\nhighest_containment\\nlinear  0.155597  0.127323  0.028273   \n",
       "2            exact_matching\\nfull_join\\nlinear  0.348186  0.155597  0.192589   \n",
       "3          exact_matching\\nfull_join\\ncatboost  0.497687  0.348186  0.149501   \n",
       "\n",
       "       fill  \n",
       "0  0.127323  \n",
       "1  0.155597  \n",
       "2  0.348186  \n",
       "3  0.497687  "
      ]
     },
     "execution_count": 38,
     "metadata": {},
     "output_type": "execute_result"
    }
   ],
   "source": [
    "_t"
   ]
  },
  {
   "cell_type": "code",
   "execution_count": null,
   "metadata": {},
   "outputs": [
    {
     "data": {
      "text/plain": [
       "Text(0.5, 0, 'Difference wtr nojoin')"
      ]
     },
     "execution_count": 39,
     "metadata": {},
     "output_type": "execute_result"
    },
    {
     "data": {
      "image/png": "[encoded data removed]",
      "text/plain": [
       "<Figure size 800x400 with 1 Axes>"
      ]
     },
     "metadata": {},
     "output_type": "display_data"
    }
   ],
   "source": [
    "# plt.bar(bottom=\"bottom\",height=\"diff\", x=\"case\", data=_t)\n",
    "fig, ax = plt.subplots(1, figsize=(8, 4))\n",
    "\n",
    "# p = ax.barh(\n",
    "#     width=\"value\", y=\"case\", data=_t, edgecolor=\"black\", linewidth=1.5, color=\"green\"\n",
    "# )\n",
    "# ax.bar_label(p, [f\"{_:.2f}\" for _ in _t[\"value\"]])\n",
    "# ax.barh(\n",
    "#     width=\"bottom\", y=\"case\", data=_t, edgecolor=\"black\", linewidth=1.5, color=\"red\"\n",
    "# )\n",
    "\n",
    "\n",
    "# MINE\n",
    "ax.barh(\n",
    "    left=\"bottom\", width=\"diff\", y=\"case\", data=_t, edgecolor=\"black\", linewidth=1.5\n",
    ")\n",
    "\n",
    "\n",
    "# step = (\n",
    "#     pl.from_pandas(_t)\n",
    "#     .select(pl.col(\"bottom\").repeat_by(3).list.explode())\n",
    "#     .shift(-1)\n",
    "#     .to_numpy()\n",
    "# )\n",
    "# step[1::3] = np.nan\n",
    "# mask = np.repeat(\n",
    "#     np.arange(5),\n",
    "#     3,\n",
    "# )\n",
    "# plt.plot(step, mask, color=\"black\", zorder=2, linewidth=1)\n",
    "ax.set_xlabel(\"Difference wtr nojoin\")"
   ]
  },
  {
   "cell_type": "code",
   "execution_count": null,
   "metadata": {},
   "outputs": [
    {
     "data": {
      "text/html": [
       "<div><style>\n",
       ".dataframe > thead > tr > th,\n",
       ".dataframe > tbody > tr > td {\n",
       "  text-align: right;\n",
       "  white-space: pre-wrap;\n",
       "}\n",
       "</style>\n",
       "<small>shape: (5, 25)</small><table border=\"1\" class=\"dataframe\"><thead><tr><th>fold_id</th><th>scenario_id</th><th>target_dl</th><th>jd_method</th><th>base_table</th><th>estimator</th><th>chosen_model</th><th>aggregation</th><th>r2score</th><th>time_fit</th><th>time_predict</th><th>time_run</th><th>epsilon</th><th>case</th><th>scenario_id_right</th><th>estimator_right</th><th>aggregation_right</th><th>r2score_right</th><th>time_fit_right</th><th>time_predict_right</th><th>time_run_right</th><th>epsilon_right</th><th>case_right</th><th>difference</th><th>scaled_diff</th></tr><tr><td>u32</td><td>i64</td><td>str</td><td>str</td><td>str</td><td>str</td><td>str</td><td>str</td><td>f64</td><td>f64</td><td>f64</td><td>f64</td><td>f64</td><td>str</td><td>i64</td><td>str</td><td>str</td><td>f64</td><td>f64</td><td>f64</td><td>f64</td><td>f64</td><td>str</td><td>f64</td><td>f64</td></tr></thead><tbody><tr><td>0</td><td>79</td><td>&quot;binary_update&quot;</td><td>&quot;minhash&quot;</td><td>&quot;housing-prices-yadl-depleted&quot;</td><td>&quot;best_single_join&quot;</td><td>&quot;catboost&quot;</td><td>&quot;first&quot;</td><td>0.304524</td><td>16.087928</td><td>0.376039</td><td>16.464824</td><td>null</td><td>&quot;minhash | binary_update&quot;</td><td>79</td><td>&quot;nojoin&quot;</td><td>&quot;first&quot;</td><td>-0.000192</td><td>0.599629</td><td>0.009321</td><td>0.609729</td><td>null</td><td>&quot;minhash | binary_update&quot;</td><td>0.304716</td><td>0.505126</td></tr><tr><td>1</td><td>79</td><td>&quot;binary_update&quot;</td><td>&quot;minhash&quot;</td><td>&quot;housing-prices-yadl-depleted&quot;</td><td>&quot;best_single_join&quot;</td><td>&quot;catboost&quot;</td><td>&quot;first&quot;</td><td>0.290669</td><td>17.004795</td><td>0.450631</td><td>17.456726</td><td>null</td><td>&quot;minhash | binary_update&quot;</td><td>79</td><td>&quot;nojoin&quot;</td><td>&quot;first&quot;</td><td>-0.000172</td><td>0.19054</td><td>0.008556</td><td>0.199852</td><td>null</td><td>&quot;minhash | binary_update&quot;</td><td>0.290842</td><td>0.482127</td></tr><tr><td>2</td><td>79</td><td>&quot;binary_update&quot;</td><td>&quot;minhash&quot;</td><td>&quot;housing-prices-yadl-depleted&quot;</td><td>&quot;best_single_join&quot;</td><td>&quot;catboost&quot;</td><td>&quot;first&quot;</td><td>0.301209</td><td>16.950179</td><td>0.46917</td><td>17.420345</td><td>null</td><td>&quot;minhash | binary_update&quot;</td><td>79</td><td>&quot;nojoin&quot;</td><td>&quot;first&quot;</td><td>-0.000131</td><td>0.542593</td><td>0.010932</td><td>0.554324</td><td>null</td><td>&quot;minhash | binary_update&quot;</td><td>0.301341</td><td>0.499531</td></tr><tr><td>3</td><td>79</td><td>&quot;binary_update&quot;</td><td>&quot;minhash&quot;</td><td>&quot;housing-prices-yadl-depleted&quot;</td><td>&quot;best_single_join&quot;</td><td>&quot;catboost&quot;</td><td>&quot;first&quot;</td><td>0.303796</td><td>15.802756</td><td>0.4048</td><td>16.209521</td><td>null</td><td>&quot;minhash | binary_update&quot;</td><td>79</td><td>&quot;nojoin&quot;</td><td>&quot;first&quot;</td><td>-0.000131</td><td>0.578784</td><td>0.011165</td><td>0.591843</td><td>null</td><td>&quot;minhash | binary_update&quot;</td><td>0.303927</td><td>0.503817</td></tr><tr><td>4</td><td>79</td><td>&quot;binary_update&quot;</td><td>&quot;minhash&quot;</td><td>&quot;housing-prices-yadl-depleted&quot;</td><td>&quot;best_single_join&quot;</td><td>&quot;catboost&quot;</td><td>&quot;first&quot;</td><td>0.321411</td><td>15.187321</td><td>0.523769</td><td>15.712048</td><td>null</td><td>&quot;minhash | binary_update&quot;</td><td>79</td><td>&quot;nojoin&quot;</td><td>&quot;first&quot;</td><td>-0.001411</td><td>0.119879</td><td>0.010132</td><td>0.130916</td><td>null</td><td>&quot;minhash | binary_update&quot;</td><td>0.322823</td><td>0.535141</td></tr></tbody></table></div>"
      ],
      "text/plain": [
       "shape: (5, 25)\n",
       "┌─────────┬────────────┬───────────┬───────────┬───┬───────────┬───────────┬───────────┬───────────┐\n",
       "│ fold_id ┆ scenario_i ┆ target_dl ┆ jd_method ┆ … ┆ epsilon_r ┆ case_righ ┆ differenc ┆ scaled_di │\n",
       "│ ---     ┆ d          ┆ ---       ┆ ---       ┆   ┆ ight      ┆ t         ┆ e         ┆ ff        │\n",
       "│ u32     ┆ ---        ┆ str       ┆ str       ┆   ┆ ---       ┆ ---       ┆ ---       ┆ ---       │\n",
       "│         ┆ i64        ┆           ┆           ┆   ┆ f64       ┆ str       ┆ f64       ┆ f64       │\n",
       "╞═════════╪════════════╪═══════════╪═══════════╪═══╪═══════════╪═══════════╪═══════════╪═══════════╡\n",
       "│ 0       ┆ 79         ┆ binary_up ┆ minhash   ┆ … ┆ null      ┆ minhash | ┆ 0.304716  ┆ 0.505126  │\n",
       "│         ┆            ┆ date      ┆           ┆   ┆           ┆ binary_up ┆           ┆           │\n",
       "│         ┆            ┆           ┆           ┆   ┆           ┆ date      ┆           ┆           │\n",
       "│ 1       ┆ 79         ┆ binary_up ┆ minhash   ┆ … ┆ null      ┆ minhash | ┆ 0.290842  ┆ 0.482127  │\n",
       "│         ┆            ┆ date      ┆           ┆   ┆           ┆ binary_up ┆           ┆           │\n",
       "│         ┆            ┆           ┆           ┆   ┆           ┆ date      ┆           ┆           │\n",
       "│ 2       ┆ 79         ┆ binary_up ┆ minhash   ┆ … ┆ null      ┆ minhash | ┆ 0.301341  ┆ 0.499531  │\n",
       "│         ┆            ┆ date      ┆           ┆   ┆           ┆ binary_up ┆           ┆           │\n",
       "│         ┆            ┆           ┆           ┆   ┆           ┆ date      ┆           ┆           │\n",
       "│ 3       ┆ 79         ┆ binary_up ┆ minhash   ┆ … ┆ null      ┆ minhash | ┆ 0.303927  ┆ 0.503817  │\n",
       "│         ┆            ┆ date      ┆           ┆   ┆           ┆ binary_up ┆           ┆           │\n",
       "│         ┆            ┆           ┆           ┆   ┆           ┆ date      ┆           ┆           │\n",
       "│ 4       ┆ 79         ┆ binary_up ┆ minhash   ┆ … ┆ null      ┆ minhash | ┆ 0.322823  ┆ 0.535141  │\n",
       "│         ┆            ┆ date      ┆           ┆   ┆           ┆ binary_up ┆           ┆           │\n",
       "│         ┆            ┆           ┆           ┆   ┆           ┆ date      ┆           ┆           │\n",
       "└─────────┴────────────┴───────────┴───────────┴───┴───────────┴───────────┴───────────┴───────────┘"
      ]
     },
     "execution_count": 40,
     "metadata": {},
     "output_type": "execute_result"
    }
   ],
   "source": [
    "current_results.head()"
   ]
  },
  {
   "cell_type": "code",
   "execution_count": null,
   "metadata": {},
   "outputs": [
    {
     "data": {
      "text/plain": [
       "{'jd_method': ['exact_matching', 'minhash'],\n",
       " 'chosen_model': ['catboost', 'linear'],\n",
       " 'estimator': ['stepwise_greedy_join',\n",
       "  'best_single_join',\n",
       "  'full_join',\n",
       "  'highest_containment']}"
      ]
     },
     "execution_count": 41,
     "metadata": {},
     "output_type": "execute_result"
    }
   ],
   "source": [
    "cases"
   ]
  },
  {
   "cell_type": "code",
   "execution_count": null,
   "metadata": {},
   "outputs": [
    {
     "ename": "NameError",
     "evalue": "name 'plt' is not defined",
     "output_type": "error",
     "traceback": [
      "\u001b[0;31m---------------------------------------------------------------------------\u001b[0m",
      "\u001b[0;31mNameError\u001b[0m                                 Traceback (most recent call last)",
      "Cell \u001b[0;32mIn[1], line 10\u001b[0m\n\u001b[1;32m      6\u001b[0m outer_variable \u001b[38;5;241m=\u001b[39m \u001b[38;5;124m\"\u001b[39m\u001b[38;5;124mjd_method\u001b[39m\u001b[38;5;124m\"\u001b[39m\n\u001b[1;32m      8\u001b[0m colormap_name \u001b[38;5;241m=\u001b[39m \u001b[38;5;124m\"\u001b[39m\u001b[38;5;124mviridis\u001b[39m\u001b[38;5;124m\"\u001b[39m\n\u001b[0;32m---> 10\u001b[0m fig, axs \u001b[38;5;241m=\u001b[39m \u001b[43mplt\u001b[49m\u001b[38;5;241m.\u001b[39msubplots(\u001b[38;5;241m1\u001b[39m, \u001b[38;5;28mlen\u001b[39m(cases[outer_variable]), sharey\u001b[38;5;241m=\u001b[39m\u001b[38;5;28;01mTrue\u001b[39;00m, sharex\u001b[38;5;241m=\u001b[39m\u001b[38;5;28;01mTrue\u001b[39;00m)\n\u001b[1;32m     11\u001b[0m \u001b[38;5;28;01mfor\u001b[39;00m i_outer, value \u001b[38;5;129;01min\u001b[39;00m \u001b[38;5;28menumerate\u001b[39m(cases[outer_variable]):\n\u001b[1;32m     12\u001b[0m     ax \u001b[38;5;241m=\u001b[39m axs[i_outer]\n",
      "\u001b[0;31mNameError\u001b[0m: name 'plt' is not defined"
     ]
    }
   ],
   "source": [
    "# Variable used to group boxplots\n",
    "target_variable = \"estimator\"\n",
    "# Variable used to paint scatterplots\n",
    "scatter_variable = \"chosen_model\"\n",
    "# Variable used to group plots by\n",
    "outer_variable = \"jd_method\"\n",
    "\n",
    "colormap_name = \"viridis\"\n",
    "\n",
    "fig, axs = plt.subplots(1, len(cases[outer_variable]), sharey=True, sharex=True)\n",
    "for i_outer, value in enumerate(cases[outer_variable]):\n",
    "    ax = axs[i_outer]\n",
    "    ax.set_title(value)\n",
    "\n",
    "    projection = [\n",
    "        \"fold_id\",\n",
    "        \"target_dl\",\n",
    "        \"jd_method\",\n",
    "        \"estimator\",\n",
    "        \"chosen_model\",\n",
    "        \"r2score\",\n",
    "        \"scaled_diff\",\n",
    "    ]\n",
    "\n",
    "    all_groupby_variables = [\n",
    "        \"fold_id\",\n",
    "        \"target_dl\",\n",
    "        \"jd_method\",\n",
    "        \"estimator\",\n",
    "        \"chosen_model\",\n",
    "    ]\n",
    "\n",
    "    this_groupby = [_ for _ in all_groupby_variables if _ != target_variable]\n",
    "\n",
    "    _prep = (\n",
    "        current_results.filter(pl.col(\"estimator\") != \"nojoin\")\n",
    "        .filter(pl.col(outer_variable) == value)\n",
    "        .select(projection)\n",
    "        .join(\n",
    "            current_results.select(projection)\n",
    "            .group_by(this_groupby)\n",
    "            .agg(pl.mean(\"scaled_diff\").alias(\"avg_scaled_diff\")),\n",
    "            on=this_groupby,\n",
    "        )\n",
    "        .with_columns(\n",
    "            (pl.col(\"scaled_diff\") - pl.col(\"avg_scaled_diff\")).alias(\"diff_from_mean\")\n",
    "        )\n",
    "    )\n",
    "    _prep_dict = (\n",
    "        _prep.select(target_variable, \"diff_from_mean\")\n",
    "        .group_by(target_variable, maintain_order=True)\n",
    "        .agg(pl.all(), pl.mean(\"diff_from_mean\").alias(\"avg_diff\"))\n",
    "        .sort(\"avg_diff\")\n",
    "        .drop(\"avg_diff\")\n",
    "        .to_dict()\n",
    "        # .to_pandas()\n",
    "    )\n",
    "    _data = dict(zip(*list(_prep_dict.values())))\n",
    "    ax.violinplot(dataset=_data.values(), vert=False)\n",
    "    # ax.boxplot(\n",
    "    #     x=_data.values(), showfliers=True, vert=False\n",
    "    # )\n",
    "\n",
    "    colors = plt.colormaps[colormap_name](\n",
    "        np.linspace(0, 1, _prep.select(pl.col(scatter_variable).n_unique()).item())\n",
    "    )\n",
    "    for inum, (gidx, group) in enumerate(_prep.group_by(scatter_variable)):\n",
    "        _scatter_dict = (\n",
    "            _prep.select(target_variable, \"diff_from_mean\")\n",
    "            .group_by(target_variable, maintain_order=True)\n",
    "            .agg(pl.all(), pl.mean(\"diff_from_mean\").alias(\"avg_diff\"))\n",
    "            .sort(\"avg_diff\")\n",
    "            .drop(\"avg_diff\")\n",
    "            .to_dict()\n",
    "            # .to_pandas()\n",
    "        )\n",
    "        _data = dict(zip(*list(_scatter_dict.values())))\n",
    "        ax.scatter(\n",
    "            x=list(_data.values()),\n",
    "            y=[\n",
    "                _ + plotting.add_jitter(np.ones_like(v), 0.1) for _ in range(len(_data))\n",
    "            ],\n",
    "            label=gidx,\n",
    "            color=colors[inum],\n",
    "            alpha=0.7,\n",
    "            s=3,\n",
    "        )\n",
    "\n",
    "        # for i, v in enumerate(_data.values()):\n",
    "        #     ax.scatter(\n",
    "        #         x=v,\n",
    "        #         y=add_jitter(i + np.ones_like(v), 0.1),\n",
    "        #         label=gidx,\n",
    "        #         color=colors[inum],\n",
    "        #         alpha=0.7,\n",
    "        #         s=3,\n",
    "        #     )\n",
    "    ax.set_yticks(range(1, len(data) + 1), list(data.keys()))\n",
    "h, l = ax.get_legend_handles_labels()\n",
    "fig.legend(h, l)"
   ]
  },
  {
   "cell_type": "code",
   "execution_count": null,
   "metadata": {},
   "outputs": [],
   "source": []
  }
 ],
 "metadata": {
  "kernelspec": {
   "display_name": "bench-repro",
   "language": "python",
   "name": "python3"
  },
  "language_info": {
   "codemirror_mode": {
    "name": "ipython",
    "version": 3
   },
   "file_extension": ".py",
   "mimetype": "text/x-python",
   "name": "python",
   "nbconvert_exporter": "python",
   "pygments_lexer": "ipython3",
   "version": "3.10.0"
  }
 },
 "nbformat": 4,
 "nbformat_minor": 2
}
