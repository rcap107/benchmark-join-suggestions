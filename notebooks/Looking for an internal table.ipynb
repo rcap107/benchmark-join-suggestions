{
 "cells": [
  {
   "cell_type": "code",
   "execution_count": 1,
   "metadata": {},
   "outputs": [
    {
     "name": "stdout",
     "output_type": "stream",
     "text": [
      "/home/soda/rcappuzz/work/benchmark-join-suggestions\n"
     ]
    }
   ],
   "source": [
    "%cd ~/bench"
   ]
  },
  {
   "cell_type": "code",
   "execution_count": 2,
   "metadata": {},
   "outputs": [],
   "source": [
    "import json\n",
    "import os\n",
    "from pathlib import Path\n",
    "\n",
    "import matplotlib.pyplot as plt\n",
    "import numpy as np\n",
    "import pandas as pd\n",
    "import polars as pl\n",
    "import sklearn.metrics as metrics\n",
    "from joblib import Parallel, delayed, dump, load\n",
    "from tqdm import tqdm\n",
    "import seaborn as sns\n",
    "import polars.selectors as cs\n",
    "\n",
    "import src.methods.profiling as jp\n",
    "from src.data_structures.join_discovery_methods import MinHashIndex\n"
   ]
  },
  {
   "cell_type": "code",
   "execution_count": 7,
   "metadata": {},
   "outputs": [],
   "source": [
    "path = \"/storage/store3/soda/rcappuzz/yadl/wordnet_full/wordnet_full-wordnet_administrative_district_108491826/wordnet_full-wordnet_administrative_district_108491826-hasNumberOfPeople_0-hasPopulationDensity_0.parquet\""
   ]
  },
  {
   "cell_type": "code",
   "execution_count": 8,
   "metadata": {},
   "outputs": [],
   "source": [
    "df = pl.read_parquet(path)"
   ]
  },
  {
   "cell_type": "code",
   "execution_count": 11,
   "metadata": {},
   "outputs": [
    {
     "data": {
      "text/html": [
       "<div><style>\n",
       ".dataframe > thead > tr > th,\n",
       ".dataframe > tbody > tr > td {\n",
       "  text-align: right;\n",
       "  white-space: pre-wrap;\n",
       "}\n",
       "</style>\n",
       "<small>shape: (52_472, 3)</small><table border=\"1\" class=\"dataframe\"><thead><tr><th>wordnet_administrative_district_108491826</th><th>hasNumberOfPeople_0</th><th>hasPopulationDensity_0</th></tr><tr><td>str</td><td>f64</td><td>f64</td></tr></thead><tbody><tr><td>&quot;&lt;Fairfax,_Sout…</td><td>96.0</td><td>146.72</td></tr><tr><td>&quot;&lt;Castine,_Ohio…</td><td>130.0</td><td>687.61</td></tr><tr><td>&quot;&lt;Adams_Townshi…</td><td>947.0</td><td>10.3</td></tr><tr><td>&quot;&lt;Hampden,_Queb…</td><td>214.0</td><td>1.9</td></tr><tr><td>&quot;&lt;Philipsburg,_…</td><td>2770.0</td><td>1194.03</td></tr><tr><td>&quot;&lt;Springdale_To…</td><td>1636.0</td><td>274.72</td></tr><tr><td>&quot;&lt;Paradise,_Mon…</td><td>184.0</td><td>296.0</td></tr><tr><td>&quot;&lt;Nakkar_Shamal…</td><td>700.0</td><td>730.0</td></tr><tr><td>&quot;&lt;Mars_Hill-Bla…</td><td>1428.0</td><td>113.9</td></tr><tr><td>&quot;&lt;Nagyhuta&gt;&quot;</td><td>83.0</td><td>2.36</td></tr><tr><td>&quot;&lt;Tánh_Linh_dis…</td><td>99679.0</td><td>84.9</td></tr><tr><td>&quot;&lt;Kalamazoo,_Mi…</td><td>73598.0</td><td>1150.77</td></tr><tr><td>&hellip;</td><td>&hellip;</td><td>&hellip;</td></tr><tr><td>&quot;&lt;Canton,_Texas…</td><td>4229.0</td><td>246.59</td></tr><tr><td>&quot;&lt;Bloomfield,_N…</td><td>8112.0</td><td>159.97</td></tr><tr><td>&quot;&lt;Beacon_Height…</td><td>3023.0</td><td>2628.7</td></tr><tr><td>&quot;&lt;Špania_Dolina…</td><td>222.0</td><td>17.49</td></tr><tr><td>&quot;&lt;Jasper,_Minne…</td><td>633.0</td><td>228.44</td></tr><tr><td>&quot;&lt;Parker_School…</td><td>340.0</td><td>17.8</td></tr><tr><td>&quot;&lt;Stenared&gt;&quot;</td><td>237.0</td><td>865.0</td></tr><tr><td>&quot;&lt;Anse-d&#x27;Hainau…</td><td>36401.0</td><td>387.0</td></tr><tr><td>&quot;&lt;New_Folden_To…</td><td>197.0</td><td>2.2</td></tr><tr><td>&quot;&lt;Charleston_To…</td><td>1975.0</td><td>21.9</td></tr><tr><td>&quot;&lt;Woodson,_Illi…</td><td>512.0</td><td>488.62</td></tr><tr><td>&quot;&lt;Chippewa_Town…</td><td>4617.0</td><td>49.3</td></tr></tbody></table></div>"
      ],
      "text/plain": [
       "shape: (52_472, 3)\n",
       "┌───────────────────────────────────┬─────────────────────┬────────────────────────┐\n",
       "│ wordnet_administrative_district_… ┆ hasNumberOfPeople_0 ┆ hasPopulationDensity_0 │\n",
       "│ ---                               ┆ ---                 ┆ ---                    │\n",
       "│ str                               ┆ f64                 ┆ f64                    │\n",
       "╞═══════════════════════════════════╪═════════════════════╪════════════════════════╡\n",
       "│ <Fairfax,_South_Dakota>           ┆ 96.0                ┆ 146.72                 │\n",
       "│ <Castine,_Ohio>                   ┆ 130.0               ┆ 687.61                 │\n",
       "│ <Adams_Township,_Defiance_County… ┆ 947.0               ┆ 10.3                   │\n",
       "│ <Hampden,_Quebec>                 ┆ 214.0               ┆ 1.9                    │\n",
       "│ …                                 ┆ …                   ┆ …                      │\n",
       "│ <New_Folden_Township,_Marshall_C… ┆ 197.0               ┆ 2.2                    │\n",
       "│ <Charleston_Township,_Kalamazoo_… ┆ 1975.0              ┆ 21.9                   │\n",
       "│ <Woodson,_Illinois>               ┆ 512.0               ┆ 488.62                 │\n",
       "│ <Chippewa_Township,_Isabella_Cou… ┆ 4617.0              ┆ 49.3                   │\n",
       "└───────────────────────────────────┴─────────────────────┴────────────────────────┘"
      ]
     },
     "execution_count": 11,
     "metadata": {},
     "output_type": "execute_result"
    }
   ],
   "source": [
    "df.filter(pl.col(\"hasPopulationDensity_0\").is_not_null())"
   ]
  },
  {
   "cell_type": "code",
   "execution_count": null,
   "metadata": {},
   "outputs": [],
   "source": []
  }
 ],
 "metadata": {
  "kernelspec": {
   "display_name": "bench-repro",
   "language": "python",
   "name": "python3"
  },
  "language_info": {
   "codemirror_mode": {
    "name": "ipython",
    "version": 3
   },
   "file_extension": ".py",
   "mimetype": "text/x-python",
   "name": "python",
   "nbconvert_exporter": "python",
   "pygments_lexer": "ipython3",
   "version": "3.10.0"
  }
 },
 "nbformat": 4,
 "nbformat_minor": 2
}
