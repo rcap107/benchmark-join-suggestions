{
 "cells": [
  {
   "cell_type": "code",
   "execution_count": 1,
   "metadata": {},
   "outputs": [
    {
     "name": "stdout",
     "output_type": "stream",
     "text": [
      "/home/soda/rcappuzz/work/benchmark-join-suggestions\n"
     ]
    }
   ],
   "source": [
    "%cd .."
   ]
  },
  {
   "cell_type": "code",
   "execution_count": 2,
   "metadata": {},
   "outputs": [],
   "source": [
    "%load_ext autoreload\n",
    "%autoreload 2"
   ]
  },
  {
   "cell_type": "code",
   "execution_count": 3,
   "metadata": {},
   "outputs": [],
   "source": [
    "import pickle\n",
    "import polars as pl"
   ]
  },
  {
   "cell_type": "code",
   "execution_count": 4,
   "metadata": {},
   "outputs": [],
   "source": [
    "import src.table_integration.join_profiling as jp"
   ]
  },
  {
   "cell_type": "code",
   "execution_count": 17,
   "metadata": {},
   "outputs": [],
   "source": [
    "with open(\"generated_candidates.pickle\", \"rb\") as fp:\n",
    "    generated_candidates = pickle.load(fp)"
   ]
  },
  {
   "cell_type": "code",
   "execution_count": 6,
   "metadata": {},
   "outputs": [],
   "source": [
    "one_candidate = generated_candidates[\"minhash\"].popitem()\n",
    "hash_, mdata = one_candidate\n",
    "source_metadata = mdata.source_metadata\n",
    "candidate_metadata = mdata.candidate_metadata\n",
    "source_table = pl.read_parquet(source_metadata[\"full_path\"])\n",
    "candidate_table = pl.read_parquet(candidate_metadata[\"full_path\"])\n",
    "left_on = mdata.left_on\n",
    "right_on = mdata.right_on\n"
   ]
  },
  {
   "cell_type": "code",
   "execution_count": 7,
   "metadata": {},
   "outputs": [],
   "source": [
    "unique_source = jp.find_unique_keys(source_table, left_on)\n",
    "unique_cand = jp.find_unique_keys(candidate_table, right_on)"
   ]
  },
  {
   "cell_type": "code",
   "execution_count": 8,
   "metadata": {},
   "outputs": [
    {
     "data": {
      "text/plain": [
       "1.9781387834649709"
      ]
     },
     "execution_count": 8,
     "metadata": {},
     "output_type": "execute_result"
    }
   ],
   "source": [
    "jp.measure_cardinality_proportion(source_table, candidate_table)"
   ]
  },
  {
   "attachments": {},
   "cell_type": "markdown",
   "metadata": {},
   "source": [
    "The cardinality proportion is larger than 1!!! This is not something they are accounting for in the heuristic. \n",
    "\n",
    "How are we handling these situations? Should we go for `min([card_source/card_cand, card_cand/card_source])` instead? Is this even meaningful? "
   ]
  },
  {
   "attachments": {},
   "cell_type": "markdown",
   "metadata": {},
   "source": [
    "I am having issues here to find the containment "
   ]
  },
  {
   "cell_type": "code",
   "execution_count": 9,
   "metadata": {},
   "outputs": [
    {
     "name": "stdout",
     "output_type": "stream",
     "text": [
      "0.510192573195315\n"
     ]
    }
   ],
   "source": [
    "unique_source = source_table[left_on].unique()\n",
    "unique_cand = candidate_table[right_on].unique()\n",
    "intersection=source_table.join(unique_cand, left_on=left_on, right_on=right_on, how=\"inner\")\n",
    "containment = len(intersection)/len(source_table)\n",
    "print(containment)"
   ]
  },
  {
   "cell_type": "code",
   "execution_count": 10,
   "metadata": {},
   "outputs": [
    {
     "data": {
      "text/plain": [
       "4"
      ]
     },
     "execution_count": 10,
     "metadata": {},
     "output_type": "execute_result"
    }
   ],
   "source": [
    "jp.measure_join_quality(source_table, candidate_table, left_on, right_on)"
   ]
  },
  {
   "cell_type": "code",
   "execution_count": 13,
   "metadata": {},
   "outputs": [
    {
     "name": "stdout",
     "output_type": "stream",
     "text": [
      "167 µs ± 193 ns per loop (mean ± std. dev. of 7 runs, 10,000 loops each)\n"
     ]
    }
   ],
   "source": [
    "%%timeit\n",
    "jp.measure_containment(unique_source, unique_cand, left_on=left_on, right_on=right_on)"
   ]
  },
  {
   "cell_type": "code",
   "execution_count": 12,
   "metadata": {},
   "outputs": [
    {
     "name": "stdout",
     "output_type": "stream",
     "text": [
      "507 µs ± 41.7 µs per loop (mean ± std. dev. of 7 runs, 1,000 loops each)\n"
     ]
    }
   ],
   "source": [
    "%%timeit\n",
    "s1 = set(unique_source.to_series())\n",
    "s2 = set(unique_cand.to_series())\n",
    "len(s1.intersection(s2))/len(unique_source)"
   ]
  },
  {
   "cell_type": "code",
   "execution_count": 76,
   "metadata": {},
   "outputs": [],
   "source": [
    "on = [\"subject\", \"isLocatedIn\"]\n",
    "left_on = right_on = on\n",
    "source_table = source_table[left_on].unique()\n",
    "unique_cand = candidate_table[right_on].unique()\n",
    "# jp.measure_containment(unique_source, unique_cand, on, on)"
   ]
  },
  {
   "cell_type": "code",
   "execution_count": 109,
   "metadata": {},
   "outputs": [],
   "source": [
    "l_pd = source_table[left_on].drop_nulls().to_pandas()\n",
    "r_pd = candidate_table[right_on].drop_nulls().to_pandas()"
   ]
  },
  {
   "cell_type": "code",
   "execution_count": 111,
   "metadata": {},
   "outputs": [
    {
     "data": {
      "text/plain": [
       "291489051"
      ]
     },
     "execution_count": 111,
     "metadata": {},
     "output_type": "execute_result"
    }
   ],
   "source": [
    "len(l_pd) * len(r_pd)"
   ]
  },
  {
   "cell_type": "code",
   "execution_count": 15,
   "metadata": {},
   "outputs": [
    {
     "data": {
      "text/plain": [
       "[30773728.30690537, 31253318.877922077]"
      ]
     },
     "execution_count": 15,
     "metadata": {},
     "output_type": "execute_result"
    }
   ],
   "source": [
    "jp.estimate_join_size(source_table, candidate_table, left_on, right_on)"
   ]
  },
  {
   "cell_type": "code",
   "execution_count": 39,
   "metadata": {},
   "outputs": [
    {
     "name": "stdout",
     "output_type": "stream",
     "text": [
      "Estimated join size\n",
      "[417855.3989769821, 2513560.9384615384]\n",
      "Join quality\n",
      "1\n",
      "Containment\n",
      "0.16624040920716113\n",
      "Cardinality proportion\n",
      "145.68366383380547\n",
      "True join size:  19721973\n"
     ]
    }
   ],
   "source": [
    "for hash_, mdata in generated_candidates[\"minhash\"].items():\n",
    "    source_metadata = mdata.source_metadata\n",
    "    candidate_metadata = mdata.candidate_metadata\n",
    "    source_table = pl.read_parquet(source_metadata[\"full_path\"])\n",
    "    candidate_table = pl.read_parquet(candidate_metadata[\"full_path\"])\n",
    "    left_on = mdata.left_on\n",
    "    right_on = mdata.right_on\n",
    "    print(\"Estimated join size\")\n",
    "    estimates = jp.estimate_join_size(source_table, candidate_table, left_on, right_on)\n",
    "    print(estimates)\n",
    "    print(\"Join quality\")\n",
    "    print(jp.measure_join_quality(source_table, candidate_table, left_on, right_on))\n",
    "    print(\"Containment\")\n",
    "    print(jp.measure_containment(source_table, candidate_table, left_on, right_on))\n",
    "    print(\"Cardinality proportion\")\n",
    "    print(jp.measure_cardinality_proportion(source_table, candidate_table))\n",
    "    if min(estimates) < 1e6:\n",
    "        joined =  jp.merge_table(source_table, candidate_table, left_on=left_on, right_on=right_on, how=\"inner\")\n",
    "        print(\"True join size: \", len(joined))\n",
    "    break"
   ]
  },
  {
   "cell_type": "code",
   "execution_count": 36,
   "metadata": {},
   "outputs": [],
   "source": [
    "unique_source = jp.find_unique_keys(source_table, left_on)\n",
    "unique_cand = jp.find_unique_keys(candidate_table, right_on)\n"
   ]
  },
  {
   "cell_type": "code",
   "execution_count": 38,
   "metadata": {},
   "outputs": [
    {
     "data": {
      "text/plain": [
       "213200.26342710998"
      ]
     },
     "execution_count": 38,
     "metadata": {},
     "output_type": "execute_result"
    }
   ],
   "source": [
    "len(source_table[left_on].drop_nulls()) * len(candidate_table[right_on].drop_nulls()) / len(unique_source)"
   ]
  },
  {
   "cell_type": "code",
   "execution_count": 28,
   "metadata": {},
   "outputs": [
    {
     "data": {
      "text/plain": [
       "-143659488"
      ]
     },
     "execution_count": 28,
     "metadata": {},
     "output_type": "execute_result"
    }
   ],
   "source": [
    "19721973-163381461"
   ]
  },
  {
   "cell_type": "code",
   "execution_count": 29,
   "metadata": {},
   "outputs": [
    {
     "data": {
      "text/plain": [
       "154279"
      ]
     },
     "execution_count": 29,
     "metadata": {},
     "output_type": "execute_result"
    }
   ],
   "source": [
    "len(source_table)"
   ]
  },
  {
   "cell_type": "code",
   "execution_count": 31,
   "metadata": {},
   "outputs": [
    {
     "data": {
      "text/html": [
       "<div><style>\n",
       ".dataframe > thead > tr > th,\n",
       ".dataframe > tbody > tr > td {\n",
       "  text-align: right;\n",
       "}\n",
       "</style>\n",
       "<small>shape: (1_059, 4)</small><table border=\"1\" class=\"dataframe\"><thead><tr><th>type</th><th>subject</th><th>isLocatedIn</th><th>happenedOnDate</th></tr><tr><td>str</td><td>str</td><td>str</td><td>str</td></tr></thead><tbody><tr><td>&quot;&lt;wordnet_movie…</td><td>&quot;&lt;Justice_(1914…</td><td>&quot;&lt;United_Kingdo…</td><td>&quot;2016-05-##^^xs…</td></tr><tr><td>&quot;&lt;wordnet_movie…</td><td>&quot;&lt;Timecode_(200…</td><td>&quot;&lt;United_States…</td><td>&quot;2014-##-##^^xs…</td></tr><tr><td>&quot;&lt;wordnet_movie…</td><td>&quot;&lt;Khwab_Ki_Duni…</td><td>&quot;&lt;India&gt;&quot;</td><td>&quot;2015-10-##^^xs…</td></tr><tr><td>&quot;&lt;wordnet_movie…</td><td>&quot;&lt;Nursie!_Nursi…</td><td>&quot;&lt;United_Kingdo…</td><td>&quot;2016-06-##^^xs…</td></tr><tr><td>&quot;&lt;wordnet_movie…</td><td>&quot;&lt;Dr._Wake&#x27;s_Pa…</td><td>&quot;&lt;United_Kingdo…</td><td>&quot;2016-06-##^^xs…</td></tr><tr><td>&quot;&lt;wordnet_movie…</td><td>&quot;&lt;...La_bocca_m…</td><td>&quot;&lt;Italy&gt;&quot;</td><td>&quot;2019-05-##^^xs…</td></tr><tr><td>&quot;&lt;wordnet_movie…</td><td>&quot;&lt;Old_San_Franc…</td><td>&quot;&lt;United_States…</td><td>&quot;1906-##-##^^xs…</td></tr><tr><td>&quot;&lt;wordnet_movie…</td><td>&quot;&lt;Hum_Bhi_Insaa…</td><td>&quot;&lt;India&gt;&quot;</td><td>&quot;2015-10-##^^xs…</td></tr><tr><td>&quot;&lt;wordnet_movie…</td><td>&quot;&lt;Your_Place_or…</td><td>&quot;&lt;United_States…</td><td>&quot;2021-08-##^^xs…</td></tr><tr><td>&quot;&lt;wordnet_movie…</td><td>&quot;&lt;The_Devil_to_…</td><td>&quot;&lt;United_States…</td><td>&quot;2013-05-17^^xs…</td></tr><tr><td>&quot;&lt;wordnet_movie…</td><td>&quot;&lt;Whiplash_(201…</td><td>&quot;&lt;United_States…</td><td>&quot;1904-03-06^^xs…</td></tr><tr><td>&quot;&lt;wordnet_movie…</td><td>&quot;&lt;Che_(2008_fil…</td><td>&quot;&lt;United_States…</td><td>&quot;1950-##-##^^xs…</td></tr><tr><td>&hellip;</td><td>&hellip;</td><td>&hellip;</td><td>&hellip;</td></tr><tr><td>&quot;&lt;wordnet_movie…</td><td>&quot;&lt;Girlfriend_(2…</td><td>&quot;&lt;India&gt;&quot;</td><td>&quot;2018-##-##^^xs…</td></tr><tr><td>&quot;&lt;wordnet_movie…</td><td>&quot;&lt;The_Mistress_…</td><td>&quot;&lt;United_States…</td><td>&quot;2015-10-##^^xs…</td></tr><tr><td>&quot;&lt;wordnet_movie…</td><td>&quot;&lt;The_Mistress_…</td><td>&quot;&lt;United_Kingdo…</td><td>&quot;2015-10-##^^xs…</td></tr><tr><td>&quot;&lt;wordnet_movie…</td><td>&quot;&lt;Cool_Runnings…</td><td>&quot;&lt;United_States…</td><td>&quot;1988-##-##^^xs…</td></tr><tr><td>&quot;&lt;wordnet_movie…</td><td>&quot;&lt;Nai_Zindagi&gt;&quot;</td><td>&quot;&lt;India&gt;&quot;</td><td>&quot;2015-11-##^^xs…</td></tr><tr><td>&quot;&lt;wordnet_movie…</td><td>&quot;&lt;Love_(2011_fi…</td><td>&quot;&lt;United_States…</td><td>&quot;2009-06-17^^xs…</td></tr><tr><td>&quot;&lt;wordnet_movie…</td><td>&quot;&lt;Black_Listed&gt;…</td><td>&quot;&lt;United_States…</td><td>&quot;2019-04-##^^xs…</td></tr><tr><td>&quot;&lt;wordnet_movie…</td><td>&quot;&lt;The_Heart_of_…</td><td>&quot;&lt;United_Kingdo…</td><td>&quot;2016-05-##^^xs…</td></tr><tr><td>&quot;&lt;wordnet_movie…</td><td>&quot;&lt;Muktodhara&gt;&quot;</td><td>&quot;&lt;India&gt;&quot;</td><td>&quot;2019-03-##^^xs…</td></tr><tr><td>&quot;&lt;wordnet_movie…</td><td>&quot;&lt;Dead_Lucky&gt;&quot;</td><td>&quot;&lt;United_Kingdo…</td><td>&quot;2016-05-##^^xs…</td></tr><tr><td>&quot;&lt;wordnet_movie…</td><td>&quot;&lt;Rock_of_Ages_…</td><td>&quot;&lt;United_States…</td><td>&quot;1944-##-##^^xs…</td></tr><tr><td>&quot;&lt;wordnet_movie…</td><td>&quot;&lt;Moment_of_Ind…</td><td>&quot;&lt;United_Kingdo…</td><td>&quot;2016-06-##^^xs…</td></tr></tbody></table></div>"
      ],
      "text/plain": [
       "shape: (1_059, 4)\n",
       "┌───────────────────────────┬────────────────────────────┬──────────────────┬──────────────────────┐\n",
       "│ type                      ┆ subject                    ┆ isLocatedIn      ┆ happenedOnDate       │\n",
       "│ ---                       ┆ ---                        ┆ ---              ┆ ---                  │\n",
       "│ str                       ┆ str                        ┆ str              ┆ str                  │\n",
       "╞═══════════════════════════╪════════════════════════════╪══════════════════╪══════════════════════╡\n",
       "│ <wordnet_movie_106613686> ┆ <Justice_(1914_film)>      ┆ <United_Kingdom> ┆ 2016-05-##^^xsd:date │\n",
       "│ <wordnet_movie_106613686> ┆ <Timecode_(2000_film)>     ┆ <United_States>  ┆ 2014-##-##^^xsd:date │\n",
       "│ <wordnet_movie_106613686> ┆ <Khwab_Ki_Duniya>          ┆ <India>          ┆ 2015-10-##^^xsd:date │\n",
       "│ <wordnet_movie_106613686> ┆ <Nursie!_Nursie!>          ┆ <United_Kingdom> ┆ 2016-06-##^^xsd:date │\n",
       "│ …                         ┆ …                          ┆ …                ┆ …                    │\n",
       "│ <wordnet_movie_106613686> ┆ <Muktodhara>               ┆ <India>          ┆ 2019-03-##^^xsd:date │\n",
       "│ <wordnet_movie_106613686> ┆ <Dead_Lucky>               ┆ <United_Kingdom> ┆ 2016-05-##^^xsd:date │\n",
       "│ <wordnet_movie_106613686> ┆ <Rock_of_Ages_(2012_film)> ┆ <United_States>  ┆ 1944-##-##^^xsd:date │\n",
       "│ <wordnet_movie_106613686> ┆ <Moment_of_Indiscretion>   ┆ <United_Kingdom> ┆ 2016-06-##^^xsd:date │\n",
       "└───────────────────────────┴────────────────────────────┴──────────────────┴──────────────────────┘"
      ]
     },
     "execution_count": 31,
     "metadata": {},
     "output_type": "execute_result"
    }
   ],
   "source": [
    "candidate_table"
   ]
  },
  {
   "cell_type": "code",
   "execution_count": null,
   "metadata": {},
   "outputs": [],
   "source": []
  }
 ],
 "metadata": {
  "kernelspec": {
   "display_name": "bench",
   "language": "python",
   "name": "python3"
  },
  "language_info": {
   "codemirror_mode": {
    "name": "ipython",
    "version": 3
   },
   "file_extension": ".py",
   "mimetype": "text/x-python",
   "name": "python",
   "nbconvert_exporter": "python",
   "pygments_lexer": "ipython3",
   "version": "3.10.10"
  },
  "orig_nbformat": 4
 },
 "nbformat": 4,
 "nbformat_minor": 2
}
