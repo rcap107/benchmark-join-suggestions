{
 "cells": [
  {
   "cell_type": "code",
   "execution_count": 4,
   "metadata": {},
   "outputs": [
    {
     "name": "stdout",
     "output_type": "stream",
     "text": [
      "/home/soda/rcappuzz/work/benchmark-join-suggestions\n"
     ]
    }
   ],
   "source": [
    "%cd .."
   ]
  },
  {
   "cell_type": "code",
   "execution_count": 19,
   "metadata": {},
   "outputs": [
    {
     "name": "stdout",
     "output_type": "stream",
     "text": [
      "The autoreload extension is already loaded. To reload it, use:\n",
      "  %reload_ext autoreload\n"
     ]
    }
   ],
   "source": [
    "%load_ext autoreload\n",
    "%autoreload 2"
   ]
  },
  {
   "cell_type": "code",
   "execution_count": 20,
   "metadata": {},
   "outputs": [],
   "source": [
    "import pickle\n",
    "import polars as pl"
   ]
  },
  {
   "cell_type": "code",
   "execution_count": 21,
   "metadata": {},
   "outputs": [],
   "source": [
    "import src.table_integration.join_profiling as jp"
   ]
  },
  {
   "cell_type": "code",
   "execution_count": 22,
   "metadata": {},
   "outputs": [],
   "source": [
    "with open(\"generated_candidates.pickle\", \"rb\") as fp:\n",
    "    generated_candidates = pickle.load(fp)"
   ]
  },
  {
   "cell_type": "code",
   "execution_count": 23,
   "metadata": {},
   "outputs": [],
   "source": [
    "one_candidate = generated_candidates[\"minhash\"].popitem()\n",
    "hash_, mdata = one_candidate\n",
    "source_metadata = mdata.source_metadata\n",
    "candidate_metadata = mdata.candidate_metadata\n",
    "source_table = pl.read_parquet(source_metadata[\"full_path\"])\n",
    "candidate_table = pl.read_parquet(candidate_metadata[\"full_path\"])\n",
    "left_on = mdata.left_on\n",
    "right_on = mdata.right_on\n"
   ]
  },
  {
   "cell_type": "code",
   "execution_count": 24,
   "metadata": {},
   "outputs": [
    {
     "data": {
      "text/plain": [
       "40"
      ]
     },
     "execution_count": 24,
     "metadata": {},
     "output_type": "execute_result"
    }
   ],
   "source": [
    "mdata.similarity_score"
   ]
  },
  {
   "cell_type": "code",
   "execution_count": 25,
   "metadata": {},
   "outputs": [],
   "source": [
    "unique_source = jp.find_unique_keys(source_table, left_on)\n",
    "unique_cand = jp.find_unique_keys(candidate_table, right_on)"
   ]
  },
  {
   "cell_type": "code",
   "execution_count": 26,
   "metadata": {},
   "outputs": [
    {
     "data": {
      "text/plain": [
       "0.1605925925925926"
      ]
     },
     "execution_count": 26,
     "metadata": {},
     "output_type": "execute_result"
    }
   ],
   "source": [
    "jp.measure_cardinality_proportion(source_table, candidate_table, left_on, right_on)"
   ]
  },
  {
   "attachments": {},
   "cell_type": "markdown",
   "metadata": {},
   "source": [
    "The cardinality proportion is larger than 1!!! This is not something they are accounting for in the heuristic. \n",
    "\n",
    "How are we handling these situations? Should we go for `min([card_source/card_cand, card_cand/card_source])` instead? Is this even meaningful? "
   ]
  },
  {
   "attachments": {},
   "cell_type": "markdown",
   "metadata": {},
   "source": [
    "I am having issues here to find the containment "
   ]
  },
  {
   "cell_type": "code",
   "execution_count": 27,
   "metadata": {},
   "outputs": [
    {
     "name": "stdout",
     "output_type": "stream",
     "text": [
      "0.28004152608357125\n"
     ]
    }
   ],
   "source": [
    "unique_source = source_table[left_on].unique()\n",
    "unique_cand = candidate_table[right_on].unique()\n",
    "intersection=source_table.join(unique_cand, left_on=left_on, right_on=right_on, how=\"inner\")\n",
    "containment = len(intersection)/len(source_table)\n",
    "print(containment)"
   ]
  },
  {
   "cell_type": "code",
   "execution_count": 28,
   "metadata": {},
   "outputs": [
    {
     "data": {
      "text/plain": [
       "2"
      ]
     },
     "execution_count": 28,
     "metadata": {},
     "output_type": "execute_result"
    }
   ],
   "source": [
    "jp.measure_join_quality(source_table, candidate_table, left_on, right_on)"
   ]
  },
  {
   "cell_type": "code",
   "execution_count": 30,
   "metadata": {},
   "outputs": [
    {
     "data": {
      "text/plain": [
       "[30729.55376910912, 4934.938708994709]"
      ]
     },
     "execution_count": 30,
     "metadata": {},
     "output_type": "execute_result"
    }
   ],
   "source": [
    "jp.estimate_join_size(source_table, candidate_table, left_on, right_on)"
   ]
  },
  {
   "cell_type": "code",
   "execution_count": 45,
   "metadata": {},
   "outputs": [
    {
     "name": "stdout",
     "output_type": "stream",
     "text": [
      "lazo\n",
      "movie-revenues-target\n",
      "Estimated join size: 3888.54\n",
      "Join quality: 4.00\n",
      "Containment: 1.00\n",
      "Cardinality proportion: 1.00\n",
      "True join size:  3951\n",
      "minhash\n",
      "wordnet_artist_actedIn_hasWonPrize\n",
      "Estimated join size: 4341.48\n",
      "Join quality: 0.00\n",
      "Containment: 0.06\n",
      "Cardinality proportion: 1.85\n",
      "True join size:  540\n",
      "wordnet_person_wasCreatedOnDate_directed\n",
      "Estimated join size: 2996.89\n",
      "Join quality: 0.00\n",
      "Containment: 0.03\n",
      "Cardinality proportion: 1.29\n",
      "True join size:  115\n",
      "wordnet_artist_actedIn_hasWebsite\n",
      "Estimated join size: 3792.07\n",
      "Join quality: 0.00\n",
      "Containment: 0.07\n",
      "Cardinality proportion: 1.32\n",
      "True join size:  315\n",
      "wordnet_album_isLocatedIn_wasCreatedOnDate\n",
      "Estimated join size: 2823.23\n",
      "Join quality: 1.00\n",
      "Containment: 0.16\n",
      "Cardinality proportion: 1.43\n",
      "True join size:  654\n",
      "movie-revenues-target\n",
      "Estimated join size: 3888.54\n",
      "Join quality: 4.00\n",
      "Containment: 1.00\n",
      "Cardinality proportion: 1.00\n",
      "True join size:  3951\n",
      "wordnet_person_hasWebsite_directed\n",
      "Estimated join size: 4076.39\n",
      "Join quality: 0.00\n",
      "Containment: 0.08\n",
      "Cardinality proportion: 0.67\n",
      "True join size:  351\n",
      "yago_seltab_wordnet_officeholder\n",
      "Estimated join size: 179690.94\n",
      "Join quality: 0.00\n",
      "Containment: 0.02\n",
      "Cardinality proportion: 0.65\n",
      "True join size:  971\n",
      "wordnet_officeholder_isAffiliatedTo_actedIn\n",
      "Estimated join size: 4668.65\n",
      "Join quality: 0.00\n",
      "Containment: 0.02\n",
      "Cardinality proportion: 0.80\n",
      "True join size:  65\n",
      "yago_seltab_wordnet_artist\n",
      "Estimated join size: 115411.59\n",
      "Join quality: 1.00\n",
      "Containment: 0.10\n",
      "Cardinality proportion: 0.62\n",
      "True join size:  887\n"
     ]
    }
   ],
   "source": [
    "tot_dict = []\n",
    "for index_name, candidates in generated_candidates.items():\n",
    "    print(index_name)\n",
    "    \n",
    "    for hash_, mdata in candidates.items():\n",
    "        prof_dict = {}\n",
    "        source_metadata = mdata.source_metadata\n",
    "        candidate_metadata = mdata.candidate_metadata\n",
    "        print(candidate_metadata[\"df_name\"])\n",
    "        source_table = pl.read_parquet(source_metadata[\"full_path\"])\n",
    "        candidate_table = pl.read_parquet(candidate_metadata[\"full_path\"])\n",
    "        left_on = mdata.left_on\n",
    "        right_on = mdata.right_on\n",
    "        estimates = jp.estimate_join_size(source_table, candidate_table, left_on, right_on)\n",
    "        print(f\"Estimated join size: {min(estimates):.2f}\")\n",
    "        join_quality = jp.measure_join_quality(source_table, candidate_table, left_on, right_on)\n",
    "        print(f\"Join quality: {join_quality:.2f}\")\n",
    "        containment=jp.measure_containment(source_table, candidate_table, left_on, right_on)\n",
    "        print(f\"Containment: {containment:.2f}\")\n",
    "        card_prop = jp.measure_cardinality_proportion(source_table, candidate_table, left_on, right_on)\n",
    "        print(f\"Cardinality proportion: {card_prop:.2f}\")\n",
    "        if min(estimates) < 1e6:\n",
    "            joined =  jp.merge_table(source_table, candidate_table, left_on=left_on, right_on=right_on, how=\"inner\")\n",
    "            print(\"True join size: \", len(joined))\n",
    "        else:\n",
    "            joined = None\n",
    "        prof_dict[\"candidate_id\"] = mdata.candidate_id\n",
    "        prof_dict[\"index\"] = index_name\n",
    "        prof_dict[\"source_table\"] = source_metadata[\"full_path\"]\n",
    "        prof_dict[\"source_name\"] = source_metadata[\"df_name\"]\n",
    "        prof_dict[\"candidate_table\"] = candidate_metadata[\"full_path\"]\n",
    "        prof_dict[\"candidate_name\"] = candidate_metadata[\"df_name\"]\n",
    "        # prof_dict[\"left_on\"] = left_on\n",
    "        # prof_dict[\"right_on\"] = right_on\n",
    "        # prof_dict[\"size_estimates\"] = estimates\n",
    "        prof_dict[\"min_estimate\"] = min(estimates)\n",
    "        prof_dict[\"join_quality\"] = join_quality\n",
    "        prof_dict[\"containment\"] = containment\n",
    "        prof_dict[\"cardinality_proportion\"] = card_prop\n",
    "        if joined is not None:        \n",
    "            prof_dict[\"true_join_size\"] = len(joined)\n",
    "        else:\n",
    "            prof_dict[\"true_join_size\"] = 0\n",
    "        \n",
    "        tot_dict.append(prof_dict)\n"
   ]
  },
  {
   "cell_type": "code",
   "execution_count": 47,
   "metadata": {},
   "outputs": [],
   "source": [
    "prof_df = pl.from_dicts(tot_dict)"
   ]
  },
  {
   "cell_type": "code",
   "execution_count": 49,
   "metadata": {},
   "outputs": [],
   "source": [
    "prof_df = prof_df.drop(\n",
    "    [\n",
    "        \"source_table\",\n",
    "        \"candidate_table\"\n",
    "    ]\n",
    ")"
   ]
  },
  {
   "cell_type": "code",
   "execution_count": 50,
   "metadata": {},
   "outputs": [
    {
     "data": {
      "text/html": [
       "<div><style>\n",
       ".dataframe > thead > tr > th,\n",
       ".dataframe > tbody > tr > td {\n",
       "  text-align: right;\n",
       "}\n",
       "</style>\n",
       "<small>shape: (10, 8)</small><table border=\"1\" class=\"dataframe\"><thead><tr><th>candidate_id</th><th>source_name</th><th>candidate_name</th><th>min_estimate</th><th>join_quality</th><th>containment</th><th>cardinality_proportion</th><th>true_join_size</th></tr><tr><td>str</td><td>str</td><td>str</td><td>f64</td><td>i64</td><td>f64</td><td>f64</td><td>i64</td></tr></thead><tbody><tr><td>&quot;6e39d88898326d…</td><td>&quot;movies-prepare…</td><td>&quot;movie-revenues…</td><td>3888.54428</td><td>4</td><td>1.0</td><td>1.0</td><td>3951</td></tr><tr><td>&quot;10bf06ccabc7b7…</td><td>&quot;movies-prepare…</td><td>&quot;wordnet_artist…</td><td>4341.479968</td><td>0</td><td>0.060358</td><td>1.845331</td><td>540</td></tr><tr><td>&quot;878eb7ed18fbca…</td><td>&quot;movies-prepare…</td><td>&quot;wordnet_person…</td><td>2996.890617</td><td>0</td><td>0.030311</td><td>1.287411</td><td>115</td></tr><tr><td>&quot;5818aaace07339…</td><td>&quot;movies-prepare…</td><td>&quot;wordnet_artist…</td><td>3792.066948</td><td>0</td><td>0.068002</td><td>1.321491</td><td>315</td></tr><tr><td>&quot;a781e57133964c…</td><td>&quot;movies-prepare…</td><td>&quot;wordnet_album_…</td><td>2823.231418</td><td>1</td><td>0.163943</td><td>1.431698</td><td>654</td></tr><tr><td>&quot;6e39d88898326d…</td><td>&quot;movies-prepare…</td><td>&quot;movie-revenues…</td><td>3888.54428</td><td>4</td><td>1.0</td><td>1.0</td><td>3951</td></tr><tr><td>&quot;30d041a8969c64…</td><td>&quot;movies-prepare…</td><td>&quot;wordnet_person…</td><td>4076.392021</td><td>0</td><td>0.084871</td><td>0.672695</td><td>351</td></tr><tr><td>&quot;5eaf1b8a2c4cca…</td><td>&quot;movies-prepare…</td><td>&quot;yago_seltab_wo…</td><td>179690.935045</td><td>0</td><td>0.021349</td><td>0.653687</td><td>971</td></tr><tr><td>&quot;2961999f4ba187…</td><td>&quot;movies-prepare…</td><td>&quot;wordnet_office…</td><td>4668.651963</td><td>0</td><td>0.016342</td><td>0.80076</td><td>65</td></tr><tr><td>&quot;e61c57b0864a89…</td><td>&quot;movies-prepare…</td><td>&quot;yago_seltab_wo…</td><td>115411.585222</td><td>1</td><td>0.100158</td><td>0.622989</td><td>887</td></tr></tbody></table></div>"
      ],
      "text/plain": [
       "shape: (10, 8)\n",
       "┌────────────┬───────────┬────────────┬────────────┬────────────┬───────────┬────────────┬────────────┐\n",
       "│ candidate_ ┆ source_na ┆ candidate_ ┆ min_estima ┆ join_quali ┆ containme ┆ cardinalit ┆ true_join_ │\n",
       "│ id         ┆ me        ┆ name       ┆ te         ┆ ty         ┆ nt        ┆ y_proporti ┆ size       │\n",
       "│ ---        ┆ ---       ┆ ---        ┆ ---        ┆ ---        ┆ ---       ┆ on         ┆ ---        │\n",
       "│ str        ┆ str       ┆ str        ┆ f64        ┆ i64        ┆ f64       ┆ ---        ┆ i64        │\n",
       "│            ┆           ┆            ┆            ┆            ┆           ┆ f64        ┆            │\n",
       "╞════════════╪═══════════╪════════════╪════════════╪════════════╪═══════════╪════════════╪════════════╡\n",
       "│ 6e39d88898 ┆ movies-pr ┆ movie-reve ┆ 3888.54428 ┆ 4          ┆ 1.0       ┆ 1.0        ┆ 3951       │\n",
       "│ 326d0585b2 ┆ epared    ┆ nues-targe ┆            ┆            ┆           ┆            ┆            │\n",
       "│ 3e7ceec9ae ┆           ┆ t          ┆            ┆            ┆           ┆            ┆            │\n",
       "│ 7d         ┆           ┆            ┆            ┆            ┆           ┆            ┆            │\n",
       "│ 10bf06ccab ┆ movies-pr ┆ wordnet_ar ┆ 4341.47996 ┆ 0          ┆ 0.060358  ┆ 1.845331   ┆ 540        │\n",
       "│ c7b76c0374 ┆ epared    ┆ tist_acted ┆ 8          ┆            ┆           ┆            ┆            │\n",
       "│ 2483d8beb6 ┆           ┆ In_hasWonP ┆            ┆            ┆           ┆            ┆            │\n",
       "│ 5e         ┆           ┆ ri…        ┆            ┆            ┆           ┆            ┆            │\n",
       "│ 878eb7ed18 ┆ movies-pr ┆ wordnet_pe ┆ 2996.89061 ┆ 0          ┆ 0.030311  ┆ 1.287411   ┆ 115        │\n",
       "│ fbcacda5ce ┆ epared    ┆ rson_wasCr ┆ 7          ┆            ┆           ┆            ┆            │\n",
       "│ fc87aeb0af ┆           ┆ eatedOnDat ┆            ┆            ┆           ┆            ┆            │\n",
       "│ 60         ┆           ┆ e_…        ┆            ┆            ┆           ┆            ┆            │\n",
       "│ 5818aaace0 ┆ movies-pr ┆ wordnet_ar ┆ 3792.06694 ┆ 0          ┆ 0.068002  ┆ 1.321491   ┆ 315        │\n",
       "│ 733963a357 ┆ epared    ┆ tist_acted ┆ 8          ┆            ┆           ┆            ┆            │\n",
       "│ 10988a3470 ┆           ┆ In_hasWebs ┆            ┆            ┆           ┆            ┆            │\n",
       "│ 59         ┆           ┆ it…        ┆            ┆            ┆           ┆            ┆            │\n",
       "│ …          ┆ …         ┆ …          ┆ …          ┆ …          ┆ …         ┆ …          ┆ …          │\n",
       "│ 30d041a896 ┆ movies-pr ┆ wordnet_pe ┆ 4076.39202 ┆ 0          ┆ 0.084871  ┆ 0.672695   ┆ 351        │\n",
       "│ 9c64ccfabf ┆ epared    ┆ rson_hasWe ┆ 1          ┆            ┆           ┆            ┆            │\n",
       "│ a0032cede6 ┆           ┆ bsite_dire ┆            ┆            ┆           ┆            ┆            │\n",
       "│ a3         ┆           ┆ ct…        ┆            ┆            ┆           ┆            ┆            │\n",
       "│ 5eaf1b8a2c ┆ movies-pr ┆ yago_selta ┆ 179690.935 ┆ 0          ┆ 0.021349  ┆ 0.653687   ┆ 971        │\n",
       "│ 4ccadec141 ┆ epared    ┆ b_wordnet_ ┆ 045        ┆            ┆           ┆            ┆            │\n",
       "│ 675b3e3d9d ┆           ┆ officehold ┆            ┆            ┆           ┆            ┆            │\n",
       "│ 33         ┆           ┆ er         ┆            ┆            ┆           ┆            ┆            │\n",
       "│ 2961999f4b ┆ movies-pr ┆ wordnet_of ┆ 4668.65196 ┆ 0          ┆ 0.016342  ┆ 0.80076    ┆ 65         │\n",
       "│ a1875bd554 ┆ epared    ┆ ficeholder ┆ 3          ┆            ┆           ┆            ┆            │\n",
       "│ 79898e98a0 ┆           ┆ _isAffilia ┆            ┆            ┆           ┆            ┆            │\n",
       "│ 29         ┆           ┆ te…        ┆            ┆            ┆           ┆            ┆            │\n",
       "│ e61c57b086 ┆ movies-pr ┆ yago_selta ┆ 115411.585 ┆ 1          ┆ 0.100158  ┆ 0.622989   ┆ 887        │\n",
       "│ 4a89bde47e ┆ epared    ┆ b_wordnet_ ┆ 222        ┆            ┆           ┆            ┆            │\n",
       "│ 5d4dce5044 ┆           ┆ artist     ┆            ┆            ┆           ┆            ┆            │\n",
       "│ c6         ┆           ┆            ┆            ┆            ┆           ┆            ┆            │\n",
       "└────────────┴───────────┴────────────┴────────────┴────────────┴───────────┴────────────┴────────────┘"
      ]
     },
     "execution_count": 50,
     "metadata": {},
     "output_type": "execute_result"
    }
   ],
   "source": [
    "prof_df"
   ]
  },
  {
   "cell_type": "code",
   "execution_count": null,
   "metadata": {},
   "outputs": [],
   "source": []
  }
 ],
 "metadata": {
  "kernelspec": {
   "display_name": "bench",
   "language": "python",
   "name": "python3"
  },
  "language_info": {
   "codemirror_mode": {
    "name": "ipython",
    "version": 3
   },
   "file_extension": ".py",
   "mimetype": "text/x-python",
   "name": "python",
   "nbconvert_exporter": "python",
   "pygments_lexer": "ipython3",
   "version": "3.10.10"
  },
  "orig_nbformat": 4
 },
 "nbformat": 4,
 "nbformat_minor": 2
}
