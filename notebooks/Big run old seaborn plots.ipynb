{
 "cells": [
  {
   "cell_type": "code",
   "execution_count": null,
   "metadata": {},
   "outputs": [],
   "source": []
  },
  {
   "cell_type": "code",
   "execution_count": null,
   "metadata": {},
   "outputs": [],
   "source": [
    "%cd ~/bench"
   ]
  },
  {
   "cell_type": "code",
   "execution_count": null,
   "metadata": {},
   "outputs": [],
   "source": [
    "%load_ext autoreload\n",
    "%autoreload 2\n",
    "import polars as pl\n",
    "import seaborn as sns\n",
    "import matplotlib.pyplot as plt\n",
    "from pathlib import Path\n",
    "import numpy as np\n",
    "import matplotlib.colors as mcolors\n",
    "import src.utils.plotting as plotting\n",
    "from src.utils.logging import read_logs\n",
    "from matplotlib.gridspec import GridSpec\n",
    "\n",
    "import tarfile\n",
    "import json\n",
    "import pandas as pd \n",
    "cfg = pl.Config()\n",
    "cfg.set_fmt_str_lengths(150)"
   ]
  },
  {
   "cell_type": "markdown",
   "metadata": {},
   "source": [
    "# Combine all results "
   ]
  },
  {
   "cell_type": "code",
   "execution_count": null,
   "metadata": {},
   "outputs": [],
   "source": [
    "root_path = Path(\"results/big_batch\")\n",
    "df_list = []\n",
    "for rpath in root_path.iterdir():\n",
    "    df_raw = read_logs(exp_name=None, exp_path=rpath)\n",
    "    df_list.append(df_raw)\n",
    "\n",
    "df_results = pl.concat(df_list)"
   ]
  },
  {
   "cell_type": "markdown",
   "metadata": {},
   "source": [
    "# BIG BATCH"
   ]
  },
  {
   "cell_type": "code",
   "execution_count": null,
   "metadata": {},
   "outputs": [],
   "source": [
    "df_ = df_results.select(\n",
    "    pl.col(\n",
    "        [\n",
    "            \"scenario_id\",\n",
    "            \"target_dl\",\n",
    "            \"jd_method\",\n",
    "            \"base_table\",\n",
    "            \"estimator\",\n",
    "            \"chosen_model\",\n",
    "            \"aggregation\",\n",
    "            \"r2score\",\n",
    "            \"time_fit\",\n",
    "            \"time_predict\",\n",
    "            \"time_run\",\n",
    "            \"epsilon\",\n",
    "        ]\n",
    "    )\n",
    ").filter(\n",
    "    (~pl.col(\"base_table\").str.contains(\"open_data\"))\n",
    "    & (pl.col(\"target_dl\") != \"wordnet_big\")\n",
    ")"
   ]
  },
  {
   "cell_type": "code",
   "execution_count": null,
   "metadata": {},
   "outputs": [],
   "source": [
    "df_ = df_.with_columns(\n",
    "    (pl.col(\"jd_method\") + \" | \" + pl.col(\"target_dl\")).alias(\"case\")\n",
    ")"
   ]
  },
  {
   "cell_type": "code",
   "execution_count": null,
   "metadata": {},
   "outputs": [],
   "source": [
    "col_order = (\n",
    "    df_.select(pl.col(\"base_table\")).unique().sort(\"base_table\").to_series().to_list()\n",
    ")"
   ]
  },
  {
   "cell_type": "code",
   "execution_count": null,
   "metadata": {},
   "outputs": [],
   "source": [
    "df_ = df_.group_by(\n",
    "    [\"target_dl\", \"jd_method\", \"base_table\", \"estimator\", \"chosen_model\"]\n",
    ").map_groups(lambda x: x.with_row_count(\"fold_id\"))"
   ]
  },
  {
   "cell_type": "code",
   "execution_count": null,
   "metadata": {},
   "outputs": [],
   "source": [
    "joined=(df_.join(\n",
    "    df_.filter(pl.col(\"estimator\") == \"nojoin\"),\n",
    "    on=[\"target_dl\", \"jd_method\", \"base_table\", \"chosen_model\", \"fold_id\"],\n",
    "    how=\"left\",\n",
    ")\n",
    ".with_columns((pl.col(\"r2score\") - pl.col(\"r2score_right\")).alias(\"difference\"))\n",
    ")"
   ]
  },
  {
   "cell_type": "code",
   "execution_count": null,
   "metadata": {},
   "outputs": [],
   "source": [
    "results_full = joined.filter(~pl.col(\"base_table\").str.contains(\"depleted\"))\n",
    "results_depleted = joined.filter(pl.col(\"base_table\").str.contains(\"depleted\"))"
   ]
  },
  {
   "cell_type": "markdown",
   "metadata": {},
   "source": [
    "# Early Seaborn plots"
   ]
  },
  {
   "cell_type": "code",
   "execution_count": null,
   "metadata": {},
   "outputs": [],
   "source": [
    "with sns.axes_style(\"whitegrid\"):\n",
    "    ax = sns.catplot(\n",
    "        data=df_.filter(~pl.col(\"base_table\").str.contains(\"open_data\")).to_pandas(),\n",
    "        # data=df_.filter(pl.col(\"chosen_model\") == \"catboost\").to_pandas(),\n",
    "        x=\"r2score\",\n",
    "        y=\"estimator\",\n",
    "        hue=\"case\",\n",
    "        kind=\"box\",\n",
    "        col=\"base_table\",\n",
    "        row=\"chosen_model\",\n",
    "        sharex=False,\n",
    "        # col_wrap=2,\n",
    "        # col_order=col_order,\n",
    "        # facet_kws={\"xlim\": [0,1]}\n",
    "        palette=\"tab20\",\n",
    "    )"
   ]
  },
  {
   "cell_type": "code",
   "execution_count": null,
   "metadata": {},
   "outputs": [],
   "source": [
    "with sns.axes_style(\"whitegrid\"):\n",
    "    ax = sns.catplot(\n",
    "        data=joined.filter(~pl.col(\"base_table\").str.contains(\"open_data\")).to_pandas(),\n",
    "        # data=df_.filter(pl.col(\"chosen_model\") == \"catboost\").to_pandas(),\n",
    "        x=\"difference\",\n",
    "        y=\"estimator\",\n",
    "        hue=\"case\",\n",
    "        kind=\"box\",\n",
    "        col=\"base_table\",\n",
    "        row=\"chosen_model\",\n",
    "        sharex=True,\n",
    "        # col_wrap=2,\n",
    "        # col_order=col_order,\n",
    "        # facet_kws={\"xlim\": [0,1]}\n",
    "        palette=\"tab20\",\n",
    "    )"
   ]
  },
  {
   "cell_type": "code",
   "execution_count": null,
   "metadata": {},
   "outputs": [],
   "source": [
    "for table in df_[\"base_table\"].unique().sort():\n",
    "    ax = sns.catplot(\n",
    "        data=df_.filter(pl.col(\"base_table\") == table).to_pandas(),\n",
    "        y=\"r2score\",\n",
    "        x=\"estimator\",\n",
    "        hue=\"case\",\n",
    "        kind=\"box\",\n",
    "        # col=\"base_table\",\n",
    "        col=\"chosen_model\",\n",
    "        # sharex=True,\n",
    "        # col_wrap=2,\n",
    "        # col_order=col_order,\n",
    "        # facet_kws={\"xlim\": [0,1]}\n",
    "        palette=\"tab20\",\n",
    "    )\n",
    "    ax.set_xticklabels(rotation=30)\n",
    "    ax.fig.subplots_adjust(top=0.9)\n",
    "\n",
    "    ax.fig.suptitle(table)"
   ]
  },
  {
   "cell_type": "code",
   "execution_count": null,
   "metadata": {},
   "outputs": [],
   "source": [
    "for table in joined[\"base_table\"].unique().sort():\n",
    "    ax = sns.catplot(\n",
    "        data=joined.filter(pl.col(\"base_table\") == table).to_pandas(),\n",
    "        y=\"difference\",\n",
    "        x=\"estimator\",\n",
    "        hue=\"case\",\n",
    "        kind=\"box\",\n",
    "        # col=\"base_table\",\n",
    "        col=\"chosen_model\",\n",
    "        # sharex=True,\n",
    "        # col_wrap=2,\n",
    "        # col_order=col_order,\n",
    "        # facet_kws={\"xlim\": [0,1]}\n",
    "        palette=\"tab20\",\n",
    "    )\n",
    "    ax.set_xticklabels(rotation=30)\n",
    "    ax.fig.subplots_adjust(top=0.9)\n",
    "\n",
    "    ax.fig.suptitle(table)"
   ]
  }
 ],
 "metadata": {
  "language_info": {
   "name": "python"
  }
 },
 "nbformat": 4,
 "nbformat_minor": 2
}
