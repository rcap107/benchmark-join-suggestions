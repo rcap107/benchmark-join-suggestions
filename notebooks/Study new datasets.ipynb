{
 "cells": [
  {
   "cell_type": "code",
   "execution_count": 1,
   "metadata": {},
   "outputs": [
    {
     "name": "stdout",
     "output_type": "stream",
     "text": [
      "/home/soda/rcappuzz/work/benchmark-join-suggestions\n"
     ]
    }
   ],
   "source": [
    "cd .."
   ]
  },
  {
   "cell_type": "code",
   "execution_count": 2,
   "metadata": {},
   "outputs": [],
   "source": [
    "%load_ext autoreload"
   ]
  },
  {
   "cell_type": "code",
   "execution_count": 3,
   "metadata": {},
   "outputs": [],
   "source": [
    "%autoreload 2\n",
    "import polars as pl\n",
    "import seaborn as sns\n",
    "import matplotlib.pyplot as plt\n",
    "from pathlib import Path\n",
    "import numpy as np\n",
    "import matplotlib.colors as mcolors\n",
    "import tarfile\n",
    "import json\n",
    "import pandas as pd "
   ]
  },
  {
   "cell_type": "code",
   "execution_count": 4,
   "metadata": {},
   "outputs": [
    {
     "data": {
      "text/plain": [
       "polars.config.Config"
      ]
     },
     "execution_count": 4,
     "metadata": {},
     "output_type": "execute_result"
    }
   ],
   "source": [
    "cfg = pl.Config()\n",
    "cfg.set_fmt_str_lengths(50)"
   ]
  },
  {
   "cell_type": "code",
   "execution_count": 6,
   "metadata": {},
   "outputs": [],
   "source": [
    "data_folder = Path(\"data/source_tables/new_datasets\")"
   ]
  },
  {
   "cell_type": "markdown",
   "metadata": {},
   "source": [
    "# Elections"
   ]
  },
  {
   "cell_type": "code",
   "execution_count": 49,
   "metadata": {},
   "outputs": [],
   "source": [
    "# df_old = pl.read_parquet(Path(data_folder, \"us-presidential-results-yadl.parquet\"))"
   ]
  },
  {
   "cell_type": "code",
   "execution_count": 8,
   "metadata": {},
   "outputs": [],
   "source": [
    "df = pl.read_parquet(Path(data_folder, \"us_elections.parquet\"))"
   ]
  },
  {
   "cell_type": "code",
   "execution_count": 9,
   "metadata": {},
   "outputs": [],
   "source": [
    "df = (\n",
    "    df.select(\n",
    "        [\n",
    "            \"year\",\n",
    "            \"state\",\n",
    "            \"state_po\",\n",
    "            \"county_name\",\n",
    "            \"county_fips\",\n",
    "            \"candidate\",\n",
    "            \"party\",\n",
    "            \"totalvotes\",\n",
    "            \"target\",\n",
    "            \"yago3_col_to_embed\",\n",
    "        ]\n",
    "    )\n",
    "    .filter(pl.col(\"year\") == 2020)\n",
    "    .drop(\"year\")\n",
    "    .with_columns((\"<\" + pl.col(\"yago3_col_to_embed\") + \">\").alias(\"col_to_embed\"))\n",
    ")"
   ]
  },
  {
   "cell_type": "code",
   "execution_count": 10,
   "metadata": {},
   "outputs": [
    {
     "data": {
      "text/html": [
       "<div><style>\n",
       ".dataframe > thead > tr > th,\n",
       ".dataframe > tbody > tr > td {\n",
       "  text-align: right;\n",
       "  white-space: pre-wrap;\n",
       "}\n",
       "</style>\n",
       "<small>shape: (22_093, 10)</small><table border=\"1\" class=\"dataframe\"><thead><tr><th>state</th><th>state_po</th><th>county_name</th><th>county_fips</th><th>candidate</th><th>party</th><th>totalvotes</th><th>target</th><th>yago3_col_to_embed</th><th>col_to_embed</th></tr><tr><td>str</td><td>str</td><td>str</td><td>f64</td><td>str</td><td>str</td><td>i64</td><td>f64</td><td>str</td><td>str</td></tr></thead><tbody><tr><td>&quot;Alabama&quot;</td><td>&quot;AL&quot;</td><td>&quot;Autauga&quot;</td><td>1001.0</td><td>&quot;JOSEPH R BIDEN JR&quot;</td><td>&quot;DEMOCRAT&quot;</td><td>27770</td><td>3.875293</td><td>&quot;Autauga_County,_Alabama&quot;</td><td>&quot;&lt;Autauga_County,_Alabama&gt;&quot;</td></tr><tr><td>&quot;Alabama&quot;</td><td>&quot;AL&quot;</td><td>&quot;Autauga&quot;</td><td>1001.0</td><td>&quot;OTHER&quot;</td><td>&quot;OTHER&quot;</td><td>27770</td><td>2.633468</td><td>&quot;Autauga_County,_Alabama&quot;</td><td>&quot;&lt;Autauga_County,_Alabama&gt;&quot;</td></tr><tr><td>&quot;Alabama&quot;</td><td>&quot;AL&quot;</td><td>&quot;Autauga&quot;</td><td>1001.0</td><td>&quot;DONALD J TRUMP&quot;</td><td>&quot;REPUBLICAN&quot;</td><td>27770</td><td>4.29752</td><td>&quot;Autauga_County,_Alabama&quot;</td><td>&quot;&lt;Autauga_County,_Alabama&gt;&quot;</td></tr><tr><td>&quot;Alabama&quot;</td><td>&quot;AL&quot;</td><td>&quot;Baldwin&quot;</td><td>1003.0</td><td>&quot;JOSEPH R BIDEN JR&quot;</td><td>&quot;DEMOCRAT&quot;</td><td>109679</td><td>4.390564</td><td>&quot;Baldwin_County,_Alabama&quot;</td><td>&quot;&lt;Baldwin_County,_Alabama&gt;&quot;</td></tr><tr><td>&quot;Alabama&quot;</td><td>&quot;AL&quot;</td><td>&quot;Baldwin&quot;</td><td>1003.0</td><td>&quot;OTHER&quot;</td><td>&quot;OTHER&quot;</td><td>109679</td><td>3.192567</td><td>&quot;Baldwin_County,_Alabama&quot;</td><td>&quot;&lt;Baldwin_County,_Alabama&gt;&quot;</td></tr><tr><td>&quot;Alabama&quot;</td><td>&quot;AL&quot;</td><td>&quot;Baldwin&quot;</td><td>1003.0</td><td>&quot;DONALD J TRUMP&quot;</td><td>&quot;REPUBLICAN&quot;</td><td>109679</td><td>4.92192</td><td>&quot;Baldwin_County,_Alabama&quot;</td><td>&quot;&lt;Baldwin_County,_Alabama&gt;&quot;</td></tr><tr><td>&quot;Alabama&quot;</td><td>&quot;AL&quot;</td><td>&quot;Barbour&quot;</td><td>1005.0</td><td>&quot;JOSEPH R BIDEN JR&quot;</td><td>&quot;DEMOCRAT&quot;</td><td>10518</td><td>3.682777</td><td>&quot;Barbour_County,_Alabama&quot;</td><td>&quot;&lt;Barbour_County,_Alabama&gt;&quot;</td></tr><tr><td>&quot;Alabama&quot;</td><td>&quot;AL&quot;</td><td>&quot;Barbour&quot;</td><td>1005.0</td><td>&quot;OTHER&quot;</td><td>&quot;OTHER&quot;</td><td>10518</td><td>1.908485</td><td>&quot;Barbour_County,_Alabama&quot;</td><td>&quot;&lt;Barbour_County,_Alabama&gt;&quot;</td></tr><tr><td>&quot;Alabama&quot;</td><td>&quot;AL&quot;</td><td>&quot;Barbour&quot;</td><td>1005.0</td><td>&quot;DONALD J TRUMP&quot;</td><td>&quot;REPUBLICAN&quot;</td><td>10518</td><td>3.749968</td><td>&quot;Barbour_County,_Alabama&quot;</td><td>&quot;&lt;Barbour_County,_Alabama&gt;&quot;</td></tr><tr><td>&quot;Alabama&quot;</td><td>&quot;AL&quot;</td><td>&quot;Bibb&quot;</td><td>1007.0</td><td>&quot;JOSEPH R BIDEN JR&quot;</td><td>&quot;DEMOCRAT&quot;</td><td>9595</td><td>3.298198</td><td>&quot;Bibb_County,_Alabama&quot;</td><td>&quot;&lt;Bibb_County,_Alabama&gt;&quot;</td></tr><tr><td>&quot;Alabama&quot;</td><td>&quot;AL&quot;</td><td>&quot;Bibb&quot;</td><td>1007.0</td><td>&quot;OTHER&quot;</td><td>&quot;OTHER&quot;</td><td>9595</td><td>1.929419</td><td>&quot;Bibb_County,_Alabama&quot;</td><td>&quot;&lt;Bibb_County,_Alabama&gt;&quot;</td></tr><tr><td>&quot;Alabama&quot;</td><td>&quot;AL&quot;</td><td>&quot;Bibb&quot;</td><td>1007.0</td><td>&quot;DONALD J TRUMP&quot;</td><td>&quot;REPUBLICAN&quot;</td><td>9595</td><td>3.876564</td><td>&quot;Bibb_County,_Alabama&quot;</td><td>&quot;&lt;Bibb_County,_Alabama&gt;&quot;</td></tr><tr><td>&hellip;</td><td>&hellip;</td><td>&hellip;</td><td>&hellip;</td><td>&hellip;</td><td>&hellip;</td><td>&hellip;</td><td>&hellip;</td><td>&hellip;</td><td>&hellip;</td></tr><tr><td>&quot;Wyoming&quot;</td><td>&quot;WY&quot;</td><td>&quot;Uinta&quot;</td><td>56041.0</td><td>&quot;JOSEPH R BIDEN JR&quot;</td><td>&quot;DEMOCRAT&quot;</td><td>9459</td><td>3.201943</td><td>&quot;Uinta_County,_Wyoming&quot;</td><td>&quot;&lt;Uinta_County,_Wyoming&gt;&quot;</td></tr><tr><td>&quot;Wyoming&quot;</td><td>&quot;WY&quot;</td><td>&quot;Uinta&quot;</td><td>56041.0</td><td>&quot;JO JORGENSEN&quot;</td><td>&quot;LIBERTARIAN&quot;</td><td>9459</td><td>2.238046</td><td>&quot;Uinta_County,_Wyoming&quot;</td><td>&quot;&lt;Uinta_County,_Wyoming&gt;&quot;</td></tr><tr><td>&quot;Wyoming&quot;</td><td>&quot;WY&quot;</td><td>&quot;Uinta&quot;</td><td>56041.0</td><td>&quot;OTHER&quot;</td><td>&quot;OTHER&quot;</td><td>9459</td><td>2.303196</td><td>&quot;Uinta_County,_Wyoming&quot;</td><td>&quot;&lt;Uinta_County,_Wyoming&gt;&quot;</td></tr><tr><td>&quot;Wyoming&quot;</td><td>&quot;WY&quot;</td><td>&quot;Uinta&quot;</td><td>56041.0</td><td>&quot;DONALD J TRUMP&quot;</td><td>&quot;REPUBLICAN&quot;</td><td>9459</td><td>3.874888</td><td>&quot;Uinta_County,_Wyoming&quot;</td><td>&quot;&lt;Uinta_County,_Wyoming&gt;&quot;</td></tr><tr><td>&quot;Wyoming&quot;</td><td>&quot;WY&quot;</td><td>&quot;Washakie&quot;</td><td>56043.0</td><td>&quot;JOSEPH R BIDEN JR&quot;</td><td>&quot;DEMOCRAT&quot;</td><td>4032</td><td>2.814248</td><td>&quot;Washakie_County,_Wyoming&quot;</td><td>&quot;&lt;Washakie_County,_Wyoming&gt;&quot;</td></tr><tr><td>&quot;Wyoming&quot;</td><td>&quot;WY&quot;</td><td>&quot;Washakie&quot;</td><td>56043.0</td><td>&quot;JO JORGENSEN&quot;</td><td>&quot;LIBERTARIAN&quot;</td><td>4032</td><td>1.819544</td><td>&quot;Washakie_County,_Wyoming&quot;</td><td>&quot;&lt;Washakie_County,_Wyoming&gt;&quot;</td></tr><tr><td>&quot;Wyoming&quot;</td><td>&quot;WY&quot;</td><td>&quot;Washakie&quot;</td><td>56043.0</td><td>&quot;OTHER&quot;</td><td>&quot;OTHER&quot;</td><td>4032</td><td>1.857332</td><td>&quot;Washakie_County,_Wyoming&quot;</td><td>&quot;&lt;Washakie_County,_Wyoming&gt;&quot;</td></tr><tr><td>&quot;Wyoming&quot;</td><td>&quot;WY&quot;</td><td>&quot;Washakie&quot;</td><td>56043.0</td><td>&quot;DONALD J TRUMP&quot;</td><td>&quot;REPUBLICAN&quot;</td><td>4032</td><td>3.511349</td><td>&quot;Washakie_County,_Wyoming&quot;</td><td>&quot;&lt;Washakie_County,_Wyoming&gt;&quot;</td></tr><tr><td>&quot;Wyoming&quot;</td><td>&quot;WY&quot;</td><td>&quot;Weston&quot;</td><td>56045.0</td><td>&quot;JOSEPH R BIDEN JR&quot;</td><td>&quot;DEMOCRAT&quot;</td><td>3560</td><td>2.557507</td><td>&quot;Weston_County,_Wyoming&quot;</td><td>&quot;&lt;Weston_County,_Wyoming&gt;&quot;</td></tr><tr><td>&quot;Wyoming&quot;</td><td>&quot;WY&quot;</td><td>&quot;Weston&quot;</td><td>56045.0</td><td>&quot;JO JORGENSEN&quot;</td><td>&quot;LIBERTARIAN&quot;</td><td>3560</td><td>1.672098</td><td>&quot;Weston_County,_Wyoming&quot;</td><td>&quot;&lt;Weston_County,_Wyoming&gt;&quot;</td></tr><tr><td>&quot;Wyoming&quot;</td><td>&quot;WY&quot;</td><td>&quot;Weston&quot;</td><td>56045.0</td><td>&quot;OTHER&quot;</td><td>&quot;OTHER&quot;</td><td>3560</td><td>1.681241</td><td>&quot;Weston_County,_Wyoming&quot;</td><td>&quot;&lt;Weston_County,_Wyoming&gt;&quot;</td></tr><tr><td>&quot;Wyoming&quot;</td><td>&quot;WY&quot;</td><td>&quot;Weston&quot;</td><td>56045.0</td><td>&quot;DONALD J TRUMP&quot;</td><td>&quot;REPUBLICAN&quot;</td><td>3560</td><td>3.492481</td><td>&quot;Weston_County,_Wyoming&quot;</td><td>&quot;&lt;Weston_County,_Wyoming&gt;&quot;</td></tr></tbody></table></div>"
      ],
      "text/plain": [
       "shape: (22_093, 10)\n",
       "┌─────────┬──────────┬────────────┬────────────┬───┬────────────┬──────────┬───────────┬───────────┐\n",
       "│ state   ┆ state_po ┆ county_nam ┆ county_fip ┆ … ┆ totalvotes ┆ target   ┆ yago3_col ┆ col_to_em │\n",
       "│ ---     ┆ ---      ┆ e          ┆ s          ┆   ┆ ---        ┆ ---      ┆ _to_embed ┆ bed       │\n",
       "│ str     ┆ str      ┆ ---        ┆ ---        ┆   ┆ i64        ┆ f64      ┆ ---       ┆ ---       │\n",
       "│         ┆          ┆ str        ┆ f64        ┆   ┆            ┆          ┆ str       ┆ str       │\n",
       "╞═════════╪══════════╪════════════╪════════════╪═══╪════════════╪══════════╪═══════════╪═══════════╡\n",
       "│ Alabama ┆ AL       ┆ Autauga    ┆ 1001.0     ┆ … ┆ 27770      ┆ 3.875293 ┆ Autauga_C ┆ <Autauga_ │\n",
       "│         ┆          ┆            ┆            ┆   ┆            ┆          ┆ ounty,_Al ┆ County,_A │\n",
       "│         ┆          ┆            ┆            ┆   ┆            ┆          ┆ abama     ┆ labama>   │\n",
       "│ Alabama ┆ AL       ┆ Autauga    ┆ 1001.0     ┆ … ┆ 27770      ┆ 2.633468 ┆ Autauga_C ┆ <Autauga_ │\n",
       "│         ┆          ┆            ┆            ┆   ┆            ┆          ┆ ounty,_Al ┆ County,_A │\n",
       "│         ┆          ┆            ┆            ┆   ┆            ┆          ┆ abama     ┆ labama>   │\n",
       "│ Alabama ┆ AL       ┆ Autauga    ┆ 1001.0     ┆ … ┆ 27770      ┆ 4.29752  ┆ Autauga_C ┆ <Autauga_ │\n",
       "│         ┆          ┆            ┆            ┆   ┆            ┆          ┆ ounty,_Al ┆ County,_A │\n",
       "│         ┆          ┆            ┆            ┆   ┆            ┆          ┆ abama     ┆ labama>   │\n",
       "│ Alabama ┆ AL       ┆ Baldwin    ┆ 1003.0     ┆ … ┆ 109679     ┆ 4.390564 ┆ Baldwin_C ┆ <Baldwin_ │\n",
       "│         ┆          ┆            ┆            ┆   ┆            ┆          ┆ ounty,_Al ┆ County,_A │\n",
       "│         ┆          ┆            ┆            ┆   ┆            ┆          ┆ abama     ┆ labama>   │\n",
       "│ …       ┆ …        ┆ …          ┆ …          ┆ … ┆ …          ┆ …        ┆ …         ┆ …         │\n",
       "│ Wyoming ┆ WY       ┆ Weston     ┆ 56045.0    ┆ … ┆ 3560       ┆ 2.557507 ┆ Weston_Co ┆ <Weston_C │\n",
       "│         ┆          ┆            ┆            ┆   ┆            ┆          ┆ unty,_Wyo ┆ ounty,_Wy │\n",
       "│         ┆          ┆            ┆            ┆   ┆            ┆          ┆ ming      ┆ oming>    │\n",
       "│ Wyoming ┆ WY       ┆ Weston     ┆ 56045.0    ┆ … ┆ 3560       ┆ 1.672098 ┆ Weston_Co ┆ <Weston_C │\n",
       "│         ┆          ┆            ┆            ┆   ┆            ┆          ┆ unty,_Wyo ┆ ounty,_Wy │\n",
       "│         ┆          ┆            ┆            ┆   ┆            ┆          ┆ ming      ┆ oming>    │\n",
       "│ Wyoming ┆ WY       ┆ Weston     ┆ 56045.0    ┆ … ┆ 3560       ┆ 1.681241 ┆ Weston_Co ┆ <Weston_C │\n",
       "│         ┆          ┆            ┆            ┆   ┆            ┆          ┆ unty,_Wyo ┆ ounty,_Wy │\n",
       "│         ┆          ┆            ┆            ┆   ┆            ┆          ┆ ming      ┆ oming>    │\n",
       "│ Wyoming ┆ WY       ┆ Weston     ┆ 56045.0    ┆ … ┆ 3560       ┆ 3.492481 ┆ Weston_Co ┆ <Weston_C │\n",
       "│         ┆          ┆            ┆            ┆   ┆            ┆          ┆ unty,_Wyo ┆ ounty,_Wy │\n",
       "│         ┆          ┆            ┆            ┆   ┆            ┆          ┆ ming      ┆ oming>    │\n",
       "└─────────┴──────────┴────────────┴────────────┴───┴────────────┴──────────┴───────────┴───────────┘"
      ]
     },
     "execution_count": 10,
     "metadata": {},
     "output_type": "execute_result"
    }
   ],
   "source": [
    "df"
   ]
  },
  {
   "cell_type": "code",
   "execution_count": 54,
   "metadata": {},
   "outputs": [],
   "source": [
    "df.write_parquet(Path(data_folder, \"new_datasets\", \"us_elections-yadl.parquet\"))"
   ]
  },
  {
   "cell_type": "markdown",
   "metadata": {},
   "source": [
    "# Housing prices"
   ]
  },
  {
   "cell_type": "code",
   "execution_count": 20,
   "metadata": {},
   "outputs": [],
   "source": [
    "df = pl.read_parquet(Path(data_folder, \"housing_prices.parquet\"))"
   ]
  },
  {
   "cell_type": "code",
   "execution_count": 21,
   "metadata": {},
   "outputs": [],
   "source": [
    "df = df.drop([\"yago4_col_to_embed\"]).with_columns(\n",
    "    (\"<\" + pl.col(\"yago3_col_to_embed\") + \">\").alias(\"col_to_embed\")\n",
    ").drop(\"yago3_col_to_embed\").drop_nulls(\"target\")"
   ]
  },
  {
   "cell_type": "code",
   "execution_count": 22,
   "metadata": {},
   "outputs": [],
   "source": [
    "df.write_parquet(Path(data_folder, \"housing_prices-yadl.parquet\"))"
   ]
  },
  {
   "cell_type": "code",
   "execution_count": null,
   "metadata": {},
   "outputs": [],
   "source": []
  }
 ],
 "metadata": {
  "kernelspec": {
   "display_name": "bench-repro",
   "language": "python",
   "name": "python3"
  },
  "language_info": {
   "codemirror_mode": {
    "name": "ipython",
    "version": 3
   },
   "file_extension": ".py",
   "mimetype": "text/x-python",
   "name": "python",
   "nbconvert_exporter": "python",
   "pygments_lexer": "ipython3",
   "version": "3.10.0"
  }
 },
 "nbformat": 4,
 "nbformat_minor": 2
}
