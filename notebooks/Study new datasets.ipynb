{
 "cells": [
  {
   "cell_type": "code",
   "execution_count": 1,
   "metadata": {},
   "outputs": [
    {
     "name": "stdout",
     "output_type": "stream",
     "text": [
      "/home/soda/rcappuzz/work/benchmark-join-suggestions\n"
     ]
    }
   ],
   "source": [
    "cd .."
   ]
  },
  {
   "cell_type": "code",
   "execution_count": 2,
   "metadata": {},
   "outputs": [],
   "source": [
    "%load_ext autoreload"
   ]
  },
  {
   "cell_type": "code",
   "execution_count": 3,
   "metadata": {},
   "outputs": [],
   "source": [
    "%autoreload 2\n",
    "import polars as pl\n",
    "import seaborn as sns\n",
    "import matplotlib.pyplot as plt\n",
    "from pathlib import Path\n",
    "import numpy as np\n",
    "import matplotlib.colors as mcolors\n",
    "import tarfile\n",
    "import json\n",
    "import pandas as pd "
   ]
  },
  {
   "cell_type": "code",
   "execution_count": 4,
   "metadata": {},
   "outputs": [
    {
     "data": {
      "text/plain": [
       "polars.config.Config"
      ]
     },
     "execution_count": 4,
     "metadata": {},
     "output_type": "execute_result"
    }
   ],
   "source": [
    "cfg = pl.Config()\n",
    "cfg.set_fmt_str_lengths(50)"
   ]
  },
  {
   "cell_type": "code",
   "execution_count": 5,
   "metadata": {},
   "outputs": [],
   "source": [
    "data_folder = Path(\"data/source_tables/new_datasets\")"
   ]
  },
  {
   "cell_type": "markdown",
   "metadata": {},
   "source": [
    "# Elections"
   ]
  },
  {
   "cell_type": "code",
   "execution_count": 49,
   "metadata": {},
   "outputs": [],
   "source": [
    "# df_old = pl.read_parquet(Path(data_folder, \"us-presidential-results-yadl.parquet\"))"
   ]
  },
  {
   "cell_type": "code",
   "execution_count": 8,
   "metadata": {},
   "outputs": [],
   "source": [
    "df = pl.read_parquet(Path(data_folder, \"us_elections.parquet\"))"
   ]
  },
  {
   "cell_type": "code",
   "execution_count": 9,
   "metadata": {},
   "outputs": [],
   "source": [
    "df = (\n",
    "    df.select(\n",
    "        [\n",
    "            \"year\",\n",
    "            \"state\",\n",
    "            \"state_po\",\n",
    "            \"county_name\",\n",
    "            \"county_fips\",\n",
    "            \"candidate\",\n",
    "            \"party\",\n",
    "            \"totalvotes\",\n",
    "            \"target\",\n",
    "            \"yago3_col_to_embed\",\n",
    "        ]\n",
    "    )\n",
    "    .filter(pl.col(\"year\") == 2020)\n",
    "    .drop(\"year\")\n",
    "    .with_columns((\"<\" + pl.col(\"yago3_col_to_embed\") + \">\").alias(\"col_to_embed\"))\n",
    ")"
   ]
  },
  {
   "cell_type": "code",
   "execution_count": 10,
   "metadata": {},
   "outputs": [
    {
     "data": {
      "text/html": [
       "<div><style>\n",
       ".dataframe > thead > tr > th,\n",
       ".dataframe > tbody > tr > td {\n",
       "  text-align: right;\n",
       "  white-space: pre-wrap;\n",
       "}\n",
       "</style>\n",
       "<small>shape: (22_093, 10)</small><table border=\"1\" class=\"dataframe\"><thead><tr><th>state</th><th>state_po</th><th>county_name</th><th>county_fips</th><th>candidate</th><th>party</th><th>totalvotes</th><th>target</th><th>yago3_col_to_embed</th><th>col_to_embed</th></tr><tr><td>str</td><td>str</td><td>str</td><td>f64</td><td>str</td><td>str</td><td>i64</td><td>f64</td><td>str</td><td>str</td></tr></thead><tbody><tr><td>&quot;Alabama&quot;</td><td>&quot;AL&quot;</td><td>&quot;Autauga&quot;</td><td>1001.0</td><td>&quot;JOSEPH R BIDEN JR&quot;</td><td>&quot;DEMOCRAT&quot;</td><td>27770</td><td>3.875293</td><td>&quot;Autauga_County,_Alabama&quot;</td><td>&quot;&lt;Autauga_County,_Alabama&gt;&quot;</td></tr><tr><td>&quot;Alabama&quot;</td><td>&quot;AL&quot;</td><td>&quot;Autauga&quot;</td><td>1001.0</td><td>&quot;OTHER&quot;</td><td>&quot;OTHER&quot;</td><td>27770</td><td>2.633468</td><td>&quot;Autauga_County,_Alabama&quot;</td><td>&quot;&lt;Autauga_County,_Alabama&gt;&quot;</td></tr><tr><td>&quot;Alabama&quot;</td><td>&quot;AL&quot;</td><td>&quot;Autauga&quot;</td><td>1001.0</td><td>&quot;DONALD J TRUMP&quot;</td><td>&quot;REPUBLICAN&quot;</td><td>27770</td><td>4.29752</td><td>&quot;Autauga_County,_Alabama&quot;</td><td>&quot;&lt;Autauga_County,_Alabama&gt;&quot;</td></tr><tr><td>&quot;Alabama&quot;</td><td>&quot;AL&quot;</td><td>&quot;Baldwin&quot;</td><td>1003.0</td><td>&quot;JOSEPH R BIDEN JR&quot;</td><td>&quot;DEMOCRAT&quot;</td><td>109679</td><td>4.390564</td><td>&quot;Baldwin_County,_Alabama&quot;</td><td>&quot;&lt;Baldwin_County,_Alabama&gt;&quot;</td></tr><tr><td>&quot;Alabama&quot;</td><td>&quot;AL&quot;</td><td>&quot;Baldwin&quot;</td><td>1003.0</td><td>&quot;OTHER&quot;</td><td>&quot;OTHER&quot;</td><td>109679</td><td>3.192567</td><td>&quot;Baldwin_County,_Alabama&quot;</td><td>&quot;&lt;Baldwin_County,_Alabama&gt;&quot;</td></tr><tr><td>&quot;Alabama&quot;</td><td>&quot;AL&quot;</td><td>&quot;Baldwin&quot;</td><td>1003.0</td><td>&quot;DONALD J TRUMP&quot;</td><td>&quot;REPUBLICAN&quot;</td><td>109679</td><td>4.92192</td><td>&quot;Baldwin_County,_Alabama&quot;</td><td>&quot;&lt;Baldwin_County,_Alabama&gt;&quot;</td></tr><tr><td>&quot;Alabama&quot;</td><td>&quot;AL&quot;</td><td>&quot;Barbour&quot;</td><td>1005.0</td><td>&quot;JOSEPH R BIDEN JR&quot;</td><td>&quot;DEMOCRAT&quot;</td><td>10518</td><td>3.682777</td><td>&quot;Barbour_County,_Alabama&quot;</td><td>&quot;&lt;Barbour_County,_Alabama&gt;&quot;</td></tr><tr><td>&quot;Alabama&quot;</td><td>&quot;AL&quot;</td><td>&quot;Barbour&quot;</td><td>1005.0</td><td>&quot;OTHER&quot;</td><td>&quot;OTHER&quot;</td><td>10518</td><td>1.908485</td><td>&quot;Barbour_County,_Alabama&quot;</td><td>&quot;&lt;Barbour_County,_Alabama&gt;&quot;</td></tr><tr><td>&quot;Alabama&quot;</td><td>&quot;AL&quot;</td><td>&quot;Barbour&quot;</td><td>1005.0</td><td>&quot;DONALD J TRUMP&quot;</td><td>&quot;REPUBLICAN&quot;</td><td>10518</td><td>3.749968</td><td>&quot;Barbour_County,_Alabama&quot;</td><td>&quot;&lt;Barbour_County,_Alabama&gt;&quot;</td></tr><tr><td>&quot;Alabama&quot;</td><td>&quot;AL&quot;</td><td>&quot;Bibb&quot;</td><td>1007.0</td><td>&quot;JOSEPH R BIDEN JR&quot;</td><td>&quot;DEMOCRAT&quot;</td><td>9595</td><td>3.298198</td><td>&quot;Bibb_County,_Alabama&quot;</td><td>&quot;&lt;Bibb_County,_Alabama&gt;&quot;</td></tr><tr><td>&quot;Alabama&quot;</td><td>&quot;AL&quot;</td><td>&quot;Bibb&quot;</td><td>1007.0</td><td>&quot;OTHER&quot;</td><td>&quot;OTHER&quot;</td><td>9595</td><td>1.929419</td><td>&quot;Bibb_County,_Alabama&quot;</td><td>&quot;&lt;Bibb_County,_Alabama&gt;&quot;</td></tr><tr><td>&quot;Alabama&quot;</td><td>&quot;AL&quot;</td><td>&quot;Bibb&quot;</td><td>1007.0</td><td>&quot;DONALD J TRUMP&quot;</td><td>&quot;REPUBLICAN&quot;</td><td>9595</td><td>3.876564</td><td>&quot;Bibb_County,_Alabama&quot;</td><td>&quot;&lt;Bibb_County,_Alabama&gt;&quot;</td></tr><tr><td>&hellip;</td><td>&hellip;</td><td>&hellip;</td><td>&hellip;</td><td>&hellip;</td><td>&hellip;</td><td>&hellip;</td><td>&hellip;</td><td>&hellip;</td><td>&hellip;</td></tr><tr><td>&quot;Wyoming&quot;</td><td>&quot;WY&quot;</td><td>&quot;Uinta&quot;</td><td>56041.0</td><td>&quot;JOSEPH R BIDEN JR&quot;</td><td>&quot;DEMOCRAT&quot;</td><td>9459</td><td>3.201943</td><td>&quot;Uinta_County,_Wyoming&quot;</td><td>&quot;&lt;Uinta_County,_Wyoming&gt;&quot;</td></tr><tr><td>&quot;Wyoming&quot;</td><td>&quot;WY&quot;</td><td>&quot;Uinta&quot;</td><td>56041.0</td><td>&quot;JO JORGENSEN&quot;</td><td>&quot;LIBERTARIAN&quot;</td><td>9459</td><td>2.238046</td><td>&quot;Uinta_County,_Wyoming&quot;</td><td>&quot;&lt;Uinta_County,_Wyoming&gt;&quot;</td></tr><tr><td>&quot;Wyoming&quot;</td><td>&quot;WY&quot;</td><td>&quot;Uinta&quot;</td><td>56041.0</td><td>&quot;OTHER&quot;</td><td>&quot;OTHER&quot;</td><td>9459</td><td>2.303196</td><td>&quot;Uinta_County,_Wyoming&quot;</td><td>&quot;&lt;Uinta_County,_Wyoming&gt;&quot;</td></tr><tr><td>&quot;Wyoming&quot;</td><td>&quot;WY&quot;</td><td>&quot;Uinta&quot;</td><td>56041.0</td><td>&quot;DONALD J TRUMP&quot;</td><td>&quot;REPUBLICAN&quot;</td><td>9459</td><td>3.874888</td><td>&quot;Uinta_County,_Wyoming&quot;</td><td>&quot;&lt;Uinta_County,_Wyoming&gt;&quot;</td></tr><tr><td>&quot;Wyoming&quot;</td><td>&quot;WY&quot;</td><td>&quot;Washakie&quot;</td><td>56043.0</td><td>&quot;JOSEPH R BIDEN JR&quot;</td><td>&quot;DEMOCRAT&quot;</td><td>4032</td><td>2.814248</td><td>&quot;Washakie_County,_Wyoming&quot;</td><td>&quot;&lt;Washakie_County,_Wyoming&gt;&quot;</td></tr><tr><td>&quot;Wyoming&quot;</td><td>&quot;WY&quot;</td><td>&quot;Washakie&quot;</td><td>56043.0</td><td>&quot;JO JORGENSEN&quot;</td><td>&quot;LIBERTARIAN&quot;</td><td>4032</td><td>1.819544</td><td>&quot;Washakie_County,_Wyoming&quot;</td><td>&quot;&lt;Washakie_County,_Wyoming&gt;&quot;</td></tr><tr><td>&quot;Wyoming&quot;</td><td>&quot;WY&quot;</td><td>&quot;Washakie&quot;</td><td>56043.0</td><td>&quot;OTHER&quot;</td><td>&quot;OTHER&quot;</td><td>4032</td><td>1.857332</td><td>&quot;Washakie_County,_Wyoming&quot;</td><td>&quot;&lt;Washakie_County,_Wyoming&gt;&quot;</td></tr><tr><td>&quot;Wyoming&quot;</td><td>&quot;WY&quot;</td><td>&quot;Washakie&quot;</td><td>56043.0</td><td>&quot;DONALD J TRUMP&quot;</td><td>&quot;REPUBLICAN&quot;</td><td>4032</td><td>3.511349</td><td>&quot;Washakie_County,_Wyoming&quot;</td><td>&quot;&lt;Washakie_County,_Wyoming&gt;&quot;</td></tr><tr><td>&quot;Wyoming&quot;</td><td>&quot;WY&quot;</td><td>&quot;Weston&quot;</td><td>56045.0</td><td>&quot;JOSEPH R BIDEN JR&quot;</td><td>&quot;DEMOCRAT&quot;</td><td>3560</td><td>2.557507</td><td>&quot;Weston_County,_Wyoming&quot;</td><td>&quot;&lt;Weston_County,_Wyoming&gt;&quot;</td></tr><tr><td>&quot;Wyoming&quot;</td><td>&quot;WY&quot;</td><td>&quot;Weston&quot;</td><td>56045.0</td><td>&quot;JO JORGENSEN&quot;</td><td>&quot;LIBERTARIAN&quot;</td><td>3560</td><td>1.672098</td><td>&quot;Weston_County,_Wyoming&quot;</td><td>&quot;&lt;Weston_County,_Wyoming&gt;&quot;</td></tr><tr><td>&quot;Wyoming&quot;</td><td>&quot;WY&quot;</td><td>&quot;Weston&quot;</td><td>56045.0</td><td>&quot;OTHER&quot;</td><td>&quot;OTHER&quot;</td><td>3560</td><td>1.681241</td><td>&quot;Weston_County,_Wyoming&quot;</td><td>&quot;&lt;Weston_County,_Wyoming&gt;&quot;</td></tr><tr><td>&quot;Wyoming&quot;</td><td>&quot;WY&quot;</td><td>&quot;Weston&quot;</td><td>56045.0</td><td>&quot;DONALD J TRUMP&quot;</td><td>&quot;REPUBLICAN&quot;</td><td>3560</td><td>3.492481</td><td>&quot;Weston_County,_Wyoming&quot;</td><td>&quot;&lt;Weston_County,_Wyoming&gt;&quot;</td></tr></tbody></table></div>"
      ],
      "text/plain": [
       "shape: (22_093, 10)\n",
       "┌─────────┬──────────┬────────────┬────────────┬───┬────────────┬──────────┬───────────┬───────────┐\n",
       "│ state   ┆ state_po ┆ county_nam ┆ county_fip ┆ … ┆ totalvotes ┆ target   ┆ yago3_col ┆ col_to_em │\n",
       "│ ---     ┆ ---      ┆ e          ┆ s          ┆   ┆ ---        ┆ ---      ┆ _to_embed ┆ bed       │\n",
       "│ str     ┆ str      ┆ ---        ┆ ---        ┆   ┆ i64        ┆ f64      ┆ ---       ┆ ---       │\n",
       "│         ┆          ┆ str        ┆ f64        ┆   ┆            ┆          ┆ str       ┆ str       │\n",
       "╞═════════╪══════════╪════════════╪════════════╪═══╪════════════╪══════════╪═══════════╪═══════════╡\n",
       "│ Alabama ┆ AL       ┆ Autauga    ┆ 1001.0     ┆ … ┆ 27770      ┆ 3.875293 ┆ Autauga_C ┆ <Autauga_ │\n",
       "│         ┆          ┆            ┆            ┆   ┆            ┆          ┆ ounty,_Al ┆ County,_A │\n",
       "│         ┆          ┆            ┆            ┆   ┆            ┆          ┆ abama     ┆ labama>   │\n",
       "│ Alabama ┆ AL       ┆ Autauga    ┆ 1001.0     ┆ … ┆ 27770      ┆ 2.633468 ┆ Autauga_C ┆ <Autauga_ │\n",
       "│         ┆          ┆            ┆            ┆   ┆            ┆          ┆ ounty,_Al ┆ County,_A │\n",
       "│         ┆          ┆            ┆            ┆   ┆            ┆          ┆ abama     ┆ labama>   │\n",
       "│ Alabama ┆ AL       ┆ Autauga    ┆ 1001.0     ┆ … ┆ 27770      ┆ 4.29752  ┆ Autauga_C ┆ <Autauga_ │\n",
       "│         ┆          ┆            ┆            ┆   ┆            ┆          ┆ ounty,_Al ┆ County,_A │\n",
       "│         ┆          ┆            ┆            ┆   ┆            ┆          ┆ abama     ┆ labama>   │\n",
       "│ Alabama ┆ AL       ┆ Baldwin    ┆ 1003.0     ┆ … ┆ 109679     ┆ 4.390564 ┆ Baldwin_C ┆ <Baldwin_ │\n",
       "│         ┆          ┆            ┆            ┆   ┆            ┆          ┆ ounty,_Al ┆ County,_A │\n",
       "│         ┆          ┆            ┆            ┆   ┆            ┆          ┆ abama     ┆ labama>   │\n",
       "│ …       ┆ …        ┆ …          ┆ …          ┆ … ┆ …          ┆ …        ┆ …         ┆ …         │\n",
       "│ Wyoming ┆ WY       ┆ Weston     ┆ 56045.0    ┆ … ┆ 3560       ┆ 2.557507 ┆ Weston_Co ┆ <Weston_C │\n",
       "│         ┆          ┆            ┆            ┆   ┆            ┆          ┆ unty,_Wyo ┆ ounty,_Wy │\n",
       "│         ┆          ┆            ┆            ┆   ┆            ┆          ┆ ming      ┆ oming>    │\n",
       "│ Wyoming ┆ WY       ┆ Weston     ┆ 56045.0    ┆ … ┆ 3560       ┆ 1.672098 ┆ Weston_Co ┆ <Weston_C │\n",
       "│         ┆          ┆            ┆            ┆   ┆            ┆          ┆ unty,_Wyo ┆ ounty,_Wy │\n",
       "│         ┆          ┆            ┆            ┆   ┆            ┆          ┆ ming      ┆ oming>    │\n",
       "│ Wyoming ┆ WY       ┆ Weston     ┆ 56045.0    ┆ … ┆ 3560       ┆ 1.681241 ┆ Weston_Co ┆ <Weston_C │\n",
       "│         ┆          ┆            ┆            ┆   ┆            ┆          ┆ unty,_Wyo ┆ ounty,_Wy │\n",
       "│         ┆          ┆            ┆            ┆   ┆            ┆          ┆ ming      ┆ oming>    │\n",
       "│ Wyoming ┆ WY       ┆ Weston     ┆ 56045.0    ┆ … ┆ 3560       ┆ 3.492481 ┆ Weston_Co ┆ <Weston_C │\n",
       "│         ┆          ┆            ┆            ┆   ┆            ┆          ┆ unty,_Wyo ┆ ounty,_Wy │\n",
       "│         ┆          ┆            ┆            ┆   ┆            ┆          ┆ ming      ┆ oming>    │\n",
       "└─────────┴──────────┴────────────┴────────────┴───┴────────────┴──────────┴───────────┴───────────┘"
      ]
     },
     "execution_count": 10,
     "metadata": {},
     "output_type": "execute_result"
    }
   ],
   "source": [
    "df"
   ]
  },
  {
   "cell_type": "code",
   "execution_count": 54,
   "metadata": {},
   "outputs": [],
   "source": [
    "df.write_parquet(Path(data_folder, \"new_datasets\", \"us_elections-yadl.parquet\"))"
   ]
  },
  {
   "cell_type": "markdown",
   "metadata": {},
   "source": [
    "# Housing prices"
   ]
  },
  {
   "cell_type": "code",
   "execution_count": 6,
   "metadata": {},
   "outputs": [],
   "source": [
    "df = pl.read_parquet(Path(data_folder, \"housing_prices.parquet\"))"
   ]
  },
  {
   "cell_type": "code",
   "execution_count": 7,
   "metadata": {},
   "outputs": [
    {
     "data": {
      "text/html": [
       "<div><style>\n",
       ".dataframe > thead > tr > th,\n",
       ".dataframe > tbody > tr > td {\n",
       "  text-align: right;\n",
       "  white-space: pre-wrap;\n",
       "}\n",
       "</style>\n",
       "<small>shape: (22_251, 294)</small><table border=\"1\" class=\"dataframe\"><thead><tr><th>RegionID</th><th>SizeRank</th><th>City</th><th>RegionType</th><th>StateName</th><th>Code</th><th>Metro</th><th>County</th><th>2000-01-31</th><th>2000-02-29</th><th>2000-03-31</th><th>2000-04-30</th><th>2000-05-31</th><th>2000-06-30</th><th>2000-07-31</th><th>2000-08-31</th><th>2000-09-30</th><th>2000-10-31</th><th>2000-11-30</th><th>2000-12-31</th><th>2001-01-31</th><th>2001-02-28</th><th>2001-03-31</th><th>2001-04-30</th><th>2001-05-31</th><th>2001-06-30</th><th>2001-07-31</th><th>2001-08-31</th><th>2001-09-30</th><th>2001-10-31</th><th>2001-11-30</th><th>2001-12-31</th><th>2002-01-31</th><th>2002-02-28</th><th>2002-03-31</th><th>2002-04-30</th><th>2002-05-31</th><th>&hellip;</th><th>2020-10-31</th><th>2020-11-30</th><th>2020-12-31</th><th>2021-01-31</th><th>2021-02-28</th><th>2021-03-31</th><th>2021-04-30</th><th>2021-05-31</th><th>2021-06-30</th><th>2021-07-31</th><th>2021-08-31</th><th>2021-09-30</th><th>2021-10-31</th><th>2021-11-30</th><th>2021-12-31</th><th>2022-01-31</th><th>2022-02-28</th><th>2022-03-31</th><th>2022-04-30</th><th>2022-05-31</th><th>2022-06-30</th><th>2022-07-31</th><th>2022-08-31</th><th>2022-09-30</th><th>2022-10-31</th><th>2022-11-30</th><th>2022-12-31</th><th>2023-01-31</th><th>2023-02-28</th><th>2023-03-31</th><th>2023-04-30</th><th>2023-05-31</th><th>2023-06-30</th><th>State</th><th>target</th><th>yago4_col_to_embed</th><th>yago3_col_to_embed</th></tr><tr><td>i64</td><td>i64</td><td>str</td><td>str</td><td>str</td><td>str</td><td>str</td><td>str</td><td>f64</td><td>f64</td><td>f64</td><td>f64</td><td>f64</td><td>f64</td><td>f64</td><td>f64</td><td>f64</td><td>f64</td><td>f64</td><td>f64</td><td>f64</td><td>f64</td><td>f64</td><td>f64</td><td>f64</td><td>f64</td><td>f64</td><td>f64</td><td>f64</td><td>f64</td><td>f64</td><td>f64</td><td>f64</td><td>f64</td><td>f64</td><td>f64</td><td>f64</td><td>&hellip;</td><td>f64</td><td>f64</td><td>f64</td><td>f64</td><td>f64</td><td>f64</td><td>f64</td><td>f64</td><td>f64</td><td>f64</td><td>f64</td><td>f64</td><td>f64</td><td>f64</td><td>f64</td><td>f64</td><td>f64</td><td>f64</td><td>f64</td><td>f64</td><td>f64</td><td>f64</td><td>f64</td><td>f64</td><td>f64</td><td>f64</td><td>f64</td><td>f64</td><td>f64</td><td>f64</td><td>f64</td><td>f64</td><td>f64</td><td>str</td><td>f64</td><td>str</td><td>str</td></tr></thead><tbody><tr><td>6181</td><td>0</td><td>&quot;New York&quot;</td><td>&quot;city&quot;</td><td>&quot;NY&quot;</td><td>&quot;NY&quot;</td><td>&quot;New York-Newark-Jersey City, NY-NJ-PA&quot;</td><td>&quot;Queens County&quot;</td><td>140391.981926</td><td>141145.122836</td><td>141909.67758</td><td>143388.189791</td><td>144872.164609</td><td>146469.87214</td><td>148144.098266</td><td>149704.664678</td><td>151148.869135</td><td>152739.04723</td><td>154643.907487</td><td>156531.848921</td><td>158316.690141</td><td>159941.657817</td><td>161687.287019</td><td>163422.924539</td><td>165041.858512</td><td>166627.026107</td><td>168113.849907</td><td>169668.944212</td><td>170977.723241</td><td>172352.294866</td><td>173889.334503</td><td>175686.387047</td><td>177604.164009</td><td>179029.633364</td><td>179219.316478</td><td>178828.284045</td><td>178580.477468</td><td>&hellip;</td><td>589183.048889</td><td>592344.982979</td><td>594809.752024</td><td>597055.865899</td><td>600692.837549</td><td>605342.686513</td><td>609518.818425</td><td>614221.085116</td><td>618148.900572</td><td>623089.137709</td><td>627179.888568</td><td>631721.52339</td><td>637528.192411</td><td>643672.727956</td><td>648261.555433</td><td>651835.096255</td><td>656257.146492</td><td>664483.678623</td><td>673031.626482</td><td>681557.767933</td><td>689332.55043</td><td>694143.708114</td><td>695379.007637</td><td>692060.527966</td><td>689493.035276</td><td>686375.165068</td><td>681522.142892</td><td>678338.509077</td><td>678282.653622</td><td>682910.901887</td><td>690942.081845</td><td>702490.65634</td><td>716097.351816</td><td>&quot;New York&quot;</td><td>5.854972</td><td>&quot;New_York_City&quot;</td><td>&quot;New_York_City&quot;</td></tr><tr><td>17222</td><td>43</td><td>&quot;Buffalo&quot;</td><td>&quot;city&quot;</td><td>&quot;NY&quot;</td><td>&quot;NY&quot;</td><td>&quot;Buffalo-Cheektowaga, NY&quot;</td><td>&quot;Erie County&quot;</td><td>72737.292666</td><td>72767.850766</td><td>72901.958495</td><td>73480.204729</td><td>74277.007318</td><td>75004.858623</td><td>74439.856349</td><td>73382.937881</td><td>71975.417539</td><td>71629.98436</td><td>71633.717947</td><td>72108.914567</td><td>72423.332301</td><td>72614.031134</td><td>72579.059055</td><td>72370.101366</td><td>72042.090761</td><td>71842.477242</td><td>72080.318757</td><td>72698.207465</td><td>73404.674494</td><td>73766.143117</td><td>74008.781461</td><td>74033.095182</td><td>73741.036569</td><td>73485.920511</td><td>73290.73552</td><td>73747.059453</td><td>74164.265564</td><td>&hellip;</td><td>165761.260034</td><td>170039.703451</td><td>173717.795402</td><td>176842.858703</td><td>179736.987263</td><td>182563.269804</td><td>185419.117975</td><td>188409.776233</td><td>191805.999237</td><td>194273.813372</td><td>195087.880365</td><td>193996.551063</td><td>192772.477975</td><td>192262.559749</td><td>192447.976136</td><td>194407.850241</td><td>197787.075359</td><td>202546.210009</td><td>206903.661646</td><td>210158.798971</td><td>212809.03581</td><td>214354.867791</td><td>214752.957926</td><td>213767.623298</td><td>212485.782959</td><td>211536.5861</td><td>211136.509606</td><td>211380.017278</td><td>211635.232191</td><td>212152.59171</td><td>212765.172396</td><td>214048.648417</td><td>215795.082205</td><td>&quot;New York&quot;</td><td>5.334042</td><td>&quot;Buffalo,_New_York&quot;</td><td>&quot;Buffalo,_New_York&quot;</td></tr><tr><td>832063</td><td>45</td><td>&quot;Rochester&quot;</td><td>&quot;city&quot;</td><td>&quot;NY&quot;</td><td>&quot;NY&quot;</td><td>&quot;Rochester, NY&quot;</td><td>&quot;Monroe County&quot;</td><td>null</td><td>null</td><td>null</td><td>null</td><td>null</td><td>null</td><td>null</td><td>null</td><td>null</td><td>null</td><td>null</td><td>null</td><td>null</td><td>null</td><td>null</td><td>null</td><td>null</td><td>null</td><td>null</td><td>null</td><td>null</td><td>null</td><td>null</td><td>null</td><td>null</td><td>null</td><td>null</td><td>null</td><td>null</td><td>&hellip;</td><td>null</td><td>null</td><td>null</td><td>null</td><td>null</td><td>null</td><td>null</td><td>null</td><td>null</td><td>null</td><td>null</td><td>null</td><td>null</td><td>null</td><td>null</td><td>null</td><td>null</td><td>null</td><td>null</td><td>null</td><td>null</td><td>null</td><td>null</td><td>null</td><td>null</td><td>null</td><td>null</td><td>null</td><td>null</td><td>null</td><td>null</td><td>null</td><td>209942.584786</td><td>&quot;New York&quot;</td><td>5.322101</td><td>&quot;Rochester,_New_York&quot;</td><td>&quot;Rochester,_New_York&quot;</td></tr><tr><td>34937</td><td>145</td><td>&quot;Yonkers&quot;</td><td>&quot;city&quot;</td><td>&quot;NY&quot;</td><td>&quot;NY&quot;</td><td>&quot;New York-Newark-Jersey City, NY-NJ-PA&quot;</td><td>&quot;Westchester County&quot;</td><td>216579.259215</td><td>217515.882317</td><td>218528.956652</td><td>220451.120754</td><td>222397.678149</td><td>224517.123736</td><td>226843.841958</td><td>228963.915982</td><td>230603.555183</td><td>232340.917188</td><td>234473.293933</td><td>237161.470034</td><td>239714.410751</td><td>242405.086585</td><td>244784.001217</td><td>247476.695959</td><td>250367.9364</td><td>253564.56679</td><td>256054.969412</td><td>258483.993641</td><td>261186.100078</td><td>264424.608589</td><td>267165.171885</td><td>269828.209347</td><td>272673.863667</td><td>275665.398134</td><td>278189.984572</td><td>280329.949646</td><td>282332.265695</td><td>&hellip;</td><td>511099.61971</td><td>517748.910801</td><td>525864.125044</td><td>533216.098848</td><td>539828.533666</td><td>546253.22535</td><td>551939.934806</td><td>557272.652006</td><td>561453.498238</td><td>565363.808583</td><td>567252.048343</td><td>568174.694191</td><td>569090.632617</td><td>571733.555128</td><td>574825.838248</td><td>577641.846561</td><td>579673.227807</td><td>582501.467831</td><td>586212.446368</td><td>590984.557616</td><td>596763.902743</td><td>601850.060342</td><td>603740.308469</td><td>601440.03851</td><td>597541.823042</td><td>594399.917853</td><td>591733.525493</td><td>591206.703513</td><td>592091.020356</td><td>594844.191351</td><td>597366.193866</td><td>599610.536119</td><td>602395.984982</td><td>&quot;New York&quot;</td><td>5.779882</td><td>&quot;Yonkers,_New_York&quot;</td><td>&quot;Yonkers,_New_York&quot;</td></tr><tr><td>7353</td><td>149</td><td>&quot;Syracuse&quot;</td><td>&quot;city&quot;</td><td>&quot;NY&quot;</td><td>&quot;NY&quot;</td><td>&quot;Syracuse, NY&quot;</td><td>&quot;Onondaga County&quot;</td><td>62478.987289</td><td>62677.672306</td><td>62854.194265</td><td>63024.326508</td><td>63202.269954</td><td>63549.766708</td><td>63771.376967</td><td>63825.747847</td><td>63642.854385</td><td>63668.584668</td><td>63641.995396</td><td>63552.242536</td><td>63445.300228</td><td>63404.176357</td><td>63299.126098</td><td>63269.770959</td><td>63283.982611</td><td>63401.907169</td><td>63510.028527</td><td>63586.051734</td><td>63725.787995</td><td>63851.270022</td><td>64058.02087</td><td>64355.546978</td><td>64618.913987</td><td>64638.004447</td><td>64688.704115</td><td>64896.912823</td><td>65327.403314</td><td>&hellip;</td><td>134173.53256</td><td>136923.475126</td><td>139333.024716</td><td>141229.775829</td><td>143093.516405</td><td>145032.55511</td><td>147033.537599</td><td>148802.434396</td><td>150741.777738</td><td>152265.25986</td><td>152999.563612</td><td>152388.232008</td><td>151565.189049</td><td>151036.407209</td><td>150964.382835</td><td>151544.191732</td><td>152813.573971</td><td>154720.900896</td><td>156745.3463</td><td>158688.782188</td><td>160652.01765</td><td>162472.212889</td><td>163801.957175</td><td>164571.917137</td><td>164937.991586</td><td>165037.354269</td><td>165195.103493</td><td>165802.238602</td><td>166575.916094</td><td>167389.50724</td><td>168066.26851</td><td>169303.679918</td><td>171253.952625</td><td>&quot;New York&quot;</td><td>5.233641</td><td>&quot;Syracuse,_New_York&quot;</td><td>&quot;Syracuse,_New_York&quot;</td></tr><tr><td>40779</td><td>229</td><td>&quot;Schenectady&quot;</td><td>&quot;city&quot;</td><td>&quot;NY&quot;</td><td>&quot;NY&quot;</td><td>&quot;Albany-Schenectady-Troy, NY&quot;</td><td>&quot;Schenectady County&quot;</td><td>97916.637815</td><td>98080.271912</td><td>98223.634649</td><td>98559.169785</td><td>98964.195059</td><td>99432.486846</td><td>100035.643024</td><td>100515.628974</td><td>100688.842257</td><td>100745.085347</td><td>101041.127073</td><td>101801.362002</td><td>102657.658641</td><td>103431.715192</td><td>103834.018419</td><td>104107.513293</td><td>104245.574827</td><td>104708.36921</td><td>104578.255042</td><td>104353.120082</td><td>104116.735023</td><td>104668.969994</td><td>105569.925098</td><td>106501.389732</td><td>107359.950008</td><td>107980.974165</td><td>108431.904917</td><td>108688.661455</td><td>109077.452433</td><td>&hellip;</td><td>220002.889764</td><td>222571.954367</td><td>225164.424473</td><td>227659.120352</td><td>230535.087229</td><td>233729.904235</td><td>236764.365582</td><td>238908.510614</td><td>240472.996688</td><td>241475.85918</td><td>242036.647156</td><td>242078.202417</td><td>242386.486907</td><td>243500.095374</td><td>244740.720516</td><td>246598.10499</td><td>248740.93378</td><td>251775.248172</td><td>254980.645277</td><td>257728.154487</td><td>260012.976749</td><td>261645.965072</td><td>262453.515379</td><td>262340.194983</td><td>262055.248916</td><td>262163.410161</td><td>262621.816591</td><td>263303.12599</td><td>264603.948593</td><td>266526.877644</td><td>268678.903311</td><td>270787.516931</td><td>272895.964855</td><td>&quot;New York&quot;</td><td>5.435997</td><td>&quot;Schenectady,_New_York&quot;</td><td>&quot;Schenectady,_New_York&quot;</td></tr><tr><td>37074</td><td>246</td><td>&quot;Albany&quot;</td><td>&quot;city&quot;</td><td>&quot;NY&quot;</td><td>&quot;NY&quot;</td><td>&quot;Albany-Schenectady-Troy, NY&quot;</td><td>&quot;Albany County&quot;</td><td>113016.847893</td><td>113049.047677</td><td>112902.029056</td><td>113050.404172</td><td>113327.905677</td><td>113659.39265</td><td>113703.091794</td><td>113753.370903</td><td>113848.915578</td><td>113598.178239</td><td>113203.755339</td><td>112883.373068</td><td>112409.002267</td><td>112166.92599</td><td>112111.693833</td><td>112805.627197</td><td>113107.671099</td><td>113767.683211</td><td>114435.449927</td><td>115547.900113</td><td>116292.832406</td><td>116989.571506</td><td>117539.997457</td><td>118225.967187</td><td>118851.346837</td><td>119401.075726</td><td>119758.632627</td><td>120048.88121</td><td>120499.248004</td><td>&hellip;</td><td>236802.302282</td><td>239371.720712</td><td>241963.57853</td><td>244256.710461</td><td>246338.070764</td><td>248413.8518</td><td>250531.695586</td><td>252774.965046</td><td>254682.039723</td><td>256259.440166</td><td>257158.995593</td><td>257697.942006</td><td>258294.986991</td><td>259308.85374</td><td>260284.816884</td><td>261373.186529</td><td>262595.67808</td><td>264546.452374</td><td>267188.252227</td><td>269815.812926</td><td>272130.566411</td><td>273256.437413</td><td>273676.526263</td><td>273179.090388</td><td>272950.342369</td><td>272901.069584</td><td>273063.178083</td><td>273459.934226</td><td>274681.096793</td><td>277106.085643</td><td>280160.027533</td><td>282941.842485</td><td>285350.223528</td><td>&quot;New York&quot;</td><td>5.455378</td><td>&quot;Albany,_New_York&quot;</td><td>&quot;Albany,_New_York&quot;</td></tr><tr><td>34819</td><td>698</td><td>&quot;White Plains&quot;</td><td>&quot;city&quot;</td><td>&quot;NY&quot;</td><td>&quot;NY&quot;</td><td>&quot;New York-Newark-Jersey City, NY-NJ-PA&quot;</td><td>&quot;Westchester County&quot;</td><td>277152.15715</td><td>278321.321999</td><td>278858.900229</td><td>280610.129206</td><td>282793.49432</td><td>286078.425583</td><td>289810.636213</td><td>293191.319768</td><td>295707.888241</td><td>298433.526721</td><td>301242.331259</td><td>304810.303198</td><td>308135.717478</td><td>311549.040635</td><td>314514.764095</td><td>317403.205598</td><td>320246.345415</td><td>323439.892705</td><td>326561.384053</td><td>330216.710204</td><td>334128.894475</td><td>338025.896059</td><td>341371.457399</td><td>345142.485119</td><td>349416.018558</td><td>353641.751446</td><td>357295.06096</td><td>359393.37115</td><td>361318.635491</td><td>&hellip;</td><td>586080.122309</td><td>591303.142637</td><td>597221.897295</td><td>603439.097108</td><td>610325.444487</td><td>616684.932056</td><td>622225.805241</td><td>626935.973059</td><td>630562.891399</td><td>633337.165277</td><td>634694.077298</td><td>635675.684764</td><td>638293.906923</td><td>643290.477751</td><td>649258.163321</td><td>652617.356305</td><td>653543.329354</td><td>653798.977079</td><td>655331.709207</td><td>658614.710632</td><td>663166.383686</td><td>667325.694645</td><td>668637.974093</td><td>666639.221038</td><td>663480.995953</td><td>660846.571083</td><td>657382.31002</td><td>654727.112224</td><td>653424.746725</td><td>655351.663704</td><td>658674.017078</td><td>662980.718998</td><td>668662.562598</td><td>&quot;New York&quot;</td><td>5.825207</td><td>&quot;White_Plains,_New_York&quot;</td><td>&quot;White_Plains,_New_York&quot;</td></tr><tr><td>831538</td><td>699</td><td>&quot;Binghamton&quot;</td><td>&quot;city&quot;</td><td>&quot;NY&quot;</td><td>&quot;NY&quot;</td><td>&quot;Binghamton, NY&quot;</td><td>&quot;Broome County&quot;</td><td>null</td><td>null</td><td>null</td><td>null</td><td>null</td><td>null</td><td>null</td><td>null</td><td>null</td><td>null</td><td>null</td><td>null</td><td>null</td><td>null</td><td>null</td><td>null</td><td>null</td><td>null</td><td>null</td><td>null</td><td>null</td><td>null</td><td>null</td><td>null</td><td>null</td><td>null</td><td>null</td><td>null</td><td>null</td><td>&hellip;</td><td>null</td><td>null</td><td>null</td><td>null</td><td>null</td><td>null</td><td>null</td><td>null</td><td>null</td><td>null</td><td>null</td><td>null</td><td>null</td><td>null</td><td>null</td><td>null</td><td>null</td><td>null</td><td>null</td><td>null</td><td>null</td><td>null</td><td>null</td><td>null</td><td>null</td><td>null</td><td>null</td><td>null</td><td>null</td><td>null</td><td>null</td><td>null</td><td>158635.639177</td><td>&quot;New York&quot;</td><td>5.200401</td><td>&quot;Binghamton,_New_York&quot;</td><td>&quot;Binghamton,_New_York&quot;</td></tr><tr><td>26114</td><td>705</td><td>&quot;New Rochelle&quot;</td><td>&quot;city&quot;</td><td>&quot;NY&quot;</td><td>&quot;NY&quot;</td><td>&quot;New York-Newark-Jersey City, NY-NJ-PA&quot;</td><td>&quot;Westchester County&quot;</td><td>306088.025044</td><td>307521.114661</td><td>307991.686135</td><td>309508.198176</td><td>311097.443868</td><td>313735.526422</td><td>316926.14757</td><td>320685.258087</td><td>324583.43358</td><td>329189.506893</td><td>333908.380147</td><td>339277.407491</td><td>343978.378718</td><td>347940.11778</td><td>351317.065902</td><td>354904.832911</td><td>360395.864245</td><td>366531.520716</td><td>372900.827964</td><td>377786.83185</td><td>381507.49714</td><td>384321.377554</td><td>386890.554198</td><td>390235.066743</td><td>393362.748905</td><td>396679.82779</td><td>400408.07846</td><td>404637.936254</td><td>409424.937009</td><td>&hellip;</td><td>664863.40017</td><td>673043.525831</td><td>682507.686869</td><td>691904.886076</td><td>700138.700349</td><td>707233.581321</td><td>713675.217092</td><td>721190.230234</td><td>728501.603505</td><td>735057.13759</td><td>738316.61486</td><td>739475.175028</td><td>740726.464341</td><td>743958.28117</td><td>746968.522252</td><td>750429.632392</td><td>754757.566734</td><td>763277.475035</td><td>773390.32738</td><td>783497.797687</td><td>791955.045977</td><td>797925.760732</td><td>799340.112878</td><td>797332.475987</td><td>794296.112085</td><td>792841.267771</td><td>789683.412982</td><td>789768.803302</td><td>792831.708395</td><td>799532.2994</td><td>804490.831119</td><td>807558.497416</td><td>809211.873798</td><td>&quot;New York&quot;</td><td>5.908062</td><td>&quot;New_Rochelle,_New_York&quot;</td><td>&quot;New_Rochelle,_New_York&quot;</td></tr><tr><td>32991</td><td>735</td><td>&quot;Mount Vernon&quot;</td><td>&quot;city&quot;</td><td>&quot;NY&quot;</td><td>&quot;NY&quot;</td><td>&quot;New York-Newark-Jersey City, NY-NJ-PA&quot;</td><td>&quot;Westchester County&quot;</td><td>218380.778502</td><td>219150.720792</td><td>220034.556023</td><td>221854.627431</td><td>224206.731172</td><td>227518.502346</td><td>231183.865454</td><td>234809.552998</td><td>237691.972297</td><td>239485.455112</td><td>240260.241646</td><td>240638.70775</td><td>241937.32185</td><td>244516.875341</td><td>247523.1906</td><td>250298.08346</td><td>253146.851523</td><td>256199.540492</td><td>259934.363906</td><td>263062.405779</td><td>265828.584533</td><td>268538.514532</td><td>272068.757477</td><td>276582.782201</td><td>281013.628767</td><td>284653.619695</td><td>287827.239454</td><td>291483.844899</td><td>295297.032962</td><td>&hellip;</td><td>449156.90503</td><td>453627.047521</td><td>458413.966949</td><td>463476.799943</td><td>469109.477338</td><td>475896.998762</td><td>481527.105247</td><td>486442.353237</td><td>489826.874078</td><td>493994.445074</td><td>497193.403729</td><td>501057.838253</td><td>505150.335163</td><td>510466.796083</td><td>515720.813487</td><td>517208.658111</td><td>516707.419715</td><td>515101.391856</td><td>516135.360763</td><td>517464.952597</td><td>519714.490622</td><td>519990.910509</td><td>517957.093923</td><td>514269.707525</td><td>510606.348521</td><td>507366.463242</td><td>502261.093465</td><td>502945.404914</td><td>506144.928805</td><td>512675.593465</td><td>514307.078204</td><td>514444.78605</td><td>512583.547018</td><td>&quot;New York&quot;</td><td>5.709765</td><td>&quot;Mount_Vernon,_New_York&quot;</td><td>&quot;Mount_Vernon,_New_York&quot;</td></tr><tr><td>21017</td><td>741</td><td>&quot;Utica&quot;</td><td>&quot;city&quot;</td><td>&quot;NY&quot;</td><td>&quot;NY&quot;</td><td>&quot;Utica-Rome, NY&quot;</td><td>&quot;Oneida County&quot;</td><td>50198.986339</td><td>50269.637238</td><td>50247.672172</td><td>50376.995929</td><td>50534.545857</td><td>50992.80713</td><td>51394.155787</td><td>51741.673589</td><td>51775.894647</td><td>51840.875592</td><td>51899.758684</td><td>52109.008613</td><td>52189.19572</td><td>52276.570533</td><td>52243.438009</td><td>52219.621092</td><td>52204.258127</td><td>52236.823195</td><td>52387.435586</td><td>52631.741683</td><td>53001.847312</td><td>53477.872417</td><td>54018.266716</td><td>54547.93549</td><td>54889.66138</td><td>54855.466679</td><td>54623.429788</td><td>54465.250714</td><td>54695.70657</td><td>&hellip;</td><td>127311.996428</td><td>130021.119044</td><td>132795.974037</td><td>135153.384656</td><td>137055.12152</td><td>138750.659059</td><td>140510.321758</td><td>142364.984075</td><td>144489.64866</td><td>146514.746402</td><td>147787.901344</td><td>148108.483189</td><td>148264.517698</td><td>148645.28843</td><td>149197.384176</td><td>150994.181857</td><td>153718.658456</td><td>157241.646477</td><td>159957.669979</td><td>162025.003855</td><td>164105.371716</td><td>165840.117486</td><td>166817.300422</td><td>166841.055801</td><td>166553.874421</td><td>166305.318559</td><td>166120.659328</td><td>166258.434828</td><td>166622.116112</td><td>167382.327972</td><td>168691.822197</td><td>170266.003016</td><td>172051.981228</td><td>&quot;New York&quot;</td><td>5.23566</td><td>&quot;Utica,_New_York&quot;</td><td>&quot;Utica,_New_York&quot;</td></tr><tr><td>&hellip;</td><td>&hellip;</td><td>&hellip;</td><td>&hellip;</td><td>&hellip;</td><td>&hellip;</td><td>&hellip;</td><td>&hellip;</td><td>&hellip;</td><td>&hellip;</td><td>&hellip;</td><td>&hellip;</td><td>&hellip;</td><td>&hellip;</td><td>&hellip;</td><td>&hellip;</td><td>&hellip;</td><td>&hellip;</td><td>&hellip;</td><td>&hellip;</td><td>&hellip;</td><td>&hellip;</td><td>&hellip;</td><td>&hellip;</td><td>&hellip;</td><td>&hellip;</td><td>&hellip;</td><td>&hellip;</td><td>&hellip;</td><td>&hellip;</td><td>&hellip;</td><td>&hellip;</td><td>&hellip;</td><td>&hellip;</td><td>&hellip;</td><td>&hellip;</td><td>&hellip;</td><td>&hellip;</td><td>&hellip;</td><td>&hellip;</td><td>&hellip;</td><td>&hellip;</td><td>&hellip;</td><td>&hellip;</td><td>&hellip;</td><td>&hellip;</td><td>&hellip;</td><td>&hellip;</td><td>&hellip;</td><td>&hellip;</td><td>&hellip;</td><td>&hellip;</td><td>&hellip;</td><td>&hellip;</td><td>&hellip;</td><td>&hellip;</td><td>&hellip;</td><td>&hellip;</td><td>&hellip;</td><td>&hellip;</td><td>&hellip;</td><td>&hellip;</td><td>&hellip;</td><td>&hellip;</td><td>&hellip;</td><td>&hellip;</td><td>&hellip;</td><td>&hellip;</td><td>&hellip;</td><td>&hellip;</td><td>&hellip;</td><td>&hellip;</td><td>&hellip;</td><td>&hellip;</td><td>&hellip;</td></tr><tr><td>34115</td><td>26285</td><td>&quot;Stannard&quot;</td><td>&quot;city&quot;</td><td>&quot;VT&quot;</td><td>&quot;VT&quot;</td><td>null</td><td>&quot;Caledonia County&quot;</td><td>null</td><td>null</td><td>null</td><td>null</td><td>null</td><td>null</td><td>null</td><td>null</td><td>null</td><td>null</td><td>null</td><td>null</td><td>null</td><td>null</td><td>null</td><td>null</td><td>null</td><td>null</td><td>null</td><td>null</td><td>null</td><td>null</td><td>null</td><td>null</td><td>null</td><td>null</td><td>null</td><td>null</td><td>null</td><td>&hellip;</td><td>null</td><td>null</td><td>null</td><td>null</td><td>null</td><td>null</td><td>null</td><td>null</td><td>null</td><td>null</td><td>null</td><td>null</td><td>null</td><td>null</td><td>null</td><td>null</td><td>null</td><td>null</td><td>null</td><td>null</td><td>null</td><td>null</td><td>null</td><td>null</td><td>null</td><td>null</td><td>null</td><td>null</td><td>null</td><td>null</td><td>null</td><td>null</td><td>264529.083333</td><td>&quot;Vermont&quot;</td><td>5.422473</td><td>&quot;Stannard,_Vermont&quot;</td><td>&quot;Stannard,_Vermont&quot;</td></tr><tr><td>38827</td><td>26341</td><td>&quot;Guildhall&quot;</td><td>&quot;city&quot;</td><td>&quot;VT&quot;</td><td>&quot;VT&quot;</td><td>null</td><td>&quot;Essex County&quot;</td><td>null</td><td>null</td><td>null</td><td>null</td><td>null</td><td>null</td><td>null</td><td>null</td><td>null</td><td>null</td><td>null</td><td>null</td><td>null</td><td>null</td><td>null</td><td>null</td><td>null</td><td>null</td><td>null</td><td>null</td><td>null</td><td>null</td><td>null</td><td>null</td><td>null</td><td>null</td><td>null</td><td>null</td><td>null</td><td>&hellip;</td><td>null</td><td>null</td><td>null</td><td>null</td><td>null</td><td>null</td><td>null</td><td>null</td><td>null</td><td>null</td><td>null</td><td>null</td><td>null</td><td>null</td><td>null</td><td>null</td><td>null</td><td>null</td><td>null</td><td>null</td><td>null</td><td>null</td><td>null</td><td>null</td><td>null</td><td>null</td><td>null</td><td>null</td><td>null</td><td>null</td><td>null</td><td>null</td><td>267373.555556</td><td>&quot;Vermont&quot;</td><td>5.427118</td><td>&quot;Guildhall,_Vermont&quot;</td><td>&quot;Guildhall,_Vermont&quot;</td></tr><tr><td>44916</td><td>26752</td><td>&quot;Derby Line&quot;</td><td>&quot;city&quot;</td><td>&quot;VT&quot;</td><td>&quot;VT&quot;</td><td>null</td><td>&quot;Orleans County&quot;</td><td>null</td><td>null</td><td>null</td><td>null</td><td>null</td><td>null</td><td>null</td><td>null</td><td>null</td><td>null</td><td>null</td><td>null</td><td>null</td><td>null</td><td>null</td><td>null</td><td>null</td><td>null</td><td>null</td><td>null</td><td>null</td><td>null</td><td>null</td><td>null</td><td>null</td><td>null</td><td>null</td><td>null</td><td>null</td><td>&hellip;</td><td>174756.522295</td><td>175175.138235</td><td>175673.109345</td><td>177045.247137</td><td>178642.016921</td><td>180596.684898</td><td>182504.10612</td><td>185298.894988</td><td>188227.701928</td><td>191338.010331</td><td>192874.527021</td><td>193526.431251</td><td>193178.192215</td><td>193784.871154</td><td>195025.226034</td><td>197156.970327</td><td>199461.005764</td><td>201656.768855</td><td>203612.076782</td><td>204894.390578</td><td>206235.389363</td><td>207198.171178</td><td>207741.011272</td><td>207699.831805</td><td>207489.99982</td><td>207448.191573</td><td>207061.706194</td><td>208722.167995</td><td>210904.515413</td><td>213853.033604</td><td>215310.825835</td><td>217067.18672</td><td>219958.965453</td><td>&quot;Vermont&quot;</td><td>5.342342</td><td>&quot;Derby_Line,_Vermont&quot;</td><td>&quot;Derby_Line,_Vermont&quot;</td></tr><tr><td>10246</td><td>26874</td><td>&quot;Baltimore&quot;</td><td>&quot;city&quot;</td><td>&quot;VT&quot;</td><td>&quot;VT&quot;</td><td>&quot;Lebanon, NH-VT&quot;</td><td>&quot;Windsor County&quot;</td><td>null</td><td>null</td><td>null</td><td>null</td><td>null</td><td>null</td><td>null</td><td>null</td><td>null</td><td>null</td><td>null</td><td>null</td><td>null</td><td>null</td><td>null</td><td>null</td><td>null</td><td>null</td><td>null</td><td>null</td><td>null</td><td>null</td><td>null</td><td>null</td><td>null</td><td>null</td><td>null</td><td>null</td><td>null</td><td>&hellip;</td><td>null</td><td>null</td><td>null</td><td>null</td><td>null</td><td>null</td><td>null</td><td>null</td><td>null</td><td>null</td><td>null</td><td>null</td><td>null</td><td>null</td><td>null</td><td>null</td><td>null</td><td>null</td><td>null</td><td>null</td><td>null</td><td>null</td><td>null</td><td>null</td><td>null</td><td>null</td><td>null</td><td>null</td><td>null</td><td>null</td><td>null</td><td>null</td><td>338454.56</td><td>&quot;Vermont&quot;</td><td>5.5295</td><td>&quot;Baltimore,_Vermont&quot;</td><td>&quot;Baltimore,_Vermont&quot;</td></tr><tr><td>50400</td><td>27025</td><td>&quot;Woodford&quot;</td><td>&quot;city&quot;</td><td>&quot;VT&quot;</td><td>&quot;VT&quot;</td><td>&quot;Bennington, VT&quot;</td><td>&quot;Bennington County&quot;</td><td>null</td><td>null</td><td>null</td><td>null</td><td>null</td><td>null</td><td>null</td><td>null</td><td>null</td><td>null</td><td>null</td><td>null</td><td>null</td><td>null</td><td>null</td><td>null</td><td>null</td><td>null</td><td>null</td><td>null</td><td>null</td><td>null</td><td>null</td><td>null</td><td>null</td><td>null</td><td>null</td><td>null</td><td>null</td><td>&hellip;</td><td>166301.059801</td><td>168679.216824</td><td>170261.906517</td><td>171785.862666</td><td>173240.821862</td><td>174632.714836</td><td>176492.787153</td><td>179553.084023</td><td>183807.879146</td><td>188455.254251</td><td>191331.935707</td><td>192851.826703</td><td>193206.004152</td><td>194980.744811</td><td>197296.688557</td><td>201275.200462</td><td>205105.325623</td><td>209265.257384</td><td>213463.603544</td><td>217569.975838</td><td>220773.771002</td><td>222354.463482</td><td>222415.070204</td><td>222207.549092</td><td>221749.023579</td><td>222209.794736</td><td>222112.065056</td><td>225337.62982</td><td>228317.851004</td><td>231846.996002</td><td>232528.806091</td><td>233560.956282</td><td>235702.553083</td><td>&quot;Vermont&quot;</td><td>5.372364</td><td>&quot;Woodford,_Vermont&quot;</td><td>&quot;Woodford,_Vermont&quot;</td></tr><tr><td>46917</td><td>27122</td><td>&quot;Orleans&quot;</td><td>&quot;city&quot;</td><td>&quot;VT&quot;</td><td>&quot;VT&quot;</td><td>null</td><td>&quot;Orleans County&quot;</td><td>null</td><td>null</td><td>null</td><td>null</td><td>null</td><td>null</td><td>null</td><td>null</td><td>null</td><td>null</td><td>null</td><td>null</td><td>null</td><td>null</td><td>null</td><td>null</td><td>null</td><td>null</td><td>null</td><td>null</td><td>null</td><td>null</td><td>null</td><td>null</td><td>null</td><td>null</td><td>null</td><td>null</td><td>null</td><td>&hellip;</td><td>null</td><td>null</td><td>null</td><td>null</td><td>null</td><td>null</td><td>null</td><td>null</td><td>null</td><td>null</td><td>null</td><td>null</td><td>null</td><td>null</td><td>null</td><td>null</td><td>null</td><td>null</td><td>null</td><td>null</td><td>null</td><td>null</td><td>null</td><td>null</td><td>null</td><td>null</td><td>null</td><td>null</td><td>null</td><td>null</td><td>null</td><td>null</td><td>165582.302632</td><td>&quot;Vermont&quot;</td><td>5.219014</td><td>&quot;Orleans,_Vermont&quot;</td><td>&quot;Orleans,_Vermont&quot;</td></tr><tr><td>6240</td><td>27452</td><td>&quot;North Troy&quot;</td><td>&quot;city&quot;</td><td>&quot;VT&quot;</td><td>&quot;VT&quot;</td><td>null</td><td>&quot;Orleans County&quot;</td><td>null</td><td>null</td><td>null</td><td>null</td><td>null</td><td>null</td><td>null</td><td>null</td><td>null</td><td>null</td><td>null</td><td>null</td><td>null</td><td>null</td><td>null</td><td>null</td><td>null</td><td>null</td><td>null</td><td>null</td><td>null</td><td>null</td><td>null</td><td>null</td><td>null</td><td>null</td><td>null</td><td>null</td><td>null</td><td>&hellip;</td><td>117557.460673</td><td>118908.017104</td><td>119281.051894</td><td>119890.889914</td><td>120964.463578</td><td>122204.923453</td><td>123058.239923</td><td>124115.468252</td><td>125676.632533</td><td>128130.923134</td><td>129808.517607</td><td>130840.026475</td><td>131363.413752</td><td>132841.948682</td><td>134343.747387</td><td>136098.651329</td><td>137080.093516</td><td>138076.634735</td><td>138942.827477</td><td>140015.818928</td><td>141480.630604</td><td>142426.868688</td><td>142803.195023</td><td>142440.535451</td><td>142143.259342</td><td>142062.688796</td><td>142202.940011</td><td>143767.410663</td><td>145176.921198</td><td>146791.075835</td><td>147080.837262</td><td>147832.644937</td><td>149130.89527</td><td>&quot;Vermont&quot;</td><td>5.173568</td><td>&quot;North_Troy,_Vermont&quot;</td><td>&quot;North_Troy,_Vermont&quot;</td></tr><tr><td>396478</td><td>27594</td><td>&quot;Landgrove&quot;</td><td>&quot;city&quot;</td><td>&quot;VT&quot;</td><td>&quot;VT&quot;</td><td>&quot;Bennington, VT&quot;</td><td>&quot;Bennington County&quot;</td><td>null</td><td>null</td><td>null</td><td>null</td><td>null</td><td>null</td><td>null</td><td>null</td><td>null</td><td>null</td><td>null</td><td>null</td><td>null</td><td>null</td><td>null</td><td>null</td><td>null</td><td>null</td><td>null</td><td>null</td><td>null</td><td>null</td><td>null</td><td>null</td><td>null</td><td>null</td><td>null</td><td>null</td><td>null</td><td>&hellip;</td><td>null</td><td>null</td><td>null</td><td>null</td><td>null</td><td>null</td><td>null</td><td>null</td><td>null</td><td>null</td><td>null</td><td>null</td><td>null</td><td>null</td><td>null</td><td>null</td><td>null</td><td>null</td><td>null</td><td>null</td><td>null</td><td>null</td><td>null</td><td>null</td><td>null</td><td>null</td><td>null</td><td>null</td><td>null</td><td>null</td><td>null</td><td>null</td><td>817877.5</td><td>&quot;Vermont&quot;</td><td>5.912688</td><td>&quot;Landgrove,_Vermont&quot;</td><td>&quot;Landgrove,_Vermont&quot;</td></tr><tr><td>27831</td><td>27951</td><td>&quot;Wells River&quot;</td><td>&quot;city&quot;</td><td>&quot;VT&quot;</td><td>&quot;VT&quot;</td><td>&quot;Lebanon, NH-VT&quot;</td><td>&quot;Orange County&quot;</td><td>null</td><td>null</td><td>null</td><td>null</td><td>null</td><td>null</td><td>null</td><td>null</td><td>null</td><td>null</td><td>null</td><td>null</td><td>null</td><td>null</td><td>null</td><td>null</td><td>null</td><td>null</td><td>null</td><td>null</td><td>null</td><td>null</td><td>null</td><td>null</td><td>null</td><td>null</td><td>null</td><td>null</td><td>null</td><td>&hellip;</td><td>null</td><td>null</td><td>null</td><td>null</td><td>null</td><td>null</td><td>null</td><td>null</td><td>null</td><td>null</td><td>null</td><td>null</td><td>null</td><td>null</td><td>null</td><td>null</td><td>null</td><td>null</td><td>null</td><td>null</td><td>null</td><td>null</td><td>null</td><td>null</td><td>null</td><td>null</td><td>null</td><td>null</td><td>null</td><td>null</td><td>null</td><td>null</td><td>234020.810811</td><td>&quot;Vermont&quot;</td><td>5.369254</td><td>&quot;Wells_River,_Vermont&quot;</td><td>&quot;Wells_River,_Vermont&quot;</td></tr><tr><td>398478</td><td>28081</td><td>&quot;Lemington&quot;</td><td>&quot;city&quot;</td><td>&quot;VT&quot;</td><td>&quot;VT&quot;</td><td>null</td><td>&quot;Essex County&quot;</td><td>null</td><td>null</td><td>null</td><td>null</td><td>null</td><td>null</td><td>null</td><td>null</td><td>null</td><td>null</td><td>null</td><td>null</td><td>null</td><td>null</td><td>null</td><td>null</td><td>null</td><td>null</td><td>null</td><td>null</td><td>null</td><td>null</td><td>null</td><td>null</td><td>null</td><td>null</td><td>null</td><td>null</td><td>null</td><td>&hellip;</td><td>null</td><td>null</td><td>null</td><td>null</td><td>null</td><td>null</td><td>null</td><td>null</td><td>null</td><td>null</td><td>null</td><td>null</td><td>null</td><td>null</td><td>null</td><td>null</td><td>null</td><td>null</td><td>null</td><td>null</td><td>null</td><td>null</td><td>null</td><td>null</td><td>null</td><td>null</td><td>null</td><td>null</td><td>null</td><td>null</td><td>null</td><td>null</td><td>223512.333333</td><td>&quot;Vermont&quot;</td><td>5.349301</td><td>&quot;Lemington,_Vermont&quot;</td><td>&quot;Lemington,_Vermont&quot;</td></tr><tr><td>56021</td><td>28699</td><td>&quot;Jeffersonville&quot;</td><td>&quot;city&quot;</td><td>&quot;VT&quot;</td><td>&quot;VT&quot;</td><td>null</td><td>&quot;Lamoille County&quot;</td><td>null</td><td>null</td><td>null</td><td>null</td><td>null</td><td>null</td><td>null</td><td>null</td><td>null</td><td>null</td><td>null</td><td>null</td><td>null</td><td>null</td><td>null</td><td>null</td><td>null</td><td>null</td><td>null</td><td>null</td><td>null</td><td>null</td><td>null</td><td>null</td><td>null</td><td>null</td><td>null</td><td>null</td><td>null</td><td>&hellip;</td><td>null</td><td>null</td><td>null</td><td>null</td><td>null</td><td>null</td><td>null</td><td>null</td><td>null</td><td>null</td><td>null</td><td>null</td><td>null</td><td>null</td><td>null</td><td>null</td><td>null</td><td>null</td><td>null</td><td>null</td><td>null</td><td>null</td><td>null</td><td>null</td><td>null</td><td>null</td><td>null</td><td>null</td><td>null</td><td>null</td><td>null</td><td>null</td><td>363010.753846</td><td>&quot;Vermont&quot;</td><td>5.559919</td><td>&quot;Jeffersonville,_Vermont&quot;</td><td>&quot;Jeffersonville,_Vermont&quot;</td></tr><tr><td>249186</td><td>28699</td><td>&quot;Derby Center&quot;</td><td>&quot;city&quot;</td><td>&quot;VT&quot;</td><td>&quot;VT&quot;</td><td>null</td><td>&quot;Orleans County&quot;</td><td>null</td><td>null</td><td>null</td><td>null</td><td>null</td><td>null</td><td>null</td><td>null</td><td>null</td><td>null</td><td>null</td><td>null</td><td>null</td><td>null</td><td>null</td><td>null</td><td>null</td><td>null</td><td>null</td><td>null</td><td>null</td><td>null</td><td>null</td><td>null</td><td>null</td><td>null</td><td>null</td><td>null</td><td>null</td><td>&hellip;</td><td>null</td><td>null</td><td>null</td><td>null</td><td>null</td><td>null</td><td>null</td><td>null</td><td>null</td><td>null</td><td>null</td><td>null</td><td>null</td><td>null</td><td>null</td><td>null</td><td>null</td><td>null</td><td>null</td><td>null</td><td>null</td><td>null</td><td>null</td><td>null</td><td>null</td><td>null</td><td>null</td><td>null</td><td>null</td><td>null</td><td>null</td><td>null</td><td>249146.821429</td><td>&quot;Vermont&quot;</td><td>5.396455</td><td>&quot;Derby_Center,_Vermont&quot;</td><td>&quot;Derby_Center,_Vermont&quot;</td></tr></tbody></table></div>"
      ],
      "text/plain": [
       "shape: (22_251, 294)\n",
       "┌──────────┬──────────┬────────────┬────────────┬───┬──────────┬──────────┬────────────┬───────────┐\n",
       "│ RegionID ┆ SizeRank ┆ City       ┆ RegionType ┆ … ┆ State    ┆ target   ┆ yago4_col_ ┆ yago3_col │\n",
       "│ ---      ┆ ---      ┆ ---        ┆ ---        ┆   ┆ ---      ┆ ---      ┆ to_embed   ┆ _to_embed │\n",
       "│ i64      ┆ i64      ┆ str        ┆ str        ┆   ┆ str      ┆ f64      ┆ ---        ┆ ---       │\n",
       "│          ┆          ┆            ┆            ┆   ┆          ┆          ┆ str        ┆ str       │\n",
       "╞══════════╪══════════╪════════════╪════════════╪═══╪══════════╪══════════╪════════════╪═══════════╡\n",
       "│ 6181     ┆ 0        ┆ New York   ┆ city       ┆ … ┆ New York ┆ 5.854972 ┆ New_York_C ┆ New_York_ │\n",
       "│          ┆          ┆            ┆            ┆   ┆          ┆          ┆ ity        ┆ City      │\n",
       "│ 17222    ┆ 43       ┆ Buffalo    ┆ city       ┆ … ┆ New York ┆ 5.334042 ┆ Buffalo,_N ┆ Buffalo,_ │\n",
       "│          ┆          ┆            ┆            ┆   ┆          ┆          ┆ ew_York    ┆ New_York  │\n",
       "│ 832063   ┆ 45       ┆ Rochester  ┆ city       ┆ … ┆ New York ┆ 5.322101 ┆ Rochester, ┆ Rochester │\n",
       "│          ┆          ┆            ┆            ┆   ┆          ┆          ┆ _New_York  ┆ ,_New_Yor │\n",
       "│          ┆          ┆            ┆            ┆   ┆          ┆          ┆            ┆ k         │\n",
       "│ 34937    ┆ 145      ┆ Yonkers    ┆ city       ┆ … ┆ New York ┆ 5.779882 ┆ Yonkers,_N ┆ Yonkers,_ │\n",
       "│          ┆          ┆            ┆            ┆   ┆          ┆          ┆ ew_York    ┆ New_York  │\n",
       "│ …        ┆ …        ┆ …          ┆ …          ┆ … ┆ …        ┆ …        ┆ …          ┆ …         │\n",
       "│ 27831    ┆ 27951    ┆ Wells      ┆ city       ┆ … ┆ Vermont  ┆ 5.369254 ┆ Wells_Rive ┆ Wells_Riv │\n",
       "│          ┆          ┆ River      ┆            ┆   ┆          ┆          ┆ r,_Vermont ┆ er,_Vermo │\n",
       "│          ┆          ┆            ┆            ┆   ┆          ┆          ┆            ┆ nt        │\n",
       "│ 398478   ┆ 28081    ┆ Lemington  ┆ city       ┆ … ┆ Vermont  ┆ 5.349301 ┆ Lemington, ┆ Lemington │\n",
       "│          ┆          ┆            ┆            ┆   ┆          ┆          ┆ _Vermont   ┆ ,_Vermont │\n",
       "│ 56021    ┆ 28699    ┆ Jeffersonv ┆ city       ┆ … ┆ Vermont  ┆ 5.559919 ┆ Jeffersonv ┆ Jefferson │\n",
       "│          ┆          ┆ ille       ┆            ┆   ┆          ┆          ┆ ille,_Verm ┆ ville,_Ve │\n",
       "│          ┆          ┆            ┆            ┆   ┆          ┆          ┆ ont        ┆ rmont     │\n",
       "│ 249186   ┆ 28699    ┆ Derby      ┆ city       ┆ … ┆ Vermont  ┆ 5.396455 ┆ Derby_Cent ┆ Derby_Cen │\n",
       "│          ┆          ┆ Center     ┆            ┆   ┆          ┆          ┆ er,_Vermon ┆ ter,_Verm │\n",
       "│          ┆          ┆            ┆            ┆   ┆          ┆          ┆ t          ┆ ont       │\n",
       "└──────────┴──────────┴────────────┴────────────┴───┴──────────┴──────────┴────────────┴───────────┘"
      ]
     },
     "execution_count": 7,
     "metadata": {},
     "output_type": "execute_result"
    }
   ],
   "source": [
    "df"
   ]
  },
  {
   "cell_type": "code",
   "execution_count": 9,
   "metadata": {},
   "outputs": [],
   "source": [
    "df = df.select([\n",
    "    \"RegionID\",\n",
    "    \"SizeRank\",\n",
    "    \"City\",\n",
    "    \"RegionType\",\n",
    "    \"StateName\",\n",
    "    \"Code\",\n",
    "    \"Metro\",\n",
    "    \"County\",\n",
    "    \"State\",\n",
    "    \"target\",\n",
    "    \"yago3_col_to_embed\"\n",
    "])"
   ]
  },
  {
   "cell_type": "code",
   "execution_count": 10,
   "metadata": {},
   "outputs": [],
   "source": [
    "df = df.with_columns(\n",
    "    (\"<\" + pl.col(\"yago3_col_to_embed\") + \">\").alias(\"col_to_embed\")\n",
    ").drop(\"yago3_col_to_embed\").drop_nulls(\"target\")"
   ]
  },
  {
   "cell_type": "code",
   "execution_count": 11,
   "metadata": {},
   "outputs": [],
   "source": [
    "df.write_parquet(Path(data_folder, \"housing_prices-yadl.parquet\"))"
   ]
  },
  {
   "cell_type": "code",
   "execution_count": null,
   "metadata": {},
   "outputs": [],
   "source": []
  }
 ],
 "metadata": {
  "kernelspec": {
   "display_name": "bench-repro",
   "language": "python",
   "name": "python3"
  },
  "language_info": {
   "codemirror_mode": {
    "name": "ipython",
    "version": 3
   },
   "file_extension": ".py",
   "mimetype": "text/x-python",
   "name": "python",
   "nbconvert_exporter": "python",
   "pygments_lexer": "ipython3",
   "version": "3.10.0"
  }
 },
 "nbformat": 4,
 "nbformat_minor": 2
}
