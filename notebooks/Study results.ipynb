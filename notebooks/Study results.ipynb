{
 "cells": [
  {
   "cell_type": "code",
   "execution_count": 1,
   "metadata": {},
   "outputs": [],
   "source": [
    "%load_ext autoreload\n",
    "%autoreload 2"
   ]
  },
  {
   "cell_type": "code",
   "execution_count": 2,
   "metadata": {},
   "outputs": [
    {
     "name": "stdout",
     "output_type": "stream",
     "text": [
      "/home/soda/rcappuzz/work/benchmark-join-suggestions\n"
     ]
    }
   ],
   "source": [
    "cd /home/soda/rcappuzz/work/benchmark-join-suggestions/"
   ]
  },
  {
   "cell_type": "code",
   "execution_count": 3,
   "metadata": {},
   "outputs": [],
   "source": [
    "import json\n",
    "import pickle\n",
    "from pathlib import Path\n",
    "\n",
    "import matplotlib as mpl\n",
    "import matplotlib.pyplot as plt\n",
    "import matplotlib.ticker as ticker\n",
    "import numpy as np\n",
    "import pandas as pd\n",
    "import polars as pl\n",
    "import seaborn as sns\n",
    "from matplotlib.patches import Polygon\n",
    "\n",
    "import src.utils.plotting as utils"
   ]
  },
  {
   "cell_type": "markdown",
   "metadata": {},
   "source": [
    "# Compile runs into a single df"
   ]
  },
  {
   "cell_type": "code",
   "execution_count": 5,
   "metadata": {},
   "outputs": [],
   "source": [
    "run_name = \"po2v44mk\"\n",
    "root_path = Path(\"results/logs\", run_name)\n",
    "run_log_path = Path(root_path, \"run_logs\")"
   ]
  },
  {
   "cell_type": "code",
   "execution_count": 14,
   "metadata": {},
   "outputs": [],
   "source": [
    "select_col = [\n",
    "    \"scenario_id\",\n",
    "    \"run_id\",\n",
    "    \"status\",\n",
    "    \"yadl_version\",\n",
    "    \"git_hash\",\n",
    "    \"index_name\",\n",
    "    \"base_table\",\n",
    "    \"candidate_table\",\n",
    "    \"iterations\",\n",
    "    \"join_strategy\",\n",
    "    \"aggregation\",\n",
    "    \"feature_selection\",\n",
    "    \"model_selection\",\n",
    "    \"fold_id\",\n",
    "    \"time_train\",\n",
    "    \"time_eval\",\n",
    "    \"time_join\",\n",
    "    \"time_eval_join\",\n",
    "    \"n_cols\",\n",
    "    \"rmse\",\n",
    "    \"r2score\",\n",
    "]"
   ]
  },
  {
   "cell_type": "code",
   "execution_count": 11,
   "metadata": {},
   "outputs": [],
   "source": [
    "df = pl.read_csv(\"results/logs/po2v44mk/run_logs/1.log\", has_header=False)"
   ]
  },
  {
   "cell_type": "code",
   "execution_count": 15,
   "metadata": {},
   "outputs": [
    {
     "data": {
      "text/html": [
       "<div><style>\n",
       ".dataframe > thead > tr > th,\n",
       ".dataframe > tbody > tr > td {\n",
       "  text-align: right;\n",
       "}\n",
       "</style>\n",
       "<small>shape: (20, 21)</small><table border=\"1\" class=\"dataframe\"><thead><tr><th>column_1</th><th>column_2</th><th>column_3</th><th>column_4</th><th>column_5</th><th>column_6</th><th>column_7</th><th>column_8</th><th>column_9</th><th>column_10</th><th>column_11</th><th>column_12</th><th>column_13</th><th>column_14</th><th>column_15</th><th>column_16</th><th>column_17</th><th>column_18</th><th>column_19</th><th>column_20</th><th>column_21</th></tr><tr><td>i64</td><td>i64</td><td>str</td><td>str</td><td>str</td><td>str</td><td>str</td><td>str</td><td>i64</td><td>str</td><td>str</td><td>bool</td><td>bool</td><td>i64</td><td>f64</td><td>f64</td><td>f64</td><td>f64</td><td>i64</td><td>f64</td><td>f64</td></tr></thead><tbody><tr><td>1</td><td>1</td><td>&quot;SUCCESS&quot;</td><td>&quot;wordnet_cp_big…</td><td>&quot;f8fd6e543498ea…</td><td>&quot;base_table&quot;</td><td>&quot;us-accidents-d…</td><td>null</td><td>100</td><td>&quot;left&quot;</td><td>&quot;nojoin&quot;</td><td>false</td><td>false</td><td>0</td><td>2.768809</td><td>0.009418</td><td>null</td><td>null</td><td>2</td><td>0.64485</td><td>-0.000169</td></tr><tr><td>1</td><td>2</td><td>&quot;SUCCESS&quot;</td><td>&quot;wordnet_cp_big…</td><td>&quot;f8fd6e543498ea…</td><td>&quot;minhash&quot;</td><td>&quot;us-accidents-d…</td><td>&quot;best_candidate…</td><td>100</td><td>&quot;left&quot;</td><td>&quot;first&quot;</td><td>false</td><td>false</td><td>0</td><td>2048.071515</td><td>0.007415</td><td>2007.728707</td><td>0.012772</td><td>5</td><td>0.627504</td><td>0.052913</td></tr><tr><td>1</td><td>53</td><td>&quot;SUCCESS&quot;</td><td>&quot;wordnet_cp_big…</td><td>&quot;f8fd6e543498ea…</td><td>&quot;minhash&quot;</td><td>&quot;us-accidents-d…</td><td>&quot;full&quot;</td><td>100</td><td>&quot;left&quot;</td><td>&quot;first&quot;</td><td>false</td><td>false</td><td>0</td><td>2.616068</td><td>0.082601</td><td>0.573583</td><td>0.538216</td><td>178</td><td>0.617319</td><td>0.083409</td></tr><tr><td>1</td><td>54</td><td>&quot;SUCCESS&quot;</td><td>&quot;wordnet_cp_big…</td><td>&quot;f8fd6e543498ea…</td><td>&quot;minhash&quot;</td><td>&quot;us-accidents-d…</td><td>&quot;sampled&quot;</td><td>100</td><td>&quot;left&quot;</td><td>&quot;first&quot;</td><td>false</td><td>false</td><td>0</td><td>3.68514</td><td>0.015981</td><td>0.071703</td><td>0.079557</td><td>28</td><td>0.627119</td><td>0.054076</td></tr><tr><td>1</td><td>55</td><td>&quot;SUCCESS&quot;</td><td>&quot;wordnet_cp_big…</td><td>&quot;f8fd6e543498ea…</td><td>&quot;base_table&quot;</td><td>&quot;us-accidents-d…</td><td>null</td><td>100</td><td>&quot;left&quot;</td><td>&quot;nojoin&quot;</td><td>false</td><td>false</td><td>1</td><td>2.586582</td><td>0.011247</td><td>null</td><td>null</td><td>2</td><td>0.655564</td><td>-0.000004</td></tr><tr><td>1</td><td>56</td><td>&quot;SUCCESS&quot;</td><td>&quot;wordnet_cp_big…</td><td>&quot;f8fd6e543498ea…</td><td>&quot;minhash&quot;</td><td>&quot;us-accidents-d…</td><td>&quot;best_candidate…</td><td>100</td><td>&quot;left&quot;</td><td>&quot;first&quot;</td><td>false</td><td>false</td><td>1</td><td>1936.836866</td><td>0.007569</td><td>1897.442698</td><td>0.012223</td><td>5</td><td>0.63514</td><td>0.061336</td></tr><tr><td>1</td><td>107</td><td>&quot;SUCCESS&quot;</td><td>&quot;wordnet_cp_big…</td><td>&quot;f8fd6e543498ea…</td><td>&quot;minhash&quot;</td><td>&quot;us-accidents-d…</td><td>&quot;full&quot;</td><td>100</td><td>&quot;left&quot;</td><td>&quot;first&quot;</td><td>false</td><td>false</td><td>1</td><td>2.60706</td><td>0.07829</td><td>0.563509</td><td>0.535399</td><td>178</td><td>0.616581</td><td>0.115391</td></tr><tr><td>1</td><td>108</td><td>&quot;SUCCESS&quot;</td><td>&quot;wordnet_cp_big…</td><td>&quot;f8fd6e543498ea…</td><td>&quot;minhash&quot;</td><td>&quot;us-accidents-d…</td><td>&quot;sampled&quot;</td><td>100</td><td>&quot;left&quot;</td><td>&quot;first&quot;</td><td>false</td><td>false</td><td>1</td><td>3.42952</td><td>0.01388</td><td>0.057606</td><td>0.063714</td><td>17</td><td>0.635124</td><td>0.061383</td></tr><tr><td>1</td><td>109</td><td>&quot;SUCCESS&quot;</td><td>&quot;wordnet_cp_big…</td><td>&quot;f8fd6e543498ea…</td><td>&quot;base_table&quot;</td><td>&quot;us-accidents-d…</td><td>null</td><td>100</td><td>&quot;left&quot;</td><td>&quot;nojoin&quot;</td><td>false</td><td>false</td><td>2</td><td>2.580254</td><td>0.007372</td><td>null</td><td>null</td><td>2</td><td>0.652772</td><td>-0.000888</td></tr><tr><td>1</td><td>110</td><td>&quot;SUCCESS&quot;</td><td>&quot;wordnet_cp_big…</td><td>&quot;f8fd6e543498ea…</td><td>&quot;minhash&quot;</td><td>&quot;us-accidents-d…</td><td>&quot;best_candidate…</td><td>100</td><td>&quot;left&quot;</td><td>&quot;first&quot;</td><td>false</td><td>false</td><td>2</td><td>1680.151614</td><td>0.013837</td><td>1639.796149</td><td>0.025286</td><td>16</td><td>0.6317</td><td>0.062688</td></tr><tr><td>1</td><td>161</td><td>&quot;SUCCESS&quot;</td><td>&quot;wordnet_cp_big…</td><td>&quot;f8fd6e543498ea…</td><td>&quot;minhash&quot;</td><td>&quot;us-accidents-d…</td><td>&quot;full&quot;</td><td>100</td><td>&quot;left&quot;</td><td>&quot;first&quot;</td><td>false</td><td>false</td><td>2</td><td>2.484813</td><td>0.077347</td><td>0.570391</td><td>0.535606</td><td>178</td><td>0.613189</td><td>0.116815</td></tr><tr><td>1</td><td>162</td><td>&quot;SUCCESS&quot;</td><td>&quot;wordnet_cp_big…</td><td>&quot;f8fd6e543498ea…</td><td>&quot;minhash&quot;</td><td>&quot;us-accidents-d…</td><td>&quot;sampled&quot;</td><td>100</td><td>&quot;left&quot;</td><td>&quot;first&quot;</td><td>false</td><td>false</td><td>2</td><td>3.161004</td><td>0.015745</td><td>0.065115</td><td>0.08084</td><td>28</td><td>0.632005</td><td>0.061781</td></tr><tr><td>1</td><td>163</td><td>&quot;SUCCESS&quot;</td><td>&quot;wordnet_cp_big…</td><td>&quot;f8fd6e543498ea…</td><td>&quot;base_table&quot;</td><td>&quot;us-accidents-d…</td><td>null</td><td>100</td><td>&quot;left&quot;</td><td>&quot;nojoin&quot;</td><td>false</td><td>false</td><td>3</td><td>2.605729</td><td>0.008715</td><td>null</td><td>null</td><td>2</td><td>0.659327</td><td>-0.000145</td></tr><tr><td>1</td><td>164</td><td>&quot;SUCCESS&quot;</td><td>&quot;wordnet_cp_big…</td><td>&quot;f8fd6e543498ea…</td><td>&quot;minhash&quot;</td><td>&quot;us-accidents-d…</td><td>&quot;best_candidate…</td><td>100</td><td>&quot;left&quot;</td><td>&quot;first&quot;</td><td>false</td><td>false</td><td>3</td><td>1373.411499</td><td>0.007013</td><td>1341.642599</td><td>0.011313</td><td>5</td><td>0.633152</td><td>0.077691</td></tr><tr><td>1</td><td>215</td><td>&quot;SUCCESS&quot;</td><td>&quot;wordnet_cp_big…</td><td>&quot;f8fd6e543498ea…</td><td>&quot;minhash&quot;</td><td>&quot;us-accidents-d…</td><td>&quot;full&quot;</td><td>100</td><td>&quot;left&quot;</td><td>&quot;first&quot;</td><td>false</td><td>false</td><td>3</td><td>3.717652</td><td>0.07532</td><td>0.592019</td><td>0.548912</td><td>178</td><td>0.623271</td><td>0.106254</td></tr><tr><td>1</td><td>216</td><td>&quot;SUCCESS&quot;</td><td>&quot;wordnet_cp_big…</td><td>&quot;f8fd6e543498ea…</td><td>&quot;minhash&quot;</td><td>&quot;us-accidents-d…</td><td>&quot;sampled&quot;</td><td>100</td><td>&quot;left&quot;</td><td>&quot;first&quot;</td><td>false</td><td>false</td><td>3</td><td>0.775576</td><td>0.012929</td><td>0.056155</td><td>0.064194</td><td>17</td><td>0.632987</td><td>0.078171</td></tr><tr><td>1</td><td>217</td><td>&quot;SUCCESS&quot;</td><td>&quot;wordnet_cp_big…</td><td>&quot;f8fd6e543498ea…</td><td>&quot;base_table&quot;</td><td>&quot;us-accidents-d…</td><td>null</td><td>100</td><td>&quot;left&quot;</td><td>&quot;nojoin&quot;</td><td>false</td><td>false</td><td>4</td><td>2.739742</td><td>0.010696</td><td>null</td><td>null</td><td>2</td><td>0.656354</td><td>-0.002084</td></tr><tr><td>1</td><td>218</td><td>&quot;SUCCESS&quot;</td><td>&quot;wordnet_cp_big…</td><td>&quot;f8fd6e543498ea…</td><td>&quot;minhash&quot;</td><td>&quot;us-accidents-d…</td><td>&quot;best_candidate…</td><td>100</td><td>&quot;left&quot;</td><td>&quot;first&quot;</td><td>false</td><td>false</td><td>4</td><td>1883.432624</td><td>0.00718</td><td>1843.792803</td><td>0.017972</td><td>5</td><td>0.647371</td><td>0.025157</td></tr><tr><td>1</td><td>269</td><td>&quot;SUCCESS&quot;</td><td>&quot;wordnet_cp_big…</td><td>&quot;f8fd6e543498ea…</td><td>&quot;minhash&quot;</td><td>&quot;us-accidents-d…</td><td>&quot;full&quot;</td><td>100</td><td>&quot;left&quot;</td><td>&quot;first&quot;</td><td>false</td><td>false</td><td>4</td><td>3.711335</td><td>0.072451</td><td>0.583411</td><td>0.551643</td><td>178</td><td>0.625196</td><td>0.090798</td></tr><tr><td>1</td><td>270</td><td>&quot;SUCCESS&quot;</td><td>&quot;wordnet_cp_big…</td><td>&quot;f8fd6e543498ea…</td><td>&quot;minhash&quot;</td><td>&quot;us-accidents-d…</td><td>&quot;sampled&quot;</td><td>100</td><td>&quot;left&quot;</td><td>&quot;first&quot;</td><td>false</td><td>false</td><td>4</td><td>3.546082</td><td>0.014893</td><td>0.095745</td><td>0.127704</td><td>17</td><td>0.648061</td><td>0.023078</td></tr></tbody></table></div>"
      ],
      "text/plain": [
       "shape: (20, 21)\n",
       "┌──────────┬──────────┬──────────┬─────────────┬───┬───────────┬───────────┬───────────┬───────────┐\n",
       "│ column_1 ┆ column_2 ┆ column_3 ┆ column_4    ┆ … ┆ column_18 ┆ column_19 ┆ column_20 ┆ column_21 │\n",
       "│ ---      ┆ ---      ┆ ---      ┆ ---         ┆   ┆ ---       ┆ ---       ┆ ---       ┆ ---       │\n",
       "│ i64      ┆ i64      ┆ str      ┆ str         ┆   ┆ f64       ┆ i64       ┆ f64       ┆ f64       │\n",
       "╞══════════╪══════════╪══════════╪═════════════╪═══╪═══════════╪═══════════╪═══════════╪═══════════╡\n",
       "│ 1        ┆ 1        ┆ SUCCESS  ┆ wordnet_cp_ ┆ … ┆ null      ┆ 2         ┆ 0.64485   ┆ -0.000169 │\n",
       "│          ┆          ┆          ┆ big_fx      ┆   ┆           ┆           ┆           ┆           │\n",
       "│ 1        ┆ 2        ┆ SUCCESS  ┆ wordnet_cp_ ┆ … ┆ 0.012772  ┆ 5         ┆ 0.627504  ┆ 0.052913  │\n",
       "│          ┆          ┆          ┆ big_fx      ┆   ┆           ┆           ┆           ┆           │\n",
       "│ 1        ┆ 53       ┆ SUCCESS  ┆ wordnet_cp_ ┆ … ┆ 0.538216  ┆ 178       ┆ 0.617319  ┆ 0.083409  │\n",
       "│          ┆          ┆          ┆ big_fx      ┆   ┆           ┆           ┆           ┆           │\n",
       "│ 1        ┆ 54       ┆ SUCCESS  ┆ wordnet_cp_ ┆ … ┆ 0.079557  ┆ 28        ┆ 0.627119  ┆ 0.054076  │\n",
       "│          ┆          ┆          ┆ big_fx      ┆   ┆           ┆           ┆           ┆           │\n",
       "│ …        ┆ …        ┆ …        ┆ …           ┆ … ┆ …         ┆ …         ┆ …         ┆ …         │\n",
       "│ 1        ┆ 217      ┆ SUCCESS  ┆ wordnet_cp_ ┆ … ┆ null      ┆ 2         ┆ 0.656354  ┆ -0.002084 │\n",
       "│          ┆          ┆          ┆ big_fx      ┆   ┆           ┆           ┆           ┆           │\n",
       "│ 1        ┆ 218      ┆ SUCCESS  ┆ wordnet_cp_ ┆ … ┆ 0.017972  ┆ 5         ┆ 0.647371  ┆ 0.025157  │\n",
       "│          ┆          ┆          ┆ big_fx      ┆   ┆           ┆           ┆           ┆           │\n",
       "│ 1        ┆ 269      ┆ SUCCESS  ┆ wordnet_cp_ ┆ … ┆ 0.551643  ┆ 178       ┆ 0.625196  ┆ 0.090798  │\n",
       "│          ┆          ┆          ┆ big_fx      ┆   ┆           ┆           ┆           ┆           │\n",
       "│ 1        ┆ 270      ┆ SUCCESS  ┆ wordnet_cp_ ┆ … ┆ 0.127704  ┆ 17        ┆ 0.648061  ┆ 0.023078  │\n",
       "│          ┆          ┆          ┆ big_fx      ┆   ┆           ┆           ┆           ┆           │\n",
       "└──────────┴──────────┴──────────┴─────────────┴───┴───────────┴───────────┴───────────┴───────────┘"
      ]
     },
     "execution_count": 15,
     "metadata": {},
     "output_type": "execute_result"
    }
   ],
   "source": [
    "df"
   ]
  },
  {
   "cell_type": "code",
   "execution_count": 19,
   "metadata": {},
   "outputs": [],
   "source": [
    "res_list = []\n",
    "for log in run_log_path.glob(\"*.log\"):\n",
    "    res_list.append(pl.read_csv(log, has_header=False))\n",
    "df = pl.concat(res_list)\n",
    "df.columns = select_col"
   ]
  },
  {
   "cell_type": "code",
   "execution_count": 35,
   "metadata": {},
   "outputs": [
    {
     "name": "stderr",
     "output_type": "stream",
     "text": [
      "/storage/workspace/tmp/ipykernel_45000/3963502133.py:1: DeprecationWarning: In a future version of polars, the default `aggregate_function` will change from `'first'` to `None`. Please pass `'first'` to keep the current behaviour, or `None` to accept the new one.\n",
      "  df.melt(\n"
     ]
    },
    {
     "data": {
      "text/html": [
       "<div><style>\n",
       ".dataframe > thead > tr > th,\n",
       ".dataframe > tbody > tr > td {\n",
       "  text-align: right;\n",
       "}\n",
       "</style>\n",
       "<small>shape: (10, 8)</small><table border=\"1\" class=\"dataframe\"><thead><tr><th>aggregation</th><th>candidate_table</th><th>company-employees-depleted-yadl</th><th>us-accidents-depleted-yadl</th><th>us-elections-depleted-yadl</th><th>movies-depleted-yadl</th><th>false</th><th>true</th></tr><tr><td>str</td><td>str</td><td>f64</td><td>f64</td><td>f64</td><td>f64</td><td>f64</td><td>f64</td></tr></thead><tbody><tr><td>&quot;nojoin&quot;</td><td>null</td><td>-0.000024</td><td>-0.000169</td><td>-0.111779</td><td>-0.000042</td><td>-0.000024</td><td>-0.001873</td></tr><tr><td>&quot;first&quot;</td><td>&quot;best_candidate…</td><td>0.074354</td><td>0.052913</td><td>-0.095415</td><td>0.111207</td><td>0.074354</td><td>0.085006</td></tr><tr><td>&quot;first&quot;</td><td>&quot;full&quot;</td><td>0.087065</td><td>0.083409</td><td>-0.074772</td><td>0.169049</td><td>0.087065</td><td>0.118944</td></tr><tr><td>&quot;first&quot;</td><td>&quot;sampled&quot;</td><td>0.096506</td><td>0.054076</td><td>-0.077119</td><td>0.116351</td><td>0.096506</td><td>0.118139</td></tr><tr><td>&quot;mean&quot;</td><td>&quot;best_candidate…</td><td>0.043244</td><td>0.042167</td><td>-0.120517</td><td>0.111111</td><td>0.043244</td><td>0.062876</td></tr><tr><td>&quot;mean&quot;</td><td>&quot;full&quot;</td><td>0.093171</td><td>0.075113</td><td>-0.090683</td><td>0.184514</td><td>0.093171</td><td>0.0987</td></tr><tr><td>&quot;mean&quot;</td><td>&quot;sampled&quot;</td><td>0.087317</td><td>0.069005</td><td>-0.089624</td><td>0.114693</td><td>0.087317</td><td>0.092193</td></tr><tr><td>&quot;dfs&quot;</td><td>&quot;best_candidate…</td><td>0.081682</td><td>0.101114</td><td>-0.084129</td><td>0.129022</td><td>0.081682</td><td>0.043631</td></tr><tr><td>&quot;dfs&quot;</td><td>&quot;full&quot;</td><td>null</td><td>null</td><td>null</td><td>null</td><td>null</td><td>null</td></tr><tr><td>&quot;dfs&quot;</td><td>&quot;sampled&quot;</td><td>null</td><td>null</td><td>null</td><td>null</td><td>null</td><td>null</td></tr></tbody></table></div>"
      ],
      "text/plain": [
       "shape: (10, 8)\n",
       "┌───────────┬────────────┬────────────┬────────────┬────────────┬────────────┬───────────┬───────────┐\n",
       "│ aggregati ┆ candidate_ ┆ company-em ┆ us-acciden ┆ us-electio ┆ movies-dep ┆ false     ┆ true      │\n",
       "│ on        ┆ table      ┆ ployees-de ┆ ts-deplete ┆ ns-deplete ┆ leted-yadl ┆ ---       ┆ ---       │\n",
       "│ ---       ┆ ---        ┆ pleted-yad ┆ d-yadl     ┆ d-yadl     ┆ ---        ┆ f64       ┆ f64       │\n",
       "│ str       ┆ str        ┆ l          ┆ ---        ┆ ---        ┆ f64        ┆           ┆           │\n",
       "│           ┆            ┆ ---        ┆ f64        ┆ f64        ┆            ┆           ┆           │\n",
       "│           ┆            ┆ f64        ┆            ┆            ┆            ┆           ┆           │\n",
       "╞═══════════╪════════════╪════════════╪════════════╪════════════╪════════════╪═══════════╪═══════════╡\n",
       "│ nojoin    ┆ null       ┆ -0.000024  ┆ -0.000169  ┆ -0.111779  ┆ -0.000042  ┆ -0.000024 ┆ -0.001873 │\n",
       "│ first     ┆ best_candi ┆ 0.074354   ┆ 0.052913   ┆ -0.095415  ┆ 0.111207   ┆ 0.074354  ┆ 0.085006  │\n",
       "│           ┆ date       ┆            ┆            ┆            ┆            ┆           ┆           │\n",
       "│ first     ┆ full       ┆ 0.087065   ┆ 0.083409   ┆ -0.074772  ┆ 0.169049   ┆ 0.087065  ┆ 0.118944  │\n",
       "│ first     ┆ sampled    ┆ 0.096506   ┆ 0.054076   ┆ -0.077119  ┆ 0.116351   ┆ 0.096506  ┆ 0.118139  │\n",
       "│ …         ┆ …          ┆ …          ┆ …          ┆ …          ┆ …          ┆ …         ┆ …         │\n",
       "│ mean      ┆ sampled    ┆ 0.087317   ┆ 0.069005   ┆ -0.089624  ┆ 0.114693   ┆ 0.087317  ┆ 0.092193  │\n",
       "│ dfs       ┆ best_candi ┆ 0.081682   ┆ 0.101114   ┆ -0.084129  ┆ 0.129022   ┆ 0.081682  ┆ 0.043631  │\n",
       "│           ┆ date       ┆            ┆            ┆            ┆            ┆           ┆           │\n",
       "│ dfs       ┆ full       ┆ null       ┆ null       ┆ null       ┆ null       ┆ null      ┆ null      │\n",
       "│ dfs       ┆ sampled    ┆ null       ┆ null       ┆ null       ┆ null       ┆ null      ┆ null      │\n",
       "└───────────┴────────────┴────────────┴────────────┴────────────┴────────────┴───────────┴───────────┘"
      ]
     },
     "execution_count": 35,
     "metadata": {},
     "output_type": "execute_result"
    }
   ],
   "source": [
    "df.melt(\n",
    "    id_vars=[\"base_table\", \"candidate_table\", \"aggregation\", \"model_selection\"],\n",
    "    value_vars=[\"r2score\"],\n",
    ").pivot(\n",
    "    values=\"value\",\n",
    "    index=[\n",
    "        \"aggregation\",\n",
    "        \"candidate_table\",\n",
    "    ],\n",
    "    columns=[\"base_table\", \"model_selection\"],\n",
    ")"
   ]
  },
  {
   "cell_type": "code",
   "execution_count": 38,
   "metadata": {},
   "outputs": [
    {
     "data": {
      "text/html": [
       "<div>\n",
       "<style scoped>\n",
       "    .dataframe tbody tr th:only-of-type {\n",
       "        vertical-align: middle;\n",
       "    }\n",
       "\n",
       "    .dataframe tbody tr th {\n",
       "        vertical-align: top;\n",
       "    }\n",
       "\n",
       "    .dataframe thead tr th {\n",
       "        text-align: left;\n",
       "    }\n",
       "\n",
       "    .dataframe thead tr:last-of-type th {\n",
       "        text-align: right;\n",
       "    }\n",
       "</style>\n",
       "<table border=\"1\" class=\"dataframe\">\n",
       "  <thead>\n",
       "    <tr>\n",
       "      <th></th>\n",
       "      <th>base_table</th>\n",
       "      <th colspan=\"2\" halign=\"left\">company-employees-depleted-yadl</th>\n",
       "      <th colspan=\"2\" halign=\"left\">movies-depleted-yadl</th>\n",
       "      <th colspan=\"2\" halign=\"left\">us-accidents-depleted-yadl</th>\n",
       "      <th colspan=\"2\" halign=\"left\">us-elections-depleted-yadl</th>\n",
       "    </tr>\n",
       "    <tr>\n",
       "      <th></th>\n",
       "      <th>model_selection</th>\n",
       "      <th>False</th>\n",
       "      <th>True</th>\n",
       "      <th>False</th>\n",
       "      <th>True</th>\n",
       "      <th>False</th>\n",
       "      <th>True</th>\n",
       "      <th>False</th>\n",
       "      <th>True</th>\n",
       "    </tr>\n",
       "    <tr>\n",
       "      <th>aggregation</th>\n",
       "      <th>candidate_table</th>\n",
       "      <th></th>\n",
       "      <th></th>\n",
       "      <th></th>\n",
       "      <th></th>\n",
       "      <th></th>\n",
       "      <th></th>\n",
       "      <th></th>\n",
       "      <th></th>\n",
       "    </tr>\n",
       "  </thead>\n",
       "  <tbody>\n",
       "    <tr>\n",
       "      <th>dfs</th>\n",
       "      <th>best_candidate</th>\n",
       "      <td>0.077413</td>\n",
       "      <td>0.054971</td>\n",
       "      <td>0.112039</td>\n",
       "      <td>0.112523</td>\n",
       "      <td>0.109862</td>\n",
       "      <td>0.110262</td>\n",
       "      <td>-0.100367</td>\n",
       "      <td>-0.105385</td>\n",
       "    </tr>\n",
       "    <tr>\n",
       "      <th rowspan=\"3\" valign=\"top\">first</th>\n",
       "      <th>best_candidate</th>\n",
       "      <td>0.068050</td>\n",
       "      <td>0.070109</td>\n",
       "      <td>0.106434</td>\n",
       "      <td>0.108186</td>\n",
       "      <td>0.055957</td>\n",
       "      <td>0.058346</td>\n",
       "      <td>-0.103965</td>\n",
       "      <td>-0.112274</td>\n",
       "    </tr>\n",
       "    <tr>\n",
       "      <th>full</th>\n",
       "      <td>0.098632</td>\n",
       "      <td>0.098328</td>\n",
       "      <td>0.168466</td>\n",
       "      <td>0.166207</td>\n",
       "      <td>0.102533</td>\n",
       "      <td>0.102959</td>\n",
       "      <td>-0.077780</td>\n",
       "      <td>-0.101167</td>\n",
       "    </tr>\n",
       "    <tr>\n",
       "      <th>sampled</th>\n",
       "      <td>0.094359</td>\n",
       "      <td>0.095977</td>\n",
       "      <td>0.111305</td>\n",
       "      <td>0.111256</td>\n",
       "      <td>0.055698</td>\n",
       "      <td>0.058600</td>\n",
       "      <td>-0.085178</td>\n",
       "      <td>-0.107489</td>\n",
       "    </tr>\n",
       "    <tr>\n",
       "      <th rowspan=\"3\" valign=\"top\">mean</th>\n",
       "      <th>best_candidate</th>\n",
       "      <td>0.082756</td>\n",
       "      <td>0.066254</td>\n",
       "      <td>0.101053</td>\n",
       "      <td>0.102452</td>\n",
       "      <td>0.054868</td>\n",
       "      <td>0.052773</td>\n",
       "      <td>-0.107146</td>\n",
       "      <td>-0.102950</td>\n",
       "    </tr>\n",
       "    <tr>\n",
       "      <th>full</th>\n",
       "      <td>0.105516</td>\n",
       "      <td>0.094724</td>\n",
       "      <td>0.169057</td>\n",
       "      <td>0.164918</td>\n",
       "      <td>0.101439</td>\n",
       "      <td>0.105154</td>\n",
       "      <td>-0.083225</td>\n",
       "      <td>-0.097210</td>\n",
       "    </tr>\n",
       "    <tr>\n",
       "      <th>sampled</th>\n",
       "      <td>0.103174</td>\n",
       "      <td>0.085656</td>\n",
       "      <td>0.103110</td>\n",
       "      <td>0.112454</td>\n",
       "      <td>0.081608</td>\n",
       "      <td>0.065972</td>\n",
       "      <td>-0.090647</td>\n",
       "      <td>-0.097424</td>\n",
       "    </tr>\n",
       "  </tbody>\n",
       "</table>\n",
       "</div>"
      ],
      "text/plain": [
       "base_table                  company-employees-depleted-yadl            \\\n",
       "model_selection                                       False     True    \n",
       "aggregation candidate_table                                             \n",
       "dfs         best_candidate                         0.077413  0.054971   \n",
       "first       best_candidate                         0.068050  0.070109   \n",
       "            full                                   0.098632  0.098328   \n",
       "            sampled                                0.094359  0.095977   \n",
       "mean        best_candidate                         0.082756  0.066254   \n",
       "            full                                   0.105516  0.094724   \n",
       "            sampled                                0.103174  0.085656   \n",
       "\n",
       "base_table                  movies-depleted-yadl            \\\n",
       "model_selection                            False     True    \n",
       "aggregation candidate_table                                  \n",
       "dfs         best_candidate              0.112039  0.112523   \n",
       "first       best_candidate              0.106434  0.108186   \n",
       "            full                        0.168466  0.166207   \n",
       "            sampled                     0.111305  0.111256   \n",
       "mean        best_candidate              0.101053  0.102452   \n",
       "            full                        0.169057  0.164918   \n",
       "            sampled                     0.103110  0.112454   \n",
       "\n",
       "base_table                  us-accidents-depleted-yadl            \\\n",
       "model_selection                                  False     True    \n",
       "aggregation candidate_table                                        \n",
       "dfs         best_candidate                    0.109862  0.110262   \n",
       "first       best_candidate                    0.055957  0.058346   \n",
       "            full                              0.102533  0.102959   \n",
       "            sampled                           0.055698  0.058600   \n",
       "mean        best_candidate                    0.054868  0.052773   \n",
       "            full                              0.101439  0.105154   \n",
       "            sampled                           0.081608  0.065972   \n",
       "\n",
       "base_table                  us-elections-depleted-yadl            \n",
       "model_selection                                  False     True   \n",
       "aggregation candidate_table                                       \n",
       "dfs         best_candidate                   -0.100367 -0.105385  \n",
       "first       best_candidate                   -0.103965 -0.112274  \n",
       "            full                             -0.077780 -0.101167  \n",
       "            sampled                          -0.085178 -0.107489  \n",
       "mean        best_candidate                   -0.107146 -0.102950  \n",
       "            full                             -0.083225 -0.097210  \n",
       "            sampled                          -0.090647 -0.097424  "
      ]
     },
     "execution_count": 38,
     "metadata": {},
     "output_type": "execute_result"
    }
   ],
   "source": [
    "dfp = df.melt(\n",
    "    id_vars=[\"base_table\", \"candidate_table\", \"aggregation\", \"model_selection\"],\n",
    "    value_vars=[\"r2score\"],\n",
    ").to_pandas()\n",
    "pd.pivot_table(\n",
    "    dfp,\n",
    "    values=\"value\",\n",
    "    index=[\n",
    "        \"aggregation\",\n",
    "        \"candidate_table\",\n",
    "    ],\n",
    "    columns=[\"base_table\", \"model_selection\"],\n",
    ")"
   ]
  },
  {
   "attachments": {},
   "cell_type": "markdown",
   "metadata": {},
   "source": [
    "# Compare Binary and Wordnet variants"
   ]
  },
  {
   "cell_type": "code",
   "execution_count": 12,
   "metadata": {},
   "outputs": [],
   "source": [
    "df1 = pl.read_csv(\"results/logs/po2v44mk/run_logs/0.log\")\n",
    "select_col = [\n",
    "    \"scenario_id\",\n",
    "    \"run_id\",\n",
    "    \"status\",\n",
    "    \"yadl_version\",\n",
    "    \"git_hash\",\n",
    "    \"index_name\",\n",
    "    \"base_table\",\n",
    "    \"candidate_table\",\n",
    "    \"iterations\",\n",
    "    \"join_strategy\",\n",
    "    \"aggregation\",\n",
    "    \"feature_selection\",\n",
    "    \"model_selection\",\n",
    "    \"fold_id\",\n",
    "    \"time_train\",\n",
    "    \"time_eval\",\n",
    "    \"time_join\",\n",
    "    \"time_eval_join\",\n",
    "    \"n_cols\",\n",
    "    \"rmse\",\n",
    "    \"r2score\",\n",
    "]\n",
    "df2 = pl.read_csv(\"results/logs/po2v44mk/run_logs/12.log\")"
   ]
  },
  {
   "cell_type": "code",
   "execution_count": 15,
   "metadata": {},
   "outputs": [],
   "source": [
    "r = (pl.concat([df1, df2])).to_pandas()"
   ]
  },
  {
   "cell_type": "code",
   "execution_count": 17,
   "metadata": {},
   "outputs": [
    {
     "data": {
      "text/plain": [
       "<Axes: xlabel='aggregation', ylabel='r2score'>"
      ]
     },
     "execution_count": 17,
     "metadata": {},
     "output_type": "execute_result"
    },
    {
     "data": {
      "image/png": "[encoded data removed]",
      "text/plain": [
       "<Figure size 640x480 with 1 Axes>"
      ]
     },
     "metadata": {},
     "output_type": "display_data"
    }
   ],
   "source": [
    "sns.barplot(data=r, x=\"aggregation\", y=\"r2score\", hue=\"model_selection\")"
   ]
  },
  {
   "cell_type": "code",
   "execution_count": 44,
   "metadata": {},
   "outputs": [
    {
     "data": {
      "text/html": [
       "<div><style>\n",
       ".dataframe > thead > tr > th,\n",
       ".dataframe > tbody > tr > td {\n",
       "  text-align: right;\n",
       "}\n",
       "</style>\n",
       "<small>shape: (20, 4)</small><table border=\"1\" class=\"dataframe\"><thead><tr><th>base_table</th><th>candidate_table</th><th>model_selection</th><th>r2score</th></tr><tr><td>str</td><td>str</td><td>bool</td><td>f64</td></tr></thead><tbody><tr><td>&quot;company-employ…</td><td>&quot;full&quot;</td><td>true</td><td>0.113237</td></tr><tr><td>&quot;company-employ…</td><td>&quot;sampled&quot;</td><td>true</td><td>0.110103</td></tr><tr><td>&quot;company-employ…</td><td>&quot;best_candidate…</td><td>true</td><td>0.078681</td></tr><tr><td>&quot;company-employ…</td><td>&quot;full&quot;</td><td>false</td><td>0.053378</td></tr><tr><td>&quot;company-employ…</td><td>&quot;best_candidate…</td><td>false</td><td>0.050377</td></tr><tr><td>&quot;company-employ…</td><td>&quot;sampled&quot;</td><td>false</td><td>0.036874</td></tr><tr><td>&quot;company-employ…</td><td>null</td><td>false</td><td>-0.000676</td></tr><tr><td>&quot;company-employ…</td><td>null</td><td>true</td><td>-0.001151</td></tr><tr><td>&quot;movies-deplete…</td><td>&quot;full&quot;</td><td>false</td><td>0.136641</td></tr><tr><td>&quot;movies-deplete…</td><td>&quot;sampled&quot;</td><td>false</td><td>0.128081</td></tr><tr><td>&quot;movies-deplete…</td><td>&quot;best_candidate…</td><td>false</td><td>0.094961</td></tr><tr><td>&quot;movies-deplete…</td><td>null</td><td>false</td><td>0.0099</td></tr><tr><td>&quot;us-accidents-d…</td><td>&quot;full&quot;</td><td>true</td><td>0.112151</td></tr><tr><td>&quot;us-accidents-d…</td><td>&quot;sampled&quot;</td><td>true</td><td>0.069713</td></tr><tr><td>&quot;us-accidents-d…</td><td>&quot;best_candidate…</td><td>true</td><td>0.059441</td></tr><tr><td>&quot;us-accidents-d…</td><td>null</td><td>true</td><td>-0.001281</td></tr><tr><td>&quot;us-elections-d…</td><td>&quot;best_candidate…</td><td>false</td><td>0.259315</td></tr><tr><td>&quot;us-elections-d…</td><td>null</td><td>false</td><td>0.246467</td></tr><tr><td>&quot;us-elections-d…</td><td>&quot;full&quot;</td><td>false</td><td>0.226888</td></tr><tr><td>&quot;us-elections-d…</td><td>&quot;sampled&quot;</td><td>false</td><td>0.218496</td></tr></tbody></table></div>"
      ],
      "text/plain": [
       "shape: (20, 4)\n",
       "┌─────────────────────────────────┬─────────────────┬─────────────────┬──────────┐\n",
       "│ base_table                      ┆ candidate_table ┆ model_selection ┆ r2score  │\n",
       "│ ---                             ┆ ---             ┆ ---             ┆ ---      │\n",
       "│ str                             ┆ str             ┆ bool            ┆ f64      │\n",
       "╞═════════════════════════════════╪═════════════════╪═════════════════╪══════════╡\n",
       "│ company-employees-depleted-yadl ┆ full            ┆ true            ┆ 0.113237 │\n",
       "│ company-employees-depleted-yadl ┆ sampled         ┆ true            ┆ 0.110103 │\n",
       "│ company-employees-depleted-yadl ┆ best_candidate  ┆ true            ┆ 0.078681 │\n",
       "│ company-employees-depleted-yadl ┆ full            ┆ false           ┆ 0.053378 │\n",
       "│ …                               ┆ …               ┆ …               ┆ …        │\n",
       "│ us-elections-depleted           ┆ best_candidate  ┆ false           ┆ 0.259315 │\n",
       "│ us-elections-depleted           ┆ null            ┆ false           ┆ 0.246467 │\n",
       "│ us-elections-depleted           ┆ full            ┆ false           ┆ 0.226888 │\n",
       "│ us-elections-depleted           ┆ sampled         ┆ false           ┆ 0.218496 │\n",
       "└─────────────────────────────────┴─────────────────┴─────────────────┴──────────┘"
      ]
     },
     "execution_count": 44,
     "metadata": {},
     "output_type": "execute_result"
    }
   ],
   "source": [
    "df.groupby([\"base_table\", \"candidate_table\", \"model_selection\"]).agg(\n",
    "    pl.mean(\"r2score\")\n",
    ").sort(\"base_table\", \"r2score\", descending=[False, True])"
   ]
  },
  {
   "attachments": {},
   "cell_type": "markdown",
   "metadata": {},
   "source": [
    "# Measure containment, compare with actual performance"
   ]
  },
  {
   "cell_type": "code",
   "execution_count": 7,
   "metadata": {},
   "outputs": [],
   "source": [
    "df = pl.read_csv(\"results/results.log\")"
   ]
  },
  {
   "cell_type": "code",
   "execution_count": 8,
   "metadata": {},
   "outputs": [
    {
     "data": {
      "text/html": [
       "<div><style>\n",
       ".dataframe > thead > tr > th,\n",
       ".dataframe > tbody > tr > td {\n",
       "  text-align: right;\n",
       "}\n",
       "</style>\n",
       "<small>shape: (945, 22)</small><table border=\"1\" class=\"dataframe\"><thead><tr><th>scenario_id</th><th>status</th><th>target_dl</th><th>git_hash</th><th>index_name</th><th>source_table</th><th>candidate_table</th><th>iterations</th><th>join_strategy</th><th>aggregation</th><th>fold_id</th><th>run_start</th><th>run_end</th><th>duration</th><th>join_start</th><th>join_end</th><th>join_duration</th><th>similarity</th><th>size_prejoin</th><th>size_postjoin</th><th>rmse</th><th>r2score</th></tr><tr><td>i64</td><td>str</td><td>str</td><td>str</td><td>str</td><td>str</td><td>str</td><td>i64</td><td>str</td><td>str</td><td>i64</td><td>str</td><td>str</td><td>f64</td><td>str</td><td>str</td><td>str</td><td>i64</td><td>i64</td><td>i64</td><td>f64</td><td>f64</td></tr></thead><tbody><tr><td>40</td><td>&quot;SUCCESS&quot;</td><td>&quot;wordnet&quot;</td><td>&quot;57f426cdf822e8…</td><td>&quot;base_table&quot;</td><td>&quot;presidential-r…</td><td>null</td><td>1000</td><td>&quot;left&quot;</td><td>&quot;none&quot;</td><td>0</td><td>&quot;2023-06-03 00:…</td><td>&quot;2023-06-03 00:…</td><td>9.630954</td><td>null</td><td>null</td><td>null</td><td>null</td><td>null</td><td>null</td><td>0.612838</td><td>0.815007</td></tr><tr><td>40</td><td>&quot;SUCCESS&quot;</td><td>&quot;wordnet&quot;</td><td>&quot;57f426cdf822e8…</td><td>&quot;base_table&quot;</td><td>&quot;presidential-r…</td><td>null</td><td>1000</td><td>&quot;left&quot;</td><td>&quot;none&quot;</td><td>1</td><td>&quot;2023-06-03 00:…</td><td>&quot;2023-06-03 00:…</td><td>9.490498</td><td>null</td><td>null</td><td>null</td><td>null</td><td>null</td><td>null</td><td>0.516433</td><td>0.824124</td></tr><tr><td>40</td><td>&quot;SUCCESS&quot;</td><td>&quot;wordnet&quot;</td><td>&quot;57f426cdf822e8…</td><td>&quot;base_table&quot;</td><td>&quot;presidential-r…</td><td>null</td><td>1000</td><td>&quot;left&quot;</td><td>&quot;none&quot;</td><td>2</td><td>&quot;2023-06-03 00:…</td><td>&quot;2023-06-03 00:…</td><td>9.63213</td><td>null</td><td>null</td><td>null</td><td>null</td><td>null</td><td>null</td><td>0.57913</td><td>0.8038</td></tr><tr><td>40</td><td>&quot;SUCCESS&quot;</td><td>&quot;wordnet&quot;</td><td>&quot;57f426cdf822e8…</td><td>&quot;base_table&quot;</td><td>&quot;presidential-r…</td><td>null</td><td>1000</td><td>&quot;left&quot;</td><td>&quot;none&quot;</td><td>3</td><td>&quot;2023-06-03 00:…</td><td>&quot;2023-06-03 00:…</td><td>9.580429</td><td>null</td><td>null</td><td>null</td><td>null</td><td>null</td><td>null</td><td>0.786311</td><td>0.705055</td></tr><tr><td>40</td><td>&quot;SUCCESS&quot;</td><td>&quot;wordnet&quot;</td><td>&quot;57f426cdf822e8…</td><td>&quot;base_table&quot;</td><td>&quot;presidential-r…</td><td>null</td><td>1000</td><td>&quot;left&quot;</td><td>&quot;none&quot;</td><td>4</td><td>&quot;2023-06-03 00:…</td><td>&quot;2023-06-03 00:…</td><td>9.617486</td><td>null</td><td>null</td><td>null</td><td>null</td><td>null</td><td>null</td><td>0.776477</td><td>0.695001</td></tr><tr><td>40</td><td>&quot;SUCCESS&quot;</td><td>&quot;wordnet&quot;</td><td>&quot;57f426cdf822e8…</td><td>&quot;minhash&quot;</td><td>&quot;presidential-r…</td><td>&quot;/storage/store…</td><td>1000</td><td>&quot;left&quot;</td><td>&quot;none&quot;</td><td>0</td><td>&quot;2023-06-03 00:…</td><td>&quot;2023-06-03 00:…</td><td>10.567645</td><td>&quot;2023-06-03 00:…</td><td>&quot;2023-06-03 00:…</td><td>null</td><td>10</td><td>22084</td><td>22128</td><td>0.649208</td><td>0.793548</td></tr><tr><td>40</td><td>&quot;SUCCESS&quot;</td><td>&quot;wordnet&quot;</td><td>&quot;57f426cdf822e8…</td><td>&quot;minhash&quot;</td><td>&quot;presidential-r…</td><td>&quot;/storage/store…</td><td>1000</td><td>&quot;left&quot;</td><td>&quot;none&quot;</td><td>1</td><td>&quot;2023-06-03 00:…</td><td>&quot;2023-06-03 00:…</td><td>10.539022</td><td>&quot;2023-06-03 00:…</td><td>&quot;2023-06-03 00:…</td><td>null</td><td>10</td><td>22084</td><td>22128</td><td>0.453567</td><td>0.864248</td></tr><tr><td>40</td><td>&quot;SUCCESS&quot;</td><td>&quot;wordnet&quot;</td><td>&quot;57f426cdf822e8…</td><td>&quot;minhash&quot;</td><td>&quot;presidential-r…</td><td>&quot;/storage/store…</td><td>1000</td><td>&quot;left&quot;</td><td>&quot;none&quot;</td><td>2</td><td>&quot;2023-06-03 00:…</td><td>&quot;2023-06-03 00:…</td><td>10.506578</td><td>&quot;2023-06-03 00:…</td><td>&quot;2023-06-03 00:…</td><td>null</td><td>10</td><td>22084</td><td>22128</td><td>0.455016</td><td>0.87938</td></tr><tr><td>40</td><td>&quot;SUCCESS&quot;</td><td>&quot;wordnet&quot;</td><td>&quot;57f426cdf822e8…</td><td>&quot;minhash&quot;</td><td>&quot;presidential-r…</td><td>&quot;/storage/store…</td><td>1000</td><td>&quot;left&quot;</td><td>&quot;none&quot;</td><td>3</td><td>&quot;2023-06-03 00:…</td><td>&quot;2023-06-03 00:…</td><td>10.513206</td><td>&quot;2023-06-03 00:…</td><td>&quot;2023-06-03 00:…</td><td>null</td><td>10</td><td>22084</td><td>22128</td><td>0.823458</td><td>0.676603</td></tr><tr><td>40</td><td>&quot;SUCCESS&quot;</td><td>&quot;wordnet&quot;</td><td>&quot;57f426cdf822e8…</td><td>&quot;minhash&quot;</td><td>&quot;presidential-r…</td><td>&quot;/storage/store…</td><td>1000</td><td>&quot;left&quot;</td><td>&quot;none&quot;</td><td>4</td><td>&quot;2023-06-03 00:…</td><td>&quot;2023-06-03 00:…</td><td>10.570341</td><td>&quot;2023-06-03 00:…</td><td>&quot;2023-06-03 00:…</td><td>null</td><td>10</td><td>22084</td><td>22128</td><td>0.892168</td><td>0.597242</td></tr><tr><td>40</td><td>&quot;SUCCESS&quot;</td><td>&quot;wordnet&quot;</td><td>&quot;57f426cdf822e8…</td><td>&quot;minhash&quot;</td><td>&quot;presidential-r…</td><td>&quot;/storage/store…</td><td>1000</td><td>&quot;left&quot;</td><td>&quot;none&quot;</td><td>0</td><td>&quot;2023-06-03 00:…</td><td>&quot;2023-06-03 00:…</td><td>10.562621</td><td>&quot;2023-06-03 00:…</td><td>&quot;2023-06-03 00:…</td><td>null</td><td>10</td><td>22084</td><td>22104</td><td>0.673391</td><td>0.777149</td></tr><tr><td>40</td><td>&quot;SUCCESS&quot;</td><td>&quot;wordnet&quot;</td><td>&quot;57f426cdf822e8…</td><td>&quot;minhash&quot;</td><td>&quot;presidential-r…</td><td>&quot;/storage/store…</td><td>1000</td><td>&quot;left&quot;</td><td>&quot;none&quot;</td><td>1</td><td>&quot;2023-06-03 00:…</td><td>&quot;2023-06-03 00:…</td><td>10.448812</td><td>&quot;2023-06-03 00:…</td><td>&quot;2023-06-03 00:…</td><td>null</td><td>10</td><td>22084</td><td>22104</td><td>0.417941</td><td>0.884774</td></tr><tr><td>&hellip;</td><td>&hellip;</td><td>&hellip;</td><td>&hellip;</td><td>&hellip;</td><td>&hellip;</td><td>&hellip;</td><td>&hellip;</td><td>&hellip;</td><td>&hellip;</td><td>&hellip;</td><td>&hellip;</td><td>&hellip;</td><td>&hellip;</td><td>&hellip;</td><td>&hellip;</td><td>&hellip;</td><td>&hellip;</td><td>&hellip;</td><td>&hellip;</td><td>&hellip;</td><td>&hellip;</td></tr><tr><td>48</td><td>&quot;SUCCESS&quot;</td><td>&quot;wordnet&quot;</td><td>&quot;57f426cdf822e8…</td><td>&quot;minhash&quot;</td><td>&quot;movies-prepare…</td><td>&quot;/storage/store…</td><td>1000</td><td>&quot;left&quot;</td><td>&quot;dfs&quot;</td><td>3</td><td>&quot;2023-06-03 03:…</td><td>&quot;2023-06-03 03:…</td><td>8.947986</td><td>&quot;2023-06-03 03:…</td><td>&quot;2023-06-03 03:…</td><td>null</td><td>20</td><td>3853</td><td>3794</td><td>0.778754</td><td>0.621676</td></tr><tr><td>48</td><td>&quot;SUCCESS&quot;</td><td>&quot;wordnet&quot;</td><td>&quot;57f426cdf822e8…</td><td>&quot;minhash&quot;</td><td>&quot;movies-prepare…</td><td>&quot;/storage/store…</td><td>1000</td><td>&quot;left&quot;</td><td>&quot;dfs&quot;</td><td>4</td><td>&quot;2023-06-03 03:…</td><td>&quot;2023-06-03 03:…</td><td>9.224597</td><td>&quot;2023-06-03 03:…</td><td>&quot;2023-06-03 03:…</td><td>null</td><td>20</td><td>3853</td><td>3794</td><td>0.81358</td><td>0.618698</td></tr><tr><td>48</td><td>&quot;SUCCESS&quot;</td><td>&quot;wordnet&quot;</td><td>&quot;57f426cdf822e8…</td><td>&quot;minhash&quot;</td><td>&quot;movies-prepare…</td><td>&quot;/storage/store…</td><td>1000</td><td>&quot;left&quot;</td><td>&quot;dfs&quot;</td><td>0</td><td>&quot;2023-06-03 03:…</td><td>&quot;2023-06-03 03:…</td><td>8.562522</td><td>&quot;2023-06-03 03:…</td><td>&quot;2023-06-03 03:…</td><td>null</td><td>20</td><td>3853</td><td>3794</td><td>0.706801</td><td>0.630383</td></tr><tr><td>48</td><td>&quot;SUCCESS&quot;</td><td>&quot;wordnet&quot;</td><td>&quot;57f426cdf822e8…</td><td>&quot;minhash&quot;</td><td>&quot;movies-prepare…</td><td>&quot;/storage/store…</td><td>1000</td><td>&quot;left&quot;</td><td>&quot;dfs&quot;</td><td>1</td><td>&quot;2023-06-03 03:…</td><td>&quot;2023-06-03 03:…</td><td>8.462343</td><td>&quot;2023-06-03 03:…</td><td>&quot;2023-06-03 03:…</td><td>null</td><td>20</td><td>3853</td><td>3794</td><td>0.718731</td><td>0.67915</td></tr><tr><td>48</td><td>&quot;SUCCESS&quot;</td><td>&quot;wordnet&quot;</td><td>&quot;57f426cdf822e8…</td><td>&quot;minhash&quot;</td><td>&quot;movies-prepare…</td><td>&quot;/storage/store…</td><td>1000</td><td>&quot;left&quot;</td><td>&quot;dfs&quot;</td><td>2</td><td>&quot;2023-06-03 03:…</td><td>&quot;2023-06-03 03:…</td><td>8.574807</td><td>&quot;2023-06-03 03:…</td><td>&quot;2023-06-03 03:…</td><td>null</td><td>20</td><td>3853</td><td>3794</td><td>0.808647</td><td>0.608287</td></tr><tr><td>48</td><td>&quot;SUCCESS&quot;</td><td>&quot;wordnet&quot;</td><td>&quot;57f426cdf822e8…</td><td>&quot;minhash&quot;</td><td>&quot;movies-prepare…</td><td>&quot;/storage/store…</td><td>1000</td><td>&quot;left&quot;</td><td>&quot;dfs&quot;</td><td>3</td><td>&quot;2023-06-03 03:…</td><td>&quot;2023-06-03 03:…</td><td>8.540836</td><td>&quot;2023-06-03 03:…</td><td>&quot;2023-06-03 03:…</td><td>null</td><td>20</td><td>3853</td><td>3794</td><td>0.874652</td><td>0.586196</td></tr><tr><td>48</td><td>&quot;SUCCESS&quot;</td><td>&quot;wordnet&quot;</td><td>&quot;57f426cdf822e8…</td><td>&quot;minhash&quot;</td><td>&quot;movies-prepare…</td><td>&quot;/storage/store…</td><td>1000</td><td>&quot;left&quot;</td><td>&quot;dfs&quot;</td><td>4</td><td>&quot;2023-06-03 03:…</td><td>&quot;2023-06-03 03:…</td><td>8.414988</td><td>&quot;2023-06-03 03:…</td><td>&quot;2023-06-03 03:…</td><td>null</td><td>20</td><td>3853</td><td>3794</td><td>0.728707</td><td>0.653243</td></tr><tr><td>48</td><td>&quot;SUCCESS&quot;</td><td>&quot;wordnet&quot;</td><td>&quot;57f426cdf822e8…</td><td>&quot;minhash&quot;</td><td>&quot;movies-prepare…</td><td>&quot;/storage/store…</td><td>1000</td><td>&quot;left&quot;</td><td>&quot;dfs&quot;</td><td>0</td><td>&quot;2023-06-03 03:…</td><td>&quot;2023-06-03 03:…</td><td>7.809995</td><td>&quot;2023-06-03 03:…</td><td>&quot;2023-06-03 03:…</td><td>null</td><td>20</td><td>3853</td><td>3794</td><td>0.782638</td><td>0.621126</td></tr><tr><td>48</td><td>&quot;SUCCESS&quot;</td><td>&quot;wordnet&quot;</td><td>&quot;57f426cdf822e8…</td><td>&quot;minhash&quot;</td><td>&quot;movies-prepare…</td><td>&quot;/storage/store…</td><td>1000</td><td>&quot;left&quot;</td><td>&quot;dfs&quot;</td><td>1</td><td>&quot;2023-06-03 03:…</td><td>&quot;2023-06-03 03:…</td><td>7.715319</td><td>&quot;2023-06-03 03:…</td><td>&quot;2023-06-03 03:…</td><td>null</td><td>20</td><td>3853</td><td>3794</td><td>0.858231</td><td>0.597033</td></tr><tr><td>48</td><td>&quot;SUCCESS&quot;</td><td>&quot;wordnet&quot;</td><td>&quot;57f426cdf822e8…</td><td>&quot;minhash&quot;</td><td>&quot;movies-prepare…</td><td>&quot;/storage/store…</td><td>1000</td><td>&quot;left&quot;</td><td>&quot;dfs&quot;</td><td>2</td><td>&quot;2023-06-03 03:…</td><td>&quot;2023-06-03 03:…</td><td>7.64357</td><td>&quot;2023-06-03 03:…</td><td>&quot;2023-06-03 03:…</td><td>null</td><td>20</td><td>3853</td><td>3794</td><td>0.720187</td><td>0.60356</td></tr><tr><td>48</td><td>&quot;SUCCESS&quot;</td><td>&quot;wordnet&quot;</td><td>&quot;57f426cdf822e8…</td><td>&quot;minhash&quot;</td><td>&quot;movies-prepare…</td><td>&quot;/storage/store…</td><td>1000</td><td>&quot;left&quot;</td><td>&quot;dfs&quot;</td><td>3</td><td>&quot;2023-06-03 03:…</td><td>&quot;2023-06-03 03:…</td><td>7.597186</td><td>&quot;2023-06-03 03:…</td><td>&quot;2023-06-03 03:…</td><td>null</td><td>20</td><td>3853</td><td>3794</td><td>0.719143</td><td>0.675411</td></tr><tr><td>48</td><td>&quot;SUCCESS&quot;</td><td>&quot;wordnet&quot;</td><td>&quot;57f426cdf822e8…</td><td>&quot;minhash&quot;</td><td>&quot;movies-prepare…</td><td>&quot;/storage/store…</td><td>1000</td><td>&quot;left&quot;</td><td>&quot;dfs&quot;</td><td>4</td><td>&quot;2023-06-03 03:…</td><td>&quot;2023-06-03 03:…</td><td>7.750642</td><td>&quot;2023-06-03 03:…</td><td>&quot;2023-06-03 03:…</td><td>null</td><td>20</td><td>3853</td><td>3794</td><td>0.760115</td><td>0.654235</td></tr></tbody></table></div>"
      ],
      "text/plain": [
       "shape: (945, 22)\n",
       "┌───────────┬─────────┬───────────┬────────────┬───┬────────────┬────────────┬──────────┬──────────┐\n",
       "│ scenario_ ┆ status  ┆ target_dl ┆ git_hash   ┆ … ┆ size_prejo ┆ size_postj ┆ rmse     ┆ r2score  │\n",
       "│ id        ┆ ---     ┆ ---       ┆ ---        ┆   ┆ in         ┆ oin        ┆ ---      ┆ ---      │\n",
       "│ ---       ┆ str     ┆ str       ┆ str        ┆   ┆ ---        ┆ ---        ┆ f64      ┆ f64      │\n",
       "│ i64       ┆         ┆           ┆            ┆   ┆ i64        ┆ i64        ┆          ┆          │\n",
       "╞═══════════╪═════════╪═══════════╪════════════╪═══╪════════════╪════════════╪══════════╪══════════╡\n",
       "│ 40        ┆ SUCCESS ┆ wordnet   ┆ 57f426cdf8 ┆ … ┆ null       ┆ null       ┆ 0.612838 ┆ 0.815007 │\n",
       "│           ┆         ┆           ┆ 22e862b8be ┆   ┆            ┆            ┆          ┆          │\n",
       "│           ┆         ┆           ┆ c5f3bfac01 ┆   ┆            ┆            ┆          ┆          │\n",
       "│           ┆         ┆           ┆ 8f…        ┆   ┆            ┆            ┆          ┆          │\n",
       "│ 40        ┆ SUCCESS ┆ wordnet   ┆ 57f426cdf8 ┆ … ┆ null       ┆ null       ┆ 0.516433 ┆ 0.824124 │\n",
       "│           ┆         ┆           ┆ 22e862b8be ┆   ┆            ┆            ┆          ┆          │\n",
       "│           ┆         ┆           ┆ c5f3bfac01 ┆   ┆            ┆            ┆          ┆          │\n",
       "│           ┆         ┆           ┆ 8f…        ┆   ┆            ┆            ┆          ┆          │\n",
       "│ 40        ┆ SUCCESS ┆ wordnet   ┆ 57f426cdf8 ┆ … ┆ null       ┆ null       ┆ 0.57913  ┆ 0.8038   │\n",
       "│           ┆         ┆           ┆ 22e862b8be ┆   ┆            ┆            ┆          ┆          │\n",
       "│           ┆         ┆           ┆ c5f3bfac01 ┆   ┆            ┆            ┆          ┆          │\n",
       "│           ┆         ┆           ┆ 8f…        ┆   ┆            ┆            ┆          ┆          │\n",
       "│ 40        ┆ SUCCESS ┆ wordnet   ┆ 57f426cdf8 ┆ … ┆ null       ┆ null       ┆ 0.786311 ┆ 0.705055 │\n",
       "│           ┆         ┆           ┆ 22e862b8be ┆   ┆            ┆            ┆          ┆          │\n",
       "│           ┆         ┆           ┆ c5f3bfac01 ┆   ┆            ┆            ┆          ┆          │\n",
       "│           ┆         ┆           ┆ 8f…        ┆   ┆            ┆            ┆          ┆          │\n",
       "│ …         ┆ …       ┆ …         ┆ …          ┆ … ┆ …          ┆ …          ┆ …        ┆ …        │\n",
       "│ 48        ┆ SUCCESS ┆ wordnet   ┆ 57f426cdf8 ┆ … ┆ 3853       ┆ 3794       ┆ 0.858231 ┆ 0.597033 │\n",
       "│           ┆         ┆           ┆ 22e862b8be ┆   ┆            ┆            ┆          ┆          │\n",
       "│           ┆         ┆           ┆ c5f3bfac01 ┆   ┆            ┆            ┆          ┆          │\n",
       "│           ┆         ┆           ┆ 8f…        ┆   ┆            ┆            ┆          ┆          │\n",
       "│ 48        ┆ SUCCESS ┆ wordnet   ┆ 57f426cdf8 ┆ … ┆ 3853       ┆ 3794       ┆ 0.720187 ┆ 0.60356  │\n",
       "│           ┆         ┆           ┆ 22e862b8be ┆   ┆            ┆            ┆          ┆          │\n",
       "│           ┆         ┆           ┆ c5f3bfac01 ┆   ┆            ┆            ┆          ┆          │\n",
       "│           ┆         ┆           ┆ 8f…        ┆   ┆            ┆            ┆          ┆          │\n",
       "│ 48        ┆ SUCCESS ┆ wordnet   ┆ 57f426cdf8 ┆ … ┆ 3853       ┆ 3794       ┆ 0.719143 ┆ 0.675411 │\n",
       "│           ┆         ┆           ┆ 22e862b8be ┆   ┆            ┆            ┆          ┆          │\n",
       "│           ┆         ┆           ┆ c5f3bfac01 ┆   ┆            ┆            ┆          ┆          │\n",
       "│           ┆         ┆           ┆ 8f…        ┆   ┆            ┆            ┆          ┆          │\n",
       "│ 48        ┆ SUCCESS ┆ wordnet   ┆ 57f426cdf8 ┆ … ┆ 3853       ┆ 3794       ┆ 0.760115 ┆ 0.654235 │\n",
       "│           ┆         ┆           ┆ 22e862b8be ┆   ┆            ┆            ┆          ┆          │\n",
       "│           ┆         ┆           ┆ c5f3bfac01 ┆   ┆            ┆            ┆          ┆          │\n",
       "│           ┆         ┆           ┆ 8f…        ┆   ┆            ┆            ┆          ┆          │\n",
       "└───────────┴─────────┴───────────┴────────────┴───┴────────────┴────────────┴──────────┴──────────┘"
      ]
     },
     "execution_count": 8,
     "metadata": {},
     "output_type": "execute_result"
    }
   ],
   "source": [
    "df"
   ]
  },
  {
   "cell_type": "code",
   "execution_count": 9,
   "metadata": {},
   "outputs": [],
   "source": [
    "base_tables = {}\n",
    "for md in Path(\"data/metadata/queries\").glob(\"*.json\"):\n",
    "    md_dict = json.load(open(md, \"r\"))\n",
    "    base_tables[md_dict[\"df_name\"]] = md_dict[\"full_path\"]"
   ]
  },
  {
   "cell_type": "code",
   "execution_count": 10,
   "metadata": {},
   "outputs": [
    {
     "data": {
      "text/plain": [
       "{'full_path': '/storage/store/work/rcappuzz/ken_datasets/the-movies-dataset/movies-prepared.parquet',\n",
       " 'hash': '310b7e82655f2beaba69e8b482d43b65',\n",
       " 'df_name': 'movies-prepared',\n",
       " 'source_dl': 'queries',\n",
       " 'license': '',\n",
       " 'path_metadata': '/storage/store/work/rcappuzz/metadata/queries/310b7e82655f2beaba69e8b482d43b65.json'}"
      ]
     },
     "execution_count": 10,
     "metadata": {},
     "output_type": "execute_result"
    }
   ],
   "source": [
    "md_dict"
   ]
  },
  {
   "cell_type": "code",
   "execution_count": 11,
   "metadata": {},
   "outputs": [],
   "source": [
    "subset = (\n",
    "    df.select(\n",
    "        pl.col(\"source_table\"),\n",
    "        pl.col(\"candidate_table\"),\n",
    "        pl.col(\"similarity\"),\n",
    "        pl.col(\"rmse\"),\n",
    "        pl.col(\"r2score\"),\n",
    "    )\n",
    "    .unique([\"source_table\", \"candidate_table\"])\n",
    "    .with_columns(pl.col(\"source_table\").map_dict(base_tables))\n",
    ")"
   ]
  },
  {
   "cell_type": "code",
   "execution_count": 12,
   "metadata": {},
   "outputs": [],
   "source": [
    "path_candidates = Path(\"generated_candidates_company-employees-prepared.pickle\")\n",
    "c_full = pickle.load(open(path_candidates, \"rb\"))\n",
    "candidates = c_full[\"minhash\"]"
   ]
  },
  {
   "cell_type": "code",
   "execution_count": 13,
   "metadata": {},
   "outputs": [],
   "source": [
    "list_dict = []\n",
    "for c, cand in candidates.items():\n",
    "    src_md = cand.source_metadata\n",
    "    cand_md = cand.candidate_metadata\n",
    "    left_on = cand.left_on\n",
    "    right_on = cand.right_on\n",
    "    source_table = pl.read_parquet(src_md[\"full_path\"])\n",
    "    candidate_table = pl.read_parquet(cand_md[\"full_path\"])\n",
    "    containment = jp.measure_containment(\n",
    "        source_table, candidate_table, left_on, right_on\n",
    "    )\n",
    "    c_dict = {\n",
    "        \"source_table\": src_md[\"full_path\"],\n",
    "        \"candidate_table\": cand_md[\"full_path\"],\n",
    "        \"similarity\": cand.similarity_score,\n",
    "        \"containment\": containment,\n",
    "    }\n",
    "    list_dict.append(c_dict)"
   ]
  },
  {
   "cell_type": "code",
   "execution_count": 14,
   "metadata": {},
   "outputs": [],
   "source": [
    "stat_containment = pl.from_dicts(list_dict)"
   ]
  },
  {
   "cell_type": "code",
   "execution_count": 15,
   "metadata": {},
   "outputs": [],
   "source": [
    "joined = stat_containment.join(subset, on=[\"source_table\", \"candidate_table\"])"
   ]
  },
  {
   "cell_type": "code",
   "execution_count": 16,
   "metadata": {},
   "outputs": [
    {
     "data": {
      "text/html": [
       "<div><style>\n",
       ".dataframe > thead > tr > th,\n",
       ".dataframe > tbody > tr > td {\n",
       "  text-align: right;\n",
       "}\n",
       "</style>\n",
       "<small>shape: (20, 7)</small><table border=\"1\" class=\"dataframe\"><thead><tr><th>source_table</th><th>candidate_table</th><th>similarity</th><th>containment</th><th>similarity_right</th><th>rmse</th><th>r2score</th></tr><tr><td>str</td><td>str</td><td>i64</td><td>f64</td><td>i64</td><td>f64</td><td>f64</td></tr></thead><tbody><tr><td>&quot;/storage/store…</td><td>&quot;/storage/store…</td><td>20</td><td>0.128505</td><td>20</td><td>1.088063</td><td>-47.635989</td></tr><tr><td>&quot;/storage/store…</td><td>&quot;/storage/store…</td><td>20</td><td>0.003338</td><td>20</td><td>0.58127</td><td>-2.620841</td></tr><tr><td>&quot;/storage/store…</td><td>&quot;/storage/store…</td><td>20</td><td>0.199599</td><td>20</td><td>0.5574</td><td>-2.45069</td></tr><tr><td>&quot;/storage/store…</td><td>&quot;/storage/store…</td><td>20</td><td>0.001669</td><td>20</td><td>0.208535</td><td>0.725245</td></tr><tr><td>&quot;/storage/store…</td><td>&quot;/storage/store…</td><td>20</td><td>0.002003</td><td>20</td><td>0.629346</td><td>-3.197312</td></tr><tr><td>&quot;/storage/store…</td><td>&quot;/storage/store…</td><td>20</td><td>0.036048</td><td>20</td><td>0.580891</td><td>-2.603119</td></tr><tr><td>&quot;/storage/store…</td><td>&quot;/storage/store…</td><td>20</td><td>0.20761</td><td>20</td><td>0.59079</td><td>-2.639365</td></tr><tr><td>&quot;/storage/store…</td><td>&quot;/storage/store…</td><td>20</td><td>0.223965</td><td>20</td><td>0.779501</td><td>-5.5104</td></tr><tr><td>&quot;/storage/store…</td><td>&quot;/storage/store…</td><td>20</td><td>0.003004</td><td>20</td><td>0.587007</td><td>-2.678805</td></tr><tr><td>&quot;/storage/store…</td><td>&quot;/storage/store…</td><td>20</td><td>0.253004</td><td>20</td><td>0.711811</td><td>-3.405894</td></tr><tr><td>&quot;/storage/store…</td><td>&quot;/storage/store…</td><td>20</td><td>0.002003</td><td>20</td><td>0.634034</td><td>-3.260072</td></tr><tr><td>&quot;/storage/store…</td><td>&quot;/storage/store…</td><td>20</td><td>0.002336</td><td>20</td><td>0.623952</td><td>-3.117849</td></tr><tr><td>&quot;/storage/store…</td><td>&quot;/storage/store…</td><td>20</td><td>0.002336</td><td>20</td><td>0.60089</td><td>-2.832106</td></tr><tr><td>&quot;/storage/store…</td><td>&quot;/storage/store…</td><td>20</td><td>0.002336</td><td>20</td><td>0.176338</td><td>0.765889</td></tr><tr><td>&quot;/storage/store…</td><td>&quot;/storage/store…</td><td>20</td><td>0.191923</td><td>20</td><td>0.563776</td><td>-2.404578</td></tr><tr><td>&quot;/storage/store…</td><td>&quot;/storage/store…</td><td>20</td><td>0.221629</td><td>20</td><td>0.575563</td><td>-2.537334</td></tr><tr><td>&quot;/storage/store…</td><td>&quot;/storage/store…</td><td>20</td><td>0.223298</td><td>20</td><td>0.807236</td><td>-4.762858</td></tr><tr><td>&quot;/storage/store…</td><td>&quot;/storage/store…</td><td>20</td><td>0.001335</td><td>20</td><td>0.583696</td><td>-2.631923</td></tr><tr><td>&quot;/storage/store…</td><td>&quot;/storage/store…</td><td>20</td><td>0.074766</td><td>20</td><td>0.33193</td><td>-3.797537</td></tr><tr><td>&quot;/storage/store…</td><td>&quot;/storage/store…</td><td>20</td><td>0.12984</td><td>20</td><td>0.48675</td><td>-1.804182</td></tr></tbody></table></div>"
      ],
      "text/plain": [
       "shape: (20, 7)\n",
       "┌───────────────┬───────────────┬────────────┬─────────────┬───────────────┬──────────┬────────────┐\n",
       "│ source_table  ┆ candidate_tab ┆ similarity ┆ containment ┆ similarity_ri ┆ rmse     ┆ r2score    │\n",
       "│ ---           ┆ le            ┆ ---        ┆ ---         ┆ ght           ┆ ---      ┆ ---        │\n",
       "│ str           ┆ ---           ┆ i64        ┆ f64         ┆ ---           ┆ f64      ┆ f64        │\n",
       "│               ┆ str           ┆            ┆             ┆ i64           ┆          ┆            │\n",
       "╞═══════════════╪═══════════════╪════════════╪═════════════╪═══════════════╪══════════╪════════════╡\n",
       "│ /storage/stor ┆ /storage/stor ┆ 20         ┆ 0.128505    ┆ 20            ┆ 1.088063 ┆ -47.635989 │\n",
       "│ e/work/rcappu ┆ e/work/rcappu ┆            ┆             ┆               ┆          ┆            │\n",
       "│ zz/ken…       ┆ zz/yag…       ┆            ┆             ┆               ┆          ┆            │\n",
       "│ /storage/stor ┆ /storage/stor ┆ 20         ┆ 0.003338    ┆ 20            ┆ 0.58127  ┆ -2.620841  │\n",
       "│ e/work/rcappu ┆ e/work/rcappu ┆            ┆             ┆               ┆          ┆            │\n",
       "│ zz/ken…       ┆ zz/yag…       ┆            ┆             ┆               ┆          ┆            │\n",
       "│ /storage/stor ┆ /storage/stor ┆ 20         ┆ 0.199599    ┆ 20            ┆ 0.5574   ┆ -2.45069   │\n",
       "│ e/work/rcappu ┆ e/work/rcappu ┆            ┆             ┆               ┆          ┆            │\n",
       "│ zz/ken…       ┆ zz/yag…       ┆            ┆             ┆               ┆          ┆            │\n",
       "│ /storage/stor ┆ /storage/stor ┆ 20         ┆ 0.001669    ┆ 20            ┆ 0.208535 ┆ 0.725245   │\n",
       "│ e/work/rcappu ┆ e/work/rcappu ┆            ┆             ┆               ┆          ┆            │\n",
       "│ zz/ken…       ┆ zz/yag…       ┆            ┆             ┆               ┆          ┆            │\n",
       "│ …             ┆ …             ┆ …          ┆ …           ┆ …             ┆ …        ┆ …          │\n",
       "│ /storage/stor ┆ /storage/stor ┆ 20         ┆ 0.223298    ┆ 20            ┆ 0.807236 ┆ -4.762858  │\n",
       "│ e/work/rcappu ┆ e/work/rcappu ┆            ┆             ┆               ┆          ┆            │\n",
       "│ zz/ken…       ┆ zz/yag…       ┆            ┆             ┆               ┆          ┆            │\n",
       "│ /storage/stor ┆ /storage/stor ┆ 20         ┆ 0.001335    ┆ 20            ┆ 0.583696 ┆ -2.631923  │\n",
       "│ e/work/rcappu ┆ e/work/rcappu ┆            ┆             ┆               ┆          ┆            │\n",
       "│ zz/ken…       ┆ zz/yag…       ┆            ┆             ┆               ┆          ┆            │\n",
       "│ /storage/stor ┆ /storage/stor ┆ 20         ┆ 0.074766    ┆ 20            ┆ 0.33193  ┆ -3.797537  │\n",
       "│ e/work/rcappu ┆ e/work/rcappu ┆            ┆             ┆               ┆          ┆            │\n",
       "│ zz/ken…       ┆ zz/yag…       ┆            ┆             ┆               ┆          ┆            │\n",
       "│ /storage/stor ┆ /storage/stor ┆ 20         ┆ 0.12984     ┆ 20            ┆ 0.48675  ┆ -1.804182  │\n",
       "│ e/work/rcappu ┆ e/work/rcappu ┆            ┆             ┆               ┆          ┆            │\n",
       "│ zz/ken…       ┆ zz/yag…       ┆            ┆             ┆               ┆          ┆            │\n",
       "└───────────────┴───────────────┴────────────┴─────────────┴───────────────┴──────────┴────────────┘"
      ]
     },
     "execution_count": 16,
     "metadata": {},
     "output_type": "execute_result"
    }
   ],
   "source": [
    "joined"
   ]
  },
  {
   "cell_type": "code",
   "execution_count": 17,
   "metadata": {},
   "outputs": [],
   "source": [
    "cont_rmse = joined.select(pl.col(\"containment\"), pl.col(\"rmse\")).to_pandas()"
   ]
  },
  {
   "cell_type": "code",
   "execution_count": 18,
   "metadata": {},
   "outputs": [
    {
     "data": {
      "text/plain": [
       "<Axes: xlabel='containment', ylabel='rmse'>"
      ]
     },
     "execution_count": 18,
     "metadata": {},
     "output_type": "execute_result"
    },
    {
     "data": {
      "image/png": "[encoded data removed]",
      "text/plain": [
       "<Figure size 640x480 with 1 Axes>"
      ]
     },
     "metadata": {},
     "output_type": "display_data"
    }
   ],
   "source": [
    "sns.scatterplot(data=cont_rmse, x=\"containment\", y=\"rmse\")"
   ]
  },
  {
   "attachments": {},
   "cell_type": "markdown",
   "metadata": {},
   "source": [
    "# Scenario timers"
   ]
  },
  {
   "cell_type": "code",
   "execution_count": 254,
   "metadata": {},
   "outputs": [],
   "source": [
    "df_scn = pl.read_csv(\"results/scenario_logger.log\", has_header=False)\n",
    "df_scn.columns = \"scenario_id,git_hash,source_table,iterations,join_strategy,aggregation,target_dl,k_fold,n_candidates,start_process,end_process,start_load_index,end_load_index,start_querying,end_querying,start_evaluation,end_evaluation\".split(\n",
    "    \",\"\n",
    ")"
   ]
  },
  {
   "cell_type": "code",
   "execution_count": 255,
   "metadata": {},
   "outputs": [],
   "source": [
    "timer_columns = [\n",
    "    col\n",
    "    for col in df_scn.columns\n",
    "    if (col.startswith(\"start_\") or col.startswith(\"end_\"))\n",
    "]"
   ]
  },
  {
   "cell_type": "code",
   "execution_count": 256,
   "metadata": {},
   "outputs": [],
   "source": [
    "df_scn = df_scn.with_columns(pl.col(timer_columns).str.to_datetime())"
   ]
  },
  {
   "cell_type": "code",
   "execution_count": 257,
   "metadata": {},
   "outputs": [
    {
     "data": {
      "text/plain": [
       "['start_process',\n",
       " 'end_process',\n",
       " 'start_load_index',\n",
       " 'end_load_index',\n",
       " 'start_querying',\n",
       " 'end_querying',\n",
       " 'start_evaluation',\n",
       " 'end_evaluation']"
      ]
     },
     "execution_count": 257,
     "metadata": {},
     "output_type": "execute_result"
    }
   ],
   "source": [
    "timer_columns"
   ]
  },
  {
   "cell_type": "code",
   "execution_count": 258,
   "metadata": {},
   "outputs": [],
   "source": [
    "df_scn = df_scn.with_columns(\n",
    "    (pl.col(\"end_process\") - pl.col(\"start_process\")).alias(\"duration_process\"),\n",
    "    (pl.col(\"end_load_index\") - pl.col(\"start_load_index\")).alias(\n",
    "        \"duration_load_index\"\n",
    "    ),\n",
    "    (pl.col(\"end_querying\") - pl.col(\"start_querying\")).alias(\"duration_querying\"),\n",
    "    (pl.col(\"end_evaluation\") - pl.col(\"start_evaluation\")).alias(\n",
    "        \"duration_evaluation\"\n",
    "    ),\n",
    ")"
   ]
  },
  {
   "cell_type": "code",
   "execution_count": 259,
   "metadata": {},
   "outputs": [],
   "source": [
    "r_scn1 = (\n",
    "    df_scn.filter(pl.col(\"iterations\") == 500)\n",
    "    .sort([\"target_dl\", \"source_table\"])\n",
    "    .filter(\n",
    "        ~pl.col(\"source_table\").is_in(\n",
    "            [\"us-accidents-prepared\", \"presidential-results-prepared\"]\n",
    "        )\n",
    "    )\n",
    "    .select(\n",
    "        pl.col(\"scenario_id\"),\n",
    "        pl.col(\"source_table\"),\n",
    "        pl.col(\"join_strategy\"),\n",
    "        pl.col(\"aggregation\"),\n",
    "        pl.col(\"iterations\"),\n",
    "        pl.col(\"n_candidates\"),\n",
    "        pl.col([col for col in df_scn.columns if col.startswith(\"duration\")]),\n",
    "    )\n",
    ")"
   ]
  },
  {
   "cell_type": "code",
   "execution_count": 260,
   "metadata": {},
   "outputs": [
    {
     "data": {
      "text/html": [
       "<div><style>\n",
       ".dataframe > thead > tr > th,\n",
       ".dataframe > tbody > tr > td {\n",
       "  text-align: right;\n",
       "}\n",
       "</style>\n",
       "<small>shape: (25, 10)</small><table border=\"1\" class=\"dataframe\"><thead><tr><th>scenario_id</th><th>source_table</th><th>join_strategy</th><th>aggregation</th><th>iterations</th><th>n_candidates</th><th>duration_process</th><th>duration_load_index</th><th>duration_querying</th><th>duration_evaluation</th></tr><tr><td>i64</td><td>str</td><td>str</td><td>str</td><td>i64</td><td>i64</td><td>duration[μs]</td><td>duration[μs]</td><td>duration[μs]</td><td>duration[μs]</td></tr></thead><tbody><tr><td>180</td><td>&quot;company-employ…</td><td>&quot;left&quot;</td><td>&quot;none&quot;</td><td>500</td><td>6</td><td>11m 42s 146908µs</td><td>271488µs</td><td>128210µs</td><td>11m 41s 723023µs</td></tr><tr><td>182</td><td>&quot;company-employ…</td><td>&quot;left&quot;</td><td>&quot;dedup&quot;</td><td>500</td><td>6</td><td>7m 9s 52256µs</td><td>238435µs</td><td>71863µs</td><td>7m 8s 732214µs</td></tr><tr><td>183</td><td>&quot;company-employ…</td><td>&quot;left&quot;</td><td>&quot;dfs&quot;</td><td>500</td><td>6</td><td>5m 35s 104059µs</td><td>256503µs</td><td>68622µs</td><td>5m 34s 770953µs</td></tr><tr><td>184</td><td>&quot;movies-prepare…</td><td>&quot;left&quot;</td><td>&quot;none&quot;</td><td>500</td><td>8</td><td>8m 33s 636300µs</td><td>200648µs</td><td>126259µs</td><td>8m 33s 301165µs</td></tr><tr><td>185</td><td>&quot;movies-prepare…</td><td>&quot;left&quot;</td><td>&quot;dedup&quot;</td><td>500</td><td>8</td><td>11m 41s 666856µs</td><td>256760µs</td><td>72613µs</td><td>11m 41s 330215µs</td></tr><tr><td>186</td><td>&quot;movies-prepare…</td><td>&quot;left&quot;</td><td>&quot;dfs&quot;</td><td>500</td><td>8</td><td>10m 7s 234226µs</td><td>187238µs</td><td>76148µs</td><td>10m 6s 961668µs</td></tr><tr><td>195</td><td>&quot;presidential-r…</td><td>&quot;left&quot;</td><td>&quot;dedup&quot;</td><td>500</td><td>4</td><td>10m 18s 129056µs</td><td>219889µs</td><td>90336µs</td><td>10m 17s 811373µs</td></tr><tr><td>197</td><td>&quot;presidential-r…</td><td>&quot;left&quot;</td><td>&quot;dfs&quot;</td><td>500</td><td>4</td><td>6m 25s 752577µs</td><td>321985µs</td><td>122619µs</td><td>6m 25s 299648µs</td></tr><tr><td>207</td><td>&quot;presidential-r…</td><td>&quot;left&quot;</td><td>&quot;none&quot;</td><td>500</td><td>4</td><td>4m 8s 843434µs</td><td>209452µs</td><td>88168µs</td><td>4m 8s 538216µs</td></tr><tr><td>202</td><td>&quot;us-accidents-p…</td><td>&quot;left&quot;</td><td>&quot;none&quot;</td><td>500</td><td>10</td><td>9m 35s 454103µs</td><td>187051µs</td><td>94129µs</td><td>9m 35s 163975µs</td></tr><tr><td>203</td><td>&quot;us-accidents-p…</td><td>&quot;left&quot;</td><td>&quot;dedup&quot;</td><td>500</td><td>10</td><td>14m 18s 317303µs</td><td>196606µs</td><td>94184µs</td><td>14m 18s 18552µs</td></tr><tr><td>204</td><td>&quot;us-accidents-p…</td><td>&quot;left&quot;</td><td>&quot;dfs&quot;</td><td>500</td><td>10</td><td>12m 24s 52041µs</td><td>191645µs</td><td>91300µs</td><td>12m 23s 760900µs</td></tr><tr><td>171</td><td>&quot;company-employ…</td><td>&quot;left&quot;</td><td>&quot;none&quot;</td><td>500</td><td>50</td><td>32m 14s 796021µs</td><td>9s 579817µs</td><td>91089µs</td><td>32m 5s 103490µs</td></tr><tr><td>172</td><td>&quot;company-employ…</td><td>&quot;left&quot;</td><td>&quot;dedup&quot;</td><td>500</td><td>50</td><td>41m 34s 582947µs</td><td>9s 575038µs</td><td>87532µs</td><td>41m 24s 897368µs</td></tr><tr><td>173</td><td>&quot;company-employ…</td><td>&quot;left&quot;</td><td>&quot;dfs&quot;</td><td>500</td><td>50</td><td>35m 11s 72214µs</td><td>9s 403545µs</td><td>89306µs</td><td>35m 1s 556522µs</td></tr><tr><td>175</td><td>&quot;movies-prepare…</td><td>&quot;left&quot;</td><td>&quot;dedup&quot;</td><td>500</td><td>23</td><td>25m 23s 627060µs</td><td>9s 579281µs</td><td>71742µs</td><td>25m 13s 956394µs</td></tr><tr><td>176</td><td>&quot;movies-prepare…</td><td>&quot;left&quot;</td><td>&quot;dfs&quot;</td><td>500</td><td>23</td><td>23m 35s 721900µs</td><td>9s 684723µs</td><td>82287µs</td><td>23m 25s 932413µs</td></tr><tr><td>206</td><td>&quot;movies-prepare…</td><td>&quot;left&quot;</td><td>&quot;none&quot;</td><td>500</td><td>23</td><td>19m 2s 951924µs</td><td>9s 791539µs</td><td>96821µs</td><td>18m 53s 44336µs</td></tr><tr><td>198</td><td>&quot;presidential-r…</td><td>&quot;left&quot;</td><td>&quot;none&quot;</td><td>500</td><td>50</td><td>1h 37s 448697µs</td><td>9s 964025µs</td><td>85407µs</td><td>1h 27s 367077µs</td></tr><tr><td>200</td><td>&quot;presidential-r…</td><td>&quot;left&quot;</td><td>&quot;dedup&quot;</td><td>500</td><td>50</td><td>2h 12m 10s 169247µs</td><td>9s 449072µs</td><td>86928µs</td><td>2h 12m 609620µs</td></tr><tr><td>201</td><td>&quot;presidential-r…</td><td>&quot;left&quot;</td><td>&quot;dfs&quot;</td><td>500</td><td>50</td><td>1h 10m 25s 269734µs</td><td>9s 655693µs</td><td>86407µs</td><td>1h 10m 15s 506629µs</td></tr><tr><td>190</td><td>&quot;us-accidents-p…</td><td>&quot;left&quot;</td><td>&quot;none&quot;</td><td>500</td><td>50</td><td>50m 40s 80338µs</td><td>10s 212965µs</td><td>95099µs</td><td>50m 29s 685385µs</td></tr><tr><td>199</td><td>&quot;us-accidents-p…</td><td>&quot;left&quot;</td><td>&quot;dfs&quot;</td><td>500</td><td>50</td><td>55m 1s 473562µs</td><td>10s 49761µs</td><td>93087µs</td><td>54m 51s 305766µs</td></tr><tr><td>213</td><td>&quot;us-accidents-p…</td><td>&quot;left&quot;</td><td>&quot;dedup&quot;</td><td>500</td><td>50</td><td>1h 37s 84724µs</td><td>9s 357490µs</td><td>170560µs</td><td>1h 27s 533488µs</td></tr><tr><td>212</td><td>&quot;us-accidents-p…</td><td>&quot;left&quot;</td><td>&quot;dedup&quot;</td><td>500</td><td>50</td><td>1h 2m 47s 559196µs</td><td>9s 535709µs</td><td>115898µs</td><td>1h 2m 37s 886460µs</td></tr></tbody></table></div>"
      ],
      "text/plain": [
       "shape: (25, 10)\n",
       "┌───────────┬────────────┬────────────┬───────────┬───┬────────────┬────────────┬────────────┬────────────┐\n",
       "│ scenario_ ┆ source_tab ┆ join_strat ┆ aggregati ┆ … ┆ duration_p ┆ duration_l ┆ duration_q ┆ duration_e │\n",
       "│ id        ┆ le         ┆ egy        ┆ on        ┆   ┆ rocess     ┆ oad_index  ┆ uerying    ┆ valuation  │\n",
       "│ ---       ┆ ---        ┆ ---        ┆ ---       ┆   ┆ ---        ┆ ---        ┆ ---        ┆ ---        │\n",
       "│ i64       ┆ str        ┆ str        ┆ str       ┆   ┆ duration[μ ┆ duration[μ ┆ duration[μ ┆ duration[μ │\n",
       "│           ┆            ┆            ┆           ┆   ┆ s]         ┆ s]         ┆ s]         ┆ s]         │\n",
       "╞═══════════╪════════════╪════════════╪═══════════╪═══╪════════════╪════════════╪════════════╪════════════╡\n",
       "│ 180       ┆ company-em ┆ left       ┆ none      ┆ … ┆ 11m 42s    ┆ 271488µs   ┆ 128210µs   ┆ 11m 41s    │\n",
       "│           ┆ ployees-pr ┆            ┆           ┆   ┆ 146908µs   ┆            ┆            ┆ 723023µs   │\n",
       "│           ┆ epared     ┆            ┆           ┆   ┆            ┆            ┆            ┆            │\n",
       "│ 182       ┆ company-em ┆ left       ┆ dedup     ┆ … ┆ 7m 9s      ┆ 238435µs   ┆ 71863µs    ┆ 7m 8s      │\n",
       "│           ┆ ployees-pr ┆            ┆           ┆   ┆ 52256µs    ┆            ┆            ┆ 732214µs   │\n",
       "│           ┆ epared     ┆            ┆           ┆   ┆            ┆            ┆            ┆            │\n",
       "│ 183       ┆ company-em ┆ left       ┆ dfs       ┆ … ┆ 5m 35s     ┆ 256503µs   ┆ 68622µs    ┆ 5m 34s     │\n",
       "│           ┆ ployees-pr ┆            ┆           ┆   ┆ 104059µs   ┆            ┆            ┆ 770953µs   │\n",
       "│           ┆ epared     ┆            ┆           ┆   ┆            ┆            ┆            ┆            │\n",
       "│ 184       ┆ movies-pre ┆ left       ┆ none      ┆ … ┆ 8m 33s     ┆ 200648µs   ┆ 126259µs   ┆ 8m 33s     │\n",
       "│           ┆ pared      ┆            ┆           ┆   ┆ 636300µs   ┆            ┆            ┆ 301165µs   │\n",
       "│ …         ┆ …          ┆ …          ┆ …         ┆ … ┆ …          ┆ …          ┆ …          ┆ …          │\n",
       "│ 190       ┆ us-acciden ┆ left       ┆ none      ┆ … ┆ 50m 40s    ┆ 10s        ┆ 95099µs    ┆ 50m 29s    │\n",
       "│           ┆ ts-prepare ┆            ┆           ┆   ┆ 80338µs    ┆ 212965µs   ┆            ┆ 685385µs   │\n",
       "│           ┆ d-new      ┆            ┆           ┆   ┆            ┆            ┆            ┆            │\n",
       "│ 199       ┆ us-acciden ┆ left       ┆ dfs       ┆ … ┆ 55m 1s     ┆ 10s        ┆ 93087µs    ┆ 54m 51s    │\n",
       "│           ┆ ts-prepare ┆            ┆           ┆   ┆ 473562µs   ┆ 49761µs    ┆            ┆ 305766µs   │\n",
       "│           ┆ d-new      ┆            ┆           ┆   ┆            ┆            ┆            ┆            │\n",
       "│ 213       ┆ us-acciden ┆ left       ┆ dedup     ┆ … ┆ 1h 37s     ┆ 9s         ┆ 170560µs   ┆ 1h 27s     │\n",
       "│           ┆ ts-prepare ┆            ┆           ┆   ┆ 84724µs    ┆ 357490µs   ┆            ┆ 533488µs   │\n",
       "│           ┆ d-new      ┆            ┆           ┆   ┆            ┆            ┆            ┆            │\n",
       "│ 212       ┆ us-acciden ┆ left       ┆ dedup     ┆ … ┆ 1h 2m 47s  ┆ 9s         ┆ 115898µs   ┆ 1h 2m 37s  │\n",
       "│           ┆ ts-prepare ┆            ┆           ┆   ┆ 559196µs   ┆ 535709µs   ┆            ┆ 886460µs   │\n",
       "│           ┆ d-new      ┆            ┆           ┆   ┆            ┆            ┆            ┆            │\n",
       "└───────────┴────────────┴────────────┴───────────┴───┴────────────┴────────────┴────────────┴────────────┘"
      ]
     },
     "execution_count": 260,
     "metadata": {},
     "output_type": "execute_result"
    }
   ],
   "source": [
    "r_scn1"
   ]
  },
  {
   "cell_type": "code",
   "execution_count": 261,
   "metadata": {},
   "outputs": [
    {
     "ename": "ColumnNotFoundError",
     "evalue": "target_dl",
     "output_type": "error",
     "traceback": [
      "\u001b[0;31m---------------------------------------------------------------------------\u001b[0m",
      "\u001b[0;31mColumnNotFoundError\u001b[0m                       Traceback (most recent call last)",
      "Cell \u001b[0;32mIn[261], line 1\u001b[0m\n\u001b[0;32m----> 1\u001b[0m r_scn1\u001b[39m.\u001b[39;49mpivot(\n\u001b[1;32m      2\u001b[0m     values\u001b[39m=\u001b[39;49m\u001b[39m\"\u001b[39;49m\u001b[39mprocess_in_seconds\u001b[39;49m\u001b[39m\"\u001b[39;49m,\n\u001b[1;32m      3\u001b[0m     columns\u001b[39m=\u001b[39;49m\u001b[39m\"\u001b[39;49m\u001b[39msource_table\u001b[39;49m\u001b[39m\"\u001b[39;49m,\n\u001b[1;32m      4\u001b[0m     index\u001b[39m=\u001b[39;49m[\u001b[39m\"\u001b[39;49m\u001b[39mtarget_dl\u001b[39;49m\u001b[39m\"\u001b[39;49m, \u001b[39m\"\u001b[39;49m\u001b[39maggregation\u001b[39;49m\u001b[39m\"\u001b[39;49m],\n\u001b[1;32m      5\u001b[0m     aggregate_function\u001b[39m=\u001b[39;49m\u001b[39m\"\u001b[39;49m\u001b[39mmean\u001b[39;49m\u001b[39m\"\u001b[39;49m\n\u001b[1;32m      6\u001b[0m )\n",
      "File \u001b[0;32m~/mambaforge/envs/bench/lib/python3.10/site-packages/polars/dataframe/frame.py:6226\u001b[0m, in \u001b[0;36mDataFrame.pivot\u001b[0;34m(self, values, index, columns, aggregate_function, maintain_order, sort_columns, separator)\u001b[0m\n\u001b[1;32m   6222\u001b[0m \u001b[39melse\u001b[39;00m:\n\u001b[1;32m   6223\u001b[0m     aggregate_expr \u001b[39m=\u001b[39m aggregate_function\u001b[39m.\u001b[39m_pyexpr\n\u001b[1;32m   6225\u001b[0m \u001b[39mreturn\u001b[39;00m \u001b[39mself\u001b[39m\u001b[39m.\u001b[39m_from_pydf(\n\u001b[0;32m-> 6226\u001b[0m     \u001b[39mself\u001b[39;49m\u001b[39m.\u001b[39;49m_df\u001b[39m.\u001b[39;49mpivot_expr(\n\u001b[1;32m   6227\u001b[0m         values,\n\u001b[1;32m   6228\u001b[0m         index,\n\u001b[1;32m   6229\u001b[0m         columns,\n\u001b[1;32m   6230\u001b[0m         maintain_order,\n\u001b[1;32m   6231\u001b[0m         sort_columns,\n\u001b[1;32m   6232\u001b[0m         aggregate_expr,\n\u001b[1;32m   6233\u001b[0m         separator,\n\u001b[1;32m   6234\u001b[0m     )\n\u001b[1;32m   6235\u001b[0m )\n",
      "\u001b[0;31mColumnNotFoundError\u001b[0m: target_dl"
     ]
    }
   ],
   "source": [
    "r_scn1.pivot(\n",
    "    values=\"process_in_seconds\",\n",
    "    columns=\"source_table\",\n",
    "    index=[\"target_dl\", \"aggregation\"],\n",
    "    aggregate_function=\"mean\",\n",
    ")"
   ]
  },
  {
   "cell_type": "code",
   "execution_count": 262,
   "metadata": {},
   "outputs": [],
   "source": [
    "joined = df_p.join(df_scn, on=\"scenario_id\")"
   ]
  },
  {
   "cell_type": "code",
   "execution_count": 263,
   "metadata": {},
   "outputs": [],
   "source": [
    "rr = (\n",
    "    joined.groupby([\"variant\", \"index\", \"base_table\", \"aggregation\"])\n",
    "    .agg(pl.col(\"avg_train\").mean(), pl.col(\"n_candidates\").mean())\n",
    "    .sort([\"variant\", \"base_table\"])\n",
    "    .with_columns(pl.col(\"avg_train\") * pl.col(\"n_candidates\") * 25)\n",
    "    .filter(\n",
    "        ~pl.col(\"base_table\").is_in(\n",
    "            [\"us-accidents-prepared\", \"presidential-results-prepared\"]\n",
    "        )\n",
    "    )\n",
    ")"
   ]
  },
  {
   "cell_type": "code",
   "execution_count": 264,
   "metadata": {},
   "outputs": [
    {
     "data": {
      "text/html": [
       "<div><style>\n",
       ".dataframe > thead > tr > th,\n",
       ".dataframe > tbody > tr > td {\n",
       "  text-align: right;\n",
       "}\n",
       "</style>\n",
       "<small>shape: (25, 6)</small><table border=\"1\" class=\"dataframe\"><thead><tr><th>variant</th><th>index</th><th>base_table</th><th>aggregation</th><th>avg_train</th><th>n_candidates</th></tr><tr><td>str</td><td>str</td><td>str</td><td>str</td><td>f64</td><td>f64</td></tr></thead><tbody><tr><td>&quot;binary&quot;</td><td>&quot;minhash&quot;</td><td>&quot;company-employ…</td><td>&quot;dedup&quot;</td><td>1358.15931</td><td>6.0</td></tr><tr><td>&quot;binary&quot;</td><td>&quot;minhash&quot;</td><td>&quot;company-employ…</td><td>&quot;none&quot;</td><td>2972.997612</td><td>6.0</td></tr><tr><td>&quot;binary&quot;</td><td>&quot;base_table&quot;</td><td>&quot;company-employ…</td><td>&quot;base_table&quot;</td><td>1612.005162</td><td>6.0</td></tr><tr><td>&quot;binary&quot;</td><td>&quot;minhash&quot;</td><td>&quot;company-employ…</td><td>&quot;dfs&quot;</td><td>1343.992525</td><td>6.0</td></tr><tr><td>&quot;binary&quot;</td><td>&quot;minhash&quot;</td><td>&quot;movies-prepare…</td><td>&quot;dedup&quot;</td><td>2343.1143</td><td>8.0</td></tr><tr><td>&quot;binary&quot;</td><td>&quot;minhash&quot;</td><td>&quot;movies-prepare…</td><td>&quot;none&quot;</td><td>2256.738405</td><td>8.0</td></tr><tr><td>&quot;binary&quot;</td><td>&quot;base_table&quot;</td><td>&quot;movies-prepare…</td><td>&quot;base_table&quot;</td><td>2309.719947</td><td>8.0</td></tr><tr><td>&quot;binary&quot;</td><td>&quot;minhash&quot;</td><td>&quot;movies-prepare…</td><td>&quot;dfs&quot;</td><td>2299.995325</td><td>8.0</td></tr><tr><td>&quot;binary&quot;</td><td>&quot;base_table&quot;</td><td>&quot;presidential-r…</td><td>&quot;base_table&quot;</td><td>853.58158</td><td>4.0</td></tr><tr><td>&quot;binary&quot;</td><td>&quot;minhash&quot;</td><td>&quot;presidential-r…</td><td>&quot;dfs&quot;</td><td>1251.29129</td><td>4.0</td></tr><tr><td>&quot;binary&quot;</td><td>&quot;minhash&quot;</td><td>&quot;presidential-r…</td><td>&quot;dedup&quot;</td><td>1017.467255</td><td>4.0</td></tr><tr><td>&quot;wordnet_big&quot;</td><td>&quot;minhash&quot;</td><td>&quot;company-employ…</td><td>&quot;none&quot;</td><td>9429.09824</td><td>50.0</td></tr><tr><td>&quot;wordnet_big&quot;</td><td>&quot;base_table&quot;</td><td>&quot;company-employ…</td><td>&quot;base_table&quot;</td><td>8073.677167</td><td>50.0</td></tr><tr><td>&quot;wordnet_big&quot;</td><td>&quot;minhash&quot;</td><td>&quot;company-employ…</td><td>&quot;dfs&quot;</td><td>9831.609775</td><td>50.0</td></tr><tr><td>&quot;wordnet_big&quot;</td><td>&quot;minhash&quot;</td><td>&quot;company-employ…</td><td>&quot;dedup&quot;</td><td>9521.23607</td><td>50.0</td></tr><tr><td>&quot;wordnet_big&quot;</td><td>&quot;base_table&quot;</td><td>&quot;movies-prepare…</td><td>&quot;base_table&quot;</td><td>5030.245647</td><td>23.0</td></tr><tr><td>&quot;wordnet_big&quot;</td><td>&quot;minhash&quot;</td><td>&quot;movies-prepare…</td><td>&quot;dfs&quot;</td><td>5610.97507</td><td>23.0</td></tr><tr><td>&quot;wordnet_big&quot;</td><td>&quot;minhash&quot;</td><td>&quot;movies-prepare…</td><td>&quot;dedup&quot;</td><td>5275.9193</td><td>23.0</td></tr><tr><td>&quot;wordnet_big&quot;</td><td>&quot;minhash&quot;</td><td>&quot;presidential-r…</td><td>&quot;dedup&quot;</td><td>17859.05155</td><td>50.0</td></tr><tr><td>&quot;wordnet_big&quot;</td><td>&quot;minhash&quot;</td><td>&quot;presidential-r…</td><td>&quot;dfs&quot;</td><td>19647.7359</td><td>50.0</td></tr><tr><td>&quot;wordnet_big&quot;</td><td>&quot;minhash&quot;</td><td>&quot;presidential-r…</td><td>&quot;none&quot;</td><td>17868.4151</td><td>50.0</td></tr><tr><td>&quot;wordnet_big&quot;</td><td>&quot;base_table&quot;</td><td>&quot;presidential-r…</td><td>&quot;base_table&quot;</td><td>9296.990192</td><td>50.0</td></tr><tr><td>&quot;wordnet_big&quot;</td><td>&quot;minhash&quot;</td><td>&quot;us-accidents-p…</td><td>&quot;none&quot;</td><td>14795.295875</td><td>50.0</td></tr><tr><td>&quot;wordnet_big&quot;</td><td>&quot;minhash&quot;</td><td>&quot;us-accidents-p…</td><td>&quot;dfs&quot;</td><td>14974.485195</td><td>50.0</td></tr><tr><td>&quot;wordnet_big&quot;</td><td>&quot;base_table&quot;</td><td>&quot;us-accidents-p…</td><td>&quot;base_table&quot;</td><td>13403.203625</td><td>50.0</td></tr></tbody></table></div>"
      ],
      "text/plain": [
       "shape: (25, 6)\n",
       "┌─────────────┬────────────┬───────────────────────────┬─────────────┬──────────────┬──────────────┐\n",
       "│ variant     ┆ index      ┆ base_table                ┆ aggregation ┆ avg_train    ┆ n_candidates │\n",
       "│ ---         ┆ ---        ┆ ---                       ┆ ---         ┆ ---          ┆ ---          │\n",
       "│ str         ┆ str        ┆ str                       ┆ str         ┆ f64          ┆ f64          │\n",
       "╞═════════════╪════════════╪═══════════════════════════╪═════════════╪══════════════╪══════════════╡\n",
       "│ binary      ┆ minhash    ┆ company-employees-prepare ┆ dedup       ┆ 1358.15931   ┆ 6.0          │\n",
       "│             ┆            ┆ d                         ┆             ┆              ┆              │\n",
       "│ binary      ┆ minhash    ┆ company-employees-prepare ┆ none        ┆ 2972.997612  ┆ 6.0          │\n",
       "│             ┆            ┆ d                         ┆             ┆              ┆              │\n",
       "│ binary      ┆ base_table ┆ company-employees-prepare ┆ base_table  ┆ 1612.005162  ┆ 6.0          │\n",
       "│             ┆            ┆ d                         ┆             ┆              ┆              │\n",
       "│ binary      ┆ minhash    ┆ company-employees-prepare ┆ dfs         ┆ 1343.992525  ┆ 6.0          │\n",
       "│             ┆            ┆ d                         ┆             ┆              ┆              │\n",
       "│ …           ┆ …          ┆ …                         ┆ …           ┆ …            ┆ …            │\n",
       "│ wordnet_big ┆ base_table ┆ presidential-results-prep ┆ base_table  ┆ 9296.990192  ┆ 50.0         │\n",
       "│             ┆            ┆ ared-ne…                  ┆             ┆              ┆              │\n",
       "│ wordnet_big ┆ minhash    ┆ us-accidents-prepared-new ┆ none        ┆ 14795.295875 ┆ 50.0         │\n",
       "│ wordnet_big ┆ minhash    ┆ us-accidents-prepared-new ┆ dfs         ┆ 14974.485195 ┆ 50.0         │\n",
       "│ wordnet_big ┆ base_table ┆ us-accidents-prepared-new ┆ base_table  ┆ 13403.203625 ┆ 50.0         │\n",
       "└─────────────┴────────────┴───────────────────────────┴─────────────┴──────────────┴──────────────┘"
      ]
     },
     "execution_count": 264,
     "metadata": {},
     "output_type": "execute_result"
    }
   ],
   "source": [
    "rr"
   ]
  },
  {
   "cell_type": "code",
   "execution_count": 265,
   "metadata": {},
   "outputs": [
    {
     "data": {
      "text/html": [
       "<div><style>\n",
       ".dataframe > thead > tr > th,\n",
       ".dataframe > tbody > tr > td {\n",
       "  text-align: right;\n",
       "}\n",
       "</style>\n",
       "<small>shape: (8, 7)</small><table border=\"1\" class=\"dataframe\"><thead><tr><th>variant</th><th>index</th><th>aggregation</th><th>company-employees-prepared</th><th>movies-prepared</th><th>presidential-results-prepared-new</th><th>us-accidents-prepared-new</th></tr><tr><td>str</td><td>str</td><td>str</td><td>f64</td><td>f64</td><td>f64</td><td>f64</td></tr></thead><tbody><tr><td>&quot;binary&quot;</td><td>&quot;minhash&quot;</td><td>&quot;dedup&quot;</td><td>1358.15931</td><td>2343.1143</td><td>1017.467255</td><td>null</td></tr><tr><td>&quot;binary&quot;</td><td>&quot;minhash&quot;</td><td>&quot;none&quot;</td><td>2972.997612</td><td>2256.738405</td><td>null</td><td>null</td></tr><tr><td>&quot;binary&quot;</td><td>&quot;base_table&quot;</td><td>&quot;base_table&quot;</td><td>1612.005162</td><td>2309.719947</td><td>853.58158</td><td>null</td></tr><tr><td>&quot;binary&quot;</td><td>&quot;minhash&quot;</td><td>&quot;dfs&quot;</td><td>1343.992525</td><td>2299.995325</td><td>1251.29129</td><td>null</td></tr><tr><td>&quot;wordnet_big&quot;</td><td>&quot;minhash&quot;</td><td>&quot;none&quot;</td><td>9429.09824</td><td>null</td><td>17868.4151</td><td>14795.295875</td></tr><tr><td>&quot;wordnet_big&quot;</td><td>&quot;base_table&quot;</td><td>&quot;base_table&quot;</td><td>8073.677167</td><td>5030.245647</td><td>9296.990192</td><td>13403.203625</td></tr><tr><td>&quot;wordnet_big&quot;</td><td>&quot;minhash&quot;</td><td>&quot;dfs&quot;</td><td>9831.609775</td><td>5610.97507</td><td>19647.7359</td><td>14974.485195</td></tr><tr><td>&quot;wordnet_big&quot;</td><td>&quot;minhash&quot;</td><td>&quot;dedup&quot;</td><td>9521.23607</td><td>5275.9193</td><td>17859.05155</td><td>null</td></tr></tbody></table></div>"
      ],
      "text/plain": [
       "shape: (8, 7)\n",
       "┌─────────────┬────────────┬─────────────┬────────────┬──────────────┬──────────────┬──────────────┐\n",
       "│ variant     ┆ index      ┆ aggregation ┆ company-em ┆ movies-prepa ┆ presidential ┆ us-accidents │\n",
       "│ ---         ┆ ---        ┆ ---         ┆ ployees-pr ┆ red          ┆ -results-pre ┆ -prepared-ne │\n",
       "│ str         ┆ str        ┆ str         ┆ epared     ┆ ---          ┆ pared-ne…    ┆ w            │\n",
       "│             ┆            ┆             ┆ ---        ┆ f64          ┆ ---          ┆ ---          │\n",
       "│             ┆            ┆             ┆ f64        ┆              ┆ f64          ┆ f64          │\n",
       "╞═════════════╪════════════╪═════════════╪════════════╪══════════════╪══════════════╪══════════════╡\n",
       "│ binary      ┆ minhash    ┆ dedup       ┆ 1358.15931 ┆ 2343.1143    ┆ 1017.467255  ┆ null         │\n",
       "│ binary      ┆ minhash    ┆ none        ┆ 2972.99761 ┆ 2256.738405  ┆ null         ┆ null         │\n",
       "│             ┆            ┆             ┆ 2          ┆              ┆              ┆              │\n",
       "│ binary      ┆ base_table ┆ base_table  ┆ 1612.00516 ┆ 2309.719947  ┆ 853.58158    ┆ null         │\n",
       "│             ┆            ┆             ┆ 2          ┆              ┆              ┆              │\n",
       "│ binary      ┆ minhash    ┆ dfs         ┆ 1343.99252 ┆ 2299.995325  ┆ 1251.29129   ┆ null         │\n",
       "│             ┆            ┆             ┆ 5          ┆              ┆              ┆              │\n",
       "│ wordnet_big ┆ minhash    ┆ none        ┆ 9429.09824 ┆ null         ┆ 17868.4151   ┆ 14795.295875 │\n",
       "│ wordnet_big ┆ base_table ┆ base_table  ┆ 8073.67716 ┆ 5030.245647  ┆ 9296.990192  ┆ 13403.203625 │\n",
       "│             ┆            ┆             ┆ 7          ┆              ┆              ┆              │\n",
       "│ wordnet_big ┆ minhash    ┆ dfs         ┆ 9831.60977 ┆ 5610.97507   ┆ 19647.7359   ┆ 14974.485195 │\n",
       "│             ┆            ┆             ┆ 5          ┆              ┆              ┆              │\n",
       "│ wordnet_big ┆ minhash    ┆ dedup       ┆ 9521.23607 ┆ 5275.9193    ┆ 17859.05155  ┆ null         │\n",
       "└─────────────┴────────────┴─────────────┴────────────┴──────────────┴──────────────┴──────────────┘"
      ]
     },
     "execution_count": 265,
     "metadata": {},
     "output_type": "execute_result"
    }
   ],
   "source": [
    "rr.pivot(\n",
    "    values=\"avg_train\",\n",
    "    columns=\"base_table\",\n",
    "    index=[\"variant\", \"index\", \"aggregation\"],\n",
    "    aggregate_function=\"mean\",\n",
    ")"
   ]
  },
  {
   "cell_type": "code",
   "execution_count": 266,
   "metadata": {},
   "outputs": [],
   "source": [
    "r_scn = df_scn.filter(\n",
    "    (pl.col(\"iterations\") == 500)\n",
    "    & (\n",
    "        ~pl.col(\"source_table\").is_in(\n",
    "            [\"us-accidents-prepared\", \"presidential-results-prepared\"]\n",
    "        )\n",
    "    )\n",
    ").with_columns(\n",
    "    (\n",
    "        pl.col(\"duration_process\").dt.hours() * 3600\n",
    "        + pl.col(\"duration_process\").dt.minutes() * 60\n",
    "        + pl.col(\"duration_process\").dt.seconds()\n",
    "        + pl.col(\"duration_process\").dt.microseconds() * 1e-6\n",
    "    ).alias(\"process_in_seconds\")\n",
    ")\n",
    "# .select(\n",
    "#         pl.col(\"scenario_id\"),\n",
    "#         pl.col(\"source_table\"),\n",
    "#         pl.col(\"aggregation\"),\n",
    "#         pl.col(\"target_dl\"),\n",
    "#         pl.col(\"process_in_seconds\")\n",
    "#     )"
   ]
  },
  {
   "cell_type": "code",
   "execution_count": 267,
   "metadata": {},
   "outputs": [
    {
     "data": {
      "text/html": [
       "<div><style>\n",
       ".dataframe > thead > tr > th,\n",
       ".dataframe > tbody > tr > td {\n",
       "  text-align: right;\n",
       "}\n",
       "</style>\n",
       "<small>shape: (25, 11)</small><table border=\"1\" class=\"dataframe\"><thead><tr><th>scenario_id</th><th>target_dl</th><th>source_table</th><th>join_strategy</th><th>aggregation</th><th>iterations</th><th>n_candidates</th><th>duration_process</th><th>duration_load_index</th><th>duration_querying</th><th>duration_evaluation</th></tr><tr><td>i64</td><td>str</td><td>str</td><td>str</td><td>str</td><td>i64</td><td>i64</td><td>duration[μs]</td><td>duration[μs]</td><td>duration[μs]</td><td>duration[μs]</td></tr></thead><tbody><tr><td>171</td><td>&quot;wordnet_big&quot;</td><td>&quot;company-employ…</td><td>&quot;left&quot;</td><td>&quot;none&quot;</td><td>500</td><td>50</td><td>32m 14s 796021µs</td><td>9s 579817µs</td><td>91089µs</td><td>32m 5s 103490µs</td></tr><tr><td>172</td><td>&quot;wordnet_big&quot;</td><td>&quot;company-employ…</td><td>&quot;left&quot;</td><td>&quot;dedup&quot;</td><td>500</td><td>50</td><td>41m 34s 582947µs</td><td>9s 575038µs</td><td>87532µs</td><td>41m 24s 897368µs</td></tr><tr><td>173</td><td>&quot;wordnet_big&quot;</td><td>&quot;company-employ…</td><td>&quot;left&quot;</td><td>&quot;dfs&quot;</td><td>500</td><td>50</td><td>35m 11s 72214µs</td><td>9s 403545µs</td><td>89306µs</td><td>35m 1s 556522µs</td></tr><tr><td>175</td><td>&quot;wordnet_big&quot;</td><td>&quot;movies-prepare…</td><td>&quot;left&quot;</td><td>&quot;dedup&quot;</td><td>500</td><td>23</td><td>25m 23s 627060µs</td><td>9s 579281µs</td><td>71742µs</td><td>25m 13s 956394µs</td></tr><tr><td>176</td><td>&quot;wordnet_big&quot;</td><td>&quot;movies-prepare…</td><td>&quot;left&quot;</td><td>&quot;dfs&quot;</td><td>500</td><td>23</td><td>23m 35s 721900µs</td><td>9s 684723µs</td><td>82287µs</td><td>23m 25s 932413µs</td></tr><tr><td>180</td><td>&quot;binary&quot;</td><td>&quot;company-employ…</td><td>&quot;left&quot;</td><td>&quot;none&quot;</td><td>500</td><td>6</td><td>11m 42s 146908µs</td><td>271488µs</td><td>128210µs</td><td>11m 41s 723023µs</td></tr><tr><td>182</td><td>&quot;binary&quot;</td><td>&quot;company-employ…</td><td>&quot;left&quot;</td><td>&quot;dedup&quot;</td><td>500</td><td>6</td><td>7m 9s 52256µs</td><td>238435µs</td><td>71863µs</td><td>7m 8s 732214µs</td></tr><tr><td>183</td><td>&quot;binary&quot;</td><td>&quot;company-employ…</td><td>&quot;left&quot;</td><td>&quot;dfs&quot;</td><td>500</td><td>6</td><td>5m 35s 104059µs</td><td>256503µs</td><td>68622µs</td><td>5m 34s 770953µs</td></tr><tr><td>184</td><td>&quot;binary&quot;</td><td>&quot;movies-prepare…</td><td>&quot;left&quot;</td><td>&quot;none&quot;</td><td>500</td><td>8</td><td>8m 33s 636300µs</td><td>200648µs</td><td>126259µs</td><td>8m 33s 301165µs</td></tr><tr><td>185</td><td>&quot;binary&quot;</td><td>&quot;movies-prepare…</td><td>&quot;left&quot;</td><td>&quot;dedup&quot;</td><td>500</td><td>8</td><td>11m 41s 666856µs</td><td>256760µs</td><td>72613µs</td><td>11m 41s 330215µs</td></tr><tr><td>186</td><td>&quot;binary&quot;</td><td>&quot;movies-prepare…</td><td>&quot;left&quot;</td><td>&quot;dfs&quot;</td><td>500</td><td>8</td><td>10m 7s 234226µs</td><td>187238µs</td><td>76148µs</td><td>10m 6s 961668µs</td></tr><tr><td>190</td><td>&quot;wordnet_big&quot;</td><td>&quot;us-accidents-p…</td><td>&quot;left&quot;</td><td>&quot;none&quot;</td><td>500</td><td>50</td><td>50m 40s 80338µs</td><td>10s 212965µs</td><td>95099µs</td><td>50m 29s 685385µs</td></tr><tr><td>195</td><td>&quot;binary&quot;</td><td>&quot;presidential-r…</td><td>&quot;left&quot;</td><td>&quot;dedup&quot;</td><td>500</td><td>4</td><td>10m 18s 129056µs</td><td>219889µs</td><td>90336µs</td><td>10m 17s 811373µs</td></tr><tr><td>197</td><td>&quot;binary&quot;</td><td>&quot;presidential-r…</td><td>&quot;left&quot;</td><td>&quot;dfs&quot;</td><td>500</td><td>4</td><td>6m 25s 752577µs</td><td>321985µs</td><td>122619µs</td><td>6m 25s 299648µs</td></tr><tr><td>198</td><td>&quot;wordnet_big&quot;</td><td>&quot;presidential-r…</td><td>&quot;left&quot;</td><td>&quot;none&quot;</td><td>500</td><td>50</td><td>1h 37s 448697µs</td><td>9s 964025µs</td><td>85407µs</td><td>1h 27s 367077µs</td></tr><tr><td>199</td><td>&quot;wordnet_big&quot;</td><td>&quot;us-accidents-p…</td><td>&quot;left&quot;</td><td>&quot;dfs&quot;</td><td>500</td><td>50</td><td>55m 1s 473562µs</td><td>10s 49761µs</td><td>93087µs</td><td>54m 51s 305766µs</td></tr><tr><td>200</td><td>&quot;wordnet_big&quot;</td><td>&quot;presidential-r…</td><td>&quot;left&quot;</td><td>&quot;dedup&quot;</td><td>500</td><td>50</td><td>2h 12m 10s 169247µs</td><td>9s 449072µs</td><td>86928µs</td><td>2h 12m 609620µs</td></tr><tr><td>202</td><td>&quot;binary&quot;</td><td>&quot;us-accidents-p…</td><td>&quot;left&quot;</td><td>&quot;none&quot;</td><td>500</td><td>10</td><td>9m 35s 454103µs</td><td>187051µs</td><td>94129µs</td><td>9m 35s 163975µs</td></tr><tr><td>203</td><td>&quot;binary&quot;</td><td>&quot;us-accidents-p…</td><td>&quot;left&quot;</td><td>&quot;dedup&quot;</td><td>500</td><td>10</td><td>14m 18s 317303µs</td><td>196606µs</td><td>94184µs</td><td>14m 18s 18552µs</td></tr><tr><td>201</td><td>&quot;wordnet_big&quot;</td><td>&quot;presidential-r…</td><td>&quot;left&quot;</td><td>&quot;dfs&quot;</td><td>500</td><td>50</td><td>1h 10m 25s 269734µs</td><td>9s 655693µs</td><td>86407µs</td><td>1h 10m 15s 506629µs</td></tr><tr><td>204</td><td>&quot;binary&quot;</td><td>&quot;us-accidents-p…</td><td>&quot;left&quot;</td><td>&quot;dfs&quot;</td><td>500</td><td>10</td><td>12m 24s 52041µs</td><td>191645µs</td><td>91300µs</td><td>12m 23s 760900µs</td></tr><tr><td>206</td><td>&quot;wordnet_big&quot;</td><td>&quot;movies-prepare…</td><td>&quot;left&quot;</td><td>&quot;none&quot;</td><td>500</td><td>23</td><td>19m 2s 951924µs</td><td>9s 791539µs</td><td>96821µs</td><td>18m 53s 44336µs</td></tr><tr><td>207</td><td>&quot;binary&quot;</td><td>&quot;presidential-r…</td><td>&quot;left&quot;</td><td>&quot;none&quot;</td><td>500</td><td>4</td><td>4m 8s 843434µs</td><td>209452µs</td><td>88168µs</td><td>4m 8s 538216µs</td></tr><tr><td>213</td><td>&quot;wordnet_big&quot;</td><td>&quot;us-accidents-p…</td><td>&quot;left&quot;</td><td>&quot;dedup&quot;</td><td>500</td><td>50</td><td>1h 37s 84724µs</td><td>9s 357490µs</td><td>170560µs</td><td>1h 27s 533488µs</td></tr><tr><td>212</td><td>&quot;wordnet_big&quot;</td><td>&quot;us-accidents-p…</td><td>&quot;left&quot;</td><td>&quot;dedup&quot;</td><td>500</td><td>50</td><td>1h 2m 47s 559196µs</td><td>9s 535709µs</td><td>115898µs</td><td>1h 2m 37s 886460µs</td></tr></tbody></table></div>"
      ],
      "text/plain": [
       "shape: (25, 11)\n",
       "┌───────────┬─────────┬────────────┬────────────┬───┬────────────┬────────────┬────────────┬────────────┐\n",
       "│ scenario_ ┆ target_ ┆ source_tab ┆ join_strat ┆ … ┆ duration_p ┆ duration_l ┆ duration_q ┆ duration_e │\n",
       "│ id        ┆ dl      ┆ le         ┆ egy        ┆   ┆ rocess     ┆ oad_index  ┆ uerying    ┆ valuation  │\n",
       "│ ---       ┆ ---     ┆ ---        ┆ ---        ┆   ┆ ---        ┆ ---        ┆ ---        ┆ ---        │\n",
       "│ i64       ┆ str     ┆ str        ┆ str        ┆   ┆ duration[μ ┆ duration[μ ┆ duration[μ ┆ duration[μ │\n",
       "│           ┆         ┆            ┆            ┆   ┆ s]         ┆ s]         ┆ s]         ┆ s]         │\n",
       "╞═══════════╪═════════╪════════════╪════════════╪═══╪════════════╪════════════╪════════════╪════════════╡\n",
       "│ 171       ┆ wordnet ┆ company-em ┆ left       ┆ … ┆ 32m 14s    ┆ 9s         ┆ 91089µs    ┆ 32m 5s     │\n",
       "│           ┆ _big    ┆ ployees-pr ┆            ┆   ┆ 796021µs   ┆ 579817µs   ┆            ┆ 103490µs   │\n",
       "│           ┆         ┆ epared     ┆            ┆   ┆            ┆            ┆            ┆            │\n",
       "│ 172       ┆ wordnet ┆ company-em ┆ left       ┆ … ┆ 41m 34s    ┆ 9s         ┆ 87532µs    ┆ 41m 24s    │\n",
       "│           ┆ _big    ┆ ployees-pr ┆            ┆   ┆ 582947µs   ┆ 575038µs   ┆            ┆ 897368µs   │\n",
       "│           ┆         ┆ epared     ┆            ┆   ┆            ┆            ┆            ┆            │\n",
       "│ 173       ┆ wordnet ┆ company-em ┆ left       ┆ … ┆ 35m 11s    ┆ 9s         ┆ 89306µs    ┆ 35m 1s     │\n",
       "│           ┆ _big    ┆ ployees-pr ┆            ┆   ┆ 72214µs    ┆ 403545µs   ┆            ┆ 556522µs   │\n",
       "│           ┆         ┆ epared     ┆            ┆   ┆            ┆            ┆            ┆            │\n",
       "│ 175       ┆ wordnet ┆ movies-pre ┆ left       ┆ … ┆ 25m 23s    ┆ 9s         ┆ 71742µs    ┆ 25m 13s    │\n",
       "│           ┆ _big    ┆ pared      ┆            ┆   ┆ 627060µs   ┆ 579281µs   ┆            ┆ 956394µs   │\n",
       "│ …         ┆ …       ┆ …          ┆ …          ┆ … ┆ …          ┆ …          ┆ …          ┆ …          │\n",
       "│ 206       ┆ wordnet ┆ movies-pre ┆ left       ┆ … ┆ 19m 2s     ┆ 9s         ┆ 96821µs    ┆ 18m 53s    │\n",
       "│           ┆ _big    ┆ pared      ┆            ┆   ┆ 951924µs   ┆ 791539µs   ┆            ┆ 44336µs    │\n",
       "│ 207       ┆ binary  ┆ presidenti ┆ left       ┆ … ┆ 4m 8s      ┆ 209452µs   ┆ 88168µs    ┆ 4m 8s      │\n",
       "│           ┆         ┆ al-results ┆            ┆   ┆ 843434µs   ┆            ┆            ┆ 538216µs   │\n",
       "│           ┆         ┆ -prepared- ┆            ┆   ┆            ┆            ┆            ┆            │\n",
       "│           ┆         ┆ ne…        ┆            ┆   ┆            ┆            ┆            ┆            │\n",
       "│ 213       ┆ wordnet ┆ us-acciden ┆ left       ┆ … ┆ 1h 37s     ┆ 9s         ┆ 170560µs   ┆ 1h 27s     │\n",
       "│           ┆ _big    ┆ ts-prepare ┆            ┆   ┆ 84724µs    ┆ 357490µs   ┆            ┆ 533488µs   │\n",
       "│           ┆         ┆ d-new      ┆            ┆   ┆            ┆            ┆            ┆            │\n",
       "│ 212       ┆ wordnet ┆ us-acciden ┆ left       ┆ … ┆ 1h 2m 47s  ┆ 9s         ┆ 115898µs   ┆ 1h 2m 37s  │\n",
       "│           ┆ _big    ┆ ts-prepare ┆            ┆   ┆ 559196µs   ┆ 535709µs   ┆            ┆ 886460µs   │\n",
       "│           ┆         ┆ d-new      ┆            ┆   ┆            ┆            ┆            ┆            │\n",
       "└───────────┴─────────┴────────────┴────────────┴───┴────────────┴────────────┴────────────┴────────────┘"
      ]
     },
     "execution_count": 267,
     "metadata": {},
     "output_type": "execute_result"
    }
   ],
   "source": [
    "r_scn.select(\n",
    "    pl.col(\"scenario_id\"),\n",
    "    pl.col(\"target_dl\"),\n",
    "    pl.col(\"source_table\"),\n",
    "    pl.col(\"join_strategy\"),\n",
    "    pl.col(\"aggregation\"),\n",
    "    pl.col(\"iterations\"),\n",
    "    pl.col(\"n_candidates\"),\n",
    "    pl.col([col for col in df_scn.columns if col.startswith(\"duration\")]),\n",
    ")"
   ]
  },
  {
   "cell_type": "code",
   "execution_count": 268,
   "metadata": {},
   "outputs": [
    {
     "data": {
      "text/html": [
       "<div><style>\n",
       ".dataframe > thead > tr > th,\n",
       ".dataframe > tbody > tr > td {\n",
       "  text-align: right;\n",
       "}\n",
       "</style>\n",
       "<small>shape: (6, 6)</small><table border=\"1\" class=\"dataframe\"><thead><tr><th>target_dl</th><th>aggregation</th><th>company-employees-prepared</th><th>movies-prepared</th><th>us-accidents-prepared-new</th><th>presidential-results-prepared-new</th></tr><tr><td>str</td><td>str</td><td>duration[μs]</td><td>duration[μs]</td><td>duration[μs]</td><td>duration[μs]</td></tr></thead><tbody><tr><td>&quot;wordnet_big&quot;</td><td>&quot;none&quot;</td><td>32m 14s 796021µs</td><td>19m 2s 951924µs</td><td>50m 40s 80338µs</td><td>1h 37s 448697µs</td></tr><tr><td>&quot;wordnet_big&quot;</td><td>&quot;dedup&quot;</td><td>41m 34s 582947µs</td><td>25m 23s 627060µs</td><td>1h 1m 42s 321960µs</td><td>2h 12m 10s 169247µs</td></tr><tr><td>&quot;wordnet_big&quot;</td><td>&quot;dfs&quot;</td><td>35m 11s 72214µs</td><td>23m 35s 721900µs</td><td>55m 1s 473562µs</td><td>1h 10m 25s 269734µs</td></tr><tr><td>&quot;binary&quot;</td><td>&quot;none&quot;</td><td>11m 42s 146908µs</td><td>8m 33s 636300µs</td><td>9m 35s 454103µs</td><td>4m 8s 843434µs</td></tr><tr><td>&quot;binary&quot;</td><td>&quot;dedup&quot;</td><td>7m 9s 52256µs</td><td>11m 41s 666856µs</td><td>14m 18s 317303µs</td><td>10m 18s 129056µs</td></tr><tr><td>&quot;binary&quot;</td><td>&quot;dfs&quot;</td><td>5m 35s 104059µs</td><td>10m 7s 234226µs</td><td>12m 24s 52041µs</td><td>6m 25s 752577µs</td></tr></tbody></table></div>"
      ],
      "text/plain": [
       "shape: (6, 6)\n",
       "┌─────────────┬─────────────┬─────────────────┬─────────────────┬─────────────────┬────────────────┐\n",
       "│ target_dl   ┆ aggregation ┆ company-employe ┆ movies-prepared ┆ us-accidents-pr ┆ presidential-r │\n",
       "│ ---         ┆ ---         ┆ es-prepared     ┆ ---             ┆ epared-new      ┆ esults-prepare │\n",
       "│ str         ┆ str         ┆ ---             ┆ duration[μs]    ┆ ---             ┆ d-ne…          │\n",
       "│             ┆             ┆ duration[μs]    ┆                 ┆ duration[μs]    ┆ ---            │\n",
       "│             ┆             ┆                 ┆                 ┆                 ┆ duration[μs]   │\n",
       "╞═════════════╪═════════════╪═════════════════╪═════════════════╪═════════════════╪════════════════╡\n",
       "│ wordnet_big ┆ none        ┆ 32m 14s         ┆ 19m 2s 951924µs ┆ 50m 40s 80338µs ┆ 1h 37s         │\n",
       "│             ┆             ┆ 796021µs        ┆                 ┆                 ┆ 448697µs       │\n",
       "│ wordnet_big ┆ dedup       ┆ 41m 34s         ┆ 25m 23s         ┆ 1h 1m 42s       ┆ 2h 12m 10s     │\n",
       "│             ┆             ┆ 582947µs        ┆ 627060µs        ┆ 321960µs        ┆ 169247µs       │\n",
       "│ wordnet_big ┆ dfs         ┆ 35m 11s 72214µs ┆ 23m 35s         ┆ 55m 1s 473562µs ┆ 1h 10m 25s     │\n",
       "│             ┆             ┆                 ┆ 721900µs        ┆                 ┆ 269734µs       │\n",
       "│ binary      ┆ none        ┆ 11m 42s         ┆ 8m 33s 636300µs ┆ 9m 35s 454103µs ┆ 4m 8s 843434µs │\n",
       "│             ┆             ┆ 146908µs        ┆                 ┆                 ┆                │\n",
       "│ binary      ┆ dedup       ┆ 7m 9s 52256µs   ┆ 11m 41s         ┆ 14m 18s         ┆ 10m 18s        │\n",
       "│             ┆             ┆                 ┆ 666856µs        ┆ 317303µs        ┆ 129056µs       │\n",
       "│ binary      ┆ dfs         ┆ 5m 35s 104059µs ┆ 10m 7s 234226µs ┆ 12m 24s 52041µs ┆ 6m 25s         │\n",
       "│             ┆             ┆                 ┆                 ┆                 ┆ 752577µs       │\n",
       "└─────────────┴─────────────┴─────────────────┴─────────────────┴─────────────────┴────────────────┘"
      ]
     },
     "execution_count": 268,
     "metadata": {},
     "output_type": "execute_result"
    }
   ],
   "source": [
    "r_scn.pivot(\n",
    "    values=\"duration_process\",\n",
    "    columns=\"source_table\",\n",
    "    index=[\"target_dl\", \"aggregation\"],\n",
    "    aggregate_function=\"mean\",\n",
    ")"
   ]
  },
  {
   "cell_type": "code",
   "execution_count": 269,
   "metadata": {},
   "outputs": [
    {
     "data": {
      "text/html": [
       "<div><style>\n",
       ".dataframe > thead > tr > th,\n",
       ".dataframe > tbody > tr > td {\n",
       "  text-align: right;\n",
       "}\n",
       "</style>\n",
       "<small>shape: (25, 6)</small><table border=\"1\" class=\"dataframe\"><thead><tr><th>variant</th><th>index</th><th>base_table</th><th>aggregation</th><th>avg_train</th><th>n_candidates</th></tr><tr><td>str</td><td>str</td><td>str</td><td>str</td><td>f64</td><td>f64</td></tr></thead><tbody><tr><td>&quot;binary&quot;</td><td>&quot;minhash&quot;</td><td>&quot;company-employ…</td><td>&quot;dedup&quot;</td><td>1358.15931</td><td>6.0</td></tr><tr><td>&quot;binary&quot;</td><td>&quot;minhash&quot;</td><td>&quot;company-employ…</td><td>&quot;none&quot;</td><td>2972.997612</td><td>6.0</td></tr><tr><td>&quot;binary&quot;</td><td>&quot;base_table&quot;</td><td>&quot;company-employ…</td><td>&quot;base_table&quot;</td><td>1612.005162</td><td>6.0</td></tr><tr><td>&quot;binary&quot;</td><td>&quot;minhash&quot;</td><td>&quot;company-employ…</td><td>&quot;dfs&quot;</td><td>1343.992525</td><td>6.0</td></tr><tr><td>&quot;binary&quot;</td><td>&quot;minhash&quot;</td><td>&quot;movies-prepare…</td><td>&quot;dedup&quot;</td><td>2343.1143</td><td>8.0</td></tr><tr><td>&quot;binary&quot;</td><td>&quot;minhash&quot;</td><td>&quot;movies-prepare…</td><td>&quot;none&quot;</td><td>2256.738405</td><td>8.0</td></tr><tr><td>&quot;binary&quot;</td><td>&quot;base_table&quot;</td><td>&quot;movies-prepare…</td><td>&quot;base_table&quot;</td><td>2309.719947</td><td>8.0</td></tr><tr><td>&quot;binary&quot;</td><td>&quot;minhash&quot;</td><td>&quot;movies-prepare…</td><td>&quot;dfs&quot;</td><td>2299.995325</td><td>8.0</td></tr><tr><td>&quot;binary&quot;</td><td>&quot;base_table&quot;</td><td>&quot;presidential-r…</td><td>&quot;base_table&quot;</td><td>853.58158</td><td>4.0</td></tr><tr><td>&quot;binary&quot;</td><td>&quot;minhash&quot;</td><td>&quot;presidential-r…</td><td>&quot;dfs&quot;</td><td>1251.29129</td><td>4.0</td></tr><tr><td>&quot;binary&quot;</td><td>&quot;minhash&quot;</td><td>&quot;presidential-r…</td><td>&quot;dedup&quot;</td><td>1017.467255</td><td>4.0</td></tr><tr><td>&quot;wordnet_big&quot;</td><td>&quot;minhash&quot;</td><td>&quot;company-employ…</td><td>&quot;none&quot;</td><td>9429.09824</td><td>50.0</td></tr><tr><td>&quot;wordnet_big&quot;</td><td>&quot;base_table&quot;</td><td>&quot;company-employ…</td><td>&quot;base_table&quot;</td><td>8073.677167</td><td>50.0</td></tr><tr><td>&quot;wordnet_big&quot;</td><td>&quot;minhash&quot;</td><td>&quot;company-employ…</td><td>&quot;dfs&quot;</td><td>9831.609775</td><td>50.0</td></tr><tr><td>&quot;wordnet_big&quot;</td><td>&quot;minhash&quot;</td><td>&quot;company-employ…</td><td>&quot;dedup&quot;</td><td>9521.23607</td><td>50.0</td></tr><tr><td>&quot;wordnet_big&quot;</td><td>&quot;base_table&quot;</td><td>&quot;movies-prepare…</td><td>&quot;base_table&quot;</td><td>5030.245647</td><td>23.0</td></tr><tr><td>&quot;wordnet_big&quot;</td><td>&quot;minhash&quot;</td><td>&quot;movies-prepare…</td><td>&quot;dfs&quot;</td><td>5610.97507</td><td>23.0</td></tr><tr><td>&quot;wordnet_big&quot;</td><td>&quot;minhash&quot;</td><td>&quot;movies-prepare…</td><td>&quot;dedup&quot;</td><td>5275.9193</td><td>23.0</td></tr><tr><td>&quot;wordnet_big&quot;</td><td>&quot;minhash&quot;</td><td>&quot;presidential-r…</td><td>&quot;dedup&quot;</td><td>17859.05155</td><td>50.0</td></tr><tr><td>&quot;wordnet_big&quot;</td><td>&quot;minhash&quot;</td><td>&quot;presidential-r…</td><td>&quot;dfs&quot;</td><td>19647.7359</td><td>50.0</td></tr><tr><td>&quot;wordnet_big&quot;</td><td>&quot;minhash&quot;</td><td>&quot;presidential-r…</td><td>&quot;none&quot;</td><td>17868.4151</td><td>50.0</td></tr><tr><td>&quot;wordnet_big&quot;</td><td>&quot;base_table&quot;</td><td>&quot;presidential-r…</td><td>&quot;base_table&quot;</td><td>9296.990192</td><td>50.0</td></tr><tr><td>&quot;wordnet_big&quot;</td><td>&quot;minhash&quot;</td><td>&quot;us-accidents-p…</td><td>&quot;none&quot;</td><td>14795.295875</td><td>50.0</td></tr><tr><td>&quot;wordnet_big&quot;</td><td>&quot;minhash&quot;</td><td>&quot;us-accidents-p…</td><td>&quot;dfs&quot;</td><td>14974.485195</td><td>50.0</td></tr><tr><td>&quot;wordnet_big&quot;</td><td>&quot;base_table&quot;</td><td>&quot;us-accidents-p…</td><td>&quot;base_table&quot;</td><td>13403.203625</td><td>50.0</td></tr></tbody></table></div>"
      ],
      "text/plain": [
       "shape: (25, 6)\n",
       "┌─────────────┬────────────┬───────────────────────────┬─────────────┬──────────────┬──────────────┐\n",
       "│ variant     ┆ index      ┆ base_table                ┆ aggregation ┆ avg_train    ┆ n_candidates │\n",
       "│ ---         ┆ ---        ┆ ---                       ┆ ---         ┆ ---          ┆ ---          │\n",
       "│ str         ┆ str        ┆ str                       ┆ str         ┆ f64          ┆ f64          │\n",
       "╞═════════════╪════════════╪═══════════════════════════╪═════════════╪══════════════╪══════════════╡\n",
       "│ binary      ┆ minhash    ┆ company-employees-prepare ┆ dedup       ┆ 1358.15931   ┆ 6.0          │\n",
       "│             ┆            ┆ d                         ┆             ┆              ┆              │\n",
       "│ binary      ┆ minhash    ┆ company-employees-prepare ┆ none        ┆ 2972.997612  ┆ 6.0          │\n",
       "│             ┆            ┆ d                         ┆             ┆              ┆              │\n",
       "│ binary      ┆ base_table ┆ company-employees-prepare ┆ base_table  ┆ 1612.005162  ┆ 6.0          │\n",
       "│             ┆            ┆ d                         ┆             ┆              ┆              │\n",
       "│ binary      ┆ minhash    ┆ company-employees-prepare ┆ dfs         ┆ 1343.992525  ┆ 6.0          │\n",
       "│             ┆            ┆ d                         ┆             ┆              ┆              │\n",
       "│ …           ┆ …          ┆ …                         ┆ …           ┆ …            ┆ …            │\n",
       "│ wordnet_big ┆ base_table ┆ presidential-results-prep ┆ base_table  ┆ 9296.990192  ┆ 50.0         │\n",
       "│             ┆            ┆ ared-ne…                  ┆             ┆              ┆              │\n",
       "│ wordnet_big ┆ minhash    ┆ us-accidents-prepared-new ┆ none        ┆ 14795.295875 ┆ 50.0         │\n",
       "│ wordnet_big ┆ minhash    ┆ us-accidents-prepared-new ┆ dfs         ┆ 14974.485195 ┆ 50.0         │\n",
       "│ wordnet_big ┆ base_table ┆ us-accidents-prepared-new ┆ base_table  ┆ 13403.203625 ┆ 50.0         │\n",
       "└─────────────┴────────────┴───────────────────────────┴─────────────┴──────────────┴──────────────┘"
      ]
     },
     "execution_count": 269,
     "metadata": {},
     "output_type": "execute_result"
    }
   ],
   "source": [
    "rr"
   ]
  },
  {
   "cell_type": "code",
   "execution_count": 189,
   "metadata": {},
   "outputs": [
    {
     "data": {
      "text/html": [
       "<div><style>\n",
       ".dataframe > thead > tr > th,\n",
       ".dataframe > tbody > tr > td {\n",
       "  text-align: right;\n",
       "}\n",
       "</style>\n",
       "<small>shape: (7, 6)</small><table border=\"1\" class=\"dataframe\"><thead><tr><th>variant</th><th>index</th><th>base_table</th><th>aggregation</th><th>avg_train</th><th>n_candidates</th></tr><tr><td>str</td><td>str</td><td>str</td><td>str</td><td>f64</td><td>f64</td></tr></thead><tbody><tr><td>&quot;binary&quot;</td><td>&quot;base_table&quot;</td><td>&quot;company-employ…</td><td>&quot;base_table&quot;</td><td>268.667527</td><td>6.0</td></tr><tr><td>&quot;binary&quot;</td><td>&quot;base_table&quot;</td><td>&quot;movies-prepare…</td><td>&quot;base_table&quot;</td><td>288.714993</td><td>8.0</td></tr><tr><td>&quot;binary&quot;</td><td>&quot;base_table&quot;</td><td>&quot;presidential-r…</td><td>&quot;base_table&quot;</td><td>213.395395</td><td>4.0</td></tr><tr><td>&quot;wordnet_big&quot;</td><td>&quot;base_table&quot;</td><td>&quot;company-employ…</td><td>&quot;base_table&quot;</td><td>161.473543</td><td>50.0</td></tr><tr><td>&quot;wordnet_big&quot;</td><td>&quot;base_table&quot;</td><td>&quot;movies-prepare…</td><td>&quot;base_table&quot;</td><td>218.706333</td><td>23.0</td></tr><tr><td>&quot;wordnet_big&quot;</td><td>&quot;base_table&quot;</td><td>&quot;presidential-r…</td><td>&quot;base_table&quot;</td><td>182.442082</td><td>50.0</td></tr><tr><td>&quot;wordnet_big&quot;</td><td>&quot;base_table&quot;</td><td>&quot;us-accidents-p…</td><td>&quot;base_table&quot;</td><td>268.064073</td><td>50.0</td></tr></tbody></table></div>"
      ],
      "text/plain": [
       "shape: (7, 6)\n",
       "┌─────────────┬────────────┬─────────────────────────────┬─────────────┬────────────┬──────────────┐\n",
       "│ variant     ┆ index      ┆ base_table                  ┆ aggregation ┆ avg_train  ┆ n_candidates │\n",
       "│ ---         ┆ ---        ┆ ---                         ┆ ---         ┆ ---        ┆ ---          │\n",
       "│ str         ┆ str        ┆ str                         ┆ str         ┆ f64        ┆ f64          │\n",
       "╞═════════════╪════════════╪═════════════════════════════╪═════════════╪════════════╪══════════════╡\n",
       "│ binary      ┆ base_table ┆ company-employees-prepared  ┆ base_table  ┆ 268.667527 ┆ 6.0          │\n",
       "│ binary      ┆ base_table ┆ movies-prepared             ┆ base_table  ┆ 288.714993 ┆ 8.0          │\n",
       "│ binary      ┆ base_table ┆ presidential-results-prepar ┆ base_table  ┆ 213.395395 ┆ 4.0          │\n",
       "│             ┆            ┆ ed-ne…                      ┆             ┆            ┆              │\n",
       "│ wordnet_big ┆ base_table ┆ company-employees-prepared  ┆ base_table  ┆ 161.473543 ┆ 50.0         │\n",
       "│ wordnet_big ┆ base_table ┆ movies-prepared             ┆ base_table  ┆ 218.706333 ┆ 23.0         │\n",
       "│ wordnet_big ┆ base_table ┆ presidential-results-prepar ┆ base_table  ┆ 182.442082 ┆ 50.0         │\n",
       "│             ┆            ┆ ed-ne…                      ┆             ┆            ┆              │\n",
       "│ wordnet_big ┆ base_table ┆ us-accidents-prepared-new   ┆ base_table  ┆ 268.064073 ┆ 50.0         │\n",
       "└─────────────┴────────────┴─────────────────────────────┴─────────────┴────────────┴──────────────┘"
      ]
     },
     "execution_count": 189,
     "metadata": {},
     "output_type": "execute_result"
    }
   ],
   "source": [
    "joined.groupby([\"variant\", \"index\", \"base_table\", \"aggregation\"]).agg(\n",
    "    pl.col(\"avg_train\").mean(), pl.col(\"n_candidates\").mean()\n",
    ").sort([\"variant\", \"base_table\"]).filter(\n",
    "    (pl.col(\"index\") == \"base_table\")\n",
    "    & (\n",
    "        ~pl.col(\"base_table\").is_in(\n",
    "            [\"us-accidents-prepared\", \"presidential-results-prepared\"]\n",
    "        )\n",
    "    )\n",
    ").with_columns(\n",
    "    pl.col(\"avg_train\") * 25\n",
    ")"
   ]
  },
  {
   "cell_type": "code",
   "execution_count": null,
   "metadata": {},
   "outputs": [],
   "source": []
  }
 ],
 "metadata": {
  "kernelspec": {
   "display_name": "bench",
   "language": "python",
   "name": "python3"
  },
  "language_info": {
   "codemirror_mode": {
    "name": "ipython",
    "version": 3
   },
   "file_extension": ".py",
   "mimetype": "text/x-python",
   "name": "python",
   "nbconvert_exporter": "python",
   "pygments_lexer": "ipython3",
   "version": "3.10.0"
  },
  "orig_nbformat": 4
 },
 "nbformat": 4,
 "nbformat_minor": 2
}
