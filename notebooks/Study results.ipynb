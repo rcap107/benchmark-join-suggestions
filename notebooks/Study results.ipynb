{
 "cells": [
  {
   "cell_type": "code",
   "execution_count": 1,
   "metadata": {},
   "outputs": [],
   "source": [
    "%load_ext autoreload\n",
    "%autoreload 2"
   ]
  },
  {
   "cell_type": "code",
   "execution_count": 3,
   "metadata": {},
   "outputs": [],
   "source": [
    "import pandas as pd\n",
    "import matplotlib.pyplot as plt\n",
    "import seaborn as sns"
   ]
  },
  {
   "cell_type": "code",
   "execution_count": 13,
   "metadata": {},
   "outputs": [],
   "source": [
    "df = pd.read_csv(\"../results/run_results.csv\", header=None)\n",
    "columns = [\n",
    "    \"run_id\",\n",
    "    \"status\",\n",
    "    \"time1\",\n",
    "    \"time2\",\n",
    "    \"time3\",\n",
    "    \"duration1\",\n",
    "    \"index_name\",\n",
    "    \"source_table\",\n",
    "    \"candidate_table\",\n",
    "    \"left_on\",\n",
    "    \"right_on\",\n",
    "    \"iterations\",\n",
    "    \"rmse_avg\",\n",
    "    \"rmse_std\",\n",
    "    \"r2_avg\",\n",
    "    \"r2_std\",\n",
    "    \"dl_case\"\n",
    "]\n",
    "df.columns = columns"
   ]
  },
  {
   "cell_type": "code",
   "execution_count": 14,
   "metadata": {},
   "outputs": [
    {
     "data": {
      "text/html": [
       "<div>\n",
       "<style scoped>\n",
       "    .dataframe tbody tr th:only-of-type {\n",
       "        vertical-align: middle;\n",
       "    }\n",
       "\n",
       "    .dataframe tbody tr th {\n",
       "        vertical-align: top;\n",
       "    }\n",
       "\n",
       "    .dataframe thead th {\n",
       "        text-align: right;\n",
       "    }\n",
       "</style>\n",
       "<table border=\"1\" class=\"dataframe\">\n",
       "  <thead>\n",
       "    <tr style=\"text-align: right;\">\n",
       "      <th></th>\n",
       "      <th>run_id</th>\n",
       "      <th>status</th>\n",
       "      <th>time1</th>\n",
       "      <th>time2</th>\n",
       "      <th>time3</th>\n",
       "      <th>duration1</th>\n",
       "      <th>index_name</th>\n",
       "      <th>source_table</th>\n",
       "      <th>candidate_table</th>\n",
       "      <th>left_on</th>\n",
       "      <th>right_on</th>\n",
       "      <th>iterations</th>\n",
       "      <th>rmse_avg</th>\n",
       "      <th>rmse_std</th>\n",
       "      <th>r2_avg</th>\n",
       "      <th>r2_std</th>\n",
       "      <th>dl_case</th>\n",
       "    </tr>\n",
       "  </thead>\n",
       "  <tbody>\n",
       "    <tr>\n",
       "      <th>0</th>\n",
       "      <td>274</td>\n",
       "      <td>SUCCESS</td>\n",
       "      <td>2023-05-26 14:38:49.222774</td>\n",
       "      <td>2023-05-26 14:39:48.761559</td>\n",
       "      <td>2023-05-26 14:40:03.571970</td>\n",
       "      <td>14.810411</td>\n",
       "      <td>base_table</td>\n",
       "      <td>/storage/store/work/rcappuzz/ken_datasets/pres...</td>\n",
       "      <td>NaN</td>\n",
       "      <td>NaN</td>\n",
       "      <td>NaN</td>\n",
       "      <td>1000</td>\n",
       "      <td>0.654238</td>\n",
       "      <td>0.108380</td>\n",
       "      <td>0.768598</td>\n",
       "      <td>0.056445</td>\n",
       "      <td>data/metadata/binary</td>\n",
       "    </tr>\n",
       "    <tr>\n",
       "      <th>1</th>\n",
       "      <td>275</td>\n",
       "      <td>SUCCESS</td>\n",
       "      <td>2023-05-26 14:40:03.601991</td>\n",
       "      <td>2023-05-26 14:41:07.488284</td>\n",
       "      <td>2023-05-26 14:41:23.450346</td>\n",
       "      <td>15.962062</td>\n",
       "      <td>minhash</td>\n",
       "      <td>/storage/store/work/rcappuzz/ken_datasets/pres...</td>\n",
       "      <td>/storage/store/work/rcappuzz/yago3-dl/binary/y...</td>\n",
       "      <td>['col_to_embed']</td>\n",
       "      <td>['livesIn']</td>\n",
       "      <td>1000</td>\n",
       "      <td>0.613378</td>\n",
       "      <td>0.143226</td>\n",
       "      <td>0.801279</td>\n",
       "      <td>0.079227</td>\n",
       "      <td>data/metadata/binary</td>\n",
       "    </tr>\n",
       "    <tr>\n",
       "      <th>2</th>\n",
       "      <td>276</td>\n",
       "      <td>SUCCESS</td>\n",
       "      <td>2023-05-26 14:41:23.485781</td>\n",
       "      <td>2023-05-26 14:42:32.926828</td>\n",
       "      <td>2023-05-26 14:42:50.918789</td>\n",
       "      <td>17.991961</td>\n",
       "      <td>minhash</td>\n",
       "      <td>/storage/store/work/rcappuzz/ken_datasets/pres...</td>\n",
       "      <td>/storage/store/work/rcappuzz/yago3-dl/binary/y...</td>\n",
       "      <td>['col_to_embed']</td>\n",
       "      <td>['diedIn']</td>\n",
       "      <td>1000</td>\n",
       "      <td>0.538569</td>\n",
       "      <td>0.145348</td>\n",
       "      <td>0.848459</td>\n",
       "      <td>0.065464</td>\n",
       "      <td>data/metadata/binary</td>\n",
       "    </tr>\n",
       "    <tr>\n",
       "      <th>3</th>\n",
       "      <td>277</td>\n",
       "      <td>SUCCESS</td>\n",
       "      <td>2023-05-26 14:42:50.960639</td>\n",
       "      <td>2023-05-26 14:52:37.702473</td>\n",
       "      <td>2023-05-26 14:55:09.845442</td>\n",
       "      <td>152.142969</td>\n",
       "      <td>minhash</td>\n",
       "      <td>/storage/store/work/rcappuzz/ken_datasets/pres...</td>\n",
       "      <td>/storage/store/work/rcappuzz/yago3-dl/binary/y...</td>\n",
       "      <td>['col_to_embed']</td>\n",
       "      <td>['isLocatedIn']</td>\n",
       "      <td>1000</td>\n",
       "      <td>0.614484</td>\n",
       "      <td>0.187661</td>\n",
       "      <td>0.805474</td>\n",
       "      <td>0.082093</td>\n",
       "      <td>data/metadata/binary</td>\n",
       "    </tr>\n",
       "    <tr>\n",
       "      <th>4</th>\n",
       "      <td>278</td>\n",
       "      <td>SUCCESS</td>\n",
       "      <td>2023-05-26 14:55:10.221005</td>\n",
       "      <td>2023-05-26 14:56:52.228151</td>\n",
       "      <td>2023-05-26 14:57:18.012080</td>\n",
       "      <td>25.783929</td>\n",
       "      <td>minhash</td>\n",
       "      <td>/storage/store/work/rcappuzz/ken_datasets/pres...</td>\n",
       "      <td>/storage/store/work/rcappuzz/yago3-dl/binary/y...</td>\n",
       "      <td>['col_to_embed']</td>\n",
       "      <td>['wasBornIn']</td>\n",
       "      <td>1000</td>\n",
       "      <td>0.535094</td>\n",
       "      <td>0.184049</td>\n",
       "      <td>0.845288</td>\n",
       "      <td>0.087452</td>\n",
       "      <td>data/metadata/binary</td>\n",
       "    </tr>\n",
       "  </tbody>\n",
       "</table>\n",
       "</div>"
      ],
      "text/plain": [
       "   run_id   status                       time1                       time2   \n",
       "0     274  SUCCESS  2023-05-26 14:38:49.222774  2023-05-26 14:39:48.761559  \\\n",
       "1     275  SUCCESS  2023-05-26 14:40:03.601991  2023-05-26 14:41:07.488284   \n",
       "2     276  SUCCESS  2023-05-26 14:41:23.485781  2023-05-26 14:42:32.926828   \n",
       "3     277  SUCCESS  2023-05-26 14:42:50.960639  2023-05-26 14:52:37.702473   \n",
       "4     278  SUCCESS  2023-05-26 14:55:10.221005  2023-05-26 14:56:52.228151   \n",
       "\n",
       "                        time3   duration1  index_name   \n",
       "0  2023-05-26 14:40:03.571970   14.810411  base_table  \\\n",
       "1  2023-05-26 14:41:23.450346   15.962062     minhash   \n",
       "2  2023-05-26 14:42:50.918789   17.991961     minhash   \n",
       "3  2023-05-26 14:55:09.845442  152.142969     minhash   \n",
       "4  2023-05-26 14:57:18.012080   25.783929     minhash   \n",
       "\n",
       "                                        source_table   \n",
       "0  /storage/store/work/rcappuzz/ken_datasets/pres...  \\\n",
       "1  /storage/store/work/rcappuzz/ken_datasets/pres...   \n",
       "2  /storage/store/work/rcappuzz/ken_datasets/pres...   \n",
       "3  /storage/store/work/rcappuzz/ken_datasets/pres...   \n",
       "4  /storage/store/work/rcappuzz/ken_datasets/pres...   \n",
       "\n",
       "                                     candidate_table           left_on   \n",
       "0                                                NaN               NaN  \\\n",
       "1  /storage/store/work/rcappuzz/yago3-dl/binary/y...  ['col_to_embed']   \n",
       "2  /storage/store/work/rcappuzz/yago3-dl/binary/y...  ['col_to_embed']   \n",
       "3  /storage/store/work/rcappuzz/yago3-dl/binary/y...  ['col_to_embed']   \n",
       "4  /storage/store/work/rcappuzz/yago3-dl/binary/y...  ['col_to_embed']   \n",
       "\n",
       "          right_on  iterations  rmse_avg  rmse_std    r2_avg    r2_std   \n",
       "0              NaN        1000  0.654238  0.108380  0.768598  0.056445  \\\n",
       "1      ['livesIn']        1000  0.613378  0.143226  0.801279  0.079227   \n",
       "2       ['diedIn']        1000  0.538569  0.145348  0.848459  0.065464   \n",
       "3  ['isLocatedIn']        1000  0.614484  0.187661  0.805474  0.082093   \n",
       "4    ['wasBornIn']        1000  0.535094  0.184049  0.845288  0.087452   \n",
       "\n",
       "                dl_case  \n",
       "0  data/metadata/binary  \n",
       "1  data/metadata/binary  \n",
       "2  data/metadata/binary  \n",
       "3  data/metadata/binary  \n",
       "4  data/metadata/binary  "
      ]
     },
     "execution_count": 14,
     "metadata": {},
     "output_type": "execute_result"
    }
   ],
   "source": [
    "df"
   ]
  },
  {
   "cell_type": "code",
   "execution_count": 23,
   "metadata": {},
   "outputs": [
    {
     "data": {
      "text/plain": [
       "Text(0.5, 1.0, 'RMSE')"
      ]
     },
     "execution_count": 23,
     "metadata": {},
     "output_type": "execute_result"
    },
    {
     "data": {
      "image/png": "[encoded data removed]",
      "text/plain": [
       "<Figure size 640x480 with 1 Axes>"
      ]
     },
     "metadata": {},
     "output_type": "display_data"
    }
   ],
   "source": [
    "plt.bar(x=df[\"run_id\"], height=df[\"rmse_avg\"], yerr=df[\"rmse_std\"])\n",
    "plt.title(\"RMSE\")\n"
   ]
  },
  {
   "cell_type": "code",
   "execution_count": 26,
   "metadata": {},
   "outputs": [
    {
     "data": {
      "text/plain": [
       "Text(0.5, 1.0, 'R2 Score')"
      ]
     },
     "execution_count": 26,
     "metadata": {},
     "output_type": "execute_result"
    },
    {
     "data": {
      "image/png": "[encoded data removed]",
      "text/plain": [
       "<Figure size 640x480 with 1 Axes>"
      ]
     },
     "metadata": {},
     "output_type": "display_data"
    }
   ],
   "source": [
    "plt.bar(x=df[\"run_id\"], height=df[\"r2_avg\"], yerr=df[\"r2_std\"])\n",
    "plt.title(\"R2 Score\")\n"
   ]
  },
  {
   "cell_type": "code",
   "execution_count": null,
   "metadata": {},
   "outputs": [],
   "source": []
  }
 ],
 "metadata": {
  "kernelspec": {
   "display_name": "bench",
   "language": "python",
   "name": "python3"
  },
  "language_info": {
   "codemirror_mode": {
    "name": "ipython",
    "version": 3
   },
   "file_extension": ".py",
   "mimetype": "text/x-python",
   "name": "python",
   "nbconvert_exporter": "python",
   "pygments_lexer": "ipython3",
   "version": "3.10.10"
  },
  "orig_nbformat": 4
 },
 "nbformat": 4,
 "nbformat_minor": 2
}
