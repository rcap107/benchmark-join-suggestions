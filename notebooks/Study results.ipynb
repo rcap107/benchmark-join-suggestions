{
 "cells": [
  {
   "cell_type": "code",
   "execution_count": 1,
   "metadata": {},
   "outputs": [],
   "source": [
    "%load_ext autoreload\n",
    "%autoreload 2"
   ]
  },
  {
   "cell_type": "code",
   "execution_count": 1,
   "metadata": {},
   "outputs": [
    {
     "name": "stdout",
     "output_type": "stream",
     "text": [
      "/home/soda/rcappuzz/work/benchmark-join-suggestions\n"
     ]
    }
   ],
   "source": [
    "cd /home/soda/rcappuzz/work/benchmark-join-suggestions/"
   ]
  },
  {
   "cell_type": "code",
   "execution_count": 2,
   "metadata": {},
   "outputs": [],
   "source": [
    "import json\n",
    "import pickle\n",
    "from pathlib import Path\n",
    "\n",
    "import matplotlib as mpl\n",
    "import matplotlib.pyplot as plt\n",
    "import matplotlib.ticker as ticker\n",
    "import numpy as np\n",
    "import pandas as pd\n",
    "import polars as pl\n",
    "import seaborn as sns\n",
    "from matplotlib.patches import Polygon\n",
    "\n",
    "import src.table_integration.join_profiling as jp\n",
    "import src.utils.plotting_utils as utils"
   ]
  },
  {
   "attachments": {},
   "cell_type": "markdown",
   "metadata": {},
   "source": [
    "# Compare Binary and Wordnet variants"
   ]
  },
  {
   "cell_type": "code",
   "execution_count": 166,
   "metadata": {},
   "outputs": [
    {
     "data": {
      "text/plain": [
       "Index(['scenario_id', 'status', 'variant', 'git_hash', 'index', 'base_table',\n",
       "       'candidate_table', 'iterations', 'join_strategy', 'aggregation', 'fold',\n",
       "       'avg_train', 'eval', 'avg_join', 'eval_join', 'rmse', 'r2'],\n",
       "      dtype='object')"
      ]
     },
     "execution_count": 166,
     "metadata": {},
     "output_type": "execute_result"
    }
   ],
   "source": [
    "df_og.columns"
   ]
  },
  {
   "cell_type": "code",
   "execution_count": 167,
   "metadata": {},
   "outputs": [
    {
     "data": {
      "text/html": [
       "<div>\n",
       "<style scoped>\n",
       "    .dataframe tbody tr th:only-of-type {\n",
       "        vertical-align: middle;\n",
       "    }\n",
       "\n",
       "    .dataframe tbody tr th {\n",
       "        vertical-align: top;\n",
       "    }\n",
       "\n",
       "    .dataframe thead th {\n",
       "        text-align: right;\n",
       "    }\n",
       "</style>\n",
       "<table border=\"1\" class=\"dataframe\">\n",
       "  <thead>\n",
       "    <tr style=\"text-align: right;\">\n",
       "      <th></th>\n",
       "      <th>scenario_id</th>\n",
       "      <th>variant</th>\n",
       "      <th>index</th>\n",
       "      <th>base_table</th>\n",
       "      <th>candidate_table</th>\n",
       "      <th>aggregation</th>\n",
       "      <th>iterations</th>\n",
       "      <th>r2</th>\n",
       "      <th>rmse</th>\n",
       "      <th>avg_train</th>\n",
       "      <th>eval</th>\n",
       "      <th>avg_join</th>\n",
       "      <th>eval_join</th>\n",
       "    </tr>\n",
       "  </thead>\n",
       "  <tbody>\n",
       "    <tr>\n",
       "      <th>0</th>\n",
       "      <td>169</td>\n",
       "      <td>wordnet_big</td>\n",
       "      <td>base_table</td>\n",
       "      <td>company-employees-prepared</td>\n",
       "      <td>NaN</td>\n",
       "      <td>base_table</td>\n",
       "      <td>500</td>\n",
       "      <td>0.721967</td>\n",
       "      <td>0.200266</td>\n",
       "      <td>9.311136</td>\n",
       "      <td>0.042872</td>\n",
       "      <td>NaN</td>\n",
       "      <td>NaN</td>\n",
       "    </tr>\n",
       "    <tr>\n",
       "      <th>1</th>\n",
       "      <td>170</td>\n",
       "      <td>wordnet_big</td>\n",
       "      <td>base_table</td>\n",
       "      <td>company-employees-prepared</td>\n",
       "      <td>NaN</td>\n",
       "      <td>base_table</td>\n",
       "      <td>500</td>\n",
       "      <td>0.722624</td>\n",
       "      <td>0.195809</td>\n",
       "      <td>9.604287</td>\n",
       "      <td>0.044113</td>\n",
       "      <td>NaN</td>\n",
       "      <td>NaN</td>\n",
       "    </tr>\n",
       "    <tr>\n",
       "      <th>2</th>\n",
       "      <td>171</td>\n",
       "      <td>wordnet_big</td>\n",
       "      <td>base_table</td>\n",
       "      <td>company-employees-prepared</td>\n",
       "      <td>NaN</td>\n",
       "      <td>base_table</td>\n",
       "      <td>500</td>\n",
       "      <td>0.729439</td>\n",
       "      <td>0.206637</td>\n",
       "      <td>9.323175</td>\n",
       "      <td>0.039726</td>\n",
       "      <td>NaN</td>\n",
       "      <td>NaN</td>\n",
       "    </tr>\n",
       "    <tr>\n",
       "      <th>3</th>\n",
       "      <td>171</td>\n",
       "      <td>wordnet_big</td>\n",
       "      <td>minhash</td>\n",
       "      <td>company-employees-prepared</td>\n",
       "      <td>best_candidate</td>\n",
       "      <td>none</td>\n",
       "      <td>500</td>\n",
       "      <td>0.745802</td>\n",
       "      <td>0.200292</td>\n",
       "      <td>7.698875</td>\n",
       "      <td>0.034125</td>\n",
       "      <td>0.019588</td>\n",
       "      <td>0.006430</td>\n",
       "    </tr>\n",
       "    <tr>\n",
       "      <th>4</th>\n",
       "      <td>171</td>\n",
       "      <td>wordnet_big</td>\n",
       "      <td>base_table</td>\n",
       "      <td>company-employees-prepared</td>\n",
       "      <td>NaN</td>\n",
       "      <td>base_table</td>\n",
       "      <td>500</td>\n",
       "      <td>0.717196</td>\n",
       "      <td>0.201295</td>\n",
       "      <td>5.756852</td>\n",
       "      <td>0.035218</td>\n",
       "      <td>NaN</td>\n",
       "      <td>NaN</td>\n",
       "    </tr>\n",
       "    <tr>\n",
       "      <th>...</th>\n",
       "      <td>...</td>\n",
       "      <td>...</td>\n",
       "      <td>...</td>\n",
       "      <td>...</td>\n",
       "      <td>...</td>\n",
       "      <td>...</td>\n",
       "      <td>...</td>\n",
       "      <td>...</td>\n",
       "      <td>...</td>\n",
       "      <td>...</td>\n",
       "      <td>...</td>\n",
       "      <td>...</td>\n",
       "      <td>...</td>\n",
       "    </tr>\n",
       "    <tr>\n",
       "      <th>273</th>\n",
       "      <td>201</td>\n",
       "      <td>wordnet_big</td>\n",
       "      <td>minhash</td>\n",
       "      <td>presidential-results-prepared-new</td>\n",
       "      <td>best_candidate</td>\n",
       "      <td>dfs</td>\n",
       "      <td>500</td>\n",
       "      <td>0.707555</td>\n",
       "      <td>0.720304</td>\n",
       "      <td>16.240574</td>\n",
       "      <td>0.089300</td>\n",
       "      <td>1.660612</td>\n",
       "      <td>0.886664</td>\n",
       "    </tr>\n",
       "    <tr>\n",
       "      <th>270</th>\n",
       "      <td>201</td>\n",
       "      <td>wordnet_big</td>\n",
       "      <td>base_table</td>\n",
       "      <td>presidential-results-prepared-new</td>\n",
       "      <td>NaN</td>\n",
       "      <td>base_table</td>\n",
       "      <td>500</td>\n",
       "      <td>0.690003</td>\n",
       "      <td>0.735681</td>\n",
       "      <td>10.068616</td>\n",
       "      <td>0.063483</td>\n",
       "      <td>NaN</td>\n",
       "      <td>NaN</td>\n",
       "    </tr>\n",
       "    <tr>\n",
       "      <th>271</th>\n",
       "      <td>201</td>\n",
       "      <td>wordnet_big</td>\n",
       "      <td>minhash</td>\n",
       "      <td>presidential-results-prepared-new</td>\n",
       "      <td>best_candidate</td>\n",
       "      <td>dfs</td>\n",
       "      <td>500</td>\n",
       "      <td>0.699821</td>\n",
       "      <td>0.723938</td>\n",
       "      <td>15.195804</td>\n",
       "      <td>0.095198</td>\n",
       "      <td>1.666093</td>\n",
       "      <td>1.051379</td>\n",
       "    </tr>\n",
       "    <tr>\n",
       "      <th>272</th>\n",
       "      <td>201</td>\n",
       "      <td>wordnet_big</td>\n",
       "      <td>base_table</td>\n",
       "      <td>presidential-results-prepared-new</td>\n",
       "      <td>NaN</td>\n",
       "      <td>base_table</td>\n",
       "      <td>500</td>\n",
       "      <td>0.698530</td>\n",
       "      <td>0.731334</td>\n",
       "      <td>7.245033</td>\n",
       "      <td>0.063932</td>\n",
       "      <td>NaN</td>\n",
       "      <td>NaN</td>\n",
       "    </tr>\n",
       "    <tr>\n",
       "      <th>274</th>\n",
       "      <td>201</td>\n",
       "      <td>wordnet_big</td>\n",
       "      <td>base_table</td>\n",
       "      <td>presidential-results-prepared-new</td>\n",
       "      <td>NaN</td>\n",
       "      <td>base_table</td>\n",
       "      <td>500</td>\n",
       "      <td>0.698299</td>\n",
       "      <td>0.735407</td>\n",
       "      <td>6.398216</td>\n",
       "      <td>0.066426</td>\n",
       "      <td>NaN</td>\n",
       "      <td>NaN</td>\n",
       "    </tr>\n",
       "  </tbody>\n",
       "</table>\n",
       "<p>275 rows × 13 columns</p>\n",
       "</div>"
      ],
      "text/plain": [
       "     scenario_id      variant       index                         base_table  \\\n",
       "0            169  wordnet_big  base_table         company-employees-prepared   \n",
       "1            170  wordnet_big  base_table         company-employees-prepared   \n",
       "2            171  wordnet_big  base_table         company-employees-prepared   \n",
       "3            171  wordnet_big     minhash         company-employees-prepared   \n",
       "4            171  wordnet_big  base_table         company-employees-prepared   \n",
       "..           ...          ...         ...                                ...   \n",
       "273          201  wordnet_big     minhash  presidential-results-prepared-new   \n",
       "270          201  wordnet_big  base_table  presidential-results-prepared-new   \n",
       "271          201  wordnet_big     minhash  presidential-results-prepared-new   \n",
       "272          201  wordnet_big  base_table  presidential-results-prepared-new   \n",
       "274          201  wordnet_big  base_table  presidential-results-prepared-new   \n",
       "\n",
       "    candidate_table aggregation  iterations        r2      rmse  avg_train  \\\n",
       "0               NaN  base_table         500  0.721967  0.200266   9.311136   \n",
       "1               NaN  base_table         500  0.722624  0.195809   9.604287   \n",
       "2               NaN  base_table         500  0.729439  0.206637   9.323175   \n",
       "3    best_candidate        none         500  0.745802  0.200292   7.698875   \n",
       "4               NaN  base_table         500  0.717196  0.201295   5.756852   \n",
       "..              ...         ...         ...       ...       ...        ...   \n",
       "273  best_candidate         dfs         500  0.707555  0.720304  16.240574   \n",
       "270             NaN  base_table         500  0.690003  0.735681  10.068616   \n",
       "271  best_candidate         dfs         500  0.699821  0.723938  15.195804   \n",
       "272             NaN  base_table         500  0.698530  0.731334   7.245033   \n",
       "274             NaN  base_table         500  0.698299  0.735407   6.398216   \n",
       "\n",
       "         eval  avg_join  eval_join  \n",
       "0    0.042872       NaN        NaN  \n",
       "1    0.044113       NaN        NaN  \n",
       "2    0.039726       NaN        NaN  \n",
       "3    0.034125  0.019588   0.006430  \n",
       "4    0.035218       NaN        NaN  \n",
       "..        ...       ...        ...  \n",
       "273  0.089300  1.660612   0.886664  \n",
       "270  0.063483       NaN        NaN  \n",
       "271  0.095198  1.666093   1.051379  \n",
       "272  0.063932       NaN        NaN  \n",
       "274  0.066426       NaN        NaN  \n",
       "\n",
       "[275 rows x 13 columns]"
      ]
     },
     "execution_count": 167,
     "metadata": {},
     "output_type": "execute_result"
    }
   ],
   "source": [
    "df_og = pd.read_csv(\"results/results_crossval.log\")\n",
    "select_col = [\n",
    "    \"scenario_id\",\n",
    "    \"variant\",\n",
    "    \"index\",\n",
    "    \"base_table\",\n",
    "    \"candidate_table\",\n",
    "    \"aggregation\",\n",
    "    \"iterations\",\n",
    "    \"r2\",\n",
    "    \"rmse\",\n",
    "    \"avg_train\",\n",
    "    \"eval\",\n",
    "    \"avg_join\",\n",
    "    \"eval_join\"\n",
    "]\n",
    "df = df_og[select_col].sort_values(\"scenario_id\")\n",
    "df.loc[df[\"index\"] == \"base_table\", \"aggregation\"]=\"base_table\"\n",
    "df"
   ]
  },
  {
   "cell_type": "code",
   "execution_count": 168,
   "metadata": {},
   "outputs": [],
   "source": [
    "df_p = pl.from_pandas(df)"
   ]
  },
  {
   "attachments": {},
   "cell_type": "markdown",
   "metadata": {},
   "source": [
    "# Measure containment, compare with actual performance"
   ]
  },
  {
   "cell_type": "code",
   "execution_count": 7,
   "metadata": {},
   "outputs": [],
   "source": [
    "df = pl.read_csv(\"results/results.log\")"
   ]
  },
  {
   "cell_type": "code",
   "execution_count": 8,
   "metadata": {},
   "outputs": [
    {
     "data": {
      "text/html": [
       "<div><style>\n",
       ".dataframe > thead > tr > th,\n",
       ".dataframe > tbody > tr > td {\n",
       "  text-align: right;\n",
       "}\n",
       "</style>\n",
       "<small>shape: (945, 22)</small><table border=\"1\" class=\"dataframe\"><thead><tr><th>scenario_id</th><th>status</th><th>target_dl</th><th>git_hash</th><th>index_name</th><th>source_table</th><th>candidate_table</th><th>iterations</th><th>join_strategy</th><th>aggregation</th><th>fold_id</th><th>run_start</th><th>run_end</th><th>duration</th><th>join_start</th><th>join_end</th><th>join_duration</th><th>similarity</th><th>size_prejoin</th><th>size_postjoin</th><th>rmse</th><th>r2score</th></tr><tr><td>i64</td><td>str</td><td>str</td><td>str</td><td>str</td><td>str</td><td>str</td><td>i64</td><td>str</td><td>str</td><td>i64</td><td>str</td><td>str</td><td>f64</td><td>str</td><td>str</td><td>str</td><td>i64</td><td>i64</td><td>i64</td><td>f64</td><td>f64</td></tr></thead><tbody><tr><td>40</td><td>&quot;SUCCESS&quot;</td><td>&quot;wordnet&quot;</td><td>&quot;57f426cdf822e8…</td><td>&quot;base_table&quot;</td><td>&quot;presidential-r…</td><td>null</td><td>1000</td><td>&quot;left&quot;</td><td>&quot;none&quot;</td><td>0</td><td>&quot;2023-06-03 00:…</td><td>&quot;2023-06-03 00:…</td><td>9.630954</td><td>null</td><td>null</td><td>null</td><td>null</td><td>null</td><td>null</td><td>0.612838</td><td>0.815007</td></tr><tr><td>40</td><td>&quot;SUCCESS&quot;</td><td>&quot;wordnet&quot;</td><td>&quot;57f426cdf822e8…</td><td>&quot;base_table&quot;</td><td>&quot;presidential-r…</td><td>null</td><td>1000</td><td>&quot;left&quot;</td><td>&quot;none&quot;</td><td>1</td><td>&quot;2023-06-03 00:…</td><td>&quot;2023-06-03 00:…</td><td>9.490498</td><td>null</td><td>null</td><td>null</td><td>null</td><td>null</td><td>null</td><td>0.516433</td><td>0.824124</td></tr><tr><td>40</td><td>&quot;SUCCESS&quot;</td><td>&quot;wordnet&quot;</td><td>&quot;57f426cdf822e8…</td><td>&quot;base_table&quot;</td><td>&quot;presidential-r…</td><td>null</td><td>1000</td><td>&quot;left&quot;</td><td>&quot;none&quot;</td><td>2</td><td>&quot;2023-06-03 00:…</td><td>&quot;2023-06-03 00:…</td><td>9.63213</td><td>null</td><td>null</td><td>null</td><td>null</td><td>null</td><td>null</td><td>0.57913</td><td>0.8038</td></tr><tr><td>40</td><td>&quot;SUCCESS&quot;</td><td>&quot;wordnet&quot;</td><td>&quot;57f426cdf822e8…</td><td>&quot;base_table&quot;</td><td>&quot;presidential-r…</td><td>null</td><td>1000</td><td>&quot;left&quot;</td><td>&quot;none&quot;</td><td>3</td><td>&quot;2023-06-03 00:…</td><td>&quot;2023-06-03 00:…</td><td>9.580429</td><td>null</td><td>null</td><td>null</td><td>null</td><td>null</td><td>null</td><td>0.786311</td><td>0.705055</td></tr><tr><td>40</td><td>&quot;SUCCESS&quot;</td><td>&quot;wordnet&quot;</td><td>&quot;57f426cdf822e8…</td><td>&quot;base_table&quot;</td><td>&quot;presidential-r…</td><td>null</td><td>1000</td><td>&quot;left&quot;</td><td>&quot;none&quot;</td><td>4</td><td>&quot;2023-06-03 00:…</td><td>&quot;2023-06-03 00:…</td><td>9.617486</td><td>null</td><td>null</td><td>null</td><td>null</td><td>null</td><td>null</td><td>0.776477</td><td>0.695001</td></tr><tr><td>40</td><td>&quot;SUCCESS&quot;</td><td>&quot;wordnet&quot;</td><td>&quot;57f426cdf822e8…</td><td>&quot;minhash&quot;</td><td>&quot;presidential-r…</td><td>&quot;/storage/store…</td><td>1000</td><td>&quot;left&quot;</td><td>&quot;none&quot;</td><td>0</td><td>&quot;2023-06-03 00:…</td><td>&quot;2023-06-03 00:…</td><td>10.567645</td><td>&quot;2023-06-03 00:…</td><td>&quot;2023-06-03 00:…</td><td>null</td><td>10</td><td>22084</td><td>22128</td><td>0.649208</td><td>0.793548</td></tr><tr><td>40</td><td>&quot;SUCCESS&quot;</td><td>&quot;wordnet&quot;</td><td>&quot;57f426cdf822e8…</td><td>&quot;minhash&quot;</td><td>&quot;presidential-r…</td><td>&quot;/storage/store…</td><td>1000</td><td>&quot;left&quot;</td><td>&quot;none&quot;</td><td>1</td><td>&quot;2023-06-03 00:…</td><td>&quot;2023-06-03 00:…</td><td>10.539022</td><td>&quot;2023-06-03 00:…</td><td>&quot;2023-06-03 00:…</td><td>null</td><td>10</td><td>22084</td><td>22128</td><td>0.453567</td><td>0.864248</td></tr><tr><td>40</td><td>&quot;SUCCESS&quot;</td><td>&quot;wordnet&quot;</td><td>&quot;57f426cdf822e8…</td><td>&quot;minhash&quot;</td><td>&quot;presidential-r…</td><td>&quot;/storage/store…</td><td>1000</td><td>&quot;left&quot;</td><td>&quot;none&quot;</td><td>2</td><td>&quot;2023-06-03 00:…</td><td>&quot;2023-06-03 00:…</td><td>10.506578</td><td>&quot;2023-06-03 00:…</td><td>&quot;2023-06-03 00:…</td><td>null</td><td>10</td><td>22084</td><td>22128</td><td>0.455016</td><td>0.87938</td></tr><tr><td>40</td><td>&quot;SUCCESS&quot;</td><td>&quot;wordnet&quot;</td><td>&quot;57f426cdf822e8…</td><td>&quot;minhash&quot;</td><td>&quot;presidential-r…</td><td>&quot;/storage/store…</td><td>1000</td><td>&quot;left&quot;</td><td>&quot;none&quot;</td><td>3</td><td>&quot;2023-06-03 00:…</td><td>&quot;2023-06-03 00:…</td><td>10.513206</td><td>&quot;2023-06-03 00:…</td><td>&quot;2023-06-03 00:…</td><td>null</td><td>10</td><td>22084</td><td>22128</td><td>0.823458</td><td>0.676603</td></tr><tr><td>40</td><td>&quot;SUCCESS&quot;</td><td>&quot;wordnet&quot;</td><td>&quot;57f426cdf822e8…</td><td>&quot;minhash&quot;</td><td>&quot;presidential-r…</td><td>&quot;/storage/store…</td><td>1000</td><td>&quot;left&quot;</td><td>&quot;none&quot;</td><td>4</td><td>&quot;2023-06-03 00:…</td><td>&quot;2023-06-03 00:…</td><td>10.570341</td><td>&quot;2023-06-03 00:…</td><td>&quot;2023-06-03 00:…</td><td>null</td><td>10</td><td>22084</td><td>22128</td><td>0.892168</td><td>0.597242</td></tr><tr><td>40</td><td>&quot;SUCCESS&quot;</td><td>&quot;wordnet&quot;</td><td>&quot;57f426cdf822e8…</td><td>&quot;minhash&quot;</td><td>&quot;presidential-r…</td><td>&quot;/storage/store…</td><td>1000</td><td>&quot;left&quot;</td><td>&quot;none&quot;</td><td>0</td><td>&quot;2023-06-03 00:…</td><td>&quot;2023-06-03 00:…</td><td>10.562621</td><td>&quot;2023-06-03 00:…</td><td>&quot;2023-06-03 00:…</td><td>null</td><td>10</td><td>22084</td><td>22104</td><td>0.673391</td><td>0.777149</td></tr><tr><td>40</td><td>&quot;SUCCESS&quot;</td><td>&quot;wordnet&quot;</td><td>&quot;57f426cdf822e8…</td><td>&quot;minhash&quot;</td><td>&quot;presidential-r…</td><td>&quot;/storage/store…</td><td>1000</td><td>&quot;left&quot;</td><td>&quot;none&quot;</td><td>1</td><td>&quot;2023-06-03 00:…</td><td>&quot;2023-06-03 00:…</td><td>10.448812</td><td>&quot;2023-06-03 00:…</td><td>&quot;2023-06-03 00:…</td><td>null</td><td>10</td><td>22084</td><td>22104</td><td>0.417941</td><td>0.884774</td></tr><tr><td>&hellip;</td><td>&hellip;</td><td>&hellip;</td><td>&hellip;</td><td>&hellip;</td><td>&hellip;</td><td>&hellip;</td><td>&hellip;</td><td>&hellip;</td><td>&hellip;</td><td>&hellip;</td><td>&hellip;</td><td>&hellip;</td><td>&hellip;</td><td>&hellip;</td><td>&hellip;</td><td>&hellip;</td><td>&hellip;</td><td>&hellip;</td><td>&hellip;</td><td>&hellip;</td><td>&hellip;</td></tr><tr><td>48</td><td>&quot;SUCCESS&quot;</td><td>&quot;wordnet&quot;</td><td>&quot;57f426cdf822e8…</td><td>&quot;minhash&quot;</td><td>&quot;movies-prepare…</td><td>&quot;/storage/store…</td><td>1000</td><td>&quot;left&quot;</td><td>&quot;dfs&quot;</td><td>3</td><td>&quot;2023-06-03 03:…</td><td>&quot;2023-06-03 03:…</td><td>8.947986</td><td>&quot;2023-06-03 03:…</td><td>&quot;2023-06-03 03:…</td><td>null</td><td>20</td><td>3853</td><td>3794</td><td>0.778754</td><td>0.621676</td></tr><tr><td>48</td><td>&quot;SUCCESS&quot;</td><td>&quot;wordnet&quot;</td><td>&quot;57f426cdf822e8…</td><td>&quot;minhash&quot;</td><td>&quot;movies-prepare…</td><td>&quot;/storage/store…</td><td>1000</td><td>&quot;left&quot;</td><td>&quot;dfs&quot;</td><td>4</td><td>&quot;2023-06-03 03:…</td><td>&quot;2023-06-03 03:…</td><td>9.224597</td><td>&quot;2023-06-03 03:…</td><td>&quot;2023-06-03 03:…</td><td>null</td><td>20</td><td>3853</td><td>3794</td><td>0.81358</td><td>0.618698</td></tr><tr><td>48</td><td>&quot;SUCCESS&quot;</td><td>&quot;wordnet&quot;</td><td>&quot;57f426cdf822e8…</td><td>&quot;minhash&quot;</td><td>&quot;movies-prepare…</td><td>&quot;/storage/store…</td><td>1000</td><td>&quot;left&quot;</td><td>&quot;dfs&quot;</td><td>0</td><td>&quot;2023-06-03 03:…</td><td>&quot;2023-06-03 03:…</td><td>8.562522</td><td>&quot;2023-06-03 03:…</td><td>&quot;2023-06-03 03:…</td><td>null</td><td>20</td><td>3853</td><td>3794</td><td>0.706801</td><td>0.630383</td></tr><tr><td>48</td><td>&quot;SUCCESS&quot;</td><td>&quot;wordnet&quot;</td><td>&quot;57f426cdf822e8…</td><td>&quot;minhash&quot;</td><td>&quot;movies-prepare…</td><td>&quot;/storage/store…</td><td>1000</td><td>&quot;left&quot;</td><td>&quot;dfs&quot;</td><td>1</td><td>&quot;2023-06-03 03:…</td><td>&quot;2023-06-03 03:…</td><td>8.462343</td><td>&quot;2023-06-03 03:…</td><td>&quot;2023-06-03 03:…</td><td>null</td><td>20</td><td>3853</td><td>3794</td><td>0.718731</td><td>0.67915</td></tr><tr><td>48</td><td>&quot;SUCCESS&quot;</td><td>&quot;wordnet&quot;</td><td>&quot;57f426cdf822e8…</td><td>&quot;minhash&quot;</td><td>&quot;movies-prepare…</td><td>&quot;/storage/store…</td><td>1000</td><td>&quot;left&quot;</td><td>&quot;dfs&quot;</td><td>2</td><td>&quot;2023-06-03 03:…</td><td>&quot;2023-06-03 03:…</td><td>8.574807</td><td>&quot;2023-06-03 03:…</td><td>&quot;2023-06-03 03:…</td><td>null</td><td>20</td><td>3853</td><td>3794</td><td>0.808647</td><td>0.608287</td></tr><tr><td>48</td><td>&quot;SUCCESS&quot;</td><td>&quot;wordnet&quot;</td><td>&quot;57f426cdf822e8…</td><td>&quot;minhash&quot;</td><td>&quot;movies-prepare…</td><td>&quot;/storage/store…</td><td>1000</td><td>&quot;left&quot;</td><td>&quot;dfs&quot;</td><td>3</td><td>&quot;2023-06-03 03:…</td><td>&quot;2023-06-03 03:…</td><td>8.540836</td><td>&quot;2023-06-03 03:…</td><td>&quot;2023-06-03 03:…</td><td>null</td><td>20</td><td>3853</td><td>3794</td><td>0.874652</td><td>0.586196</td></tr><tr><td>48</td><td>&quot;SUCCESS&quot;</td><td>&quot;wordnet&quot;</td><td>&quot;57f426cdf822e8…</td><td>&quot;minhash&quot;</td><td>&quot;movies-prepare…</td><td>&quot;/storage/store…</td><td>1000</td><td>&quot;left&quot;</td><td>&quot;dfs&quot;</td><td>4</td><td>&quot;2023-06-03 03:…</td><td>&quot;2023-06-03 03:…</td><td>8.414988</td><td>&quot;2023-06-03 03:…</td><td>&quot;2023-06-03 03:…</td><td>null</td><td>20</td><td>3853</td><td>3794</td><td>0.728707</td><td>0.653243</td></tr><tr><td>48</td><td>&quot;SUCCESS&quot;</td><td>&quot;wordnet&quot;</td><td>&quot;57f426cdf822e8…</td><td>&quot;minhash&quot;</td><td>&quot;movies-prepare…</td><td>&quot;/storage/store…</td><td>1000</td><td>&quot;left&quot;</td><td>&quot;dfs&quot;</td><td>0</td><td>&quot;2023-06-03 03:…</td><td>&quot;2023-06-03 03:…</td><td>7.809995</td><td>&quot;2023-06-03 03:…</td><td>&quot;2023-06-03 03:…</td><td>null</td><td>20</td><td>3853</td><td>3794</td><td>0.782638</td><td>0.621126</td></tr><tr><td>48</td><td>&quot;SUCCESS&quot;</td><td>&quot;wordnet&quot;</td><td>&quot;57f426cdf822e8…</td><td>&quot;minhash&quot;</td><td>&quot;movies-prepare…</td><td>&quot;/storage/store…</td><td>1000</td><td>&quot;left&quot;</td><td>&quot;dfs&quot;</td><td>1</td><td>&quot;2023-06-03 03:…</td><td>&quot;2023-06-03 03:…</td><td>7.715319</td><td>&quot;2023-06-03 03:…</td><td>&quot;2023-06-03 03:…</td><td>null</td><td>20</td><td>3853</td><td>3794</td><td>0.858231</td><td>0.597033</td></tr><tr><td>48</td><td>&quot;SUCCESS&quot;</td><td>&quot;wordnet&quot;</td><td>&quot;57f426cdf822e8…</td><td>&quot;minhash&quot;</td><td>&quot;movies-prepare…</td><td>&quot;/storage/store…</td><td>1000</td><td>&quot;left&quot;</td><td>&quot;dfs&quot;</td><td>2</td><td>&quot;2023-06-03 03:…</td><td>&quot;2023-06-03 03:…</td><td>7.64357</td><td>&quot;2023-06-03 03:…</td><td>&quot;2023-06-03 03:…</td><td>null</td><td>20</td><td>3853</td><td>3794</td><td>0.720187</td><td>0.60356</td></tr><tr><td>48</td><td>&quot;SUCCESS&quot;</td><td>&quot;wordnet&quot;</td><td>&quot;57f426cdf822e8…</td><td>&quot;minhash&quot;</td><td>&quot;movies-prepare…</td><td>&quot;/storage/store…</td><td>1000</td><td>&quot;left&quot;</td><td>&quot;dfs&quot;</td><td>3</td><td>&quot;2023-06-03 03:…</td><td>&quot;2023-06-03 03:…</td><td>7.597186</td><td>&quot;2023-06-03 03:…</td><td>&quot;2023-06-03 03:…</td><td>null</td><td>20</td><td>3853</td><td>3794</td><td>0.719143</td><td>0.675411</td></tr><tr><td>48</td><td>&quot;SUCCESS&quot;</td><td>&quot;wordnet&quot;</td><td>&quot;57f426cdf822e8…</td><td>&quot;minhash&quot;</td><td>&quot;movies-prepare…</td><td>&quot;/storage/store…</td><td>1000</td><td>&quot;left&quot;</td><td>&quot;dfs&quot;</td><td>4</td><td>&quot;2023-06-03 03:…</td><td>&quot;2023-06-03 03:…</td><td>7.750642</td><td>&quot;2023-06-03 03:…</td><td>&quot;2023-06-03 03:…</td><td>null</td><td>20</td><td>3853</td><td>3794</td><td>0.760115</td><td>0.654235</td></tr></tbody></table></div>"
      ],
      "text/plain": [
       "shape: (945, 22)\n",
       "┌───────────┬─────────┬───────────┬────────────┬───┬────────────┬────────────┬──────────┬──────────┐\n",
       "│ scenario_ ┆ status  ┆ target_dl ┆ git_hash   ┆ … ┆ size_prejo ┆ size_postj ┆ rmse     ┆ r2score  │\n",
       "│ id        ┆ ---     ┆ ---       ┆ ---        ┆   ┆ in         ┆ oin        ┆ ---      ┆ ---      │\n",
       "│ ---       ┆ str     ┆ str       ┆ str        ┆   ┆ ---        ┆ ---        ┆ f64      ┆ f64      │\n",
       "│ i64       ┆         ┆           ┆            ┆   ┆ i64        ┆ i64        ┆          ┆          │\n",
       "╞═══════════╪═════════╪═══════════╪════════════╪═══╪════════════╪════════════╪══════════╪══════════╡\n",
       "│ 40        ┆ SUCCESS ┆ wordnet   ┆ 57f426cdf8 ┆ … ┆ null       ┆ null       ┆ 0.612838 ┆ 0.815007 │\n",
       "│           ┆         ┆           ┆ 22e862b8be ┆   ┆            ┆            ┆          ┆          │\n",
       "│           ┆         ┆           ┆ c5f3bfac01 ┆   ┆            ┆            ┆          ┆          │\n",
       "│           ┆         ┆           ┆ 8f…        ┆   ┆            ┆            ┆          ┆          │\n",
       "│ 40        ┆ SUCCESS ┆ wordnet   ┆ 57f426cdf8 ┆ … ┆ null       ┆ null       ┆ 0.516433 ┆ 0.824124 │\n",
       "│           ┆         ┆           ┆ 22e862b8be ┆   ┆            ┆            ┆          ┆          │\n",
       "│           ┆         ┆           ┆ c5f3bfac01 ┆   ┆            ┆            ┆          ┆          │\n",
       "│           ┆         ┆           ┆ 8f…        ┆   ┆            ┆            ┆          ┆          │\n",
       "│ 40        ┆ SUCCESS ┆ wordnet   ┆ 57f426cdf8 ┆ … ┆ null       ┆ null       ┆ 0.57913  ┆ 0.8038   │\n",
       "│           ┆         ┆           ┆ 22e862b8be ┆   ┆            ┆            ┆          ┆          │\n",
       "│           ┆         ┆           ┆ c5f3bfac01 ┆   ┆            ┆            ┆          ┆          │\n",
       "│           ┆         ┆           ┆ 8f…        ┆   ┆            ┆            ┆          ┆          │\n",
       "│ 40        ┆ SUCCESS ┆ wordnet   ┆ 57f426cdf8 ┆ … ┆ null       ┆ null       ┆ 0.786311 ┆ 0.705055 │\n",
       "│           ┆         ┆           ┆ 22e862b8be ┆   ┆            ┆            ┆          ┆          │\n",
       "│           ┆         ┆           ┆ c5f3bfac01 ┆   ┆            ┆            ┆          ┆          │\n",
       "│           ┆         ┆           ┆ 8f…        ┆   ┆            ┆            ┆          ┆          │\n",
       "│ …         ┆ …       ┆ …         ┆ …          ┆ … ┆ …          ┆ …          ┆ …        ┆ …        │\n",
       "│ 48        ┆ SUCCESS ┆ wordnet   ┆ 57f426cdf8 ┆ … ┆ 3853       ┆ 3794       ┆ 0.858231 ┆ 0.597033 │\n",
       "│           ┆         ┆           ┆ 22e862b8be ┆   ┆            ┆            ┆          ┆          │\n",
       "│           ┆         ┆           ┆ c5f3bfac01 ┆   ┆            ┆            ┆          ┆          │\n",
       "│           ┆         ┆           ┆ 8f…        ┆   ┆            ┆            ┆          ┆          │\n",
       "│ 48        ┆ SUCCESS ┆ wordnet   ┆ 57f426cdf8 ┆ … ┆ 3853       ┆ 3794       ┆ 0.720187 ┆ 0.60356  │\n",
       "│           ┆         ┆           ┆ 22e862b8be ┆   ┆            ┆            ┆          ┆          │\n",
       "│           ┆         ┆           ┆ c5f3bfac01 ┆   ┆            ┆            ┆          ┆          │\n",
       "│           ┆         ┆           ┆ 8f…        ┆   ┆            ┆            ┆          ┆          │\n",
       "│ 48        ┆ SUCCESS ┆ wordnet   ┆ 57f426cdf8 ┆ … ┆ 3853       ┆ 3794       ┆ 0.719143 ┆ 0.675411 │\n",
       "│           ┆         ┆           ┆ 22e862b8be ┆   ┆            ┆            ┆          ┆          │\n",
       "│           ┆         ┆           ┆ c5f3bfac01 ┆   ┆            ┆            ┆          ┆          │\n",
       "│           ┆         ┆           ┆ 8f…        ┆   ┆            ┆            ┆          ┆          │\n",
       "│ 48        ┆ SUCCESS ┆ wordnet   ┆ 57f426cdf8 ┆ … ┆ 3853       ┆ 3794       ┆ 0.760115 ┆ 0.654235 │\n",
       "│           ┆         ┆           ┆ 22e862b8be ┆   ┆            ┆            ┆          ┆          │\n",
       "│           ┆         ┆           ┆ c5f3bfac01 ┆   ┆            ┆            ┆          ┆          │\n",
       "│           ┆         ┆           ┆ 8f…        ┆   ┆            ┆            ┆          ┆          │\n",
       "└───────────┴─────────┴───────────┴────────────┴───┴────────────┴────────────┴──────────┴──────────┘"
      ]
     },
     "execution_count": 8,
     "metadata": {},
     "output_type": "execute_result"
    }
   ],
   "source": [
    "df"
   ]
  },
  {
   "cell_type": "code",
   "execution_count": 9,
   "metadata": {},
   "outputs": [],
   "source": [
    "base_tables = {}\n",
    "for md in Path(\"data/metadata/queries\").glob(\"*.json\"):\n",
    "    md_dict = json.load(open(md, \"r\"))\n",
    "    base_tables[md_dict[\"df_name\"]] = md_dict[\"full_path\"]"
   ]
  },
  {
   "cell_type": "code",
   "execution_count": 10,
   "metadata": {},
   "outputs": [
    {
     "data": {
      "text/plain": [
       "{'full_path': '/storage/store/work/rcappuzz/ken_datasets/the-movies-dataset/movies-prepared.parquet',\n",
       " 'hash': '310b7e82655f2beaba69e8b482d43b65',\n",
       " 'df_name': 'movies-prepared',\n",
       " 'source_dl': 'queries',\n",
       " 'license': '',\n",
       " 'path_metadata': '/storage/store/work/rcappuzz/metadata/queries/310b7e82655f2beaba69e8b482d43b65.json'}"
      ]
     },
     "execution_count": 10,
     "metadata": {},
     "output_type": "execute_result"
    }
   ],
   "source": [
    "md_dict"
   ]
  },
  {
   "cell_type": "code",
   "execution_count": 11,
   "metadata": {},
   "outputs": [],
   "source": [
    "subset = df.select(\n",
    "    pl.col(\"source_table\"),\n",
    "    pl.col(\"candidate_table\"),\n",
    "    pl.col(\"similarity\"),\n",
    "    pl.col(\"rmse\"),\n",
    "    pl.col(\"r2score\"),\n",
    ").unique([\"source_table\", \"candidate_table\"]).with_columns(\n",
    "    pl.col(\"source_table\").map_dict(base_tables)\n",
    ")"
   ]
  },
  {
   "cell_type": "code",
   "execution_count": 12,
   "metadata": {},
   "outputs": [],
   "source": [
    "path_candidates = Path(\"generated_candidates_company-employees-prepared.pickle\")\n",
    "c_full = pickle.load(open(path_candidates, \"rb\"))\n",
    "candidates = c_full[\"minhash\"]"
   ]
  },
  {
   "cell_type": "code",
   "execution_count": 13,
   "metadata": {},
   "outputs": [],
   "source": [
    "list_dict=[]\n",
    "for c, cand in candidates.items():\n",
    "    src_md = cand.source_metadata\n",
    "    cand_md = cand.candidate_metadata\n",
    "    left_on = cand.left_on\n",
    "    right_on = cand.right_on\n",
    "    source_table = pl.read_parquet(src_md[\"full_path\"])\n",
    "    candidate_table = pl.read_parquet(cand_md[\"full_path\"])\n",
    "    containment=jp.measure_containment(source_table, candidate_table, left_on, right_on)\n",
    "    c_dict = {\n",
    "        \"source_table\": src_md[\"full_path\"],\n",
    "        \"candidate_table\": cand_md[\"full_path\"],\n",
    "        \"similarity\": cand.similarity_score,\n",
    "        \"containment\": containment\n",
    "    }\n",
    "    list_dict.append(c_dict)"
   ]
  },
  {
   "cell_type": "code",
   "execution_count": 14,
   "metadata": {},
   "outputs": [],
   "source": [
    "stat_containment = pl.from_dicts(list_dict)"
   ]
  },
  {
   "cell_type": "code",
   "execution_count": 15,
   "metadata": {},
   "outputs": [],
   "source": [
    "joined = stat_containment.join(\n",
    "    subset, on=[\"source_table\", \"candidate_table\"]\n",
    ")"
   ]
  },
  {
   "cell_type": "code",
   "execution_count": 16,
   "metadata": {},
   "outputs": [
    {
     "data": {
      "text/html": [
       "<div><style>\n",
       ".dataframe > thead > tr > th,\n",
       ".dataframe > tbody > tr > td {\n",
       "  text-align: right;\n",
       "}\n",
       "</style>\n",
       "<small>shape: (20, 7)</small><table border=\"1\" class=\"dataframe\"><thead><tr><th>source_table</th><th>candidate_table</th><th>similarity</th><th>containment</th><th>similarity_right</th><th>rmse</th><th>r2score</th></tr><tr><td>str</td><td>str</td><td>i64</td><td>f64</td><td>i64</td><td>f64</td><td>f64</td></tr></thead><tbody><tr><td>&quot;/storage/store…</td><td>&quot;/storage/store…</td><td>20</td><td>0.128505</td><td>20</td><td>1.088063</td><td>-47.635989</td></tr><tr><td>&quot;/storage/store…</td><td>&quot;/storage/store…</td><td>20</td><td>0.003338</td><td>20</td><td>0.58127</td><td>-2.620841</td></tr><tr><td>&quot;/storage/store…</td><td>&quot;/storage/store…</td><td>20</td><td>0.199599</td><td>20</td><td>0.5574</td><td>-2.45069</td></tr><tr><td>&quot;/storage/store…</td><td>&quot;/storage/store…</td><td>20</td><td>0.001669</td><td>20</td><td>0.208535</td><td>0.725245</td></tr><tr><td>&quot;/storage/store…</td><td>&quot;/storage/store…</td><td>20</td><td>0.002003</td><td>20</td><td>0.629346</td><td>-3.197312</td></tr><tr><td>&quot;/storage/store…</td><td>&quot;/storage/store…</td><td>20</td><td>0.036048</td><td>20</td><td>0.580891</td><td>-2.603119</td></tr><tr><td>&quot;/storage/store…</td><td>&quot;/storage/store…</td><td>20</td><td>0.20761</td><td>20</td><td>0.59079</td><td>-2.639365</td></tr><tr><td>&quot;/storage/store…</td><td>&quot;/storage/store…</td><td>20</td><td>0.223965</td><td>20</td><td>0.779501</td><td>-5.5104</td></tr><tr><td>&quot;/storage/store…</td><td>&quot;/storage/store…</td><td>20</td><td>0.003004</td><td>20</td><td>0.587007</td><td>-2.678805</td></tr><tr><td>&quot;/storage/store…</td><td>&quot;/storage/store…</td><td>20</td><td>0.253004</td><td>20</td><td>0.711811</td><td>-3.405894</td></tr><tr><td>&quot;/storage/store…</td><td>&quot;/storage/store…</td><td>20</td><td>0.002003</td><td>20</td><td>0.634034</td><td>-3.260072</td></tr><tr><td>&quot;/storage/store…</td><td>&quot;/storage/store…</td><td>20</td><td>0.002336</td><td>20</td><td>0.623952</td><td>-3.117849</td></tr><tr><td>&quot;/storage/store…</td><td>&quot;/storage/store…</td><td>20</td><td>0.002336</td><td>20</td><td>0.60089</td><td>-2.832106</td></tr><tr><td>&quot;/storage/store…</td><td>&quot;/storage/store…</td><td>20</td><td>0.002336</td><td>20</td><td>0.176338</td><td>0.765889</td></tr><tr><td>&quot;/storage/store…</td><td>&quot;/storage/store…</td><td>20</td><td>0.191923</td><td>20</td><td>0.563776</td><td>-2.404578</td></tr><tr><td>&quot;/storage/store…</td><td>&quot;/storage/store…</td><td>20</td><td>0.221629</td><td>20</td><td>0.575563</td><td>-2.537334</td></tr><tr><td>&quot;/storage/store…</td><td>&quot;/storage/store…</td><td>20</td><td>0.223298</td><td>20</td><td>0.807236</td><td>-4.762858</td></tr><tr><td>&quot;/storage/store…</td><td>&quot;/storage/store…</td><td>20</td><td>0.001335</td><td>20</td><td>0.583696</td><td>-2.631923</td></tr><tr><td>&quot;/storage/store…</td><td>&quot;/storage/store…</td><td>20</td><td>0.074766</td><td>20</td><td>0.33193</td><td>-3.797537</td></tr><tr><td>&quot;/storage/store…</td><td>&quot;/storage/store…</td><td>20</td><td>0.12984</td><td>20</td><td>0.48675</td><td>-1.804182</td></tr></tbody></table></div>"
      ],
      "text/plain": [
       "shape: (20, 7)\n",
       "┌───────────────┬───────────────┬────────────┬─────────────┬───────────────┬──────────┬────────────┐\n",
       "│ source_table  ┆ candidate_tab ┆ similarity ┆ containment ┆ similarity_ri ┆ rmse     ┆ r2score    │\n",
       "│ ---           ┆ le            ┆ ---        ┆ ---         ┆ ght           ┆ ---      ┆ ---        │\n",
       "│ str           ┆ ---           ┆ i64        ┆ f64         ┆ ---           ┆ f64      ┆ f64        │\n",
       "│               ┆ str           ┆            ┆             ┆ i64           ┆          ┆            │\n",
       "╞═══════════════╪═══════════════╪════════════╪═════════════╪═══════════════╪══════════╪════════════╡\n",
       "│ /storage/stor ┆ /storage/stor ┆ 20         ┆ 0.128505    ┆ 20            ┆ 1.088063 ┆ -47.635989 │\n",
       "│ e/work/rcappu ┆ e/work/rcappu ┆            ┆             ┆               ┆          ┆            │\n",
       "│ zz/ken…       ┆ zz/yag…       ┆            ┆             ┆               ┆          ┆            │\n",
       "│ /storage/stor ┆ /storage/stor ┆ 20         ┆ 0.003338    ┆ 20            ┆ 0.58127  ┆ -2.620841  │\n",
       "│ e/work/rcappu ┆ e/work/rcappu ┆            ┆             ┆               ┆          ┆            │\n",
       "│ zz/ken…       ┆ zz/yag…       ┆            ┆             ┆               ┆          ┆            │\n",
       "│ /storage/stor ┆ /storage/stor ┆ 20         ┆ 0.199599    ┆ 20            ┆ 0.5574   ┆ -2.45069   │\n",
       "│ e/work/rcappu ┆ e/work/rcappu ┆            ┆             ┆               ┆          ┆            │\n",
       "│ zz/ken…       ┆ zz/yag…       ┆            ┆             ┆               ┆          ┆            │\n",
       "│ /storage/stor ┆ /storage/stor ┆ 20         ┆ 0.001669    ┆ 20            ┆ 0.208535 ┆ 0.725245   │\n",
       "│ e/work/rcappu ┆ e/work/rcappu ┆            ┆             ┆               ┆          ┆            │\n",
       "│ zz/ken…       ┆ zz/yag…       ┆            ┆             ┆               ┆          ┆            │\n",
       "│ …             ┆ …             ┆ …          ┆ …           ┆ …             ┆ …        ┆ …          │\n",
       "│ /storage/stor ┆ /storage/stor ┆ 20         ┆ 0.223298    ┆ 20            ┆ 0.807236 ┆ -4.762858  │\n",
       "│ e/work/rcappu ┆ e/work/rcappu ┆            ┆             ┆               ┆          ┆            │\n",
       "│ zz/ken…       ┆ zz/yag…       ┆            ┆             ┆               ┆          ┆            │\n",
       "│ /storage/stor ┆ /storage/stor ┆ 20         ┆ 0.001335    ┆ 20            ┆ 0.583696 ┆ -2.631923  │\n",
       "│ e/work/rcappu ┆ e/work/rcappu ┆            ┆             ┆               ┆          ┆            │\n",
       "│ zz/ken…       ┆ zz/yag…       ┆            ┆             ┆               ┆          ┆            │\n",
       "│ /storage/stor ┆ /storage/stor ┆ 20         ┆ 0.074766    ┆ 20            ┆ 0.33193  ┆ -3.797537  │\n",
       "│ e/work/rcappu ┆ e/work/rcappu ┆            ┆             ┆               ┆          ┆            │\n",
       "│ zz/ken…       ┆ zz/yag…       ┆            ┆             ┆               ┆          ┆            │\n",
       "│ /storage/stor ┆ /storage/stor ┆ 20         ┆ 0.12984     ┆ 20            ┆ 0.48675  ┆ -1.804182  │\n",
       "│ e/work/rcappu ┆ e/work/rcappu ┆            ┆             ┆               ┆          ┆            │\n",
       "│ zz/ken…       ┆ zz/yag…       ┆            ┆             ┆               ┆          ┆            │\n",
       "└───────────────┴───────────────┴────────────┴─────────────┴───────────────┴──────────┴────────────┘"
      ]
     },
     "execution_count": 16,
     "metadata": {},
     "output_type": "execute_result"
    }
   ],
   "source": [
    "joined"
   ]
  },
  {
   "cell_type": "code",
   "execution_count": 17,
   "metadata": {},
   "outputs": [],
   "source": [
    "cont_rmse = joined.select(\n",
    "    pl.col(\"containment\"),\n",
    "    pl.col(\"rmse\")\n",
    ").to_pandas()"
   ]
  },
  {
   "cell_type": "code",
   "execution_count": 18,
   "metadata": {},
   "outputs": [
    {
     "data": {
      "text/plain": [
       "<Axes: xlabel='containment', ylabel='rmse'>"
      ]
     },
     "execution_count": 18,
     "metadata": {},
     "output_type": "execute_result"
    },
    {
     "data": {
      "image/png": "[encoded data removed]",
      "text/plain": [
       "<Figure size 640x480 with 1 Axes>"
      ]
     },
     "metadata": {},
     "output_type": "display_data"
    }
   ],
   "source": [
    "sns.scatterplot(data=cont_rmse, x=\"containment\", y=\"rmse\")"
   ]
  },
  {
   "attachments": {},
   "cell_type": "markdown",
   "metadata": {},
   "source": [
    "# Pre-join post-join sizes"
   ]
  },
  {
   "cell_type": "code",
   "execution_count": 38,
   "metadata": {},
   "outputs": [],
   "source": [
    "df = pl.read_csv(\"results/results_1000iter.log\")\n"
   ]
  },
  {
   "cell_type": "code",
   "execution_count": 39,
   "metadata": {},
   "outputs": [
    {
     "data": {
      "text/html": [
       "<div><style>\n",
       ".dataframe > thead > tr > th,\n",
       ".dataframe > tbody > tr > td {\n",
       "  text-align: right;\n",
       "}\n",
       "</style>\n",
       "<small>shape: (6, 6)</small><table border=\"1\" class=\"dataframe\"><thead><tr><th>target_dl</th><th>source_table</th><th>avg_prejoin</th><th>avg_postjoin</th><th>max_postjoin</th><th>scale_factor_avg</th></tr><tr><td>str</td><td>str</td><td>f64</td><td>f64</td><td>i64</td><td>f64</td></tr></thead><tbody><tr><td>&quot;binary&quot;</td><td>&quot;presidential-r…</td><td>22084.0</td><td>136464.0</td><td>406155</td><td>6.179315</td></tr><tr><td>&quot;wordnet&quot;</td><td>&quot;company-employ…</td><td>3107.0</td><td>6096.0</td><td>11030</td><td>1.962021</td></tr><tr><td>&quot;wordnet&quot;</td><td>&quot;movies-prepare…</td><td>3853.0</td><td>4212.5</td><td>5095</td><td>1.093304</td></tr><tr><td>&quot;binary&quot;</td><td>&quot;movies-prepare…</td><td>3853.0</td><td>8688.75</td><td>19688</td><td>2.255061</td></tr><tr><td>&quot;binary&quot;</td><td>&quot;company-employ…</td><td>3107.0</td><td>26565.5</td><td>72163</td><td>8.550209</td></tr><tr><td>&quot;wordnet&quot;</td><td>&quot;presidential-r…</td><td>22084.0</td><td>30295.75</td><td>51969</td><td>1.371842</td></tr></tbody></table></div>"
      ],
      "text/plain": [
       "shape: (6, 6)\n",
       "┌───────────┬───────────────────────┬─────────────┬──────────────┬──────────────┬──────────────────┐\n",
       "│ target_dl ┆ source_table          ┆ avg_prejoin ┆ avg_postjoin ┆ max_postjoin ┆ scale_factor_avg │\n",
       "│ ---       ┆ ---                   ┆ ---         ┆ ---          ┆ ---          ┆ ---              │\n",
       "│ str       ┆ str                   ┆ f64         ┆ f64          ┆ i64          ┆ f64              │\n",
       "╞═══════════╪═══════════════════════╪═════════════╪══════════════╪══════════════╪══════════════════╡\n",
       "│ binary    ┆ presidential-results- ┆ 22084.0     ┆ 136464.0     ┆ 406155       ┆ 6.179315         │\n",
       "│           ┆ prepared              ┆             ┆              ┆              ┆                  │\n",
       "│ wordnet   ┆ company-employees-pre ┆ 3107.0      ┆ 6096.0       ┆ 11030        ┆ 1.962021         │\n",
       "│           ┆ pared                 ┆             ┆              ┆              ┆                  │\n",
       "│ wordnet   ┆ movies-prepared       ┆ 3853.0      ┆ 4212.5       ┆ 5095         ┆ 1.093304         │\n",
       "│ binary    ┆ movies-prepared       ┆ 3853.0      ┆ 8688.75      ┆ 19688        ┆ 2.255061         │\n",
       "│ binary    ┆ company-employees-pre ┆ 3107.0      ┆ 26565.5      ┆ 72163        ┆ 8.550209         │\n",
       "│           ┆ pared                 ┆             ┆              ┆              ┆                  │\n",
       "│ wordnet   ┆ presidential-results- ┆ 22084.0     ┆ 30295.75     ┆ 51969        ┆ 1.371842         │\n",
       "│           ┆ prepared              ┆             ┆              ┆              ┆                  │\n",
       "└───────────┴───────────────────────┴─────────────┴──────────────┴──────────────┴──────────────────┘"
      ]
     },
     "execution_count": 39,
     "metadata": {},
     "output_type": "execute_result"
    }
   ],
   "source": [
    "df.filter(\n",
    "    (pl.col(\"index_name\") != \"base_table\") & (pl.col(\"aggregation\") == \"none\")\n",
    ").select(\n",
    "    pl.col(\"source_table\"),\n",
    "    pl.col(\"size_prejoin\"),\n",
    "    pl.col(\"size_postjoin\"),\n",
    "    pl.col(\"target_dl\")\n",
    ").groupby(\n",
    "    pl.col(\"target_dl\"),\n",
    "    pl.col(\"source_table\")\n",
    ").agg(\n",
    "    pl.avg(\"size_prejoin\").alias(\"avg_prejoin\"),\n",
    "    pl.avg(\"size_postjoin\").alias(\"avg_postjoin\"),\n",
    "    pl.max(\"size_postjoin\").alias(\"max_postjoin\"),\n",
    ").with_columns(\n",
    "    (pl.col(\"avg_postjoin\")/pl.col(\"avg_prejoin\")).alias(\"scale_factor_avg\")\n",
    ")"
   ]
  },
  {
   "cell_type": "code",
   "execution_count": 45,
   "metadata": {},
   "outputs": [
    {
     "data": {
      "text/html": [
       "<div><style>\n",
       ".dataframe > thead > tr > th,\n",
       ".dataframe > tbody > tr > td {\n",
       "  text-align: right;\n",
       "}\n",
       "</style>\n",
       "<small>shape: (6, 7)</small><table border=\"1\" class=\"dataframe\"><thead><tr><th>target_dl</th><th>source_table</th><th>avg_prejoin</th><th>avg_postjoin</th><th>max_postjoin</th><th>avg_scalefactor</th><th>max_scalefactor</th></tr><tr><td>str</td><td>str</td><td>f64</td><td>f64</td><td>i64</td><td>f64</td><td>f64</td></tr></thead><tbody><tr><td>&quot;binary&quot;</td><td>&quot;company-employ…</td><td>3107.0</td><td>26565.5</td><td>72163</td><td>8.550209</td><td>23.225941</td></tr><tr><td>&quot;wordnet&quot;</td><td>&quot;company-employ…</td><td>3107.0</td><td>6096.0</td><td>11030</td><td>1.962021</td><td>3.550048</td></tr><tr><td>&quot;binary&quot;</td><td>&quot;movies-prepare…</td><td>3853.0</td><td>8688.75</td><td>19688</td><td>2.255061</td><td>5.109785</td></tr><tr><td>&quot;wordnet&quot;</td><td>&quot;movies-prepare…</td><td>3853.0</td><td>4212.5</td><td>5095</td><td>1.093304</td><td>1.322346</td></tr><tr><td>&quot;binary&quot;</td><td>&quot;presidential-r…</td><td>22084.0</td><td>136464.0</td><td>406155</td><td>6.179315</td><td>18.391369</td></tr><tr><td>&quot;wordnet&quot;</td><td>&quot;presidential-r…</td><td>22084.0</td><td>30295.75</td><td>51969</td><td>1.371842</td><td>2.353242</td></tr></tbody></table></div>"
      ],
      "text/plain": [
       "shape: (6, 7)\n",
       "┌───────────┬────────────┬─────────────┬──────────────┬──────────────┬──────────────┬──────────────┐\n",
       "│ target_dl ┆ source_tab ┆ avg_prejoin ┆ avg_postjoin ┆ max_postjoin ┆ avg_scalefac ┆ max_scalefac │\n",
       "│ ---       ┆ le         ┆ ---         ┆ ---          ┆ ---          ┆ tor          ┆ tor          │\n",
       "│ str       ┆ ---        ┆ f64         ┆ f64          ┆ i64          ┆ ---          ┆ ---          │\n",
       "│           ┆ str        ┆             ┆              ┆              ┆ f64          ┆ f64          │\n",
       "╞═══════════╪════════════╪═════════════╪══════════════╪══════════════╪══════════════╪══════════════╡\n",
       "│ binary    ┆ company-em ┆ 3107.0      ┆ 26565.5      ┆ 72163        ┆ 8.550209     ┆ 23.225941    │\n",
       "│           ┆ ployees-pr ┆             ┆              ┆              ┆              ┆              │\n",
       "│           ┆ epared     ┆             ┆              ┆              ┆              ┆              │\n",
       "│ wordnet   ┆ company-em ┆ 3107.0      ┆ 6096.0       ┆ 11030        ┆ 1.962021     ┆ 3.550048     │\n",
       "│           ┆ ployees-pr ┆             ┆              ┆              ┆              ┆              │\n",
       "│           ┆ epared     ┆             ┆              ┆              ┆              ┆              │\n",
       "│ binary    ┆ movies-pre ┆ 3853.0      ┆ 8688.75      ┆ 19688        ┆ 2.255061     ┆ 5.109785     │\n",
       "│           ┆ pared      ┆             ┆              ┆              ┆              ┆              │\n",
       "│ wordnet   ┆ movies-pre ┆ 3853.0      ┆ 4212.5       ┆ 5095         ┆ 1.093304     ┆ 1.322346     │\n",
       "│           ┆ pared      ┆             ┆              ┆              ┆              ┆              │\n",
       "│ binary    ┆ presidenti ┆ 22084.0     ┆ 136464.0     ┆ 406155       ┆ 6.179315     ┆ 18.391369    │\n",
       "│           ┆ al-results ┆             ┆              ┆              ┆              ┆              │\n",
       "│           ┆ -prepared  ┆             ┆              ┆              ┆              ┆              │\n",
       "│ wordnet   ┆ presidenti ┆ 22084.0     ┆ 30295.75     ┆ 51969        ┆ 1.371842     ┆ 2.353242     │\n",
       "│           ┆ al-results ┆             ┆              ┆              ┆              ┆              │\n",
       "│           ┆ -prepared  ┆             ┆              ┆              ┆              ┆              │\n",
       "└───────────┴────────────┴─────────────┴──────────────┴──────────────┴──────────────┴──────────────┘"
      ]
     },
     "execution_count": 45,
     "metadata": {},
     "output_type": "execute_result"
    }
   ],
   "source": [
    "df.filter(\n",
    "    (pl.col(\"index_name\") != \"base_table\") & (pl.col(\"aggregation\") == \"none\")\n",
    ").select(\n",
    "    pl.col(\"source_table\"),\n",
    "    pl.col(\"size_prejoin\"),\n",
    "    pl.col(\"size_postjoin\"),\n",
    "    pl.col(\"target_dl\")\n",
    ").with_columns(\n",
    "    (pl.col(\"size_postjoin\")/pl.col(\"size_prejoin\")).alias(\"scale_factor\")\n",
    ").groupby(\n",
    "    pl.col(\"target_dl\"),\n",
    "    pl.col(\"source_table\")\n",
    ").agg(\n",
    "    pl.avg(\"size_prejoin\").alias(\"avg_prejoin\"),\n",
    "    pl.avg(\"size_postjoin\").alias(\"avg_postjoin\"),\n",
    "    pl.max(\"size_postjoin\").alias(\"max_postjoin\"),  \n",
    "    pl.avg(\"scale_factor\").alias(\"avg_scalefactor\"),\n",
    "    pl.max(\"scale_factor\").alias(\"max_scalefactor\"),  \n",
    ").sort(\n",
    "    pl.col(\"source_table\"),\n",
    "    pl.col(\"target_dl\"),\n",
    ")"
   ]
  },
  {
   "attachments": {},
   "cell_type": "markdown",
   "metadata": {},
   "source": [
    "# Scenario timers"
   ]
  },
  {
   "cell_type": "code",
   "execution_count": 254,
   "metadata": {},
   "outputs": [],
   "source": [
    "df_scn = pl.read_csv(\"results/scenario_logger.log\", has_header=False)\n",
    "df_scn.columns = \"scenario_id,git_hash,source_table,iterations,join_strategy,aggregation,target_dl,k_fold,n_candidates,start_process,end_process,start_load_index,end_load_index,start_querying,end_querying,start_evaluation,end_evaluation\".split(\",\")\n"
   ]
  },
  {
   "cell_type": "code",
   "execution_count": 255,
   "metadata": {},
   "outputs": [],
   "source": [
    "timer_columns = [col for col in df_scn.columns if (col.startswith(\"start_\") or col.startswith(\"end_\"))]"
   ]
  },
  {
   "cell_type": "code",
   "execution_count": 256,
   "metadata": {},
   "outputs": [],
   "source": [
    "df_scn = df_scn.with_columns(\n",
    "    pl.col(timer_columns).str.to_datetime()\n",
    ")"
   ]
  },
  {
   "cell_type": "code",
   "execution_count": 257,
   "metadata": {},
   "outputs": [
    {
     "data": {
      "text/plain": [
       "['start_process',\n",
       " 'end_process',\n",
       " 'start_load_index',\n",
       " 'end_load_index',\n",
       " 'start_querying',\n",
       " 'end_querying',\n",
       " 'start_evaluation',\n",
       " 'end_evaluation']"
      ]
     },
     "execution_count": 257,
     "metadata": {},
     "output_type": "execute_result"
    }
   ],
   "source": [
    "timer_columns"
   ]
  },
  {
   "cell_type": "code",
   "execution_count": 258,
   "metadata": {},
   "outputs": [],
   "source": [
    "df_scn = df_scn.with_columns(\n",
    "    (pl.col(\"end_process\") - pl.col(\"start_process\")).alias(\"duration_process\"),\n",
    "    (pl.col(\"end_load_index\") - pl.col(\"start_load_index\")).alias(\"duration_load_index\"),\n",
    "    (pl.col(\"end_querying\") - pl.col(\"start_querying\")).alias(\"duration_querying\"),\n",
    "    (pl.col(\"end_evaluation\") - pl.col(\"start_evaluation\")).alias(\"duration_evaluation\"),\n",
    ")\n"
   ]
  },
  {
   "cell_type": "code",
   "execution_count": 259,
   "metadata": {},
   "outputs": [],
   "source": [
    "\n",
    "r_scn1=df_scn.filter(\n",
    "    pl.col(\"iterations\") == 500\n",
    ").sort([\"target_dl\",\"source_table\"]).filter(\n",
    "    ~pl.col(\"source_table\").is_in([\"us-accidents-prepared\", \"presidential-results-prepared\"])\n",
    ").select(\n",
    "    pl.col(\"scenario_id\"),\n",
    "    pl.col(\"source_table\"),\n",
    "    pl.col(\"join_strategy\"),\n",
    "    pl.col(\"aggregation\"),\n",
    "    pl.col(\"iterations\"),\n",
    "    pl.col(\"n_candidates\"),\n",
    "    pl.col([col for col in df_scn.columns if col.startswith(\"duration\")])\n",
    ")\n"
   ]
  },
  {
   "cell_type": "code",
   "execution_count": 260,
   "metadata": {},
   "outputs": [
    {
     "data": {
      "text/html": [
       "<div><style>\n",
       ".dataframe > thead > tr > th,\n",
       ".dataframe > tbody > tr > td {\n",
       "  text-align: right;\n",
       "}\n",
       "</style>\n",
       "<small>shape: (25, 10)</small><table border=\"1\" class=\"dataframe\"><thead><tr><th>scenario_id</th><th>source_table</th><th>join_strategy</th><th>aggregation</th><th>iterations</th><th>n_candidates</th><th>duration_process</th><th>duration_load_index</th><th>duration_querying</th><th>duration_evaluation</th></tr><tr><td>i64</td><td>str</td><td>str</td><td>str</td><td>i64</td><td>i64</td><td>duration[μs]</td><td>duration[μs]</td><td>duration[μs]</td><td>duration[μs]</td></tr></thead><tbody><tr><td>180</td><td>&quot;company-employ…</td><td>&quot;left&quot;</td><td>&quot;none&quot;</td><td>500</td><td>6</td><td>11m 42s 146908µs</td><td>271488µs</td><td>128210µs</td><td>11m 41s 723023µs</td></tr><tr><td>182</td><td>&quot;company-employ…</td><td>&quot;left&quot;</td><td>&quot;dedup&quot;</td><td>500</td><td>6</td><td>7m 9s 52256µs</td><td>238435µs</td><td>71863µs</td><td>7m 8s 732214µs</td></tr><tr><td>183</td><td>&quot;company-employ…</td><td>&quot;left&quot;</td><td>&quot;dfs&quot;</td><td>500</td><td>6</td><td>5m 35s 104059µs</td><td>256503µs</td><td>68622µs</td><td>5m 34s 770953µs</td></tr><tr><td>184</td><td>&quot;movies-prepare…</td><td>&quot;left&quot;</td><td>&quot;none&quot;</td><td>500</td><td>8</td><td>8m 33s 636300µs</td><td>200648µs</td><td>126259µs</td><td>8m 33s 301165µs</td></tr><tr><td>185</td><td>&quot;movies-prepare…</td><td>&quot;left&quot;</td><td>&quot;dedup&quot;</td><td>500</td><td>8</td><td>11m 41s 666856µs</td><td>256760µs</td><td>72613µs</td><td>11m 41s 330215µs</td></tr><tr><td>186</td><td>&quot;movies-prepare…</td><td>&quot;left&quot;</td><td>&quot;dfs&quot;</td><td>500</td><td>8</td><td>10m 7s 234226µs</td><td>187238µs</td><td>76148µs</td><td>10m 6s 961668µs</td></tr><tr><td>195</td><td>&quot;presidential-r…</td><td>&quot;left&quot;</td><td>&quot;dedup&quot;</td><td>500</td><td>4</td><td>10m 18s 129056µs</td><td>219889µs</td><td>90336µs</td><td>10m 17s 811373µs</td></tr><tr><td>197</td><td>&quot;presidential-r…</td><td>&quot;left&quot;</td><td>&quot;dfs&quot;</td><td>500</td><td>4</td><td>6m 25s 752577µs</td><td>321985µs</td><td>122619µs</td><td>6m 25s 299648µs</td></tr><tr><td>207</td><td>&quot;presidential-r…</td><td>&quot;left&quot;</td><td>&quot;none&quot;</td><td>500</td><td>4</td><td>4m 8s 843434µs</td><td>209452µs</td><td>88168µs</td><td>4m 8s 538216µs</td></tr><tr><td>202</td><td>&quot;us-accidents-p…</td><td>&quot;left&quot;</td><td>&quot;none&quot;</td><td>500</td><td>10</td><td>9m 35s 454103µs</td><td>187051µs</td><td>94129µs</td><td>9m 35s 163975µs</td></tr><tr><td>203</td><td>&quot;us-accidents-p…</td><td>&quot;left&quot;</td><td>&quot;dedup&quot;</td><td>500</td><td>10</td><td>14m 18s 317303µs</td><td>196606µs</td><td>94184µs</td><td>14m 18s 18552µs</td></tr><tr><td>204</td><td>&quot;us-accidents-p…</td><td>&quot;left&quot;</td><td>&quot;dfs&quot;</td><td>500</td><td>10</td><td>12m 24s 52041µs</td><td>191645µs</td><td>91300µs</td><td>12m 23s 760900µs</td></tr><tr><td>171</td><td>&quot;company-employ…</td><td>&quot;left&quot;</td><td>&quot;none&quot;</td><td>500</td><td>50</td><td>32m 14s 796021µs</td><td>9s 579817µs</td><td>91089µs</td><td>32m 5s 103490µs</td></tr><tr><td>172</td><td>&quot;company-employ…</td><td>&quot;left&quot;</td><td>&quot;dedup&quot;</td><td>500</td><td>50</td><td>41m 34s 582947µs</td><td>9s 575038µs</td><td>87532µs</td><td>41m 24s 897368µs</td></tr><tr><td>173</td><td>&quot;company-employ…</td><td>&quot;left&quot;</td><td>&quot;dfs&quot;</td><td>500</td><td>50</td><td>35m 11s 72214µs</td><td>9s 403545µs</td><td>89306µs</td><td>35m 1s 556522µs</td></tr><tr><td>175</td><td>&quot;movies-prepare…</td><td>&quot;left&quot;</td><td>&quot;dedup&quot;</td><td>500</td><td>23</td><td>25m 23s 627060µs</td><td>9s 579281µs</td><td>71742µs</td><td>25m 13s 956394µs</td></tr><tr><td>176</td><td>&quot;movies-prepare…</td><td>&quot;left&quot;</td><td>&quot;dfs&quot;</td><td>500</td><td>23</td><td>23m 35s 721900µs</td><td>9s 684723µs</td><td>82287µs</td><td>23m 25s 932413µs</td></tr><tr><td>206</td><td>&quot;movies-prepare…</td><td>&quot;left&quot;</td><td>&quot;none&quot;</td><td>500</td><td>23</td><td>19m 2s 951924µs</td><td>9s 791539µs</td><td>96821µs</td><td>18m 53s 44336µs</td></tr><tr><td>198</td><td>&quot;presidential-r…</td><td>&quot;left&quot;</td><td>&quot;none&quot;</td><td>500</td><td>50</td><td>1h 37s 448697µs</td><td>9s 964025µs</td><td>85407µs</td><td>1h 27s 367077µs</td></tr><tr><td>200</td><td>&quot;presidential-r…</td><td>&quot;left&quot;</td><td>&quot;dedup&quot;</td><td>500</td><td>50</td><td>2h 12m 10s 169247µs</td><td>9s 449072µs</td><td>86928µs</td><td>2h 12m 609620µs</td></tr><tr><td>201</td><td>&quot;presidential-r…</td><td>&quot;left&quot;</td><td>&quot;dfs&quot;</td><td>500</td><td>50</td><td>1h 10m 25s 269734µs</td><td>9s 655693µs</td><td>86407µs</td><td>1h 10m 15s 506629µs</td></tr><tr><td>190</td><td>&quot;us-accidents-p…</td><td>&quot;left&quot;</td><td>&quot;none&quot;</td><td>500</td><td>50</td><td>50m 40s 80338µs</td><td>10s 212965µs</td><td>95099µs</td><td>50m 29s 685385µs</td></tr><tr><td>199</td><td>&quot;us-accidents-p…</td><td>&quot;left&quot;</td><td>&quot;dfs&quot;</td><td>500</td><td>50</td><td>55m 1s 473562µs</td><td>10s 49761µs</td><td>93087µs</td><td>54m 51s 305766µs</td></tr><tr><td>213</td><td>&quot;us-accidents-p…</td><td>&quot;left&quot;</td><td>&quot;dedup&quot;</td><td>500</td><td>50</td><td>1h 37s 84724µs</td><td>9s 357490µs</td><td>170560µs</td><td>1h 27s 533488µs</td></tr><tr><td>212</td><td>&quot;us-accidents-p…</td><td>&quot;left&quot;</td><td>&quot;dedup&quot;</td><td>500</td><td>50</td><td>1h 2m 47s 559196µs</td><td>9s 535709µs</td><td>115898µs</td><td>1h 2m 37s 886460µs</td></tr></tbody></table></div>"
      ],
      "text/plain": [
       "shape: (25, 10)\n",
       "┌───────────┬────────────┬────────────┬───────────┬───┬────────────┬────────────┬────────────┬────────────┐\n",
       "│ scenario_ ┆ source_tab ┆ join_strat ┆ aggregati ┆ … ┆ duration_p ┆ duration_l ┆ duration_q ┆ duration_e │\n",
       "│ id        ┆ le         ┆ egy        ┆ on        ┆   ┆ rocess     ┆ oad_index  ┆ uerying    ┆ valuation  │\n",
       "│ ---       ┆ ---        ┆ ---        ┆ ---       ┆   ┆ ---        ┆ ---        ┆ ---        ┆ ---        │\n",
       "│ i64       ┆ str        ┆ str        ┆ str       ┆   ┆ duration[μ ┆ duration[μ ┆ duration[μ ┆ duration[μ │\n",
       "│           ┆            ┆            ┆           ┆   ┆ s]         ┆ s]         ┆ s]         ┆ s]         │\n",
       "╞═══════════╪════════════╪════════════╪═══════════╪═══╪════════════╪════════════╪════════════╪════════════╡\n",
       "│ 180       ┆ company-em ┆ left       ┆ none      ┆ … ┆ 11m 42s    ┆ 271488µs   ┆ 128210µs   ┆ 11m 41s    │\n",
       "│           ┆ ployees-pr ┆            ┆           ┆   ┆ 146908µs   ┆            ┆            ┆ 723023µs   │\n",
       "│           ┆ epared     ┆            ┆           ┆   ┆            ┆            ┆            ┆            │\n",
       "│ 182       ┆ company-em ┆ left       ┆ dedup     ┆ … ┆ 7m 9s      ┆ 238435µs   ┆ 71863µs    ┆ 7m 8s      │\n",
       "│           ┆ ployees-pr ┆            ┆           ┆   ┆ 52256µs    ┆            ┆            ┆ 732214µs   │\n",
       "│           ┆ epared     ┆            ┆           ┆   ┆            ┆            ┆            ┆            │\n",
       "│ 183       ┆ company-em ┆ left       ┆ dfs       ┆ … ┆ 5m 35s     ┆ 256503µs   ┆ 68622µs    ┆ 5m 34s     │\n",
       "│           ┆ ployees-pr ┆            ┆           ┆   ┆ 104059µs   ┆            ┆            ┆ 770953µs   │\n",
       "│           ┆ epared     ┆            ┆           ┆   ┆            ┆            ┆            ┆            │\n",
       "│ 184       ┆ movies-pre ┆ left       ┆ none      ┆ … ┆ 8m 33s     ┆ 200648µs   ┆ 126259µs   ┆ 8m 33s     │\n",
       "│           ┆ pared      ┆            ┆           ┆   ┆ 636300µs   ┆            ┆            ┆ 301165µs   │\n",
       "│ …         ┆ …          ┆ …          ┆ …         ┆ … ┆ …          ┆ …          ┆ …          ┆ …          │\n",
       "│ 190       ┆ us-acciden ┆ left       ┆ none      ┆ … ┆ 50m 40s    ┆ 10s        ┆ 95099µs    ┆ 50m 29s    │\n",
       "│           ┆ ts-prepare ┆            ┆           ┆   ┆ 80338µs    ┆ 212965µs   ┆            ┆ 685385µs   │\n",
       "│           ┆ d-new      ┆            ┆           ┆   ┆            ┆            ┆            ┆            │\n",
       "│ 199       ┆ us-acciden ┆ left       ┆ dfs       ┆ … ┆ 55m 1s     ┆ 10s        ┆ 93087µs    ┆ 54m 51s    │\n",
       "│           ┆ ts-prepare ┆            ┆           ┆   ┆ 473562µs   ┆ 49761µs    ┆            ┆ 305766µs   │\n",
       "│           ┆ d-new      ┆            ┆           ┆   ┆            ┆            ┆            ┆            │\n",
       "│ 213       ┆ us-acciden ┆ left       ┆ dedup     ┆ … ┆ 1h 37s     ┆ 9s         ┆ 170560µs   ┆ 1h 27s     │\n",
       "│           ┆ ts-prepare ┆            ┆           ┆   ┆ 84724µs    ┆ 357490µs   ┆            ┆ 533488µs   │\n",
       "│           ┆ d-new      ┆            ┆           ┆   ┆            ┆            ┆            ┆            │\n",
       "│ 212       ┆ us-acciden ┆ left       ┆ dedup     ┆ … ┆ 1h 2m 47s  ┆ 9s         ┆ 115898µs   ┆ 1h 2m 37s  │\n",
       "│           ┆ ts-prepare ┆            ┆           ┆   ┆ 559196µs   ┆ 535709µs   ┆            ┆ 886460µs   │\n",
       "│           ┆ d-new      ┆            ┆           ┆   ┆            ┆            ┆            ┆            │\n",
       "└───────────┴────────────┴────────────┴───────────┴───┴────────────┴────────────┴────────────┴────────────┘"
      ]
     },
     "execution_count": 260,
     "metadata": {},
     "output_type": "execute_result"
    }
   ],
   "source": [
    "r_scn1"
   ]
  },
  {
   "cell_type": "code",
   "execution_count": 261,
   "metadata": {},
   "outputs": [
    {
     "ename": "ColumnNotFoundError",
     "evalue": "target_dl",
     "output_type": "error",
     "traceback": [
      "\u001b[0;31m---------------------------------------------------------------------------\u001b[0m",
      "\u001b[0;31mColumnNotFoundError\u001b[0m                       Traceback (most recent call last)",
      "Cell \u001b[0;32mIn[261], line 1\u001b[0m\n\u001b[0;32m----> 1\u001b[0m r_scn1\u001b[39m.\u001b[39;49mpivot(\n\u001b[1;32m      2\u001b[0m     values\u001b[39m=\u001b[39;49m\u001b[39m\"\u001b[39;49m\u001b[39mprocess_in_seconds\u001b[39;49m\u001b[39m\"\u001b[39;49m,\n\u001b[1;32m      3\u001b[0m     columns\u001b[39m=\u001b[39;49m\u001b[39m\"\u001b[39;49m\u001b[39msource_table\u001b[39;49m\u001b[39m\"\u001b[39;49m,\n\u001b[1;32m      4\u001b[0m     index\u001b[39m=\u001b[39;49m[\u001b[39m\"\u001b[39;49m\u001b[39mtarget_dl\u001b[39;49m\u001b[39m\"\u001b[39;49m, \u001b[39m\"\u001b[39;49m\u001b[39maggregation\u001b[39;49m\u001b[39m\"\u001b[39;49m],\n\u001b[1;32m      5\u001b[0m     aggregate_function\u001b[39m=\u001b[39;49m\u001b[39m\"\u001b[39;49m\u001b[39mmean\u001b[39;49m\u001b[39m\"\u001b[39;49m\n\u001b[1;32m      6\u001b[0m )\n",
      "File \u001b[0;32m~/mambaforge/envs/bench/lib/python3.10/site-packages/polars/dataframe/frame.py:6226\u001b[0m, in \u001b[0;36mDataFrame.pivot\u001b[0;34m(self, values, index, columns, aggregate_function, maintain_order, sort_columns, separator)\u001b[0m\n\u001b[1;32m   6222\u001b[0m \u001b[39melse\u001b[39;00m:\n\u001b[1;32m   6223\u001b[0m     aggregate_expr \u001b[39m=\u001b[39m aggregate_function\u001b[39m.\u001b[39m_pyexpr\n\u001b[1;32m   6225\u001b[0m \u001b[39mreturn\u001b[39;00m \u001b[39mself\u001b[39m\u001b[39m.\u001b[39m_from_pydf(\n\u001b[0;32m-> 6226\u001b[0m     \u001b[39mself\u001b[39;49m\u001b[39m.\u001b[39;49m_df\u001b[39m.\u001b[39;49mpivot_expr(\n\u001b[1;32m   6227\u001b[0m         values,\n\u001b[1;32m   6228\u001b[0m         index,\n\u001b[1;32m   6229\u001b[0m         columns,\n\u001b[1;32m   6230\u001b[0m         maintain_order,\n\u001b[1;32m   6231\u001b[0m         sort_columns,\n\u001b[1;32m   6232\u001b[0m         aggregate_expr,\n\u001b[1;32m   6233\u001b[0m         separator,\n\u001b[1;32m   6234\u001b[0m     )\n\u001b[1;32m   6235\u001b[0m )\n",
      "\u001b[0;31mColumnNotFoundError\u001b[0m: target_dl"
     ]
    }
   ],
   "source": [
    "r_scn1.pivot(\n",
    "    values=\"process_in_seconds\",\n",
    "    columns=\"source_table\",\n",
    "    index=[\"target_dl\", \"aggregation\"],\n",
    "    aggregate_function=\"mean\"\n",
    ")"
   ]
  },
  {
   "cell_type": "code",
   "execution_count": 262,
   "metadata": {},
   "outputs": [],
   "source": [
    "joined = df_p.join(\n",
    "    df_scn,\n",
    "    on=\"scenario_id\"\n",
    ")"
   ]
  },
  {
   "cell_type": "code",
   "execution_count": 263,
   "metadata": {},
   "outputs": [],
   "source": [
    "rr = joined.groupby(\n",
    "    [\"variant\", \"index\", \"base_table\", \"aggregation\"]\n",
    ").agg(\n",
    "    pl.col(\"avg_train\").mean(),\n",
    "    pl.col(\"n_candidates\").mean()\n",
    ").sort([\"variant\", \"base_table\"]).with_columns(\n",
    "    pl.col(\"avg_train\")*pl.col(\"n_candidates\")*25\n",
    ").filter(~pl.col(\"base_table\").is_in([\"us-accidents-prepared\",\"presidential-results-prepared\"]))"
   ]
  },
  {
   "cell_type": "code",
   "execution_count": 264,
   "metadata": {},
   "outputs": [
    {
     "data": {
      "text/html": [
       "<div><style>\n",
       ".dataframe > thead > tr > th,\n",
       ".dataframe > tbody > tr > td {\n",
       "  text-align: right;\n",
       "}\n",
       "</style>\n",
       "<small>shape: (25, 6)</small><table border=\"1\" class=\"dataframe\"><thead><tr><th>variant</th><th>index</th><th>base_table</th><th>aggregation</th><th>avg_train</th><th>n_candidates</th></tr><tr><td>str</td><td>str</td><td>str</td><td>str</td><td>f64</td><td>f64</td></tr></thead><tbody><tr><td>&quot;binary&quot;</td><td>&quot;minhash&quot;</td><td>&quot;company-employ…</td><td>&quot;dedup&quot;</td><td>1358.15931</td><td>6.0</td></tr><tr><td>&quot;binary&quot;</td><td>&quot;minhash&quot;</td><td>&quot;company-employ…</td><td>&quot;none&quot;</td><td>2972.997612</td><td>6.0</td></tr><tr><td>&quot;binary&quot;</td><td>&quot;base_table&quot;</td><td>&quot;company-employ…</td><td>&quot;base_table&quot;</td><td>1612.005162</td><td>6.0</td></tr><tr><td>&quot;binary&quot;</td><td>&quot;minhash&quot;</td><td>&quot;company-employ…</td><td>&quot;dfs&quot;</td><td>1343.992525</td><td>6.0</td></tr><tr><td>&quot;binary&quot;</td><td>&quot;minhash&quot;</td><td>&quot;movies-prepare…</td><td>&quot;dedup&quot;</td><td>2343.1143</td><td>8.0</td></tr><tr><td>&quot;binary&quot;</td><td>&quot;minhash&quot;</td><td>&quot;movies-prepare…</td><td>&quot;none&quot;</td><td>2256.738405</td><td>8.0</td></tr><tr><td>&quot;binary&quot;</td><td>&quot;base_table&quot;</td><td>&quot;movies-prepare…</td><td>&quot;base_table&quot;</td><td>2309.719947</td><td>8.0</td></tr><tr><td>&quot;binary&quot;</td><td>&quot;minhash&quot;</td><td>&quot;movies-prepare…</td><td>&quot;dfs&quot;</td><td>2299.995325</td><td>8.0</td></tr><tr><td>&quot;binary&quot;</td><td>&quot;base_table&quot;</td><td>&quot;presidential-r…</td><td>&quot;base_table&quot;</td><td>853.58158</td><td>4.0</td></tr><tr><td>&quot;binary&quot;</td><td>&quot;minhash&quot;</td><td>&quot;presidential-r…</td><td>&quot;dfs&quot;</td><td>1251.29129</td><td>4.0</td></tr><tr><td>&quot;binary&quot;</td><td>&quot;minhash&quot;</td><td>&quot;presidential-r…</td><td>&quot;dedup&quot;</td><td>1017.467255</td><td>4.0</td></tr><tr><td>&quot;wordnet_big&quot;</td><td>&quot;minhash&quot;</td><td>&quot;company-employ…</td><td>&quot;none&quot;</td><td>9429.09824</td><td>50.0</td></tr><tr><td>&quot;wordnet_big&quot;</td><td>&quot;base_table&quot;</td><td>&quot;company-employ…</td><td>&quot;base_table&quot;</td><td>8073.677167</td><td>50.0</td></tr><tr><td>&quot;wordnet_big&quot;</td><td>&quot;minhash&quot;</td><td>&quot;company-employ…</td><td>&quot;dfs&quot;</td><td>9831.609775</td><td>50.0</td></tr><tr><td>&quot;wordnet_big&quot;</td><td>&quot;minhash&quot;</td><td>&quot;company-employ…</td><td>&quot;dedup&quot;</td><td>9521.23607</td><td>50.0</td></tr><tr><td>&quot;wordnet_big&quot;</td><td>&quot;base_table&quot;</td><td>&quot;movies-prepare…</td><td>&quot;base_table&quot;</td><td>5030.245647</td><td>23.0</td></tr><tr><td>&quot;wordnet_big&quot;</td><td>&quot;minhash&quot;</td><td>&quot;movies-prepare…</td><td>&quot;dfs&quot;</td><td>5610.97507</td><td>23.0</td></tr><tr><td>&quot;wordnet_big&quot;</td><td>&quot;minhash&quot;</td><td>&quot;movies-prepare…</td><td>&quot;dedup&quot;</td><td>5275.9193</td><td>23.0</td></tr><tr><td>&quot;wordnet_big&quot;</td><td>&quot;minhash&quot;</td><td>&quot;presidential-r…</td><td>&quot;dedup&quot;</td><td>17859.05155</td><td>50.0</td></tr><tr><td>&quot;wordnet_big&quot;</td><td>&quot;minhash&quot;</td><td>&quot;presidential-r…</td><td>&quot;dfs&quot;</td><td>19647.7359</td><td>50.0</td></tr><tr><td>&quot;wordnet_big&quot;</td><td>&quot;minhash&quot;</td><td>&quot;presidential-r…</td><td>&quot;none&quot;</td><td>17868.4151</td><td>50.0</td></tr><tr><td>&quot;wordnet_big&quot;</td><td>&quot;base_table&quot;</td><td>&quot;presidential-r…</td><td>&quot;base_table&quot;</td><td>9296.990192</td><td>50.0</td></tr><tr><td>&quot;wordnet_big&quot;</td><td>&quot;minhash&quot;</td><td>&quot;us-accidents-p…</td><td>&quot;none&quot;</td><td>14795.295875</td><td>50.0</td></tr><tr><td>&quot;wordnet_big&quot;</td><td>&quot;minhash&quot;</td><td>&quot;us-accidents-p…</td><td>&quot;dfs&quot;</td><td>14974.485195</td><td>50.0</td></tr><tr><td>&quot;wordnet_big&quot;</td><td>&quot;base_table&quot;</td><td>&quot;us-accidents-p…</td><td>&quot;base_table&quot;</td><td>13403.203625</td><td>50.0</td></tr></tbody></table></div>"
      ],
      "text/plain": [
       "shape: (25, 6)\n",
       "┌─────────────┬────────────┬───────────────────────────┬─────────────┬──────────────┬──────────────┐\n",
       "│ variant     ┆ index      ┆ base_table                ┆ aggregation ┆ avg_train    ┆ n_candidates │\n",
       "│ ---         ┆ ---        ┆ ---                       ┆ ---         ┆ ---          ┆ ---          │\n",
       "│ str         ┆ str        ┆ str                       ┆ str         ┆ f64          ┆ f64          │\n",
       "╞═════════════╪════════════╪═══════════════════════════╪═════════════╪══════════════╪══════════════╡\n",
       "│ binary      ┆ minhash    ┆ company-employees-prepare ┆ dedup       ┆ 1358.15931   ┆ 6.0          │\n",
       "│             ┆            ┆ d                         ┆             ┆              ┆              │\n",
       "│ binary      ┆ minhash    ┆ company-employees-prepare ┆ none        ┆ 2972.997612  ┆ 6.0          │\n",
       "│             ┆            ┆ d                         ┆             ┆              ┆              │\n",
       "│ binary      ┆ base_table ┆ company-employees-prepare ┆ base_table  ┆ 1612.005162  ┆ 6.0          │\n",
       "│             ┆            ┆ d                         ┆             ┆              ┆              │\n",
       "│ binary      ┆ minhash    ┆ company-employees-prepare ┆ dfs         ┆ 1343.992525  ┆ 6.0          │\n",
       "│             ┆            ┆ d                         ┆             ┆              ┆              │\n",
       "│ …           ┆ …          ┆ …                         ┆ …           ┆ …            ┆ …            │\n",
       "│ wordnet_big ┆ base_table ┆ presidential-results-prep ┆ base_table  ┆ 9296.990192  ┆ 50.0         │\n",
       "│             ┆            ┆ ared-ne…                  ┆             ┆              ┆              │\n",
       "│ wordnet_big ┆ minhash    ┆ us-accidents-prepared-new ┆ none        ┆ 14795.295875 ┆ 50.0         │\n",
       "│ wordnet_big ┆ minhash    ┆ us-accidents-prepared-new ┆ dfs         ┆ 14974.485195 ┆ 50.0         │\n",
       "│ wordnet_big ┆ base_table ┆ us-accidents-prepared-new ┆ base_table  ┆ 13403.203625 ┆ 50.0         │\n",
       "└─────────────┴────────────┴───────────────────────────┴─────────────┴──────────────┴──────────────┘"
      ]
     },
     "execution_count": 264,
     "metadata": {},
     "output_type": "execute_result"
    }
   ],
   "source": [
    "rr"
   ]
  },
  {
   "cell_type": "code",
   "execution_count": 265,
   "metadata": {},
   "outputs": [
    {
     "data": {
      "text/html": [
       "<div><style>\n",
       ".dataframe > thead > tr > th,\n",
       ".dataframe > tbody > tr > td {\n",
       "  text-align: right;\n",
       "}\n",
       "</style>\n",
       "<small>shape: (8, 7)</small><table border=\"1\" class=\"dataframe\"><thead><tr><th>variant</th><th>index</th><th>aggregation</th><th>company-employees-prepared</th><th>movies-prepared</th><th>presidential-results-prepared-new</th><th>us-accidents-prepared-new</th></tr><tr><td>str</td><td>str</td><td>str</td><td>f64</td><td>f64</td><td>f64</td><td>f64</td></tr></thead><tbody><tr><td>&quot;binary&quot;</td><td>&quot;minhash&quot;</td><td>&quot;dedup&quot;</td><td>1358.15931</td><td>2343.1143</td><td>1017.467255</td><td>null</td></tr><tr><td>&quot;binary&quot;</td><td>&quot;minhash&quot;</td><td>&quot;none&quot;</td><td>2972.997612</td><td>2256.738405</td><td>null</td><td>null</td></tr><tr><td>&quot;binary&quot;</td><td>&quot;base_table&quot;</td><td>&quot;base_table&quot;</td><td>1612.005162</td><td>2309.719947</td><td>853.58158</td><td>null</td></tr><tr><td>&quot;binary&quot;</td><td>&quot;minhash&quot;</td><td>&quot;dfs&quot;</td><td>1343.992525</td><td>2299.995325</td><td>1251.29129</td><td>null</td></tr><tr><td>&quot;wordnet_big&quot;</td><td>&quot;minhash&quot;</td><td>&quot;none&quot;</td><td>9429.09824</td><td>null</td><td>17868.4151</td><td>14795.295875</td></tr><tr><td>&quot;wordnet_big&quot;</td><td>&quot;base_table&quot;</td><td>&quot;base_table&quot;</td><td>8073.677167</td><td>5030.245647</td><td>9296.990192</td><td>13403.203625</td></tr><tr><td>&quot;wordnet_big&quot;</td><td>&quot;minhash&quot;</td><td>&quot;dfs&quot;</td><td>9831.609775</td><td>5610.97507</td><td>19647.7359</td><td>14974.485195</td></tr><tr><td>&quot;wordnet_big&quot;</td><td>&quot;minhash&quot;</td><td>&quot;dedup&quot;</td><td>9521.23607</td><td>5275.9193</td><td>17859.05155</td><td>null</td></tr></tbody></table></div>"
      ],
      "text/plain": [
       "shape: (8, 7)\n",
       "┌─────────────┬────────────┬─────────────┬────────────┬──────────────┬──────────────┬──────────────┐\n",
       "│ variant     ┆ index      ┆ aggregation ┆ company-em ┆ movies-prepa ┆ presidential ┆ us-accidents │\n",
       "│ ---         ┆ ---        ┆ ---         ┆ ployees-pr ┆ red          ┆ -results-pre ┆ -prepared-ne │\n",
       "│ str         ┆ str        ┆ str         ┆ epared     ┆ ---          ┆ pared-ne…    ┆ w            │\n",
       "│             ┆            ┆             ┆ ---        ┆ f64          ┆ ---          ┆ ---          │\n",
       "│             ┆            ┆             ┆ f64        ┆              ┆ f64          ┆ f64          │\n",
       "╞═════════════╪════════════╪═════════════╪════════════╪══════════════╪══════════════╪══════════════╡\n",
       "│ binary      ┆ minhash    ┆ dedup       ┆ 1358.15931 ┆ 2343.1143    ┆ 1017.467255  ┆ null         │\n",
       "│ binary      ┆ minhash    ┆ none        ┆ 2972.99761 ┆ 2256.738405  ┆ null         ┆ null         │\n",
       "│             ┆            ┆             ┆ 2          ┆              ┆              ┆              │\n",
       "│ binary      ┆ base_table ┆ base_table  ┆ 1612.00516 ┆ 2309.719947  ┆ 853.58158    ┆ null         │\n",
       "│             ┆            ┆             ┆ 2          ┆              ┆              ┆              │\n",
       "│ binary      ┆ minhash    ┆ dfs         ┆ 1343.99252 ┆ 2299.995325  ┆ 1251.29129   ┆ null         │\n",
       "│             ┆            ┆             ┆ 5          ┆              ┆              ┆              │\n",
       "│ wordnet_big ┆ minhash    ┆ none        ┆ 9429.09824 ┆ null         ┆ 17868.4151   ┆ 14795.295875 │\n",
       "│ wordnet_big ┆ base_table ┆ base_table  ┆ 8073.67716 ┆ 5030.245647  ┆ 9296.990192  ┆ 13403.203625 │\n",
       "│             ┆            ┆             ┆ 7          ┆              ┆              ┆              │\n",
       "│ wordnet_big ┆ minhash    ┆ dfs         ┆ 9831.60977 ┆ 5610.97507   ┆ 19647.7359   ┆ 14974.485195 │\n",
       "│             ┆            ┆             ┆ 5          ┆              ┆              ┆              │\n",
       "│ wordnet_big ┆ minhash    ┆ dedup       ┆ 9521.23607 ┆ 5275.9193    ┆ 17859.05155  ┆ null         │\n",
       "└─────────────┴────────────┴─────────────┴────────────┴──────────────┴──────────────┴──────────────┘"
      ]
     },
     "execution_count": 265,
     "metadata": {},
     "output_type": "execute_result"
    }
   ],
   "source": [
    "rr.pivot(\n",
    "    values=\"avg_train\",\n",
    "    columns=\"base_table\",\n",
    "    index=[\"variant\", \"index\", \"aggregation\"],\n",
    "    aggregate_function=\"mean\"\n",
    ")"
   ]
  },
  {
   "cell_type": "code",
   "execution_count": 266,
   "metadata": {},
   "outputs": [],
   "source": [
    "r_scn = df_scn.filter(\n",
    "    (pl.col(\"iterations\") == 500 ) &\n",
    "    (~pl.col(\"source_table\").is_in([\"us-accidents-prepared\",\"presidential-results-prepared\"]))\n",
    ").with_columns(\n",
    "    (pl.col(\"duration_process\").dt.hours()*3600+\n",
    "    pl.col(\"duration_process\").dt.minutes()*60+\n",
    "    pl.col(\"duration_process\").dt.seconds()+\n",
    "    pl.col(\"duration_process\").dt.microseconds()*1e-6).alias(\"process_in_seconds\")\n",
    "    )\n",
    "# .select(\n",
    "#         pl.col(\"scenario_id\"),\n",
    "#         pl.col(\"source_table\"),\n",
    "#         pl.col(\"aggregation\"),\n",
    "#         pl.col(\"target_dl\"),\n",
    "#         pl.col(\"process_in_seconds\")\n",
    "#     )"
   ]
  },
  {
   "cell_type": "code",
   "execution_count": 267,
   "metadata": {},
   "outputs": [
    {
     "data": {
      "text/html": [
       "<div><style>\n",
       ".dataframe > thead > tr > th,\n",
       ".dataframe > tbody > tr > td {\n",
       "  text-align: right;\n",
       "}\n",
       "</style>\n",
       "<small>shape: (25, 11)</small><table border=\"1\" class=\"dataframe\"><thead><tr><th>scenario_id</th><th>target_dl</th><th>source_table</th><th>join_strategy</th><th>aggregation</th><th>iterations</th><th>n_candidates</th><th>duration_process</th><th>duration_load_index</th><th>duration_querying</th><th>duration_evaluation</th></tr><tr><td>i64</td><td>str</td><td>str</td><td>str</td><td>str</td><td>i64</td><td>i64</td><td>duration[μs]</td><td>duration[μs]</td><td>duration[μs]</td><td>duration[μs]</td></tr></thead><tbody><tr><td>171</td><td>&quot;wordnet_big&quot;</td><td>&quot;company-employ…</td><td>&quot;left&quot;</td><td>&quot;none&quot;</td><td>500</td><td>50</td><td>32m 14s 796021µs</td><td>9s 579817µs</td><td>91089µs</td><td>32m 5s 103490µs</td></tr><tr><td>172</td><td>&quot;wordnet_big&quot;</td><td>&quot;company-employ…</td><td>&quot;left&quot;</td><td>&quot;dedup&quot;</td><td>500</td><td>50</td><td>41m 34s 582947µs</td><td>9s 575038µs</td><td>87532µs</td><td>41m 24s 897368µs</td></tr><tr><td>173</td><td>&quot;wordnet_big&quot;</td><td>&quot;company-employ…</td><td>&quot;left&quot;</td><td>&quot;dfs&quot;</td><td>500</td><td>50</td><td>35m 11s 72214µs</td><td>9s 403545µs</td><td>89306µs</td><td>35m 1s 556522µs</td></tr><tr><td>175</td><td>&quot;wordnet_big&quot;</td><td>&quot;movies-prepare…</td><td>&quot;left&quot;</td><td>&quot;dedup&quot;</td><td>500</td><td>23</td><td>25m 23s 627060µs</td><td>9s 579281µs</td><td>71742µs</td><td>25m 13s 956394µs</td></tr><tr><td>176</td><td>&quot;wordnet_big&quot;</td><td>&quot;movies-prepare…</td><td>&quot;left&quot;</td><td>&quot;dfs&quot;</td><td>500</td><td>23</td><td>23m 35s 721900µs</td><td>9s 684723µs</td><td>82287µs</td><td>23m 25s 932413µs</td></tr><tr><td>180</td><td>&quot;binary&quot;</td><td>&quot;company-employ…</td><td>&quot;left&quot;</td><td>&quot;none&quot;</td><td>500</td><td>6</td><td>11m 42s 146908µs</td><td>271488µs</td><td>128210µs</td><td>11m 41s 723023µs</td></tr><tr><td>182</td><td>&quot;binary&quot;</td><td>&quot;company-employ…</td><td>&quot;left&quot;</td><td>&quot;dedup&quot;</td><td>500</td><td>6</td><td>7m 9s 52256µs</td><td>238435µs</td><td>71863µs</td><td>7m 8s 732214µs</td></tr><tr><td>183</td><td>&quot;binary&quot;</td><td>&quot;company-employ…</td><td>&quot;left&quot;</td><td>&quot;dfs&quot;</td><td>500</td><td>6</td><td>5m 35s 104059µs</td><td>256503µs</td><td>68622µs</td><td>5m 34s 770953µs</td></tr><tr><td>184</td><td>&quot;binary&quot;</td><td>&quot;movies-prepare…</td><td>&quot;left&quot;</td><td>&quot;none&quot;</td><td>500</td><td>8</td><td>8m 33s 636300µs</td><td>200648µs</td><td>126259µs</td><td>8m 33s 301165µs</td></tr><tr><td>185</td><td>&quot;binary&quot;</td><td>&quot;movies-prepare…</td><td>&quot;left&quot;</td><td>&quot;dedup&quot;</td><td>500</td><td>8</td><td>11m 41s 666856µs</td><td>256760µs</td><td>72613µs</td><td>11m 41s 330215µs</td></tr><tr><td>186</td><td>&quot;binary&quot;</td><td>&quot;movies-prepare…</td><td>&quot;left&quot;</td><td>&quot;dfs&quot;</td><td>500</td><td>8</td><td>10m 7s 234226µs</td><td>187238µs</td><td>76148µs</td><td>10m 6s 961668µs</td></tr><tr><td>190</td><td>&quot;wordnet_big&quot;</td><td>&quot;us-accidents-p…</td><td>&quot;left&quot;</td><td>&quot;none&quot;</td><td>500</td><td>50</td><td>50m 40s 80338µs</td><td>10s 212965µs</td><td>95099µs</td><td>50m 29s 685385µs</td></tr><tr><td>195</td><td>&quot;binary&quot;</td><td>&quot;presidential-r…</td><td>&quot;left&quot;</td><td>&quot;dedup&quot;</td><td>500</td><td>4</td><td>10m 18s 129056µs</td><td>219889µs</td><td>90336µs</td><td>10m 17s 811373µs</td></tr><tr><td>197</td><td>&quot;binary&quot;</td><td>&quot;presidential-r…</td><td>&quot;left&quot;</td><td>&quot;dfs&quot;</td><td>500</td><td>4</td><td>6m 25s 752577µs</td><td>321985µs</td><td>122619µs</td><td>6m 25s 299648µs</td></tr><tr><td>198</td><td>&quot;wordnet_big&quot;</td><td>&quot;presidential-r…</td><td>&quot;left&quot;</td><td>&quot;none&quot;</td><td>500</td><td>50</td><td>1h 37s 448697µs</td><td>9s 964025µs</td><td>85407µs</td><td>1h 27s 367077µs</td></tr><tr><td>199</td><td>&quot;wordnet_big&quot;</td><td>&quot;us-accidents-p…</td><td>&quot;left&quot;</td><td>&quot;dfs&quot;</td><td>500</td><td>50</td><td>55m 1s 473562µs</td><td>10s 49761µs</td><td>93087µs</td><td>54m 51s 305766µs</td></tr><tr><td>200</td><td>&quot;wordnet_big&quot;</td><td>&quot;presidential-r…</td><td>&quot;left&quot;</td><td>&quot;dedup&quot;</td><td>500</td><td>50</td><td>2h 12m 10s 169247µs</td><td>9s 449072µs</td><td>86928µs</td><td>2h 12m 609620µs</td></tr><tr><td>202</td><td>&quot;binary&quot;</td><td>&quot;us-accidents-p…</td><td>&quot;left&quot;</td><td>&quot;none&quot;</td><td>500</td><td>10</td><td>9m 35s 454103µs</td><td>187051µs</td><td>94129µs</td><td>9m 35s 163975µs</td></tr><tr><td>203</td><td>&quot;binary&quot;</td><td>&quot;us-accidents-p…</td><td>&quot;left&quot;</td><td>&quot;dedup&quot;</td><td>500</td><td>10</td><td>14m 18s 317303µs</td><td>196606µs</td><td>94184µs</td><td>14m 18s 18552µs</td></tr><tr><td>201</td><td>&quot;wordnet_big&quot;</td><td>&quot;presidential-r…</td><td>&quot;left&quot;</td><td>&quot;dfs&quot;</td><td>500</td><td>50</td><td>1h 10m 25s 269734µs</td><td>9s 655693µs</td><td>86407µs</td><td>1h 10m 15s 506629µs</td></tr><tr><td>204</td><td>&quot;binary&quot;</td><td>&quot;us-accidents-p…</td><td>&quot;left&quot;</td><td>&quot;dfs&quot;</td><td>500</td><td>10</td><td>12m 24s 52041µs</td><td>191645µs</td><td>91300µs</td><td>12m 23s 760900µs</td></tr><tr><td>206</td><td>&quot;wordnet_big&quot;</td><td>&quot;movies-prepare…</td><td>&quot;left&quot;</td><td>&quot;none&quot;</td><td>500</td><td>23</td><td>19m 2s 951924µs</td><td>9s 791539µs</td><td>96821µs</td><td>18m 53s 44336µs</td></tr><tr><td>207</td><td>&quot;binary&quot;</td><td>&quot;presidential-r…</td><td>&quot;left&quot;</td><td>&quot;none&quot;</td><td>500</td><td>4</td><td>4m 8s 843434µs</td><td>209452µs</td><td>88168µs</td><td>4m 8s 538216µs</td></tr><tr><td>213</td><td>&quot;wordnet_big&quot;</td><td>&quot;us-accidents-p…</td><td>&quot;left&quot;</td><td>&quot;dedup&quot;</td><td>500</td><td>50</td><td>1h 37s 84724µs</td><td>9s 357490µs</td><td>170560µs</td><td>1h 27s 533488µs</td></tr><tr><td>212</td><td>&quot;wordnet_big&quot;</td><td>&quot;us-accidents-p…</td><td>&quot;left&quot;</td><td>&quot;dedup&quot;</td><td>500</td><td>50</td><td>1h 2m 47s 559196µs</td><td>9s 535709µs</td><td>115898µs</td><td>1h 2m 37s 886460µs</td></tr></tbody></table></div>"
      ],
      "text/plain": [
       "shape: (25, 11)\n",
       "┌───────────┬─────────┬────────────┬────────────┬───┬────────────┬────────────┬────────────┬────────────┐\n",
       "│ scenario_ ┆ target_ ┆ source_tab ┆ join_strat ┆ … ┆ duration_p ┆ duration_l ┆ duration_q ┆ duration_e │\n",
       "│ id        ┆ dl      ┆ le         ┆ egy        ┆   ┆ rocess     ┆ oad_index  ┆ uerying    ┆ valuation  │\n",
       "│ ---       ┆ ---     ┆ ---        ┆ ---        ┆   ┆ ---        ┆ ---        ┆ ---        ┆ ---        │\n",
       "│ i64       ┆ str     ┆ str        ┆ str        ┆   ┆ duration[μ ┆ duration[μ ┆ duration[μ ┆ duration[μ │\n",
       "│           ┆         ┆            ┆            ┆   ┆ s]         ┆ s]         ┆ s]         ┆ s]         │\n",
       "╞═══════════╪═════════╪════════════╪════════════╪═══╪════════════╪════════════╪════════════╪════════════╡\n",
       "│ 171       ┆ wordnet ┆ company-em ┆ left       ┆ … ┆ 32m 14s    ┆ 9s         ┆ 91089µs    ┆ 32m 5s     │\n",
       "│           ┆ _big    ┆ ployees-pr ┆            ┆   ┆ 796021µs   ┆ 579817µs   ┆            ┆ 103490µs   │\n",
       "│           ┆         ┆ epared     ┆            ┆   ┆            ┆            ┆            ┆            │\n",
       "│ 172       ┆ wordnet ┆ company-em ┆ left       ┆ … ┆ 41m 34s    ┆ 9s         ┆ 87532µs    ┆ 41m 24s    │\n",
       "│           ┆ _big    ┆ ployees-pr ┆            ┆   ┆ 582947µs   ┆ 575038µs   ┆            ┆ 897368µs   │\n",
       "│           ┆         ┆ epared     ┆            ┆   ┆            ┆            ┆            ┆            │\n",
       "│ 173       ┆ wordnet ┆ company-em ┆ left       ┆ … ┆ 35m 11s    ┆ 9s         ┆ 89306µs    ┆ 35m 1s     │\n",
       "│           ┆ _big    ┆ ployees-pr ┆            ┆   ┆ 72214µs    ┆ 403545µs   ┆            ┆ 556522µs   │\n",
       "│           ┆         ┆ epared     ┆            ┆   ┆            ┆            ┆            ┆            │\n",
       "│ 175       ┆ wordnet ┆ movies-pre ┆ left       ┆ … ┆ 25m 23s    ┆ 9s         ┆ 71742µs    ┆ 25m 13s    │\n",
       "│           ┆ _big    ┆ pared      ┆            ┆   ┆ 627060µs   ┆ 579281µs   ┆            ┆ 956394µs   │\n",
       "│ …         ┆ …       ┆ …          ┆ …          ┆ … ┆ …          ┆ …          ┆ …          ┆ …          │\n",
       "│ 206       ┆ wordnet ┆ movies-pre ┆ left       ┆ … ┆ 19m 2s     ┆ 9s         ┆ 96821µs    ┆ 18m 53s    │\n",
       "│           ┆ _big    ┆ pared      ┆            ┆   ┆ 951924µs   ┆ 791539µs   ┆            ┆ 44336µs    │\n",
       "│ 207       ┆ binary  ┆ presidenti ┆ left       ┆ … ┆ 4m 8s      ┆ 209452µs   ┆ 88168µs    ┆ 4m 8s      │\n",
       "│           ┆         ┆ al-results ┆            ┆   ┆ 843434µs   ┆            ┆            ┆ 538216µs   │\n",
       "│           ┆         ┆ -prepared- ┆            ┆   ┆            ┆            ┆            ┆            │\n",
       "│           ┆         ┆ ne…        ┆            ┆   ┆            ┆            ┆            ┆            │\n",
       "│ 213       ┆ wordnet ┆ us-acciden ┆ left       ┆ … ┆ 1h 37s     ┆ 9s         ┆ 170560µs   ┆ 1h 27s     │\n",
       "│           ┆ _big    ┆ ts-prepare ┆            ┆   ┆ 84724µs    ┆ 357490µs   ┆            ┆ 533488µs   │\n",
       "│           ┆         ┆ d-new      ┆            ┆   ┆            ┆            ┆            ┆            │\n",
       "│ 212       ┆ wordnet ┆ us-acciden ┆ left       ┆ … ┆ 1h 2m 47s  ┆ 9s         ┆ 115898µs   ┆ 1h 2m 37s  │\n",
       "│           ┆ _big    ┆ ts-prepare ┆            ┆   ┆ 559196µs   ┆ 535709µs   ┆            ┆ 886460µs   │\n",
       "│           ┆         ┆ d-new      ┆            ┆   ┆            ┆            ┆            ┆            │\n",
       "└───────────┴─────────┴────────────┴────────────┴───┴────────────┴────────────┴────────────┴────────────┘"
      ]
     },
     "execution_count": 267,
     "metadata": {},
     "output_type": "execute_result"
    }
   ],
   "source": [
    "r_scn.select(\n",
    "    pl.col(\"scenario_id\"),\n",
    "    pl.col(\"target_dl\"),\n",
    "    pl.col(\"source_table\"),\n",
    "    pl.col(\"join_strategy\"),\n",
    "    pl.col(\"aggregation\"),\n",
    "    pl.col(\"iterations\"),\n",
    "    pl.col(\"n_candidates\"),\n",
    "    pl.col([col for col in df_scn.columns if col.startswith(\"duration\")])\n",
    ")\n"
   ]
  },
  {
   "cell_type": "code",
   "execution_count": 268,
   "metadata": {},
   "outputs": [
    {
     "data": {
      "text/html": [
       "<div><style>\n",
       ".dataframe > thead > tr > th,\n",
       ".dataframe > tbody > tr > td {\n",
       "  text-align: right;\n",
       "}\n",
       "</style>\n",
       "<small>shape: (6, 6)</small><table border=\"1\" class=\"dataframe\"><thead><tr><th>target_dl</th><th>aggregation</th><th>company-employees-prepared</th><th>movies-prepared</th><th>us-accidents-prepared-new</th><th>presidential-results-prepared-new</th></tr><tr><td>str</td><td>str</td><td>duration[μs]</td><td>duration[μs]</td><td>duration[μs]</td><td>duration[μs]</td></tr></thead><tbody><tr><td>&quot;wordnet_big&quot;</td><td>&quot;none&quot;</td><td>32m 14s 796021µs</td><td>19m 2s 951924µs</td><td>50m 40s 80338µs</td><td>1h 37s 448697µs</td></tr><tr><td>&quot;wordnet_big&quot;</td><td>&quot;dedup&quot;</td><td>41m 34s 582947µs</td><td>25m 23s 627060µs</td><td>1h 1m 42s 321960µs</td><td>2h 12m 10s 169247µs</td></tr><tr><td>&quot;wordnet_big&quot;</td><td>&quot;dfs&quot;</td><td>35m 11s 72214µs</td><td>23m 35s 721900µs</td><td>55m 1s 473562µs</td><td>1h 10m 25s 269734µs</td></tr><tr><td>&quot;binary&quot;</td><td>&quot;none&quot;</td><td>11m 42s 146908µs</td><td>8m 33s 636300µs</td><td>9m 35s 454103µs</td><td>4m 8s 843434µs</td></tr><tr><td>&quot;binary&quot;</td><td>&quot;dedup&quot;</td><td>7m 9s 52256µs</td><td>11m 41s 666856µs</td><td>14m 18s 317303µs</td><td>10m 18s 129056µs</td></tr><tr><td>&quot;binary&quot;</td><td>&quot;dfs&quot;</td><td>5m 35s 104059µs</td><td>10m 7s 234226µs</td><td>12m 24s 52041µs</td><td>6m 25s 752577µs</td></tr></tbody></table></div>"
      ],
      "text/plain": [
       "shape: (6, 6)\n",
       "┌─────────────┬─────────────┬─────────────────┬─────────────────┬─────────────────┬────────────────┐\n",
       "│ target_dl   ┆ aggregation ┆ company-employe ┆ movies-prepared ┆ us-accidents-pr ┆ presidential-r │\n",
       "│ ---         ┆ ---         ┆ es-prepared     ┆ ---             ┆ epared-new      ┆ esults-prepare │\n",
       "│ str         ┆ str         ┆ ---             ┆ duration[μs]    ┆ ---             ┆ d-ne…          │\n",
       "│             ┆             ┆ duration[μs]    ┆                 ┆ duration[μs]    ┆ ---            │\n",
       "│             ┆             ┆                 ┆                 ┆                 ┆ duration[μs]   │\n",
       "╞═════════════╪═════════════╪═════════════════╪═════════════════╪═════════════════╪════════════════╡\n",
       "│ wordnet_big ┆ none        ┆ 32m 14s         ┆ 19m 2s 951924µs ┆ 50m 40s 80338µs ┆ 1h 37s         │\n",
       "│             ┆             ┆ 796021µs        ┆                 ┆                 ┆ 448697µs       │\n",
       "│ wordnet_big ┆ dedup       ┆ 41m 34s         ┆ 25m 23s         ┆ 1h 1m 42s       ┆ 2h 12m 10s     │\n",
       "│             ┆             ┆ 582947µs        ┆ 627060µs        ┆ 321960µs        ┆ 169247µs       │\n",
       "│ wordnet_big ┆ dfs         ┆ 35m 11s 72214µs ┆ 23m 35s         ┆ 55m 1s 473562µs ┆ 1h 10m 25s     │\n",
       "│             ┆             ┆                 ┆ 721900µs        ┆                 ┆ 269734µs       │\n",
       "│ binary      ┆ none        ┆ 11m 42s         ┆ 8m 33s 636300µs ┆ 9m 35s 454103µs ┆ 4m 8s 843434µs │\n",
       "│             ┆             ┆ 146908µs        ┆                 ┆                 ┆                │\n",
       "│ binary      ┆ dedup       ┆ 7m 9s 52256µs   ┆ 11m 41s         ┆ 14m 18s         ┆ 10m 18s        │\n",
       "│             ┆             ┆                 ┆ 666856µs        ┆ 317303µs        ┆ 129056µs       │\n",
       "│ binary      ┆ dfs         ┆ 5m 35s 104059µs ┆ 10m 7s 234226µs ┆ 12m 24s 52041µs ┆ 6m 25s         │\n",
       "│             ┆             ┆                 ┆                 ┆                 ┆ 752577µs       │\n",
       "└─────────────┴─────────────┴─────────────────┴─────────────────┴─────────────────┴────────────────┘"
      ]
     },
     "execution_count": 268,
     "metadata": {},
     "output_type": "execute_result"
    }
   ],
   "source": [
    "r_scn.pivot(\n",
    "    values=\"duration_process\",\n",
    "    columns=\"source_table\",\n",
    "    index=[\"target_dl\", \"aggregation\"],\n",
    "    aggregate_function=\"mean\"\n",
    ")"
   ]
  },
  {
   "cell_type": "code",
   "execution_count": 269,
   "metadata": {},
   "outputs": [
    {
     "data": {
      "text/html": [
       "<div><style>\n",
       ".dataframe > thead > tr > th,\n",
       ".dataframe > tbody > tr > td {\n",
       "  text-align: right;\n",
       "}\n",
       "</style>\n",
       "<small>shape: (25, 6)</small><table border=\"1\" class=\"dataframe\"><thead><tr><th>variant</th><th>index</th><th>base_table</th><th>aggregation</th><th>avg_train</th><th>n_candidates</th></tr><tr><td>str</td><td>str</td><td>str</td><td>str</td><td>f64</td><td>f64</td></tr></thead><tbody><tr><td>&quot;binary&quot;</td><td>&quot;minhash&quot;</td><td>&quot;company-employ…</td><td>&quot;dedup&quot;</td><td>1358.15931</td><td>6.0</td></tr><tr><td>&quot;binary&quot;</td><td>&quot;minhash&quot;</td><td>&quot;company-employ…</td><td>&quot;none&quot;</td><td>2972.997612</td><td>6.0</td></tr><tr><td>&quot;binary&quot;</td><td>&quot;base_table&quot;</td><td>&quot;company-employ…</td><td>&quot;base_table&quot;</td><td>1612.005162</td><td>6.0</td></tr><tr><td>&quot;binary&quot;</td><td>&quot;minhash&quot;</td><td>&quot;company-employ…</td><td>&quot;dfs&quot;</td><td>1343.992525</td><td>6.0</td></tr><tr><td>&quot;binary&quot;</td><td>&quot;minhash&quot;</td><td>&quot;movies-prepare…</td><td>&quot;dedup&quot;</td><td>2343.1143</td><td>8.0</td></tr><tr><td>&quot;binary&quot;</td><td>&quot;minhash&quot;</td><td>&quot;movies-prepare…</td><td>&quot;none&quot;</td><td>2256.738405</td><td>8.0</td></tr><tr><td>&quot;binary&quot;</td><td>&quot;base_table&quot;</td><td>&quot;movies-prepare…</td><td>&quot;base_table&quot;</td><td>2309.719947</td><td>8.0</td></tr><tr><td>&quot;binary&quot;</td><td>&quot;minhash&quot;</td><td>&quot;movies-prepare…</td><td>&quot;dfs&quot;</td><td>2299.995325</td><td>8.0</td></tr><tr><td>&quot;binary&quot;</td><td>&quot;base_table&quot;</td><td>&quot;presidential-r…</td><td>&quot;base_table&quot;</td><td>853.58158</td><td>4.0</td></tr><tr><td>&quot;binary&quot;</td><td>&quot;minhash&quot;</td><td>&quot;presidential-r…</td><td>&quot;dfs&quot;</td><td>1251.29129</td><td>4.0</td></tr><tr><td>&quot;binary&quot;</td><td>&quot;minhash&quot;</td><td>&quot;presidential-r…</td><td>&quot;dedup&quot;</td><td>1017.467255</td><td>4.0</td></tr><tr><td>&quot;wordnet_big&quot;</td><td>&quot;minhash&quot;</td><td>&quot;company-employ…</td><td>&quot;none&quot;</td><td>9429.09824</td><td>50.0</td></tr><tr><td>&quot;wordnet_big&quot;</td><td>&quot;base_table&quot;</td><td>&quot;company-employ…</td><td>&quot;base_table&quot;</td><td>8073.677167</td><td>50.0</td></tr><tr><td>&quot;wordnet_big&quot;</td><td>&quot;minhash&quot;</td><td>&quot;company-employ…</td><td>&quot;dfs&quot;</td><td>9831.609775</td><td>50.0</td></tr><tr><td>&quot;wordnet_big&quot;</td><td>&quot;minhash&quot;</td><td>&quot;company-employ…</td><td>&quot;dedup&quot;</td><td>9521.23607</td><td>50.0</td></tr><tr><td>&quot;wordnet_big&quot;</td><td>&quot;base_table&quot;</td><td>&quot;movies-prepare…</td><td>&quot;base_table&quot;</td><td>5030.245647</td><td>23.0</td></tr><tr><td>&quot;wordnet_big&quot;</td><td>&quot;minhash&quot;</td><td>&quot;movies-prepare…</td><td>&quot;dfs&quot;</td><td>5610.97507</td><td>23.0</td></tr><tr><td>&quot;wordnet_big&quot;</td><td>&quot;minhash&quot;</td><td>&quot;movies-prepare…</td><td>&quot;dedup&quot;</td><td>5275.9193</td><td>23.0</td></tr><tr><td>&quot;wordnet_big&quot;</td><td>&quot;minhash&quot;</td><td>&quot;presidential-r…</td><td>&quot;dedup&quot;</td><td>17859.05155</td><td>50.0</td></tr><tr><td>&quot;wordnet_big&quot;</td><td>&quot;minhash&quot;</td><td>&quot;presidential-r…</td><td>&quot;dfs&quot;</td><td>19647.7359</td><td>50.0</td></tr><tr><td>&quot;wordnet_big&quot;</td><td>&quot;minhash&quot;</td><td>&quot;presidential-r…</td><td>&quot;none&quot;</td><td>17868.4151</td><td>50.0</td></tr><tr><td>&quot;wordnet_big&quot;</td><td>&quot;base_table&quot;</td><td>&quot;presidential-r…</td><td>&quot;base_table&quot;</td><td>9296.990192</td><td>50.0</td></tr><tr><td>&quot;wordnet_big&quot;</td><td>&quot;minhash&quot;</td><td>&quot;us-accidents-p…</td><td>&quot;none&quot;</td><td>14795.295875</td><td>50.0</td></tr><tr><td>&quot;wordnet_big&quot;</td><td>&quot;minhash&quot;</td><td>&quot;us-accidents-p…</td><td>&quot;dfs&quot;</td><td>14974.485195</td><td>50.0</td></tr><tr><td>&quot;wordnet_big&quot;</td><td>&quot;base_table&quot;</td><td>&quot;us-accidents-p…</td><td>&quot;base_table&quot;</td><td>13403.203625</td><td>50.0</td></tr></tbody></table></div>"
      ],
      "text/plain": [
       "shape: (25, 6)\n",
       "┌─────────────┬────────────┬───────────────────────────┬─────────────┬──────────────┬──────────────┐\n",
       "│ variant     ┆ index      ┆ base_table                ┆ aggregation ┆ avg_train    ┆ n_candidates │\n",
       "│ ---         ┆ ---        ┆ ---                       ┆ ---         ┆ ---          ┆ ---          │\n",
       "│ str         ┆ str        ┆ str                       ┆ str         ┆ f64          ┆ f64          │\n",
       "╞═════════════╪════════════╪═══════════════════════════╪═════════════╪══════════════╪══════════════╡\n",
       "│ binary      ┆ minhash    ┆ company-employees-prepare ┆ dedup       ┆ 1358.15931   ┆ 6.0          │\n",
       "│             ┆            ┆ d                         ┆             ┆              ┆              │\n",
       "│ binary      ┆ minhash    ┆ company-employees-prepare ┆ none        ┆ 2972.997612  ┆ 6.0          │\n",
       "│             ┆            ┆ d                         ┆             ┆              ┆              │\n",
       "│ binary      ┆ base_table ┆ company-employees-prepare ┆ base_table  ┆ 1612.005162  ┆ 6.0          │\n",
       "│             ┆            ┆ d                         ┆             ┆              ┆              │\n",
       "│ binary      ┆ minhash    ┆ company-employees-prepare ┆ dfs         ┆ 1343.992525  ┆ 6.0          │\n",
       "│             ┆            ┆ d                         ┆             ┆              ┆              │\n",
       "│ …           ┆ …          ┆ …                         ┆ …           ┆ …            ┆ …            │\n",
       "│ wordnet_big ┆ base_table ┆ presidential-results-prep ┆ base_table  ┆ 9296.990192  ┆ 50.0         │\n",
       "│             ┆            ┆ ared-ne…                  ┆             ┆              ┆              │\n",
       "│ wordnet_big ┆ minhash    ┆ us-accidents-prepared-new ┆ none        ┆ 14795.295875 ┆ 50.0         │\n",
       "│ wordnet_big ┆ minhash    ┆ us-accidents-prepared-new ┆ dfs         ┆ 14974.485195 ┆ 50.0         │\n",
       "│ wordnet_big ┆ base_table ┆ us-accidents-prepared-new ┆ base_table  ┆ 13403.203625 ┆ 50.0         │\n",
       "└─────────────┴────────────┴───────────────────────────┴─────────────┴──────────────┴──────────────┘"
      ]
     },
     "execution_count": 269,
     "metadata": {},
     "output_type": "execute_result"
    }
   ],
   "source": [
    "rr"
   ]
  },
  {
   "cell_type": "code",
   "execution_count": 189,
   "metadata": {},
   "outputs": [
    {
     "data": {
      "text/html": [
       "<div><style>\n",
       ".dataframe > thead > tr > th,\n",
       ".dataframe > tbody > tr > td {\n",
       "  text-align: right;\n",
       "}\n",
       "</style>\n",
       "<small>shape: (7, 6)</small><table border=\"1\" class=\"dataframe\"><thead><tr><th>variant</th><th>index</th><th>base_table</th><th>aggregation</th><th>avg_train</th><th>n_candidates</th></tr><tr><td>str</td><td>str</td><td>str</td><td>str</td><td>f64</td><td>f64</td></tr></thead><tbody><tr><td>&quot;binary&quot;</td><td>&quot;base_table&quot;</td><td>&quot;company-employ…</td><td>&quot;base_table&quot;</td><td>268.667527</td><td>6.0</td></tr><tr><td>&quot;binary&quot;</td><td>&quot;base_table&quot;</td><td>&quot;movies-prepare…</td><td>&quot;base_table&quot;</td><td>288.714993</td><td>8.0</td></tr><tr><td>&quot;binary&quot;</td><td>&quot;base_table&quot;</td><td>&quot;presidential-r…</td><td>&quot;base_table&quot;</td><td>213.395395</td><td>4.0</td></tr><tr><td>&quot;wordnet_big&quot;</td><td>&quot;base_table&quot;</td><td>&quot;company-employ…</td><td>&quot;base_table&quot;</td><td>161.473543</td><td>50.0</td></tr><tr><td>&quot;wordnet_big&quot;</td><td>&quot;base_table&quot;</td><td>&quot;movies-prepare…</td><td>&quot;base_table&quot;</td><td>218.706333</td><td>23.0</td></tr><tr><td>&quot;wordnet_big&quot;</td><td>&quot;base_table&quot;</td><td>&quot;presidential-r…</td><td>&quot;base_table&quot;</td><td>182.442082</td><td>50.0</td></tr><tr><td>&quot;wordnet_big&quot;</td><td>&quot;base_table&quot;</td><td>&quot;us-accidents-p…</td><td>&quot;base_table&quot;</td><td>268.064073</td><td>50.0</td></tr></tbody></table></div>"
      ],
      "text/plain": [
       "shape: (7, 6)\n",
       "┌─────────────┬────────────┬─────────────────────────────┬─────────────┬────────────┬──────────────┐\n",
       "│ variant     ┆ index      ┆ base_table                  ┆ aggregation ┆ avg_train  ┆ n_candidates │\n",
       "│ ---         ┆ ---        ┆ ---                         ┆ ---         ┆ ---        ┆ ---          │\n",
       "│ str         ┆ str        ┆ str                         ┆ str         ┆ f64        ┆ f64          │\n",
       "╞═════════════╪════════════╪═════════════════════════════╪═════════════╪════════════╪══════════════╡\n",
       "│ binary      ┆ base_table ┆ company-employees-prepared  ┆ base_table  ┆ 268.667527 ┆ 6.0          │\n",
       "│ binary      ┆ base_table ┆ movies-prepared             ┆ base_table  ┆ 288.714993 ┆ 8.0          │\n",
       "│ binary      ┆ base_table ┆ presidential-results-prepar ┆ base_table  ┆ 213.395395 ┆ 4.0          │\n",
       "│             ┆            ┆ ed-ne…                      ┆             ┆            ┆              │\n",
       "│ wordnet_big ┆ base_table ┆ company-employees-prepared  ┆ base_table  ┆ 161.473543 ┆ 50.0         │\n",
       "│ wordnet_big ┆ base_table ┆ movies-prepared             ┆ base_table  ┆ 218.706333 ┆ 23.0         │\n",
       "│ wordnet_big ┆ base_table ┆ presidential-results-prepar ┆ base_table  ┆ 182.442082 ┆ 50.0         │\n",
       "│             ┆            ┆ ed-ne…                      ┆             ┆            ┆              │\n",
       "│ wordnet_big ┆ base_table ┆ us-accidents-prepared-new   ┆ base_table  ┆ 268.064073 ┆ 50.0         │\n",
       "└─────────────┴────────────┴─────────────────────────────┴─────────────┴────────────┴──────────────┘"
      ]
     },
     "execution_count": 189,
     "metadata": {},
     "output_type": "execute_result"
    }
   ],
   "source": [
    "joined.groupby(\n",
    "    [\"variant\", \"index\", \"base_table\", \"aggregation\"]\n",
    ").agg(\n",
    "    pl.col(\"avg_train\").mean(),\n",
    "    pl.col(\"n_candidates\").mean()\n",
    ").sort([\"variant\", \"base_table\"]).filter(\n",
    "    (pl.col(\"index\") ==\"base_table\") & \n",
    "    (~pl.col(\"base_table\").is_in([\"us-accidents-prepared\",\"presidential-results-prepared\"]))\n",
    "    ).with_columns(\n",
    "        pl.col(\"avg_train\") * 25\n",
    "    )"
   ]
  },
  {
   "cell_type": "code",
   "execution_count": null,
   "metadata": {},
   "outputs": [],
   "source": []
  }
 ],
 "metadata": {
  "kernelspec": {
   "display_name": "bench",
   "language": "python",
   "name": "python3"
  },
  "language_info": {
   "codemirror_mode": {
    "name": "ipython",
    "version": 3
   },
   "file_extension": ".py",
   "mimetype": "text/x-python",
   "name": "python",
   "nbconvert_exporter": "python",
   "pygments_lexer": "ipython3",
   "version": "3.10.10"
  },
  "orig_nbformat": 4
 },
 "nbformat": 4,
 "nbformat_minor": 2
}
