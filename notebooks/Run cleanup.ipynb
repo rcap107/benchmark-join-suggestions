{
 "cells": [
  {
   "cell_type": "code",
   "execution_count": 2,
   "metadata": {},
   "outputs": [
    {
     "name": "stdout",
     "output_type": "stream",
     "text": [
      "/home/soda/rcappuzz/work/benchmark-join-suggestions\n"
     ]
    }
   ],
   "source": [
    "cd ~/bench"
   ]
  },
  {
   "cell_type": "markdown",
   "metadata": {},
   "source": [
    "This notebook is used to combine all results from various runs in to a single file for simplicity and better storage. "
   ]
  },
  {
   "cell_type": "code",
   "execution_count": 3,
   "metadata": {},
   "outputs": [
    {
     "data": {
      "text/plain": [
       "polars.config.Config"
      ]
     },
     "execution_count": 3,
     "metadata": {},
     "output_type": "execute_result"
    }
   ],
   "source": [
    "import polars as pl\n",
    "from pathlib import Path\n",
    "from src.utils.logging import read_and_process, read_logs\n",
    "\n",
    "cfg = pl.Config()\n",
    "cfg.set_fmt_str_lengths(150)"
   ]
  },
  {
   "cell_type": "code",
   "execution_count": 4,
   "metadata": {},
   "outputs": [],
   "source": [
    "dest_path = Path(\"results/overall\")\n",
    "overall_list = []"
   ]
  },
  {
   "cell_type": "markdown",
   "metadata": {},
   "source": [
    "## Wordnet 10k"
   ]
  },
  {
   "cell_type": "code",
   "execution_count": 10,
   "metadata": {},
   "outputs": [],
   "source": [
    "r_path = \"results/logs/0428-hde9c7an\"\n",
    "df_raw = read_logs(exp_name=None, exp_path=r_path)\n",
    "df_raw = df_raw.fill_null(0).with_columns(\n",
    "    pl.lit(0.0).alias(\"auc\"), pl.lit(0.0).alias(\"f1score\")\n",
    ")\n",
    "overall_list.append(df_raw)"
   ]
  },
  {
   "cell_type": "code",
   "execution_count": 11,
   "metadata": {},
   "outputs": [],
   "source": [
    "df_raw.write_parquet(Path(dest_path, \"wordnet_10k-first.parquet\"))"
   ]
  },
  {
   "cell_type": "markdown",
   "metadata": {},
   "source": [
    "## Wordnet old + Binary"
   ]
  },
  {
   "cell_type": "code",
   "execution_count": 12,
   "metadata": {},
   "outputs": [],
   "source": [
    "r_path = \"results/logs/0429-oot6vo5b\"\n",
    "df_raw = read_logs(exp_name=None, exp_path=r_path)\n",
    "df_raw = df_raw.fill_null(0).with_columns(\n",
    "    pl.lit(0.0).alias(\"auc\"), pl.lit(0.0).alias(\"f1score\")\n",
    ")\n",
    "overall_list.append(df_raw)"
   ]
  },
  {
   "cell_type": "code",
   "execution_count": 13,
   "metadata": {},
   "outputs": [],
   "source": [
    "df_raw.filter(pl.col(\"target_dl\") == \"binary_update\").write_parquet(\n",
    "    Path(dest_path, \"binary_update-first.parquet\")\n",
    ")\n",
    "df_raw.filter(pl.col(\"target_dl\") == \"wordnet_full\").write_parquet(\n",
    "    Path(dest_path, \"wordnet_full-first.parquet\")\n",
    ")"
   ]
  },
  {
   "cell_type": "markdown",
   "metadata": {},
   "source": [
    "## Open Data US"
   ]
  },
  {
   "cell_type": "code",
   "execution_count": 35,
   "metadata": {},
   "outputs": [],
   "source": [
    "r1_path = \"results/logs/0434-7r9ecumo\"\n",
    "df_1 = read_logs(exp_name=None, exp_path=r1_path)\n",
    "df_1 = df_1.fill_null(0).with_columns(\n",
    "    pl.lit(0.0).alias(\"auc\"), pl.lit(0.0).alias(\"f1score\")\n",
    ")\n",
    "\n",
    "r2_path = \"results/logs/0435-y2ljs95x\"\n",
    "df_2 = read_logs(exp_name=None, exp_path=r2_path)\n",
    "df_2 = (\n",
    "    df_2.fill_null(0)\n",
    "    .with_columns(pl.lit(0.0).alias(\"auc\"), pl.lit(0.0).alias(\"f1score\"))\n",
    "    .filter(~pl.col(\"base_table\").str.contains(\"schools\"))\n",
    ")\n",
    "\n",
    "r_schools_path = \"results/logs/0444-4ptu03x5\"\n",
    "df_3 = read_logs(exp_name=None, exp_path=r_schools_path)\n",
    "df_3 = (\n",
    "    df_3.fill_null(0)\n",
    "    .with_columns(pl.lit(0.0).alias(\"r2score\"), pl.lit(0.0).alias(\"rmse\"))\n",
    "    .filter(~pl.col(\"base_table\").str.contains(\"schools\"))\n",
    ")\n",
    "\n",
    "df_raw = pl.concat([df_1, df_2, df_3])\n",
    "df_raw.filter(pl.col(\"base_table\").str.contains(\"depleted\")).write_parquet(\n",
    "    Path(dest_path, \"open_data_us-first.parquet\")\n",
    ")\n",
    "\n",
    "df_raw.write_parquet(Path(dest_path, \"open_data_us-first-with_full_tables.parquet\"))\n",
    "\n",
    "overall_list.append(df_raw)"
   ]
  },
  {
   "cell_type": "markdown",
   "metadata": {},
   "source": [
    "## Movies large"
   ]
  },
  {
   "cell_type": "code",
   "execution_count": 37,
   "metadata": {},
   "outputs": [],
   "source": [
    "r_path = \"results/logs/0451-gm4f305a\"\n",
    "df_raw = read_logs(exp_name=None, exp_path=r_path)\n",
    "df_raw = df_raw.fill_null(0).with_columns(\n",
    "    pl.lit(0.0).alias(\"auc\"), pl.lit(0.0).alias(\"f1score\")\n",
    ")\n",
    "overall_list.append(df_raw)"
   ]
  },
  {
   "cell_type": "markdown",
   "metadata": {},
   "source": [
    "## US Accidents large"
   ]
  },
  {
   "cell_type": "code",
   "execution_count": 39,
   "metadata": {},
   "outputs": [],
   "source": [
    "r_path = \"results/logs/0453-sjkk0koq\"\n",
    "df_raw = read_logs(exp_name=None, exp_path=r_path)\n",
    "df_raw = df_raw.fill_null(0).with_columns(\n",
    "    pl.lit(0.0).alias(\"auc\"), pl.lit(0.0).alias(\"f1score\")\n",
    ")\n",
    "overall_list.append(df_raw)"
   ]
  },
  {
   "cell_type": "markdown",
   "metadata": {},
   "source": [
    "## Combine all runs"
   ]
  },
  {
   "cell_type": "code",
   "execution_count": 33,
   "metadata": {},
   "outputs": [
    {
     "name": "stdout",
     "output_type": "stream",
     "text": [
      "OrderedDict([('scenario_id', Int64), ('status', String), ('target_dl', String), ('jd_method', String), ('base_table', String), ('query_column', String), ('estimator', String), ('aggregation', String), ('chosen_model', String), ('fold_id', Int64), ('time_fit', Float64), ('time_predict', Float64), ('time_run', Float64), ('time_prepare', Float64), ('time_model_train', Float64), ('time_join_train', Float64), ('time_model_predict', Float64), ('time_join_predict', Float64), ('peak_fit', Float64), ('peak_predict', Float64), ('peak_test', Float64), ('r2score', Float64), ('rmse', Float64), ('f1score', Float64), ('auc', Float64), ('n_cols', String), ('budget_type', String), ('budget_amount', Int64), ('epsilon', Float64)])\n",
      "OrderedDict([('scenario_id', Int64), ('status', String), ('target_dl', String), ('jd_method', String), ('base_table', String), ('query_column', String), ('estimator', String), ('aggregation', String), ('chosen_model', String), ('fold_id', Int64), ('time_fit', Float64), ('time_predict', Float64), ('time_run', Float64), ('time_prepare', Float64), ('time_model_train', Float64), ('time_join_train', Float64), ('time_model_predict', Float64), ('time_join_predict', Float64), ('peak_fit', Float64), ('peak_predict', Float64), ('peak_test', Float64), ('r2score', Float64), ('rmse', Float64), ('f1score', Float64), ('auc', Float64), ('n_cols', String), ('budget_type', String), ('budget_amount', Int64), ('epsilon', Float64)])\n",
      "OrderedDict([('scenario_id', Int64), ('status', String), ('target_dl', String), ('jd_method', String), ('base_table', String), ('query_column', String), ('estimator', String), ('aggregation', String), ('chosen_model', String), ('fold_id', Int64), ('time_fit', Float64), ('time_predict', Float64), ('time_run', Float64), ('time_prepare', Float64), ('time_model_train', Float64), ('time_join_train', Float64), ('time_model_predict', Float64), ('time_join_predict', Float64), ('peak_fit', Float64), ('peak_predict', Float64), ('peak_test', Float64), ('r2score', Float64), ('rmse', Float64), ('f1score', Float64), ('auc', Float64), ('n_cols', String), ('budget_type', String), ('budget_amount', Int64), ('epsilon', Float64)])\n"
     ]
    }
   ],
   "source": [
    "for df in overall_list:\n",
    "    print(df.schema)\n",
    "df_overall = pl.concat(overall_list)\n",
    "df_overall.write_parquet(Path(dest_path, \"overall_first.parquet\"))"
   ]
  },
  {
   "cell_type": "markdown",
   "metadata": {},
   "source": [
    "# Extra runs\n",
    "The following runs are not added to the \"overall\" logs because they were not run with all methods."
   ]
  },
  {
   "cell_type": "markdown",
   "metadata": {},
   "source": [
    "## Wordnet 3K"
   ]
  },
  {
   "cell_type": "code",
   "execution_count": 34,
   "metadata": {},
   "outputs": [],
   "source": [
    "r_path = \"results/logs/0424-xc16vll9\"\n",
    "df_raw = read_logs(exp_name=None, exp_path=r_path)\n",
    "df_raw = df_raw.fill_null(0).with_columns(\n",
    "    pl.lit(0.0).alias(\"auc\"), pl.lit(0.0).alias(\"f1score\")\n",
    ")\n",
    "df_raw.write_parquet(Path(dest_path, \"wordnet_3k-first.parquet\"))"
   ]
  },
  {
   "cell_type": "markdown",
   "metadata": {},
   "source": [
    "## Wordnet 50k"
   ]
  },
  {
   "cell_type": "code",
   "execution_count": 41,
   "metadata": {},
   "outputs": [],
   "source": [
    "r_path = \"results/logs/0430-e6fv2b39\"\n",
    "df_raw = read_logs(exp_name=None, exp_path=r_path)\n",
    "df_raw = df_raw.fill_null(0).with_columns(\n",
    "    pl.lit(0.0).alias(\"auc\"), pl.lit(0.0).alias(\"f1score\")\n",
    ")\n",
    "df_raw.write_parquet(Path(dest_path, \"wordnet_50k-first.parquet\"))"
   ]
  },
  {
   "cell_type": "markdown",
   "metadata": {},
   "source": [
    "## Aggregation mean"
   ]
  },
  {
   "cell_type": "code",
   "execution_count": 45,
   "metadata": {},
   "outputs": [],
   "source": [
    "# Only wordnet 10k\n",
    "r_path = \"results/logs/0438-yboxtpbz\"\n",
    "df_raw = read_logs(exp_name=None, exp_path=r_path)\n",
    "df_raw = df_raw.fill_null(0).with_columns(\n",
    "    pl.lit(0.0).alias(\"auc\"), pl.lit(0.0).alias(\"f1score\")\n",
    ")\n",
    "\n",
    "df_raw.write_parquet(Path(dest_path, \"wordnet_10k-mean.parquet\"))"
   ]
  },
  {
   "cell_type": "markdown",
   "metadata": {},
   "source": [
    "## New tables"
   ]
  },
  {
   "cell_type": "code",
   "execution_count": 5,
   "metadata": {},
   "outputs": [],
   "source": [
    "# Only wordnet 10k\n",
    "r_path = \"results/logs/0451-gm4f305a\"\n",
    "df_raw = read_logs(exp_name=None, exp_path=r_path)\n",
    "df_raw = df_raw.fill_null(0).with_columns(\n",
    "    pl.lit(0.0).alias(\"auc\"), pl.lit(0.0).alias(\"f1score\")\n",
    ")\n",
    "\n",
    "# df_raw.write_parquet(Path(dest_path, \"wordnet_10k-mean.parquet\"))"
   ]
  },
  {
   "cell_type": "code",
   "execution_count": 7,
   "metadata": {},
   "outputs": [
    {
     "data": {
      "text/html": [
       "<div><style>\n",
       ".dataframe > thead > tr,\n",
       ".dataframe > tbody > tr {\n",
       "  text-align: right;\n",
       "  white-space: pre-wrap;\n",
       "}\n",
       "</style>\n",
       "<small>shape: (3, 1)</small><table border=\"1\" class=\"dataframe\"><thead><tr><th>target_dl</th></tr><tr><td>str</td></tr></thead><tbody><tr><td>&quot;binary_update&quot;</td></tr><tr><td>&quot;wordnet_vldb_10&quot;</td></tr><tr><td>&quot;wordnet_full&quot;</td></tr></tbody></table></div>"
      ],
      "text/plain": [
       "shape: (3, 1)\n",
       "┌─────────────────┐\n",
       "│ target_dl       │\n",
       "│ ---             │\n",
       "│ str             │\n",
       "╞═════════════════╡\n",
       "│ binary_update   │\n",
       "│ wordnet_vldb_10 │\n",
       "│ wordnet_full    │\n",
       "└─────────────────┘"
      ]
     },
     "execution_count": 7,
     "metadata": {},
     "output_type": "execute_result"
    }
   ],
   "source": [
    "df_raw.select(pl.col(\"target_dl\").unique())"
   ]
  },
  {
   "cell_type": "code",
   "execution_count": null,
   "metadata": {},
   "outputs": [],
   "source": []
  }
 ],
 "metadata": {
  "kernelspec": {
   "display_name": "Python 3",
   "language": "python",
   "name": "python3"
  },
  "language_info": {
   "codemirror_mode": {
    "name": "ipython",
    "version": 3
   },
   "file_extension": ".py",
   "mimetype": "text/x-python",
   "name": "python",
   "nbconvert_exporter": "python",
   "pygments_lexer": "ipython3",
   "version": "3.10.0"
  }
 },
 "nbformat": 4,
 "nbformat_minor": 2
}
