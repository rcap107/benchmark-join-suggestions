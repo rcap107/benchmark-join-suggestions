{
 "cells": [
  {
   "cell_type": "markdown",
   "metadata": {},
   "source": [
    "In this notebook I will be going through the various steps in the pipeline to try to understand why it seems that adding\n",
    "external information by joining new tables does not help with downstream tasks. \n",
    "\n"
   ]
  },
  {
   "cell_type": "code",
   "execution_count": 1,
   "metadata": {},
   "outputs": [
    {
     "name": "stdout",
     "output_type": "stream",
     "text": [
      "/home/soda/rcappuzz/work/benchmark-join-suggestions\n"
     ]
    }
   ],
   "source": [
    "cd .."
   ]
  },
  {
   "cell_type": "code",
   "execution_count": 2,
   "metadata": {},
   "outputs": [],
   "source": [
    "%load_ext autoreload\n",
    "%autoreload 2"
   ]
  },
  {
   "cell_type": "code",
   "execution_count": 3,
   "metadata": {},
   "outputs": [],
   "source": [
    "import pandas as pd\n",
    "import polars as pl\n",
    "import matplotlib.pyplot as plt\n",
    "import seaborn as sns\n",
    "import numpy as np\n",
    "\n",
    "from pathlib import Path\n",
    "\n",
    "import src.pipeline as pipeline\n",
    "from src._join_aggregator import JoinAggregator\n",
    "from src.data_structures.loggers import ScenarioLogger\n",
    "from src.data_structures.metadata import MetadataIndex, RawDataset, CandidateJoin\n",
    "from src.utils.indexing import write_candidates_on_file\n",
    "from src.utils.joining import execute_join, aggregate_table\n",
    "from src.methods.evaluation import evaluate_single_table\n"
   ]
  },
  {
   "cell_type": "code",
   "execution_count": 4,
   "metadata": {},
   "outputs": [
    {
     "data": {
      "text/plain": [
       "polars.config.Config"
      ]
     },
     "execution_count": 4,
     "metadata": {},
     "output_type": "execute_result"
    }
   ],
   "source": [
    "pl.Config.set_fmt_str_lengths(100)\n",
    "pl.Config.set_tbl_rows(20)"
   ]
  },
  {
   "cell_type": "code",
   "execution_count": 6,
   "metadata": {},
   "outputs": [
    {
     "name": "stdout",
     "output_type": "stream",
     "text": [
      "['name', 'domain', 'year founded', 'industry', 'size range', 'locality', 'country', 'linkedin url', 'col_to_embed', 'target']\n"
     ]
    }
   ],
   "source": [
    "# Select the yadl version\n",
    "yadl_version = \"wordnet_cp_big_fx\"\n",
    "# yadl_version = \"open_data\"\n",
    "\n",
    "# Prepare the metadata\n",
    "metadata_dir = Path(f\"data/metadata/{yadl_version}\")\n",
    "metadata_index_path = Path(f\"data/metadata/_mdi/md_index_{yadl_version}.pickle\")\n",
    "mdata_index = MetadataIndex(index_path=metadata_index_path)\n",
    "\n",
    "# Prepare the index dir\n",
    "index_dir = Path(f\"data/metadata/_indices/{yadl_version}\")\n",
    "\n",
    "# Prepare the query table\n",
    "query_tab_path = Path(\"data/source_tables/company-employees-yadl.parquet\")\n",
    "\n",
    "base_table = pl.read_parquet(query_tab_path)\n",
    "print(base_table.columns)\n",
    "tab_name = query_tab_path.stem\n",
    "\n"
   ]
  },
  {
   "cell_type": "code",
   "execution_count": 7,
   "metadata": {},
   "outputs": [
    {
     "data": {
      "text/html": [
       "<div><style>\n",
       ".dataframe > thead > tr > th,\n",
       ".dataframe > tbody > tr > td {\n",
       "  text-align: right;\n",
       "}\n",
       "</style>\n",
       "<small>shape: (2_998, 2)</small><table border=\"1\" class=\"dataframe\"><thead><tr><th>col_to_embed</th><th>count</th></tr><tr><td>str</td><td>u32</td></tr></thead><tbody><tr><td>&quot;&lt;Talbots&gt;&quot;</td><td>1</td></tr><tr><td>&quot;&lt;ARUP_Laboratories&gt;&quot;</td><td>1</td></tr><tr><td>&quot;&lt;Comcast&gt;&quot;</td><td>1</td></tr><tr><td>&quot;&lt;Aspect_Software&gt;&quot;</td><td>1</td></tr><tr><td>&quot;&lt;Providence_College&gt;&quot;</td><td>1</td></tr><tr><td>&quot;&lt;Primetals_Technologies&gt;&quot;</td><td>1</td></tr><tr><td>&quot;&lt;Bacardi&gt;&quot;</td><td>1</td></tr><tr><td>&quot;&lt;Arvest_Bank&gt;&quot;</td><td>1</td></tr><tr><td>&quot;&lt;South32&gt;&quot;</td><td>1</td></tr><tr><td>&quot;&lt;Arkema&gt;&quot;</td><td>1</td></tr><tr><td>&hellip;</td><td>&hellip;</td></tr><tr><td>&quot;&lt;Empresas_Polar&gt;&quot;</td><td>1</td></tr><tr><td>&quot;&lt;Framestore&gt;&quot;</td><td>1</td></tr><tr><td>&quot;&lt;Sanepar&gt;&quot;</td><td>1</td></tr><tr><td>&quot;&lt;China_Mobile&gt;&quot;</td><td>1</td></tr><tr><td>&quot;&lt;Stanford_University&gt;&quot;</td><td>1</td></tr><tr><td>&quot;&lt;Lord_Corporation&gt;&quot;</td><td>1</td></tr><tr><td>&quot;&lt;VFS_Global&gt;&quot;</td><td>1</td></tr><tr><td>&quot;&lt;Roland_Berger&gt;&quot;</td><td>1</td></tr><tr><td>&quot;&lt;Altera&gt;&quot;</td><td>1</td></tr><tr><td>&quot;&lt;Teradata&gt;&quot;</td><td>1</td></tr></tbody></table></div>"
      ],
      "text/plain": [
       "shape: (2_998, 2)\n",
       "┌──────────────────────────┬───────┐\n",
       "│ col_to_embed             ┆ count │\n",
       "│ ---                      ┆ ---   │\n",
       "│ str                      ┆ u32   │\n",
       "╞══════════════════════════╪═══════╡\n",
       "│ <Talbots>                ┆ 1     │\n",
       "│ <ARUP_Laboratories>      ┆ 1     │\n",
       "│ <Comcast>                ┆ 1     │\n",
       "│ <Aspect_Software>        ┆ 1     │\n",
       "│ <Providence_College>     ┆ 1     │\n",
       "│ <Primetals_Technologies> ┆ 1     │\n",
       "│ <Bacardi>                ┆ 1     │\n",
       "│ <Arvest_Bank>            ┆ 1     │\n",
       "│ <South32>                ┆ 1     │\n",
       "│ <Arkema>                 ┆ 1     │\n",
       "│ …                        ┆ …     │\n",
       "│ <Empresas_Polar>         ┆ 1     │\n",
       "│ <Framestore>             ┆ 1     │\n",
       "│ <Sanepar>                ┆ 1     │\n",
       "│ <China_Mobile>           ┆ 1     │\n",
       "│ <Stanford_University>    ┆ 1     │\n",
       "│ <Lord_Corporation>       ┆ 1     │\n",
       "│ <VFS_Global>             ┆ 1     │\n",
       "│ <Roland_Berger>          ┆ 1     │\n",
       "│ <Altera>                 ┆ 1     │\n",
       "│ <Teradata>               ┆ 1     │\n",
       "└──────────────────────────┴───────┘"
      ]
     },
     "execution_count": 7,
     "metadata": {},
     "output_type": "execute_result"
    }
   ],
   "source": [
    "base_table.groupby(\"col_to_embed\").count()"
   ]
  },
  {
   "cell_type": "code",
   "execution_count": 8,
   "metadata": {},
   "outputs": [
    {
     "data": {
      "text/plain": [
       "['name',\n",
       " 'domain',\n",
       " 'year founded',\n",
       " 'industry',\n",
       " 'size range',\n",
       " 'locality',\n",
       " 'country',\n",
       " 'linkedin url',\n",
       " 'col_to_embed',\n",
       " 'target']"
      ]
     },
     "execution_count": 8,
     "metadata": {},
     "output_type": "execute_result"
    }
   ],
   "source": [
    "base_table.columns"
   ]
  },
  {
   "cell_type": "code",
   "execution_count": 9,
   "metadata": {},
   "outputs": [
    {
     "name": "stdout",
     "output_type": "stream",
     "text": [
      "0.7416\n"
     ]
    }
   ],
   "source": [
    "run_label, best_estimator, best_result = evaluate_single_table(\n",
    "    base_table,\n",
    "    \"target\",\n",
    "    run_label=\"base_table\",\n",
    "    iterations=100,\n",
    "    verbose=0\n",
    ")\n",
    "print(f\"{best_result:.4f}\")"
   ]
  },
  {
   "cell_type": "markdown",
   "metadata": {},
   "source": [
    "### Preparing random split in two"
   ]
  },
  {
   "cell_type": "code",
   "execution_count": 58,
   "metadata": {},
   "outputs": [],
   "source": [
    "base_table_columns = base_table.columns\n",
    "base_table_columns.remove(\"col_to_embed\")"
   ]
  },
  {
   "cell_type": "code",
   "execution_count": 24,
   "metadata": {},
   "outputs": [
    {
     "data": {
      "text/plain": [
       "['County', 'target']"
      ]
     },
     "execution_count": 24,
     "metadata": {},
     "output_type": "execute_result"
    }
   ],
   "source": [
    "base_table_columns"
   ]
  },
  {
   "cell_type": "code",
   "execution_count": 10,
   "metadata": {},
   "outputs": [],
   "source": [
    "first_split = list(np.random.choice(base_table_columns, size=len(base_table_columns)//2, replace=False))\n",
    "second_split = [_ for _ in base_table_columns if _ not in first_split]\n"
   ]
  },
  {
   "cell_type": "code",
   "execution_count": 11,
   "metadata": {},
   "outputs": [
    {
     "name": "stdout",
     "output_type": "stream",
     "text": [
      "['Sunrise_Sunset', 'Visibility(mi)', 'Code', 'target', 'Weather_Condition', 'Airport_Code'] ['County', 'Severity', 'Zipcode', 'Country', 'Civil_Twilight', 'State']\n"
     ]
    }
   ],
   "source": [
    "print(first_split, second_split)"
   ]
  },
  {
   "cell_type": "code",
   "execution_count": 12,
   "metadata": {},
   "outputs": [],
   "source": [
    "first_split.append(\"col_to_embed\")\n",
    "second_split.append(\"col_to_embed\")\n",
    "left_table = base_table.select(\n",
    "    pl.col(first_split)\n",
    ")\n",
    "right_table = base_table.select(\n",
    "    pl.col(second_split)\n",
    ")\n"
   ]
  },
  {
   "cell_type": "code",
   "execution_count": 13,
   "metadata": {},
   "outputs": [],
   "source": [
    "on=left_on=right_on=\"col_to_embed\"\n",
    "aggr_right = aggregate_table(\n",
    "    right_table, right_on, aggregation_method=\"mean\"\n",
    ")\n",
    "\n",
    "merged_table = execute_join(\n",
    "    left_table,\n",
    "    right_table,\n",
    "    on=\"col_to_embed\"\n",
    ")"
   ]
  },
  {
   "cell_type": "code",
   "execution_count": 14,
   "metadata": {},
   "outputs": [
    {
     "name": "stdout",
     "output_type": "stream",
     "text": [
      "0.74\n"
     ]
    }
   ],
   "source": [
    "run_label, best_estimator, best_result = evaluate_single_table(\n",
    "    merged_table,\n",
    "    \"target\",\n",
    "    run_label=\"split_merge\",\n",
    "    iterations=100,\n",
    "    verbose=0\n",
    ")\n",
    "print(f\"{best_result:.2f}\")"
   ]
  },
  {
   "cell_type": "markdown",
   "metadata": {},
   "source": [
    "### Split table over all columns"
   ]
  },
  {
   "cell_type": "code",
   "execution_count": 15,
   "metadata": {},
   "outputs": [],
   "source": [
    "col_combinations = []\n",
    "for col in base_table.drop([\"target\", \"col_to_embed\"]).columns:\n",
    "    col_combinations.append([col, \"col_to_embed\"])\n",
    "col_combinations.append([\"target\", \"col_to_embed\"])"
   ]
  },
  {
   "cell_type": "code",
   "execution_count": 16,
   "metadata": {},
   "outputs": [
    {
     "name": "stdout",
     "output_type": "stream",
     "text": [
      "['County', 'col_to_embed'] : 0.28\n",
      "['Code', 'col_to_embed'] : 0.35\n",
      "['Severity', 'col_to_embed'] : 0.57\n",
      "['Zipcode', 'col_to_embed'] : -0.00\n",
      "['Country', 'col_to_embed'] : -0.00\n",
      "['Airport_Code', 'col_to_embed'] : 0.27\n",
      "['Visibility(mi)', 'col_to_embed'] : 0.53\n",
      "['Weather_Condition', 'col_to_embed'] : -0.00\n",
      "['Sunrise_Sunset', 'col_to_embed'] : 0.04\n",
      "['Civil_Twilight', 'col_to_embed'] : 0.06\n",
      "['State', 'col_to_embed'] : 0.35\n"
     ]
    }
   ],
   "source": [
    "for col_c in col_combinations:\n",
    "    if \"target\" not in col_c:\n",
    "        test_table = base_table.select(pl.col(col_c), pl.col(\"target\"))\n",
    "        run_label, best_estimator, best_result = evaluate_single_table(\n",
    "            test_table,\n",
    "            \"target\",\n",
    "            run_label=\"split_merge\",\n",
    "            iterations=100,\n",
    "            verbose=0\n",
    "        )\n",
    "        print(f\"{col_c} : {best_result:.2f}\")"
   ]
  },
  {
   "cell_type": "markdown",
   "metadata": {},
   "source": [
    "### Execute full join"
   ]
  },
  {
   "cell_type": "code",
   "execution_count": 17,
   "metadata": {},
   "outputs": [],
   "source": [
    "merged = base_table.select([\"col_to_embed\", \"target\"])\n",
    "for col_c in col_combinations:\n",
    "    if \"target\" not in col_c:\n",
    "        right_table = base_table.select(col_c)\n",
    "        on=left_on=right_on=[\"col_to_embed\"]\n",
    "        aggr_right = aggregate_table(\n",
    "        right_table, right_on, aggregation_method=\"mean\"\n",
    "    )\n",
    "        merged = execute_join(\n",
    "            merged,\n",
    "            aggr_right,\n",
    "            left_on=left_on,\n",
    "            right_on=right_on,\n",
    "            how=\"left\",\n",
    "        )\n"
   ]
  },
  {
   "cell_type": "code",
   "execution_count": 18,
   "metadata": {},
   "outputs": [
    {
     "name": "stdout",
     "output_type": "stream",
     "text": [
      "0.74\n"
     ]
    }
   ],
   "source": [
    "run_label, best_estimator, best_result = evaluate_single_table(\n",
    "    merged,\n",
    "    \"target\",\n",
    "    run_label=\"full_join\",\n",
    "    iterations=100,\n",
    "    verbose=0\n",
    ")\n",
    "print(f\"{best_result:.2f}\")"
   ]
  },
  {
   "cell_type": "code",
   "execution_count": 19,
   "metadata": {},
   "outputs": [],
   "source": [
    "importances = pl.DataFrame(list(zip(best_estimator.feature_names_, best_estimator.feature_importances_)), schema=[\"feature_name\", \"feature_importance\"])"
   ]
  },
  {
   "cell_type": "code",
   "execution_count": 20,
   "metadata": {},
   "outputs": [],
   "source": [
    "i_pd = importances.sort(\"feature_importance\").select(\n",
    "    pl.col(\"feature_name\"),\n",
    "    pl.col('feature_importance').cumsum(),\n",
    ").to_pandas()"
   ]
  },
  {
   "cell_type": "code",
   "execution_count": 21,
   "metadata": {},
   "outputs": [],
   "source": [
    "seed_ = base_table.select(\n",
    "    pl.col([\"col_to_embed\", \"target\"])\n",
    ")"
   ]
  },
  {
   "cell_type": "code",
   "execution_count": 22,
   "metadata": {},
   "outputs": [
    {
     "name": "stdout",
     "output_type": "stream",
     "text": [
      "('col_to_embed', 'Zipcode') | -0.00\n",
      "('col_to_embed', 'Country') | -0.00\n",
      "('col_to_embed', 'Weather_Condition') | -0.00\n",
      "('col_to_embed', 'Airport_Code') | 0.27\n",
      "('col_to_embed', 'County') | 0.29\n",
      "('col_to_embed', 'Civil_Twilight') | 0.33\n",
      "('col_to_embed', 'Sunrise_Sunset') | 0.33\n",
      "('col_to_embed', 'State') | 0.44\n",
      "('col_to_embed', 'Code') | 0.43\n",
      "('col_to_embed', 'Severity') | 0.66\n",
      "('col_to_embed', 'Visibility(mi)') | 0.74\n"
     ]
    }
   ],
   "source": [
    "merged = seed_.clone()\n",
    "for r in importances.sort(\"feature_importance\", descending=False).iter_rows():\n",
    "    col, imp = r\n",
    "    if col == \"col_to_embed\":\n",
    "        continue\n",
    "    comb = (\"col_to_embed\", col)\n",
    "    right_table = base_table.select(comb)\n",
    "    on=left_on=right_on=[\"col_to_embed\"]\n",
    "    aggr_right = aggregate_table(\n",
    "    right_table, right_on, aggregation_method=\"mean\"\n",
    "    )\n",
    "    merged = execute_join(\n",
    "        merged,\n",
    "        aggr_right,\n",
    "        left_on=left_on,\n",
    "        right_on=right_on,\n",
    "        how=\"left\",\n",
    "    )\n",
    "    run_label, best_estimator, best_result = evaluate_single_table(\n",
    "    merged,\n",
    "    \"target\",\n",
    "    run_label=\"full_join\",\n",
    "    iterations=100,\n",
    "    verbose=0\n",
    "    )\n",
    "    print(f\"{comb} | {best_result:.2f}\")"
   ]
  },
  {
   "cell_type": "markdown",
   "metadata": {},
   "source": [
    "### Adding a fake \"class\" column"
   ]
  },
  {
   "cell_type": "code",
   "execution_count": 23,
   "metadata": {},
   "outputs": [],
   "source": [
    "base_table_aug = base_table.with_columns(\n",
    "    pl.when(pl.col(\"target\") > 1.5).then(1).otherwise(0).alias(\"class\")\n",
    ")"
   ]
  },
  {
   "cell_type": "code",
   "execution_count": 24,
   "metadata": {},
   "outputs": [
    {
     "name": "stdout",
     "output_type": "stream",
     "text": [
      "0.81\n"
     ]
    }
   ],
   "source": [
    "run_label, best_estimator, best_result = evaluate_single_table(\n",
    "    base_table_aug,\n",
    "    \"target\",\n",
    "    run_label=\"split_merge\",\n",
    "    iterations=100,\n",
    "    verbose=0\n",
    ")\n",
    "print(f\"{best_result:.2f}\")"
   ]
  },
  {
   "cell_type": "markdown",
   "metadata": {},
   "source": [
    "# Manually evaluating join candidates"
   ]
  },
  {
   "cell_type": "markdown",
   "metadata": {},
   "source": [
    "### Querying index"
   ]
  },
  {
   "cell_type": "code",
   "execution_count": 10,
   "metadata": {},
   "outputs": [],
   "source": [
    "top_k = 50\n",
    "selected_index = \"minhash\"\n",
    "index_path = Path(index_dir, selected_index + \"_index.pickle\")\n",
    "minhash_index = pipeline.load_index(index_path, tab_name)\n",
    "\n",
    "query_tab_metadata = RawDataset(\n",
    "    query_tab_path.resolve(), \"queries\", \"data/metadata/queries\"\n",
    ")\n",
    "query_tab_metadata.save_metadata_to_json()\n",
    "query_column = \"col_to_embed\"\n",
    "query = base_table[query_column].drop_nulls()\n",
    "query_results = minhash_index.query_index(query)\n",
    "candidates = pipeline.generate_candidates(\n",
    "    \"minhash\",\n",
    "    query_results,\n",
    "    mdata_index,\n",
    "    query_tab_metadata.metadata,\n",
    "    query_column,\n",
    "    top_k,\n",
    ")\n"
   ]
  },
  {
   "cell_type": "code",
   "execution_count": 11,
   "metadata": {},
   "outputs": [],
   "source": [
    "k, candidate_join = next(iter(candidates.items())) "
   ]
  },
  {
   "cell_type": "code",
   "execution_count": 12,
   "metadata": {},
   "outputs": [],
   "source": [
    "src_md, cnd_md, left_on, right_on = candidate_join.get_join_information()\n",
    "src_df = pl.read_parquet(src_md[\"full_path\"])\n",
    "cnd_df = pl.read_parquet(cnd_md[\"full_path\"])\n",
    "cols_to_agg = [col for col in cnd_df.columns if col not in right_on]\n"
   ]
  },
  {
   "cell_type": "code",
   "execution_count": 13,
   "metadata": {},
   "outputs": [
    {
     "data": {
      "text/plain": [
       "['type', 'hasWonPrize', 'hasLongitude']"
      ]
     },
     "execution_count": 13,
     "metadata": {},
     "output_type": "execute_result"
    }
   ],
   "source": [
    "cols_to_agg"
   ]
  },
  {
   "cell_type": "code",
   "execution_count": 14,
   "metadata": {},
   "outputs": [],
   "source": [
    "def get_importances(model, left_col, right_col, key_col):\n",
    "    k_d = {col: 0 for col in key_col}\n",
    "    l_d = {col: 1 for col in left_col}\n",
    "    r_d = {col: 2 for col in right_col}\n",
    "    d = dict(**k_d, **l_d, **r_d)\n",
    "\n",
    "    importances = pl.DataFrame(\n",
    "        list(\n",
    "            zip(model.feature_names_, \n",
    "                model.feature_importances_)), \n",
    "        schema=[\"feature_name\", \"feature_importance\"]\n",
    "    )\n",
    "    return importances.with_columns(\n",
    "            pl.col(\"feature_name\").alias(\"source\").map_dict(d)\n",
    "        )\n",
    "\n",
    "def get_fraction_missing(table, col_subset):\n",
    "    return table.select(\n",
    "        (pl.col(col_subset).is_null().sum()/len(table))\n",
    "    ).mean(axis=1).item() \n",
    "   \n",
    "def get_imp_frac(imp):\n",
    "    return imp.melt(id_vars=\"source\", value_vars=\"feature_importance\").pivot(\n",
    "    index=\"variable\",\n",
    "    values=\"value\",\n",
    "    columns=\"source\",\n",
    "    aggregate_function=\"mean\"\n",
    ").select(\n",
    "    pl.col(\"0\").alias(\"imp_key\"),\n",
    "    pl.col(\"1\").alias(\"imp_left\"),\n",
    "    pl.col(\"2\").alias(\"imp_right\")\n",
    ").to_dicts()[0]"
   ]
  },
  {
   "cell_type": "code",
   "execution_count": 15,
   "metadata": {},
   "outputs": [
    {
     "name": "stdout",
     "output_type": "stream",
     "text": [
      "0.7415841942123096\n"
     ]
    }
   ],
   "source": [
    "results = []\n",
    "run_label, best_estimator, best_result = evaluate_single_table(\n",
    "    base_table,\n",
    "    \"target\",\n",
    "    run_label=\"base_table\",\n",
    "    iterations=100,\n",
    "    verbose=0\n",
    ")\n",
    "\n",
    "base_result = best_result\n",
    "print(base_result)\n",
    "left_col = [col for col in base_table.columns]\n",
    "\n",
    "imp = get_importances(best_estimator, left_col, [], [])\n",
    "frac_imp = {\n",
    "    \"imp_key\": 0,\n",
    "    \"imp_left\": 1,\n",
    "    \"imp_right\": 0\n",
    "}\n",
    "r_dict = {\n",
    "        \"df_name\": \"base_table\",\n",
    "        \"r2\": best_result,\n",
    "        \"frac_null\": 0,\n",
    "\n",
    "    }\n",
    "\n",
    "r_dict.update(frac_imp)\n",
    "results.append(r_dict)\n"
   ]
  },
  {
   "cell_type": "code",
   "execution_count": 16,
   "metadata": {},
   "outputs": [
    {
     "name": "stdout",
     "output_type": "stream",
     "text": [
      "  1/50 : 0.7432\n",
      "  2/50 : 0.7428\n",
      "  3/50 : 0.7519\n",
      "  4/50 : 0.7398\n",
      "  5/50 : 0.7391\n",
      "  6/50 : 0.7515\n",
      "  7/50 : 0.7399\n",
      "  8/50 : 0.7429\n",
      "  9/50 : 0.7422\n",
      " 10/50 : 0.7518\n",
      " 11/50 : 0.7398\n",
      " 12/50 : 0.7416\n",
      " 13/50 : 0.7437\n",
      " 14/50 : 0.7398\n",
      " 15/50 : 0.7398\n",
      " 16/50 : 0.7398\n",
      " 17/50 : 0.7416\n",
      " 18/50 : 0.7399\n",
      " 19/50 : 0.7429\n",
      " 20/50 : 0.7398\n",
      " 21/50 : 0.7411\n",
      " 22/50 : 0.7416\n"
     ]
    },
    {
     "ename": "KeyboardInterrupt",
     "evalue": "",
     "output_type": "error",
     "traceback": [
      "\u001b[0;31m---------------------------------------------------------------------------\u001b[0m",
      "\u001b[0;31mKeyboardInterrupt\u001b[0m                         Traceback (most recent call last)",
      "Cell \u001b[0;32mIn[16], line 22\u001b[0m\n\u001b[1;32m     19\u001b[0m key_col \u001b[39m=\u001b[39m left_on\n\u001b[1;32m     20\u001b[0m right_col \u001b[39m=\u001b[39m [col \u001b[39mfor\u001b[39;00m col \u001b[39min\u001b[39;00m merged\u001b[39m.\u001b[39mcolumns \u001b[39mif\u001b[39;00m col \u001b[39mnot\u001b[39;00m \u001b[39min\u001b[39;00m (left_col \u001b[39m+\u001b[39m left_on)]\n\u001b[0;32m---> 22\u001b[0m run_label, best_estimator, best_result \u001b[39m=\u001b[39m evaluate_single_table(\n\u001b[1;32m     23\u001b[0m merged,\n\u001b[1;32m     24\u001b[0m \u001b[39m\"\u001b[39;49m\u001b[39mtarget\u001b[39;49m\u001b[39m\"\u001b[39;49m,\n\u001b[1;32m     25\u001b[0m run_label\u001b[39m=\u001b[39;49m\u001b[39m\"\u001b[39;49m\u001b[39mfull_join\u001b[39;49m\u001b[39m\"\u001b[39;49m,\n\u001b[1;32m     26\u001b[0m iterations\u001b[39m=\u001b[39;49m\u001b[39m100\u001b[39;49m,\n\u001b[1;32m     27\u001b[0m verbose\u001b[39m=\u001b[39;49m\u001b[39m0\u001b[39;49m\n\u001b[1;32m     28\u001b[0m )\n\u001b[1;32m     29\u001b[0m \u001b[39mprint\u001b[39m(\u001b[39mf\u001b[39m\u001b[39m\"\u001b[39m\u001b[39m{\u001b[39;00midx\u001b[39m+\u001b[39m\u001b[39m1\u001b[39m\u001b[39m:\u001b[39;00m\u001b[39m>3\u001b[39m\u001b[39m}\u001b[39;00m\u001b[39m/\u001b[39m\u001b[39m{\u001b[39;00m\u001b[39mlen\u001b[39m(candidates)\u001b[39m}\u001b[39;00m\u001b[39m : \u001b[39m\u001b[39m{\u001b[39;00mbest_result\u001b[39m:\u001b[39;00m\u001b[39m.4f\u001b[39m\u001b[39m}\u001b[39;00m\u001b[39m\"\u001b[39m)\n\u001b[1;32m     30\u001b[0m imp \u001b[39m=\u001b[39m get_importances(best_estimator, left_col, right_col, key_col)\n",
      "File \u001b[0;32m~/work/benchmark-join-suggestions/src/methods/evaluation.py:86\u001b[0m, in \u001b[0;36mevaluate_single_table\u001b[0;34m(src_df, target_column, group_column, run_label, verbose, iterations, n_splits, cuda, n_jobs)\u001b[0m\n\u001b[1;32m     80\u001b[0m     model \u001b[39m=\u001b[39m CatBoostRegressor(\n\u001b[1;32m     81\u001b[0m         cat_features\u001b[39m=\u001b[39mcat_features, iterations\u001b[39m=\u001b[39miterations, l2_leaf_reg\u001b[39m=\u001b[39m\u001b[39m0.01\u001b[39m\n\u001b[1;32m     82\u001b[0m     )\n\u001b[1;32m     84\u001b[0m gkf \u001b[39m=\u001b[39m GroupKFold(n_splits)\n\u001b[0;32m---> 86\u001b[0m results \u001b[39m=\u001b[39m cross_validate(\n\u001b[1;32m     87\u001b[0m     model,\n\u001b[1;32m     88\u001b[0m     X\u001b[39m=\u001b[39;49mdf,\n\u001b[1;32m     89\u001b[0m     y\u001b[39m=\u001b[39;49my,\n\u001b[1;32m     90\u001b[0m     scoring\u001b[39m=\u001b[39;49m(\u001b[39m\"\u001b[39;49m\u001b[39mr2\u001b[39;49m\u001b[39m\"\u001b[39;49m, \u001b[39m\"\u001b[39;49m\u001b[39mneg_root_mean_squared_error\u001b[39;49m\u001b[39m\"\u001b[39;49m),\n\u001b[1;32m     91\u001b[0m     cv\u001b[39m=\u001b[39;49mgkf,\n\u001b[1;32m     92\u001b[0m     groups\u001b[39m=\u001b[39;49mgroups,\n\u001b[1;32m     93\u001b[0m     n_jobs\u001b[39m=\u001b[39;49mn_jobs,\n\u001b[1;32m     94\u001b[0m     fit_params\u001b[39m=\u001b[39;49m{\u001b[39m\"\u001b[39;49m\u001b[39mverbose\u001b[39;49m\u001b[39m\"\u001b[39;49m: verbose},\n\u001b[1;32m     95\u001b[0m     return_estimator\u001b[39m=\u001b[39;49m\u001b[39mTrue\u001b[39;49;00m,\n\u001b[1;32m     96\u001b[0m )\n\u001b[1;32m     98\u001b[0m best_res \u001b[39m=\u001b[39m np\u001b[39m.\u001b[39margmax(results[\u001b[39m\"\u001b[39m\u001b[39mtest_r2\u001b[39m\u001b[39m\"\u001b[39m])\n\u001b[1;32m    100\u001b[0m best_estimator \u001b[39m=\u001b[39m results[\u001b[39m\"\u001b[39m\u001b[39mestimator\u001b[39m\u001b[39m\"\u001b[39m][best_res]\n",
      "File \u001b[0;32m~/mambaforge/envs/bench/lib/python3.10/site-packages/sklearn/model_selection/_validation.py:266\u001b[0m, in \u001b[0;36mcross_validate\u001b[0;34m(estimator, X, y, groups, scoring, cv, n_jobs, verbose, fit_params, pre_dispatch, return_train_score, return_estimator, error_score)\u001b[0m\n\u001b[1;32m    263\u001b[0m \u001b[39m# We clone the estimator to make sure that all the folds are\u001b[39;00m\n\u001b[1;32m    264\u001b[0m \u001b[39m# independent, and that it is pickle-able.\u001b[39;00m\n\u001b[1;32m    265\u001b[0m parallel \u001b[39m=\u001b[39m Parallel(n_jobs\u001b[39m=\u001b[39mn_jobs, verbose\u001b[39m=\u001b[39mverbose, pre_dispatch\u001b[39m=\u001b[39mpre_dispatch)\n\u001b[0;32m--> 266\u001b[0m results \u001b[39m=\u001b[39m parallel(\n\u001b[1;32m    267\u001b[0m     delayed(_fit_and_score)(\n\u001b[1;32m    268\u001b[0m         clone(estimator),\n\u001b[1;32m    269\u001b[0m         X,\n\u001b[1;32m    270\u001b[0m         y,\n\u001b[1;32m    271\u001b[0m         scorers,\n\u001b[1;32m    272\u001b[0m         train,\n\u001b[1;32m    273\u001b[0m         test,\n\u001b[1;32m    274\u001b[0m         verbose,\n\u001b[1;32m    275\u001b[0m         \u001b[39mNone\u001b[39;49;00m,\n\u001b[1;32m    276\u001b[0m         fit_params,\n\u001b[1;32m    277\u001b[0m         return_train_score\u001b[39m=\u001b[39;49mreturn_train_score,\n\u001b[1;32m    278\u001b[0m         return_times\u001b[39m=\u001b[39;49m\u001b[39mTrue\u001b[39;49;00m,\n\u001b[1;32m    279\u001b[0m         return_estimator\u001b[39m=\u001b[39;49mreturn_estimator,\n\u001b[1;32m    280\u001b[0m         error_score\u001b[39m=\u001b[39;49merror_score,\n\u001b[1;32m    281\u001b[0m     )\n\u001b[1;32m    282\u001b[0m     \u001b[39mfor\u001b[39;49;00m train, test \u001b[39min\u001b[39;49;00m cv\u001b[39m.\u001b[39;49msplit(X, y, groups)\n\u001b[1;32m    283\u001b[0m )\n\u001b[1;32m    285\u001b[0m _warn_or_raise_about_fit_failures(results, error_score)\n\u001b[1;32m    287\u001b[0m \u001b[39m# For callabe scoring, the return type is only know after calling. If the\u001b[39;00m\n\u001b[1;32m    288\u001b[0m \u001b[39m# return type is a dictionary, the error scores can now be inserted with\u001b[39;00m\n\u001b[1;32m    289\u001b[0m \u001b[39m# the correct key.\u001b[39;00m\n",
      "File \u001b[0;32m~/mambaforge/envs/bench/lib/python3.10/site-packages/sklearn/utils/parallel.py:63\u001b[0m, in \u001b[0;36mParallel.__call__\u001b[0;34m(self, iterable)\u001b[0m\n\u001b[1;32m     58\u001b[0m config \u001b[39m=\u001b[39m get_config()\n\u001b[1;32m     59\u001b[0m iterable_with_config \u001b[39m=\u001b[39m (\n\u001b[1;32m     60\u001b[0m     (_with_config(delayed_func, config), args, kwargs)\n\u001b[1;32m     61\u001b[0m     \u001b[39mfor\u001b[39;00m delayed_func, args, kwargs \u001b[39min\u001b[39;00m iterable\n\u001b[1;32m     62\u001b[0m )\n\u001b[0;32m---> 63\u001b[0m \u001b[39mreturn\u001b[39;00m \u001b[39msuper\u001b[39;49m()\u001b[39m.\u001b[39;49m\u001b[39m__call__\u001b[39;49m(iterable_with_config)\n",
      "File \u001b[0;32m~/mambaforge/envs/bench/lib/python3.10/site-packages/joblib/parallel.py:1088\u001b[0m, in \u001b[0;36mParallel.__call__\u001b[0;34m(self, iterable)\u001b[0m\n\u001b[1;32m   1085\u001b[0m \u001b[39mif\u001b[39;00m \u001b[39mself\u001b[39m\u001b[39m.\u001b[39mdispatch_one_batch(iterator):\n\u001b[1;32m   1086\u001b[0m     \u001b[39mself\u001b[39m\u001b[39m.\u001b[39m_iterating \u001b[39m=\u001b[39m \u001b[39mself\u001b[39m\u001b[39m.\u001b[39m_original_iterator \u001b[39mis\u001b[39;00m \u001b[39mnot\u001b[39;00m \u001b[39mNone\u001b[39;00m\n\u001b[0;32m-> 1088\u001b[0m \u001b[39mwhile\u001b[39;00m \u001b[39mself\u001b[39;49m\u001b[39m.\u001b[39;49mdispatch_one_batch(iterator):\n\u001b[1;32m   1089\u001b[0m     \u001b[39mpass\u001b[39;00m\n\u001b[1;32m   1091\u001b[0m \u001b[39mif\u001b[39;00m pre_dispatch \u001b[39m==\u001b[39m \u001b[39m\"\u001b[39m\u001b[39mall\u001b[39m\u001b[39m\"\u001b[39m \u001b[39mor\u001b[39;00m n_jobs \u001b[39m==\u001b[39m \u001b[39m1\u001b[39m:\n\u001b[1;32m   1092\u001b[0m     \u001b[39m# The iterable was consumed all at once by the above for loop.\u001b[39;00m\n\u001b[1;32m   1093\u001b[0m     \u001b[39m# No need to wait for async callbacks to trigger to\u001b[39;00m\n\u001b[1;32m   1094\u001b[0m     \u001b[39m# consumption.\u001b[39;00m\n",
      "File \u001b[0;32m~/mambaforge/envs/bench/lib/python3.10/site-packages/joblib/parallel.py:901\u001b[0m, in \u001b[0;36mParallel.dispatch_one_batch\u001b[0;34m(self, iterator)\u001b[0m\n\u001b[1;32m    899\u001b[0m     \u001b[39mreturn\u001b[39;00m \u001b[39mFalse\u001b[39;00m\n\u001b[1;32m    900\u001b[0m \u001b[39melse\u001b[39;00m:\n\u001b[0;32m--> 901\u001b[0m     \u001b[39mself\u001b[39;49m\u001b[39m.\u001b[39;49m_dispatch(tasks)\n\u001b[1;32m    902\u001b[0m     \u001b[39mreturn\u001b[39;00m \u001b[39mTrue\u001b[39;00m\n",
      "File \u001b[0;32m~/mambaforge/envs/bench/lib/python3.10/site-packages/joblib/parallel.py:819\u001b[0m, in \u001b[0;36mParallel._dispatch\u001b[0;34m(self, batch)\u001b[0m\n\u001b[1;32m    817\u001b[0m \u001b[39mwith\u001b[39;00m \u001b[39mself\u001b[39m\u001b[39m.\u001b[39m_lock:\n\u001b[1;32m    818\u001b[0m     job_idx \u001b[39m=\u001b[39m \u001b[39mlen\u001b[39m(\u001b[39mself\u001b[39m\u001b[39m.\u001b[39m_jobs)\n\u001b[0;32m--> 819\u001b[0m     job \u001b[39m=\u001b[39m \u001b[39mself\u001b[39;49m\u001b[39m.\u001b[39;49m_backend\u001b[39m.\u001b[39;49mapply_async(batch, callback\u001b[39m=\u001b[39;49mcb)\n\u001b[1;32m    820\u001b[0m     \u001b[39m# A job can complete so quickly than its callback is\u001b[39;00m\n\u001b[1;32m    821\u001b[0m     \u001b[39m# called before we get here, causing self._jobs to\u001b[39;00m\n\u001b[1;32m    822\u001b[0m     \u001b[39m# grow. To ensure correct results ordering, .insert is\u001b[39;00m\n\u001b[1;32m    823\u001b[0m     \u001b[39m# used (rather than .append) in the following line\u001b[39;00m\n\u001b[1;32m    824\u001b[0m     \u001b[39mself\u001b[39m\u001b[39m.\u001b[39m_jobs\u001b[39m.\u001b[39minsert(job_idx, job)\n",
      "File \u001b[0;32m~/mambaforge/envs/bench/lib/python3.10/site-packages/joblib/_parallel_backends.py:208\u001b[0m, in \u001b[0;36mSequentialBackend.apply_async\u001b[0;34m(self, func, callback)\u001b[0m\n\u001b[1;32m    206\u001b[0m \u001b[39mdef\u001b[39;00m \u001b[39mapply_async\u001b[39m(\u001b[39mself\u001b[39m, func, callback\u001b[39m=\u001b[39m\u001b[39mNone\u001b[39;00m):\n\u001b[1;32m    207\u001b[0m \u001b[39m    \u001b[39m\u001b[39m\"\"\"Schedule a func to be run\"\"\"\u001b[39;00m\n\u001b[0;32m--> 208\u001b[0m     result \u001b[39m=\u001b[39m ImmediateResult(func)\n\u001b[1;32m    209\u001b[0m     \u001b[39mif\u001b[39;00m callback:\n\u001b[1;32m    210\u001b[0m         callback(result)\n",
      "File \u001b[0;32m~/mambaforge/envs/bench/lib/python3.10/site-packages/joblib/_parallel_backends.py:597\u001b[0m, in \u001b[0;36mImmediateResult.__init__\u001b[0;34m(self, batch)\u001b[0m\n\u001b[1;32m    594\u001b[0m \u001b[39mdef\u001b[39;00m \u001b[39m__init__\u001b[39m(\u001b[39mself\u001b[39m, batch):\n\u001b[1;32m    595\u001b[0m     \u001b[39m# Don't delay the application, to avoid keeping the input\u001b[39;00m\n\u001b[1;32m    596\u001b[0m     \u001b[39m# arguments in memory\u001b[39;00m\n\u001b[0;32m--> 597\u001b[0m     \u001b[39mself\u001b[39m\u001b[39m.\u001b[39mresults \u001b[39m=\u001b[39m batch()\n",
      "File \u001b[0;32m~/mambaforge/envs/bench/lib/python3.10/site-packages/joblib/parallel.py:288\u001b[0m, in \u001b[0;36mBatchedCalls.__call__\u001b[0;34m(self)\u001b[0m\n\u001b[1;32m    284\u001b[0m \u001b[39mdef\u001b[39;00m \u001b[39m__call__\u001b[39m(\u001b[39mself\u001b[39m):\n\u001b[1;32m    285\u001b[0m     \u001b[39m# Set the default nested backend to self._backend but do not set the\u001b[39;00m\n\u001b[1;32m    286\u001b[0m     \u001b[39m# change the default number of processes to -1\u001b[39;00m\n\u001b[1;32m    287\u001b[0m     \u001b[39mwith\u001b[39;00m parallel_backend(\u001b[39mself\u001b[39m\u001b[39m.\u001b[39m_backend, n_jobs\u001b[39m=\u001b[39m\u001b[39mself\u001b[39m\u001b[39m.\u001b[39m_n_jobs):\n\u001b[0;32m--> 288\u001b[0m         \u001b[39mreturn\u001b[39;00m [func(\u001b[39m*\u001b[39margs, \u001b[39m*\u001b[39m\u001b[39m*\u001b[39mkwargs)\n\u001b[1;32m    289\u001b[0m                 \u001b[39mfor\u001b[39;00m func, args, kwargs \u001b[39min\u001b[39;00m \u001b[39mself\u001b[39m\u001b[39m.\u001b[39mitems]\n",
      "File \u001b[0;32m~/mambaforge/envs/bench/lib/python3.10/site-packages/joblib/parallel.py:288\u001b[0m, in \u001b[0;36m<listcomp>\u001b[0;34m(.0)\u001b[0m\n\u001b[1;32m    284\u001b[0m \u001b[39mdef\u001b[39;00m \u001b[39m__call__\u001b[39m(\u001b[39mself\u001b[39m):\n\u001b[1;32m    285\u001b[0m     \u001b[39m# Set the default nested backend to self._backend but do not set the\u001b[39;00m\n\u001b[1;32m    286\u001b[0m     \u001b[39m# change the default number of processes to -1\u001b[39;00m\n\u001b[1;32m    287\u001b[0m     \u001b[39mwith\u001b[39;00m parallel_backend(\u001b[39mself\u001b[39m\u001b[39m.\u001b[39m_backend, n_jobs\u001b[39m=\u001b[39m\u001b[39mself\u001b[39m\u001b[39m.\u001b[39m_n_jobs):\n\u001b[0;32m--> 288\u001b[0m         \u001b[39mreturn\u001b[39;00m [func(\u001b[39m*\u001b[39;49margs, \u001b[39m*\u001b[39;49m\u001b[39m*\u001b[39;49mkwargs)\n\u001b[1;32m    289\u001b[0m                 \u001b[39mfor\u001b[39;00m func, args, kwargs \u001b[39min\u001b[39;00m \u001b[39mself\u001b[39m\u001b[39m.\u001b[39mitems]\n",
      "File \u001b[0;32m~/mambaforge/envs/bench/lib/python3.10/site-packages/sklearn/utils/parallel.py:123\u001b[0m, in \u001b[0;36m_FuncWrapper.__call__\u001b[0;34m(self, *args, **kwargs)\u001b[0m\n\u001b[1;32m    121\u001b[0m     config \u001b[39m=\u001b[39m {}\n\u001b[1;32m    122\u001b[0m \u001b[39mwith\u001b[39;00m config_context(\u001b[39m*\u001b[39m\u001b[39m*\u001b[39mconfig):\n\u001b[0;32m--> 123\u001b[0m     \u001b[39mreturn\u001b[39;00m \u001b[39mself\u001b[39;49m\u001b[39m.\u001b[39;49mfunction(\u001b[39m*\u001b[39;49margs, \u001b[39m*\u001b[39;49m\u001b[39m*\u001b[39;49mkwargs)\n",
      "File \u001b[0;32m~/mambaforge/envs/bench/lib/python3.10/site-packages/sklearn/model_selection/_validation.py:686\u001b[0m, in \u001b[0;36m_fit_and_score\u001b[0;34m(estimator, X, y, scorer, train, test, verbose, parameters, fit_params, return_train_score, return_parameters, return_n_test_samples, return_times, return_estimator, split_progress, candidate_progress, error_score)\u001b[0m\n\u001b[1;32m    684\u001b[0m         estimator\u001b[39m.\u001b[39mfit(X_train, \u001b[39m*\u001b[39m\u001b[39m*\u001b[39mfit_params)\n\u001b[1;32m    685\u001b[0m     \u001b[39melse\u001b[39;00m:\n\u001b[0;32m--> 686\u001b[0m         estimator\u001b[39m.\u001b[39;49mfit(X_train, y_train, \u001b[39m*\u001b[39;49m\u001b[39m*\u001b[39;49mfit_params)\n\u001b[1;32m    688\u001b[0m \u001b[39mexcept\u001b[39;00m \u001b[39mException\u001b[39;00m:\n\u001b[1;32m    689\u001b[0m     \u001b[39m# Note fit time as time until error\u001b[39;00m\n\u001b[1;32m    690\u001b[0m     fit_time \u001b[39m=\u001b[39m time\u001b[39m.\u001b[39mtime() \u001b[39m-\u001b[39m start_time\n",
      "File \u001b[0;32m~/mambaforge/envs/bench/lib/python3.10/site-packages/catboost/core.py:5734\u001b[0m, in \u001b[0;36mCatBoostRegressor.fit\u001b[0;34m(self, X, y, cat_features, text_features, embedding_features, sample_weight, baseline, use_best_model, eval_set, verbose, logging_level, plot, plot_file, column_description, verbose_eval, metric_period, silent, early_stopping_rounds, save_snapshot, snapshot_file, snapshot_interval, init_model, callbacks, log_cout, log_cerr)\u001b[0m\n\u001b[1;32m   5731\u001b[0m \u001b[39mif\u001b[39;00m \u001b[39m'\u001b[39m\u001b[39mloss_function\u001b[39m\u001b[39m'\u001b[39m \u001b[39min\u001b[39;00m params:\n\u001b[1;32m   5732\u001b[0m     CatBoostRegressor\u001b[39m.\u001b[39m_check_is_compatible_loss(params[\u001b[39m'\u001b[39m\u001b[39mloss_function\u001b[39m\u001b[39m'\u001b[39m])\n\u001b[0;32m-> 5734\u001b[0m \u001b[39mreturn\u001b[39;00m \u001b[39mself\u001b[39;49m\u001b[39m.\u001b[39;49m_fit(X, y, cat_features, text_features, embedding_features, \u001b[39mNone\u001b[39;49;00m, sample_weight, \u001b[39mNone\u001b[39;49;00m, \u001b[39mNone\u001b[39;49;00m, \u001b[39mNone\u001b[39;49;00m, \u001b[39mNone\u001b[39;49;00m, baseline,\n\u001b[1;32m   5735\u001b[0m                  use_best_model, eval_set, verbose, logging_level, plot, plot_file, column_description,\n\u001b[1;32m   5736\u001b[0m                  verbose_eval, metric_period, silent, early_stopping_rounds,\n\u001b[1;32m   5737\u001b[0m                  save_snapshot, snapshot_file, snapshot_interval, init_model, callbacks, log_cout, log_cerr)\n",
      "File \u001b[0;32m~/mambaforge/envs/bench/lib/python3.10/site-packages/catboost/core.py:2357\u001b[0m, in \u001b[0;36mCatBoost._fit\u001b[0;34m(self, X, y, cat_features, text_features, embedding_features, pairs, sample_weight, group_id, group_weight, subgroup_id, pairs_weight, baseline, use_best_model, eval_set, verbose, logging_level, plot, plot_file, column_description, verbose_eval, metric_period, silent, early_stopping_rounds, save_snapshot, snapshot_file, snapshot_interval, init_model, callbacks, log_cout, log_cerr)\u001b[0m\n\u001b[1;32m   2353\u001b[0m allow_clear_pool \u001b[39m=\u001b[39m train_params[\u001b[39m\"\u001b[39m\u001b[39mallow_clear_pool\u001b[39m\u001b[39m\"\u001b[39m]\n\u001b[1;32m   2355\u001b[0m \u001b[39mwith\u001b[39;00m log_fixup(log_cout, log_cerr), \\\n\u001b[1;32m   2356\u001b[0m     plot_wrapper(plot, plot_file, \u001b[39m'\u001b[39m\u001b[39mTraining plots\u001b[39m\u001b[39m'\u001b[39m, [_get_train_dir(\u001b[39mself\u001b[39m\u001b[39m.\u001b[39mget_params())]):\n\u001b[0;32m-> 2357\u001b[0m     \u001b[39mself\u001b[39;49m\u001b[39m.\u001b[39;49m_train(\n\u001b[1;32m   2358\u001b[0m         train_pool,\n\u001b[1;32m   2359\u001b[0m         train_params[\u001b[39m\"\u001b[39;49m\u001b[39meval_sets\u001b[39;49m\u001b[39m\"\u001b[39;49m],\n\u001b[1;32m   2360\u001b[0m         params,\n\u001b[1;32m   2361\u001b[0m         allow_clear_pool,\n\u001b[1;32m   2362\u001b[0m         train_params[\u001b[39m\"\u001b[39;49m\u001b[39minit_model\u001b[39;49m\u001b[39m\"\u001b[39;49m]\n\u001b[1;32m   2363\u001b[0m     )\n\u001b[1;32m   2365\u001b[0m \u001b[39m# Have property feature_importance possibly set\u001b[39;00m\n\u001b[1;32m   2366\u001b[0m loss \u001b[39m=\u001b[39m \u001b[39mself\u001b[39m\u001b[39m.\u001b[39m_object\u001b[39m.\u001b[39m_get_loss_function_name()\n",
      "File \u001b[0;32m~/mambaforge/envs/bench/lib/python3.10/site-packages/catboost/core.py:1761\u001b[0m, in \u001b[0;36m_CatBoostBase._train\u001b[0;34m(self, train_pool, test_pool, params, allow_clear_pool, init_model)\u001b[0m\n\u001b[1;32m   1760\u001b[0m \u001b[39mdef\u001b[39;00m \u001b[39m_train\u001b[39m(\u001b[39mself\u001b[39m, train_pool, test_pool, params, allow_clear_pool, init_model):\n\u001b[0;32m-> 1761\u001b[0m     \u001b[39mself\u001b[39;49m\u001b[39m.\u001b[39;49m_object\u001b[39m.\u001b[39;49m_train(train_pool, test_pool, params, allow_clear_pool, init_model\u001b[39m.\u001b[39;49m_object \u001b[39mif\u001b[39;49;00m init_model \u001b[39melse\u001b[39;49;00m \u001b[39mNone\u001b[39;49;00m)\n\u001b[1;32m   1762\u001b[0m     \u001b[39mself\u001b[39m\u001b[39m.\u001b[39m_set_trained_model_attributes()\n",
      "File \u001b[0;32m_catboost.pyx:4624\u001b[0m, in \u001b[0;36m_catboost._CatBoost._train\u001b[0;34m()\u001b[0m\n",
      "File \u001b[0;32m_catboost.pyx:4673\u001b[0m, in \u001b[0;36m_catboost._CatBoost._train\u001b[0;34m()\u001b[0m\n",
      "\u001b[0;31mKeyboardInterrupt\u001b[0m: "
     ]
    }
   ],
   "source": [
    "for idx,(k, candidate_join) in enumerate(candidates.items()):\n",
    "    src_md, cnd_md, left_on, right_on = candidate_join.get_join_information()\n",
    "    src_df = pl.read_parquet(src_md[\"full_path\"])\n",
    "    cnd_df = pl.read_parquet(cnd_md[\"full_path\"])\n",
    "\n",
    "    \n",
    "    aggr_right = aggregate_table(\n",
    "    cnd_df, right_on, aggregation_method=\"mean\"\n",
    "    )\n",
    "    merged = execute_join(\n",
    "        base_table,\n",
    "        aggr_right,\n",
    "        left_on=left_on,\n",
    "        right_on=right_on,\n",
    "        how=\"left\",\n",
    "        suffix=\"_right\"\n",
    "    )\n",
    "    left_col = [col for col in base_table.columns if col not in left_on]\n",
    "    key_col = left_on\n",
    "    right_col = [col for col in merged.columns if col not in (left_col + left_on)]\n",
    "    \n",
    "    run_label, best_estimator, best_result = evaluate_single_table(\n",
    "    merged,\n",
    "    \"target\",\n",
    "    run_label=\"full_join\",\n",
    "    iterations=100,\n",
    "    verbose=0\n",
    "    )\n",
    "    print(f\"{idx+1:>3}/{len(candidates)} : {best_result:.4f}\")\n",
    "    imp = get_importances(best_estimator, left_col, right_col, key_col)\n",
    "    try:\n",
    "        frac_imp = get_imp_frac(imp)\n",
    "        frac_null = get_fraction_missing(merged, right_col)\n",
    "    except Exception:\n",
    "        continue\n",
    "    r_dict = {\n",
    "        \"df_name\": cnd_md[\"df_name\"],\n",
    "        \"r2\": best_result,\n",
    "        \"frac_null\": frac_null,\n",
    "        \"n_left_col\": len(left_col),\n",
    "        \"n_right_col\": len(right_col),\n",
    "        \"n_key_col\": len(key_col),\n",
    "    }\n",
    "    r_dict.update(frac_imp)\n",
    "    results.append(r_dict)\n",
    "\n",
    "df_results = pl.from_dicts(results, )"
   ]
  },
  {
   "cell_type": "code",
   "execution_count": 38,
   "metadata": {},
   "outputs": [
    {
     "data": {
      "text/html": [
       "<div><style>\n",
       ".dataframe > thead > tr > th,\n",
       ".dataframe > tbody > tr > td {\n",
       "  text-align: right;\n",
       "}\n",
       "</style>\n",
       "<small>shape: (51, 10)</small><table border=\"1\" class=\"dataframe\"><thead><tr><th>df_name</th><th>r2</th><th>frac_null</th><th>imp_key</th><th>imp_left</th><th>imp_right</th><th>n_left_col</th><th>n_right_col</th><th>n_key_col</th><th>difference</th></tr><tr><td>str</td><td>f64</td><td>f64</td><td>f64</td><td>f64</td><td>f64</td><td>i64</td><td>i64</td><td>i64</td><td>f64</td></tr></thead><tbody><tr><td>&quot;wordnet_church_isLocatedIn_hasLength&quot;</td><td>0.002747</td><td>0.998821</td><td>45.45002</td><td>43.132118</td><td>3.805954</td><td>2</td><td>3</td><td>1</td><td>-28.725418</td></tr><tr><td>&quot;wordnet_organization_isLocatedIn_hasNumberOfPeople&quot;</td><td>0.002891</td><td>0.998713</td><td>33.656352</td><td>55.328057</td><td>3.671864</td><td>2</td><td>3</td><td>1</td><td>-24.993298</td></tr><tr><td>&quot;wordnet_organization_isLocatedIn_hasLatitude&quot;</td><td>0.002977</td><td>0.998606</td><td>36.862741</td><td>53.286621</td><td>3.283546</td><td>2</td><td>3</td><td>1</td><td>-22.771135</td></tr><tr><td>&quot;wordnet_church_isLocatedIn_hasLatitude&quot;</td><td>0.002996</td><td>0.998392</td><td>35.391875</td><td>53.669785</td><td>3.646113</td><td>2</td><td>3</td><td>1</td><td>-22.257892</td></tr><tr><td>&quot;yagowordnet_cp_wordnet_organization&quot;</td><td>0.003078</td><td>0.999586</td><td>41.620994</td><td>48.746065</td><td>0.688067</td><td>2</td><td>14</td><td>1</td><td>-20.135616</td></tr><tr><td>&quot;wordnet_conflict_happenedOnDate_isLocatedIn&quot;</td><td>0.003095</td><td>0.998392</td><td>48.957083</td><td>41.954854</td><td>3.029355</td><td>2</td><td>3</td><td>1</td><td>-19.705973</td></tr><tr><td>&quot;wordnet_organization_isLocatedIn_isAffiliatedTo&quot;</td><td>0.003249</td><td>0.998928</td><td>36.479313</td><td>55.069361</td><td>2.817108</td><td>2</td><td>3</td><td>1</td><td>-15.712117</td></tr><tr><td>&quot;wordnet_organization_hasWonPrize_isLocatedIn&quot;</td><td>0.003249</td><td>0.998928</td><td>36.479313</td><td>55.069361</td><td>2.817108</td><td>2</td><td>3</td><td>1</td><td>-15.712117</td></tr><tr><td>&quot;wordnet_organization_isLocatedIn_hasMotto&quot;</td><td>0.003249</td><td>0.998928</td><td>36.479313</td><td>55.069361</td><td>2.817108</td><td>2</td><td>3</td><td>1</td><td>-15.712117</td></tr><tr><td>&quot;wordnet_organization_isLocatedIn_hasBudget&quot;</td><td>0.003249</td><td>0.998928</td><td>36.479313</td><td>55.069361</td><td>2.817108</td><td>2</td><td>3</td><td>1</td><td>-15.712117</td></tr><tr><td>&hellip;</td><td>&hellip;</td><td>&hellip;</td><td>&hellip;</td><td>&hellip;</td><td>&hellip;</td><td>&hellip;</td><td>&hellip;</td><td>&hellip;</td><td>&hellip;</td></tr><tr><td>&quot;wordnet_university_created_hasMotto&quot;</td><td>0.014215</td><td>0.963761</td><td>38.361087</td><td>34.092637</td><td>9.182092</td><td>2</td><td>3</td><td>1</td><td>268.82525</td></tr><tr><td>&quot;wordnet_company_hasWonPrize_hasLatitude&quot;</td><td>0.01675</td><td>0.964512</td><td>35.827557</td><td>21.189338</td><td>14.327702</td><td>2</td><td>3</td><td>1</td><td>334.596766</td></tr><tr><td>&quot;wordnet_company_isAffiliatedTo_created&quot;</td><td>0.072459</td><td>0.909832</td><td>11.995516</td><td>19.200797</td><td>22.934562</td><td>2</td><td>3</td><td>1</td><td>1780.026144</td></tr><tr><td>&quot;wordnet_company_wasDestroyedOnDate_created&quot;</td><td>0.0737</td><td>0.907258</td><td>6.908515</td><td>20.437436</td><td>24.218016</td><td>2</td><td>3</td><td>1</td><td>1812.226909</td></tr><tr><td>&quot;wordnet_company_hasMotto_created&quot;</td><td>0.074392</td><td>0.911225</td><td>11.723933</td><td>20.938239</td><td>22.445942</td><td>2</td><td>3</td><td>1</td><td>1830.180681</td></tr><tr><td>&quot;wordnet_company_participatedIn_created&quot;</td><td>0.075577</td><td>0.910797</td><td>5.089312</td><td>17.051464</td><td>25.953075</td><td>2</td><td>3</td><td>1</td><td>1860.928475</td></tr><tr><td>&quot;wordnet_company_hasWonPrize_created&quot;</td><td>0.076032</td><td>0.907795</td><td>7.450507</td><td>19.004258</td><td>24.515078</td><td>2</td><td>3</td><td>1</td><td>1872.739412</td></tr><tr><td>&quot;wordnet_company_hasWonPrize_hasRevenue&quot;</td><td>0.084074</td><td>0.847861</td><td>5.606332</td><td>17.861163</td><td>25.510835</td><td>2</td><td>3</td><td>1</td><td>2081.39069</td></tr><tr><td>&quot;wordnet_company_hasMotto_hasRevenue&quot;</td><td>0.08509</td><td>0.852042</td><td>13.057885</td><td>16.843692</td><td>23.366141</td><td>2</td><td>3</td><td>1</td><td>2107.755365</td></tr><tr><td>&quot;wordnet_company_wasDestroyedOnDate_owns&quot;</td><td>0.089969</td><td>0.824274</td><td>11.302321</td><td>5.34258</td><td>27.785033</td><td>2</td><td>3</td><td>1</td><td>2234.345423</td></tr></tbody></table></div>"
      ],
      "text/plain": [
       "shape: (51, 10)\n",
       "┌─────────────┬──────────┬───────────┬───────────┬───┬──────────┬───────────┬───────────┬──────────┐\n",
       "│ df_name     ┆ r2       ┆ frac_null ┆ imp_key   ┆ … ┆ n_left_c ┆ n_right_c ┆ n_key_col ┆ differen │\n",
       "│ ---         ┆ ---      ┆ ---       ┆ ---       ┆   ┆ ol       ┆ ol        ┆ ---       ┆ ce       │\n",
       "│ str         ┆ f64      ┆ f64       ┆ f64       ┆   ┆ ---      ┆ ---       ┆ i64       ┆ ---      │\n",
       "│             ┆          ┆           ┆           ┆   ┆ i64      ┆ i64       ┆           ┆ f64      │\n",
       "╞═════════════╪══════════╪═══════════╪═══════════╪═══╪══════════╪═══════════╪═══════════╪══════════╡\n",
       "│ wordnet_chu ┆ 0.002747 ┆ 0.998821  ┆ 45.45002  ┆ … ┆ 2        ┆ 3         ┆ 1         ┆ -28.7254 │\n",
       "│ rch_isLocat ┆          ┆           ┆           ┆   ┆          ┆           ┆           ┆ 18       │\n",
       "│ edIn_hasLen ┆          ┆           ┆           ┆   ┆          ┆           ┆           ┆          │\n",
       "│ gth         ┆          ┆           ┆           ┆   ┆          ┆           ┆           ┆          │\n",
       "│ wordnet_org ┆ 0.002891 ┆ 0.998713  ┆ 33.656352 ┆ … ┆ 2        ┆ 3         ┆ 1         ┆ -24.9932 │\n",
       "│ anization_i ┆          ┆           ┆           ┆   ┆          ┆           ┆           ┆ 98       │\n",
       "│ sLocatedIn_ ┆          ┆           ┆           ┆   ┆          ┆           ┆           ┆          │\n",
       "│ hasNumberOf ┆          ┆           ┆           ┆   ┆          ┆           ┆           ┆          │\n",
       "│ People      ┆          ┆           ┆           ┆   ┆          ┆           ┆           ┆          │\n",
       "│ wordnet_org ┆ 0.002977 ┆ 0.998606  ┆ 36.862741 ┆ … ┆ 2        ┆ 3         ┆ 1         ┆ -22.7711 │\n",
       "│ anization_i ┆          ┆           ┆           ┆   ┆          ┆           ┆           ┆ 35       │\n",
       "│ sLocatedIn_ ┆          ┆           ┆           ┆   ┆          ┆           ┆           ┆          │\n",
       "│ hasLatitude ┆          ┆           ┆           ┆   ┆          ┆           ┆           ┆          │\n",
       "│ wordnet_chu ┆ 0.002996 ┆ 0.998392  ┆ 35.391875 ┆ … ┆ 2        ┆ 3         ┆ 1         ┆ -22.2578 │\n",
       "│ rch_isLocat ┆          ┆           ┆           ┆   ┆          ┆           ┆           ┆ 92       │\n",
       "│ edIn_hasLat ┆          ┆           ┆           ┆   ┆          ┆           ┆           ┆          │\n",
       "│ itude       ┆          ┆           ┆           ┆   ┆          ┆           ┆           ┆          │\n",
       "│ yagowordnet ┆ 0.003078 ┆ 0.999586  ┆ 41.620994 ┆ … ┆ 2        ┆ 14        ┆ 1         ┆ -20.1356 │\n",
       "│ _cp_wordnet ┆          ┆           ┆           ┆   ┆          ┆           ┆           ┆ 16       │\n",
       "│ _organizati ┆          ┆           ┆           ┆   ┆          ┆           ┆           ┆          │\n",
       "│ on          ┆          ┆           ┆           ┆   ┆          ┆           ┆           ┆          │\n",
       "│ wordnet_con ┆ 0.003095 ┆ 0.998392  ┆ 48.957083 ┆ … ┆ 2        ┆ 3         ┆ 1         ┆ -19.7059 │\n",
       "│ flict_happe ┆          ┆           ┆           ┆   ┆          ┆           ┆           ┆ 73       │\n",
       "│ nedOnDate_i ┆          ┆           ┆           ┆   ┆          ┆           ┆           ┆          │\n",
       "│ sLocatedIn  ┆          ┆           ┆           ┆   ┆          ┆           ┆           ┆          │\n",
       "│ wordnet_org ┆ 0.003249 ┆ 0.998928  ┆ 36.479313 ┆ … ┆ 2        ┆ 3         ┆ 1         ┆ -15.7121 │\n",
       "│ anization_i ┆          ┆           ┆           ┆   ┆          ┆           ┆           ┆ 17       │\n",
       "│ sLocatedIn_ ┆          ┆           ┆           ┆   ┆          ┆           ┆           ┆          │\n",
       "│ isAffiliate ┆          ┆           ┆           ┆   ┆          ┆           ┆           ┆          │\n",
       "│ dTo         ┆          ┆           ┆           ┆   ┆          ┆           ┆           ┆          │\n",
       "│ wordnet_org ┆ 0.003249 ┆ 0.998928  ┆ 36.479313 ┆ … ┆ 2        ┆ 3         ┆ 1         ┆ -15.7121 │\n",
       "│ anization_h ┆          ┆           ┆           ┆   ┆          ┆           ┆           ┆ 17       │\n",
       "│ asWonPrize_ ┆          ┆           ┆           ┆   ┆          ┆           ┆           ┆          │\n",
       "│ isLocatedIn ┆          ┆           ┆           ┆   ┆          ┆           ┆           ┆          │\n",
       "│ wordnet_org ┆ 0.003249 ┆ 0.998928  ┆ 36.479313 ┆ … ┆ 2        ┆ 3         ┆ 1         ┆ -15.7121 │\n",
       "│ anization_i ┆          ┆           ┆           ┆   ┆          ┆           ┆           ┆ 17       │\n",
       "│ sLocatedIn_ ┆          ┆           ┆           ┆   ┆          ┆           ┆           ┆          │\n",
       "│ hasMotto    ┆          ┆           ┆           ┆   ┆          ┆           ┆           ┆          │\n",
       "│ wordnet_org ┆ 0.003249 ┆ 0.998928  ┆ 36.479313 ┆ … ┆ 2        ┆ 3         ┆ 1         ┆ -15.7121 │\n",
       "│ anization_i ┆          ┆           ┆           ┆   ┆          ┆           ┆           ┆ 17       │\n",
       "│ sLocatedIn_ ┆          ┆           ┆           ┆   ┆          ┆           ┆           ┆          │\n",
       "│ hasBudget   ┆          ┆           ┆           ┆   ┆          ┆           ┆           ┆          │\n",
       "│ …           ┆ …        ┆ …         ┆ …         ┆ … ┆ …        ┆ …         ┆ …         ┆ …        │\n",
       "│ wordnet_uni ┆ 0.014215 ┆ 0.963761  ┆ 38.361087 ┆ … ┆ 2        ┆ 3         ┆ 1         ┆ 268.8252 │\n",
       "│ versity_cre ┆          ┆           ┆           ┆   ┆          ┆           ┆           ┆ 5        │\n",
       "│ ated_hasMot ┆          ┆           ┆           ┆   ┆          ┆           ┆           ┆          │\n",
       "│ to          ┆          ┆           ┆           ┆   ┆          ┆           ┆           ┆          │\n",
       "│ wordnet_com ┆ 0.01675  ┆ 0.964512  ┆ 35.827557 ┆ … ┆ 2        ┆ 3         ┆ 1         ┆ 334.5967 │\n",
       "│ pany_hasWon ┆          ┆           ┆           ┆   ┆          ┆           ┆           ┆ 66       │\n",
       "│ Prize_hasLa ┆          ┆           ┆           ┆   ┆          ┆           ┆           ┆          │\n",
       "│ titude      ┆          ┆           ┆           ┆   ┆          ┆           ┆           ┆          │\n",
       "│ wordnet_com ┆ 0.072459 ┆ 0.909832  ┆ 11.995516 ┆ … ┆ 2        ┆ 3         ┆ 1         ┆ 1780.026 │\n",
       "│ pany_isAffi ┆          ┆           ┆           ┆   ┆          ┆           ┆           ┆ 144      │\n",
       "│ liatedTo_cr ┆          ┆           ┆           ┆   ┆          ┆           ┆           ┆          │\n",
       "│ eated       ┆          ┆           ┆           ┆   ┆          ┆           ┆           ┆          │\n",
       "│ wordnet_com ┆ 0.0737   ┆ 0.907258  ┆ 6.908515  ┆ … ┆ 2        ┆ 3         ┆ 1         ┆ 1812.226 │\n",
       "│ pany_wasDes ┆          ┆           ┆           ┆   ┆          ┆           ┆           ┆ 909      │\n",
       "│ troyedOnDat ┆          ┆           ┆           ┆   ┆          ┆           ┆           ┆          │\n",
       "│ e_created   ┆          ┆           ┆           ┆   ┆          ┆           ┆           ┆          │\n",
       "│ wordnet_com ┆ 0.074392 ┆ 0.911225  ┆ 11.723933 ┆ … ┆ 2        ┆ 3         ┆ 1         ┆ 1830.180 │\n",
       "│ pany_hasMot ┆          ┆           ┆           ┆   ┆          ┆           ┆           ┆ 681      │\n",
       "│ to_created  ┆          ┆           ┆           ┆   ┆          ┆           ┆           ┆          │\n",
       "│ wordnet_com ┆ 0.075577 ┆ 0.910797  ┆ 5.089312  ┆ … ┆ 2        ┆ 3         ┆ 1         ┆ 1860.928 │\n",
       "│ pany_partic ┆          ┆           ┆           ┆   ┆          ┆           ┆           ┆ 475      │\n",
       "│ ipatedIn_cr ┆          ┆           ┆           ┆   ┆          ┆           ┆           ┆          │\n",
       "│ eated       ┆          ┆           ┆           ┆   ┆          ┆           ┆           ┆          │\n",
       "│ wordnet_com ┆ 0.076032 ┆ 0.907795  ┆ 7.450507  ┆ … ┆ 2        ┆ 3         ┆ 1         ┆ 1872.739 │\n",
       "│ pany_hasWon ┆          ┆           ┆           ┆   ┆          ┆           ┆           ┆ 412      │\n",
       "│ Prize_creat ┆          ┆           ┆           ┆   ┆          ┆           ┆           ┆          │\n",
       "│ ed          ┆          ┆           ┆           ┆   ┆          ┆           ┆           ┆          │\n",
       "│ wordnet_com ┆ 0.084074 ┆ 0.847861  ┆ 5.606332  ┆ … ┆ 2        ┆ 3         ┆ 1         ┆ 2081.390 │\n",
       "│ pany_hasWon ┆          ┆           ┆           ┆   ┆          ┆           ┆           ┆ 69       │\n",
       "│ Prize_hasRe ┆          ┆           ┆           ┆   ┆          ┆           ┆           ┆          │\n",
       "│ venue       ┆          ┆           ┆           ┆   ┆          ┆           ┆           ┆          │\n",
       "│ wordnet_com ┆ 0.08509  ┆ 0.852042  ┆ 13.057885 ┆ … ┆ 2        ┆ 3         ┆ 1         ┆ 2107.755 │\n",
       "│ pany_hasMot ┆          ┆           ┆           ┆   ┆          ┆           ┆           ┆ 365      │\n",
       "│ to_hasReven ┆          ┆           ┆           ┆   ┆          ┆           ┆           ┆          │\n",
       "│ ue          ┆          ┆           ┆           ┆   ┆          ┆           ┆           ┆          │\n",
       "│ wordnet_com ┆ 0.089969 ┆ 0.824274  ┆ 11.302321 ┆ … ┆ 2        ┆ 3         ┆ 1         ┆ 2234.345 │\n",
       "│ pany_wasDes ┆          ┆           ┆           ┆   ┆          ┆           ┆           ┆ 423      │\n",
       "│ troyedOnDat ┆          ┆           ┆           ┆   ┆          ┆           ┆           ┆          │\n",
       "│ e_owns      ┆          ┆           ┆           ┆   ┆          ┆           ┆           ┆          │\n",
       "└─────────────┴──────────┴───────────┴───────────┴───┴──────────┴───────────┴───────────┴──────────┘"
      ]
     },
     "execution_count": 38,
     "metadata": {},
     "output_type": "execute_result"
    }
   ],
   "source": [
    "df_results = df_results.with_columns(\n",
    "    ((pl.col(\"r2\")/base_result - 1)*100).alias(\"difference\")\n",
    ").sort(\"difference\")\n",
    "df_results"
   ]
  },
  {
   "cell_type": "code",
   "execution_count": 58,
   "metadata": {},
   "outputs": [
    {
     "data": {
      "text/html": [
       "<div><style>\n",
       ".dataframe > thead > tr > th,\n",
       ".dataframe > tbody > tr > td {\n",
       "  text-align: right;\n",
       "}\n",
       "</style>\n",
       "<small>shape: (1, 2)</small><table border=\"1\" class=\"dataframe\"><thead><tr><th>corr_imp_right</th><th>corr_frac_null</th></tr><tr><td>f64</td><td>f64</td></tr></thead><tbody><tr><td>-0.386333</td><td>0.078262</td></tr></tbody></table></div>"
      ],
      "text/plain": [
       "shape: (1, 2)\n",
       "┌────────────────┬────────────────┐\n",
       "│ corr_imp_right ┆ corr_frac_null │\n",
       "│ ---            ┆ ---            │\n",
       "│ f64            ┆ f64            │\n",
       "╞════════════════╪════════════════╡\n",
       "│ -0.386333      ┆ 0.078262       │\n",
       "└────────────────┴────────────────┘"
      ]
     },
     "execution_count": 58,
     "metadata": {},
     "output_type": "execute_result"
    }
   ],
   "source": [
    "df_results.select(\n",
    "    pl.corr(\"r2\", \"imp_right\").alias(\"corr_imp_right\"),\n",
    "    pl.corr(\"r2\", \"frac_null\").alias(\"corr_frac_null\"),\n",
    ")"
   ]
  },
  {
   "cell_type": "code",
   "execution_count": null,
   "metadata": {},
   "outputs": [
    {
     "data": {
      "text/html": [
       "<div><style>\n",
       ".dataframe > thead > tr > th,\n",
       ".dataframe > tbody > tr > td {\n",
       "  text-align: right;\n",
       "}\n",
       "</style>\n",
       "<small>shape: (101, 10)</small><table border=\"1\" class=\"dataframe\"><thead><tr><th>df_name</th><th>r2</th><th>frac_null</th><th>imp_key</th><th>imp_left</th><th>imp_right</th><th>n_left_col</th><th>n_right_col</th><th>n_key_col</th><th>difference</th></tr><tr><td>str</td><td>f64</td><td>f64</td><td>f64</td><td>f64</td><td>f64</td><td>i64</td><td>i64</td><td>i64</td><td>f64</td></tr></thead><tbody><tr><td>&quot;hbwp-wys3&quot;</td><td>0.505717</td><td>0.796368</td><td>0.0</td><td>98.385657</td><td>1.614343</td><td>3</td><td>7</td><td>1</td><td>-9.275708</td></tr><tr><td>&quot;wjtw-p6gu&quot;</td><td>0.506952</td><td>0.81642</td><td>0.0</td><td>99.122649</td><td>0.877351</td><td>3</td><td>16</td><td>1</td><td>-9.05424</td></tr><tr><td>&quot;4phz-5afm&quot;</td><td>0.50696</td><td>0.807327</td><td>0.0</td><td>97.654269</td><td>2.345731</td><td>3</td><td>4</td><td>1</td><td>-9.052749</td></tr><tr><td>&quot;uy57-3u8f&quot;</td><td>0.507312</td><td>0.888154</td><td>0.0</td><td>99.2986</td><td>0.7014</td><td>3</td><td>3</td><td>1</td><td>-8.989568</td></tr><tr><td>&quot;5ndz-hdpi&quot;</td><td>0.507658</td><td>0.947428</td><td>0.0</td><td>98.912927</td><td>1.087073</td><td>3</td><td>30</td><td>1</td><td>-8.927455</td></tr><tr><td>&quot;p39g-siwr&quot;</td><td>0.508709</td><td>0.79964</td><td>0.0</td><td>96.409197</td><td>3.590803</td><td>3</td><td>4</td><td>1</td><td>-8.7389</td></tr><tr><td>&quot;dzyk-hhe6&quot;</td><td>0.509221</td><td>0.97403</td><td>0.0</td><td>99.407491</td><td>0.592509</td><td>3</td><td>17</td><td>1</td><td>-8.647041</td></tr><tr><td>&quot;7ix4-a8g6&quot;</td><td>0.509235</td><td>0.888154</td><td>0.0</td><td>99.105936</td><td>0.894064</td><td>3</td><td>2</td><td>1</td><td>-8.644686</td></tr><tr><td>&quot;tqti-3w6t&quot;</td><td>0.50925</td><td>0.917691</td><td>0.0</td><td>99.258352</td><td>0.741648</td><td>3</td><td>7</td><td>1</td><td>-8.641838</td></tr><tr><td>&quot;6mty-mwk9&quot;</td><td>0.510252</td><td>0.801938</td><td>0.0</td><td>97.512902</td><td>2.487098</td><td>3</td><td>9</td><td>1</td><td>-8.462134</td></tr><tr><td>&hellip;</td><td>&hellip;</td><td>&hellip;</td><td>&hellip;</td><td>&hellip;</td><td>&hellip;</td><td>&hellip;</td><td>&hellip;</td><td>&hellip;</td><td>&hellip;</td></tr><tr><td>&quot;4kyi-ikep&quot;</td><td>0.595635</td><td>0.888154</td><td>0.369727</td><td>98.88766</td><td>0.742613</td><td>4</td><td>28</td><td>1</td><td>6.855277</td></tr><tr><td>&quot;57ze-riwq&quot;</td><td>0.595947</td><td>0.992497</td><td>0.0</td><td>99.786285</td><td>0.213715</td><td>4</td><td>51</td><td>1</td><td>6.911227</td></tr><tr><td>&quot;wfet-4eiw&quot;</td><td>0.596825</td><td>0.966011</td><td>0.0</td><td>98.979582</td><td>1.020418</td><td>4</td><td>63</td><td>1</td><td>7.068851</td></tr><tr><td>&quot;4tnv-q46z&quot;</td><td>0.597018</td><td>0.979779</td><td>0.0</td><td>99.594063</td><td>0.405937</td><td>4</td><td>23</td><td>1</td><td>7.103462</td></tr><tr><td>&quot;jt2g-qvtk&quot;</td><td>0.598041</td><td>0.977632</td><td>0.0</td><td>99.678737</td><td>0.321263</td><td>4</td><td>51</td><td>1</td><td>7.286916</td></tr><tr><td>&quot;re8t-6u33&quot;</td><td>0.601211</td><td>0.947428</td><td>0.0</td><td>99.552848</td><td>0.447152</td><td>4</td><td>39</td><td>1</td><td>7.855646</td></tr><tr><td>&quot;54pj-3dxy&quot;</td><td>0.601267</td><td>0.858838</td><td>0.0</td><td>99.383893</td><td>0.616107</td><td>4</td><td>34</td><td>1</td><td>7.865681</td></tr><tr><td>&quot;fiuw-37jg&quot;</td><td>0.603419</td><td>0.922338</td><td>0.0</td><td>99.32866</td><td>0.67134</td><td>4</td><td>73</td><td>1</td><td>8.25166</td></tr><tr><td>&quot;u7sw-fvgt&quot;</td><td>0.604985</td><td>0.72917</td><td>0.0</td><td>99.62203</td><td>0.37797</td><td>4</td><td>5</td><td>1</td><td>8.532652</td></tr><tr><td>&quot;cv67-y4ye&quot;</td><td>0.606786</td><td>0.951057</td><td>0.0</td><td>99.639617</td><td>0.360383</td><td>4</td><td>7</td><td>1</td><td>8.855685</td></tr></tbody></table></div>"
      ],
      "text/plain": [
       "shape: (101, 10)\n",
       "┌───────────┬──────────┬───────────┬──────────┬───┬──────────┬───────────┬───────────┬─────────────┐\n",
       "│ df_name   ┆ r2       ┆ frac_null ┆ imp_key  ┆ … ┆ n_left_c ┆ n_right_c ┆ n_key_col ┆ difference  │\n",
       "│ ---       ┆ ---      ┆ ---       ┆ ---      ┆   ┆ ol       ┆ ol        ┆ ---       ┆ ---         │\n",
       "│ str       ┆ f64      ┆ f64       ┆ f64      ┆   ┆ ---      ┆ ---       ┆ i64       ┆ f64         │\n",
       "│           ┆          ┆           ┆          ┆   ┆ i64      ┆ i64       ┆           ┆             │\n",
       "╞═══════════╪══════════╪═══════════╪══════════╪═══╪══════════╪═══════════╪═══════════╪═════════════╡\n",
       "│ hbwp-wys3 ┆ 0.505717 ┆ 0.796368  ┆ 0.0      ┆ … ┆ 3        ┆ 7         ┆ 1         ┆ -9.275708   │\n",
       "│ wjtw-p6gu ┆ 0.506952 ┆ 0.81642   ┆ 0.0      ┆ … ┆ 3        ┆ 16        ┆ 1         ┆ -9.05424    │\n",
       "│ 4phz-5afm ┆ 0.50696  ┆ 0.807327  ┆ 0.0      ┆ … ┆ 3        ┆ 4         ┆ 1         ┆ -9.052749   │\n",
       "│ uy57-3u8f ┆ 0.507312 ┆ 0.888154  ┆ 0.0      ┆ … ┆ 3        ┆ 3         ┆ 1         ┆ -8.989568   │\n",
       "│ 5ndz-hdpi ┆ 0.507658 ┆ 0.947428  ┆ 0.0      ┆ … ┆ 3        ┆ 30        ┆ 1         ┆ -8.927455   │\n",
       "│ p39g-siwr ┆ 0.508709 ┆ 0.79964   ┆ 0.0      ┆ … ┆ 3        ┆ 4         ┆ 1         ┆ -8.7389     │\n",
       "│ dzyk-hhe6 ┆ 0.509221 ┆ 0.97403   ┆ 0.0      ┆ … ┆ 3        ┆ 17        ┆ 1         ┆ -8.647041   │\n",
       "│ 7ix4-a8g6 ┆ 0.509235 ┆ 0.888154  ┆ 0.0      ┆ … ┆ 3        ┆ 2         ┆ 1         ┆ -8.644686   │\n",
       "│ tqti-3w6t ┆ 0.50925  ┆ 0.917691  ┆ 0.0      ┆ … ┆ 3        ┆ 7         ┆ 1         ┆ -8.641838   │\n",
       "│ 6mty-mwk9 ┆ 0.510252 ┆ 0.801938  ┆ 0.0      ┆ … ┆ 3        ┆ 9         ┆ 1         ┆ -8.462134   │\n",
       "│ …         ┆ …        ┆ …         ┆ …        ┆ … ┆ …        ┆ …         ┆ …         ┆ …           │\n",
       "│ 4kyi-ikep ┆ 0.595635 ┆ 0.888154  ┆ 0.369727 ┆ … ┆ 4        ┆ 28        ┆ 1         ┆ 6.855277    │\n",
       "│ 57ze-riwq ┆ 0.595947 ┆ 0.992497  ┆ 0.0      ┆ … ┆ 4        ┆ 51        ┆ 1         ┆ 6.911227    │\n",
       "│ wfet-4eiw ┆ 0.596825 ┆ 0.966011  ┆ 0.0      ┆ … ┆ 4        ┆ 63        ┆ 1         ┆ 7.068851    │\n",
       "│ 4tnv-q46z ┆ 0.597018 ┆ 0.979779  ┆ 0.0      ┆ … ┆ 4        ┆ 23        ┆ 1         ┆ 7.103462    │\n",
       "│ jt2g-qvtk ┆ 0.598041 ┆ 0.977632  ┆ 0.0      ┆ … ┆ 4        ┆ 51        ┆ 1         ┆ 7.286916    │\n",
       "│ re8t-6u33 ┆ 0.601211 ┆ 0.947428  ┆ 0.0      ┆ … ┆ 4        ┆ 39        ┆ 1         ┆ 7.855646    │\n",
       "│ 54pj-3dxy ┆ 0.601267 ┆ 0.858838  ┆ 0.0      ┆ … ┆ 4        ┆ 34        ┆ 1         ┆ 7.865681    │\n",
       "│ fiuw-37jg ┆ 0.603419 ┆ 0.922338  ┆ 0.0      ┆ … ┆ 4        ┆ 73        ┆ 1         ┆ 8.25166     │\n",
       "│ u7sw-fvgt ┆ 0.604985 ┆ 0.72917   ┆ 0.0      ┆ … ┆ 4        ┆ 5         ┆ 1         ┆ 8.532652    │\n",
       "│ cv67-y4ye ┆ 0.606786 ┆ 0.951057  ┆ 0.0      ┆ … ┆ 4        ┆ 7         ┆ 1         ┆ 8.855685    │\n",
       "└───────────┴──────────┴───────────┴──────────┴───┴──────────┴───────────┴───────────┴─────────────┘"
      ]
     },
     "metadata": {},
     "output_type": "display_data"
    }
   ],
   "source": [
    "df_results.with_columns(\n",
    "    ((pl.col(\"r2\")/base_result - 1)*100).alias(\"difference\")\n",
    ").sort(\"difference\")"
   ]
  },
  {
   "cell_type": "code",
   "execution_count": 40,
   "metadata": {},
   "outputs": [
    {
     "ename": "NameError",
     "evalue": "name 'target' is not defined",
     "output_type": "error",
     "traceback": [
      "\u001b[0;31m---------------------------------------------------------------------------\u001b[0m",
      "\u001b[0;31mNameError\u001b[0m                                 Traceback (most recent call last)",
      "Cell \u001b[0;32mIn[40], line 2\u001b[0m\n\u001b[1;32m      1\u001b[0m left_col \u001b[39m=\u001b[39m [col \u001b[39mfor\u001b[39;00m col \u001b[39min\u001b[39;00m base_table\u001b[39m.\u001b[39mcolumns \u001b[39mif\u001b[39;00m col \u001b[39mnot\u001b[39;00m \u001b[39min\u001b[39;00m left_on]\n\u001b[0;32m----> 2\u001b[0m right_col \u001b[39m=\u001b[39m [col \u001b[39mfor\u001b[39;00m col \u001b[39min\u001b[39;00m target\u001b[39m.\u001b[39mcolumns \u001b[39mif\u001b[39;00m col \u001b[39mnot\u001b[39;00m \u001b[39min\u001b[39;00m right_on]\n\u001b[1;32m      3\u001b[0m key_col \u001b[39m=\u001b[39m left_on\n\u001b[1;32m      5\u001b[0m aggr_right \u001b[39m=\u001b[39m aggregate_table(\n\u001b[1;32m      6\u001b[0m target, right_on, aggregation_method\u001b[39m=\u001b[39m\u001b[39m\"\u001b[39m\u001b[39mmean\u001b[39m\u001b[39m\"\u001b[39m\n\u001b[1;32m      7\u001b[0m )\n",
      "\u001b[0;31mNameError\u001b[0m: name 'target' is not defined"
     ]
    }
   ],
   "source": [
    "\n",
    "left_col = [col for col in base_table.columns if col not in left_on]\n",
    "right_col = [col for col in target.columns if col not in right_on]\n",
    "key_col = left_on\n",
    "\n",
    "aggr_right = aggregate_table(\n",
    "target, right_on, aggregation_method=\"mean\"\n",
    ")\n",
    "merged = execute_join(\n",
    "    base_table,\n",
    "    aggr_right,\n",
    "    left_on=left_on,\n",
    "    right_on=right_on,\n",
    "    how=\"left\",\n",
    ")\n",
    "\n",
    "run_label, best_estimator, best_result = evaluate_single_table(\n",
    "merged,\n",
    "\"target\",\n",
    "run_label=\"full_join\",\n",
    "iterations=100,\n",
    "verbose=0\n",
    ")\n",
    "print(best_result)\n",
    "imp = get_importances(best_estimator, left_col, right_col, key_col)\n"
   ]
  },
  {
   "cell_type": "code",
   "execution_count": 67,
   "metadata": {},
   "outputs": [
    {
     "data": {
      "text/html": [
       "<div><style>\n",
       ".dataframe > thead > tr > th,\n",
       ".dataframe > tbody > tr > td {\n",
       "  text-align: right;\n",
       "}\n",
       "</style>\n",
       "<small>shape: (3, 2)</small><table border=\"1\" class=\"dataframe\"><thead><tr><th>source</th><th>feature_importance</th></tr><tr><td>i64</td><td>f64</td></tr></thead><tbody><tr><td>0</td><td>5.615749</td></tr><tr><td>1</td><td>91.334566</td></tr><tr><td>2</td><td>3.049685</td></tr></tbody></table></div>"
      ],
      "text/plain": [
       "shape: (3, 2)\n",
       "┌────────┬────────────────────┐\n",
       "│ source ┆ feature_importance │\n",
       "│ ---    ┆ ---                │\n",
       "│ i64    ┆ f64                │\n",
       "╞════════╪════════════════════╡\n",
       "│ 0      ┆ 5.615749           │\n",
       "│ 1      ┆ 91.334566          │\n",
       "│ 2      ┆ 3.049685           │\n",
       "└────────┴────────────────────┘"
      ]
     },
     "execution_count": 67,
     "metadata": {},
     "output_type": "execute_result"
    }
   ],
   "source": [
    "imp.groupby(\"source\").agg(\n",
    "    pl.sum(\"feature_importance\")\n",
    ")"
   ]
  },
  {
   "cell_type": "code",
   "execution_count": 90,
   "metadata": {},
   "outputs": [
    {
     "data": {
      "text/html": [
       "<div><style>\n",
       ".dataframe > thead > tr > th,\n",
       ".dataframe > tbody > tr > td {\n",
       "  text-align: right;\n",
       "}\n",
       "</style>\n",
       "<small>shape: (31, 3)</small><table border=\"1\" class=\"dataframe\"><thead><tr><th>feature_name</th><th>feature_importance</th><th>source</th></tr><tr><td>str</td><td>f64</td><td>i64</td></tr></thead><tbody><tr><td>&quot;col_to_embed&quot;</td><td>36.553675</td><td>1</td></tr><tr><td>&quot;county_name&quot;</td><td>0.0</td><td>0</td></tr><tr><td>&quot;party&quot;</td><td>61.699804</td><td>1</td></tr><tr><td>&quot;local_education_agency_lea&quot;</td><td>0.043022</td><td>2</td></tr><tr><td>&quot;lea_type&quot;</td><td>0.038553</td><td>2</td></tr><tr><td>&quot;school_name&quot;</td><td>0.000195</td><td>2</td></tr><tr><td>&quot;administrative_unit_number_aun&quot;</td><td>0.120865</td><td>2</td></tr><tr><td>&quot;county_code&quot;</td><td>0.153815</td><td>2</td></tr><tr><td>&quot;school_number&quot;</td><td>0.084684</td><td>2</td></tr><tr><td>&quot;pre_kindergarten_am&quot;</td><td>0.055207</td><td>2</td></tr><tr><td>&hellip;</td><td>&hellip;</td><td>&hellip;</td></tr><tr><td>&quot;_4th_grade&quot;</td><td>0.083694</td><td>2</td></tr><tr><td>&quot;_5th_grade&quot;</td><td>0.040476</td><td>2</td></tr><tr><td>&quot;_6th_grade&quot;</td><td>0.034748</td><td>2</td></tr><tr><td>&quot;_7th_grade&quot;</td><td>0.006309</td><td>2</td></tr><tr><td>&quot;_8th_grade&quot;</td><td>0.043874</td><td>2</td></tr><tr><td>&quot;_9th_grade&quot;</td><td>0.068171</td><td>2</td></tr><tr><td>&quot;_10th_grade&quot;</td><td>0.033835</td><td>2</td></tr><tr><td>&quot;_11th_grade&quot;</td><td>0.08238</td><td>2</td></tr><tr><td>&quot;_12th_grade&quot;</td><td>0.047954</td><td>2</td></tr><tr><td>&quot;total&quot;</td><td>0.048435</td><td>2</td></tr></tbody></table></div>"
      ],
      "text/plain": [
       "shape: (31, 3)\n",
       "┌────────────────────────────────┬────────────────────┬────────┐\n",
       "│ feature_name                   ┆ feature_importance ┆ source │\n",
       "│ ---                            ┆ ---                ┆ ---    │\n",
       "│ str                            ┆ f64                ┆ i64    │\n",
       "╞════════════════════════════════╪════════════════════╪════════╡\n",
       "│ col_to_embed                   ┆ 36.553675          ┆ 1      │\n",
       "│ county_name                    ┆ 0.0                ┆ 0      │\n",
       "│ party                          ┆ 61.699804          ┆ 1      │\n",
       "│ local_education_agency_lea     ┆ 0.043022           ┆ 2      │\n",
       "│ lea_type                       ┆ 0.038553           ┆ 2      │\n",
       "│ school_name                    ┆ 0.000195           ┆ 2      │\n",
       "│ administrative_unit_number_aun ┆ 0.120865           ┆ 2      │\n",
       "│ county_code                    ┆ 0.153815           ┆ 2      │\n",
       "│ school_number                  ┆ 0.084684           ┆ 2      │\n",
       "│ pre_kindergarten_am            ┆ 0.055207           ┆ 2      │\n",
       "│ …                              ┆ …                  ┆ …      │\n",
       "│ _4th_grade                     ┆ 0.083694           ┆ 2      │\n",
       "│ _5th_grade                     ┆ 0.040476           ┆ 2      │\n",
       "│ _6th_grade                     ┆ 0.034748           ┆ 2      │\n",
       "│ _7th_grade                     ┆ 0.006309           ┆ 2      │\n",
       "│ _8th_grade                     ┆ 0.043874           ┆ 2      │\n",
       "│ _9th_grade                     ┆ 0.068171           ┆ 2      │\n",
       "│ _10th_grade                    ┆ 0.033835           ┆ 2      │\n",
       "│ _11th_grade                    ┆ 0.08238            ┆ 2      │\n",
       "│ _12th_grade                    ┆ 0.047954           ┆ 2      │\n",
       "│ total                          ┆ 0.048435           ┆ 2      │\n",
       "└────────────────────────────────┴────────────────────┴────────┘"
      ]
     },
     "execution_count": 90,
     "metadata": {},
     "output_type": "execute_result"
    }
   ],
   "source": [
    "imp"
   ]
  },
  {
   "cell_type": "code",
   "execution_count": null,
   "metadata": {},
   "outputs": [
    {
     "data": {
      "text/html": [
       "<div><style>\n",
       ".dataframe > thead > tr > th,\n",
       ".dataframe > tbody > tr > td {\n",
       "  text-align: right;\n",
       "}\n",
       "</style>\n",
       "<small>shape: (1, 1)</small><table border=\"1\" class=\"dataframe\"><thead><tr><th>r2</th></tr><tr><td>f64</td></tr></thead><tbody><tr><td>0.783251</td></tr></tbody></table></div>"
      ],
      "text/plain": [
       "shape: (1, 1)\n",
       "┌──────────┐\n",
       "│ r2       │\n",
       "│ ---      │\n",
       "│ f64      │\n",
       "╞══════════╡\n",
       "│ 0.783251 │\n",
       "└──────────┘"
      ]
     },
     "metadata": {},
     "output_type": "display_data"
    }
   ],
   "source": [
    "df_results.select(pl.corr(\"r2\", \"frac_null\"))"
   ]
  },
  {
   "cell_type": "markdown",
   "metadata": {},
   "source": [
    "### Plot importances"
   ]
  },
  {
   "cell_type": "code",
   "execution_count": null,
   "metadata": {},
   "outputs": [
    {
     "ename": "NameError",
     "evalue": "name 'd' is not defined",
     "output_type": "error",
     "traceback": [
      "\u001b[0;31m---------------------------------------------------------------------------\u001b[0m",
      "\u001b[0;31mNameError\u001b[0m                                 Traceback (most recent call last)",
      "Cell \u001b[0;32mIn[42], line 8\u001b[0m\n\u001b[1;32m      1\u001b[0m cmap \u001b[39m=\u001b[39m {\n\u001b[1;32m      2\u001b[0m     \u001b[39m0\u001b[39m: \u001b[39m\"\u001b[39m\u001b[39mred\u001b[39m\u001b[39m\"\u001b[39m,\n\u001b[1;32m      3\u001b[0m     \u001b[39m1\u001b[39m: \u001b[39m\"\u001b[39m\u001b[39mblue\u001b[39m\u001b[39m\"\u001b[39m,\n\u001b[1;32m      4\u001b[0m     \u001b[39m2\u001b[39m: \u001b[39m\"\u001b[39m\u001b[39mgreen\u001b[39m\u001b[39m\"\u001b[39m\n\u001b[1;32m      5\u001b[0m }\n\u001b[1;32m      7\u001b[0m i_df \u001b[39m=\u001b[39m imp\u001b[39m.\u001b[39mwith_columns(\n\u001b[0;32m----> 8\u001b[0m     pl\u001b[39m.\u001b[39mcol(\u001b[39m\"\u001b[39m\u001b[39mfeature_name\u001b[39m\u001b[39m\"\u001b[39m)\u001b[39m.\u001b[39malias(\u001b[39m\"\u001b[39m\u001b[39msource\u001b[39m\u001b[39m\"\u001b[39m)\u001b[39m.\u001b[39mmap_dict(d)\n\u001b[1;32m      9\u001b[0m )\u001b[39m.\u001b[39mto_pandas()\n\u001b[1;32m     10\u001b[0m i_df[\u001b[39m\"\u001b[39m\u001b[39mcolor\u001b[39m\u001b[39m\"\u001b[39m] \u001b[39m=\u001b[39m i_df[\u001b[39m\"\u001b[39m\u001b[39msource\u001b[39m\u001b[39m\"\u001b[39m]\u001b[39m.\u001b[39mmap(cmap)\n",
      "\u001b[0;31mNameError\u001b[0m: name 'd' is not defined"
     ]
    }
   ],
   "source": [
    "cmap = {\n",
    "    0: \"red\",\n",
    "    1: \"blue\",\n",
    "    2: \"green\"\n",
    "}\n",
    "\n",
    "i_df = imp.with_columns(\n",
    "    pl.col(\"feature_name\").alias(\"source\").map_dict(d)\n",
    ").to_pandas()\n",
    "i_df[\"color\"] = i_df[\"source\"].map(cmap)"
   ]
  },
  {
   "cell_type": "code",
   "execution_count": null,
   "metadata": {},
   "outputs": [
    {
     "data": {
      "text/plain": [
       "<BarContainer object of 15 artists>"
      ]
     },
     "execution_count": 41,
     "metadata": {},
     "output_type": "execute_result"
    },
    {
     "data": {
      "image/png": "[encoded data removed]",
      "text/plain": [
       "<Figure size 640x480 with 1 Axes>"
      ]
     },
     "metadata": {},
     "output_type": "display_data"
    }
   ],
   "source": [
    "plt.bar(data=i_df, x=\"feature_name\", height=\"feature_importance\", color=i_df[\"color\"])"
   ]
  },
  {
   "cell_type": "code",
   "execution_count": null,
   "metadata": {},
   "outputs": [],
   "source": []
  },
  {
   "cell_type": "code",
   "execution_count": null,
   "metadata": {},
   "outputs": [],
   "source": []
  }
 ],
 "metadata": {
  "kernelspec": {
   "display_name": "bench",
   "language": "python",
   "name": "python3"
  },
  "language_info": {
   "codemirror_mode": {
    "name": "ipython",
    "version": 3
   },
   "file_extension": ".py",
   "mimetype": "text/x-python",
   "name": "python",
   "nbconvert_exporter": "python",
   "pygments_lexer": "ipython3",
   "version": "3.10.10"
  },
  "orig_nbformat": 4
 },
 "nbformat": 4,
 "nbformat_minor": 2
}
