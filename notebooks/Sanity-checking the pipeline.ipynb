{
 "cells": [
  {
   "cell_type": "markdown",
   "metadata": {},
   "source": [
    "In this notebook I will be going through the various steps in the pipeline to try to understand why it seems that adding\n",
    "external information by joining new tables does not help with downstream tasks. \n",
    "\n"
   ]
  },
  {
   "cell_type": "code",
   "execution_count": 1,
   "metadata": {},
   "outputs": [
    {
     "name": "stdout",
     "output_type": "stream",
     "text": [
      "/home/soda/rcappuzz/work/benchmark-join-suggestions\n"
     ]
    }
   ],
   "source": [
    "cd .."
   ]
  },
  {
   "cell_type": "code",
   "execution_count": 2,
   "metadata": {},
   "outputs": [],
   "source": [
    "%load_ext autoreload\n",
    "%autoreload 2"
   ]
  },
  {
   "cell_type": "code",
   "execution_count": 3,
   "metadata": {},
   "outputs": [],
   "source": [
    "import pandas as pd\n",
    "import polars as pl\n",
    "import matplotlib.pyplot as plt\n",
    "import seaborn as sns\n",
    "import numpy as np\n",
    "\n",
    "import wandb\n",
    "\n",
    "from pathlib import Path\n",
    "\n",
    "import src.pipeline as pipeline\n",
    "from src._join_aggregator import JoinAggregator\n",
    "from src.data_structures.loggers import ScenarioLogger\n",
    "from src.data_structures.metadata import MetadataIndex, RawDataset, CandidateJoin\n",
    "from src.utils.indexing import write_candidates_on_file\n",
    "from src.utils.joining import execute_join, aggregate_table\n",
    "from src.methods.evaluation import evaluate_single_table"
   ]
  },
  {
   "cell_type": "code",
   "execution_count": 4,
   "metadata": {},
   "outputs": [
    {
     "data": {
      "text/plain": [
       "polars.config.Config"
      ]
     },
     "execution_count": 4,
     "metadata": {},
     "output_type": "execute_result"
    }
   ],
   "source": [
    "pl.Config.set_fmt_str_lengths(100)\n",
    "pl.Config.set_tbl_rows(20)\n"
   ]
  },
  {
   "cell_type": "code",
   "execution_count": 5,
   "metadata": {},
   "outputs": [
    {
     "name": "stdout",
     "output_type": "stream",
     "text": [
      "['target', 'col_to_embed']\n"
     ]
    }
   ],
   "source": [
    "# Select the yadl version\n",
    "yadl_version = \"wordnet_cp_big_fx\"\n",
    "# yadl_version = \"open_data\"\n",
    "\n",
    "# Prepare the metadata\n",
    "metadata_dir = Path(f\"data/metadata/{yadl_version}\")\n",
    "metadata_index_path = Path(f\"data/metadata/_mdi/md_index_{yadl_version}.pickle\")\n",
    "mdata_index = MetadataIndex(index_path=metadata_index_path)\n",
    "\n",
    "# Prepare the index dir\n",
    "index_dir = Path(f\"data/metadata/_indices/{yadl_version}\")\n",
    "\n",
    "# Prepare the query table\n",
    "query_tab_path = Path(\"data/source_tables/company-employees-depleted.parquet\")\n",
    "\n",
    "base_table = pl.read_parquet(query_tab_path)\n",
    "tab_name = query_tab_path.stem\n",
    "base_table = base_table.drop(\"name\")\n",
    "print(base_table.columns)"
   ]
  },
  {
   "cell_type": "code",
   "execution_count": 12,
   "metadata": {},
   "outputs": [
    {
     "name": "stdout",
     "output_type": "stream",
     "text": [
      "-0.0000\n"
     ]
    }
   ],
   "source": [
    "run_label, best_estimator, best_result = evaluate_single_table(\n",
    "    base_table, \"target\", run_label=\"base_table\", iterations=100, verbose=0\n",
    ")\n",
    "print(f\"{best_result:.4f}\")\n"
   ]
  },
  {
   "cell_type": "code",
   "execution_count": 33,
   "metadata": {},
   "outputs": [
    {
     "data": {
      "text/html": [
       "Tracking run with wandb version 0.15.9"
      ],
      "text/plain": [
       "<IPython.core.display.HTML object>"
      ]
     },
     "metadata": {},
     "output_type": "display_data"
    },
    {
     "data": {
      "text/html": [
       "Run data is saved locally in <code>/home/soda/rcappuzz/work/benchmark-join-suggestions/wandb/run-20230901_152530-g7tmxqej</code>"
      ],
      "text/plain": [
       "<IPython.core.display.HTML object>"
      ]
     },
     "metadata": {},
     "output_type": "display_data"
    },
    {
     "data": {
      "text/html": [
       "Syncing run <strong><a href='https://wandb.ai/rcap107/debug/runs/g7tmxqej' target=\"_blank\">fanciful-snowflake-3</a></strong> to <a href='https://wandb.ai/rcap107/debug' target=\"_blank\">Weights & Biases</a> (<a href='https://wandb.me/run' target=\"_blank\">docs</a>)<br/>"
      ],
      "text/plain": [
       "<IPython.core.display.HTML object>"
      ]
     },
     "metadata": {},
     "output_type": "display_data"
    },
    {
     "data": {
      "text/html": [
       " View project at <a href='https://wandb.ai/rcap107/debug' target=\"_blank\">https://wandb.ai/rcap107/debug</a>"
      ],
      "text/plain": [
       "<IPython.core.display.HTML object>"
      ]
     },
     "metadata": {},
     "output_type": "display_data"
    },
    {
     "data": {
      "text/html": [
       " View run at <a href='https://wandb.ai/rcap107/debug/runs/g7tmxqej' target=\"_blank\">https://wandb.ai/rcap107/debug/runs/g7tmxqej</a>"
      ],
      "text/plain": [
       "<IPython.core.display.HTML object>"
      ]
     },
     "metadata": {},
     "output_type": "display_data"
    }
   ],
   "source": [
    "import src.utils.joining as utils\n",
    "from catboost import CatBoostError, CatBoostRegressor\n",
    "from sklearn.metrics import mean_squared_error, r2_score\n",
    "from sklearn.model_selection import cross_validate, GroupKFold\n",
    "import polars.selectors as cs\n",
    "\n",
    "\n",
    "src_df = base_table\n",
    "target_column = \"target\"\n",
    "group_column = \"col_to_embed\"\n",
    "iterations = 100\n",
    "n_splits = 5\n",
    "verbose = 0\n",
    "n_jobs = 1  \n",
    "\n",
    "wandb.init(\n",
    "    project=\"debug\",\n",
    "    config={\n",
    "        \"src_df\": str(query_tab_path),\n",
    "        \"target_column\": target_column,\n",
    "    }\n",
    ")\n",
    "\n",
    "y = src_df[target_column].to_pandas()\n",
    "df = src_df.drop(target_column)\n",
    "df = utils.cast_features(df)\n",
    "cat_features = df.select(cs.string()).columns\n",
    "groups = df.select(\n",
    "    pl.col(group_column).cast(pl.Categorical).cast(pl.Int16).alias(\"group\")\n",
    ").to_numpy()\n",
    "\n",
    "df = df.fill_null(value=\"null\").fill_nan(value=np.nan).to_pandas()\n",
    "model = CatBoostRegressor(\n",
    "    cat_features=cat_features, iterations=iterations, l2_leaf_reg=0.01\n",
    ")\n",
    "\n",
    "gkf = GroupKFold(n_splits)\n",
    "\n",
    "results = cross_validate(\n",
    "    model,\n",
    "    X=df,\n",
    "    y=y,\n",
    "    scoring=(\"r2\"),\n",
    "    cv=gkf,\n",
    "    # cv=n_splits,\n",
    "    groups=groups,\n",
    "    n_jobs=n_jobs,\n",
    "    fit_params={\"verbose\": verbose},\n",
    "    return_estimator=True,\n",
    ")\n",
    "\n",
    "\n",
    "best_r2 = np.argmax(results[\"test_score\"])\n",
    "\n",
    "best_estimator = results[\"estimator\"][best_r2]\n"
   ]
  },
  {
   "cell_type": "code",
   "execution_count": 34,
   "metadata": {},
   "outputs": [],
   "source": [
    "res_table = pl.from_dict({k: v for k, v in results.items() if k!=\"estimator\"}).to_pandas()\n",
    "wb_table = wandb.Table(dataframe=res_table)"
   ]
  },
  {
   "cell_type": "code",
   "execution_count": 38,
   "metadata": {},
   "outputs": [
    {
     "data": {
      "text/plain": [
       "<wandb.data_types.Table at 0x7fac52958400>"
      ]
     },
     "execution_count": 38,
     "metadata": {},
     "output_type": "execute_result"
    }
   ],
   "source": [
    "wb_table"
   ]
  },
  {
   "cell_type": "code",
   "execution_count": 35,
   "metadata": {},
   "outputs": [],
   "source": [
    "wandb.log(\n",
    "{  \"base_table\":  {\"res_table\": wb_table, \n",
    "     \"best_r2\": best_r2}}\n",
    ")"
   ]
  },
  {
   "cell_type": "code",
   "execution_count": 36,
   "metadata": {},
   "outputs": [
    {
     "data": {
      "text/html": [
       "Waiting for W&B process to finish... <strong style=\"color:green\">(success).</strong>"
      ],
      "text/plain": [
       "<IPython.core.display.HTML object>"
      ]
     },
     "metadata": {},
     "output_type": "display_data"
    },
    {
     "name": "stderr",
     "output_type": "stream",
     "text": [
      "wandb: WARNING Source type is set to 'repo' but some required information is missing from the environment. A job will not be created from this run. See https://docs.wandb.ai/guides/launch/create-job\n"
     ]
    },
    {
     "data": {
      "text/html": [
       " View run <strong style=\"color:#cdcd00\">fanciful-snowflake-3</strong> at: <a href='https://wandb.ai/rcap107/debug/runs/g7tmxqej' target=\"_blank\">https://wandb.ai/rcap107/debug/runs/g7tmxqej</a><br/>Synced 5 W&B file(s), 1 media file(s), 1 artifact file(s) and 0 other file(s)"
      ],
      "text/plain": [
       "<IPython.core.display.HTML object>"
      ]
     },
     "metadata": {},
     "output_type": "display_data"
    },
    {
     "data": {
      "text/html": [
       "Find logs at: <code>./wandb/run-20230901_152530-g7tmxqej/logs</code>"
      ],
      "text/plain": [
       "<IPython.core.display.HTML object>"
      ]
     },
     "metadata": {},
     "output_type": "display_data"
    }
   ],
   "source": [
    "wandb.finish()"
   ]
  },
  {
   "cell_type": "markdown",
   "metadata": {},
   "source": [
    "### Preparing random split in two"
   ]
  },
  {
   "cell_type": "code",
   "execution_count": 7,
   "metadata": {},
   "outputs": [],
   "source": [
    "base_table_columns = base_table.columns\n",
    "base_table_columns.remove(\"col_to_embed\")\n"
   ]
  },
  {
   "cell_type": "code",
   "execution_count": 8,
   "metadata": {},
   "outputs": [
    {
     "data": {
      "text/plain": [
       "['name',\n",
       " 'domain',\n",
       " 'year founded',\n",
       " 'industry',\n",
       " 'size range',\n",
       " 'locality',\n",
       " 'country',\n",
       " 'linkedin url',\n",
       " 'target']"
      ]
     },
     "execution_count": 8,
     "metadata": {},
     "output_type": "execute_result"
    }
   ],
   "source": [
    "base_table_columns\n"
   ]
  },
  {
   "cell_type": "code",
   "execution_count": 9,
   "metadata": {},
   "outputs": [],
   "source": [
    "first_split = list(\n",
    "    np.random.choice(\n",
    "        base_table_columns, size=len(base_table_columns) // 2, replace=False\n",
    "    )\n",
    ")\n",
    "second_split = [_ for _ in base_table_columns if _ not in first_split]"
   ]
  },
  {
   "cell_type": "code",
   "execution_count": 10,
   "metadata": {},
   "outputs": [
    {
     "name": "stdout",
     "output_type": "stream",
     "text": [
      "['size range', 'domain', 'locality', 'linkedin url'] ['name', 'year founded', 'industry', 'country', 'target']\n"
     ]
    }
   ],
   "source": [
    "print(first_split, second_split)\n"
   ]
  },
  {
   "cell_type": "code",
   "execution_count": 11,
   "metadata": {},
   "outputs": [],
   "source": [
    "first_split.append(\"col_to_embed\")\n",
    "second_split.append(\"col_to_embed\")\n",
    "left_table = base_table.select(pl.col(first_split))\n",
    "right_table = base_table.select(pl.col(second_split))"
   ]
  },
  {
   "cell_type": "code",
   "execution_count": 12,
   "metadata": {},
   "outputs": [],
   "source": [
    "on = left_on = right_on = \"col_to_embed\"\n",
    "aggr_right = aggregate_table(right_table, right_on, aggregation_method=\"mean\")\n",
    "\n",
    "merged_table = execute_join(left_table, aggr_right, on=\"col_to_embed\")"
   ]
  },
  {
   "cell_type": "code",
   "execution_count": 13,
   "metadata": {},
   "outputs": [
    {
     "name": "stdout",
     "output_type": "stream",
     "text": [
      "0.7569\n"
     ]
    }
   ],
   "source": [
    "run_label, best_estimator, best_result = evaluate_single_table(\n",
    "    merged_table, \"target\", run_label=\"split_merge\", iterations=100, verbose=0\n",
    ")\n",
    "print(f\"{best_result:.4f}\")"
   ]
  },
  {
   "cell_type": "markdown",
   "metadata": {},
   "source": [
    "### Split table over all columns"
   ]
  },
  {
   "cell_type": "code",
   "execution_count": 14,
   "metadata": {},
   "outputs": [],
   "source": [
    "col_combinations = []\n",
    "for col in base_table.drop([\"target\", \"col_to_embed\"]).columns:\n",
    "    col_combinations.append([col, \"col_to_embed\"])\n",
    "col_combinations.append([\"target\", \"col_to_embed\"])\n"
   ]
  },
  {
   "cell_type": "code",
   "execution_count": 15,
   "metadata": {},
   "outputs": [
    {
     "name": "stdout",
     "output_type": "stream",
     "text": [
      "['name', 'col_to_embed'] : 0.00\n",
      "['domain', 'col_to_embed'] : 0.00\n",
      "['year founded', 'col_to_embed'] : 0.01\n",
      "['industry', 'col_to_embed'] : 0.04\n",
      "['size range', 'col_to_embed'] : 0.71\n",
      "['locality', 'col_to_embed'] : 0.02\n",
      "['country', 'col_to_embed'] : 0.02\n",
      "['linkedin url', 'col_to_embed'] : 0.00\n"
     ]
    }
   ],
   "source": [
    "for col_c in col_combinations:\n",
    "    if \"target\" not in col_c:\n",
    "        test_table = base_table.select(pl.col(col_c), pl.col(\"target\"))\n",
    "        run_label, best_estimator, best_result = evaluate_single_table(\n",
    "            test_table, \"target\", run_label=\"split_merge\", iterations=100, verbose=0\n",
    "        )\n",
    "        print(f\"{col_c} : {best_result:.2f}\")"
   ]
  },
  {
   "cell_type": "markdown",
   "metadata": {},
   "source": [
    "### Execute full join"
   ]
  },
  {
   "cell_type": "code",
   "execution_count": 16,
   "metadata": {},
   "outputs": [],
   "source": [
    "merged = base_table.select([\"col_to_embed\", \"target\"])\n",
    "for col_c in col_combinations:\n",
    "    if \"target\" not in col_c:\n",
    "        right_table = base_table.select(col_c)\n",
    "        on = left_on = right_on = [\"col_to_embed\"]\n",
    "        aggr_right = aggregate_table(right_table, right_on, aggregation_method=\"mean\")\n",
    "        merged = execute_join(\n",
    "            merged,\n",
    "            aggr_right,\n",
    "            left_on=left_on,\n",
    "            right_on=right_on,\n",
    "            how=\"left\",\n",
    "        )"
   ]
  },
  {
   "cell_type": "code",
   "execution_count": 17,
   "metadata": {},
   "outputs": [
    {
     "name": "stdout",
     "output_type": "stream",
     "text": [
      "0.74\n"
     ]
    }
   ],
   "source": [
    "run_label, best_estimator, best_result = evaluate_single_table(\n",
    "    merged, \"target\", run_label=\"full_join\", iterations=100, verbose=0\n",
    ")\n",
    "print(f\"{best_result:.2f}\")"
   ]
  },
  {
   "cell_type": "code",
   "execution_count": 18,
   "metadata": {},
   "outputs": [],
   "source": [
    "importances = pl.DataFrame(\n",
    "    list(zip(best_estimator.feature_names_, best_estimator.feature_importances_)),\n",
    "    schema=[\"feature_name\", \"feature_importance\"],\n",
    ")"
   ]
  },
  {
   "cell_type": "code",
   "execution_count": 19,
   "metadata": {},
   "outputs": [],
   "source": [
    "i_pd = (\n",
    "    importances.sort(\"feature_importance\")\n",
    "    .select(\n",
    "        pl.col(\"feature_name\"),\n",
    "        pl.col(\"feature_importance\").cumsum(),\n",
    "    )\n",
    "    .to_pandas()\n",
    ")"
   ]
  },
  {
   "cell_type": "code",
   "execution_count": 20,
   "metadata": {},
   "outputs": [],
   "source": [
    "seed_ = base_table.select(pl.col([\"col_to_embed\", \"target\"]))"
   ]
  },
  {
   "cell_type": "code",
   "execution_count": 21,
   "metadata": {},
   "outputs": [
    {
     "name": "stdout",
     "output_type": "stream",
     "text": [
      "('col_to_embed', 'name') | 0.00\n",
      "('col_to_embed', 'domain') | 0.00\n",
      "('col_to_embed', 'linkedin url') | 0.00\n",
      "('col_to_embed', 'locality') | 0.02\n",
      "('col_to_embed', 'year founded') | 0.03\n",
      "('col_to_embed', 'industry') | 0.05\n",
      "('col_to_embed', 'country') | 0.05\n",
      "('col_to_embed', 'size range') | 0.74\n"
     ]
    }
   ],
   "source": [
    "merged = seed_.clone()\n",
    "for r in importances.sort(\"feature_importance\", descending=False).iter_rows():\n",
    "    col, imp = r\n",
    "    if col == \"col_to_embed\":\n",
    "        continue\n",
    "    comb = (\"col_to_embed\", col)\n",
    "    right_table = base_table.select(comb)\n",
    "    on = left_on = right_on = [\"col_to_embed\"]\n",
    "    aggr_right = aggregate_table(right_table, right_on, aggregation_method=\"mean\")\n",
    "    merged = execute_join(\n",
    "        merged,\n",
    "        aggr_right,\n",
    "        left_on=left_on,\n",
    "        right_on=right_on,\n",
    "        how=\"left\",\n",
    "    )\n",
    "    run_label, best_estimator, best_result = evaluate_single_table(\n",
    "        merged, \"target\", run_label=\"full_join\", iterations=100, verbose=0\n",
    "    )\n",
    "    print(f\"{comb} | {best_result:.2f}\")"
   ]
  },
  {
   "cell_type": "markdown",
   "metadata": {},
   "source": [
    "### Adding a fake \"class\" column"
   ]
  },
  {
   "cell_type": "code",
   "execution_count": 22,
   "metadata": {},
   "outputs": [],
   "source": [
    "base_table_aug = base_table.with_columns(\n",
    "    pl.when(pl.col(\"target\") > 1.5).then(1).otherwise(0).alias(\"class\")\n",
    ")\n"
   ]
  },
  {
   "cell_type": "code",
   "execution_count": 23,
   "metadata": {},
   "outputs": [
    {
     "name": "stdout",
     "output_type": "stream",
     "text": [
      "0.74\n"
     ]
    }
   ],
   "source": [
    "run_label, best_estimator, best_result = evaluate_single_table(\n",
    "    base_table_aug, \"target\", run_label=\"split_merge\", iterations=100, verbose=0\n",
    ")\n",
    "print(f\"{best_result:.2f}\")"
   ]
  },
  {
   "cell_type": "markdown",
   "metadata": {},
   "source": [
    "# Manually evaluating join candidates"
   ]
  },
  {
   "cell_type": "markdown",
   "metadata": {},
   "source": [
    "### Querying index"
   ]
  },
  {
   "cell_type": "code",
   "execution_count": 37,
   "metadata": {},
   "outputs": [],
   "source": [
    "top_k = 50\n",
    "selected_index = \"minhash\"\n",
    "index_path = Path(index_dir, selected_index + \"_index.pickle\")\n",
    "minhash_index = pipeline.load_index(index_path, tab_name)\n",
    "\n",
    "query_tab_metadata = RawDataset(\n",
    "    query_tab_path.resolve(), \"queries\", \"data/metadata/queries\"\n",
    ")\n",
    "query_tab_metadata.save_metadata_to_json()\n",
    "query_column = \"col_to_embed\"\n",
    "query = base_table[query_column].drop_nulls()\n",
    "query_results = minhash_index.query_index(query)\n",
    "candidates = pipeline.generate_candidates(\n",
    "    \"minhash\",\n",
    "    query_results,\n",
    "    mdata_index,\n",
    "    query_tab_metadata.metadata,\n",
    "    query_column,\n",
    "    top_k,\n",
    ")"
   ]
  },
  {
   "cell_type": "code",
   "execution_count": 38,
   "metadata": {},
   "outputs": [],
   "source": [
    "k, candidate_join = next(iter(candidates.items()))"
   ]
  },
  {
   "cell_type": "code",
   "execution_count": 39,
   "metadata": {},
   "outputs": [],
   "source": [
    "src_md, cnd_md, left_on, right_on = candidate_join.get_join_information()\n",
    "src_df = pl.read_parquet(src_md[\"full_path\"])\n",
    "cnd_df = pl.read_parquet(cnd_md[\"full_path\"])\n",
    "cols_to_agg = [col for col in cnd_df.columns if col not in right_on]"
   ]
  },
  {
   "cell_type": "code",
   "execution_count": 40,
   "metadata": {},
   "outputs": [
    {
     "data": {
      "text/plain": [
       "['type', 'hasWonPrize', 'hasLatitude']"
      ]
     },
     "execution_count": 40,
     "metadata": {},
     "output_type": "execute_result"
    }
   ],
   "source": [
    "cols_to_agg\n"
   ]
  },
  {
   "cell_type": "code",
   "execution_count": 41,
   "metadata": {},
   "outputs": [],
   "source": [
    "def get_importances(model, left_col, right_col, key_col):\n",
    "    k_d = {col: 0 for col in key_col}\n",
    "    l_d = {col: 1 for col in left_col}\n",
    "    r_d = {col: 2 for col in right_col}\n",
    "    d = dict(**k_d, **l_d, **r_d)\n",
    "\n",
    "    importances = pl.DataFrame(\n",
    "        list(zip(model.feature_names_, model.feature_importances_)),\n",
    "        schema=[\"feature_name\", \"feature_importance\"],\n",
    "    )\n",
    "    return importances.with_columns(pl.col(\"feature_name\").alias(\"source\").map_dict(d))\n",
    "\n",
    "\n",
    "def get_fraction_missing(table, col_subset):\n",
    "    return (\n",
    "        table.select((pl.col(col_subset).is_null().sum() / len(table)))\n",
    "        .mean(axis=1)\n",
    "        .item()\n",
    "    )\n",
    "\n",
    "\n",
    "def get_imp_frac(imp):\n",
    "    return (\n",
    "        imp.melt(id_vars=\"source\", value_vars=\"feature_importance\")\n",
    "        .pivot(\n",
    "            index=\"variable\",\n",
    "            values=\"value\",\n",
    "            columns=\"source\",\n",
    "            aggregate_function=\"mean\",\n",
    "        )\n",
    "        .select(\n",
    "            pl.col(\"0\").alias(\"imp_key\"),\n",
    "            pl.col(\"1\").alias(\"imp_left\"),\n",
    "            pl.col(\"2\").alias(\"imp_right\"),\n",
    "        )\n",
    "        .to_dicts()[0]\n",
    "    )"
   ]
  },
  {
   "cell_type": "code",
   "execution_count": 48,
   "metadata": {},
   "outputs": [
    {
     "name": "stdout",
     "output_type": "stream",
     "text": [
      "-1.5033811711084866e-06\n"
     ]
    }
   ],
   "source": [
    "results = []\n",
    "run_label, best_estimator, best_result = evaluate_single_table(\n",
    "    base_table, \"target\", run_label=\"base_table\", iterations=100, verbose=0\n",
    ")\n",
    "\n",
    "base_result = best_result\n",
    "print(base_result)\n",
    "left_col = [col for col in base_table.columns]\n",
    "\n",
    "imp = get_importances(best_estimator, left_col, [], [])\n",
    "frac_imp = {\"imp_key\": 0, \"imp_left\": 1, \"imp_right\": 0}\n",
    "r_dict = {\n",
    "    \"df_name\": \"base_table\",\n",
    "    \"r2\": best_result,\n",
    "    \"frac_null\": 0,\n",
    "}\n",
    "\n",
    "r_dict.update(frac_imp)\n",
    "results.append(r_dict)"
   ]
  },
  {
   "cell_type": "code",
   "execution_count": 49,
   "metadata": {},
   "outputs": [
    {
     "name": "stdout",
     "output_type": "stream",
     "text": [
      "  1/50 : 0.0153\n",
      "  2/50 : 0.0106\n",
      "  3/50 : -0.0000\n",
      "  4/50 : -0.0000\n",
      "  5/50 : 0.0004\n",
      "  6/50 : 0.0052\n",
      "  7/50 : 0.0737\n",
      "  8/50 : -0.0000\n",
      "  9/50 : -0.0000\n",
      " 10/50 : 0.0050\n",
      " 11/50 : -0.0000\n",
      " 12/50 : 0.0014\n",
      " 13/50 : -0.0000\n",
      " 14/50 : 0.0051\n",
      " 15/50 : 0.0004\n",
      " 16/50 : 0.0001\n",
      " 17/50 : -0.0000\n",
      " 18/50 : 0.0004\n",
      " 19/50 : 0.0143\n",
      " 20/50 : 0.0001\n",
      " 21/50 : -0.0000\n",
      " 22/50 : 0.0742\n",
      " 23/50 : 0.0016\n",
      " 24/50 : 0.0011\n",
      " 25/50 : 0.0744\n",
      " 26/50 : 0.0044\n",
      " 27/50 : 0.0005\n",
      " 28/50 : 0.0011\n",
      " 29/50 : 0.0759\n",
      " 30/50 : 0.0101\n",
      " 31/50 : -0.0000\n",
      " 32/50 : -0.0000\n",
      " 33/50 : -0.0000\n",
      " 34/50 : 0.0120\n",
      " 35/50 : 0.0049\n",
      " 36/50 : 0.0902\n",
      " 37/50 : 0.0085\n",
      " 38/50 : 0.0825\n",
      " 39/50 : 0.0005\n",
      " 40/50 : 0.0087\n",
      " 41/50 : 0.0008\n",
      " 42/50 : 0.0898\n",
      " 43/50 : 0.0116\n",
      " 44/50 : 0.0086\n",
      " 45/50 : 0.0023\n",
      " 46/50 : 0.0008\n",
      " 47/50 : 0.0838\n",
      " 48/50 : 0.0087\n",
      " 49/50 : 0.0079\n",
      " 50/50 : 0.0875\n"
     ]
    }
   ],
   "source": [
    "for idx, (k, candidate_join) in enumerate(candidates.items()):\n",
    "    src_md, cnd_md, left_on, right_on = candidate_join.get_join_information()\n",
    "    src_df = pl.read_parquet(src_md[\"full_path\"])\n",
    "    cnd_df = pl.read_parquet(cnd_md[\"full_path\"])\n",
    "\n",
    "    aggr_right = aggregate_table(cnd_df, right_on, aggregation_method=\"mean\")\n",
    "    merged = execute_join(\n",
    "        base_table,\n",
    "        aggr_right,\n",
    "        left_on=left_on,\n",
    "        right_on=right_on,\n",
    "        how=\"left\",\n",
    "        suffix=\"_right\",\n",
    "    )\n",
    "    left_col = [col for col in base_table.columns if col not in left_on]\n",
    "    key_col = left_on\n",
    "    right_col = [col for col in merged.columns if col not in (left_col + left_on)]\n",
    "\n",
    "    run_label, best_estimator, best_result = evaluate_single_table(\n",
    "        merged, \"target\", run_label=\"full_join\", iterations=100, verbose=0\n",
    "    )\n",
    "    print(f\"{idx+1:>3}/{len(candidates)} : {best_result:.4f}\")\n",
    "    imp = get_importances(best_estimator, left_col, right_col, key_col)\n",
    "    try:\n",
    "        frac_imp = get_imp_frac(imp)\n",
    "        frac_null = get_fraction_missing(merged, right_col)\n",
    "    except Exception:\n",
    "        continue\n",
    "    r_dict = {\n",
    "        \"df_name\": cnd_md[\"df_name\"],\n",
    "        \"r2\": best_result,\n",
    "        \"frac_null\": frac_null,\n",
    "        \"n_left_col\": len(left_col),\n",
    "        \"n_right_col\": len(right_col),\n",
    "        \"n_key_col\": len(key_col),\n",
    "    }\n",
    "    r_dict.update(frac_imp)\n",
    "    results.append(r_dict)\n",
    "\n",
    "df_results = pl.from_dicts(\n",
    "    results,\n",
    ")"
   ]
  },
  {
   "cell_type": "code",
   "execution_count": 51,
   "metadata": {},
   "outputs": [
    {
     "data": {
      "text/html": [
       "<div><style>\n",
       ".dataframe > thead > tr > th,\n",
       ".dataframe > tbody > tr > td {\n",
       "  text-align: right;\n",
       "}\n",
       "</style>\n",
       "<small>shape: (1, 7)</small><table border=\"1\" class=\"dataframe\"><thead><tr><th>df_name</th><th>r2</th><th>frac_null</th><th>imp_key</th><th>imp_left</th><th>imp_right</th><th>difference</th></tr><tr><td>str</td><td>f64</td><td>i64</td><td>i64</td><td>i64</td><td>i64</td><td>f64</td></tr></thead><tbody><tr><td>&quot;base_table&quot;</td><td>-0.000002</td><td>0</td><td>0</td><td>1</td><td>0</td><td>0.0</td></tr></tbody></table></div>"
      ],
      "text/plain": [
       "shape: (1, 7)\n",
       "┌────────────┬───────────┬───────────┬─────────┬──────────┬───────────┬────────────┐\n",
       "│ df_name    ┆ r2        ┆ frac_null ┆ imp_key ┆ imp_left ┆ imp_right ┆ difference │\n",
       "│ ---        ┆ ---       ┆ ---       ┆ ---     ┆ ---      ┆ ---       ┆ ---        │\n",
       "│ str        ┆ f64       ┆ i64       ┆ i64     ┆ i64      ┆ i64       ┆ f64        │\n",
       "╞════════════╪═══════════╪═══════════╪═════════╪══════════╪═══════════╪════════════╡\n",
       "│ base_table ┆ -0.000002 ┆ 0         ┆ 0       ┆ 1        ┆ 0         ┆ 0.0        │\n",
       "└────────────┴───────────┴───────────┴─────────┴──────────┴───────────┴────────────┘"
      ]
     },
     "execution_count": 51,
     "metadata": {},
     "output_type": "execute_result"
    }
   ],
   "source": [
    "df_results = df_results.with_columns(\n",
    "    ((pl.col(\"r2\") / base_result - 1) * 100).alias(\"difference\")\n",
    ").sort(\"difference\")\n",
    "df_results"
   ]
  },
  {
   "cell_type": "code",
   "execution_count": 32,
   "metadata": {},
   "outputs": [
    {
     "data": {
      "text/html": [
       "<div><style>\n",
       ".dataframe > thead > tr > th,\n",
       ".dataframe > tbody > tr > td {\n",
       "  text-align: right;\n",
       "}\n",
       "</style>\n",
       "<small>shape: (1, 2)</small><table border=\"1\" class=\"dataframe\"><thead><tr><th>corr_imp_right</th><th>corr_frac_null</th></tr><tr><td>f64</td><td>f64</td></tr></thead><tbody><tr><td>0.947282</td><td>-0.252482</td></tr></tbody></table></div>"
      ],
      "text/plain": [
       "shape: (1, 2)\n",
       "┌────────────────┬────────────────┐\n",
       "│ corr_imp_right ┆ corr_frac_null │\n",
       "│ ---            ┆ ---            │\n",
       "│ f64            ┆ f64            │\n",
       "╞════════════════╪════════════════╡\n",
       "│ 0.947282       ┆ -0.252482      │\n",
       "└────────────────┴────────────────┘"
      ]
     },
     "execution_count": 32,
     "metadata": {},
     "output_type": "execute_result"
    }
   ],
   "source": [
    "df_results.select(\n",
    "    pl.corr(\"r2\", \"imp_right\").alias(\"corr_imp_right\"),\n",
    "    pl.corr(\"r2\", \"frac_null\").alias(\"corr_frac_null\"),\n",
    ")\n"
   ]
  },
  {
   "cell_type": "code",
   "execution_count": 33,
   "metadata": {},
   "outputs": [
    {
     "data": {
      "text/html": [
       "<div><style>\n",
       ".dataframe > thead > tr > th,\n",
       ".dataframe > tbody > tr > td {\n",
       "  text-align: right;\n",
       "}\n",
       "</style>\n",
       "<small>shape: (51, 10)</small><table border=\"1\" class=\"dataframe\"><thead><tr><th>df_name</th><th>r2</th><th>frac_null</th><th>imp_key</th><th>imp_left</th><th>imp_right</th><th>n_left_col</th><th>n_right_col</th><th>n_key_col</th><th>difference</th></tr><tr><td>str</td><td>f64</td><td>f64</td><td>f64</td><td>f64</td><td>f64</td><td>i64</td><td>i64</td><td>i64</td><td>f64</td></tr></thead><tbody><tr><td>&quot;yagowordnet_cp_wordnet_organization&quot;</td><td>0.739066</td><td>0.999586</td><td>4.387541</td><td>11.924473</td><td>0.015477</td><td>9</td><td>14</td><td>1</td><td>-0.339556</td></tr><tr><td>&quot;wordnet_organization_isLocatedIn_wasDestroyedOnDate&quot;</td><td>0.739761</td><td>0.998928</td><td>7.031409</td><td>11.596687</td><td>0.065032</td><td>9</td><td>3</td><td>1</td><td>-0.245801</td></tr><tr><td>&quot;wordnet_organization_isLocatedIn_participatedIn&quot;</td><td>0.739761</td><td>0.998928</td><td>7.031409</td><td>11.596687</td><td>0.065032</td><td>9</td><td>3</td><td>1</td><td>-0.245801</td></tr><tr><td>&quot;wordnet_organization_isLocatedIn_isAffiliatedTo&quot;</td><td>0.739761</td><td>0.998928</td><td>7.031409</td><td>11.596687</td><td>0.065032</td><td>9</td><td>3</td><td>1</td><td>-0.245801</td></tr><tr><td>&quot;wordnet_organization_isLocatedIn_hasBudget&quot;</td><td>0.739761</td><td>0.998928</td><td>7.031409</td><td>11.596687</td><td>0.065032</td><td>9</td><td>3</td><td>1</td><td>-0.245801</td></tr><tr><td>&quot;wordnet_organization_hasWonPrize_isLocatedIn&quot;</td><td>0.739761</td><td>0.998928</td><td>7.031409</td><td>11.596687</td><td>0.065032</td><td>9</td><td>3</td><td>1</td><td>-0.245801</td></tr><tr><td>&quot;wordnet_organization_hasExpenses_isLocatedIn&quot;</td><td>0.739761</td><td>0.998928</td><td>7.031409</td><td>11.596687</td><td>0.065032</td><td>9</td><td>3</td><td>1</td><td>-0.245801</td></tr><tr><td>&quot;wordnet_organization_isLocatedIn_hasDuration&quot;</td><td>0.739761</td><td>0.998928</td><td>7.031409</td><td>11.596687</td><td>0.065032</td><td>9</td><td>3</td><td>1</td><td>-0.245801</td></tr><tr><td>&quot;wordnet_organization_isLocatedIn_hasMotto&quot;</td><td>0.739761</td><td>0.998928</td><td>7.031409</td><td>11.596687</td><td>0.065032</td><td>9</td><td>3</td><td>1</td><td>-0.245801</td></tr><tr><td>&quot;wordnet_organization_isLocatedIn_created&quot;</td><td>0.739761</td><td>0.998928</td><td>7.031409</td><td>11.596687</td><td>0.065032</td><td>9</td><td>3</td><td>1</td><td>-0.245801</td></tr><tr><td>&hellip;</td><td>&hellip;</td><td>&hellip;</td><td>&hellip;</td><td>&hellip;</td><td>&hellip;</td><td>&hellip;</td><td>&hellip;</td><td>&hellip;</td><td>&hellip;</td></tr><tr><td>&quot;wordnet_organization_isLocatedIn_hasLatitude&quot;</td><td>0.743687</td><td>0.998606</td><td>0.0</td><td>12.467597</td><td>0.086409</td><td>9</td><td>3</td><td>1</td><td>0.283529</td></tr><tr><td>&quot;wordnet_company_wasDestroyedOnDate_hasRevenue&quot;</td><td>0.747774</td><td>0.847754</td><td>1.034644</td><td>11.905298</td><td>1.24099</td><td>9</td><td>3</td><td>1</td><td>0.834672</td></tr><tr><td>&quot;wordnet_company_hasWonPrize_hasRevenue&quot;</td><td>0.749334</td><td>0.847861</td><td>0.0</td><td>12.08539</td><td>1.105626</td><td>9</td><td>3</td><td>1</td><td>1.04505</td></tr><tr><td>&quot;wordnet_company_isAffiliatedTo_hasRevenue&quot;</td><td>0.750247</td><td>0.850756</td><td>0.0</td><td>12.010642</td><td>1.304955</td><td>9</td><td>3</td><td>1</td><td>1.168101</td></tr><tr><td>&quot;wordnet_company_hasMotto_created&quot;</td><td>0.751481</td><td>0.911225</td><td>0.379276</td><td>11.441778</td><td>2.695501</td><td>9</td><td>3</td><td>1</td><td>1.334575</td></tr><tr><td>&quot;wordnet_company_wasDestroyedOnDate_created&quot;</td><td>0.751826</td><td>0.907258</td><td>6.138489</td><td>10.719367</td><td>2.702193</td><td>9</td><td>3</td><td>1</td><td>1.381047</td></tr><tr><td>&quot;wordnet_company_participatedIn_created&quot;</td><td>0.751908</td><td>0.910797</td><td>0.0</td><td>11.548218</td><td>2.538085</td><td>9</td><td>3</td><td>1</td><td>1.392085</td></tr><tr><td>&quot;wordnet_company_isAffiliatedTo_created&quot;</td><td>0.754592</td><td>0.909832</td><td>4.487334</td><td>11.084327</td><td>2.27935</td><td>9</td><td>3</td><td>1</td><td>1.754034</td></tr><tr><td>&quot;wordnet_company_hasMotto_owns&quot;</td><td>0.756554</td><td>0.827383</td><td>0.0</td><td>11.41528</td><td>2.892587</td><td>9</td><td>3</td><td>1</td><td>2.018672</td></tr><tr><td>&quot;wordnet_company_wasDestroyedOnDate_owns&quot;</td><td>0.757563</td><td>0.824274</td><td>1.228755</td><td>11.434157</td><td>2.432663</td><td>9</td><td>3</td><td>1</td><td>2.154633</td></tr></tbody></table></div>"
      ],
      "text/plain": [
       "shape: (51, 10)\n",
       "┌────────────┬──────────┬───────────┬──────────┬───┬──────────┬───────────┬───────────┬────────────┐\n",
       "│ df_name    ┆ r2       ┆ frac_null ┆ imp_key  ┆ … ┆ n_left_c ┆ n_right_c ┆ n_key_col ┆ difference │\n",
       "│ ---        ┆ ---      ┆ ---       ┆ ---      ┆   ┆ ol       ┆ ol        ┆ ---       ┆ ---        │\n",
       "│ str        ┆ f64      ┆ f64       ┆ f64      ┆   ┆ ---      ┆ ---       ┆ i64       ┆ f64        │\n",
       "│            ┆          ┆           ┆          ┆   ┆ i64      ┆ i64       ┆           ┆            │\n",
       "╞════════════╪══════════╪═══════════╪══════════╪═══╪══════════╪═══════════╪═══════════╪════════════╡\n",
       "│ yagowordne ┆ 0.739066 ┆ 0.999586  ┆ 4.387541 ┆ … ┆ 9        ┆ 14        ┆ 1         ┆ -0.339556  │\n",
       "│ t_cp_wordn ┆          ┆           ┆          ┆   ┆          ┆           ┆           ┆            │\n",
       "│ et_organiz ┆          ┆           ┆          ┆   ┆          ┆           ┆           ┆            │\n",
       "│ ation      ┆          ┆           ┆          ┆   ┆          ┆           ┆           ┆            │\n",
       "│ wordnet_or ┆ 0.739761 ┆ 0.998928  ┆ 7.031409 ┆ … ┆ 9        ┆ 3         ┆ 1         ┆ -0.245801  │\n",
       "│ ganization ┆          ┆           ┆          ┆   ┆          ┆           ┆           ┆            │\n",
       "│ _isLocated ┆          ┆           ┆          ┆   ┆          ┆           ┆           ┆            │\n",
       "│ In_wasDest ┆          ┆           ┆          ┆   ┆          ┆           ┆           ┆            │\n",
       "│ royedOnDat ┆          ┆           ┆          ┆   ┆          ┆           ┆           ┆            │\n",
       "│ e          ┆          ┆           ┆          ┆   ┆          ┆           ┆           ┆            │\n",
       "│ wordnet_or ┆ 0.739761 ┆ 0.998928  ┆ 7.031409 ┆ … ┆ 9        ┆ 3         ┆ 1         ┆ -0.245801  │\n",
       "│ ganization ┆          ┆           ┆          ┆   ┆          ┆           ┆           ┆            │\n",
       "│ _isLocated ┆          ┆           ┆          ┆   ┆          ┆           ┆           ┆            │\n",
       "│ In_partici ┆          ┆           ┆          ┆   ┆          ┆           ┆           ┆            │\n",
       "│ patedIn    ┆          ┆           ┆          ┆   ┆          ┆           ┆           ┆            │\n",
       "│ wordnet_or ┆ 0.739761 ┆ 0.998928  ┆ 7.031409 ┆ … ┆ 9        ┆ 3         ┆ 1         ┆ -0.245801  │\n",
       "│ ganization ┆          ┆           ┆          ┆   ┆          ┆           ┆           ┆            │\n",
       "│ _isLocated ┆          ┆           ┆          ┆   ┆          ┆           ┆           ┆            │\n",
       "│ In_isAffil ┆          ┆           ┆          ┆   ┆          ┆           ┆           ┆            │\n",
       "│ iatedTo    ┆          ┆           ┆          ┆   ┆          ┆           ┆           ┆            │\n",
       "│ wordnet_or ┆ 0.739761 ┆ 0.998928  ┆ 7.031409 ┆ … ┆ 9        ┆ 3         ┆ 1         ┆ -0.245801  │\n",
       "│ ganization ┆          ┆           ┆          ┆   ┆          ┆           ┆           ┆            │\n",
       "│ _isLocated ┆          ┆           ┆          ┆   ┆          ┆           ┆           ┆            │\n",
       "│ In_hasBudg ┆          ┆           ┆          ┆   ┆          ┆           ┆           ┆            │\n",
       "│ et         ┆          ┆           ┆          ┆   ┆          ┆           ┆           ┆            │\n",
       "│ wordnet_or ┆ 0.739761 ┆ 0.998928  ┆ 7.031409 ┆ … ┆ 9        ┆ 3         ┆ 1         ┆ -0.245801  │\n",
       "│ ganization ┆          ┆           ┆          ┆   ┆          ┆           ┆           ┆            │\n",
       "│ _hasWonPri ┆          ┆           ┆          ┆   ┆          ┆           ┆           ┆            │\n",
       "│ ze_isLocat ┆          ┆           ┆          ┆   ┆          ┆           ┆           ┆            │\n",
       "│ edIn       ┆          ┆           ┆          ┆   ┆          ┆           ┆           ┆            │\n",
       "│ wordnet_or ┆ 0.739761 ┆ 0.998928  ┆ 7.031409 ┆ … ┆ 9        ┆ 3         ┆ 1         ┆ -0.245801  │\n",
       "│ ganization ┆          ┆           ┆          ┆   ┆          ┆           ┆           ┆            │\n",
       "│ _hasExpens ┆          ┆           ┆          ┆   ┆          ┆           ┆           ┆            │\n",
       "│ es_isLocat ┆          ┆           ┆          ┆   ┆          ┆           ┆           ┆            │\n",
       "│ edIn       ┆          ┆           ┆          ┆   ┆          ┆           ┆           ┆            │\n",
       "│ wordnet_or ┆ 0.739761 ┆ 0.998928  ┆ 7.031409 ┆ … ┆ 9        ┆ 3         ┆ 1         ┆ -0.245801  │\n",
       "│ ganization ┆          ┆           ┆          ┆   ┆          ┆           ┆           ┆            │\n",
       "│ _isLocated ┆          ┆           ┆          ┆   ┆          ┆           ┆           ┆            │\n",
       "│ In_hasDura ┆          ┆           ┆          ┆   ┆          ┆           ┆           ┆            │\n",
       "│ tion       ┆          ┆           ┆          ┆   ┆          ┆           ┆           ┆            │\n",
       "│ wordnet_or ┆ 0.739761 ┆ 0.998928  ┆ 7.031409 ┆ … ┆ 9        ┆ 3         ┆ 1         ┆ -0.245801  │\n",
       "│ ganization ┆          ┆           ┆          ┆   ┆          ┆           ┆           ┆            │\n",
       "│ _isLocated ┆          ┆           ┆          ┆   ┆          ┆           ┆           ┆            │\n",
       "│ In_hasMott ┆          ┆           ┆          ┆   ┆          ┆           ┆           ┆            │\n",
       "│ o          ┆          ┆           ┆          ┆   ┆          ┆           ┆           ┆            │\n",
       "│ wordnet_or ┆ 0.739761 ┆ 0.998928  ┆ 7.031409 ┆ … ┆ 9        ┆ 3         ┆ 1         ┆ -0.245801  │\n",
       "│ ganization ┆          ┆           ┆          ┆   ┆          ┆           ┆           ┆            │\n",
       "│ _isLocated ┆          ┆           ┆          ┆   ┆          ┆           ┆           ┆            │\n",
       "│ In_created ┆          ┆           ┆          ┆   ┆          ┆           ┆           ┆            │\n",
       "│ …          ┆ …        ┆ …         ┆ …        ┆ … ┆ …        ┆ …         ┆ …         ┆ …          │\n",
       "│ wordnet_or ┆ 0.743687 ┆ 0.998606  ┆ 0.0      ┆ … ┆ 9        ┆ 3         ┆ 1         ┆ 0.283529   │\n",
       "│ ganization ┆          ┆           ┆          ┆   ┆          ┆           ┆           ┆            │\n",
       "│ _isLocated ┆          ┆           ┆          ┆   ┆          ┆           ┆           ┆            │\n",
       "│ In_hasLati ┆          ┆           ┆          ┆   ┆          ┆           ┆           ┆            │\n",
       "│ tude       ┆          ┆           ┆          ┆   ┆          ┆           ┆           ┆            │\n",
       "│ wordnet_co ┆ 0.747774 ┆ 0.847754  ┆ 1.034644 ┆ … ┆ 9        ┆ 3         ┆ 1         ┆ 0.834672   │\n",
       "│ mpany_wasD ┆          ┆           ┆          ┆   ┆          ┆           ┆           ┆            │\n",
       "│ estroyedOn ┆          ┆           ┆          ┆   ┆          ┆           ┆           ┆            │\n",
       "│ Date_hasRe ┆          ┆           ┆          ┆   ┆          ┆           ┆           ┆            │\n",
       "│ venue      ┆          ┆           ┆          ┆   ┆          ┆           ┆           ┆            │\n",
       "│ wordnet_co ┆ 0.749334 ┆ 0.847861  ┆ 0.0      ┆ … ┆ 9        ┆ 3         ┆ 1         ┆ 1.04505    │\n",
       "│ mpany_hasW ┆          ┆           ┆          ┆   ┆          ┆           ┆           ┆            │\n",
       "│ onPrize_ha ┆          ┆           ┆          ┆   ┆          ┆           ┆           ┆            │\n",
       "│ sRevenue   ┆          ┆           ┆          ┆   ┆          ┆           ┆           ┆            │\n",
       "│ wordnet_co ┆ 0.750247 ┆ 0.850756  ┆ 0.0      ┆ … ┆ 9        ┆ 3         ┆ 1         ┆ 1.168101   │\n",
       "│ mpany_isAf ┆          ┆           ┆          ┆   ┆          ┆           ┆           ┆            │\n",
       "│ filiatedTo ┆          ┆           ┆          ┆   ┆          ┆           ┆           ┆            │\n",
       "│ _hasRevenu ┆          ┆           ┆          ┆   ┆          ┆           ┆           ┆            │\n",
       "│ e          ┆          ┆           ┆          ┆   ┆          ┆           ┆           ┆            │\n",
       "│ wordnet_co ┆ 0.751481 ┆ 0.911225  ┆ 0.379276 ┆ … ┆ 9        ┆ 3         ┆ 1         ┆ 1.334575   │\n",
       "│ mpany_hasM ┆          ┆           ┆          ┆   ┆          ┆           ┆           ┆            │\n",
       "│ otto_creat ┆          ┆           ┆          ┆   ┆          ┆           ┆           ┆            │\n",
       "│ ed         ┆          ┆           ┆          ┆   ┆          ┆           ┆           ┆            │\n",
       "│ wordnet_co ┆ 0.751826 ┆ 0.907258  ┆ 6.138489 ┆ … ┆ 9        ┆ 3         ┆ 1         ┆ 1.381047   │\n",
       "│ mpany_wasD ┆          ┆           ┆          ┆   ┆          ┆           ┆           ┆            │\n",
       "│ estroyedOn ┆          ┆           ┆          ┆   ┆          ┆           ┆           ┆            │\n",
       "│ Date_creat ┆          ┆           ┆          ┆   ┆          ┆           ┆           ┆            │\n",
       "│ ed         ┆          ┆           ┆          ┆   ┆          ┆           ┆           ┆            │\n",
       "│ wordnet_co ┆ 0.751908 ┆ 0.910797  ┆ 0.0      ┆ … ┆ 9        ┆ 3         ┆ 1         ┆ 1.392085   │\n",
       "│ mpany_part ┆          ┆           ┆          ┆   ┆          ┆           ┆           ┆            │\n",
       "│ icipatedIn ┆          ┆           ┆          ┆   ┆          ┆           ┆           ┆            │\n",
       "│ _created   ┆          ┆           ┆          ┆   ┆          ┆           ┆           ┆            │\n",
       "│ wordnet_co ┆ 0.754592 ┆ 0.909832  ┆ 4.487334 ┆ … ┆ 9        ┆ 3         ┆ 1         ┆ 1.754034   │\n",
       "│ mpany_isAf ┆          ┆           ┆          ┆   ┆          ┆           ┆           ┆            │\n",
       "│ filiatedTo ┆          ┆           ┆          ┆   ┆          ┆           ┆           ┆            │\n",
       "│ _created   ┆          ┆           ┆          ┆   ┆          ┆           ┆           ┆            │\n",
       "│ wordnet_co ┆ 0.756554 ┆ 0.827383  ┆ 0.0      ┆ … ┆ 9        ┆ 3         ┆ 1         ┆ 2.018672   │\n",
       "│ mpany_hasM ┆          ┆           ┆          ┆   ┆          ┆           ┆           ┆            │\n",
       "│ otto_owns  ┆          ┆           ┆          ┆   ┆          ┆           ┆           ┆            │\n",
       "│ wordnet_co ┆ 0.757563 ┆ 0.824274  ┆ 1.228755 ┆ … ┆ 9        ┆ 3         ┆ 1         ┆ 2.154633   │\n",
       "│ mpany_wasD ┆          ┆           ┆          ┆   ┆          ┆           ┆           ┆            │\n",
       "│ estroyedOn ┆          ┆           ┆          ┆   ┆          ┆           ┆           ┆            │\n",
       "│ Date_owns  ┆          ┆           ┆          ┆   ┆          ┆           ┆           ┆            │\n",
       "└────────────┴──────────┴───────────┴──────────┴───┴──────────┴───────────┴───────────┴────────────┘"
      ]
     },
     "execution_count": 33,
     "metadata": {},
     "output_type": "execute_result"
    }
   ],
   "source": [
    "df_results.with_columns(\n",
    "    ((pl.col(\"r2\") / base_result - 1) * 100).alias(\"difference\")\n",
    ").sort(\"difference\")"
   ]
  },
  {
   "cell_type": "code",
   "execution_count": 34,
   "metadata": {},
   "outputs": [
    {
     "ename": "NameError",
     "evalue": "name 'target' is not defined",
     "output_type": "error",
     "traceback": [
      "\u001b[0;31m---------------------------------------------------------------------------\u001b[0m",
      "\u001b[0;31mNameError\u001b[0m                                 Traceback (most recent call last)",
      "Cell \u001b[0;32mIn[34], line 2\u001b[0m\n\u001b[1;32m      1\u001b[0m left_col \u001b[39m=\u001b[39m [col \u001b[39mfor\u001b[39;00m col \u001b[39min\u001b[39;00m base_table\u001b[39m.\u001b[39mcolumns \u001b[39mif\u001b[39;00m col \u001b[39mnot\u001b[39;00m \u001b[39min\u001b[39;00m left_on]\n\u001b[0;32m----> 2\u001b[0m right_col \u001b[39m=\u001b[39m [col \u001b[39mfor\u001b[39;00m col \u001b[39min\u001b[39;00m target\u001b[39m.\u001b[39mcolumns \u001b[39mif\u001b[39;00m col \u001b[39mnot\u001b[39;00m \u001b[39min\u001b[39;00m right_on]\n\u001b[1;32m      3\u001b[0m key_col \u001b[39m=\u001b[39m left_on\n\u001b[1;32m      5\u001b[0m aggr_right \u001b[39m=\u001b[39m aggregate_table(target, right_on, aggregation_method\u001b[39m=\u001b[39m\u001b[39m\"\u001b[39m\u001b[39mmean\u001b[39m\u001b[39m\"\u001b[39m)\n",
      "\u001b[0;31mNameError\u001b[0m: name 'target' is not defined"
     ]
    }
   ],
   "source": [
    "left_col = [col for col in base_table.columns if col not in left_on]\n",
    "right_col = [col for col in target.columns if col not in right_on]\n",
    "key_col = left_on\n",
    "\n",
    "aggr_right = aggregate_table(target, right_on, aggregation_method=\"mean\")\n",
    "merged = execute_join(\n",
    "    base_table,\n",
    "    aggr_right,\n",
    "    left_on=left_on,\n",
    "    right_on=right_on,\n",
    "    how=\"left\",\n",
    ")\n",
    "\n",
    "run_label, best_estimator, best_result = evaluate_single_table(\n",
    "    merged, \"target\", run_label=\"full_join\", iterations=100, verbose=0\n",
    ")\n",
    "print(best_result)\n",
    "imp = get_importances(best_estimator, left_col, right_col, key_col)"
   ]
  },
  {
   "cell_type": "code",
   "execution_count": null,
   "metadata": {},
   "outputs": [
    {
     "data": {
      "text/html": [
       "<div><style>\n",
       ".dataframe > thead > tr > th,\n",
       ".dataframe > tbody > tr > td {\n",
       "  text-align: right;\n",
       "}\n",
       "</style>\n",
       "<small>shape: (3, 2)</small><table border=\"1\" class=\"dataframe\"><thead><tr><th>source</th><th>feature_importance</th></tr><tr><td>i64</td><td>f64</td></tr></thead><tbody><tr><td>0</td><td>5.615749</td></tr><tr><td>1</td><td>91.334566</td></tr><tr><td>2</td><td>3.049685</td></tr></tbody></table></div>"
      ],
      "text/plain": [
       "shape: (3, 2)\n",
       "┌────────┬────────────────────┐\n",
       "│ source ┆ feature_importance │\n",
       "│ ---    ┆ ---                │\n",
       "│ i64    ┆ f64                │\n",
       "╞════════╪════════════════════╡\n",
       "│ 0      ┆ 5.615749           │\n",
       "│ 1      ┆ 91.334566          │\n",
       "│ 2      ┆ 3.049685           │\n",
       "└────────┴────────────────────┘"
      ]
     },
     "execution_count": 67,
     "metadata": {},
     "output_type": "execute_result"
    }
   ],
   "source": [
    "imp.groupby(\"source\").agg(pl.sum(\"feature_importance\"))"
   ]
  },
  {
   "cell_type": "code",
   "execution_count": null,
   "metadata": {},
   "outputs": [
    {
     "data": {
      "text/html": [
       "<div><style>\n",
       ".dataframe > thead > tr > th,\n",
       ".dataframe > tbody > tr > td {\n",
       "  text-align: right;\n",
       "}\n",
       "</style>\n",
       "<small>shape: (31, 3)</small><table border=\"1\" class=\"dataframe\"><thead><tr><th>feature_name</th><th>feature_importance</th><th>source</th></tr><tr><td>str</td><td>f64</td><td>i64</td></tr></thead><tbody><tr><td>&quot;col_to_embed&quot;</td><td>36.553675</td><td>1</td></tr><tr><td>&quot;county_name&quot;</td><td>0.0</td><td>0</td></tr><tr><td>&quot;party&quot;</td><td>61.699804</td><td>1</td></tr><tr><td>&quot;local_education_agency_lea&quot;</td><td>0.043022</td><td>2</td></tr><tr><td>&quot;lea_type&quot;</td><td>0.038553</td><td>2</td></tr><tr><td>&quot;school_name&quot;</td><td>0.000195</td><td>2</td></tr><tr><td>&quot;administrative_unit_number_aun&quot;</td><td>0.120865</td><td>2</td></tr><tr><td>&quot;county_code&quot;</td><td>0.153815</td><td>2</td></tr><tr><td>&quot;school_number&quot;</td><td>0.084684</td><td>2</td></tr><tr><td>&quot;pre_kindergarten_am&quot;</td><td>0.055207</td><td>2</td></tr><tr><td>&hellip;</td><td>&hellip;</td><td>&hellip;</td></tr><tr><td>&quot;_4th_grade&quot;</td><td>0.083694</td><td>2</td></tr><tr><td>&quot;_5th_grade&quot;</td><td>0.040476</td><td>2</td></tr><tr><td>&quot;_6th_grade&quot;</td><td>0.034748</td><td>2</td></tr><tr><td>&quot;_7th_grade&quot;</td><td>0.006309</td><td>2</td></tr><tr><td>&quot;_8th_grade&quot;</td><td>0.043874</td><td>2</td></tr><tr><td>&quot;_9th_grade&quot;</td><td>0.068171</td><td>2</td></tr><tr><td>&quot;_10th_grade&quot;</td><td>0.033835</td><td>2</td></tr><tr><td>&quot;_11th_grade&quot;</td><td>0.08238</td><td>2</td></tr><tr><td>&quot;_12th_grade&quot;</td><td>0.047954</td><td>2</td></tr><tr><td>&quot;total&quot;</td><td>0.048435</td><td>2</td></tr></tbody></table></div>"
      ],
      "text/plain": [
       "shape: (31, 3)\n",
       "┌────────────────────────────────┬────────────────────┬────────┐\n",
       "│ feature_name                   ┆ feature_importance ┆ source │\n",
       "│ ---                            ┆ ---                ┆ ---    │\n",
       "│ str                            ┆ f64                ┆ i64    │\n",
       "╞════════════════════════════════╪════════════════════╪════════╡\n",
       "│ col_to_embed                   ┆ 36.553675          ┆ 1      │\n",
       "│ county_name                    ┆ 0.0                ┆ 0      │\n",
       "│ party                          ┆ 61.699804          ┆ 1      │\n",
       "│ local_education_agency_lea     ┆ 0.043022           ┆ 2      │\n",
       "│ lea_type                       ┆ 0.038553           ┆ 2      │\n",
       "│ school_name                    ┆ 0.000195           ┆ 2      │\n",
       "│ administrative_unit_number_aun ┆ 0.120865           ┆ 2      │\n",
       "│ county_code                    ┆ 0.153815           ┆ 2      │\n",
       "│ school_number                  ┆ 0.084684           ┆ 2      │\n",
       "│ pre_kindergarten_am            ┆ 0.055207           ┆ 2      │\n",
       "│ …                              ┆ …                  ┆ …      │\n",
       "│ _4th_grade                     ┆ 0.083694           ┆ 2      │\n",
       "│ _5th_grade                     ┆ 0.040476           ┆ 2      │\n",
       "│ _6th_grade                     ┆ 0.034748           ┆ 2      │\n",
       "│ _7th_grade                     ┆ 0.006309           ┆ 2      │\n",
       "│ _8th_grade                     ┆ 0.043874           ┆ 2      │\n",
       "│ _9th_grade                     ┆ 0.068171           ┆ 2      │\n",
       "│ _10th_grade                    ┆ 0.033835           ┆ 2      │\n",
       "│ _11th_grade                    ┆ 0.08238            ┆ 2      │\n",
       "│ _12th_grade                    ┆ 0.047954           ┆ 2      │\n",
       "│ total                          ┆ 0.048435           ┆ 2      │\n",
       "└────────────────────────────────┴────────────────────┴────────┘"
      ]
     },
     "execution_count": 90,
     "metadata": {},
     "output_type": "execute_result"
    }
   ],
   "source": [
    "imp\n"
   ]
  },
  {
   "cell_type": "code",
   "execution_count": null,
   "metadata": {},
   "outputs": [
    {
     "data": {
      "text/html": [
       "<div><style>\n",
       ".dataframe > thead > tr > th,\n",
       ".dataframe > tbody > tr > td {\n",
       "  text-align: right;\n",
       "}\n",
       "</style>\n",
       "<small>shape: (1, 1)</small><table border=\"1\" class=\"dataframe\"><thead><tr><th>r2</th></tr><tr><td>f64</td></tr></thead><tbody><tr><td>0.783251</td></tr></tbody></table></div>"
      ],
      "text/plain": [
       "shape: (1, 1)\n",
       "┌──────────┐\n",
       "│ r2       │\n",
       "│ ---      │\n",
       "│ f64      │\n",
       "╞══════════╡\n",
       "│ 0.783251 │\n",
       "└──────────┘"
      ]
     },
     "metadata": {},
     "output_type": "display_data"
    }
   ],
   "source": [
    "df_results.select(pl.corr(\"r2\", \"frac_null\"))\n"
   ]
  },
  {
   "cell_type": "markdown",
   "metadata": {},
   "source": [
    "### Plot importances"
   ]
  },
  {
   "cell_type": "code",
   "execution_count": null,
   "metadata": {},
   "outputs": [
    {
     "ename": "NameError",
     "evalue": "name 'd' is not defined",
     "output_type": "error",
     "traceback": [
      "\u001b[0;31m---------------------------------------------------------------------------\u001b[0m",
      "\u001b[0;31mNameError\u001b[0m                                 Traceback (most recent call last)",
      "Cell \u001b[0;32mIn[42], line 8\u001b[0m\n\u001b[1;32m      1\u001b[0m cmap \u001b[39m=\u001b[39m {\n\u001b[1;32m      2\u001b[0m     \u001b[39m0\u001b[39m: \u001b[39m\"\u001b[39m\u001b[39mred\u001b[39m\u001b[39m\"\u001b[39m,\n\u001b[1;32m      3\u001b[0m     \u001b[39m1\u001b[39m: \u001b[39m\"\u001b[39m\u001b[39mblue\u001b[39m\u001b[39m\"\u001b[39m,\n\u001b[1;32m      4\u001b[0m     \u001b[39m2\u001b[39m: \u001b[39m\"\u001b[39m\u001b[39mgreen\u001b[39m\u001b[39m\"\u001b[39m\n\u001b[1;32m      5\u001b[0m }\n\u001b[1;32m      7\u001b[0m i_df \u001b[39m=\u001b[39m imp\u001b[39m.\u001b[39mwith_columns(\n\u001b[0;32m----> 8\u001b[0m     pl\u001b[39m.\u001b[39mcol(\u001b[39m\"\u001b[39m\u001b[39mfeature_name\u001b[39m\u001b[39m\"\u001b[39m)\u001b[39m.\u001b[39malias(\u001b[39m\"\u001b[39m\u001b[39msource\u001b[39m\u001b[39m\"\u001b[39m)\u001b[39m.\u001b[39mmap_dict(d)\n\u001b[1;32m      9\u001b[0m )\u001b[39m.\u001b[39mto_pandas()\n\u001b[1;32m     10\u001b[0m i_df[\u001b[39m\"\u001b[39m\u001b[39mcolor\u001b[39m\u001b[39m\"\u001b[39m] \u001b[39m=\u001b[39m i_df[\u001b[39m\"\u001b[39m\u001b[39msource\u001b[39m\u001b[39m\"\u001b[39m]\u001b[39m.\u001b[39mmap(cmap)\n",
      "\u001b[0;31mNameError\u001b[0m: name 'd' is not defined"
     ]
    }
   ],
   "source": [
    "cmap = {0: \"red\", 1: \"blue\", 2: \"green\"}\n",
    "\n",
    "i_df = imp.with_columns(pl.col(\"feature_name\").alias(\"source\").map_dict(d)).to_pandas()\n",
    "i_df[\"color\"] = i_df[\"source\"].map(cmap)"
   ]
  },
  {
   "cell_type": "code",
   "execution_count": null,
   "metadata": {},
   "outputs": [
    {
     "data": {
      "text/plain": [
       "<BarContainer object of 15 artists>"
      ]
     },
     "execution_count": 41,
     "metadata": {},
     "output_type": "execute_result"
    },
    {
     "data": {
      "image/png": "[encoded data removed]",
      "text/plain": [
       "<Figure size 640x480 with 1 Axes>"
      ]
     },
     "metadata": {},
     "output_type": "display_data"
    }
   ],
   "source": [
    "plt.bar(data=i_df, x=\"feature_name\", height=\"feature_importance\", color=i_df[\"color\"])\n"
   ]
  },
  {
   "cell_type": "code",
   "execution_count": null,
   "metadata": {},
   "outputs": [],
   "source": []
  },
  {
   "cell_type": "code",
   "execution_count": null,
   "metadata": {},
   "outputs": [],
   "source": []
  }
 ],
 "metadata": {
  "kernelspec": {
   "display_name": "bench",
   "language": "python",
   "name": "python3"
  },
  "language_info": {
   "codemirror_mode": {
    "name": "ipython",
    "version": 3
   },
   "file_extension": ".py",
   "mimetype": "text/x-python",
   "name": "python",
   "nbconvert_exporter": "python",
   "pygments_lexer": "ipython3",
   "version": "3.10.10"
  },
  "orig_nbformat": 4
 },
 "nbformat": 4,
 "nbformat_minor": 2
}
