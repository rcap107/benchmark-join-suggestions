{
 "cells": [
  {
   "cell_type": "markdown",
   "metadata": {},
   "source": [
    "This notebook is used to study the effect of the chosen aggregation on the pipeline performance. "
   ]
  },
  {
   "cell_type": "code",
   "execution_count": 9,
   "metadata": {},
   "outputs": [
    {
     "name": "stdout",
     "output_type": "stream",
     "text": [
      "/home/soda/rcappuzz/work/benchmark-join-suggestions\n"
     ]
    }
   ],
   "source": [
    "cd ~/bench"
   ]
  },
  {
   "cell_type": "code",
   "execution_count": 10,
   "metadata": {},
   "outputs": [
    {
     "name": "stdout",
     "output_type": "stream",
     "text": [
      "/home/soda/rcappuzz/work/benchmark-join-suggestions\n"
     ]
    }
   ],
   "source": [
    "cd ~/bench"
   ]
  },
  {
   "cell_type": "code",
   "execution_count": 11,
   "metadata": {},
   "outputs": [
    {
     "name": "stdout",
     "output_type": "stream",
     "text": [
      "The autoreload extension is already loaded. To reload it, use:\n",
      "  %reload_ext autoreload\n"
     ]
    }
   ],
   "source": [
    "%load_ext autoreload\n",
    "%autoreload 2\n",
    "import polars as pl\n",
    "import seaborn as sns\n",
    "import matplotlib.pyplot as plt\n",
    "from pathlib import Path\n",
    "import numpy as np\n",
    "import matplotlib.colors as mcolors\n",
    "import matplotlib as mpl\n",
    "import src.utils.plotting as plotting\n",
    "from src.utils.logging import read_logs, read_and_process\n",
    "from matplotlib.gridspec import GridSpec\n",
    "import polars.selectors as cs\n",
    "\n",
    "import tarfile\n",
    "import json\n",
    "import pandas as pd \n",
    "cfg = pl.Config()\n",
    "cfg.set_fmt_str_lengths(150)\n",
    "LABEL_MAPPING = plotting.LABEL_MAPPING"
   ]
  },
  {
   "cell_type": "code",
   "execution_count": 12,
   "metadata": {},
   "outputs": [],
   "source": [
    "df = pl.read_parquet(\"results/overall/wordnet_aggr_linear.parquet\")"
   ]
  },
  {
   "cell_type": "code",
   "execution_count": null,
   "metadata": {},
   "outputs": [],
   "source": [
    "plotting.draw_pair_comparison(\n",
    "    current_results,\n",
    "    var,\n",
    "    form_factor=form_factor,\n",
    "    scatterplot_dimension=scatter_d,\n",
    "    figsize=figsize,\n",
    "    scatter_mode=\"split\",\n",
    "    savefig=True,\n",
    "    savefig_type=[\"png\", \"pdf\"],\n",
    "    savefig_tag=\"open_data\",\n",
    "    case=case,\n",
    "    colormap_name=\"Set1\",\n",
    ")\n"
   ]
  }
 ],
 "metadata": {
  "kernelspec": {
   "display_name": "Python 3",
   "language": "python",
   "name": "python3"
  },
  "language_info": {
   "codemirror_mode": {
    "name": "ipython",
    "version": 3
   },
   "file_extension": ".py",
   "mimetype": "text/x-python",
   "name": "python",
   "nbconvert_exporter": "python",
   "pygments_lexer": "ipython3",
   "version": "3.10.0"
  }
 },
 "nbformat": 4,
 "nbformat_minor": 2
}
