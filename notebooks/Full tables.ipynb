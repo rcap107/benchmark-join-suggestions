{
 "cells": [
  {
   "cell_type": "code",
   "execution_count": 1,
   "metadata": {},
   "outputs": [
    {
     "name": "stdout",
     "output_type": "stream",
     "text": [
      "/home/soda/rcappuzz/work/benchmark-join-suggestions\n"
     ]
    }
   ],
   "source": [
    "cd ~/bench"
   ]
  },
  {
   "cell_type": "code",
   "execution_count": 2,
   "metadata": {},
   "outputs": [],
   "source": [
    "import polars as pl"
   ]
  },
  {
   "cell_type": "code",
   "execution_count": 10,
   "metadata": {},
   "outputs": [],
   "source": [
    "df_full = pl.read_parquet(\"results/overall/wordnet_general_first_full-tables.parquet\")\n",
    "df_dep = pl.read_parquet(\"results/overall/wordnet_general_first.parquet\")"
   ]
  },
  {
   "cell_type": "code",
   "execution_count": 11,
   "metadata": {},
   "outputs": [
    {
     "data": {
      "text/html": [
       "<div><style>\n",
       ".dataframe > thead > tr,\n",
       ".dataframe > tbody > tr {\n",
       "  text-align: right;\n",
       "  white-space: pre-wrap;\n",
       "}\n",
       "</style>\n",
       "<small>shape: (30, 3)</small><table border=\"1\" class=\"dataframe\"><thead><tr><th>base_table</th><th>estimator</th><th>r2score</th></tr><tr><td>str</td><td>str</td><td>f64</td></tr></thead><tbody><tr><td>&quot;company_employ…</td><td>&quot;best_single_jo…</td><td>0.725684</td></tr><tr><td>&quot;company_employ…</td><td>&quot;full_join&quot;</td><td>0.725813</td></tr><tr><td>&quot;company_employ…</td><td>&quot;highest_contai…</td><td>0.728485</td></tr><tr><td>&quot;company_employ…</td><td>&quot;nojoin&quot;</td><td>0.708723</td></tr><tr><td>&quot;company_employ…</td><td>&quot;stepwise_greed…</td><td>0.730441</td></tr><tr><td>&quot;housing_prices…</td><td>&quot;best_single_jo…</td><td>0.687932</td></tr><tr><td>&quot;housing_prices…</td><td>&quot;full_join&quot;</td><td>0.684671</td></tr><tr><td>&quot;housing_prices…</td><td>&quot;highest_contai…</td><td>0.688642</td></tr><tr><td>&quot;housing_prices…</td><td>&quot;nojoin&quot;</td><td>0.679878</td></tr><tr><td>&quot;housing_prices…</td><td>&quot;stepwise_greed…</td><td>0.69054</td></tr><tr><td>&quot;movies-yadl&quot;</td><td>&quot;best_single_jo…</td><td>0.502684</td></tr><tr><td>&quot;movies-yadl&quot;</td><td>&quot;full_join&quot;</td><td>0.464096</td></tr><tr><td>&hellip;</td><td>&hellip;</td><td>&hellip;</td></tr><tr><td>&quot;movies_vote-ya…</td><td>&quot;nojoin&quot;</td><td>0.377144</td></tr><tr><td>&quot;movies_vote-ya…</td><td>&quot;stepwise_greed…</td><td>0.362287</td></tr><tr><td>&quot;us_accidents-y…</td><td>&quot;best_single_jo…</td><td>0.789461</td></tr><tr><td>&quot;us_accidents-y…</td><td>&quot;full_join&quot;</td><td>0.783659</td></tr><tr><td>&quot;us_accidents-y…</td><td>&quot;highest_contai…</td><td>0.777381</td></tr><tr><td>&quot;us_accidents-y…</td><td>&quot;nojoin&quot;</td><td>0.770976</td></tr><tr><td>&quot;us_accidents-y…</td><td>&quot;stepwise_greed…</td><td>0.791958</td></tr><tr><td>&quot;us_elections-y…</td><td>&quot;best_single_jo…</td><td>0.676322</td></tr><tr><td>&quot;us_elections-y…</td><td>&quot;full_join&quot;</td><td>0.675651</td></tr><tr><td>&quot;us_elections-y…</td><td>&quot;highest_contai…</td><td>0.6779</td></tr><tr><td>&quot;us_elections-y…</td><td>&quot;nojoin&quot;</td><td>0.670269</td></tr><tr><td>&quot;us_elections-y…</td><td>&quot;stepwise_greed…</td><td>0.676598</td></tr></tbody></table></div>"
      ],
      "text/plain": [
       "shape: (30, 3)\n",
       "┌────────────────────────┬──────────────────────┬──────────┐\n",
       "│ base_table             ┆ estimator            ┆ r2score  │\n",
       "│ ---                    ┆ ---                  ┆ ---      │\n",
       "│ str                    ┆ str                  ┆ f64      │\n",
       "╞════════════════════════╪══════════════════════╪══════════╡\n",
       "│ company_employees-yadl ┆ best_single_join     ┆ 0.725684 │\n",
       "│ company_employees-yadl ┆ full_join            ┆ 0.725813 │\n",
       "│ company_employees-yadl ┆ highest_containment  ┆ 0.728485 │\n",
       "│ company_employees-yadl ┆ nojoin               ┆ 0.708723 │\n",
       "│ company_employees-yadl ┆ stepwise_greedy_join ┆ 0.730441 │\n",
       "│ …                      ┆ …                    ┆ …        │\n",
       "│ us_elections-yadl      ┆ best_single_join     ┆ 0.676322 │\n",
       "│ us_elections-yadl      ┆ full_join            ┆ 0.675651 │\n",
       "│ us_elections-yadl      ┆ highest_containment  ┆ 0.6779   │\n",
       "│ us_elections-yadl      ┆ nojoin               ┆ 0.670269 │\n",
       "│ us_elections-yadl      ┆ stepwise_greedy_join ┆ 0.676598 │\n",
       "└────────────────────────┴──────────────────────┴──────────┘"
      ]
     },
     "execution_count": 11,
     "metadata": {},
     "output_type": "execute_result"
    }
   ],
   "source": [
    "df_full.group_by([\"base_table\", \"estimator\"]).agg(\n",
    "    pl.col(\"r2score\").mean()\n",
    ").sort(\"base_table\", \"estimator\")"
   ]
  },
  {
   "cell_type": "code",
   "execution_count": 20,
   "metadata": {},
   "outputs": [],
   "source": [
    "df_full = df_full.with_columns(pl.lit(\"full\").alias(\"tab_version\"), pl.col(\"base_table\").str.split(\"-\").list.first().alias(\"case\"))\n",
    "df_dep = df_dep.with_columns(pl.lit(\"dep\").alias(\"tab_version\"), pl.col(\"base_table\").str.split(\"-\").list.first().alias(\"case\"))\n",
    "df = pl.concat([df_full, df_dep])"
   ]
  },
  {
   "cell_type": "code",
   "execution_count": 25,
   "metadata": {},
   "outputs": [],
   "source": [
    "ddd = df.filter(pl.col(\"jd_method\") == \"exact_matching\").to_pandas().pivot_table(values=[\"r2score\"], columns=[\"estimator\", \"tab_version\"], index=[\"case\"], aggfunc=\"mean\")"
   ]
  },
  {
   "cell_type": "code",
   "execution_count": 28,
   "metadata": {},
   "outputs": [
    {
     "data": {
      "text/html": [
       "<style type=\"text/css\">\n",
       "</style>\n",
       "<table id=\"T_bf702\">\n",
       "  <thead>\n",
       "    <tr>\n",
       "      <th class=\"blank level0\" >&nbsp;</th>\n",
       "      <th id=\"T_bf702_level0_col0\" class=\"col_heading level0 col0\" colspan=\"10\">r2score</th>\n",
       "    </tr>\n",
       "    <tr>\n",
       "      <th class=\"index_name level1\" >estimator</th>\n",
       "      <th id=\"T_bf702_level1_col0\" class=\"col_heading level1 col0\" colspan=\"2\">best_single_join</th>\n",
       "      <th id=\"T_bf702_level1_col2\" class=\"col_heading level1 col2\" colspan=\"2\">full_join</th>\n",
       "      <th id=\"T_bf702_level1_col4\" class=\"col_heading level1 col4\" colspan=\"2\">highest_containment</th>\n",
       "      <th id=\"T_bf702_level1_col6\" class=\"col_heading level1 col6\" colspan=\"2\">nojoin</th>\n",
       "      <th id=\"T_bf702_level1_col8\" class=\"col_heading level1 col8\" colspan=\"2\">stepwise_greedy_join</th>\n",
       "    </tr>\n",
       "    <tr>\n",
       "      <th class=\"index_name level2\" >tab_version</th>\n",
       "      <th id=\"T_bf702_level2_col0\" class=\"col_heading level2 col0\" >dep</th>\n",
       "      <th id=\"T_bf702_level2_col1\" class=\"col_heading level2 col1\" >full</th>\n",
       "      <th id=\"T_bf702_level2_col2\" class=\"col_heading level2 col2\" >dep</th>\n",
       "      <th id=\"T_bf702_level2_col3\" class=\"col_heading level2 col3\" >full</th>\n",
       "      <th id=\"T_bf702_level2_col4\" class=\"col_heading level2 col4\" >dep</th>\n",
       "      <th id=\"T_bf702_level2_col5\" class=\"col_heading level2 col5\" >full</th>\n",
       "      <th id=\"T_bf702_level2_col6\" class=\"col_heading level2 col6\" >dep</th>\n",
       "      <th id=\"T_bf702_level2_col7\" class=\"col_heading level2 col7\" >full</th>\n",
       "      <th id=\"T_bf702_level2_col8\" class=\"col_heading level2 col8\" >dep</th>\n",
       "      <th id=\"T_bf702_level2_col9\" class=\"col_heading level2 col9\" >full</th>\n",
       "    </tr>\n",
       "    <tr>\n",
       "      <th class=\"index_name level0\" >case</th>\n",
       "      <th class=\"blank col0\" >&nbsp;</th>\n",
       "      <th class=\"blank col1\" >&nbsp;</th>\n",
       "      <th class=\"blank col2\" >&nbsp;</th>\n",
       "      <th class=\"blank col3\" >&nbsp;</th>\n",
       "      <th class=\"blank col4\" >&nbsp;</th>\n",
       "      <th class=\"blank col5\" >&nbsp;</th>\n",
       "      <th class=\"blank col6\" >&nbsp;</th>\n",
       "      <th class=\"blank col7\" >&nbsp;</th>\n",
       "      <th class=\"blank col8\" >&nbsp;</th>\n",
       "      <th class=\"blank col9\" >&nbsp;</th>\n",
       "    </tr>\n",
       "  </thead>\n",
       "  <tbody>\n",
       "    <tr>\n",
       "      <th id=\"T_bf702_level0_row0\" class=\"row_heading level0 row0\" >company_employees</th>\n",
       "      <td id=\"T_bf702_row0_col0\" class=\"data row0 col0\" >0.22</td>\n",
       "      <td id=\"T_bf702_row0_col1\" class=\"data row0 col1\" >0.72</td>\n",
       "      <td id=\"T_bf702_row0_col2\" class=\"data row0 col2\" >0.22</td>\n",
       "      <td id=\"T_bf702_row0_col3\" class=\"data row0 col3\" >0.72</td>\n",
       "      <td id=\"T_bf702_row0_col4\" class=\"data row0 col4\" >0.24</td>\n",
       "      <td id=\"T_bf702_row0_col5\" class=\"data row0 col5\" >0.73</td>\n",
       "      <td id=\"T_bf702_row0_col6\" class=\"data row0 col6\" >-0.00</td>\n",
       "      <td id=\"T_bf702_row0_col7\" class=\"data row0 col7\" >0.70</td>\n",
       "      <td id=\"T_bf702_row0_col8\" class=\"data row0 col8\" >0.24</td>\n",
       "      <td id=\"T_bf702_row0_col9\" class=\"data row0 col9\" >0.73</td>\n",
       "    </tr>\n",
       "    <tr>\n",
       "      <th id=\"T_bf702_level0_row1\" class=\"row_heading level0 row1\" >housing_prices</th>\n",
       "      <td id=\"T_bf702_row1_col0\" class=\"data row1 col0\" >0.56</td>\n",
       "      <td id=\"T_bf702_row1_col1\" class=\"data row1 col1\" >0.69</td>\n",
       "      <td id=\"T_bf702_row1_col2\" class=\"data row1 col2\" >0.55</td>\n",
       "      <td id=\"T_bf702_row1_col3\" class=\"data row1 col3\" >0.68</td>\n",
       "      <td id=\"T_bf702_row1_col4\" class=\"data row1 col4\" >0.52</td>\n",
       "      <td id=\"T_bf702_row1_col5\" class=\"data row1 col5\" >0.69</td>\n",
       "      <td id=\"T_bf702_row1_col6\" class=\"data row1 col6\" >-0.00</td>\n",
       "      <td id=\"T_bf702_row1_col7\" class=\"data row1 col7\" >0.68</td>\n",
       "      <td id=\"T_bf702_row1_col8\" class=\"data row1 col8\" >0.56</td>\n",
       "      <td id=\"T_bf702_row1_col9\" class=\"data row1 col9\" >0.69</td>\n",
       "    </tr>\n",
       "    <tr>\n",
       "      <th id=\"T_bf702_level0_row2\" class=\"row_heading level0 row2\" >movies</th>\n",
       "      <td id=\"T_bf702_row2_col0\" class=\"data row2 col0\" >0.04</td>\n",
       "      <td id=\"T_bf702_row2_col1\" class=\"data row2 col1\" >0.50</td>\n",
       "      <td id=\"T_bf702_row2_col2\" class=\"data row2 col2\" >-0.05</td>\n",
       "      <td id=\"T_bf702_row2_col3\" class=\"data row2 col3\" >0.44</td>\n",
       "      <td id=\"T_bf702_row2_col4\" class=\"data row2 col4\" >0.01</td>\n",
       "      <td id=\"T_bf702_row2_col5\" class=\"data row2 col5\" >0.50</td>\n",
       "      <td id=\"T_bf702_row2_col6\" class=\"data row2 col6\" >-0.00</td>\n",
       "      <td id=\"T_bf702_row2_col7\" class=\"data row2 col7\" >0.50</td>\n",
       "      <td id=\"T_bf702_row2_col8\" class=\"data row2 col8\" >0.03</td>\n",
       "      <td id=\"T_bf702_row2_col9\" class=\"data row2 col9\" >0.50</td>\n",
       "    </tr>\n",
       "    <tr>\n",
       "      <th id=\"T_bf702_level0_row3\" class=\"row_heading level0 row3\" >movies_vote</th>\n",
       "      <td id=\"T_bf702_row3_col0\" class=\"data row3 col0\" >0.01</td>\n",
       "      <td id=\"T_bf702_row3_col1\" class=\"data row3 col1\" >0.37</td>\n",
       "      <td id=\"T_bf702_row3_col2\" class=\"data row3 col2\" >-0.07</td>\n",
       "      <td id=\"T_bf702_row3_col3\" class=\"data row3 col3\" >0.32</td>\n",
       "      <td id=\"T_bf702_row3_col4\" class=\"data row3 col4\" >-0.01</td>\n",
       "      <td id=\"T_bf702_row3_col5\" class=\"data row3 col5\" >0.38</td>\n",
       "      <td id=\"T_bf702_row3_col6\" class=\"data row3 col6\" >-0.00</td>\n",
       "      <td id=\"T_bf702_row3_col7\" class=\"data row3 col7\" >0.39</td>\n",
       "      <td id=\"T_bf702_row3_col8\" class=\"data row3 col8\" >0.01</td>\n",
       "      <td id=\"T_bf702_row3_col9\" class=\"data row3 col9\" >0.37</td>\n",
       "    </tr>\n",
       "    <tr>\n",
       "      <th id=\"T_bf702_level0_row4\" class=\"row_heading level0 row4\" >us_accidents</th>\n",
       "      <td id=\"T_bf702_row4_col0\" class=\"data row4 col0\" >0.48</td>\n",
       "      <td id=\"T_bf702_row4_col1\" class=\"data row4 col1\" >0.80</td>\n",
       "      <td id=\"T_bf702_row4_col2\" class=\"data row4 col2\" >0.49</td>\n",
       "      <td id=\"T_bf702_row4_col3\" class=\"data row4 col3\" >0.78</td>\n",
       "      <td id=\"T_bf702_row4_col4\" class=\"data row4 col4\" >0.48</td>\n",
       "      <td id=\"T_bf702_row4_col5\" class=\"data row4 col5\" >0.80</td>\n",
       "      <td id=\"T_bf702_row4_col6\" class=\"data row4 col6\" >-0.00</td>\n",
       "      <td id=\"T_bf702_row4_col7\" class=\"data row4 col7\" >0.77</td>\n",
       "      <td id=\"T_bf702_row4_col8\" class=\"data row4 col8\" >0.49</td>\n",
       "      <td id=\"T_bf702_row4_col9\" class=\"data row4 col9\" >0.79</td>\n",
       "    </tr>\n",
       "    <tr>\n",
       "      <th id=\"T_bf702_level0_row5\" class=\"row_heading level0 row5\" >us_county_population</th>\n",
       "      <td id=\"T_bf702_row5_col0\" class=\"data row5 col0\" >0.44</td>\n",
       "      <td id=\"T_bf702_row5_col1\" class=\"data row5 col1\" >nan</td>\n",
       "      <td id=\"T_bf702_row5_col2\" class=\"data row5 col2\" >0.42</td>\n",
       "      <td id=\"T_bf702_row5_col3\" class=\"data row5 col3\" >nan</td>\n",
       "      <td id=\"T_bf702_row5_col4\" class=\"data row5 col4\" >0.45</td>\n",
       "      <td id=\"T_bf702_row5_col5\" class=\"data row5 col5\" >nan</td>\n",
       "      <td id=\"T_bf702_row5_col6\" class=\"data row5 col6\" >-0.00</td>\n",
       "      <td id=\"T_bf702_row5_col7\" class=\"data row5 col7\" >nan</td>\n",
       "      <td id=\"T_bf702_row5_col8\" class=\"data row5 col8\" >0.43</td>\n",
       "      <td id=\"T_bf702_row5_col9\" class=\"data row5 col9\" >nan</td>\n",
       "    </tr>\n",
       "    <tr>\n",
       "      <th id=\"T_bf702_level0_row6\" class=\"row_heading level0 row6\" >us_elections</th>\n",
       "      <td id=\"T_bf702_row6_col0\" class=\"data row6 col0\" >-0.04</td>\n",
       "      <td id=\"T_bf702_row6_col1\" class=\"data row6 col1\" >0.68</td>\n",
       "      <td id=\"T_bf702_row6_col2\" class=\"data row6 col2\" >0.05</td>\n",
       "      <td id=\"T_bf702_row6_col3\" class=\"data row6 col3\" >0.67</td>\n",
       "      <td id=\"T_bf702_row6_col4\" class=\"data row6 col4\" >0.03</td>\n",
       "      <td id=\"T_bf702_row6_col5\" class=\"data row6 col5\" >0.68</td>\n",
       "      <td id=\"T_bf702_row6_col6\" class=\"data row6 col6\" >-0.07</td>\n",
       "      <td id=\"T_bf702_row6_col7\" class=\"data row6 col7\" >0.67</td>\n",
       "      <td id=\"T_bf702_row6_col8\" class=\"data row6 col8\" >0.02</td>\n",
       "      <td id=\"T_bf702_row6_col9\" class=\"data row6 col9\" >0.68</td>\n",
       "    </tr>\n",
       "  </tbody>\n",
       "</table>\n"
      ],
      "text/plain": [
       "<pandas.io.formats.style.Styler at 0x7fa55b1dbdc0>"
      ]
     },
     "execution_count": 28,
     "metadata": {},
     "output_type": "execute_result"
    }
   ],
   "source": [
    "ddd.style.format(\"{:.2f}\")"
   ]
  },
  {
   "cell_type": "code",
   "execution_count": null,
   "metadata": {},
   "outputs": [],
   "source": []
  }
 ],
 "metadata": {
  "kernelspec": {
   "display_name": "Python 3",
   "language": "python",
   "name": "python3"
  },
  "language_info": {
   "codemirror_mode": {
    "name": "ipython",
    "version": 3
   },
   "file_extension": ".py",
   "mimetype": "text/x-python",
   "name": "python",
   "nbconvert_exporter": "python",
   "pygments_lexer": "ipython3",
   "version": "3.10.0"
  }
 },
 "nbformat": 4,
 "nbformat_minor": 2
}
