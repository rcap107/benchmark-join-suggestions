{
 "cells": [
  {
   "cell_type": "code",
   "execution_count": 1,
   "metadata": {},
   "outputs": [
    {
     "name": "stdout",
     "output_type": "stream",
     "text": [
      "/home/soda/rcappuzz/work/benchmark-join-suggestions\n"
     ]
    }
   ],
   "source": [
    "%cd .."
   ]
  },
  {
   "cell_type": "code",
   "execution_count": 3,
   "metadata": {},
   "outputs": [],
   "source": [
    "import json\n",
    "import os\n",
    "from pathlib import Path\n",
    "\n",
    "import matplotlib.pyplot as plt\n",
    "import numpy as np\n",
    "import pandas as pd\n",
    "import polars as pl\n",
    "import sklearn.metrics as metrics\n",
    "from joblib import Parallel, delayed, dump, load\n",
    "from tqdm import tqdm\n",
    "import seaborn as sns\n",
    "import polars.selectors as cs\n",
    "\n",
    "from joblib import load\n",
    "\n",
    "import src.methods.profiling as jp\n",
    "from src.data_structures.join_discovery_methods import MinHashIndex"
   ]
  },
  {
   "cell_type": "code",
   "execution_count": 11,
   "metadata": {},
   "outputs": [
    {
     "data": {
      "text/plain": [
       "polars.config.Config"
      ]
     },
     "execution_count": 11,
     "metadata": {},
     "output_type": "execute_result"
    }
   ],
   "source": [
    "cfg = pl.Config()\n",
    "cfg.set_fmt_str_lengths(30)"
   ]
  },
  {
   "cell_type": "code",
   "execution_count": 4,
   "metadata": {},
   "outputs": [],
   "source": [
    "md_index_path = \"data/metadata/_mdi/md_index_open_data_us.pickle\"\n",
    "md_index = load(md_index_path)"
   ]
  },
  {
   "cell_type": "code",
   "execution_count": null,
   "metadata": {},
   "outputs": [
    {
     "data": {
      "text/html": [
       "<div><style>\n",
       ".dataframe > thead > tr > th,\n",
       ".dataframe > tbody > tr > td {\n",
       "  text-align: right;\n",
       "  white-space: pre-wrap;\n",
       "}\n",
       "</style>\n",
       "<small>shape: (1_774, 7)</small><table border=\"1\" class=\"dataframe\"><thead><tr><th>col_to_embed</th><th>School Name</th><th>School Type</th><th>Total Parent Response Rate (%)</th><th>Total Teacher Response Rate (%)</th><th>Total Student Response Rate (%)</th><th>target</th></tr><tr><td>str</td><td>str</td><td>str</td><td>i64</td><td>i64</td><td>f64</td><td>i8</td></tr></thead><tbody><tr><td>&quot;01M015&quot;</td><td>&quot;P.S. 015 Rober…</td><td>&quot;ES&quot;</td><td>66</td><td>100</td><td>null</td><td>0</td></tr><tr><td>&quot;01M019&quot;</td><td>&quot;P.S. 019 Asher…</td><td>&quot;ES&quot;</td><td>96</td><td>97</td><td>null</td><td>0</td></tr><tr><td>&quot;01M020&quot;</td><td>&quot;P.S. 020 Anna …</td><td>&quot;ES&quot;</td><td>71</td><td>79</td><td>null</td><td>1</td></tr><tr><td>&quot;01M034&quot;</td><td>&quot;P.S. 034 Frank…</td><td>&quot;ES/MS&quot;</td><td>40</td><td>88</td><td>94.0</td><td>1</td></tr><tr><td>&quot;01M063&quot;</td><td>&quot;The STAR Acade…</td><td>&quot;ES&quot;</td><td>70</td><td>100</td><td>null</td><td>0</td></tr><tr><td>&quot;01M064&quot;</td><td>&quot;P.S. 064 Rober…</td><td>&quot;ES&quot;</td><td>78</td><td>85</td><td>null</td><td>0</td></tr><tr><td>&quot;01M110&quot;</td><td>&quot;P.S. 110 Flore…</td><td>&quot;ES&quot;</td><td>86</td><td>94</td><td>null</td><td>1</td></tr><tr><td>&quot;01M134&quot;</td><td>&quot;P.S. 134 Henri…</td><td>&quot;ES&quot;</td><td>29</td><td>74</td><td>null</td><td>1</td></tr><tr><td>&quot;01M137&quot;</td><td>&quot;P.S. 137 John …</td><td>&quot;ES&quot;</td><td>74</td><td>79</td><td>null</td><td>1</td></tr><tr><td>&quot;01M140&quot;</td><td>&quot;P.S. 140 Natha…</td><td>&quot;ES/MS&quot;</td><td>41</td><td>85</td><td>96.0</td><td>1</td></tr><tr><td>&quot;01M142&quot;</td><td>&quot;P.S. 142 Amali…</td><td>&quot;ES&quot;</td><td>90</td><td>100</td><td>null</td><td>0</td></tr><tr><td>&quot;01M184&quot;</td><td>&quot;P.S. 184m Shua…</td><td>&quot;ES/MS&quot;</td><td>65</td><td>68</td><td>100.0</td><td>1</td></tr><tr><td>&hellip;</td><td>&hellip;</td><td>&hellip;</td><td>&hellip;</td><td>&hellip;</td><td>&hellip;</td><td>&hellip;</td></tr><tr><td>&quot;84X496&quot;</td><td>&quot;Icahn Charter …</td><td>&quot;ES&quot;</td><td>90</td><td>100</td><td>null</td><td>0</td></tr><tr><td>&quot;84X538&quot;</td><td>&quot;Icahn Charter …</td><td>&quot;ECC&quot;</td><td>53</td><td>100</td><td>null</td><td>0</td></tr><tr><td>&quot;84X539&quot;</td><td>&quot;New Visions Ch…</td><td>&quot;HS&quot;</td><td>39</td><td>91</td><td>61.0</td><td>1</td></tr><tr><td>&quot;84X553&quot;</td><td>&quot;New Visions Ch…</td><td>&quot;HS&quot;</td><td>27</td><td>29</td><td>70.0</td><td>1</td></tr><tr><td>&quot;84X554&quot;</td><td>&quot;New York City …</td><td>&quot;ECC&quot;</td><td>34</td><td>55</td><td>null</td><td>1</td></tr><tr><td>&quot;84X703&quot;</td><td>&quot;Bronx Preparat…</td><td>&quot;MS/HS&quot;</td><td>51</td><td>90</td><td>84.0</td><td>1</td></tr><tr><td>&quot;84X704&quot;</td><td>&quot;KIPP Academy C…</td><td>&quot;ES/MS&quot;</td><td>62</td><td>70</td><td>94.0</td><td>0</td></tr><tr><td>&quot;84X705&quot;</td><td>&quot;Family Life Ac…</td><td>&quot;ES/MS&quot;</td><td>99</td><td>90</td><td>100.0</td><td>0</td></tr><tr><td>&quot;84X706&quot;</td><td>&quot;Harriet Tubman…</td><td>&quot;ES/MS&quot;</td><td>92</td><td>73</td><td>95.0</td><td>0</td></tr><tr><td>&quot;84X717&quot;</td><td>&quot;Icahn Charter …</td><td>&quot;ES/MS&quot;</td><td>77</td><td>100</td><td>100.0</td><td>0</td></tr><tr><td>&quot;84X718&quot;</td><td>&quot;Bronx Charter …</td><td>&quot;ES&quot;</td><td>66</td><td>100</td><td>null</td><td>0</td></tr><tr><td>&quot;84X730&quot;</td><td>&quot;Bronx Charter …</td><td>&quot;ES&quot;</td><td>37</td><td>58</td><td>null</td><td>0</td></tr></tbody></table></div>"
      ],
      "text/plain": [
       "shape: (1_774, 7)\n",
       "┌──────────────┬────────────────┬─────────────┬────────────────┬──────────┬───────────────┬────────┐\n",
       "│ col_to_embed ┆ School Name    ┆ School Type ┆ Total Parent   ┆ Total    ┆ Total Student ┆ target │\n",
       "│ ---          ┆ ---            ┆ ---         ┆ Response Rate  ┆ Teacher  ┆ Response Rate ┆ ---    │\n",
       "│ str          ┆ str            ┆ str         ┆ (%)            ┆ Response ┆ (%)           ┆ i8     │\n",
       "│              ┆                ┆             ┆ ---            ┆ Rate (%) ┆ ---           ┆        │\n",
       "│              ┆                ┆             ┆ i64            ┆ ---      ┆ f64           ┆        │\n",
       "│              ┆                ┆             ┆                ┆ i64      ┆               ┆        │\n",
       "╞══════════════╪════════════════╪═════════════╪════════════════╪══════════╪═══════════════╪════════╡\n",
       "│ 01M015       ┆ P.S. 015       ┆ ES          ┆ 66             ┆ 100      ┆ null          ┆ 0      │\n",
       "│              ┆ Roberto        ┆             ┆                ┆          ┆               ┆        │\n",
       "│              ┆ Clemente       ┆             ┆                ┆          ┆               ┆        │\n",
       "│ 01M019       ┆ P.S. 019 Asher ┆ ES          ┆ 96             ┆ 97       ┆ null          ┆ 0      │\n",
       "│              ┆ Levy           ┆             ┆                ┆          ┆               ┆        │\n",
       "│ 01M020       ┆ P.S. 020 Anna  ┆ ES          ┆ 71             ┆ 79       ┆ null          ┆ 1      │\n",
       "│              ┆ Silver         ┆             ┆                ┆          ┆               ┆        │\n",
       "│ 01M034       ┆ P.S. 034       ┆ ES/MS       ┆ 40             ┆ 88       ┆ 94.0          ┆ 1      │\n",
       "│              ┆ Franklin D.    ┆             ┆                ┆          ┆               ┆        │\n",
       "│              ┆ Roosevelt      ┆             ┆                ┆          ┆               ┆        │\n",
       "│ …            ┆ …              ┆ …           ┆ …              ┆ …        ┆ …             ┆ …      │\n",
       "│ 84X706       ┆ Harriet Tubman ┆ ES/MS       ┆ 92             ┆ 73       ┆ 95.0          ┆ 0      │\n",
       "│              ┆ Charter School ┆             ┆                ┆          ┆               ┆        │\n",
       "│ 84X717       ┆ Icahn Charter  ┆ ES/MS       ┆ 77             ┆ 100      ┆ 100.0         ┆ 0      │\n",
       "│              ┆ School         ┆             ┆                ┆          ┆               ┆        │\n",
       "│ 84X718       ┆ Bronx Charter  ┆ ES          ┆ 66             ┆ 100      ┆ null          ┆ 0      │\n",
       "│              ┆ School for     ┆             ┆                ┆          ┆               ┆        │\n",
       "│              ┆ Better …       ┆             ┆                ┆          ┆               ┆        │\n",
       "│ 84X730       ┆ Bronx Charter  ┆ ES          ┆ 37             ┆ 58       ┆ null          ┆ 0      │\n",
       "│              ┆ School for the ┆             ┆                ┆          ┆               ┆        │\n",
       "│              ┆ Art…           ┆             ┆                ┆          ┆               ┆        │\n",
       "└──────────────┴────────────────┴─────────────┴────────────────┴──────────┴───────────────┴────────┘"
      ]
     },
     "metadata": {},
     "output_type": "display_data"
    }
   ],
   "source": [
    "real_table = pl.read_parquet(\"data/source_tables/schools-open_data.parquet\")\n",
    "real_table"
   ]
  },
  {
   "cell_type": "code",
   "execution_count": 13,
   "metadata": {},
   "outputs": [
    {
     "data": {
      "text/html": [
       "<div><style>\n",
       ".dataframe > thead > tr > th,\n",
       ".dataframe > tbody > tr > td {\n",
       "  text-align: right;\n",
       "  white-space: pre-wrap;\n",
       "}\n",
       "</style>\n",
       "<small>shape: (1_775, 10)</small><table border=\"1\" class=\"dataframe\"><thead><tr><th>c_0_column_1</th><th>c_1_column_2</th><th>c_2_column_3</th><th>c_3_column_4</th><th>c_4_column_5</th><th>c_5_column_6</th><th>c_6_column_7</th><th>c_7_column_8</th><th>c_8_column_9</th><th>c_9_column_10</th></tr><tr><td>str</td><td>str</td><td>str</td><td>str</td><td>str</td><td>str</td><td>str</td><td>str</td><td>str</td><td>str</td></tr></thead><tbody><tr><td>&quot;DBN&quot;</td><td>&quot;School Name&quot;</td><td>&quot;School Type&quot;</td><td>&quot;Total Parent Response Rate (%…</td><td>&quot;Total Teacher Response Rate (…</td><td>&quot;Total Student Response Rate (…</td><td>&quot;Total Academic Expectations S…</td><td>&quot;Total Communication Score&quot;</td><td>&quot;Total Engagement Score&quot;</td><td>&quot;Total Safety and Respect Scor…</td></tr><tr><td>&quot;01M015&quot;</td><td>&quot;P.S. 015 Roberto Clemente&quot;</td><td>&quot;ES&quot;</td><td>&quot;66&quot;</td><td>&quot;100&quot;</td><td>null</td><td>&quot;8.3&quot;</td><td>&quot;8.3&quot;</td><td>&quot;8.1&quot;</td><td>&quot;8.4&quot;</td></tr><tr><td>&quot;01M019&quot;</td><td>&quot;P.S. 019 Asher Levy&quot;</td><td>&quot;ES&quot;</td><td>&quot;96&quot;</td><td>&quot;97&quot;</td><td>null</td><td>&quot;8.7&quot;</td><td>&quot;8.8&quot;</td><td>&quot;8.5&quot;</td><td>&quot;8.6&quot;</td></tr><tr><td>&quot;01M020&quot;</td><td>&quot;P.S. 020 Anna Silver&quot;</td><td>&quot;ES&quot;</td><td>&quot;71&quot;</td><td>&quot;79&quot;</td><td>null</td><td>&quot;7.9&quot;</td><td>&quot;7.6&quot;</td><td>&quot;7.7&quot;</td><td>&quot;8.1&quot;</td></tr><tr><td>&quot;01M034&quot;</td><td>&quot;P.S. 034 Franklin D. Roosevel…</td><td>&quot;ES/MS&quot;</td><td>&quot;40&quot;</td><td>&quot;88&quot;</td><td>&quot;94.0&quot;</td><td>&quot;8.1&quot;</td><td>&quot;8.1&quot;</td><td>&quot;7.7&quot;</td><td>&quot;7.5&quot;</td></tr><tr><td>&quot;01M063&quot;</td><td>&quot;The STAR Academy – P.S.63&quot;</td><td>&quot;ES&quot;</td><td>&quot;70&quot;</td><td>&quot;100&quot;</td><td>null</td><td>&quot;8.0&quot;</td><td>&quot;7.7&quot;</td><td>&quot;7.4&quot;</td><td>&quot;8.2&quot;</td></tr><tr><td>&quot;01M064&quot;</td><td>&quot;P.S. 064 Robert Simon&quot;</td><td>&quot;ES&quot;</td><td>&quot;78&quot;</td><td>&quot;85&quot;</td><td>null</td><td>&quot;8.8&quot;</td><td>&quot;8.9&quot;</td><td>&quot;8.8&quot;</td><td>&quot;9.0&quot;</td></tr><tr><td>&quot;01M110&quot;</td><td>&quot;P.S. 110 Florence Nightingale…</td><td>&quot;ES&quot;</td><td>&quot;86&quot;</td><td>&quot;94&quot;</td><td>null</td><td>&quot;7.3&quot;</td><td>&quot;7.0&quot;</td><td>&quot;7.0&quot;</td><td>&quot;7.8&quot;</td></tr><tr><td>&quot;01M134&quot;</td><td>&quot;P.S. 134 Henrietta Szold&quot;</td><td>&quot;ES&quot;</td><td>&quot;29&quot;</td><td>&quot;74&quot;</td><td>null</td><td>&quot;6.7&quot;</td><td>&quot;6.7&quot;</td><td>&quot;6.5&quot;</td><td>&quot;7.5&quot;</td></tr><tr><td>&quot;01M137&quot;</td><td>&quot;P.S. 137 John L. Bernstein&quot;</td><td>&quot;ES&quot;</td><td>&quot;74&quot;</td><td>&quot;79&quot;</td><td>null</td><td>&quot;8.1&quot;</td><td>&quot;7.7&quot;</td><td>&quot;7.4&quot;</td><td>&quot;7.7&quot;</td></tr><tr><td>&quot;01M140&quot;</td><td>&quot;P.S. 140 Nathan Straus&quot;</td><td>&quot;ES/MS&quot;</td><td>&quot;41&quot;</td><td>&quot;85&quot;</td><td>&quot;96.0&quot;</td><td>&quot;8.1&quot;</td><td>&quot;8.0&quot;</td><td>&quot;7.5&quot;</td><td>&quot;7.8&quot;</td></tr><tr><td>&quot;01M142&quot;</td><td>&quot;P.S. 142 Amalia Castro&quot;</td><td>&quot;ES&quot;</td><td>&quot;90&quot;</td><td>&quot;100&quot;</td><td>null</td><td>&quot;8.3&quot;</td><td>&quot;8.0&quot;</td><td>&quot;8.0&quot;</td><td>&quot;8.2&quot;</td></tr><tr><td>&hellip;</td><td>&hellip;</td><td>&hellip;</td><td>&hellip;</td><td>&hellip;</td><td>&hellip;</td><td>&hellip;</td><td>&hellip;</td><td>&hellip;</td><td>&hellip;</td></tr><tr><td>&quot;84X496&quot;</td><td>&quot;Icahn Charter School 4&quot;</td><td>&quot;ES&quot;</td><td>&quot;90&quot;</td><td>&quot;100&quot;</td><td>null</td><td>&quot;9.1&quot;</td><td>&quot;9.3&quot;</td><td>&quot;9.1&quot;</td><td>&quot;9.1&quot;</td></tr><tr><td>&quot;84X538&quot;</td><td>&quot;Icahn Charter School 5&quot;</td><td>&quot;ECC&quot;</td><td>&quot;53&quot;</td><td>&quot;100&quot;</td><td>null</td><td>&quot;8.7&quot;</td><td>&quot;8.6&quot;</td><td>&quot;8.2&quot;</td><td>&quot;8.8&quot;</td></tr><tr><td>&quot;84X539&quot;</td><td>&quot;New Visions Charter High Scho…</td><td>&quot;HS&quot;</td><td>&quot;39&quot;</td><td>&quot;91&quot;</td><td>&quot;61.0&quot;</td><td>&quot;7.9&quot;</td><td>&quot;8.0&quot;</td><td>&quot;7.4&quot;</td><td>&quot;7.4&quot;</td></tr><tr><td>&quot;84X553&quot;</td><td>&quot;New Visions Charter High Scho…</td><td>&quot;HS&quot;</td><td>&quot;27&quot;</td><td>&quot;29&quot;</td><td>&quot;70.0&quot;</td><td>&quot;7.9&quot;</td><td>&quot;8.2&quot;</td><td>&quot;7.6&quot;</td><td>&quot;7.4&quot;</td></tr><tr><td>&quot;84X554&quot;</td><td>&quot;New York City Montessori Char…</td><td>&quot;ECC&quot;</td><td>&quot;34&quot;</td><td>&quot;55&quot;</td><td>null</td><td>&quot;7.5&quot;</td><td>&quot;7.9&quot;</td><td>&quot;7.7&quot;</td><td>&quot;8.1&quot;</td></tr><tr><td>&quot;84X703&quot;</td><td>&quot;Bronx Preparatory Charter Sch…</td><td>&quot;MS/HS&quot;</td><td>&quot;51&quot;</td><td>&quot;90&quot;</td><td>&quot;84.0&quot;</td><td>&quot;7.7&quot;</td><td>&quot;7.7&quot;</td><td>&quot;7.3&quot;</td><td>&quot;7.8&quot;</td></tr><tr><td>&quot;84X704&quot;</td><td>&quot;KIPP Academy Charter School&quot;</td><td>&quot;ES/MS&quot;</td><td>&quot;62&quot;</td><td>&quot;70&quot;</td><td>&quot;94.0&quot;</td><td>&quot;8.6&quot;</td><td>&quot;8.4&quot;</td><td>&quot;8.1&quot;</td><td>&quot;8.5&quot;</td></tr><tr><td>&quot;84X705&quot;</td><td>&quot;Family Life Academy Charter S…</td><td>&quot;ES/MS&quot;</td><td>&quot;99&quot;</td><td>&quot;90&quot;</td><td>&quot;100.0&quot;</td><td>&quot;9.0&quot;</td><td>&quot;9.1&quot;</td><td>&quot;8.8&quot;</td><td>&quot;9.0&quot;</td></tr><tr><td>&quot;84X706&quot;</td><td>&quot;Harriet Tubman Charter School…</td><td>&quot;ES/MS&quot;</td><td>&quot;92&quot;</td><td>&quot;73&quot;</td><td>&quot;95.0&quot;</td><td>&quot;8.6&quot;</td><td>&quot;8.6&quot;</td><td>&quot;8.2&quot;</td><td>&quot;8.4&quot;</td></tr><tr><td>&quot;84X717&quot;</td><td>&quot;Icahn Charter School&quot;</td><td>&quot;ES/MS&quot;</td><td>&quot;77&quot;</td><td>&quot;100&quot;</td><td>&quot;100.0&quot;</td><td>&quot;8.9&quot;</td><td>&quot;9.0&quot;</td><td>&quot;8.5&quot;</td><td>&quot;8.5&quot;</td></tr><tr><td>&quot;84X718&quot;</td><td>&quot;Bronx Charter School for Bett…</td><td>&quot;ES&quot;</td><td>&quot;66&quot;</td><td>&quot;100&quot;</td><td>null</td><td>&quot;8.3&quot;</td><td>&quot;8.5&quot;</td><td>&quot;8.1&quot;</td><td>&quot;8.6&quot;</td></tr><tr><td>&quot;84X730&quot;</td><td>&quot;Bronx Charter School for the …</td><td>&quot;ES&quot;</td><td>&quot;37&quot;</td><td>&quot;58&quot;</td><td>null</td><td>&quot;7.8&quot;</td><td>&quot;7.6&quot;</td><td>&quot;7.5&quot;</td><td>&quot;8.2&quot;</td></tr></tbody></table></div>"
      ],
      "text/plain": [
       "shape: (1_775, 10)\n",
       "┌───────────┬───────────┬───────────┬───────────┬───┬───────────┬───────────┬───────────┬──────────┐\n",
       "│ c_0_colum ┆ c_1_colum ┆ c_2_colum ┆ c_3_colum ┆ … ┆ c_6_colum ┆ c_7_colum ┆ c_8_colum ┆ c_9_colu │\n",
       "│ n_1       ┆ n_2       ┆ n_3       ┆ n_4       ┆   ┆ n_7       ┆ n_8       ┆ n_9       ┆ mn_10    │\n",
       "│ ---       ┆ ---       ┆ ---       ┆ ---       ┆   ┆ ---       ┆ ---       ┆ ---       ┆ ---      │\n",
       "│ str       ┆ str       ┆ str       ┆ str       ┆   ┆ str       ┆ str       ┆ str       ┆ str      │\n",
       "╞═══════════╪═══════════╪═══════════╪═══════════╪═══╪═══════════╪═══════════╪═══════════╪══════════╡\n",
       "│ DBN       ┆ School    ┆ School    ┆ Total     ┆ … ┆ Total     ┆ Total Com ┆ Total Eng ┆ Total    │\n",
       "│           ┆ Name      ┆ Type      ┆ Parent    ┆   ┆ Academic  ┆ municatio ┆ agement   ┆ Safety   │\n",
       "│           ┆           ┆           ┆ Response  ┆   ┆ Expectati ┆ n Score   ┆ Score     ┆ and      │\n",
       "│           ┆           ┆           ┆ Rate (%)  ┆   ┆ ons Sc…   ┆           ┆           ┆ Respect  │\n",
       "│           ┆           ┆           ┆           ┆   ┆           ┆           ┆           ┆ Score    │\n",
       "│ 01M015    ┆ P.S. 015  ┆ ES        ┆ 66        ┆ … ┆ 8.3       ┆ 8.3       ┆ 8.1       ┆ 8.4      │\n",
       "│           ┆ Roberto   ┆           ┆           ┆   ┆           ┆           ┆           ┆          │\n",
       "│           ┆ Clemente  ┆           ┆           ┆   ┆           ┆           ┆           ┆          │\n",
       "│ 01M019    ┆ P.S. 019  ┆ ES        ┆ 96        ┆ … ┆ 8.7       ┆ 8.8       ┆ 8.5       ┆ 8.6      │\n",
       "│           ┆ Asher     ┆           ┆           ┆   ┆           ┆           ┆           ┆          │\n",
       "│           ┆ Levy      ┆           ┆           ┆   ┆           ┆           ┆           ┆          │\n",
       "│ 01M020    ┆ P.S. 020  ┆ ES        ┆ 71        ┆ … ┆ 7.9       ┆ 7.6       ┆ 7.7       ┆ 8.1      │\n",
       "│           ┆ Anna      ┆           ┆           ┆   ┆           ┆           ┆           ┆          │\n",
       "│           ┆ Silver    ┆           ┆           ┆   ┆           ┆           ┆           ┆          │\n",
       "│ …         ┆ …         ┆ …         ┆ …         ┆ … ┆ …         ┆ …         ┆ …         ┆ …        │\n",
       "│ 84X706    ┆ Harriet   ┆ ES/MS     ┆ 92        ┆ … ┆ 8.6       ┆ 8.6       ┆ 8.2       ┆ 8.4      │\n",
       "│           ┆ Tubman    ┆           ┆           ┆   ┆           ┆           ┆           ┆          │\n",
       "│           ┆ Charter   ┆           ┆           ┆   ┆           ┆           ┆           ┆          │\n",
       "│           ┆ School    ┆           ┆           ┆   ┆           ┆           ┆           ┆          │\n",
       "│ 84X717    ┆ Icahn     ┆ ES/MS     ┆ 77        ┆ … ┆ 8.9       ┆ 9.0       ┆ 8.5       ┆ 8.5      │\n",
       "│           ┆ Charter   ┆           ┆           ┆   ┆           ┆           ┆           ┆          │\n",
       "│           ┆ School    ┆           ┆           ┆   ┆           ┆           ┆           ┆          │\n",
       "│ 84X718    ┆ Bronx     ┆ ES        ┆ 66        ┆ … ┆ 8.3       ┆ 8.5       ┆ 8.1       ┆ 8.6      │\n",
       "│           ┆ Charter   ┆           ┆           ┆   ┆           ┆           ┆           ┆          │\n",
       "│           ┆ School    ┆           ┆           ┆   ┆           ┆           ┆           ┆          │\n",
       "│           ┆ for       ┆           ┆           ┆   ┆           ┆           ┆           ┆          │\n",
       "│           ┆ Bette…    ┆           ┆           ┆   ┆           ┆           ┆           ┆          │\n",
       "│ 84X730    ┆ Bronx     ┆ ES        ┆ 37        ┆ … ┆ 7.8       ┆ 7.6       ┆ 7.5       ┆ 8.2      │\n",
       "│           ┆ Charter   ┆           ┆           ┆   ┆           ┆           ┆           ┆          │\n",
       "│           ┆ School    ┆           ┆           ┆   ┆           ┆           ┆           ┆          │\n",
       "│           ┆ for the   ┆           ┆           ┆   ┆           ┆           ┆           ┆          │\n",
       "│           ┆ A…        ┆           ┆           ┆   ┆           ┆           ┆           ┆          │\n",
       "└───────────┴───────────┴───────────┴───────────┴───┴───────────┴───────────┴───────────┴──────────┘"
      ]
     },
     "execution_count": 13,
     "metadata": {},
     "output_type": "execute_result"
    }
   ],
   "source": [
    "tgt_hash = \"1f4cbb1f73a8cf5d61eb002a00deffee\"\n",
    "df_tgt = pl.read_parquet(md_index[tgt_hash][\"full_path\"])\n",
    "df_tgt"
   ]
  },
  {
   "cell_type": "code",
   "execution_count": 12,
   "metadata": {},
   "outputs": [
    {
     "data": {
      "text/html": [
       "<div><style>\n",
       ".dataframe > thead > tr > th,\n",
       ".dataframe > tbody > tr > td {\n",
       "  text-align: right;\n",
       "  white-space: pre-wrap;\n",
       "}\n",
       "</style>\n",
       "<small>shape: (1_743, 7)</small><table border=\"1\" class=\"dataframe\"><thead><tr><th>c_0_DBN</th><th>c_1_LOCATION NAME</th><th>c_2_LOCATION CATEGORY</th><th>c_3_ADMINISTRATIVE DISTRICT</th><th>c_4_NON-ELL STUDENTS With 2 or More Suspensions or Removals</th><th>c_5_ELL STUDENTS With 2 or More Suspensions or Removals</th><th>c_6_TOTAL STUDENTS With 2 or More Suspensions or Removals</th></tr><tr><td>str</td><td>str</td><td>str</td><td>f64</td><td>str</td><td>str</td><td>str</td></tr></thead><tbody><tr><td>&quot;01M015&quot;</td><td>&quot;P.S. 015 Roberto Clemente&quot;</td><td>&quot;Elementary&quot;</td><td>1.0</td><td>&quot;*&quot;</td><td>&quot;*&quot;</td><td>&quot;*&quot;</td></tr><tr><td>&quot;01M019&quot;</td><td>&quot;P.S. 019 Asher Levy&quot;</td><td>&quot;Elementary&quot;</td><td>1.0</td><td>&quot;*&quot;</td><td>&quot;*&quot;</td><td>&quot;*&quot;</td></tr><tr><td>&quot;01M020&quot;</td><td>&quot;P.S. 020 Anna Silver&quot;</td><td>&quot;Elementary&quot;</td><td>1.0</td><td>&quot;*&quot;</td><td>&quot;*&quot;</td><td>&quot;*&quot;</td></tr><tr><td>&quot;01M034&quot;</td><td>&quot;P.S. 034 Franklin D. Roosevel…</td><td>&quot;K-8&quot;</td><td>1.0</td><td>&quot;*&quot;</td><td>&quot;*&quot;</td><td>&quot;14&quot;</td></tr><tr><td>&quot;01M063&quot;</td><td>&quot;The STAR Academy - P.S.63&quot;</td><td>&quot;Elementary&quot;</td><td>1.0</td><td>&quot;*&quot;</td><td>&quot;*&quot;</td><td>&quot;6&quot;</td></tr><tr><td>&quot;01M064&quot;</td><td>&quot;P.S. 064 Robert Simon&quot;</td><td>&quot;Elementary&quot;</td><td>1.0</td><td>&quot;*&quot;</td><td>&quot;*&quot;</td><td>&quot;*&quot;</td></tr><tr><td>&quot;01M110&quot;</td><td>&quot;P.S. 110 Florence Nightingale…</td><td>&quot;Elementary&quot;</td><td>1.0</td><td>&quot;*&quot;</td><td>&quot;*&quot;</td><td>&quot;*&quot;</td></tr><tr><td>&quot;01M134&quot;</td><td>&quot;P.S. 134 Henrietta Szold&quot;</td><td>&quot;Elementary&quot;</td><td>1.0</td><td>&quot;*&quot;</td><td>&quot;*&quot;</td><td>&quot;*&quot;</td></tr><tr><td>&quot;01M137&quot;</td><td>&quot;P.S. 137 John L. Bernstein&quot;</td><td>&quot;Elementary&quot;</td><td>1.0</td><td>&quot;*&quot;</td><td>&quot;*&quot;</td><td>&quot;*&quot;</td></tr><tr><td>&quot;01M140&quot;</td><td>&quot;P.S. 140 Nathan Straus&quot;</td><td>&quot;K-8&quot;</td><td>1.0</td><td>&quot;*&quot;</td><td>&quot;*&quot;</td><td>&quot;*&quot;</td></tr><tr><td>&quot;01M142&quot;</td><td>&quot;P.S. 142 Amalia Castro&quot;</td><td>&quot;Elementary&quot;</td><td>1.0</td><td>&quot;*&quot;</td><td>&quot;*&quot;</td><td>&quot;*&quot;</td></tr><tr><td>&quot;01M184&quot;</td><td>&quot;P.S. 184m Shuang Wen&quot;</td><td>&quot;K-8&quot;</td><td>1.0</td><td>&quot;*&quot;</td><td>&quot;*&quot;</td><td>&quot;*&quot;</td></tr><tr><td>&hellip;</td><td>&hellip;</td><td>&hellip;</td><td>&hellip;</td><td>&hellip;</td><td>&hellip;</td><td>&hellip;</td></tr><tr><td>&quot;75X754&quot;</td><td>&quot;J. M. Rapport School Career D…</td><td>&quot;High school&quot;</td><td>75.0</td><td>&quot;*&quot;</td><td>&quot;*&quot;</td><td>&quot;*&quot;</td></tr><tr><td>&quot;75X811&quot;</td><td>&quot;P.S. X811&quot;</td><td>&quot;Secondary School&quot;</td><td>75.0</td><td>&quot;*&quot;</td><td>&quot;*&quot;</td><td>&quot;*&quot;</td></tr><tr><td>&quot;79K755&quot;</td><td>&quot;Adult and Continuing Educatio…</td><td>&quot;High school&quot;</td><td>79.0</td><td>&quot;*&quot;</td><td>&quot;*&quot;</td><td>&quot;*&quot;</td></tr><tr><td>&quot;79M645&quot;</td><td>&quot;School for Cooperative Techni…</td><td>&quot;High school&quot;</td><td>79.0</td><td>&quot;*&quot;</td><td>&quot;*&quot;</td><td>&quot;*&quot;</td></tr><tr><td>&quot;79M921&quot;</td><td>&quot;District 79 Youth Justice and…</td><td>&quot;Central-HQ-Citywide&quot;</td><td>79.0</td><td>&quot;*&quot;</td><td>&quot;*&quot;</td><td>&quot;*&quot;</td></tr><tr><td>&quot;79M973&quot;</td><td>&quot;Restart Academy&quot;</td><td>&quot;Ungraded&quot;</td><td>79.0</td><td>&quot;*&quot;</td><td>&quot;*&quot;</td><td>&quot;*&quot;</td></tr><tr><td>&quot;79M984&quot;</td><td>&quot;LYFE&quot;</td><td>&quot;Ungraded&quot;</td><td>79.0</td><td>&quot;*&quot;</td><td>&quot;*&quot;</td><td>&quot;*&quot;</td></tr><tr><td>&quot;79Q344&quot;</td><td>&quot;East River Academy&quot;</td><td>&quot;High school&quot;</td><td>79.0</td><td>&quot;*&quot;</td><td>&quot;*&quot;</td><td>&quot;*&quot;</td></tr><tr><td>&quot;79Q950&quot;</td><td>&quot;Pathways to Graduation&quot;</td><td>&quot;High school&quot;</td><td>79.0</td><td>&quot;*&quot;</td><td>&quot;*&quot;</td><td>&quot;*&quot;</td></tr><tr><td>&quot;79X490&quot;</td><td>&quot;Phoenix Academy&quot;</td><td>&quot;High school&quot;</td><td>79.0</td><td>&quot;*&quot;</td><td>&quot;*&quot;</td><td>&quot;*&quot;</td></tr><tr><td>&quot;79X695&quot;</td><td>&quot;Passages Academy&quot;</td><td>&quot;K-12 all grades&quot;</td><td>79.0</td><td>&quot;*&quot;</td><td>&quot;*&quot;</td><td>&quot;*&quot;</td></tr><tr><td>&quot;CITYWIDE&quot;</td><td>null</td><td>null</td><td>null</td><td>&quot;8363&quot;</td><td>&quot;776&quot;</td><td>&quot;9139&quot;</td></tr></tbody></table></div>"
      ],
      "text/plain": [
       "shape: (1_743, 7)\n",
       "┌──────────┬──────────────┬──────────────┬──────────────┬──────────────┬─────────────┬─────────────┐\n",
       "│ c_0_DBN  ┆ c_1_LOCATION ┆ c_2_LOCATION ┆ c_3_ADMINIST ┆ c_4_NON-ELL  ┆ c_5_ELL     ┆ c_6_TOTAL   │\n",
       "│ ---      ┆ NAME         ┆ CATEGORY     ┆ RATIVE       ┆ STUDENTS     ┆ STUDENTS    ┆ STUDENTS    │\n",
       "│ str      ┆ ---          ┆ ---          ┆ DISTRICT     ┆ With 2 or…   ┆ With 2 or   ┆ With 2 or   │\n",
       "│          ┆ str          ┆ str          ┆ ---          ┆ ---          ┆ Mor…        ┆ M…          │\n",
       "│          ┆              ┆              ┆ f64          ┆ str          ┆ ---         ┆ ---         │\n",
       "│          ┆              ┆              ┆              ┆              ┆ str         ┆ str         │\n",
       "╞══════════╪══════════════╪══════════════╪══════════════╪══════════════╪═════════════╪═════════════╡\n",
       "│ 01M015   ┆ P.S. 015     ┆ Elementary   ┆ 1.0          ┆ *            ┆ *           ┆ *           │\n",
       "│          ┆ Roberto      ┆              ┆              ┆              ┆             ┆             │\n",
       "│          ┆ Clemente     ┆              ┆              ┆              ┆             ┆             │\n",
       "│ 01M019   ┆ P.S. 019     ┆ Elementary   ┆ 1.0          ┆ *            ┆ *           ┆ *           │\n",
       "│          ┆ Asher Levy   ┆              ┆              ┆              ┆             ┆             │\n",
       "│ 01M020   ┆ P.S. 020     ┆ Elementary   ┆ 1.0          ┆ *            ┆ *           ┆ *           │\n",
       "│          ┆ Anna Silver  ┆              ┆              ┆              ┆             ┆             │\n",
       "│ 01M034   ┆ P.S. 034     ┆ K-8          ┆ 1.0          ┆ *            ┆ *           ┆ 14          │\n",
       "│          ┆ Franklin D.  ┆              ┆              ┆              ┆             ┆             │\n",
       "│          ┆ Roosevelt    ┆              ┆              ┆              ┆             ┆             │\n",
       "│ …        ┆ …            ┆ …            ┆ …            ┆ …            ┆ …           ┆ …           │\n",
       "│ 79Q950   ┆ Pathways to  ┆ High school  ┆ 79.0         ┆ *            ┆ *           ┆ *           │\n",
       "│          ┆ Graduation   ┆              ┆              ┆              ┆             ┆             │\n",
       "│ 79X490   ┆ Phoenix      ┆ High school  ┆ 79.0         ┆ *            ┆ *           ┆ *           │\n",
       "│          ┆ Academy      ┆              ┆              ┆              ┆             ┆             │\n",
       "│ 79X695   ┆ Passages     ┆ K-12 all     ┆ 79.0         ┆ *            ┆ *           ┆ *           │\n",
       "│          ┆ Academy      ┆ grades       ┆              ┆              ┆             ┆             │\n",
       "│ CITYWIDE ┆ null         ┆ null         ┆ null         ┆ 8363         ┆ 776         ┆ 9139        │\n",
       "└──────────┴──────────────┴──────────────┴──────────────┴──────────────┴─────────────┴─────────────┘"
      ]
     },
     "execution_count": 12,
     "metadata": {},
     "output_type": "execute_result"
    }
   ],
   "source": []
  },
  {
   "cell_type": "code",
   "execution_count": 10,
   "metadata": {},
   "outputs": [
    {
     "data": {
      "text/html": [
       "<div><style>\n",
       ".dataframe > thead > tr > th,\n",
       ".dataframe > tbody > tr > td {\n",
       "  text-align: right;\n",
       "  white-space: pre-wrap;\n",
       "}\n",
       "</style>\n",
       "<small>shape: (1_743, 7)</small><table border=\"1\" class=\"dataframe\"><thead><tr><th>c_0_DBN</th><th>c_1_LOCATION NAME</th><th>c_2_LOCATION CATEGORY</th><th>c_3_ADMINISTRATIVE DISTRICT</th><th>c_4_NON-ELL STUDENTS With 2 or More Suspensions or Removals</th><th>c_5_ELL STUDENTS With 2 or More Suspensions or Removals</th><th>c_6_TOTAL STUDENTS With 2 or More Suspensions or Removals</th></tr><tr><td>str</td><td>str</td><td>str</td><td>f64</td><td>str</td><td>str</td><td>str</td></tr></thead><tbody><tr><td>&quot;01M015&quot;</td><td>&quot;P.S. 015 Rober…</td><td>&quot;Elementary&quot;</td><td>1.0</td><td>&quot;*&quot;</td><td>&quot;*&quot;</td><td>&quot;*&quot;</td></tr><tr><td>&quot;01M019&quot;</td><td>&quot;P.S. 019 Asher…</td><td>&quot;Elementary&quot;</td><td>1.0</td><td>&quot;*&quot;</td><td>&quot;*&quot;</td><td>&quot;*&quot;</td></tr><tr><td>&quot;01M020&quot;</td><td>&quot;P.S. 020 Anna …</td><td>&quot;Elementary&quot;</td><td>1.0</td><td>&quot;*&quot;</td><td>&quot;*&quot;</td><td>&quot;*&quot;</td></tr><tr><td>&quot;01M034&quot;</td><td>&quot;P.S. 034 Frank…</td><td>&quot;K-8&quot;</td><td>1.0</td><td>&quot;*&quot;</td><td>&quot;*&quot;</td><td>&quot;14&quot;</td></tr><tr><td>&quot;01M063&quot;</td><td>&quot;The STAR Acade…</td><td>&quot;Elementary&quot;</td><td>1.0</td><td>&quot;*&quot;</td><td>&quot;*&quot;</td><td>&quot;6&quot;</td></tr><tr><td>&quot;01M064&quot;</td><td>&quot;P.S. 064 Rober…</td><td>&quot;Elementary&quot;</td><td>1.0</td><td>&quot;*&quot;</td><td>&quot;*&quot;</td><td>&quot;*&quot;</td></tr><tr><td>&quot;01M110&quot;</td><td>&quot;P.S. 110 Flore…</td><td>&quot;Elementary&quot;</td><td>1.0</td><td>&quot;*&quot;</td><td>&quot;*&quot;</td><td>&quot;*&quot;</td></tr><tr><td>&quot;01M134&quot;</td><td>&quot;P.S. 134 Henri…</td><td>&quot;Elementary&quot;</td><td>1.0</td><td>&quot;*&quot;</td><td>&quot;*&quot;</td><td>&quot;*&quot;</td></tr><tr><td>&quot;01M137&quot;</td><td>&quot;P.S. 137 John …</td><td>&quot;Elementary&quot;</td><td>1.0</td><td>&quot;*&quot;</td><td>&quot;*&quot;</td><td>&quot;*&quot;</td></tr><tr><td>&quot;01M140&quot;</td><td>&quot;P.S. 140 Natha…</td><td>&quot;K-8&quot;</td><td>1.0</td><td>&quot;*&quot;</td><td>&quot;*&quot;</td><td>&quot;*&quot;</td></tr><tr><td>&quot;01M142&quot;</td><td>&quot;P.S. 142 Amali…</td><td>&quot;Elementary&quot;</td><td>1.0</td><td>&quot;*&quot;</td><td>&quot;*&quot;</td><td>&quot;*&quot;</td></tr><tr><td>&quot;01M184&quot;</td><td>&quot;P.S. 184m Shua…</td><td>&quot;K-8&quot;</td><td>1.0</td><td>&quot;*&quot;</td><td>&quot;*&quot;</td><td>&quot;*&quot;</td></tr><tr><td>&hellip;</td><td>&hellip;</td><td>&hellip;</td><td>&hellip;</td><td>&hellip;</td><td>&hellip;</td><td>&hellip;</td></tr><tr><td>&quot;75X754&quot;</td><td>&quot;J. M. Rapport …</td><td>&quot;High school&quot;</td><td>75.0</td><td>&quot;*&quot;</td><td>&quot;*&quot;</td><td>&quot;*&quot;</td></tr><tr><td>&quot;75X811&quot;</td><td>&quot;P.S. X811&quot;</td><td>&quot;Secondary Scho…</td><td>75.0</td><td>&quot;*&quot;</td><td>&quot;*&quot;</td><td>&quot;*&quot;</td></tr><tr><td>&quot;79K755&quot;</td><td>&quot;Adult and Cont…</td><td>&quot;High school&quot;</td><td>79.0</td><td>&quot;*&quot;</td><td>&quot;*&quot;</td><td>&quot;*&quot;</td></tr><tr><td>&quot;79M645&quot;</td><td>&quot;School for Coo…</td><td>&quot;High school&quot;</td><td>79.0</td><td>&quot;*&quot;</td><td>&quot;*&quot;</td><td>&quot;*&quot;</td></tr><tr><td>&quot;79M921&quot;</td><td>&quot;District 79 Yo…</td><td>&quot;Central-HQ-Cit…</td><td>79.0</td><td>&quot;*&quot;</td><td>&quot;*&quot;</td><td>&quot;*&quot;</td></tr><tr><td>&quot;79M973&quot;</td><td>&quot;Restart Academ…</td><td>&quot;Ungraded&quot;</td><td>79.0</td><td>&quot;*&quot;</td><td>&quot;*&quot;</td><td>&quot;*&quot;</td></tr><tr><td>&quot;79M984&quot;</td><td>&quot;LYFE&quot;</td><td>&quot;Ungraded&quot;</td><td>79.0</td><td>&quot;*&quot;</td><td>&quot;*&quot;</td><td>&quot;*&quot;</td></tr><tr><td>&quot;79Q344&quot;</td><td>&quot;East River Aca…</td><td>&quot;High school&quot;</td><td>79.0</td><td>&quot;*&quot;</td><td>&quot;*&quot;</td><td>&quot;*&quot;</td></tr><tr><td>&quot;79Q950&quot;</td><td>&quot;Pathways to Gr…</td><td>&quot;High school&quot;</td><td>79.0</td><td>&quot;*&quot;</td><td>&quot;*&quot;</td><td>&quot;*&quot;</td></tr><tr><td>&quot;79X490&quot;</td><td>&quot;Phoenix Academ…</td><td>&quot;High school&quot;</td><td>79.0</td><td>&quot;*&quot;</td><td>&quot;*&quot;</td><td>&quot;*&quot;</td></tr><tr><td>&quot;79X695&quot;</td><td>&quot;Passages Acade…</td><td>&quot;K-12 all grade…</td><td>79.0</td><td>&quot;*&quot;</td><td>&quot;*&quot;</td><td>&quot;*&quot;</td></tr><tr><td>&quot;CITYWIDE&quot;</td><td>null</td><td>null</td><td>null</td><td>&quot;8363&quot;</td><td>&quot;776&quot;</td><td>&quot;9139&quot;</td></tr></tbody></table></div>"
      ],
      "text/plain": [
       "shape: (1_743, 7)\n",
       "┌──────────┬──────────────┬──────────────┬──────────────┬──────────────┬─────────────┬─────────────┐\n",
       "│ c_0_DBN  ┆ c_1_LOCATION ┆ c_2_LOCATION ┆ c_3_ADMINIST ┆ c_4_NON-ELL  ┆ c_5_ELL     ┆ c_6_TOTAL   │\n",
       "│ ---      ┆ NAME         ┆ CATEGORY     ┆ RATIVE       ┆ STUDENTS     ┆ STUDENTS    ┆ STUDENTS    │\n",
       "│ str      ┆ ---          ┆ ---          ┆ DISTRICT     ┆ With 2 or M… ┆ With 2 or   ┆ With 2 or   │\n",
       "│          ┆ str          ┆ str          ┆ ---          ┆ ---          ┆ More …      ┆ Mor…        │\n",
       "│          ┆              ┆              ┆ f64          ┆ str          ┆ ---         ┆ ---         │\n",
       "│          ┆              ┆              ┆              ┆              ┆ str         ┆ str         │\n",
       "╞══════════╪══════════════╪══════════════╪══════════════╪══════════════╪═════════════╪═════════════╡\n",
       "│ 01M015   ┆ P.S. 015     ┆ Elementary   ┆ 1.0          ┆ *            ┆ *           ┆ *           │\n",
       "│          ┆ Roberto      ┆              ┆              ┆              ┆             ┆             │\n",
       "│          ┆ Clemente     ┆              ┆              ┆              ┆             ┆             │\n",
       "│ 01M019   ┆ P.S. 019     ┆ Elementary   ┆ 1.0          ┆ *            ┆ *           ┆ *           │\n",
       "│          ┆ Asher Levy   ┆              ┆              ┆              ┆             ┆             │\n",
       "│ 01M020   ┆ P.S. 020     ┆ Elementary   ┆ 1.0          ┆ *            ┆ *           ┆ *           │\n",
       "│          ┆ Anna Silver  ┆              ┆              ┆              ┆             ┆             │\n",
       "│ 01M034   ┆ P.S. 034     ┆ K-8          ┆ 1.0          ┆ *            ┆ *           ┆ 14          │\n",
       "│          ┆ Franklin D.  ┆              ┆              ┆              ┆             ┆             │\n",
       "│          ┆ Roosevelt    ┆              ┆              ┆              ┆             ┆             │\n",
       "│ …        ┆ …            ┆ …            ┆ …            ┆ …            ┆ …           ┆ …           │\n",
       "│ 79Q950   ┆ Pathways to  ┆ High school  ┆ 79.0         ┆ *            ┆ *           ┆ *           │\n",
       "│          ┆ Graduation   ┆              ┆              ┆              ┆             ┆             │\n",
       "│ 79X490   ┆ Phoenix      ┆ High school  ┆ 79.0         ┆ *            ┆ *           ┆ *           │\n",
       "│          ┆ Academy      ┆              ┆              ┆              ┆             ┆             │\n",
       "│ 79X695   ┆ Passages     ┆ K-12 all     ┆ 79.0         ┆ *            ┆ *           ┆ *           │\n",
       "│          ┆ Academy      ┆ grades       ┆              ┆              ┆             ┆             │\n",
       "│ CITYWIDE ┆ null         ┆ null         ┆ null         ┆ 8363         ┆ 776         ┆ 9139        │\n",
       "└──────────┴──────────────┴──────────────┴──────────────┴──────────────┴─────────────┴─────────────┘"
      ]
     },
     "execution_count": 10,
     "metadata": {},
     "output_type": "execute_result"
    }
   ],
   "source": [
    "tgt2 = \"687560c3e572d107352244dcda300402\"\n",
    "df_tgt = pl.read_parquet(md_index[tgt2][\"full_path\"])\n",
    "df_tgt"
   ]
  },
  {
   "cell_type": "code",
   "execution_count": null,
   "metadata": {},
   "outputs": [],
   "source": []
  }
 ],
 "metadata": {
  "kernelspec": {
   "display_name": "bench-repro",
   "language": "python",
   "name": "python3"
  },
  "language_info": {
   "codemirror_mode": {
    "name": "ipython",
    "version": 3
   },
   "file_extension": ".py",
   "mimetype": "text/x-python",
   "name": "python",
   "nbconvert_exporter": "python",
   "pygments_lexer": "ipython3",
   "version": "3.10.0"
  }
 },
 "nbformat": 4,
 "nbformat_minor": 2
}
