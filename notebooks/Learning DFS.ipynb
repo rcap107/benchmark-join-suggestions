{
 "cells": [
  {
   "cell_type": "code",
   "execution_count": 1,
   "metadata": {},
   "outputs": [
    {
     "name": "stdout",
     "output_type": "stream",
     "text": [
      "/home/soda/rcappuzz/work/benchmark-join-suggestions\n"
     ]
    }
   ],
   "source": [
    "cd .."
   ]
  },
  {
   "cell_type": "code",
   "execution_count": 2,
   "metadata": {},
   "outputs": [],
   "source": [
    "import featuretools as ft\n",
    "from woodwork.logical_types import Categorical, Double\n",
    "import pandas as pd\n",
    "import polars as pl\n",
    "import pickle"
   ]
  },
  {
   "cell_type": "code",
   "execution_count": 3,
   "metadata": {},
   "outputs": [],
   "source": [
    "es = ft.EntitySet()"
   ]
  },
  {
   "cell_type": "code",
   "execution_count": 4,
   "metadata": {},
   "outputs": [],
   "source": [
    "candidates = pickle.load(open(\"generated_candidates_movies-prepared.pickle\", \"rb\"))[\"minhash\"]\n",
    "hash_, cand = candidates.popitem()"
   ]
  },
  {
   "cell_type": "code",
   "execution_count": 5,
   "metadata": {},
   "outputs": [],
   "source": [
    "source_md = vars(cand)[\"source_metadata\"]\n",
    "candidate_md = vars(cand)[\"candidate_metadata\"]"
   ]
  },
  {
   "cell_type": "code",
   "execution_count": 6,
   "metadata": {},
   "outputs": [
    {
     "data": {
      "text/plain": [
       "{'full_path': '/storage/store/work/rcappuzz/ken_datasets/the-movies-dataset/movies-prepared.parquet',\n",
       " 'hash': '310b7e82655f2beaba69e8b482d43b65',\n",
       " 'df_name': 'movies-prepared',\n",
       " 'source_dl': 'queries',\n",
       " 'license': '',\n",
       " 'path_metadata': '/storage/store/work/rcappuzz/metadata/queries/310b7e82655f2beaba69e8b482d43b65.json'}"
      ]
     },
     "execution_count": 6,
     "metadata": {},
     "output_type": "execute_result"
    }
   ],
   "source": [
    "source_md"
   ]
  },
  {
   "cell_type": "code",
   "execution_count": null,
   "metadata": {},
   "outputs": [],
   "source": []
  },
  {
   "cell_type": "code",
   "execution_count": 7,
   "metadata": {},
   "outputs": [],
   "source": [
    "def get_logical_types(df):\n",
    "    num_types = df.select_dtypes(\"number\").columns\n",
    "    cat_types = [_ for _ in df.columns if _ not in num_types]\n",
    "    logical_types = { col: Categorical for col in cat_types }\n",
    "    logical_types.update({ col: Double for col in num_types })    \n",
    "    return logical_types"
   ]
  },
  {
   "cell_type": "code",
   "execution_count": 8,
   "metadata": {},
   "outputs": [],
   "source": [
    "source_table = pd.read_parquet(source_md[\"full_path\"]).drop_duplicates(\"col_to_embed\")\n",
    "source_types = get_logical_types(source_table)\n",
    "candidate_table = pd.read_parquet(candidate_md[\"full_path\"]).reset_index(names=[\"index\"])\n",
    "candidate_types = get_logical_types(candidate_table)\n"
   ]
  },
  {
   "cell_type": "code",
   "execution_count": 9,
   "metadata": {},
   "outputs": [],
   "source": [
    "es = es.add_dataframe(\n",
    "    dataframe_name=source_md[\"df_name\"],\n",
    "    dataframe=source_table,\n",
    "    index=\"col_to_embed\",\n",
    "    logical_types=source_types\n",
    ")"
   ]
  },
  {
   "cell_type": "code",
   "execution_count": 10,
   "metadata": {},
   "outputs": [],
   "source": [
    "es = es.add_dataframe(\n",
    "    dataframe_name=candidate_md[\"df_name\"],\n",
    "    dataframe=candidate_table,\n",
    "    index=\"index\",\n",
    "    logical_types=candidate_types\n",
    "\n",
    ")"
   ]
  },
  {
   "cell_type": "code",
   "execution_count": 11,
   "metadata": {},
   "outputs": [],
   "source": [
    "es = es.add_relationship(source_md[\"df_name\"], cand.left_on[0], candidate_md[\"df_name\"],cand.right_on[0])"
   ]
  },
  {
   "cell_type": "code",
   "execution_count": 12,
   "metadata": {},
   "outputs": [],
   "source": [
    "feature_matrix, feature_defs = ft.dfs(entityset=es, target_dataframe_name=source_md[\"df_name\"])\n"
   ]
  },
  {
   "cell_type": "code",
   "execution_count": 13,
   "metadata": {},
   "outputs": [
    {
     "data": {
      "text/plain": [
       "[<Feature: adult>,\n",
       " <Feature: budget>,\n",
       " <Feature: genres>,\n",
       " <Feature: id>,\n",
       " <Feature: original_language>,\n",
       " <Feature: original_title>,\n",
       " <Feature: popularity>,\n",
       " <Feature: production_companies>,\n",
       " <Feature: production_countries>,\n",
       " <Feature: release_date>,\n",
       " <Feature: runtime>,\n",
       " <Feature: spoken_languages>,\n",
       " <Feature: status>,\n",
       " <Feature: title>,\n",
       " <Feature: video>,\n",
       " <Feature: vote_average>,\n",
       " <Feature: vote_count>,\n",
       " <Feature: target>,\n",
       " <Feature: COUNT(yago_binary_isLocatedIn)>,\n",
       " <Feature: MODE(yago_binary_isLocatedIn.isLocatedIn)>,\n",
       " <Feature: NUM_UNIQUE(yago_binary_isLocatedIn.isLocatedIn)>]"
      ]
     },
     "execution_count": 13,
     "metadata": {},
     "output_type": "execute_result"
    }
   ],
   "source": [
    "feature_defs"
   ]
  },
  {
   "cell_type": "code",
   "execution_count": 20,
   "metadata": {},
   "outputs": [],
   "source": [
    "cc = [c for c in source_table.columns if c in feature_matrix.columns]"
   ]
  },
  {
   "cell_type": "code",
   "execution_count": 31,
   "metadata": {},
   "outputs": [],
   "source": [
    "cat_cols = feature_matrix.select_dtypes(exclude=\"number\").columns\n",
    "num_cols = feature_matrix.select_dtypes(\"number\").columns\n",
    "# pl.from_pandas(.astype(\"str\"))"
   ]
  },
  {
   "cell_type": "code",
   "execution_count": 43,
   "metadata": {},
   "outputs": [],
   "source": [
    "df = feature_matrix.copy()"
   ]
  },
  {
   "cell_type": "code",
   "execution_count": 44,
   "metadata": {},
   "outputs": [],
   "source": [
    "new_df = df.copy()\n",
    "cat_cols = df.select_dtypes(exclude=\"number\").columns\n",
    "num_cols = df.select_dtypes(\"number\").columns\n",
    "for col in cat_cols:\n",
    "    new_df[col] = new_df[col].astype(str)\n",
    "for col in num_cols:\n",
    "    new_df[col] = new_df[col].astype(float)\n",
    "\n"
   ]
  },
  {
   "cell_type": "code",
   "execution_count": 45,
   "metadata": {},
   "outputs": [
    {
     "data": {
      "text/html": [
       "<div><style>\n",
       ".dataframe > thead > tr > th,\n",
       ".dataframe > tbody > tr > td {\n",
       "  text-align: right;\n",
       "}\n",
       "</style>\n",
       "<small>shape: (3_794, 22)</small><table border=\"1\" class=\"dataframe\"><thead><tr><th>col_to_embed</th><th>adult</th><th>budget</th><th>genres</th><th>id</th><th>original_language</th><th>original_title</th><th>popularity</th><th>production_companies</th><th>production_countries</th><th>release_date</th><th>runtime</th><th>spoken_languages</th><th>status</th><th>title</th><th>video</th><th>vote_average</th><th>vote_count</th><th>target</th><th>COUNT(yago_binary_isLocatedIn)</th><th>MODE(yago_binary_isLocatedIn.isLocatedIn)</th><th>NUM_UNIQUE(yago_binary_isLocatedIn.isLocatedIn)</th></tr><tr><td>cat</td><td>str</td><td>str</td><td>str</td><td>str</td><td>str</td><td>str</td><td>str</td><td>str</td><td>str</td><td>str</td><td>f64</td><td>str</td><td>str</td><td>str</td><td>str</td><td>f64</td><td>f64</td><td>f64</td><td>f64</td><td>str</td><td>f64</td></tr></thead><tbody><tr><td>&quot;&lt;Toy_Story&gt;&quot;</td><td>&quot;False&quot;</td><td>&quot;30000000&quot;</td><td>&quot;Animation&quot;</td><td>&quot;862&quot;</td><td>&quot;en&quot;</td><td>&quot;Toy Story&quot;</td><td>&quot;21.946943&quot;</td><td>&quot;Pixar Animatio…</td><td>&quot;US&quot;</td><td>&quot;1995&quot;</td><td>81.0</td><td>&quot;English&quot;</td><td>&quot;Released&quot;</td><td>&quot;Toy Story&quot;</td><td>&quot;False&quot;</td><td>7.7</td><td>5415.0</td><td>8.572353</td><td>2.0</td><td>&quot;&lt;United_States…</td><td>1.0</td></tr><tr><td>&quot;&lt;Jumanji&gt;&quot;</td><td>&quot;False&quot;</td><td>&quot;65000000&quot;</td><td>&quot;Adventure&quot;</td><td>&quot;8844&quot;</td><td>&quot;en&quot;</td><td>&quot;Jumanji&quot;</td><td>&quot;17.015539&quot;</td><td>&quot;TriStar Pictur…</td><td>&quot;US&quot;</td><td>&quot;1995&quot;</td><td>104.0</td><td>&quot;English&quot;</td><td>&quot;Released&quot;</td><td>&quot;Jumanji&quot;</td><td>&quot;False&quot;</td><td>6.9</td><td>2413.0</td><td>8.419621</td><td>1.0</td><td>&quot;&lt;United_States…</td><td>1.0</td></tr><tr><td>&quot;&lt;Heat_(1995_fi…</td><td>&quot;False&quot;</td><td>&quot;60000000&quot;</td><td>&quot;Action&quot;</td><td>&quot;949&quot;</td><td>&quot;en&quot;</td><td>&quot;Heat&quot;</td><td>&quot;17.924927&quot;</td><td>&quot;Regency Enterp…</td><td>&quot;US&quot;</td><td>&quot;1995&quot;</td><td>170.0</td><td>&quot;English&quot;</td><td>&quot;Released&quot;</td><td>&quot;Heat&quot;</td><td>&quot;False&quot;</td><td>7.7</td><td>1886.0</td><td>8.272855</td><td>2.0</td><td>&quot;&lt;United_States…</td><td>1.0</td></tr><tr><td>&quot;&lt;Sudden_Death_…</td><td>&quot;False&quot;</td><td>&quot;35000000&quot;</td><td>&quot;Action&quot;</td><td>&quot;9091&quot;</td><td>&quot;en&quot;</td><td>&quot;Sudden Death&quot;</td><td>&quot;5.23158&quot;</td><td>&quot;Universal Pict…</td><td>&quot;US&quot;</td><td>&quot;1995&quot;</td><td>106.0</td><td>&quot;English&quot;</td><td>&quot;Released&quot;</td><td>&quot;Sudden Death&quot;</td><td>&quot;False&quot;</td><td>5.5</td><td>174.0</td><td>7.80855</td><td>2.0</td><td>&quot;&lt;United_States…</td><td>1.0</td></tr><tr><td>&quot;&lt;Balto_(film)&gt;…</td><td>&quot;False&quot;</td><td>&quot;0&quot;</td><td>&quot;Family&quot;</td><td>&quot;21032&quot;</td><td>&quot;en&quot;</td><td>&quot;Balto&quot;</td><td>&quot;12.140733&quot;</td><td>&quot;Universal Pict…</td><td>&quot;US&quot;</td><td>&quot;1995&quot;</td><td>78.0</td><td>&quot;English&quot;</td><td>&quot;Released&quot;</td><td>&quot;Balto&quot;</td><td>&quot;False&quot;</td><td>7.1</td><td>423.0</td><td>7.054932</td><td>2.0</td><td>&quot;&lt;United_States…</td><td>1.0</td></tr><tr><td>&quot;&lt;Nixon_(film)&gt;…</td><td>&quot;False&quot;</td><td>&quot;44000000&quot;</td><td>&quot;History&quot;</td><td>&quot;10858&quot;</td><td>&quot;en&quot;</td><td>&quot;Nixon&quot;</td><td>&quot;5.092&quot;</td><td>&quot;Hollywood Pict…</td><td>&quot;US&quot;</td><td>&quot;1995&quot;</td><td>192.0</td><td>&quot;English&quot;</td><td>&quot;Released&quot;</td><td>&quot;Nixon&quot;</td><td>&quot;False&quot;</td><td>7.1</td><td>72.0</td><td>7.136142</td><td>2.0</td><td>&quot;&lt;United_States…</td><td>1.0</td></tr><tr><td>&quot;&lt;Cutthroat_Isl…</td><td>&quot;False&quot;</td><td>&quot;98000000&quot;</td><td>&quot;Action&quot;</td><td>&quot;1408&quot;</td><td>&quot;en&quot;</td><td>&quot;Cutthroat Isla…</td><td>&quot;7.284477&quot;</td><td>&quot;Le Studio Cana…</td><td>&quot;FR&quot;</td><td>&quot;1995&quot;</td><td>119.0</td><td>&quot;English&quot;</td><td>&quot;Released&quot;</td><td>&quot;Cutthroat Isla…</td><td>&quot;False&quot;</td><td>5.7</td><td>137.0</td><td>7.000752</td><td>0.0</td><td>&quot;nan&quot;</td><td>null</td></tr><tr><td>&quot;&lt;Casino_(1995_…</td><td>&quot;False&quot;</td><td>&quot;52000000&quot;</td><td>&quot;Drama&quot;</td><td>&quot;524&quot;</td><td>&quot;en&quot;</td><td>&quot;Casino&quot;</td><td>&quot;10.137389&quot;</td><td>&quot;Universal Pict…</td><td>&quot;FR&quot;</td><td>&quot;1995&quot;</td><td>178.0</td><td>&quot;English&quot;</td><td>&quot;Released&quot;</td><td>&quot;Casino&quot;</td><td>&quot;False&quot;</td><td>7.8</td><td>1343.0</td><td>8.064879</td><td>2.0</td><td>&quot;&lt;United_States…</td><td>1.0</td></tr><tr><td>&quot;&lt;Four_Rooms&gt;&quot;</td><td>&quot;False&quot;</td><td>&quot;4000000&quot;</td><td>&quot;Crime&quot;</td><td>&quot;5&quot;</td><td>&quot;en&quot;</td><td>&quot;Four Rooms&quot;</td><td>&quot;9.026586&quot;</td><td>&quot;Miramax Films&quot;</td><td>&quot;US&quot;</td><td>&quot;1995&quot;</td><td>98.0</td><td>&quot;English&quot;</td><td>&quot;Released&quot;</td><td>&quot;Four Rooms&quot;</td><td>&quot;False&quot;</td><td>6.5</td><td>539.0</td><td>6.633468</td><td>2.0</td><td>&quot;&lt;United_States…</td><td>1.0</td></tr><tr><td>&quot;&lt;Money_Train&gt;&quot;</td><td>&quot;False&quot;</td><td>&quot;60000000&quot;</td><td>&quot;Action&quot;</td><td>&quot;11517&quot;</td><td>&quot;en&quot;</td><td>&quot;Money Train&quot;</td><td>&quot;7.337906&quot;</td><td>&quot;Columbia Pictu…</td><td>&quot;US&quot;</td><td>&quot;1995&quot;</td><td>103.0</td><td>&quot;English&quot;</td><td>&quot;Released&quot;</td><td>&quot;Money Train&quot;</td><td>&quot;False&quot;</td><td>5.4</td><td>224.0</td><td>7.549385</td><td>1.0</td><td>&quot;&lt;United_States…</td><td>1.0</td></tr><tr><td>&quot;&lt;Get_Shorty_(f…</td><td>&quot;False&quot;</td><td>&quot;30250000&quot;</td><td>&quot;Comedy&quot;</td><td>&quot;8012&quot;</td><td>&quot;en&quot;</td><td>&quot;Get Shorty&quot;</td><td>&quot;12.669608&quot;</td><td>&quot;Jersey Films&quot;</td><td>&quot;US&quot;</td><td>&quot;1995&quot;</td><td>105.0</td><td>&quot;English&quot;</td><td>&quot;Released&quot;</td><td>&quot;Get Shorty&quot;</td><td>&quot;False&quot;</td><td>6.4</td><td>305.0</td><td>8.061081</td><td>1.0</td><td>&quot;&lt;United_States…</td><td>1.0</td></tr><tr><td>&quot;&lt;Assassins_(19…</td><td>&quot;False&quot;</td><td>&quot;50000000&quot;</td><td>&quot;Action&quot;</td><td>&quot;9691&quot;</td><td>&quot;en&quot;</td><td>&quot;Assassins&quot;</td><td>&quot;11.065939&quot;</td><td>&quot;Silver Picture…</td><td>&quot;FR&quot;</td><td>&quot;1995&quot;</td><td>132.0</td><td>&quot;English&quot;</td><td>&quot;Released&quot;</td><td>&quot;Assassins&quot;</td><td>&quot;False&quot;</td><td>6.0</td><td>394.0</td><td>7.481487</td><td>1.0</td><td>&quot;&lt;United_States…</td><td>1.0</td></tr><tr><td>&hellip;</td><td>&hellip;</td><td>&hellip;</td><td>&hellip;</td><td>&hellip;</td><td>&hellip;</td><td>&hellip;</td><td>&hellip;</td><td>&hellip;</td><td>&hellip;</td><td>&hellip;</td><td>&hellip;</td><td>&hellip;</td><td>&hellip;</td><td>&hellip;</td><td>&hellip;</td><td>&hellip;</td><td>&hellip;</td><td>&hellip;</td><td>&hellip;</td><td>&hellip;</td><td>&hellip;</td></tr><tr><td>&quot;&lt;Atomic_Blonde…</td><td>&quot;False&quot;</td><td>&quot;30000000&quot;</td><td>&quot;Action&quot;</td><td>&quot;341013&quot;</td><td>&quot;en&quot;</td><td>&quot;Atomic Blonde&quot;</td><td>&quot;14.455104&quot;</td><td>&quot;Denver and Del…</td><td>&quot;SE&quot;</td><td>&quot;2017&quot;</td><td>115.0</td><td>&quot;svenska&quot;</td><td>&quot;Released&quot;</td><td>&quot;Atomic Blonde&quot;</td><td>&quot;False&quot;</td><td>6.1</td><td>748.0</td><td>7.954281</td><td>2.0</td><td>&quot;&lt;United_States…</td><td>1.0</td></tr><tr><td>&quot;&lt;Dunkirk_(2017…</td><td>&quot;False&quot;</td><td>&quot;100000000&quot;</td><td>&quot;Action&quot;</td><td>&quot;374720&quot;</td><td>&quot;en&quot;</td><td>&quot;Dunkirk&quot;</td><td>&quot;30.938854&quot;</td><td>&quot;Canal+&quot;</td><td>&quot;NL&quot;</td><td>&quot;2017&quot;</td><td>107.0</td><td>&quot;English&quot;</td><td>&quot;Released&quot;</td><td>&quot;Dunkirk&quot;</td><td>&quot;False&quot;</td><td>7.5</td><td>2712.0</td><td>8.715901</td><td>0.0</td><td>&quot;nan&quot;</td><td>null</td></tr><tr><td>&quot;&lt;Dunkirk&gt;&quot;</td><td>&quot;False&quot;</td><td>&quot;100000000&quot;</td><td>&quot;Action&quot;</td><td>&quot;374720&quot;</td><td>&quot;en&quot;</td><td>&quot;Dunkirk&quot;</td><td>&quot;30.938854&quot;</td><td>&quot;Canal+&quot;</td><td>&quot;NL&quot;</td><td>&quot;2017&quot;</td><td>107.0</td><td>&quot;English&quot;</td><td>&quot;Released&quot;</td><td>&quot;Dunkirk&quot;</td><td>&quot;False&quot;</td><td>7.5</td><td>2712.0</td><td>8.715901</td><td>5.0</td><td>&quot;&lt;Canton_of_Dun…</td><td>5.0</td></tr><tr><td>&quot;&lt;Bairavaa&gt;&quot;</td><td>&quot;False&quot;</td><td>&quot;0&quot;</td><td>&quot;Action&quot;</td><td>&quot;411717&quot;</td><td>&quot;ta&quot;</td><td>&quot;பைரவா&quot;</td><td>&quot;1.459459&quot;</td><td>&quot;Vijaya Product…</td><td>&quot;IN&quot;</td><td>&quot;2017&quot;</td><td>168.0</td><td>&quot;தமிழ்&quot;</td><td>&quot;Released&quot;</td><td>&quot;Bairavaa&quot;</td><td>&quot;False&quot;</td><td>6.5</td><td>12.0</td><td>7.230449</td><td>0.0</td><td>&quot;nan&quot;</td><td>null</td></tr><tr><td>&quot;&lt;Gymkata&gt;&quot;</td><td>&quot;False&quot;</td><td>&quot;8500000&quot;</td><td>&quot;Action&quot;</td><td>&quot;14570&quot;</td><td>&quot;en&quot;</td><td>&quot;Gymkata&quot;</td><td>&quot;1.542843&quot;</td><td>&quot;Metro-Goldwyn-…</td><td>&quot;US&quot;</td><td>&quot;1985&quot;</td><td>90.0</td><td>&quot;English&quot;</td><td>&quot;Released&quot;</td><td>&quot;Gymkata&quot;</td><td>&quot;False&quot;</td><td>4.7</td><td>14.0</td><td>6.7582</td><td>0.0</td><td>&quot;nan&quot;</td><td>null</td></tr><tr><td>&quot;&lt;Confidential_…</td><td>&quot;False&quot;</td><td>&quot;8520000&quot;</td><td>&quot;Action&quot;</td><td>&quot;434119&quot;</td><td>&quot;ko&quot;</td><td>&quot;공조&quot;</td><td>&quot;1.75859&quot;</td><td>&quot;CJ Entertainme…</td><td>&quot;KR&quot;</td><td>&quot;2017&quot;</td><td>125.0</td><td>&quot;한국어/조선말&quot;</td><td>&quot;Released&quot;</td><td>&quot;Confidential A…</td><td>&quot;False&quot;</td><td>6.2</td><td>5.0</td><td>7.748963</td><td>1.0</td><td>&quot;&lt;South_Korea&gt;&quot;</td><td>1.0</td></tr><tr><td>&quot;&lt;Moka_(film)&gt;&quot;</td><td>&quot;False&quot;</td><td>&quot;0&quot;</td><td>&quot;Drama&quot;</td><td>&quot;408024&quot;</td><td>&quot;fr&quot;</td><td>&quot;Moka&quot;</td><td>&quot;2.404466&quot;</td><td>&quot;Canal+&quot;</td><td>&quot;FR&quot;</td><td>&quot;2016&quot;</td><td>89.0</td><td>&quot;Français&quot;</td><td>&quot;Released&quot;</td><td>&quot;Moka&quot;</td><td>&quot;False&quot;</td><td>6.1</td><td>24.0</td><td>5.101963</td><td>0.0</td><td>&quot;nan&quot;</td><td>null</td></tr><tr><td>&quot;&lt;Good_Time_(fi…</td><td>&quot;False&quot;</td><td>&quot;0&quot;</td><td>&quot;Drama&quot;</td><td>&quot;429200&quot;</td><td>&quot;en&quot;</td><td>&quot;Good Time&quot;</td><td>&quot;5.798555&quot;</td><td>&quot;Rhea Films&quot;</td><td>&quot;US&quot;</td><td>&quot;2017&quot;</td><td>99.0</td><td>&quot;English&quot;</td><td>&quot;Post Productio…</td><td>&quot;Good Time&quot;</td><td>&quot;False&quot;</td><td>7.3</td><td>46.0</td><td>7.037157</td><td>1.0</td><td>&quot;&lt;United_States…</td><td>1.0</td></tr><tr><td>&quot;&lt;FC_Venus&gt;&quot;</td><td>&quot;False&quot;</td><td>&quot;2196531&quot;</td><td>&quot;Comedy&quot;</td><td>&quot;26147&quot;</td><td>&quot;fi&quot;</td><td>&quot;FC Venus&quot;</td><td>&quot;0.947509&quot;</td><td>&quot;Talent House&quot;</td><td>&quot;FI&quot;</td><td>&quot;2005&quot;</td><td>107.0</td><td>&quot;suomi&quot;</td><td>&quot;Released&quot;</td><td>&quot;FC Venus&quot;</td><td>&quot;False&quot;</td><td>5.6</td><td>10.0</td><td>6.382304</td><td>0.0</td><td>&quot;nan&quot;</td><td>null</td></tr><tr><td>&quot;&lt;Wind_River_(f…</td><td>&quot;False&quot;</td><td>&quot;11000000&quot;</td><td>&quot;Action&quot;</td><td>&quot;395834&quot;</td><td>&quot;en&quot;</td><td>&quot;Wind River&quot;</td><td>&quot;40.796775&quot;</td><td>&quot;Thunder Road P…</td><td>&quot;GB&quot;</td><td>&quot;2017&quot;</td><td>111.0</td><td>&quot;English&quot;</td><td>&quot;Released&quot;</td><td>&quot;Wind River&quot;</td><td>&quot;False&quot;</td><td>7.4</td><td>181.0</td><td>8.266632</td><td>0.0</td><td>&quot;nan&quot;</td><td>null</td></tr><tr><td>&quot;&lt;Sahara_(2017_…</td><td>&quot;False&quot;</td><td>&quot;0&quot;</td><td>&quot;Adventure&quot;</td><td>&quot;423453&quot;</td><td>&quot;fr&quot;</td><td>&quot;Sahara&quot;</td><td>&quot;8.665106&quot;</td><td>&quot;StudioCanal&quot;</td><td>&quot;CA&quot;</td><td>&quot;2017&quot;</td><td>86.0</td><td>&quot;English&quot;</td><td>&quot;Released&quot;</td><td>&quot;Sahara&quot;</td><td>&quot;False&quot;</td><td>5.4</td><td>43.0</td><td>6.892095</td><td>0.0</td><td>&quot;nan&quot;</td><td>null</td></tr><tr><td>&quot;&lt;The_Miracle_(…</td><td>&quot;False&quot;</td><td>&quot;0&quot;</td><td>&quot;Drama&quot;</td><td>&quot;240789&quot;</td><td>&quot;ru&quot;</td><td>&quot;Чудо&quot;</td><td>&quot;0.436028&quot;</td><td>&quot;Central Partne…</td><td>&quot;RU&quot;</td><td>&quot;2009&quot;</td><td>110.0</td><td>&quot;Pусский&quot;</td><td>&quot;Released&quot;</td><td>&quot;The Miracle&quot;</td><td>&quot;False&quot;</td><td>6.3</td><td>3.0</td><td>4.704631</td><td>0.0</td><td>&quot;nan&quot;</td><td>null</td></tr></tbody></table></div>"
      ],
      "text/plain": [
       "shape: (3_794, 22)\n",
       "┌────────────┬───────┬──────────┬───────────┬───┬──────────┬────────────┬────────────┬────────────┐\n",
       "│ col_to_emb ┆ adult ┆ budget   ┆ genres    ┆ … ┆ target   ┆ COUNT(yago ┆ MODE(yago_ ┆ NUM_UNIQUE │\n",
       "│ ed         ┆ ---   ┆ ---      ┆ ---       ┆   ┆ ---      ┆ _binary_is ┆ binary_isL ┆ (yago_bina │\n",
       "│ ---        ┆ str   ┆ str      ┆ str       ┆   ┆ f64      ┆ LocatedIn) ┆ ocatedIn.i ┆ ry_isLocat │\n",
       "│ cat        ┆       ┆          ┆           ┆   ┆          ┆ ---        ┆ sL…        ┆ ed…        │\n",
       "│            ┆       ┆          ┆           ┆   ┆          ┆ f64        ┆ ---        ┆ ---        │\n",
       "│            ┆       ┆          ┆           ┆   ┆          ┆            ┆ str        ┆ f64        │\n",
       "╞════════════╪═══════╪══════════╪═══════════╪═══╪══════════╪════════════╪════════════╪════════════╡\n",
       "│ <Toy_Story ┆ False ┆ 30000000 ┆ Animation ┆ … ┆ 8.572353 ┆ 2.0        ┆ <United_St ┆ 1.0        │\n",
       "│ >          ┆       ┆          ┆           ┆   ┆          ┆            ┆ ates>      ┆            │\n",
       "│ <Jumanji>  ┆ False ┆ 65000000 ┆ Adventure ┆ … ┆ 8.419621 ┆ 1.0        ┆ <United_St ┆ 1.0        │\n",
       "│            ┆       ┆          ┆           ┆   ┆          ┆            ┆ ates>      ┆            │\n",
       "│ <Heat_(199 ┆ False ┆ 60000000 ┆ Action    ┆ … ┆ 8.272855 ┆ 2.0        ┆ <United_St ┆ 1.0        │\n",
       "│ 5_film)>   ┆       ┆          ┆           ┆   ┆          ┆            ┆ ates>      ┆            │\n",
       "│ <Sudden_De ┆ False ┆ 35000000 ┆ Action    ┆ … ┆ 7.80855  ┆ 2.0        ┆ <United_St ┆ 1.0        │\n",
       "│ ath_(1995_ ┆       ┆          ┆           ┆   ┆          ┆            ┆ ates>      ┆            │\n",
       "│ film)>     ┆       ┆          ┆           ┆   ┆          ┆            ┆            ┆            │\n",
       "│ …          ┆ …     ┆ …        ┆ …         ┆ … ┆ …        ┆ …          ┆ …          ┆ …          │\n",
       "│ <FC_Venus> ┆ False ┆ 2196531  ┆ Comedy    ┆ … ┆ 6.382304 ┆ 0.0        ┆ nan        ┆ null       │\n",
       "│ <Wind_Rive ┆ False ┆ 11000000 ┆ Action    ┆ … ┆ 8.266632 ┆ 0.0        ┆ nan        ┆ null       │\n",
       "│ r_(film)>  ┆       ┆          ┆           ┆   ┆          ┆            ┆            ┆            │\n",
       "│ <Sahara_(2 ┆ False ┆ 0        ┆ Adventure ┆ … ┆ 6.892095 ┆ 0.0        ┆ nan        ┆ null       │\n",
       "│ 017_film)> ┆       ┆          ┆           ┆   ┆          ┆            ┆            ┆            │\n",
       "│ <The_Mirac ┆ False ┆ 0        ┆ Drama     ┆ … ┆ 4.704631 ┆ 0.0        ┆ nan        ┆ null       │\n",
       "│ le_(2009_f ┆       ┆          ┆           ┆   ┆          ┆            ┆            ┆            │\n",
       "│ ilm)>      ┆       ┆          ┆           ┆   ┆          ┆            ┆            ┆            │\n",
       "└────────────┴───────┴──────────┴───────────┴───┴──────────┴────────────┴────────────┴────────────┘"
      ]
     },
     "execution_count": 45,
     "metadata": {},
     "output_type": "execute_result"
    }
   ],
   "source": [
    "pl.from_pandas(new_df.reset_index())"
   ]
  },
  {
   "cell_type": "code",
   "execution_count": 48,
   "metadata": {},
   "outputs": [
    {
     "name": "stdout",
     "output_type": "stream",
     "text": [
      "adult does not fail, dtype object\n",
      "budget does not fail, dtype object\n",
      "genres does not fail, dtype object\n",
      "id does not fail, dtype object\n",
      "original_language does not fail, dtype object\n",
      "original_title does not fail, dtype object\n",
      "popularity does not fail, dtype object\n",
      "production_companies does not fail, dtype object\n",
      "production_countries does not fail, dtype object\n",
      "release_date does not fail, dtype object\n",
      "runtime does not fail, dtype float64\n",
      "spoken_languages does not fail, dtype object\n",
      "status does not fail, dtype object\n",
      "title does not fail, dtype object\n",
      "video does not fail, dtype object\n",
      "vote_average does not fail, dtype float64\n",
      "vote_count does not fail, dtype float64\n",
      "target does not fail, dtype float64\n",
      "COUNT(yago_binary_isLocatedIn) does not fail, dtype float64\n",
      "MODE(yago_binary_isLocatedIn.isLocatedIn) does not fail, dtype object\n",
      "NUM_UNIQUE(yago_binary_isLocatedIn.isLocatedIn) does not fail, dtype float64\n"
     ]
    }
   ],
   "source": [
    "for col in new_df.columns:\n",
    "    try:\n",
    "        pl.from_pandas(new_df.drop(col, axis=1))\n",
    "        print(f\"{col} does not fail, dtype {new_df[col].dtype}\")\n",
    "    except pl.ComputeError:\n",
    "        # print(f\"{col} fails, dtype {feature_matrix[col].dtype}\")\n",
    "        pass"
   ]
  },
  {
   "cell_type": "code",
   "execution_count": null,
   "metadata": {},
   "outputs": [],
   "source": []
  }
 ],
 "metadata": {
  "kernelspec": {
   "display_name": "bench",
   "language": "python",
   "name": "python3"
  },
  "language_info": {
   "codemirror_mode": {
    "name": "ipython",
    "version": 3
   },
   "file_extension": ".py",
   "mimetype": "text/x-python",
   "name": "python",
   "nbconvert_exporter": "python",
   "pygments_lexer": "ipython3",
   "version": "3.10.10"
  },
  "orig_nbformat": 4
 },
 "nbformat": 4,
 "nbformat_minor": 2
}
