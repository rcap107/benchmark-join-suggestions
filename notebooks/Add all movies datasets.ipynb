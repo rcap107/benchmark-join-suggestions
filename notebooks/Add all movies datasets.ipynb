{
 "cells": [
  {
   "cell_type": "code",
   "execution_count": 1,
   "metadata": {},
   "outputs": [
    {
     "name": "stdout",
     "output_type": "stream",
     "text": [
      "/home/soda/rcappuzz/work/benchmark-join-suggestions\n"
     ]
    }
   ],
   "source": [
    "cd .. "
   ]
  },
  {
   "cell_type": "code",
   "execution_count": 2,
   "metadata": {},
   "outputs": [],
   "source": [
    "import pandas as pd\n",
    "import polars as pl\n",
    "from pathlib import Path"
   ]
  },
  {
   "cell_type": "code",
   "execution_count": null,
   "metadata": {},
   "outputs": [],
   "source": [
    "from src.table_integration.utils_joins import execute_join"
   ]
  },
  {
   "cell_type": "code",
   "execution_count": 3,
   "metadata": {},
   "outputs": [],
   "source": [
    "import polars as pl\n",
    "from catboost import CatBoostRegressor, CatBoostError\n",
    "from sklearn.metrics import mean_squared_error, r2_score\n",
    "from sklearn.model_selection import train_test_split, KFold, cross_val_score\n",
    "from tqdm import tqdm\n",
    "import numpy as np"
   ]
  },
  {
   "cell_type": "code",
   "execution_count": 4,
   "metadata": {},
   "outputs": [],
   "source": [
    "data_dir = \"data/source_tables/ken_datasets/the-movies-dataset/\""
   ]
  },
  {
   "cell_type": "code",
   "execution_count": 5,
   "metadata": {},
   "outputs": [],
   "source": [
    "tab_path = Path(data_dir, \"movies-prepared.parquet\")\n",
    "movies = pl.read_parquet(tab_path)"
   ]
  },
  {
   "cell_type": "code",
   "execution_count": 6,
   "metadata": {},
   "outputs": [],
   "source": [
    "ratings = pl.read_csv(Path(data_dir, \"ratings_small.csv\"))"
   ]
  },
  {
   "cell_type": "code",
   "execution_count": 7,
   "metadata": {},
   "outputs": [],
   "source": [
    "ratings = ratings.with_columns(\n",
    "    pl.col(\"movieId\").cast(pl.Utf8).alias(\"movieId\")\n",
    ")"
   ]
  },
  {
   "cell_type": "code",
   "execution_count": 8,
   "metadata": {},
   "outputs": [],
   "source": [
    "ratings.lazy().join(\n",
    "    movies.lazy(), left_on=\"movieId\", right_on=\"id\"\n",
    ").select(\n",
    "    pl.col([\"userId\",\"movieId\", \"rating\", \"timestamp\", \"col_to_embed\"])\n",
    "    ).collect().write_parquet(Path(data_dir, \"ratings-prepared.parquet\"))"
   ]
  },
  {
   "cell_type": "code",
   "execution_count": 9,
   "metadata": {},
   "outputs": [
    {
     "data": {
      "text/html": [
       "<div><style>\n",
       ".dataframe > thead > tr > th,\n",
       ".dataframe > tbody > tr > td {\n",
       "  text-align: right;\n",
       "}\n",
       "</style>\n",
       "<small>shape: (3_853, 19)</small><table border=\"1\" class=\"dataframe\"><thead><tr><th>adult</th><th>budget</th><th>genres</th><th>id</th><th>original_language</th><th>original_title</th><th>popularity</th><th>production_companies</th><th>production_countries</th><th>release_date</th><th>runtime</th><th>spoken_languages</th><th>status</th><th>title</th><th>video</th><th>vote_average</th><th>vote_count</th><th>col_to_embed</th><th>target</th></tr><tr><td>str</td><td>str</td><td>str</td><td>str</td><td>str</td><td>str</td><td>str</td><td>str</td><td>str</td><td>str</td><td>f64</td><td>str</td><td>str</td><td>str</td><td>bool</td><td>f64</td><td>f64</td><td>str</td><td>f64</td></tr></thead><tbody><tr><td>&quot;False&quot;</td><td>&quot;30000000&quot;</td><td>&quot;Animation&quot;</td><td>&quot;862&quot;</td><td>&quot;en&quot;</td><td>&quot;Toy Story&quot;</td><td>&quot;21.946943&quot;</td><td>&quot;Pixar Animatio…</td><td>&quot;US&quot;</td><td>&quot;1995&quot;</td><td>81.0</td><td>&quot;English&quot;</td><td>&quot;Released&quot;</td><td>&quot;Toy Story&quot;</td><td>false</td><td>7.7</td><td>5415.0</td><td>&quot;&lt;Toy_Story&gt;&quot;</td><td>8.572353</td></tr><tr><td>&quot;False&quot;</td><td>&quot;65000000&quot;</td><td>&quot;Adventure&quot;</td><td>&quot;8844&quot;</td><td>&quot;en&quot;</td><td>&quot;Jumanji&quot;</td><td>&quot;17.015539&quot;</td><td>&quot;TriStar Pictur…</td><td>&quot;US&quot;</td><td>&quot;1995&quot;</td><td>104.0</td><td>&quot;English&quot;</td><td>&quot;Released&quot;</td><td>&quot;Jumanji&quot;</td><td>false</td><td>6.9</td><td>2413.0</td><td>&quot;&lt;Jumanji&gt;&quot;</td><td>8.419621</td></tr><tr><td>&quot;False&quot;</td><td>&quot;60000000&quot;</td><td>&quot;Action&quot;</td><td>&quot;949&quot;</td><td>&quot;en&quot;</td><td>&quot;Heat&quot;</td><td>&quot;17.924927&quot;</td><td>&quot;Regency Enterp…</td><td>&quot;US&quot;</td><td>&quot;1995&quot;</td><td>170.0</td><td>&quot;English&quot;</td><td>&quot;Released&quot;</td><td>&quot;Heat&quot;</td><td>false</td><td>7.7</td><td>1886.0</td><td>&quot;&lt;Heat_(1995_fi…</td><td>8.272855</td></tr><tr><td>&quot;False&quot;</td><td>&quot;35000000&quot;</td><td>&quot;Action&quot;</td><td>&quot;9091&quot;</td><td>&quot;en&quot;</td><td>&quot;Sudden Death&quot;</td><td>&quot;5.23158&quot;</td><td>&quot;Universal Pict…</td><td>&quot;US&quot;</td><td>&quot;1995&quot;</td><td>106.0</td><td>&quot;English&quot;</td><td>&quot;Released&quot;</td><td>&quot;Sudden Death&quot;</td><td>false</td><td>5.5</td><td>174.0</td><td>&quot;&lt;Sudden_Death_…</td><td>7.80855</td></tr><tr><td>&quot;False&quot;</td><td>&quot;0&quot;</td><td>&quot;Family&quot;</td><td>&quot;21032&quot;</td><td>&quot;en&quot;</td><td>&quot;Balto&quot;</td><td>&quot;12.140733&quot;</td><td>&quot;Universal Pict…</td><td>&quot;US&quot;</td><td>&quot;1995&quot;</td><td>78.0</td><td>&quot;English&quot;</td><td>&quot;Released&quot;</td><td>&quot;Balto&quot;</td><td>false</td><td>7.1</td><td>423.0</td><td>&quot;&lt;Balto_(film)&gt;…</td><td>7.054932</td></tr><tr><td>&quot;False&quot;</td><td>&quot;44000000&quot;</td><td>&quot;History&quot;</td><td>&quot;10858&quot;</td><td>&quot;en&quot;</td><td>&quot;Nixon&quot;</td><td>&quot;5.092&quot;</td><td>&quot;Hollywood Pict…</td><td>&quot;US&quot;</td><td>&quot;1995&quot;</td><td>192.0</td><td>&quot;English&quot;</td><td>&quot;Released&quot;</td><td>&quot;Nixon&quot;</td><td>false</td><td>7.1</td><td>72.0</td><td>&quot;&lt;Nixon_(film)&gt;…</td><td>7.136142</td></tr><tr><td>&quot;False&quot;</td><td>&quot;98000000&quot;</td><td>&quot;Action&quot;</td><td>&quot;1408&quot;</td><td>&quot;en&quot;</td><td>&quot;Cutthroat Isla…</td><td>&quot;7.284477&quot;</td><td>&quot;Le Studio Cana…</td><td>&quot;FR&quot;</td><td>&quot;1995&quot;</td><td>119.0</td><td>&quot;English&quot;</td><td>&quot;Released&quot;</td><td>&quot;Cutthroat Isla…</td><td>false</td><td>5.7</td><td>137.0</td><td>&quot;&lt;Cutthroat_Isl…</td><td>7.000752</td></tr><tr><td>&quot;False&quot;</td><td>&quot;52000000&quot;</td><td>&quot;Drama&quot;</td><td>&quot;524&quot;</td><td>&quot;en&quot;</td><td>&quot;Casino&quot;</td><td>&quot;10.137389&quot;</td><td>&quot;Universal Pict…</td><td>&quot;FR&quot;</td><td>&quot;1995&quot;</td><td>178.0</td><td>&quot;English&quot;</td><td>&quot;Released&quot;</td><td>&quot;Casino&quot;</td><td>false</td><td>7.8</td><td>1343.0</td><td>&quot;&lt;Casino_(1995_…</td><td>8.064879</td></tr><tr><td>&quot;False&quot;</td><td>&quot;4000000&quot;</td><td>&quot;Crime&quot;</td><td>&quot;5&quot;</td><td>&quot;en&quot;</td><td>&quot;Four Rooms&quot;</td><td>&quot;9.026586&quot;</td><td>&quot;Miramax Films&quot;</td><td>&quot;US&quot;</td><td>&quot;1995&quot;</td><td>98.0</td><td>&quot;English&quot;</td><td>&quot;Released&quot;</td><td>&quot;Four Rooms&quot;</td><td>false</td><td>6.5</td><td>539.0</td><td>&quot;&lt;Four_Rooms&gt;&quot;</td><td>6.633468</td></tr><tr><td>&quot;False&quot;</td><td>&quot;60000000&quot;</td><td>&quot;Action&quot;</td><td>&quot;11517&quot;</td><td>&quot;en&quot;</td><td>&quot;Money Train&quot;</td><td>&quot;7.337906&quot;</td><td>&quot;Columbia Pictu…</td><td>&quot;US&quot;</td><td>&quot;1995&quot;</td><td>103.0</td><td>&quot;English&quot;</td><td>&quot;Released&quot;</td><td>&quot;Money Train&quot;</td><td>false</td><td>5.4</td><td>224.0</td><td>&quot;&lt;Money_Train&gt;&quot;</td><td>7.549385</td></tr><tr><td>&quot;False&quot;</td><td>&quot;30250000&quot;</td><td>&quot;Comedy&quot;</td><td>&quot;8012&quot;</td><td>&quot;en&quot;</td><td>&quot;Get Shorty&quot;</td><td>&quot;12.669608&quot;</td><td>&quot;Jersey Films&quot;</td><td>&quot;US&quot;</td><td>&quot;1995&quot;</td><td>105.0</td><td>&quot;English&quot;</td><td>&quot;Released&quot;</td><td>&quot;Get Shorty&quot;</td><td>false</td><td>6.4</td><td>305.0</td><td>&quot;&lt;Get_Shorty_(f…</td><td>8.061081</td></tr><tr><td>&quot;False&quot;</td><td>&quot;50000000&quot;</td><td>&quot;Action&quot;</td><td>&quot;9691&quot;</td><td>&quot;en&quot;</td><td>&quot;Assassins&quot;</td><td>&quot;11.065939&quot;</td><td>&quot;Silver Picture…</td><td>&quot;FR&quot;</td><td>&quot;1995&quot;</td><td>132.0</td><td>&quot;English&quot;</td><td>&quot;Released&quot;</td><td>&quot;Assassins&quot;</td><td>false</td><td>6.0</td><td>394.0</td><td>&quot;&lt;Assassins_(19…</td><td>7.481487</td></tr><tr><td>&hellip;</td><td>&hellip;</td><td>&hellip;</td><td>&hellip;</td><td>&hellip;</td><td>&hellip;</td><td>&hellip;</td><td>&hellip;</td><td>&hellip;</td><td>&hellip;</td><td>&hellip;</td><td>&hellip;</td><td>&hellip;</td><td>&hellip;</td><td>&hellip;</td><td>&hellip;</td><td>&hellip;</td><td>&hellip;</td><td>&hellip;</td></tr><tr><td>&quot;False&quot;</td><td>&quot;100000000&quot;</td><td>&quot;Action&quot;</td><td>&quot;374720&quot;</td><td>&quot;en&quot;</td><td>&quot;Dunkirk&quot;</td><td>&quot;30.938854&quot;</td><td>&quot;Canal+&quot;</td><td>&quot;NL&quot;</td><td>&quot;2017&quot;</td><td>107.0</td><td>&quot;English&quot;</td><td>&quot;Released&quot;</td><td>&quot;Dunkirk&quot;</td><td>false</td><td>7.5</td><td>2712.0</td><td>&quot;&lt;Dunkirk_(2017…</td><td>8.715901</td></tr><tr><td>&quot;False&quot;</td><td>&quot;100000000&quot;</td><td>&quot;Action&quot;</td><td>&quot;374720&quot;</td><td>&quot;en&quot;</td><td>&quot;Dunkirk&quot;</td><td>&quot;30.938854&quot;</td><td>&quot;Canal+&quot;</td><td>&quot;NL&quot;</td><td>&quot;2017&quot;</td><td>107.0</td><td>&quot;English&quot;</td><td>&quot;Released&quot;</td><td>&quot;Dunkirk&quot;</td><td>false</td><td>7.5</td><td>2712.0</td><td>&quot;&lt;Dunkirk&gt;&quot;</td><td>8.715901</td></tr><tr><td>&quot;False&quot;</td><td>&quot;0&quot;</td><td>&quot;Action&quot;</td><td>&quot;411717&quot;</td><td>&quot;ta&quot;</td><td>&quot;பைரவா&quot;</td><td>&quot;1.459459&quot;</td><td>&quot;Vijaya Product…</td><td>&quot;IN&quot;</td><td>&quot;2017&quot;</td><td>168.0</td><td>&quot;தமிழ்&quot;</td><td>&quot;Released&quot;</td><td>&quot;Bairavaa&quot;</td><td>false</td><td>6.5</td><td>12.0</td><td>&quot;&lt;Bairavaa&gt;&quot;</td><td>7.230449</td></tr><tr><td>&quot;False&quot;</td><td>&quot;8500000&quot;</td><td>&quot;Action&quot;</td><td>&quot;14570&quot;</td><td>&quot;en&quot;</td><td>&quot;Gymkata&quot;</td><td>&quot;1.542843&quot;</td><td>&quot;Metro-Goldwyn-…</td><td>&quot;US&quot;</td><td>&quot;1985&quot;</td><td>90.0</td><td>&quot;English&quot;</td><td>&quot;Released&quot;</td><td>&quot;Gymkata&quot;</td><td>false</td><td>4.7</td><td>14.0</td><td>&quot;&lt;Gymkata&gt;&quot;</td><td>6.7582</td></tr><tr><td>&quot;False&quot;</td><td>&quot;8520000&quot;</td><td>&quot;Action&quot;</td><td>&quot;434119&quot;</td><td>&quot;ko&quot;</td><td>&quot;공조&quot;</td><td>&quot;1.75859&quot;</td><td>&quot;CJ Entertainme…</td><td>&quot;KR&quot;</td><td>&quot;2017&quot;</td><td>125.0</td><td>&quot;한국어/조선말&quot;</td><td>&quot;Released&quot;</td><td>&quot;Confidential A…</td><td>false</td><td>6.2</td><td>5.0</td><td>&quot;&lt;Confidential_…</td><td>7.748963</td></tr><tr><td>&quot;False&quot;</td><td>&quot;0&quot;</td><td>&quot;Drama&quot;</td><td>&quot;408024&quot;</td><td>&quot;fr&quot;</td><td>&quot;Moka&quot;</td><td>&quot;2.404466&quot;</td><td>&quot;Canal+&quot;</td><td>&quot;FR&quot;</td><td>&quot;2016&quot;</td><td>89.0</td><td>&quot;Français&quot;</td><td>&quot;Released&quot;</td><td>&quot;Moka&quot;</td><td>false</td><td>6.1</td><td>24.0</td><td>&quot;&lt;Moka_(film)&gt;&quot;</td><td>5.101963</td></tr><tr><td>&quot;False&quot;</td><td>&quot;0&quot;</td><td>&quot;Drama&quot;</td><td>&quot;429200&quot;</td><td>&quot;en&quot;</td><td>&quot;Good Time&quot;</td><td>&quot;5.798555&quot;</td><td>&quot;Rhea Films&quot;</td><td>&quot;US&quot;</td><td>&quot;2017&quot;</td><td>99.0</td><td>&quot;English&quot;</td><td>&quot;Post Productio…</td><td>&quot;Good Time&quot;</td><td>false</td><td>7.3</td><td>46.0</td><td>&quot;&lt;Good_Time_(fi…</td><td>7.037157</td></tr><tr><td>&quot;False&quot;</td><td>&quot;2196531&quot;</td><td>&quot;Comedy&quot;</td><td>&quot;26147&quot;</td><td>&quot;fi&quot;</td><td>&quot;FC Venus&quot;</td><td>&quot;0.947509&quot;</td><td>&quot;Talent House&quot;</td><td>&quot;FI&quot;</td><td>&quot;2005&quot;</td><td>107.0</td><td>&quot;suomi&quot;</td><td>&quot;Released&quot;</td><td>&quot;FC Venus&quot;</td><td>false</td><td>5.6</td><td>10.0</td><td>&quot;&lt;FC_Venus&gt;&quot;</td><td>6.382304</td></tr><tr><td>&quot;False&quot;</td><td>&quot;11000000&quot;</td><td>&quot;Action&quot;</td><td>&quot;395834&quot;</td><td>&quot;en&quot;</td><td>&quot;Wind River&quot;</td><td>&quot;40.796775&quot;</td><td>&quot;Thunder Road P…</td><td>&quot;GB&quot;</td><td>&quot;2017&quot;</td><td>111.0</td><td>&quot;English&quot;</td><td>&quot;Released&quot;</td><td>&quot;Wind River&quot;</td><td>false</td><td>7.4</td><td>181.0</td><td>&quot;&lt;Wind_River_(f…</td><td>8.266632</td></tr><tr><td>&quot;False&quot;</td><td>&quot;0&quot;</td><td>&quot;Adventure&quot;</td><td>&quot;423453&quot;</td><td>&quot;fr&quot;</td><td>&quot;Sahara&quot;</td><td>&quot;8.665106&quot;</td><td>&quot;StudioCanal&quot;</td><td>&quot;CA&quot;</td><td>&quot;2017&quot;</td><td>86.0</td><td>&quot;English&quot;</td><td>&quot;Released&quot;</td><td>&quot;Sahara&quot;</td><td>false</td><td>5.4</td><td>43.0</td><td>&quot;&lt;Sahara_(2017_…</td><td>6.892095</td></tr><tr><td>&quot;False&quot;</td><td>&quot;0&quot;</td><td>&quot;Adventure&quot;</td><td>&quot;423453&quot;</td><td>&quot;fr&quot;</td><td>&quot;Sahara&quot;</td><td>&quot;8.665106&quot;</td><td>&quot;StudioCanal&quot;</td><td>&quot;CA&quot;</td><td>&quot;2017&quot;</td><td>86.0</td><td>&quot;English&quot;</td><td>&quot;Released&quot;</td><td>&quot;Sahara&quot;</td><td>false</td><td>5.4</td><td>43.0</td><td>&quot;&lt;Sahara&gt;&quot;</td><td>6.892095</td></tr><tr><td>&quot;False&quot;</td><td>&quot;0&quot;</td><td>&quot;Drama&quot;</td><td>&quot;240789&quot;</td><td>&quot;ru&quot;</td><td>&quot;Чудо&quot;</td><td>&quot;0.436028&quot;</td><td>&quot;Central Partne…</td><td>&quot;RU&quot;</td><td>&quot;2009&quot;</td><td>110.0</td><td>&quot;Pусский&quot;</td><td>&quot;Released&quot;</td><td>&quot;The Miracle&quot;</td><td>false</td><td>6.3</td><td>3.0</td><td>&quot;&lt;The_Miracle_(…</td><td>4.704631</td></tr></tbody></table></div>"
      ],
      "text/plain": [
       "shape: (3_853, 19)\n",
       "┌───────┬──────────┬───────────┬────────┬───┬──────────────┬────────────┬───────────────┬──────────┐\n",
       "│ adult ┆ budget   ┆ genres    ┆ id     ┆ … ┆ vote_average ┆ vote_count ┆ col_to_embed  ┆ target   │\n",
       "│ ---   ┆ ---      ┆ ---       ┆ ---    ┆   ┆ ---          ┆ ---        ┆ ---           ┆ ---      │\n",
       "│ str   ┆ str      ┆ str       ┆ str    ┆   ┆ f64          ┆ f64        ┆ str           ┆ f64      │\n",
       "╞═══════╪══════════╪═══════════╪════════╪═══╪══════════════╪════════════╪═══════════════╪══════════╡\n",
       "│ False ┆ 30000000 ┆ Animation ┆ 862    ┆ … ┆ 7.7          ┆ 5415.0     ┆ <Toy_Story>   ┆ 8.572353 │\n",
       "│ False ┆ 65000000 ┆ Adventure ┆ 8844   ┆ … ┆ 6.9          ┆ 2413.0     ┆ <Jumanji>     ┆ 8.419621 │\n",
       "│ False ┆ 60000000 ┆ Action    ┆ 949    ┆ … ┆ 7.7          ┆ 1886.0     ┆ <Heat_(1995_f ┆ 8.272855 │\n",
       "│       ┆          ┆           ┆        ┆   ┆              ┆            ┆ ilm)>         ┆          │\n",
       "│ False ┆ 35000000 ┆ Action    ┆ 9091   ┆ … ┆ 5.5          ┆ 174.0      ┆ <Sudden_Death ┆ 7.80855  │\n",
       "│       ┆          ┆           ┆        ┆   ┆              ┆            ┆ _(1995_film)> ┆          │\n",
       "│ …     ┆ …        ┆ …         ┆ …      ┆ … ┆ …            ┆ …          ┆ …             ┆ …        │\n",
       "│ False ┆ 11000000 ┆ Action    ┆ 395834 ┆ … ┆ 7.4          ┆ 181.0      ┆ <Wind_River_( ┆ 8.266632 │\n",
       "│       ┆          ┆           ┆        ┆   ┆              ┆            ┆ film)>        ┆          │\n",
       "│ False ┆ 0        ┆ Adventure ┆ 423453 ┆ … ┆ 5.4          ┆ 43.0       ┆ <Sahara_(2017 ┆ 6.892095 │\n",
       "│       ┆          ┆           ┆        ┆   ┆              ┆            ┆ _film)>       ┆          │\n",
       "│ False ┆ 0        ┆ Adventure ┆ 423453 ┆ … ┆ 5.4          ┆ 43.0       ┆ <Sahara>      ┆ 6.892095 │\n",
       "│ False ┆ 0        ┆ Drama     ┆ 240789 ┆ … ┆ 6.3          ┆ 3.0        ┆ <The_Miracle_ ┆ 4.704631 │\n",
       "│       ┆          ┆           ┆        ┆   ┆              ┆            ┆ (2009_film)>  ┆          │\n",
       "└───────┴──────────┴───────────┴────────┴───┴──────────────┴────────────┴───────────────┴──────────┘"
      ]
     },
     "execution_count": 9,
     "metadata": {},
     "output_type": "execute_result"
    }
   ],
   "source": [
    "movies"
   ]
  },
  {
   "cell_type": "code",
   "execution_count": 10,
   "metadata": {},
   "outputs": [],
   "source": [
    "credits = pl.read_csv(Path(data_dir, \"credits.csv\"))"
   ]
  },
  {
   "cell_type": "code",
   "execution_count": 11,
   "metadata": {},
   "outputs": [
    {
     "data": {
      "text/html": [
       "<div><style>\n",
       ".dataframe > thead > tr > th,\n",
       ".dataframe > tbody > tr > td {\n",
       "  text-align: right;\n",
       "}\n",
       "</style>\n",
       "<small>shape: (45_476, 3)</small><table border=\"1\" class=\"dataframe\"><thead><tr><th>cast</th><th>crew</th><th>id</th></tr><tr><td>str</td><td>str</td><td>i64</td></tr></thead><tbody><tr><td>&quot;[{&#x27;cast_id&#x27;: 1…</td><td>&quot;[{&#x27;credit_id&#x27;:…</td><td>862</td></tr><tr><td>&quot;[{&#x27;cast_id&#x27;: 1…</td><td>&quot;[{&#x27;credit_id&#x27;:…</td><td>8844</td></tr><tr><td>&quot;[{&#x27;cast_id&#x27;: 2…</td><td>&quot;[{&#x27;credit_id&#x27;:…</td><td>15602</td></tr><tr><td>&quot;[{&#x27;cast_id&#x27;: 1…</td><td>&quot;[{&#x27;credit_id&#x27;:…</td><td>31357</td></tr><tr><td>&quot;[{&#x27;cast_id&#x27;: 1…</td><td>&quot;[{&#x27;credit_id&#x27;:…</td><td>11862</td></tr><tr><td>&quot;[{&#x27;cast_id&#x27;: 2…</td><td>&quot;[{&#x27;credit_id&#x27;:…</td><td>949</td></tr><tr><td>&quot;[{&#x27;cast_id&#x27;: 1…</td><td>&quot;[{&#x27;credit_id&#x27;:…</td><td>11860</td></tr><tr><td>&quot;[{&#x27;cast_id&#x27;: 2…</td><td>&quot;[{&#x27;credit_id&#x27;:…</td><td>45325</td></tr><tr><td>&quot;[{&#x27;cast_id&#x27;: 1…</td><td>&quot;[{&#x27;credit_id&#x27;:…</td><td>9091</td></tr><tr><td>&quot;[{&#x27;cast_id&#x27;: 1…</td><td>&quot;[{&#x27;credit_id&#x27;:…</td><td>710</td></tr><tr><td>&quot;[{&#x27;cast_id&#x27;: 1…</td><td>&quot;[{&#x27;credit_id&#x27;:…</td><td>9087</td></tr><tr><td>&quot;[{&#x27;cast_id&#x27;: 9…</td><td>&quot;[{&#x27;credit_id&#x27;:…</td><td>12110</td></tr><tr><td>&hellip;</td><td>&hellip;</td><td>&hellip;</td></tr><tr><td>&quot;[{&#x27;cast_id&#x27;: 0…</td><td>&quot;[{&#x27;credit_id&#x27;:…</td><td>420346</td></tr><tr><td>&quot;[{&#x27;cast_id&#x27;: 5…</td><td>&quot;[{&#x27;credit_id&#x27;:…</td><td>67179</td></tr><tr><td>&quot;[{&#x27;cast_id&#x27;: 5…</td><td>&quot;[{&#x27;credit_id&#x27;:…</td><td>84419</td></tr><tr><td>&quot;[{&#x27;cast_id&#x27;: 3…</td><td>&quot;[{&#x27;credit_id&#x27;:…</td><td>390959</td></tr><tr><td>&quot;[{&#x27;cast_id&#x27;: 2…</td><td>&quot;[{&#x27;credit_id&#x27;:…</td><td>289923</td></tr><tr><td>&quot;[{&#x27;cast_id&#x27;: 1…</td><td>&quot;[{&#x27;credit_id&#x27;:…</td><td>222848</td></tr><tr><td>&quot;[{&#x27;cast_id&#x27;: 1…</td><td>&quot;[{&#x27;credit_id&#x27;:…</td><td>30840</td></tr><tr><td>&quot;[{&#x27;cast_id&#x27;: 0…</td><td>&quot;[{&#x27;credit_id&#x27;:…</td><td>439050</td></tr><tr><td>&quot;[{&#x27;cast_id&#x27;: 1…</td><td>&quot;[{&#x27;credit_id&#x27;:…</td><td>111109</td></tr><tr><td>&quot;[{&#x27;cast_id&#x27;: 6…</td><td>&quot;[{&#x27;credit_id&#x27;:…</td><td>67758</td></tr><tr><td>&quot;[{&#x27;cast_id&#x27;: 2…</td><td>&quot;[{&#x27;credit_id&#x27;:…</td><td>227506</td></tr><tr><td>&quot;[]&quot;</td><td>&quot;[{&#x27;credit_id&#x27;:…</td><td>461257</td></tr></tbody></table></div>"
      ],
      "text/plain": [
       "shape: (45_476, 3)\n",
       "┌───────────────────────────────────┬───────────────────────────────────┬────────┐\n",
       "│ cast                              ┆ crew                              ┆ id     │\n",
       "│ ---                               ┆ ---                               ┆ ---    │\n",
       "│ str                               ┆ str                               ┆ i64    │\n",
       "╞═══════════════════════════════════╪═══════════════════════════════════╪════════╡\n",
       "│ [{'cast_id': 14, 'character': 'W… ┆ [{'credit_id': '52fe4284c3a36847… ┆ 862    │\n",
       "│ [{'cast_id': 1, 'character': 'Al… ┆ [{'credit_id': '52fe44bfc3a36847… ┆ 8844   │\n",
       "│ [{'cast_id': 2, 'character': 'Ma… ┆ [{'credit_id': '52fe466a9251416c… ┆ 15602  │\n",
       "│ [{'cast_id': 1, 'character': \"Sa… ┆ [{'credit_id': '52fe44779251416c… ┆ 31357  │\n",
       "│ …                                 ┆ …                                 ┆ …      │\n",
       "│ [{'cast_id': 1002, 'character': … ┆ [{'credit_id': '52fe4af1c3a36847… ┆ 111109 │\n",
       "│ [{'cast_id': 6, 'character': 'Em… ┆ [{'credit_id': '52fe4776c3a36848… ┆ 67758  │\n",
       "│ [{'cast_id': 2, 'character': '',… ┆ [{'credit_id': '533bccebc3a36844… ┆ 227506 │\n",
       "│ []                                ┆ [{'credit_id': '593e676c92514105… ┆ 461257 │\n",
       "└───────────────────────────────────┴───────────────────────────────────┴────────┘"
      ]
     },
     "execution_count": 11,
     "metadata": {},
     "output_type": "execute_result"
    }
   ],
   "source": [
    "credits"
   ]
  },
  {
   "attachments": {},
   "cell_type": "markdown",
   "metadata": {},
   "source": [
    "# Create metadata"
   ]
  },
  {
   "cell_type": "code",
   "execution_count": 12,
   "metadata": {},
   "outputs": [],
   "source": [
    "from src.utils.data_structures import RawDataset\n",
    "dataset_path = Path(data_dir, \"ratings-prepared.parquet\")\n",
    "dataset_source = \"ken_datasets\"\n",
    "metadata_dest = \"data/metadata/extra\"\n",
    "ds = RawDataset(dataset_path, dataset_source, metadata_dest)\n",
    "ds.save_metadata_to_json()\n"
   ]
  },
  {
   "cell_type": "code",
   "execution_count": 68,
   "metadata": {},
   "outputs": [],
   "source": [
    "tab_path = Path(data_dir, \"movies-prepared.parquet\")\n",
    "movies = pl.read_parquet(tab_path)\n",
    "tab_path = Path(data_dir, \"ratings-prepared.parquet\")\n",
    "ratings = pl.read_parquet(tab_path)\n"
   ]
  },
  {
   "cell_type": "code",
   "execution_count": 69,
   "metadata": {},
   "outputs": [],
   "source": [
    "def measure_rmse(y_true, y_pred, squared=False):\n",
    "    rmse = mean_squared_error(y_true, y_pred, squared=squared)\n",
    "    return rmse\n",
    "\n",
    "\n",
    "def measure_r2(y_true, y_pred):\n",
    "    r2 = r2_score(y_true, y_pred)\n",
    "    return r2\n"
   ]
  },
  {
   "cell_type": "code",
   "execution_count": 72,
   "metadata": {},
   "outputs": [
    {
     "name": "stdout",
     "output_type": "stream",
     "text": [
      "rmse 0.47\n",
      "r2 0.62\n"
     ]
    }
   ],
   "source": [
    "src_df = execute_join(movies, ratings, left_on=[\"col_to_embed\"], right_on=[\"col_to_embed\"], how=\"left\", dedup=True)\n",
    "\n",
    "target_column = \"target\"\n",
    "iterations = 1000\n",
    "cat_features = [k for k, v in src_df.schema.items() if v == pl.Utf8]\n",
    "\n",
    "y = src_df[target_column].to_pandas()\n",
    "df = src_df.drop(target_column).to_pandas()\n",
    "df = df.fillna(\"null\")\n",
    "\n",
    "k_fold = KFold(n_splits=5)\n",
    "\n",
    "r2_list = []\n",
    "rmse_list = []\n",
    "\n",
    "\n",
    "if len(df) < 5:\n",
    "    raise ValueError\n",
    "\n",
    "for train_indices, test_indices in k_fold.split(df):\n",
    "    X_train = df.iloc[train_indices]\n",
    "    y_train = y[train_indices]\n",
    "    X_test = df.iloc[test_indices]\n",
    "    y_test = y[test_indices]\n",
    "\n",
    "    model = CatBoostRegressor(cat_features=cat_features, \n",
    "                                iterations=iterations,\n",
    "                                )\n",
    "    model.fit(X_train, y_train, verbose=0)\n",
    "    y_pred = model.predict(X_test)\n",
    "    rmse = measure_rmse(y_test, y_pred)\n",
    "    r2score = measure_r2(y_test, y_pred)\n",
    "\n",
    "    r2_list.append(r2score)\n",
    "    rmse_list.append(rmse)\n",
    "    \n",
    "print(\"rmse %.2f\" % np.mean(rmse))\n",
    "print(\"r2 %.2f\" % np.mean(r2_list))"
   ]
  },
  {
   "cell_type": "code",
   "execution_count": 74,
   "metadata": {},
   "outputs": [
    {
     "name": "stdout",
     "output_type": "stream",
     "text": [
      "rmse 0.88\n",
      "r2 0.54\n"
     ]
    }
   ],
   "source": [
    "src_df = execute_join(movies, ratings, left_on=[\"col_to_embed\"], right_on=[\"col_to_embed\"], how=\"left\", dedup=False)\n",
    "\n",
    "target_column = \"target\"\n",
    "iterations = 1000\n",
    "cat_features = [k for k, v in src_df.schema.items() if v == pl.Utf8]\n",
    "\n",
    "y = src_df[target_column].to_pandas()\n",
    "df = src_df.drop(target_column).to_pandas()\n",
    "df = df.fillna(\"null\")\n",
    "\n",
    "k_fold = KFold(n_splits=5)\n",
    "\n",
    "r2_list = []\n",
    "rmse_list = []\n",
    "\n",
    "\n",
    "if len(df) < 5:\n",
    "    raise ValueError\n",
    "\n",
    "for train_indices, test_indices in k_fold.split(df):\n",
    "    X_train = df.iloc[train_indices]\n",
    "    y_train = y[train_indices]\n",
    "    X_test = df.iloc[test_indices]\n",
    "    y_test = y[test_indices]\n",
    "\n",
    "    model = CatBoostRegressor(cat_features=cat_features, \n",
    "                                iterations=iterations,\n",
    "                                )\n",
    "    model.fit(X_train, y_train, verbose=0)\n",
    "    y_pred = model.predict(X_test)\n",
    "    rmse = measure_rmse(y_test, y_pred)\n",
    "    r2score = measure_r2(y_test, y_pred)\n",
    "\n",
    "    r2_list.append(r2score)\n",
    "    rmse_list.append(rmse)\n",
    "    \n",
    "print(\"rmse %.2f\" % np.mean(rmse))\n",
    "print(\"r2 %.2f\" % np.mean(r2_list))"
   ]
  },
  {
   "cell_type": "code",
   "execution_count": 73,
   "metadata": {},
   "outputs": [
    {
     "name": "stdout",
     "output_type": "stream",
     "text": [
      "rmse 1.12\n",
      "r2 0.48\n"
     ]
    }
   ],
   "source": [
    "src_df = movies\n",
    "target_column = \"target\"\n",
    "iterations = 1000\n",
    "cat_features = [k for k, v in src_df.schema.items() if v == pl.Utf8]\n",
    "y = src_df[target_column].to_pandas()\n",
    "df = src_df.drop(target_column).to_pandas()\n",
    "df = df.fillna(\"null\")\n",
    "\n",
    "k_fold = KFold(n_splits=5)\n",
    "\n",
    "r2_list = []\n",
    "rmse_list = []\n",
    "\n",
    "\n",
    "if len(df) < 5:\n",
    "    raise ValueError\n",
    "\n",
    "for train_indices, test_indices in k_fold.split(df):\n",
    "    X_train = df.iloc[train_indices]\n",
    "    y_train = y[train_indices]\n",
    "    X_test = df.iloc[test_indices]\n",
    "    y_test = y[test_indices]\n",
    "\n",
    "    model = CatBoostRegressor(cat_features=cat_features, \n",
    "                                iterations=iterations,\n",
    "                                )\n",
    "    model.fit(X_train, y_train, verbose=0)\n",
    "    y_pred = model.predict(X_test)\n",
    "    rmse = measure_rmse(y_test, y_pred)\n",
    "    r2score = measure_r2(y_test, y_pred)\n",
    "\n",
    "    r2_list.append(r2score)\n",
    "    rmse_list.append(rmse)\n",
    "\n",
    "print(\"rmse %.2f\" % np.mean(rmse))\n",
    "print(\"r2 %.2f\" % np.mean(r2_list))"
   ]
  },
  {
   "cell_type": "code",
   "execution_count": null,
   "metadata": {},
   "outputs": [],
   "source": []
  }
 ],
 "metadata": {
  "kernelspec": {
   "display_name": "bench",
   "language": "python",
   "name": "python3"
  },
  "language_info": {
   "codemirror_mode": {
    "name": "ipython",
    "version": 3
   },
   "file_extension": ".py",
   "mimetype": "text/x-python",
   "name": "python",
   "nbconvert_exporter": "python",
   "pygments_lexer": "ipython3",
   "version": "3.10.10"
  },
  "orig_nbformat": 4
 },
 "nbformat": 4,
 "nbformat_minor": 2
}
